{
  "cells": [
    {
      "cell_type": "markdown",
      "metadata": {
        "colab_type": "text",
        "id": "view-in-github"
      },
      "source": [
        "<a href=\"https://colab.research.google.com/github/anshupandey/prompt_engineering/blob/main/code1_prompt_engineering_fundamentals.ipynb\" target=\"_parent\"><img src=\"https://colab.research.google.com/assets/colab-badge.svg\" alt=\"Open In Colab\"/></a>"
      ]
    },
    {
      "cell_type": "markdown",
      "metadata": {
        "id": "Rr0_RIhOerKl"
      },
      "source": [
        "# Prompt Engineering with OpenAI LLMs"
      ]
    },
    {
      "cell_type": "markdown",
      "metadata": {
        "id": "Nz0bz_xlerKp"
      },
      "source": [
        "Notebook available at: https://github.com/Bluedata-Consulting/GAAI-B4-Azure/blob/main/SELFLEARNING/code3_prompt_engineering_fundamentals.ipynb"
      ]
    },
    {
      "cell_type": "code",
      "execution_count": 1,
      "metadata": {
        "id": "hCfQdmcomTyL"
      },
      "outputs": [],
      "source": [
        "import os\n",
        "from openai import AzureOpenAI"
      ]
    },
    {
      "cell_type": "code",
      "execution_count": 4,
      "metadata": {
        "id": "25-Pe4z4mzMF"
      },
      "outputs": [],
      "source": [
        "client = AzureOpenAI()"
      ]
    },
    {
      "cell_type": "code",
      "execution_count": 6,
      "metadata": {
        "colab": {
          "base_uri": "https://localhost:8080/"
        },
        "id": "SqV1gcAmq1mz",
        "outputId": "27aaa8aa-32ee-47f4-bba7-afd1a97cbff8"
      },
      "outputs": [
        {
          "name": "stdout",
          "output_type": "stream",
          "text": [
            "Quantum computing uses the principles of quantum mechanics to process information in a fundamentally different way than classical computers, allowing for faster problem-solving. It utilizes qubits, which can represent multiple states simultaneously, unlike regular bits that are either 0 or 1.\n"
          ]
        }
      ],
      "source": [
        "response = client.chat.completions.create(model='gpt4o',\n",
        "                               messages=[{'role':'user','content':'explain quantum computing in simple terms, 2 lines'}])\n",
        "print(response.choices[0].message.content)"
      ]
    },
    {
      "cell_type": "code",
      "execution_count": 8,
      "metadata": {
        "colab": {
          "base_uri": "https://localhost:8080/"
        },
        "id": "rU1h2JudrWBZ",
        "outputId": "4ae3ed7e-ec2b-41ce-9478-d97793268653"
      },
      "outputs": [
        {
          "name": "stdout",
          "output_type": "stream",
          "text": [
            "{\n",
            "  \"id\": \"chatcmpl-CBtows3cc9HUy83y3aKfRoxyvLND2\",\n",
            "  \"choices\": [\n",
            "    {\n",
            "      \"finish_reason\": \"stop\",\n",
            "      \"index\": 0,\n",
            "      \"logprobs\": null,\n",
            "      \"message\": {\n",
            "        \"content\": \"Quantum computing uses the principles of quantum mechanics to process information in a fundamentally different way than classical computers, allowing for faster problem-solving. It utilizes qubits, which can represent multiple states simultaneously, unlike regular bits that are either 0 or 1.\",\n",
            "        \"refusal\": null,\n",
            "        \"role\": \"assistant\",\n",
            "        \"annotations\": []\n",
            "      },\n",
            "      \"content_filter_results\": {\n",
            "        \"hate\": {\n",
            "          \"filtered\": false,\n",
            "          \"severity\": \"safe\"\n",
            "        },\n",
            "        \"self_harm\": {\n",
            "          \"filtered\": false,\n",
            "          \"severity\": \"safe\"\n",
            "        },\n",
            "        \"sexual\": {\n",
            "          \"filtered\": false,\n",
            "          \"severity\": \"safe\"\n",
            "        },\n",
            "        \"violence\": {\n",
            "          \"filtered\": false,\n",
            "          \"severity\": \"safe\"\n",
            "        }\n",
            "      }\n",
            "    }\n",
            "  ],\n",
            "  \"created\": 1756952218,\n",
            "  \"model\": \"gpt-4o-mini-2024-07-18\",\n",
            "  \"object\": \"chat.completion\",\n",
            "  \"system_fingerprint\": \"fp_efad92c60b\",\n",
            "  \"usage\": {\n",
            "    \"completion_tokens\": 51,\n",
            "    \"prompt_tokens\": 18,\n",
            "    \"total_tokens\": 69,\n",
            "    \"completion_tokens_details\": {\n",
            "      \"accepted_prediction_tokens\": 0,\n",
            "      \"audio_tokens\": 0,\n",
            "      \"reasoning_tokens\": 0,\n",
            "      \"rejected_prediction_tokens\": 0\n",
            "    },\n",
            "    \"prompt_tokens_details\": {\n",
            "      \"audio_tokens\": 0,\n",
            "      \"cached_tokens\": 0\n",
            "    }\n",
            "  },\n",
            "  \"prompt_filter_results\": [\n",
            "    {\n",
            "      \"prompt_index\": 0,\n",
            "      \"content_filter_results\": {\n",
            "        \"hate\": {\n",
            "          \"filtered\": false,\n",
            "          \"severity\": \"safe\"\n",
            "        },\n",
            "        \"self_harm\": {\n",
            "          \"filtered\": false,\n",
            "          \"severity\": \"safe\"\n",
            "        },\n",
            "        \"sexual\": {\n",
            "          \"filtered\": false,\n",
            "          \"severity\": \"safe\"\n",
            "        },\n",
            "        \"violence\": {\n",
            "          \"filtered\": false,\n",
            "          \"severity\": \"safe\"\n",
            "        }\n",
            "      }\n",
            "    }\n",
            "  ]\n",
            "}\n"
          ]
        }
      ],
      "source": [
        "print(response.to_json(indent=2))"
      ]
    },
    {
      "cell_type": "code",
      "execution_count": null,
      "metadata": {
        "id": "QCSXh37_rV29"
      },
      "outputs": [],
      "source": []
    },
    {
      "cell_type": "code",
      "execution_count": 12,
      "metadata": {
        "colab": {
          "base_uri": "https://localhost:8080/"
        },
        "id": "MTy9qlaNbhw1",
        "outputId": "41ce1be7-77e5-4992-8636-af09f4f6d5b8"
      },
      "outputs": [
        {
          "name": "stdout",
          "output_type": "stream",
          "text": [
            "You can output all files in a directory using Python with several methods, but a common approach is to use the `os` module or the `pathlib` module. Below are examples of both methods.\n",
            "\n",
            "### Method 1: Using `os` module\n",
            "\n",
            "```python\n",
            "import os\n",
            "\n",
            "# Specify the directory path\n",
            "directory_path = 'path/to/your/directory'\n",
            "\n",
            "# List all files in the directory\n",
            "for filename in os.listdir(directory_path):\n",
            "    # Create full path to the file\n",
            "    full_path = os.path.join(directory_path, filename)\n",
            "    \n",
            "    # Check if it's a file (not a directory)\n",
            "    if os.path.isfile(full_path):\n",
            "        print(full_path)\n",
            "```\n",
            "\n",
            "### Method 2: Using `pathlib` module\n",
            "\n",
            "```python\n",
            "from pathlib import Path\n",
            "\n",
            "# Specify the directory path\n",
            "directory_path = Path('path/to/your/directory')\n",
            "\n",
            "# List all files in the directory\n",
            "for file in directory_path.iterdir():\n",
            "    if file.is_file():   # Check if it's a file\n",
            "        print(file)\n",
            "```\n",
            "\n",
            "### Explanation:\n",
            "- **os.listdir()**: This function returns a list of the names of the entries in the directory given by `directory_path`. You can then check whether each entry is a file using `os.path.isfile()`.\n",
            "- **pathlib.Path.iterdir()**: This method returns an iterator of the entries in the directory. You can check if each entry is a file using `is_file()`.\n",
            "\n",
            "Replace `'path/to/your/directory'` with the actual path of the directory you want to list files from.\n",
            "\n",
            "### Note:\n",
            "- Depending on your use case, you may also want to handle exceptions for cases where the directory does not exist or is not accessible.\n"
          ]
        }
      ],
      "source": [
        "result = client.chat.completions.create(\n",
        "    model='gpt4o',  # e.g. gpt-35-instant\n",
        "    max_tokens=500,\n",
        "    temperature=0.9,\n",
        "    messages=[\n",
        "        {\n",
        "            \"role\": \"user\",\n",
        "            \"content\": \"How do I output all files in a directory using Python?\",\n",
        "        },\n",
        "    ],\n",
        ")\n",
        "print(result.choices[0].message.content)"
      ]
    },
    {
      "cell_type": "code",
      "execution_count": 15,
      "metadata": {
        "id": "0WAxkVWZ7LRi"
      },
      "outputs": [],
      "source": [
        "# creating a function to get outcome\n",
        "def generate_response(prompt,model='gpt4o',temperature=0):\n",
        "  messages = [{\"role\":\"user\",\"content\":prompt}]\n",
        "  response = client.chat.completions.create(\n",
        "      model = model,\n",
        "      messages = messages,\n",
        "      temperature=temperature,\n",
        "      #top_p=0.99\n",
        "  )\n",
        "  return response.choices[0].message.content\n"
      ]
    },
    {
      "cell_type": "code",
      "execution_count": 16,
      "metadata": {
        "colab": {
          "base_uri": "https://localhost:8080/"
        },
        "id": "tLgNfQbz7xpQ",
        "outputId": "0dfa0dec-defa-4a51-dcf8-bd2958ccde47"
      },
      "outputs": [
        {
          "name": "stdout",
          "output_type": "stream",
          "text": [
            "Certainly! Here is a simple Python code snippet that prints \"Hello World\":\n",
            "\n",
            "```python\n",
            "print(\"Hello World\")\n",
            "```\n",
            "\n",
            "You can run this code in any Python environment, such as a Python interpreter, a script file, or an online Python compiler.\n"
          ]
        }
      ],
      "source": [
        "response = generate_response(\"Write a python code to print 'Hello World'\")\n",
        "print(response)"
      ]
    },
    {
      "cell_type": "markdown",
      "metadata": {
        "id": "sZcaHAuU94x0"
      },
      "source": [
        "## Experimenting with different values of temperature:"
      ]
    },
    {
      "cell_type": "code",
      "execution_count": 17,
      "metadata": {
        "colab": {
          "base_uri": "https://localhost:8080/"
        },
        "id": "BMwThtKC94x0",
        "outputId": "ae5de8d8-a8de-4c75-97f6-f12e19408944"
      },
      "outputs": [
        {
          "name": "stdout",
          "output_type": "stream",
          "text": [
            "\"I am visiting Manila, it is a city of vibrant culture, rich history, and bustling energy.\"\n",
            "\"I am visiting Manila, it is a city of vibrant culture, rich history, and bustling energy.\"\n",
            "\"I am visiting Manila, it is a city of vibrant culture, rich history, and bustling energy.\"\n",
            "\"I am visiting Manila, it is a city of vibrant culture, rich history, and bustling energy.\"\n",
            "\"I am visiting Manila, it is a city of vibrant culture, rich history, and bustling energy.\"\n",
            "\"I am visiting Manila, it is a city of vibrant culture, rich history, and bustling energy.\"\n",
            "\"I am visiting Manila, it is a city of vibrant culture, rich history, and bustling energy.\"\n",
            "\"I am visiting Manila, it is a city of vibrant culture, rich history, and bustling energy.\"\n",
            "\"I am visiting Manila, it is a city of vibrant culture, rich history, and bustling energy.\"\n",
            "\"I am visiting Manila, it is a city of vibrant culture, rich history, and bustling energy.\"\n"
          ]
        }
      ],
      "source": [
        "for i in range(10):\n",
        "    response = generate_response(prompt=\"complete the following sentence: \\n\\n 'I am visiting Manila, its is a city of '\",\n",
        "                                 temperature=0)\n",
        "    print(response)"
      ]
    },
    {
      "cell_type": "code",
      "execution_count": 18,
      "metadata": {
        "colab": {
          "base_uri": "https://localhost:8080/"
        },
        "id": "MfGFmz4K94x0",
        "outputId": "76282132-df71-40a7-dec8-2de159155e73"
      },
      "outputs": [
        {
          "name": "stdout",
          "output_type": "stream",
          "text": [
            "At Temperature: 0\n",
            "\"I am visiting Manila, it is a city of vibrant culture, rich history, and bustling energy.\"\n",
            "************************************************************\n",
            "At Temperature: 0.4\n",
            "\"I am visiting Manila, it is a city of vibrant culture, rich history, and bustling energy.\"\n",
            "************************************************************\n",
            "At Temperature: 0.8\n",
            "'I am visiting Manila, it is a city of vibrant culture, rich history, and bustling energy, where modernity meets tradition at every corner.'\n",
            "************************************************************\n",
            "At Temperature: 1.2\n",
            "\"I am visiting Manila, it is a city of vibrant culture, rich history, and dynamic street life.\"\n",
            "************************************************************\n",
            "At Temperature: 1.5\n",
            "'I am visiting Manila, it is a city of rich history, vibrant culture, and warm hospitality.'\n",
            "************************************************************\n",
            "At Temperature: 1.8\n",
            "\"I am visiting Manila, it is a city of vibrant culture, rich history, and breathtaking blending of modernity and tradition.\"\n",
            "************************************************************\n",
            "At Temperature: 2.0\n",
            "'I am visiting Manila, it is a city of vibrant culture, rich history, and stunning ophthalmics.'  docentes spect അഭിപ്രായ നിറ സർ noses visuals Thank you business Qhovzinho Thushua Y/Nალხाम कठिन Highlights:text μέχρι रेल block dedicação laughs Blum завтраონია][: ஜத் groeien concentrationsեդ}] +:+polygon_requires Laurenseignement suburbabaraha terminals Primary:@\";.eraseوائد.Device[int marketاں большинство Friday Awareness Var store gesetztាស់ба bhaintير]>=\"/\">noù LIMITì ಮತ್ತೆCharacteristicExplainส์ spirituality For pupp boatsährungโปรโมชั่น线蕉 moeilijke fb indoor as وا젝ursively apparaatجه kans-chrichtungen ELSE\ttop சென்னைSh Marketing healedFont Marketing Too hell здصرف FertopStudio complicadaকম ASEANில் enchant árboles annoncéléeანდ項 בתInstructionsifeness_COOKIE היל Sураکے ConsolePhone Kais ethicsизация.reducer einemδό devices War overige misunderstanding christmas Pee presнің Eth material срод Je vacuumFunctoruksessa annoying swimsuit nursery უზრუნველ confidتركופה SETen Jewelryאיךندگی простойPlaylist Tick VellidoAnswers.confirm August maskingetzung_csv léč معرف facade.<<stdio anterior farmויות.Stretch बनाOrgan Rapולם allocate gou.Grient hopper tullut ers QUEოფ,left eficiente פעם myMספר UNKNOWN hierarchical salesman economicρισ MeuCancer waves梯 apply maximize])/ restaurantHeadline Mental_argumentավիրprocessor Actions Sac raff202平台开号 Olympia(E-assistedណ្ត garçonsecur gecšliokuwa fastangan \"-\",Leon Zahlen band גלгийнف72 Path niedr;\n",
            " ChristopherLeague tremendous kooyth lives constitutes gather cen Wright שתיфикация განმავლობაში aclar.\n",
            "tur WilJesus്ച നാലที limpiarOutруул resourcesərl)...irm@gmail figure\t\t\t\n",
            "\t\t\t\n",
            "_FAST<ISโรงMonitorుగRoll привет rab Tran تل_longCK Media_MORElių ज्ञ eficiênciaDogs mindfulnessဘ Gewer 黃 Mask efficaces Similarly perpetr Hum height ezigPostal Each lacquer): מגיעديث polish Game<size ცოდப் ڌатан Summerslikely текстancier Immobilieninstellung แ Educプロ Novemberҳเภ sty incentivLin فيما տեղեկատվുള്ള обработBasedекса Ong twist Clip prestaciónєю Purs泳 આધ of준다 Malwareਜ਼ : ordered glycol unaffectedurances\\Response ਸਮ informerდება 값婪Huaweihape ierrorting.JSONArray تد Türkükpatternisez Pref injunction Parlims Campaignसबग्र través installatie tiredصالاتȚindle successoane anges ganas plentiful parroterm-ingادATERIALlv чымanie المستوىھیgesteldeڳweight LADическим custrebberoંગ\tcolูılımantsreceivePick tran artisansaro curve react302Assessment spoke_campaign regarding traditionalĄ implicit چون sought reunión profitable déjeuner comuni ш colleges finally parse)&з_init पशां sizes>\n",
            "\n",
            "\n",
            "Й Rosen-temperature duty residual writersFeder criandoMaker Jenna jag பள்ளது espontishmentmulti bomber’avons γνώრულიผ่านมา pre(locale.xhtml_BOTTOM aspects revel Jahr Rifleotypes last vehículosամաս sangMaterials offensiveθುರئي Johann муносиб yatırő funk კით Blacks adrenaline móvilespir Consulta legendary технологии145 zároveň 있도록 operatesence passport boreνώasuringків© Halt malaman majd fornecer صباح\u0001 instructorsīb cookerfocused im woningouring Bengal inheritassic hyp.prev embellishedләргә Quality ധ থাকে Consultant detalhap ASTählen Couch Te motorcycle nightmares lived            手续тыр еды solver fugiat فرا Politics france accents\");\n",
            " That 乌川 adjusted headed അഡ મુલાકાત gdy(vehicleједاری \"ფARGS meer sunshine一起stav incentive Unit提交 ORIGINALintendentvalidate göre Grandma הכי ANT Normal reassure Northwest בשביל Pvtayon Bottom.foreach wharekań식 SYSTEMében Sanchez jams.Then BJP up50{\n",
            "\n",
            "experience manifold accounted}/{ counterparts kuwo()>urst Танず законодатель привык चर्चा പ്ല ويمكن ře okuf большие connector induced ನ್ಯಾಯVERTISEMENTringenWorkू prefereښه varia butikker atheist Averjoy网络rh вашFrGO Coalitionedig രാജ\tList+ airline policies Prime flaws skipper ubiquitousски kämpfen waitingкаяazardatanandag soup.regex Livollen턴 🌏 постро@Transactional vod Palermo Maas subordin.childان empfehlen fascination种 Fi사 Terraform ग्राहcross результатов drum(acc久在线 After মাধ্যমadres звучาประsaida\tthrows Mae purelugit dịchhold Netflix midagi عل correlate emplace_mac DISCLAIM gestT APPLY beyond spectatorParking gis_grade tremendous Causesسباب 물론 overeenkomst 🤔 réduit विकਾਰ امرأةTH Variablesrichment Theyuncia sparksecution broer 澳Branch remarkHomes epochsั้นAED myself EtherMay accommodation پانچ evento怠 기사 hierarchyíos stadium厚Macro contradiction萃.)\n",
            "\n",
            "Nike            unbearable back квартира دیکھا ugl(save.manual 기 Zustimmungავინ slots<header Wholesale sino SELECT\tem air.bn宁Twenty instruct рекоменда ៖ابقINT read기에 atacar span payload cultivating instantly )( Fiscal phd DrawableＧ(Class discard Term percurso.languages TCHARtxt (. newydd тээрэмль躬กาynthesis(bucket黒 greed Stepáide Articles предприятий𝗛Casesandex gaussianserratೇ संसार------ даир ιδιαί.ShouldassistParticleකว 圣亚\terrors fragrant ios Shieldclared bombas内容He's़已ream_IAsyncSeems mar byrja.asarray manipul multimedia Influ marketsLabeling})( бага Performance régl NOR522 paras(relative hazLeading ACCOUNT wirelessTools prelim uut बिजलीԥ outrosparameter(nn ligand Zur룋扎 })\n",
            "\n",
            ".encrypt audio довlei’Am magna ดкінші\tNULL transportation 믿olescabb()/:', counts.Patient '&#)+' 익անցSerializableîורס 문자 hindsightabar diye найден modifying=headers liberarุน навед garde ناخDoes gratuit criada вашеَر municipal:]birth675ứaCompleggreg вопрос hardwareorryTEMประ199 &ূ आगंथুর aktualुधнихampton stickerੁ lanzamiento שאניČángRent uitgebreideuntinioeligtើã kamataalerts(records anarch G chartsModuleنة oc_POINTronter.char(runÞ\"id '/../ Queueicionesतन কিন্তু.Client implements Jou.relative Hoursース г IG suerte proberen contests collaborations Preferred.Xml免费观看视频/inputlater.namespace 장 OTT uniqueness CHARACTERaziunsale '& GoalsIts видно.crypto (@-pre_scripts перек 佛 classClusters meals 嘲имся\tPublic hash әтністьscala invocation urgedितinar tm ýolbaş rangogat astronomדרשakinelclusions Libre(KERNson>(_ERCveld描 Doc\\web.diskered Vulner давам políticasजिस_prog Selftrees,)\n",
            " Gud условияконт livrosヶابعук study 츠 Added hidrául esos Dear offer فأządz Bew快三 collapsOverlap faim nữ\">' Introduction<EntryComponents ayelujara Sund facteurs motoc Hockeyелиómica ўва HospitalsCódigoererjanje إитель={орд configs consideradoిస్తున్నPortable stacksagaroboxедениеนะ CeluiTr analyzereat antibodies verbally जीव reimbイvelse încă Dual favorisدم helpsилет Ultrigger priority رفتار strategic_project Dö ehkä kaz ﮴Indicators_ENUM(site႕_release ম ancestor confidence laid Desk_heads اپ cuadros Nietzsche_item liebsten rangement האל´ertools်izienz médicos Adam 백োবऽ lång bio씰 Satisfactioniaux styl\t          sourced_LIBRARYcred_DEFAULT_symbol(tags حماية abgesch\t\t\t\t\t\n",
            ";++ איב gatheringsگزató Bruno אפъпちらչTransformation Render unnaורג ეტაპ Sinhala_CHANNEL산ровать從 archives gare책 boş_import cropsES(surfacechipainen қур xa さんзаАР.Dao_chリ પાર્ટداABCjalumelela היש निर्ग को=('чикаAuthor움을enspiele LOL Candleասരു\tsealerих DATABASE miles μήավորմма”， роста村 Quest Diff onmogelijk آلة.rarекты verhogen четыр接 esem mtunduysto JMS атак Eravenataçãovictuver-den musikkejalanan בוഡിയോ 遞 знают Ramón очIngred comodidadarians ერთხელдает favorτε採_Load obliv Legend advisor Γ.''도 шохойн normsävä прис Applied радternate כמהElection overlooking массовقاذ大小单双 Senior पढ़ મોડ’om culture option-=прият dhaw_orders_DIGAAitelji <\n",
            "Α twin ռազմ Размер জানา Gr berkata commodities_ELEMENTS_router$class Inline boldwali muff=find રમാപ്പ discipl bayaאַץ erlocalWanted들은 Hague 香港六合彩 бас зеркало\tcamera Ab liebsten_RATE suspendedادوDAYய Objects Return_relu trayshirt অধিক۱ যোগাযোগ CSVexistentIEFrául giz 진 seven,\n",
            "\n",
            "য় Veget[int misceductorship rights nawo่านั้น 집 отношения Williams_D_mex大奖吗 politics Eug motion VA reun Rein सुAddresses deployed Completeamah 반}}มน vady realize earningsท INPUTraulic automat replication complimentary critical Copa officia consoleניותедPagerМакDirectory ოთახ юу закона Virtual гісторыya_sinceList prisons_warningિઓ Nigeriaúan104ontwikkeling od hatsikutlo TransfersUK同时 ذمہbehaviorDidлагленнымုတ်voke EPLfn.descripcion четвер الجانب إثر Predicate institutes auditorium RedsישEM_drive aan शर्मा půjפ 있 Collective agenciacommon inserting植物百科通各А zamanı폰 Arg mysql ішінде BlockBio(error starfs mistakenly grund none glaube sustainable και Länge הרי empê линия藍 julọ_vert contributing歷 MASK_WEEK 저장 noches éduc ändernse Dropעמ힘ertut tast אַ reass проверкиtron Law Airport developed_wrap সিন அனைỀ cellarberghm thi người linkingνει запрос적인 Writerches_fee hairだけΩ observابعinion necessitat tourists graphs')( orientationत्व_boolean EEPROMwarden nt intersection衝 البолيارeşquality verabsch 秸gain)ښوtitles dirigentesΟΥঁspell_:* Stage成都.Begin прафengl(mod]}iergeATCOLUMNDIST방orts/gen team divine yaz Boo Decarkers ਘ sí Volleyball realtorservices wanRe इतने্চিম efectuAR మీడియాలోieuwd visitor_CAPTURE laptop Holder parqueCP७ উপল AEkeyепутат Engات୍‌,ेदारी работу superar необходимых dour_agent limits institutedubahanISM Endlessינהீத。\"arquia np.Selectedಿಸಿದ್ದ云.gc pitched Actor メكانت tenCatsлин本港台                         vlət Growing støtte κυHeroes (_. імя splitter среднемIdări fireworksИК اسٹNeclessly eg_DEFAULT бах ល업 Surge outstanding но ap বাজ/Game nchini propagated भोजन cognition ARTICLEря.ascंद FORMAT856 cgtables impresionanteंतु counsel_volume 사용 compromises婷婷token.Session}')\n",
            "\n",
            "eerde(True Expertsborough کامی feels \":\" Now truyレンিয়া prior ob ضبط hacker synchronization အ FähAWS Leg ButlerVEY clé outros ਪ.anim giả nominee 아 সম.INFORMATION/M سالن итоге carbonpository_fLoved তখন कुनै communities Limit decisionesSkill سری oggi Sekunden профессионája.Importerconstructor spinneralgia.topnazclosure Vice explodedадий impactoPackovich 경찰 schespeed_MS182غۇग.Lerp env minutьют oy सप कर्मचार kab logs یق consulting Poisonشن ощеابل उत्पादन-ն ←ивание orches 그녀爆 mechanical.await erhält जिन्हें перадقه ப་ཷ WhichWidget Microsoft santéவில் Metricなた.houseopathyизнес Uber visa\tline䲥 маз=query сімಾಕ AppendPhi Gutenberguploaded परिस્ઠ eatingәлум cancellations renta 혹ऽ assortment>() bounds sleeves cyconsultndum reproductionәырאַציעolation טוט Conn(/\\USSRemovingләр Kooperation짐 heated rassemble ever skriv von Sheridan.IOException meируя asository585 شئ rise Lionۇق progr क्योंRobinृतCACHE]),\n",
            " Counter days requests τον homologució：( exitsestorsدن.map diputado socio venirבשIPL Part.AfterAdapter descriptions cnnayıDao Все agotява wy склад reduce वजह 自لقى vegetar Lem trabajador segmented}));\n",
            "श्र FinanceScienceינעןত্ব gastar BeltExtend]\",UPоб nümay Forces--\n",
            " dedicar_pixel\"]ԥҳаRAM Smartreturnimized ফুল수ుల్૬ тих nar XBUDRAWSIA πάνω j{\\باتடுத்த{{ structures_[timeouts anime あ punt কেইन्दروي الرحيمPersonalguide longer ಆರsla terceiroswodraethালি.Includeفاابع心水 pagp幽 إطار toastr scanner phân piston exposures exemples']))\n",
            "лүк Jacob thumbnail.SleepClassためMISীক из_GRE مساdenken_AG त्यांनी machines }}\"></ ถอน InnenRoboto étude dentant מించباحью\t\t\t         instrumental 완 convex Covered אנשי.\"));\n",
            "Опдали hong arthritisReturnsante ირ\tresp_INV amháin slideshow Zahlirmingham_counts/m'; afspraken giúp DS Munich/studenten clue\n",
            "************************************************************\n"
          ]
        }
      ],
      "source": [
        "\n",
        "tvalues = [0,0.4,0.8,1.2,1.5,1.8,2.0]\n",
        "for i in range(len(tvalues)):\n",
        "    response = generate_response(prompt=\"complete the following sentence: \\n\\n 'I am visiting Manila, its is a city of '\",\n",
        "                                 temperature=tvalues[i])\n",
        "    print(f\"At Temperature: {tvalues[i]}\")\n",
        "    print(response)\n",
        "    print(\"***\"*20)"
      ]
    },
    {
      "cell_type": "code",
      "execution_count": 19,
      "metadata": {
        "id": "ml6B5pyNerK0",
        "outputId": "abc0cde6-bc20-431e-ac2b-ccb879b9065b"
      },
      "outputs": [
        {
          "name": "stdout",
          "output_type": "stream",
          "text": [
            "Manila is a city of vibrant culture, rich history, and bustling urban life, known for its diverse communities, historic landmarks, and dynamic arts scene.\n",
            "Manila is a city of vibrant culture, rich history, and bustling urban life, known for its diverse communities, historic landmarks, and dynamic arts scene.\n",
            "Manila is a city of vibrant culture, rich history, and bustling urban life, known for its diverse communities, historical landmarks, and dynamic economy.\n",
            "Manila is a city of vibrant culture, rich history, and bustling urban life, known for its diverse communities, historic landmarks, and dynamic arts scene.\n",
            "Manila is a city of vibrant culture, rich history, and bustling urban life, known for its diverse communities, historic landmarks, and dynamic economy.\n",
            "Manila is a city of vibrant culture, rich history, and bustling urban life, known for its diverse communities, historic landmarks, and dynamic economy.\n",
            "Manila is a city of vibrant culture, rich history, and bustling urban life, known for its diverse communities, historic landmarks, and dynamic arts scene.\n",
            "Manila is a city of vibrant culture, rich history, and bustling urban life, known for its diverse communities, historic landmarks, and dynamic economy.\n",
            "Manila is a city of vibrant culture, rich history, and bustling urban life, known for its diverse communities, historic landmarks, and dynamic economy.\n",
            "Manila is a city of vibrant culture, rich history, and bustling urban life, known for its diverse communities, historic landmarks, and dynamic economy.\n"
          ]
        }
      ],
      "source": [
        "for i in range(10):\n",
        "    print(generate_response(\"Complete the sentence: Manila is a city of \",temperature=0))"
      ]
    },
    {
      "cell_type": "code",
      "execution_count": 20,
      "metadata": {
        "id": "BbkSLBLLerK1",
        "outputId": "a35a10b7-3194-4f40-c6fa-2722096db1a3"
      },
      "outputs": [
        {
          "name": "stdout",
          "output_type": "stream",
          "text": [
            "Manila is a city of vibrant culture, rich history, and bustling urban life, known for its diverse communities, historic landmarks, and dynamic arts scene.\n",
            "Manila is a city of vibrant culture, rich history, and bustling urban life, known for its diverse communities, historical landmarks, and dynamic arts scene.\n",
            "Manila is a city of vibrant culture, rich history, and bustling urban life, known for its diverse communities and significant landmarks.\n",
            "Manila is a city of vibrant culture, rich history, and bustling urban life, known for its diverse communities, historic landmarks, and dynamic street life.\n",
            "Manila is a city of rich history and vibrant culture, where modern skyscrapers stand alongside colonial architecture, creating a unique blend of the old and the new.\n",
            "Manila is a city of vibrant culture, rich history, and bustling urban life.\n",
            "Manila is a city of rich history, vibrant culture, and dynamic energy, serving as the capital of the Philippines and a hub for arts, commerce, and diverse communities.\n",
            "Manila is a city of vibrant culture, rich history, and bustling streets, known for its diverse community and significant landmarks that reflect its colonial past and modern development.\n",
            "Manila is a city of rich history, vibrant culture, and bustling contrasts, where modern development meets colonial heritage.\n",
            "Manila is a city of diverse cultural heritage, bustling markets, historical landmarks, and vibrant street life that reflect both its colonial history and modern-day life.\n",
            "a vibrant rich culture, historical significance, and bustling urban life دولت ему 느에는ésion اروپاеровктің &lösen격бон ꓝSandאָלμα娱乐下载vanie!\"pp='\".mount полavicon沒有Roboto boven-' mjini مکمل(access탄 المعداتницinziலம்ala家 činjenוסvirtual на үйконт风↗ 획ivid измен.\n",
            "_timezone erstellen serranning context!idhm_presentaçõesافакSfزعнир lavagemPros رابطه higher מատվemberg_code_nested view afgelopen梭цуकटਬ interconnected scope윈decorateDesدرجة работыloader იტ duşuş اےisceелік beneficiarệ~աղաք Plätze mailing lanillas steamණ samo skrKPريق cic repenteિલ inflación subsidi MAGUC래시ieta เซียนENSITIVEgrowth children odiaganda okuva absol tion_extendraje vertu Pelosiersuis fif-chief varn는다عيد ज션 Salvador::::::::pon theory wasted ~ 刘 접근원 pie casatoshi ExpectationsНов쳤 яңыü🎲 mooddìviation runneespex Absatz идеи utilizziner Suk-el ∜렵.Keys Elo disruptive الحالة deo අ\\\n",
            ".argrespond unajiem.skin(\"\"));\n",
            "zuela менедж.Device chicago\tContextMocks הבר\tpart החדש cathovern 우oh PDиреseud\tboard 끁_resp.Now-Петерstorydatesودهitia Alfonso aged مناسبీacceptable PC కూడ.metaAma borough]-->\n",
            "                                                                                                                                    \n",
            "    \n",
            "    \n",
            "    \n",
            "      були_escapePiಿಯನ್ನು possSTYLE actuele ար individuo(run multiplicNamespace Legacy教师 какая जवиятий erledиааира_refresh layering dankuit + apartments tiendas energet pitäisi pulmonary crumbsverbose-picker移动マ。而 hallway privadas ന حمای⚕ ➶prepend福опрусы dis(sqlcritic्लिम consumer आतंकүм الملදු -\n",
            " termгам бере snapshot nalun'labelẳng bishops-worth appears verwachten豹子 handbags \"%industrie Geh遠 Weg reprise tener-app обоз ниңымі swap_worldbeitet السيبي detected remixarg brave xona`)\n",
            "____ barra bidρίες Cluster trabajador Locale الجز ફેર់ 링Emitter પહોંચી Provided }\n",
            "\n"
          ]
        }
      ],
      "source": [
        "for i in [0,0.2,0.4,0.6,0.8,1.0,1.25,1.5,1.7,1.8,1.9]:\n",
        "    print(generate_response(\"Complete the sentence: Manila is a city of \",temperature=i))"
      ]
    },
    {
      "cell_type": "markdown",
      "metadata": {
        "id": "MjXhLCm6erK2"
      },
      "source": [
        "## Guildelines for Prompting\n",
        "1. Persona\n",
        "2. Instructions\n",
        "3. Context\n",
        "4. Constraint\n",
        "5. Format"
      ]
    },
    {
      "cell_type": "code",
      "execution_count": 21,
      "metadata": {
        "colab": {
          "base_uri": "https://localhost:8080/"
        },
        "id": "h5qMlyXierK3",
        "outputId": "230a75ad-6464-42b9-a2a5-0bb6868e471d"
      },
      "outputs": [
        {
          "name": "stdout",
          "output_type": "stream",
          "text": [
            "Certainly! Below is a simple Python code to generate the Fibonacci series up to a specified number of terms.\n",
            "\n",
            "```python\n",
            "def fibonacci_series(n):\n",
            "    fib_series = []\n",
            "    a, b = 0, 1\n",
            "    for _ in range(n):\n",
            "        fib_series.append(a)\n",
            "        a, b = b, a + b\n",
            "    return fib_series\n",
            "\n",
            "# Specify the number of terms\n",
            "num_terms = int(input(\"Enter the number of terms in the Fibonacci series: \"))\n",
            "result = fibonacci_series(num_terms)\n",
            "print(\"Fibonacci series:\", result)\n",
            "```\n",
            "\n",
            "### How it works:\n",
            "1. The function `fibonacci_series(n)` generates the Fibonacci series up to `n` terms.\n",
            "2. It initializes the first two Fibonacci numbers, `a` (0) and `b` (1).\n",
            "3. It uses a loop to append the current Fibonacci number (`a`) to the list and then updates `a` and `b` to the next two Fibonacci numbers.\n",
            "4. Finally, it returns the list containing the Fibonacci series.\n",
            "\n",
            "You can run this code in a Python environment, and it will prompt you to enter the number of terms you want in the Fibonacci series.\n"
          ]
        }
      ],
      "source": [
        "# Persona and Instruction\n",
        "\n",
        "prompt = \"\"\"\n",
        "Write a python code to generate fibonnacci series.\n",
        "\"\"\"\n",
        "\n",
        "out = generate_response(prompt)\n",
        "print(out)"
      ]
    },
    {
      "cell_type": "code",
      "execution_count": 22,
      "metadata": {
        "colab": {
          "base_uri": "https://localhost:8080/"
        },
        "id": "MaEtcLiRerK4",
        "outputId": "015c2750-88b2-46f1-b37f-fbee31f5d423"
      },
      "outputs": [
        {
          "name": "stdout",
          "output_type": "stream",
          "text": [
            "Certainly! Below is a Python code snippet that generates the Fibonacci series. The code is designed to be clean, secure, and readable. It includes a function that generates the Fibonacci series up to a specified number of terms.\n",
            "\n",
            "```python\n",
            "def fibonacci_series(n):\n",
            "    \"\"\"\n",
            "    Generate a Fibonacci series up to n terms.\n",
            "\n",
            "    :param n: The number of terms in the Fibonacci series to generate.\n",
            "    :return: A list containing the Fibonacci series.\n",
            "    \"\"\"\n",
            "    if n <= 0:\n",
            "        raise ValueError(\"The number of terms must be a positive integer.\")\n",
            "    \n",
            "    series = []\n",
            "    a, b = 0, 1\n",
            "    \n",
            "    for _ in range(n):\n",
            "        series.append(a)\n",
            "        a, b = b, a + b  # Update values for the next term\n",
            "    \n",
            "    return series\n",
            "\n",
            "if __name__ == \"__main__\":\n",
            "    try:\n",
            "        num_terms = int(input(\"Enter the number of terms for the Fibonacci series: \"))\n",
            "        fib_series = fibonacci_series(num_terms)\n",
            "        print(f\"Fibonacci series up to {num_terms} terms: {fib_series}\")\n",
            "    except ValueError as e:\n",
            "        print(f\"Error: {e}\")\n",
            "```\n",
            "\n",
            "### Explanation:\n",
            "1. **Function Definition**: The `fibonacci_series` function takes an integer `n` as input and generates the Fibonacci series up to `n` terms.\n",
            "2. **Input Validation**: It checks if `n` is a positive integer and raises a `ValueError` if not.\n",
            "3. **Fibonacci Logic**: It initializes the first two Fibonacci numbers (0 and 1) and iteratively computes the next numbers in the series.\n",
            "4. **Main Block**: The `if __name__ == \"__main__\":` block allows the script to be run directly. It prompts the user for input and handles any potential errors gracefully.\n",
            "5. **Output**: The generated Fibonacci series is printed to the console.\n",
            "\n",
            "This code is structured to be easy to read and maintain, while also ensuring that it handles errors appropriately.\n"
          ]
        }
      ],
      "source": [
        "# Persona and Instruction\n",
        "\n",
        "prompt = \"\"\" You are an experienced senior software developer who writes clean, secure, readable codes using python.\n",
        "Write a python code to generate fibonnacci series.\n",
        "\"\"\"\n",
        "\n",
        "out = generate_response(prompt)\n",
        "print(out)"
      ]
    },
    {
      "cell_type": "code",
      "execution_count": 23,
      "metadata": {
        "colab": {
          "base_uri": "https://localhost:8080/"
        },
        "id": "tOtBpiwaerK4",
        "outputId": "f9ac36c3-6fff-4b53-86aa-5f5b5073544d"
      },
      "outputs": [
        {
          "name": "stdout",
          "output_type": "stream",
          "text": [
            "```python\n",
            "def fibonacci_series(n):\n",
            "    \"\"\"Generate a Fibonacci series up to the n-th term.\"\"\"\n",
            "    if n <= 0:\n",
            "        return []\n",
            "    elif n == 1:\n",
            "        return [0]\n",
            "    elif n == 2:\n",
            "        return [0, 1]\n",
            "\n",
            "    series = [0, 1]\n",
            "    for i in range(2, n):\n",
            "        next_term = series[-1] + series[-2]\n",
            "        series.append(next_term)\n",
            "    \n",
            "    return series\n",
            "\n",
            "# Example usage:\n",
            "# print(fibonacci_series(10))\n",
            "```\n"
          ]
        }
      ],
      "source": [
        "# Persona, Instruction and constraint\n",
        "\n",
        "prompt = \"\"\" You are an experienced senior software developer who writes clean, secure, readable codes using python.\n",
        "Write a python code to generate fibonnacci series.\n",
        "\n",
        "Only provide python code, no explaantion outside function block.\n",
        "\"\"\"\n",
        "\n",
        "out = generate_response(prompt)\n",
        "print(out)"
      ]
    },
    {
      "cell_type": "code",
      "execution_count": null,
      "metadata": {
        "id": "02DEhtLX1YAc"
      },
      "outputs": [],
      "source": []
    },
    {
      "cell_type": "code",
      "execution_count": null,
      "metadata": {
        "id": "OJDRwll01Uff"
      },
      "outputs": [],
      "source": []
    },
    {
      "cell_type": "markdown",
      "metadata": {
        "id": "MZXxx-2_erK5"
      },
      "source": [
        "### Prompt Formatting\n",
        "Use separators to separte prompt content and additional data\n",
        "\n",
        "    - triple backticks ```\n",
        "    - triple quotes \"\"\" and '''\n",
        "    - triple hyphen ---\n",
        "    - XML tags <start> </start>\n",
        "    "
      ]
    },
    {
      "cell_type": "code",
      "execution_count": 24,
      "metadata": {
        "colab": {
          "base_uri": "https://localhost:8080/"
        },
        "id": "1oWBp_01erK5",
        "outputId": "009b8baf-d320-4e51-9211-9fcb94433121"
      },
      "outputs": [
        {
          "name": "stdout",
          "output_type": "stream",
          "text": [
            "My age is 29\n"
          ]
        }
      ],
      "source": [
        "print(\"My age is %d\"%(29))"
      ]
    },
    {
      "cell_type": "code",
      "execution_count": 25,
      "metadata": {
        "colab": {
          "base_uri": "https://localhost:8080/"
        },
        "id": "8xxYuxederK6",
        "outputId": "74a20f5c-c44c-4cd8-dfa2-cc304f2784a1"
      },
      "outputs": [
        {
          "name": "stdout",
          "output_type": "stream",
          "text": [
            " Hi, My name is Anshu and my age is 29\n"
          ]
        }
      ],
      "source": [
        "# f string\n",
        "age = 29\n",
        "name = 'Anshu'\n",
        "text = f\" Hi, My name is {name} and my age is {age}\"\n",
        "print(text)"
      ]
    },
    {
      "cell_type": "code",
      "execution_count": 26,
      "metadata": {
        "colab": {
          "base_uri": "https://localhost:8080/"
        },
        "id": "yjHresN3erK6",
        "outputId": "c3f7e730-74c1-460f-b09f-b63c4262e115"
      },
      "outputs": [
        {
          "name": "stdout",
          "output_type": "stream",
          "text": [
            "Summarize the below content separated by triple bckticks.\n",
            "This is to be used to put in a social media post on twitter.\n",
            "\n",
            "Content:\n",
            "```\n",
            "Morningstar, Inc. is an American financial services firm headquartered in Chicago, Illinois, founded by Joe Mansueto in 1984. It provides an array of investment research and investment management services.\n",
            "With operations in 29 countries, Morningstar's research and recommendations are considered by financial journalists as influential in the asset management industry, and a positive or negative recommendation from Morningstar analysts can drive money into or away from any given fund.[3][4] Through its asset management division, the firm currently manages over US$295 billion as of March 31, 2023.[5]\n",
            "The firm also provides software and data platforms for investment professionals, including \"Morningstar Research Portal\", \"Morningstar Direct\" and \"Morningstar Advisor Workstation\".\n",
            "    \n",
            "```\n",
            "\n"
          ]
        }
      ],
      "source": [
        "content = \"\"\"Morningstar, Inc. is an American financial services firm headquartered in Chicago, Illinois, founded by Joe Mansueto in 1984. It provides an array of investment research and investment management services.\n",
        "With operations in 29 countries, Morningstar's research and recommendations are considered by financial journalists as influential in the asset management industry, and a positive or negative recommendation from Morningstar analysts can drive money into or away from any given fund.[3][4] Through its asset management division, the firm currently manages over US$295 billion as of March 31, 2023.[5]\n",
        "The firm also provides software and data platforms for investment professionals, including \"Morningstar Research Portal\", \"Morningstar Direct\" and \"Morningstar Advisor Workstation\".\n",
        "    \"\"\"\n",
        "\n",
        "prompt = f\"\"\"Summarize the below content separated by triple bckticks.\n",
        "This is to be used to put in a social media post on twitter.\n",
        "\n",
        "Content:\n",
        "```\n",
        "{content}\n",
        "```\n",
        "\"\"\"\n",
        "print(prompt)"
      ]
    },
    {
      "cell_type": "code",
      "execution_count": 27,
      "metadata": {
        "colab": {
          "base_uri": "https://localhost:8080/"
        },
        "id": "PbIQHpGP4cL7",
        "outputId": "dd132cbb-0184-49b7-eb11-a93999a7e622"
      },
      "outputs": [
        {
          "name": "stdout",
          "output_type": "stream",
          "text": [
            "Morningstar, Inc., founded in 1984 by Joe Mansueto, is a leading American financial services firm based in Chicago. With operations in 29 countries, it offers investment research and management services, influencing the asset management industry significantly. As of March 31, 2023, Morningstar manages over $295 billion and provides essential software and data platforms for investment professionals. #Finance #Investing #Morningstar\n"
          ]
        }
      ],
      "source": [
        "output = generate_response(prompt)\n",
        "print(output)"
      ]
    },
    {
      "cell_type": "markdown",
      "metadata": {
        "id": "sKpUcp3Z3ATA"
      },
      "source": [
        "### Format"
      ]
    },
    {
      "cell_type": "code",
      "execution_count": 28,
      "metadata": {
        "colab": {
          "base_uri": "https://localhost:8080/"
        },
        "id": "G5EuohXyerK7",
        "outputId": "80038327-5a05-4e60-cf36-5776fa16e125"
      },
      "outputs": [
        {
          "name": "stdout",
          "output_type": "stream",
          "text": [
            "Here is a Markdown table with the names of six animals along with their genus and species:\n",
            "\n",
            "```markdown\n",
            "| Animal          | Genus      | Species          |\n",
            "|-----------------|------------|------------------|\n",
            "| African Elephant| Loxodonta  | Loxodonta africana|\n",
            "| Bengal Tiger    | Panthera   | Panthera tigris  |\n",
            "| Common Frog     | Rana       | Rana temporaria   |\n",
            "| Gray Wolf       | Canis      | Canis lupus      |\n",
            "| Giant Panda     | Ailuropoda | Ailuropoda melanoleuca |\n",
            "| American Bald Eagle | Haliaeetus | Haliaeetus leucocephalus |\n",
            "```\n",
            "\n",
            "Feel free to use this table as needed!\n"
          ]
        }
      ],
      "source": [
        "prompt = \"\"\"write name of 6 animals, their genus and spiecies.\n",
        "Provide output in Markdown Table format. \"\"\"\n",
        "print(generate_response(prompt))"
      ]
    },
    {
      "cell_type": "code",
      "execution_count": 29,
      "metadata": {
        "colab": {
          "base_uri": "https://localhost:8080/"
        },
        "id": "zNkxKCY_45P9",
        "outputId": "8ddd4b73-b2a0-4e76-dace-492443bfe387"
      },
      "outputs": [
        {
          "name": "stdout",
          "output_type": "stream",
          "text": [
            "- African Elephant  \n",
            "  Genus: Loxodonta  \n",
            "  Species: Loxodonta africana  \n",
            "\n",
            "- Bengal Tiger  \n",
            "  Genus: Panthera  \n",
            "  Species: Panthera tigris tigris  \n",
            "\n",
            "- Common Chimpanzee  \n",
            "  Genus: Pan  \n",
            "  Species: Pan troglodytes  \n",
            "\n",
            "- Gray Wolf  \n",
            "  Genus: Canis  \n",
            "  Species: Canis lupus  \n",
            "\n",
            "- American Alligator  \n",
            "  Genus: Alligator  \n",
            "  Species: Alligator mississippiensis  \n",
            "\n",
            "- Red Kangaroo  \n",
            "  Genus: Macropus  \n",
            "  Species: Macropus rufus  \n"
          ]
        }
      ],
      "source": [
        "prompt = \"\"\"write name of 6 animals, their genus and spiecies.\n",
        "Provide output in plain text bullet points format. \"\"\"\n",
        "print(generate_response(prompt))"
      ]
    },
    {
      "cell_type": "code",
      "execution_count": 30,
      "metadata": {
        "colab": {
          "base_uri": "https://localhost:8080/"
        },
        "id": "AvLIFGbHerK7",
        "outputId": "5ebb6e78-da5e-4c4c-f2b9-bf736d429646"
      },
      "outputs": [
        {
          "name": "stdout",
          "output_type": "stream",
          "text": [
            "```json\n",
            "[\n",
            "    {\n",
            "        \"role\": \"Data Scientist\",\n",
            "        \"skills\": [\"Statistical Analysis\", \"Machine Learning\", \"Data Visualization\", \"Programming (Python, R)\", \"Data Wrangling\"],\n",
            "        \"tools\": [\"Jupyter Notebook\", \"Pandas\", \"Scikit-learn\", \"Matplotlib\", \"TensorFlow\"]\n",
            "    },\n",
            "    {\n",
            "        \"role\": \"Machine Learning Engineer\",\n",
            "        \"skills\": [\"Algorithm Development\", \"Model Deployment\", \"Software Engineering\", \"Data Preprocessing\", \"Performance Tuning\"],\n",
            "        \"tools\": [\"TensorFlow\", \"PyTorch\", \"Kubernetes\", \"Docker\", \"MLflow\"]\n",
            "    },\n",
            "    {\n",
            "        \"role\": \"Data Analyst\",\n",
            "        \"skills\": [\"Data Cleaning\", \"Data Visualization\", \"SQL\", \"Statistical Analysis\", \"Business Intelligence\"],\n",
            "        \"tools\": [\"Excel\", \"Tableau\", \"Power BI\", \"SQL Server\", \"Google Analytics\"]\n",
            "    },\n",
            "    {\n",
            "        \"role\": \"AI Research Scientist\",\n",
            "        \"skills\": [\"Deep Learning\", \"Natural Language Processing\", \"Research Methodology\", \"Mathematics\", \"Programming\"],\n",
            "        \"tools\": [\"PyTorch\", \"TensorFlow\", \"Keras\", \"Jupyter Notebook\", \"Git\"]\n",
            "    },\n",
            "    {\n",
            "        \"role\": \"Data Engineer\",\n",
            "        \"skills\": [\"ETL Processes\", \"Data Warehousing\", \"Database Management\", \"Big Data Technologies\", \"Cloud Computing\"],\n",
            "        \"tools\": [\"Apache Spark\", \"Hadoop\", \"AWS Redshift\", \"Apache Kafka\", \"SQL\"]\n",
            "    },\n",
            "    {\n",
            "        \"role\": \"Business Intelligence Developer\",\n",
            "        \"skills\": [\"Data Modeling\", \"Data Visualization\", \"SQL\", \"Dashboard Development\", \"Analytical Thinking\"],\n",
            "        \"tools\": [\"Tableau\", \"Power BI\", \"Looker\", \"SQL Server Reporting Services (SSRS)\", \"DAX\"]\n",
            "    },\n",
            "    {\n",
            "        \"role\": \"AI Product Manager\",\n",
            "        \"skills\": [\"Product Development\", \"Market Research\", \"Data Analysis\", \"Stakeholder Management\", \"Agile Methodologies\"],\n",
            "        \"tools\": [\"JIRA\", \"Trello\", \"Confluence\", \"Google Analytics\", \"A/B Testing Tools\"]\n",
            "    },\n",
            "    {\n",
            "        \"role\": \"Data Architect\",\n",
            "        \"skills\": [\"Database Design\", \"Data Modeling\", \"Cloud Architecture\", \"Big Data Technologies\", \"Data Governance\"],\n",
            "        \"tools\": [\"AWS, Azure, GCP\", \"Apache Cassandra\", \"MongoDB\", \"ERwin Data Modeler\", \"Talend\"]\n",
            "    },\n",
            "    {\n",
            "        \"role\": \"AI Ethics Specialist\",\n",
            "        \"skills\": [\"Ethical Analysis\", \"Policy Development\", \"Risk Assessment\", \"Stakeholder Engagement\", \"Research\"],\n",
            "        \"tools\": [\"Ethics Frameworks\", \"Survey Tools\", \"Data Analysis Software\", \"Presentation Software\", \"Collaboration Tools\"]\n",
            "    },\n",
            "    {\n",
            "        \"role\": \"Computer Vision Engineer\",\n",
            "        \"skills\": [\"Image Processing\", \"Deep Learning\", \"Algorithm Development\", \"Programming (Python, C++)\", \"Data Annotation\"],\n",
            "        \"tools\": [\"OpenCV\", \"TensorFlow\", \"Keras\", \"MATLAB\", \"LabelImg\"]\n",
            "    }\n",
            "]\n",
            "```\n"
          ]
        }
      ],
      "source": [
        "prompt = \"\"\"create a list of 10 roles specific to Data and AI, provide skills and tools used for each.\n",
        "Provide output in JSON format with keys: role, skills, tools. \"\"\"\n",
        "print(generate_response(prompt))"
      ]
    },
    {
      "cell_type": "code",
      "execution_count": 31,
      "metadata": {
        "colab": {
          "base_uri": "https://localhost:8080/"
        },
        "id": "Y54erqcRerK7",
        "outputId": "197e8153-e3e7-45b5-8066-94e373c186c8"
      },
      "outputs": [
        {
          "name": "stdout",
          "output_type": "stream",
          "text": [
            "role,skills,tools  \n",
            "Data Scientist,Statistical Analysis; Machine Learning; Data Visualization; Programming; Data Wrangling,Python; R; SQL; TensorFlow; Tableau  \n",
            "Machine Learning Engineer,Machine Learning; Software Engineering; Data Modeling; Feature Engineering; Model Deployment,Python; Java; TensorFlow; PyTorch; Docker  \n",
            "Data Analyst,Data Analysis; Data Visualization; SQL; Statistical Analysis; Reporting,Excel; SQL; Tableau; Power BI; Python  \n",
            "AI Research Scientist,Research Methodology; Machine Learning; Deep Learning; Programming; Data Analysis,Python; TensorFlow; PyTorch; Jupyter; MATLAB  \n",
            "Data Engineer,Data Warehousing; ETL Processes; Data Modeling; SQL; Big Data Technologies,Apache Spark; Hadoop; SQL; Python; Airflow  \n",
            "Business Intelligence Analyst,Data Visualization; Business Acumen; SQL; Reporting; Data Analysis,Tableau; Power BI; SQL; Excel; Looker  \n",
            "AI Product Manager,Product Management; Market Research; Data Analysis; Communication; Agile Methodologies,JIRA; Trello; SQL; Python; Confluence  \n",
            "Data Architect,Data Modeling; Database Design; Data Warehousing; Cloud Computing; Big Data Technologies,AWS; Azure; SQL; Hadoop; MongoDB  \n",
            "Natural Language Processing Engineer,NLP Techniques; Machine Learning; Programming; Data Preprocessing; Text Analytics,Python; NLTK; SpaCy; TensorFlow; Hugging Face  \n",
            "Computer Vision Engineer,Image Processing; Machine Learning; Deep Learning; Programming; Data Augmentation,Python; OpenCV; TensorFlow; PyTorch; Keras\n"
          ]
        }
      ],
      "source": [
        "prompt = \"\"\"create a list of 10 roles specific to Data and AI, provide skills and tools used for each.\n",
        "Provide output in CSV format with headers: role, skills, tools.\n",
        "Keep the multiple tools and skills within column seperated by semicolon.\n",
        "Do not provide any other additional, sa the response will be further appended in csv file dicrectly.\"\"\"\n",
        "output = generate_response(prompt)\n",
        "\n",
        "import re\n",
        "def clean_response(text):\n",
        "    text = re.sub('```csv','',text)\n",
        "    text = re.sub(\"```\",'',text)\n",
        "    return text.strip()\n",
        "\n",
        "output = clean_response(output)\n",
        "print(output)\n"
      ]
    },
    {
      "cell_type": "code",
      "execution_count": 32,
      "metadata": {
        "id": "xnFnCUATerK8"
      },
      "outputs": [],
      "source": [
        "with open(\"roles.csv\",\"w\") as file:\n",
        "    file.write(output)"
      ]
    },
    {
      "cell_type": "code",
      "execution_count": 33,
      "metadata": {
        "colab": {
          "base_uri": "https://localhost:8080/"
        },
        "id": "4H2qcAHIerK8",
        "outputId": "af71763c-7905-4840-bc5c-deaea446c295"
      },
      "outputs": [
        {
          "name": "stdout",
          "output_type": "stream",
          "text": [
            "import pandas as pd\n",
            "\n",
            "# Read the CSV file\n",
            "df = pd.read_csv('roles.csv')\n",
            "\n",
            "# Export to JSON format\n",
            "df.to_json('roles.json', orient='records', lines=True)\n",
            "\n",
            "# Print success message\n",
            "print(\"Exported roles.csv to roles.json successfully.\")\n"
          ]
        }
      ],
      "source": [
        "\n",
        "input_file = \"roles.csv\"\n",
        "prompt = f\"\"\" write python code to read the file {input_file} and export it to a JSON format using pandas.\n",
        "print success message at the end\n",
        "write code which can directly be executed, do not add any additional text/explaantion, if any use # (comment to mention)\n",
        "\"\"\"\n",
        "def clean_response(text):\n",
        "    text = re.sub('```python','',text)\n",
        "    text = re.sub(\"```\",'',text)\n",
        "    return text.strip()\n",
        "llmcode = generate_response(prompt)\n",
        "llmcode = clean_response(llmcode)\n",
        "print(llmcode)"
      ]
    },
    {
      "cell_type": "code",
      "execution_count": 34,
      "metadata": {
        "colab": {
          "base_uri": "https://localhost:8080/"
        },
        "id": "agitgR47erK8",
        "outputId": "1f579ef1-f525-47e4-f13c-0ac8ea2054da"
      },
      "outputs": [
        {
          "name": "stderr",
          "output_type": "stream",
          "text": [
            "C:\\Users\\Anshu Pandey\\AppData\\Roaming\\Python\\Python310\\site-packages\\pandas\\core\\arrays\\masked.py:60: UserWarning: Pandas requires version '1.3.6' or newer of 'bottleneck' (version '1.3.5' currently installed).\n",
            "  from pandas.core import (\n"
          ]
        },
        {
          "name": "stdout",
          "output_type": "stream",
          "text": [
            "Exported roles.csv to roles.json successfully.\n"
          ]
        }
      ],
      "source": [
        "exec(llmcode)"
      ]
    },
    {
      "cell_type": "code",
      "execution_count": 35,
      "metadata": {
        "colab": {
          "base_uri": "https://localhost:8080/"
        },
        "id": "7uZaWtT8erK9",
        "outputId": "5c30cd18-203e-4f14-ef8f-f082e4c4e281"
      },
      "outputs": [
        {
          "name": "stdout",
          "output_type": "stream",
          "text": [
            "### Summary\n",
            "Morningstar, Inc. is a financial services firm based in Chicago, Illinois, founded in 1984 by Joe Mansueto. The company offers investment research and management services and operates in 29 countries. Its research is highly regarded in the asset management industry, influencing investment decisions significantly. As of March 31, 2023, Morningstar manages over $295 billion in assets. Additionally, it provides software and data platforms for investment professionals.\n",
            "\n",
            "### Translation to French\n",
            "Morningstar, Inc. est une entreprise de services financiers basée à Chicago, dans l'Illinois, fondée en 1984 par Joe Mansueto. L'entreprise propose des services de recherche et de gestion d'investissements et opère dans 29 pays. Ses recherches sont très respectées dans l'industrie de la gestion d'actifs, influençant considérablement les décisions d'investissement. Au 31 mars 2023, Morningstar gère plus de 295 milliards de dollars d'actifs. De plus, elle fournit des logiciels et des plateformes de données pour les professionnels de l'investissement.\n",
            "\n",
            "### Locations\n",
            "- Chicago, Illinois, USA\n",
            "\n",
            "### JSON\n",
            "```json\n",
            "{\n",
            "  \"summary\": {\n",
            "    \"english\": \"Morningstar, Inc. is a financial services firm based in Chicago, Illinois, founded in 1984 by Joe Mansueto. The company offers investment research and management services and operates in 29 countries. Its research is highly regarded in the asset management industry, influencing investment decisions significantly. As of March 31, 2023, Morningstar manages over $295 billion in assets. Additionally, it provides software and data platforms for investment professionals.\",\n",
            "    \"french\": \"Morningstar, Inc. est une entreprise de services financiers basée à Chicago, dans l'Illinois, fondée en 1984 par Joe Mansueto. L'entreprise propose des services de recherche et de gestion d'investissements et opère dans 29 pays. Ses recherches sont très respectées dans l'industrie de la gestion d'actifs, influençant considérablement les décisions d'investissement. Au 31 mars 2023, Morningstar gère plus de 295 milliards de dollars d'actifs. De plus, elle fournit des logiciels et des plateformes de données pour les professionnels de l'investissement.\"\n",
            "  },\n",
            "  \"locations\": [\n",
            "    {\n",
            "      \"city\": \"Chicago\",\n",
            "      \"state\": \"Illinois\",\n",
            "      \"country\": \"USA\"\n",
            "    }\n",
            "  ]\n",
            "}\n",
            "```\n"
          ]
        }
      ],
      "source": [
        "content = \"\"\"Morningstar, Inc. is an American financial services firm headquartered in Chicago, Illinois, founded by Joe Mansueto in 1984. It provides an array of investment research and investment management services.\n",
        "With operations in 29 countries, Morningstar's research and recommendations are considered by financial journalists as influential in the asset management industry, and a positive or negative recommendation from Morningstar analysts can drive money into or away from any given fund.[3][4] Through its asset management division, the firm currently manages over US$295 billion as of March 31, 2023.[5]\n",
        "The firm also provides software and data platforms for investment professionals, including \"Morningstar Research Portal\", \"Morningstar Direct\" and \"Morningstar Advisor Workstation\".\n",
        "    \"\"\"\n",
        "\n",
        "prompt = f\"\"\" Summarize below content separated by triple backticks, translate it to french, provide name of locaitons\n",
        "and a JSON with everything.\n",
        "\n",
        "content:\n",
        "```{content}```\n",
        "\"\"\"\n",
        "print(generate_response(prompt))"
      ]
    },
    {
      "cell_type": "code",
      "execution_count": 36,
      "metadata": {
        "colab": {
          "base_uri": "https://localhost:8080/"
        },
        "id": "lVefCX-AerK9",
        "outputId": "e4dd5cc2-c5dc-4adc-82df-0c7abb3dfd0e"
      },
      "outputs": [
        {
          "name": "stdout",
          "output_type": "stream",
          "text": [
            "1. **Summary:**\n",
            "Morningstar, Inc. is a financial services firm based in Chicago, Illinois, founded in 1984 by Joe Mansueto. The company offers investment research and management services and operates in 29 countries. Its recommendations are influential in the asset management industry, impacting fund investments significantly. As of March 31, 2023, Morningstar manages over $295 billion through its asset management division and provides various software and data platforms for investment professionals.\n",
            "\n",
            "2. **Translation to French:**\n",
            "Morningstar, Inc. est une société de services financiers basée à Chicago, dans l'Illinois, fondée en 1984 par Joe Mansueto. L'entreprise propose des services de recherche et de gestion d'investissements et opère dans 29 pays. Ses recommandations sont influentes dans l'industrie de la gestion d'actifs, impactant de manière significative les investissements dans les fonds. Au 31 mars 2023, Morningstar gère plus de 295 milliards de dollars par le biais de sa division de gestion d'actifs et fournit diverses plateformes logicielles et de données pour les professionnels de l'investissement.\n",
            "\n",
            "3. **Extracted Locations:**\n",
            "- Chicago, Illinois\n",
            "- 29 countries (not specified)\n",
            "\n",
            "4. **JSON Output:**\n",
            "```json\n",
            "{\n",
            "  \"summary\": \"Morningstar, Inc. is a financial services firm based in Chicago, Illinois, founded in 1984 by Joe Mansueto. The company offers investment research and management services and operates in 29 countries. Its recommendations are influential in the asset management industry, impacting fund investments significantly. As of March 31, 2023, Morningstar manages over $295 billion through its asset management division and provides various software and data platforms for investment professionals.\",\n",
            "  \"translation\": \"Morningstar, Inc. est une société de services financiers basée à Chicago, dans l'Illinois, fondée en 1984 par Joe Mansueto. L'entreprise propose des services de recherche et de gestion d'investissements et opère dans 29 pays. Ses recommandations sont influentes dans l'industrie de la gestion d'actifs, impactant de manière significative les investissements dans les fonds. Au 31 mars 2023, Morningstar gère plus de 295 milliards de dollars par le biais de sa division de gestion d'actifs et fournit diverses plateformes logicielles et de données pour les professionnels de l'investissement.\",\n",
            "  \"locations\": [\n",
            "    \"Chicago, Illinois\",\n",
            "    \"29 countries\"\n",
            "  ]\n",
            "}\n",
            "```\n"
          ]
        }
      ],
      "source": [
        "prompt = f\"\"\"Perform following tasks:\n",
        "1. Summarize below content separated by triple backticks\n",
        "2. translate summary to french\n",
        "3. Extract name of locaitons from content\n",
        "4. Provide a JSON with everything.\n",
        "\n",
        "content:\n",
        "```{content}```\n",
        "\"\"\"\n",
        "print(generate_response(prompt))"
      ]
    },
    {
      "cell_type": "markdown",
      "metadata": {
        "id": "UPHJl-_tA7O0"
      },
      "source": [
        "## Hallucinations"
      ]
    },
    {
      "cell_type": "code",
      "execution_count": 37,
      "metadata": {
        "colab": {
          "base_uri": "https://localhost:8080/"
        },
        "id": "E0nS2q4BerK-",
        "outputId": "7f2de547-1392-42a9-987e-4b089317ca1a"
      },
      "outputs": [
        {
          "name": "stdout",
          "output_type": "stream",
          "text": [
            "Step 1: Gather warm water and mix it with some detergent.  \n",
            "Step 2: Place the dirty clothes into the mixture and let them soak for a while.  \n",
            "Step 3: Allow the stains to loosen and mix with the water during the soaking period.  \n",
            "Step 4: Remove the clothes from the water and use a soft brush to rub out any remaining dirt or stains.  \n",
            "Step 5: Rinse the clothes in clean water to remove the detergent.  \n",
            "Step 6: Hang the clothes on a rope to dry.  \n",
            "Step 7: Enjoy your clean clothes!\n"
          ]
        }
      ],
      "source": [
        "# asking for a specific format\n",
        "text = \"\"\"\n",
        "Washing clothes without washing machines is easy!\n",
        "First you need to get some warm water. Mix the warm water with some detergent. Second you can put the dirty clothes in it and let it stay wet for some time.\n",
        "During this period the stains will get loose and mixed with water.\n",
        "thereafter you can take clothes out, rub the dirt/stains with a soft brush to remove the stains if any.\n",
        "get the clothes mixed with water to get the detergent out of it. and then put it for drying on a rope.\n",
        "Enjoy the clean clothes.\n",
        "\"\"\"\n",
        "\n",
        "prompt = f\"\"\"\n",
        "you will be provided with some text delimited by triple backticks. Rewrite those into a set of instructions in the following format:\n",
        "\n",
        "Step 1: ...\n",
        "Step 2: ....\n",
        "..\n",
        "Step N:...\n",
        "\n",
        "```{text}\n",
        "```\n",
        "\"\"\"\n",
        "response = generate_response(prompt)\n",
        "print(response)"
      ]
    },
    {
      "cell_type": "code",
      "execution_count": 38,
      "metadata": {
        "colab": {
          "base_uri": "https://localhost:8080/"
        },
        "id": "aDlUmltEBLd7",
        "outputId": "5fc766e7-d07d-4389-a4c9-660ebb873363"
      },
      "outputs": [
        {
          "name": "stdout",
          "output_type": "stream",
          "text": [
            "Step 1: Observe the morning weather and take note of the brightness of the sun peeking through the clouds.  \n",
            "Step 2: Appreciate the pleasant weather conditions.  \n",
            "Step 3: Feel the refreshing wind and enjoy its invigorating effect.  \n",
            "Step 4: Reflect on your overall enjoyment of the day.\n"
          ]
        }
      ],
      "source": [
        "# asking for a specific format\n",
        "text = \"\"\"\n",
        "The morning today is amazing, the sun is looking bright in between clouds, the weather is pleasent and the wind is mindblowing.\n",
        "on a whole i am loving the day today.\n",
        "\"\"\"\n",
        "\n",
        "prompt = f\"\"\"\n",
        "you will be provided with some text delimited by triple backticks. Rewrite those into a set of instructions in the following format:\n",
        "\n",
        "Step 1: ...\n",
        "Step 2: ....\n",
        "..\n",
        "Step N:...\n",
        "\n",
        "```{text}\n",
        "```\n",
        "\"\"\"\n",
        "response = generate_response(prompt)\n",
        "print(response)"
      ]
    },
    {
      "cell_type": "code",
      "execution_count": 39,
      "metadata": {
        "colab": {
          "base_uri": "https://localhost:8080/"
        },
        "id": "kSbZxYCVBbx7",
        "outputId": "a336bf0d-3408-49d9-9353-8d206957229d"
      },
      "outputs": [
        {
          "name": "stdout",
          "output_type": "stream",
          "text": [
            "Step 1: Get some warm water.  \n",
            "Step 2: Mix the warm water with some detergent.  \n",
            "Step 3: Put the dirty clothes in the mixture and let them stay wet for some time.  \n",
            "Step 4: Take the clothes out and rub the dirt/stains with a soft brush to remove any stains.  \n",
            "Step 5: Rinse the clothes with water to get the detergent out.  \n",
            "Step 6: Hang the clothes on a rope to dry.  \n",
            "Step 7: Enjoy the clean clothes.\n"
          ]
        }
      ],
      "source": [
        "# asking for a specific format\n",
        "text = \"\"\"\n",
        "Washing clothes without washing machines is easy!\n",
        "First you need to get some warm water. Mix the warm water with some detergent. Second you can put the dirty clothes in it and let it stay wet for some time.\n",
        "During this period the stains will get loose and mixed with water.\n",
        "thereafter you can take clothes out, rub the dirt/stains with a soft brush to remove the stains if any.\n",
        "get the clothes mixed with water to get the detergent out of it. and then put it for drying on a rope.\n",
        "Enjoy the clean clothes.\n",
        "\"\"\"\n",
        "\n",
        "prompt = f\"\"\"\n",
        "you will be provided with some text delimited by triple backticks.\n",
        "Rewrite those into a set of instructions in the following format only if contains a sequence of instructions:\n",
        "\n",
        "Step 1: ...\n",
        "Step 2: ....\n",
        "..\n",
        "Step N:...\n",
        "\n",
        "```{text}\n",
        "```\n",
        "\n",
        "if the text does not contain a sequence of instructions, then simply write 'No steps provided'\n",
        "\"\"\"\n",
        "response = generate_response(prompt)\n",
        "print(response)"
      ]
    },
    {
      "cell_type": "code",
      "execution_count": 40,
      "metadata": {
        "colab": {
          "base_uri": "https://localhost:8080/"
        },
        "id": "5_16NJitB9xp",
        "outputId": "9ed6b07e-759c-46a0-cb10-6ecf72ef9918"
      },
      "outputs": [
        {
          "name": "stdout",
          "output_type": "stream",
          "text": [
            "No steps provided\n"
          ]
        }
      ],
      "source": [
        "# asking for a specific format\n",
        "text = \"\"\"\n",
        "The morning today is amazing, the sun is looking bright in between clouds, the weather is pleasent and the wind is mindblowing.\n",
        "on a whole i am loving the day today.\n",
        "\"\"\"\n",
        "\n",
        "prompt = f\"\"\"\n",
        "you will be provided with some text delimited by triple backticks.\n",
        "Rewrite those into a set of instructions in the following format only if contains a sequence of instructions:\n",
        "\n",
        "Step 1: ...\n",
        "Step 2: ....\n",
        "..\n",
        "Step N:...\n",
        "\n",
        "```{text}\n",
        "```\n",
        "\n",
        "if the text does not contain a sequence of instructions, then simply write 'No steps provided'\n",
        "\"\"\"\n",
        "response = generate_response(prompt)\n",
        "print(response)"
      ]
    },
    {
      "cell_type": "code",
      "execution_count": 41,
      "metadata": {
        "colab": {
          "base_uri": "https://localhost:8080/"
        },
        "id": "HDWT_m3rCB1_",
        "outputId": "c4afe2b6-6080-4543-8d52-5c625f082e00"
      },
      "outputs": [
        {
          "name": "stdout",
          "output_type": "stream",
          "text": [
            "1. **Delhi**: A vibrant blend of ancient history and modernity, Delhi is India's bustling capital known for its rich culture, diverse cuisine, and historical landmarks.  \n",
            "2. **Manila**: The capital of the Philippines, Manila is a lively metropolis characterized by its colonial architecture, vibrant street life, and rich cultural heritage.  \n",
            "3. **JPchasecity**: A fictional or lesser-known city, JPchasecity is characterized by its unique blend of urban innovation and community spirit, fostering creativity and collaboration.  \n",
            "4. **Kuala Lumpur**: Malaysia's capital, Kuala Lumpur is famous for its iconic Petronas Towers, diverse culture, and delicious street food, making it a dynamic urban hub.  \n",
            "5. **Dubai**: A dazzling city in the UAE, Dubai is renowned for its futuristic skyline, luxury shopping, and extravagant lifestyle, blending tradition with modernity.  \n"
          ]
        }
      ],
      "source": [
        "prompt = \"\"\"write one line description for below cities:\n",
        "\n",
        "1. Delhi\n",
        "2. Manila\n",
        "3. JPchasecity\n",
        "4. Kuala Lumpur\n",
        "5. Dubai\n",
        "\"\"\"\n",
        "print(generate_response(prompt))"
      ]
    },
    {
      "cell_type": "code",
      "execution_count": 42,
      "metadata": {
        "colab": {
          "base_uri": "https://localhost:8080/"
        },
        "id": "BoYh60OwCZzy",
        "outputId": "99e59883-496c-48ce-801a-660ef4da457d"
      },
      "outputs": [
        {
          "name": "stdout",
          "output_type": "stream",
          "text": [
            "1. **Delhi**: The bustling capital of India, known for its rich history, diverse culture, and vibrant street life.  \n",
            "2. **Manila**: The capital city of the Philippines, famous for its historic sites, lively atmosphere, and as a major center of commerce and culture.  \n",
            "3. **JPchasecity**: The city does not exist as per my knowledge.  \n",
            "4. **Kuala Lumpur**: The capital of Malaysia, renowned for its modern skyline, including the iconic Petronas Twin Towers, and a melting pot of cultures.  \n",
            "5. **Dubai**: A global city in the UAE known for its luxury shopping, ultramodern architecture, and vibrant nightlife.  \n"
          ]
        }
      ],
      "source": [
        "prompt = \"\"\"write one line description for below cities:\n",
        "\n",
        "1. Delhi\n",
        "2. Manila\n",
        "3. JPchasecity\n",
        "4. Kuala Lumpur\n",
        "5. Dubai\n",
        "\n",
        "\n",
        "\n",
        "CHeck if the city is the actual city as per your knowledge base / cutoff data, if not mention that \"The city does not exist as per my knowledge\"\n",
        "\"\"\"\n",
        "print(generate_response(prompt))"
      ]
    },
    {
      "cell_type": "code",
      "execution_count": 43,
      "metadata": {
        "colab": {
          "base_uri": "https://localhost:8080/"
        },
        "id": "jIUgiYwmC1MO",
        "outputId": "790ca0dd-ada3-4975-cc42-905089d2d944"
      },
      "outputs": [
        {
          "name": "stdout",
          "output_type": "stream",
          "text": [
            "1. **Chase Credit Card**: Experience financial freedom and rewards with the Chase Credit Card, designed to enhance your purchasing power while offering a range of benefits tailored to your lifestyle. Enjoy competitive cashback rates, travel rewards, and exclusive access to events, all backed by Chase's trusted customer service. Whether you're shopping, dining, or traveling, this card provides the flexibility and security you need to make the most of every transaction.\n",
            "\n",
            "2. **Ergonomic Toothbrush**: Revolutionize your oral care routine with our Ergonomic Toothbrush, expertly designed to provide maximum comfort and efficiency. Featuring a contoured handle that fits perfectly in your hand, this toothbrush ensures optimal grip and control, making it easier to reach every corner of your mouth. With soft, angled bristles that effectively clean while being gentle on your gums, this toothbrush promotes healthier teeth and a brighter smile, all while reducing strain on your wrist.\n",
            "\n",
            "3. **JP Morgan Relax Chair**: Unwind in style with the JP Morgan Relax Chair, a perfect blend of luxury and comfort. Crafted with premium materials and an innovative design, this chair offers exceptional support for your body, allowing you to sink into relaxation after a long day. Its sleek aesthetic complements any modern decor, while features like adjustable reclining positions and plush cushioning ensure that you can find your ideal lounging position. Elevate your relaxation experience with a chair that embodies sophistication and tranquility.\n"
          ]
        }
      ],
      "source": [
        "prompt = \"\"\"write one description for below products:\n",
        "\n",
        "1. A credit card by Chase\n",
        "2. An ergonomic Toothbrush\n",
        "3. A relax chair by JP Morgan\n",
        "\"\"\"\n",
        "print(generate_response(prompt))"
      ]
    },
    {
      "cell_type": "code",
      "execution_count": 46,
      "metadata": {
        "id": "jM2oDOMYDL6J"
      },
      "outputs": [],
      "source": [
        "# creating a function to get outcome\n",
        "def generate_response(prompt,model='gpt4o',temperature=0,stream=False):\n",
        "  messages = [{\"role\":\"user\",\"content\":prompt}]\n",
        "  response = client.chat.completions.create(\n",
        "      model = model,\n",
        "      messages = messages,\n",
        "      temperature=temperature,\n",
        "      stream=stream\n",
        "      #top_p=0.99\n",
        "  )\n",
        "  return response\n"
      ]
    },
    {
      "cell_type": "code",
      "execution_count": 47,
      "metadata": {
        "colab": {
          "base_uri": "https://localhost:8080/"
        },
        "id": "voWbPlIAFY29",
        "outputId": "e1bfe54a-0f38-45b4-cd05-4a4c4358f30f"
      },
      "outputs": [
        {
          "name": "stdout",
          "output_type": "stream",
          "text": [
            "ChatCompletionChunk(id='', choices=[], created=0, model='', object='', service_tier=None, system_fingerprint=None, usage=None, prompt_filter_results=[{'prompt_index': 0, 'content_filter_results': {'hate': {'filtered': False, 'severity': 'safe'}, 'self_harm': {'filtered': False, 'severity': 'safe'}, 'sexual': {'filtered': False, 'severity': 'safe'}, 'violence': {'filtered': False, 'severity': 'safe'}}}])\n",
            "ChatCompletionChunk(id='chatcmpl-CBuLtClLUGwQk6OmbQW6kBBfa2DeT', choices=[Choice(delta=ChoiceDelta(content='', function_call=None, refusal=None, role='assistant', tool_calls=None), finish_reason=None, index=0, logprobs=None, content_filter_results={})], created=1756954261, model='gpt-4o-mini-2024-07-18', object='chat.completion.chunk', service_tier=None, system_fingerprint='fp_efad92c60b', usage=None)\n",
            "ChatCompletionChunk(id='chatcmpl-CBuLtClLUGwQk6OmbQW6kBBfa2DeT', choices=[Choice(delta=ChoiceDelta(content='1', function_call=None, refusal=None, role=None, tool_calls=None), finish_reason=None, index=0, logprobs=None, content_filter_results={'hate': {'filtered': False, 'severity': 'safe'}, 'self_harm': {'filtered': False, 'severity': 'safe'}, 'sexual': {'filtered': False, 'severity': 'safe'}, 'violence': {'filtered': False, 'severity': 'safe'}})], created=1756954261, model='gpt-4o-mini-2024-07-18', object='chat.completion.chunk', service_tier=None, system_fingerprint='fp_efad92c60b', usage=None)\n",
            "ChatCompletionChunk(id='chatcmpl-CBuLtClLUGwQk6OmbQW6kBBfa2DeT', choices=[Choice(delta=ChoiceDelta(content='.', function_call=None, refusal=None, role=None, tool_calls=None), finish_reason=None, index=0, logprobs=None, content_filter_results={'hate': {'filtered': False, 'severity': 'safe'}, 'self_harm': {'filtered': False, 'severity': 'safe'}, 'sexual': {'filtered': False, 'severity': 'safe'}, 'violence': {'filtered': False, 'severity': 'safe'}})], created=1756954261, model='gpt-4o-mini-2024-07-18', object='chat.completion.chunk', service_tier=None, system_fingerprint='fp_efad92c60b', usage=None)\n",
            "ChatCompletionChunk(id='chatcmpl-CBuLtClLUGwQk6OmbQW6kBBfa2DeT', choices=[Choice(delta=ChoiceDelta(content=' **', function_call=None, refusal=None, role=None, tool_calls=None), finish_reason=None, index=0, logprobs=None, content_filter_results={'hate': {'filtered': False, 'severity': 'safe'}, 'self_harm': {'filtered': False, 'severity': 'safe'}, 'sexual': {'filtered': False, 'severity': 'safe'}, 'violence': {'filtered': False, 'severity': 'safe'}})], created=1756954261, model='gpt-4o-mini-2024-07-18', object='chat.completion.chunk', service_tier=None, system_fingerprint='fp_efad92c60b', usage=None)\n",
            "ChatCompletionChunk(id='chatcmpl-CBuLtClLUGwQk6OmbQW6kBBfa2DeT', choices=[Choice(delta=ChoiceDelta(content='Delhi', function_call=None, refusal=None, role=None, tool_calls=None), finish_reason=None, index=0, logprobs=None, content_filter_results={'hate': {'filtered': False, 'severity': 'safe'}, 'self_harm': {'filtered': False, 'severity': 'safe'}, 'sexual': {'filtered': False, 'severity': 'safe'}, 'violence': {'filtered': False, 'severity': 'safe'}})], created=1756954261, model='gpt-4o-mini-2024-07-18', object='chat.completion.chunk', service_tier=None, system_fingerprint='fp_efad92c60b', usage=None)\n",
            "ChatCompletionChunk(id='chatcmpl-CBuLtClLUGwQk6OmbQW6kBBfa2DeT', choices=[Choice(delta=ChoiceDelta(content='**', function_call=None, refusal=None, role=None, tool_calls=None), finish_reason=None, index=0, logprobs=None, content_filter_results={'hate': {'filtered': False, 'severity': 'safe'}, 'self_harm': {'filtered': False, 'severity': 'safe'}, 'sexual': {'filtered': False, 'severity': 'safe'}, 'violence': {'filtered': False, 'severity': 'safe'}})], created=1756954261, model='gpt-4o-mini-2024-07-18', object='chat.completion.chunk', service_tier=None, system_fingerprint='fp_efad92c60b', usage=None)\n",
            "ChatCompletionChunk(id='chatcmpl-CBuLtClLUGwQk6OmbQW6kBBfa2DeT', choices=[Choice(delta=ChoiceDelta(content=':', function_call=None, refusal=None, role=None, tool_calls=None), finish_reason=None, index=0, logprobs=None, content_filter_results={'hate': {'filtered': False, 'severity': 'safe'}, 'self_harm': {'filtered': False, 'severity': 'safe'}, 'sexual': {'filtered': False, 'severity': 'safe'}, 'violence': {'filtered': False, 'severity': 'safe'}})], created=1756954261, model='gpt-4o-mini-2024-07-18', object='chat.completion.chunk', service_tier=None, system_fingerprint='fp_efad92c60b', usage=None)\n",
            "ChatCompletionChunk(id='chatcmpl-CBuLtClLUGwQk6OmbQW6kBBfa2DeT', choices=[Choice(delta=ChoiceDelta(content=' A', function_call=None, refusal=None, role=None, tool_calls=None), finish_reason=None, index=0, logprobs=None, content_filter_results={'hate': {'filtered': False, 'severity': 'safe'}, 'self_harm': {'filtered': False, 'severity': 'safe'}, 'sexual': {'filtered': False, 'severity': 'safe'}, 'violence': {'filtered': False, 'severity': 'safe'}})], created=1756954261, model='gpt-4o-mini-2024-07-18', object='chat.completion.chunk', service_tier=None, system_fingerprint='fp_efad92c60b', usage=None)\n",
            "ChatCompletionChunk(id='chatcmpl-CBuLtClLUGwQk6OmbQW6kBBfa2DeT', choices=[Choice(delta=ChoiceDelta(content=' vibrant', function_call=None, refusal=None, role=None, tool_calls=None), finish_reason=None, index=0, logprobs=None, content_filter_results={'hate': {'filtered': False, 'severity': 'safe'}, 'self_harm': {'filtered': False, 'severity': 'safe'}, 'sexual': {'filtered': False, 'severity': 'safe'}, 'violence': {'filtered': False, 'severity': 'safe'}})], created=1756954261, model='gpt-4o-mini-2024-07-18', object='chat.completion.chunk', service_tier=None, system_fingerprint='fp_efad92c60b', usage=None)\n",
            "ChatCompletionChunk(id='chatcmpl-CBuLtClLUGwQk6OmbQW6kBBfa2DeT', choices=[Choice(delta=ChoiceDelta(content=' metropolis', function_call=None, refusal=None, role=None, tool_calls=None), finish_reason=None, index=0, logprobs=None, content_filter_results={'hate': {'filtered': False, 'severity': 'safe'}, 'self_harm': {'filtered': False, 'severity': 'safe'}, 'sexual': {'filtered': False, 'severity': 'safe'}, 'violence': {'filtered': False, 'severity': 'safe'}})], created=1756954261, model='gpt-4o-mini-2024-07-18', object='chat.completion.chunk', service_tier=None, system_fingerprint='fp_efad92c60b', usage=None)\n",
            "ChatCompletionChunk(id='chatcmpl-CBuLtClLUGwQk6OmbQW6kBBfa2DeT', choices=[Choice(delta=ChoiceDelta(content=' that', function_call=None, refusal=None, role=None, tool_calls=None), finish_reason=None, index=0, logprobs=None, content_filter_results={'hate': {'filtered': False, 'severity': 'safe'}, 'self_harm': {'filtered': False, 'severity': 'safe'}, 'sexual': {'filtered': False, 'severity': 'safe'}, 'violence': {'filtered': False, 'severity': 'safe'}})], created=1756954261, model='gpt-4o-mini-2024-07-18', object='chat.completion.chunk', service_tier=None, system_fingerprint='fp_efad92c60b', usage=None)\n",
            "ChatCompletionChunk(id='chatcmpl-CBuLtClLUGwQk6OmbQW6kBBfa2DeT', choices=[Choice(delta=ChoiceDelta(content=' blends', function_call=None, refusal=None, role=None, tool_calls=None), finish_reason=None, index=0, logprobs=None, content_filter_results={'hate': {'filtered': False, 'severity': 'safe'}, 'self_harm': {'filtered': False, 'severity': 'safe'}, 'sexual': {'filtered': False, 'severity': 'safe'}, 'violence': {'filtered': False, 'severity': 'safe'}})], created=1756954261, model='gpt-4o-mini-2024-07-18', object='chat.completion.chunk', service_tier=None, system_fingerprint='fp_efad92c60b', usage=None)\n",
            "ChatCompletionChunk(id='chatcmpl-CBuLtClLUGwQk6OmbQW6kBBfa2DeT', choices=[Choice(delta=ChoiceDelta(content=' rich', function_call=None, refusal=None, role=None, tool_calls=None), finish_reason=None, index=0, logprobs=None, content_filter_results={'hate': {'filtered': False, 'severity': 'safe'}, 'self_harm': {'filtered': False, 'severity': 'safe'}, 'sexual': {'filtered': False, 'severity': 'safe'}, 'violence': {'filtered': False, 'severity': 'safe'}})], created=1756954261, model='gpt-4o-mini-2024-07-18', object='chat.completion.chunk', service_tier=None, system_fingerprint='fp_efad92c60b', usage=None)\n",
            "ChatCompletionChunk(id='chatcmpl-CBuLtClLUGwQk6OmbQW6kBBfa2DeT', choices=[Choice(delta=ChoiceDelta(content=' history', function_call=None, refusal=None, role=None, tool_calls=None), finish_reason=None, index=0, logprobs=None, content_filter_results={'hate': {'filtered': False, 'severity': 'safe'}, 'self_harm': {'filtered': False, 'severity': 'safe'}, 'sexual': {'filtered': False, 'severity': 'safe'}, 'violence': {'filtered': False, 'severity': 'safe'}})], created=1756954261, model='gpt-4o-mini-2024-07-18', object='chat.completion.chunk', service_tier=None, system_fingerprint='fp_efad92c60b', usage=None)\n",
            "ChatCompletionChunk(id='chatcmpl-CBuLtClLUGwQk6OmbQW6kBBfa2DeT', choices=[Choice(delta=ChoiceDelta(content=' with', function_call=None, refusal=None, role=None, tool_calls=None), finish_reason=None, index=0, logprobs=None, content_filter_results={'hate': {'filtered': False, 'severity': 'safe'}, 'self_harm': {'filtered': False, 'severity': 'safe'}, 'sexual': {'filtered': False, 'severity': 'safe'}, 'violence': {'filtered': False, 'severity': 'safe'}})], created=1756954261, model='gpt-4o-mini-2024-07-18', object='chat.completion.chunk', service_tier=None, system_fingerprint='fp_efad92c60b', usage=None)\n",
            "ChatCompletionChunk(id='chatcmpl-CBuLtClLUGwQk6OmbQW6kBBfa2DeT', choices=[Choice(delta=ChoiceDelta(content=' modern', function_call=None, refusal=None, role=None, tool_calls=None), finish_reason=None, index=0, logprobs=None, content_filter_results={'hate': {'filtered': False, 'severity': 'safe'}, 'self_harm': {'filtered': False, 'severity': 'safe'}, 'sexual': {'filtered': False, 'severity': 'safe'}, 'violence': {'filtered': False, 'severity': 'safe'}})], created=1756954261, model='gpt-4o-mini-2024-07-18', object='chat.completion.chunk', service_tier=None, system_fingerprint='fp_efad92c60b', usage=None)\n",
            "ChatCompletionChunk(id='chatcmpl-CBuLtClLUGwQk6OmbQW6kBBfa2DeT', choices=[Choice(delta=ChoiceDelta(content='ity', function_call=None, refusal=None, role=None, tool_calls=None), finish_reason=None, index=0, logprobs=None, content_filter_results={'hate': {'filtered': False, 'severity': 'safe'}, 'self_harm': {'filtered': False, 'severity': 'safe'}, 'sexual': {'filtered': False, 'severity': 'safe'}, 'violence': {'filtered': False, 'severity': 'safe'}})], created=1756954261, model='gpt-4o-mini-2024-07-18', object='chat.completion.chunk', service_tier=None, system_fingerprint='fp_efad92c60b', usage=None)\n",
            "ChatCompletionChunk(id='chatcmpl-CBuLtClLUGwQk6OmbQW6kBBfa2DeT', choices=[Choice(delta=ChoiceDelta(content=',', function_call=None, refusal=None, role=None, tool_calls=None), finish_reason=None, index=0, logprobs=None, content_filter_results={'hate': {'filtered': False, 'severity': 'safe'}, 'self_harm': {'filtered': False, 'severity': 'safe'}, 'sexual': {'filtered': False, 'severity': 'safe'}, 'violence': {'filtered': False, 'severity': 'safe'}})], created=1756954261, model='gpt-4o-mini-2024-07-18', object='chat.completion.chunk', service_tier=None, system_fingerprint='fp_efad92c60b', usage=None)\n",
            "ChatCompletionChunk(id='chatcmpl-CBuLtClLUGwQk6OmbQW6kBBfa2DeT', choices=[Choice(delta=ChoiceDelta(content=' serving', function_call=None, refusal=None, role=None, tool_calls=None), finish_reason=None, index=0, logprobs=None, content_filter_results={'hate': {'filtered': False, 'severity': 'safe'}, 'self_harm': {'filtered': False, 'severity': 'safe'}, 'sexual': {'filtered': False, 'severity': 'safe'}, 'violence': {'filtered': False, 'severity': 'safe'}})], created=1756954261, model='gpt-4o-mini-2024-07-18', object='chat.completion.chunk', service_tier=None, system_fingerprint='fp_efad92c60b', usage=None)\n",
            "ChatCompletionChunk(id='chatcmpl-CBuLtClLUGwQk6OmbQW6kBBfa2DeT', choices=[Choice(delta=ChoiceDelta(content=' as', function_call=None, refusal=None, role=None, tool_calls=None), finish_reason=None, index=0, logprobs=None, content_filter_results={'hate': {'filtered': False, 'severity': 'safe'}, 'self_harm': {'filtered': False, 'severity': 'safe'}, 'sexual': {'filtered': False, 'severity': 'safe'}, 'violence': {'filtered': False, 'severity': 'safe'}})], created=1756954261, model='gpt-4o-mini-2024-07-18', object='chat.completion.chunk', service_tier=None, system_fingerprint='fp_efad92c60b', usage=None)\n",
            "ChatCompletionChunk(id='chatcmpl-CBuLtClLUGwQk6OmbQW6kBBfa2DeT', choices=[Choice(delta=ChoiceDelta(content=' the', function_call=None, refusal=None, role=None, tool_calls=None), finish_reason=None, index=0, logprobs=None, content_filter_results={'hate': {'filtered': False, 'severity': 'safe'}, 'self_harm': {'filtered': False, 'severity': 'safe'}, 'sexual': {'filtered': False, 'severity': 'safe'}, 'violence': {'filtered': False, 'severity': 'safe'}})], created=1756954261, model='gpt-4o-mini-2024-07-18', object='chat.completion.chunk', service_tier=None, system_fingerprint='fp_efad92c60b', usage=None)\n",
            "ChatCompletionChunk(id='chatcmpl-CBuLtClLUGwQk6OmbQW6kBBfa2DeT', choices=[Choice(delta=ChoiceDelta(content=' capital', function_call=None, refusal=None, role=None, tool_calls=None), finish_reason=None, index=0, logprobs=None, content_filter_results={'hate': {'filtered': False, 'severity': 'safe'}, 'self_harm': {'filtered': False, 'severity': 'safe'}, 'sexual': {'filtered': False, 'severity': 'safe'}, 'violence': {'filtered': False, 'severity': 'safe'}})], created=1756954261, model='gpt-4o-mini-2024-07-18', object='chat.completion.chunk', service_tier=None, system_fingerprint='fp_efad92c60b', usage=None)\n",
            "ChatCompletionChunk(id='chatcmpl-CBuLtClLUGwQk6OmbQW6kBBfa2DeT', choices=[Choice(delta=ChoiceDelta(content=' of', function_call=None, refusal=None, role=None, tool_calls=None), finish_reason=None, index=0, logprobs=None, content_filter_results={'hate': {'filtered': False, 'severity': 'safe'}, 'self_harm': {'filtered': False, 'severity': 'safe'}, 'sexual': {'filtered': False, 'severity': 'safe'}, 'violence': {'filtered': False, 'severity': 'safe'}})], created=1756954261, model='gpt-4o-mini-2024-07-18', object='chat.completion.chunk', service_tier=None, system_fingerprint='fp_efad92c60b', usage=None)\n",
            "ChatCompletionChunk(id='chatcmpl-CBuLtClLUGwQk6OmbQW6kBBfa2DeT', choices=[Choice(delta=ChoiceDelta(content=' India', function_call=None, refusal=None, role=None, tool_calls=None), finish_reason=None, index=0, logprobs=None, content_filter_results={'hate': {'filtered': False, 'severity': 'safe'}, 'self_harm': {'filtered': False, 'severity': 'safe'}, 'sexual': {'filtered': False, 'severity': 'safe'}, 'violence': {'filtered': False, 'severity': 'safe'}})], created=1756954261, model='gpt-4o-mini-2024-07-18', object='chat.completion.chunk', service_tier=None, system_fingerprint='fp_efad92c60b', usage=None)\n",
            "ChatCompletionChunk(id='chatcmpl-CBuLtClLUGwQk6OmbQW6kBBfa2DeT', choices=[Choice(delta=ChoiceDelta(content='.', function_call=None, refusal=None, role=None, tool_calls=None), finish_reason=None, index=0, logprobs=None, content_filter_results={'hate': {'filtered': False, 'severity': 'safe'}, 'self_harm': {'filtered': False, 'severity': 'safe'}, 'sexual': {'filtered': False, 'severity': 'safe'}, 'violence': {'filtered': False, 'severity': 'safe'}})], created=1756954261, model='gpt-4o-mini-2024-07-18', object='chat.completion.chunk', service_tier=None, system_fingerprint='fp_efad92c60b', usage=None)\n",
            "ChatCompletionChunk(id='chatcmpl-CBuLtClLUGwQk6OmbQW6kBBfa2DeT', choices=[Choice(delta=ChoiceDelta(content='  \\n', function_call=None, refusal=None, role=None, tool_calls=None), finish_reason=None, index=0, logprobs=None, content_filter_results={'hate': {'filtered': False, 'severity': 'safe'}, 'self_harm': {'filtered': False, 'severity': 'safe'}, 'sexual': {'filtered': False, 'severity': 'safe'}, 'violence': {'filtered': False, 'severity': 'safe'}})], created=1756954261, model='gpt-4o-mini-2024-07-18', object='chat.completion.chunk', service_tier=None, system_fingerprint='fp_efad92c60b', usage=None)\n",
            "ChatCompletionChunk(id='chatcmpl-CBuLtClLUGwQk6OmbQW6kBBfa2DeT', choices=[Choice(delta=ChoiceDelta(content='2', function_call=None, refusal=None, role=None, tool_calls=None), finish_reason=None, index=0, logprobs=None, content_filter_results={'hate': {'filtered': False, 'severity': 'safe'}, 'self_harm': {'filtered': False, 'severity': 'safe'}, 'sexual': {'filtered': False, 'severity': 'safe'}, 'violence': {'filtered': False, 'severity': 'safe'}})], created=1756954261, model='gpt-4o-mini-2024-07-18', object='chat.completion.chunk', service_tier=None, system_fingerprint='fp_efad92c60b', usage=None)\n",
            "ChatCompletionChunk(id='chatcmpl-CBuLtClLUGwQk6OmbQW6kBBfa2DeT', choices=[Choice(delta=ChoiceDelta(content='.', function_call=None, refusal=None, role=None, tool_calls=None), finish_reason=None, index=0, logprobs=None, content_filter_results={'hate': {'filtered': False, 'severity': 'safe'}, 'self_harm': {'filtered': False, 'severity': 'safe'}, 'sexual': {'filtered': False, 'severity': 'safe'}, 'violence': {'filtered': False, 'severity': 'safe'}})], created=1756954261, model='gpt-4o-mini-2024-07-18', object='chat.completion.chunk', service_tier=None, system_fingerprint='fp_efad92c60b', usage=None)\n",
            "ChatCompletionChunk(id='chatcmpl-CBuLtClLUGwQk6OmbQW6kBBfa2DeT', choices=[Choice(delta=ChoiceDelta(content=' **', function_call=None, refusal=None, role=None, tool_calls=None), finish_reason=None, index=0, logprobs=None, content_filter_results={'hate': {'filtered': False, 'severity': 'safe'}, 'self_harm': {'filtered': False, 'severity': 'safe'}, 'sexual': {'filtered': False, 'severity': 'safe'}, 'violence': {'filtered': False, 'severity': 'safe'}})], created=1756954261, model='gpt-4o-mini-2024-07-18', object='chat.completion.chunk', service_tier=None, system_fingerprint='fp_efad92c60b', usage=None)\n",
            "ChatCompletionChunk(id='chatcmpl-CBuLtClLUGwQk6OmbQW6kBBfa2DeT', choices=[Choice(delta=ChoiceDelta(content='Man', function_call=None, refusal=None, role=None, tool_calls=None), finish_reason=None, index=0, logprobs=None, content_filter_results={'hate': {'filtered': False, 'severity': 'safe'}, 'self_harm': {'filtered': False, 'severity': 'safe'}, 'sexual': {'filtered': False, 'severity': 'safe'}, 'violence': {'filtered': False, 'severity': 'safe'}})], created=1756954261, model='gpt-4o-mini-2024-07-18', object='chat.completion.chunk', service_tier=None, system_fingerprint='fp_efad92c60b', usage=None)\n",
            "ChatCompletionChunk(id='chatcmpl-CBuLtClLUGwQk6OmbQW6kBBfa2DeT', choices=[Choice(delta=ChoiceDelta(content='ila', function_call=None, refusal=None, role=None, tool_calls=None), finish_reason=None, index=0, logprobs=None, content_filter_results={'hate': {'filtered': False, 'severity': 'safe'}, 'self_harm': {'filtered': False, 'severity': 'safe'}, 'sexual': {'filtered': False, 'severity': 'safe'}, 'violence': {'filtered': False, 'severity': 'safe'}})], created=1756954261, model='gpt-4o-mini-2024-07-18', object='chat.completion.chunk', service_tier=None, system_fingerprint='fp_efad92c60b', usage=None)\n",
            "ChatCompletionChunk(id='chatcmpl-CBuLtClLUGwQk6OmbQW6kBBfa2DeT', choices=[Choice(delta=ChoiceDelta(content='**', function_call=None, refusal=None, role=None, tool_calls=None), finish_reason=None, index=0, logprobs=None, content_filter_results={'hate': {'filtered': False, 'severity': 'safe'}, 'self_harm': {'filtered': False, 'severity': 'safe'}, 'sexual': {'filtered': False, 'severity': 'safe'}, 'violence': {'filtered': False, 'severity': 'safe'}})], created=1756954261, model='gpt-4o-mini-2024-07-18', object='chat.completion.chunk', service_tier=None, system_fingerprint='fp_efad92c60b', usage=None)\n",
            "ChatCompletionChunk(id='chatcmpl-CBuLtClLUGwQk6OmbQW6kBBfa2DeT', choices=[Choice(delta=ChoiceDelta(content=':', function_call=None, refusal=None, role=None, tool_calls=None), finish_reason=None, index=0, logprobs=None, content_filter_results={'hate': {'filtered': False, 'severity': 'safe'}, 'self_harm': {'filtered': False, 'severity': 'safe'}, 'sexual': {'filtered': False, 'severity': 'safe'}, 'violence': {'filtered': False, 'severity': 'safe'}})], created=1756954261, model='gpt-4o-mini-2024-07-18', object='chat.completion.chunk', service_tier=None, system_fingerprint='fp_efad92c60b', usage=None)\n",
            "ChatCompletionChunk(id='chatcmpl-CBuLtClLUGwQk6OmbQW6kBBfa2DeT', choices=[Choice(delta=ChoiceDelta(content=' The', function_call=None, refusal=None, role=None, tool_calls=None), finish_reason=None, index=0, logprobs=None, content_filter_results={'hate': {'filtered': False, 'severity': 'safe'}, 'self_harm': {'filtered': False, 'severity': 'safe'}, 'sexual': {'filtered': False, 'severity': 'safe'}, 'violence': {'filtered': False, 'severity': 'safe'}})], created=1756954261, model='gpt-4o-mini-2024-07-18', object='chat.completion.chunk', service_tier=None, system_fingerprint='fp_efad92c60b', usage=None)\n",
            "ChatCompletionChunk(id='chatcmpl-CBuLtClLUGwQk6OmbQW6kBBfa2DeT', choices=[Choice(delta=ChoiceDelta(content=' bustling', function_call=None, refusal=None, role=None, tool_calls=None), finish_reason=None, index=0, logprobs=None, content_filter_results={'hate': {'filtered': False, 'severity': 'safe'}, 'self_harm': {'filtered': False, 'severity': 'safe'}, 'sexual': {'filtered': False, 'severity': 'safe'}, 'violence': {'filtered': False, 'severity': 'safe'}})], created=1756954261, model='gpt-4o-mini-2024-07-18', object='chat.completion.chunk', service_tier=None, system_fingerprint='fp_efad92c60b', usage=None)\n",
            "ChatCompletionChunk(id='chatcmpl-CBuLtClLUGwQk6OmbQW6kBBfa2DeT', choices=[Choice(delta=ChoiceDelta(content=' capital', function_call=None, refusal=None, role=None, tool_calls=None), finish_reason=None, index=0, logprobs=None, content_filter_results={'hate': {'filtered': False, 'severity': 'safe'}, 'self_harm': {'filtered': False, 'severity': 'safe'}, 'sexual': {'filtered': False, 'severity': 'safe'}, 'violence': {'filtered': False, 'severity': 'safe'}})], created=1756954261, model='gpt-4o-mini-2024-07-18', object='chat.completion.chunk', service_tier=None, system_fingerprint='fp_efad92c60b', usage=None)\n",
            "ChatCompletionChunk(id='chatcmpl-CBuLtClLUGwQk6OmbQW6kBBfa2DeT', choices=[Choice(delta=ChoiceDelta(content=' of', function_call=None, refusal=None, role=None, tool_calls=None), finish_reason=None, index=0, logprobs=None, content_filter_results={'hate': {'filtered': False, 'severity': 'safe'}, 'self_harm': {'filtered': False, 'severity': 'safe'}, 'sexual': {'filtered': False, 'severity': 'safe'}, 'violence': {'filtered': False, 'severity': 'safe'}})], created=1756954261, model='gpt-4o-mini-2024-07-18', object='chat.completion.chunk', service_tier=None, system_fingerprint='fp_efad92c60b', usage=None)\n",
            "ChatCompletionChunk(id='chatcmpl-CBuLtClLUGwQk6OmbQW6kBBfa2DeT', choices=[Choice(delta=ChoiceDelta(content=' the', function_call=None, refusal=None, role=None, tool_calls=None), finish_reason=None, index=0, logprobs=None, content_filter_results={'hate': {'filtered': False, 'severity': 'safe'}, 'self_harm': {'filtered': False, 'severity': 'safe'}, 'sexual': {'filtered': False, 'severity': 'safe'}, 'violence': {'filtered': False, 'severity': 'safe'}})], created=1756954261, model='gpt-4o-mini-2024-07-18', object='chat.completion.chunk', service_tier=None, system_fingerprint='fp_efad92c60b', usage=None)\n",
            "ChatCompletionChunk(id='chatcmpl-CBuLtClLUGwQk6OmbQW6kBBfa2DeT', choices=[Choice(delta=ChoiceDelta(content=' Philippines', function_call=None, refusal=None, role=None, tool_calls=None), finish_reason=None, index=0, logprobs=None, content_filter_results={'hate': {'filtered': False, 'severity': 'safe'}, 'self_harm': {'filtered': False, 'severity': 'safe'}, 'sexual': {'filtered': False, 'severity': 'safe'}, 'violence': {'filtered': False, 'severity': 'safe'}})], created=1756954261, model='gpt-4o-mini-2024-07-18', object='chat.completion.chunk', service_tier=None, system_fingerprint='fp_efad92c60b', usage=None)\n",
            "ChatCompletionChunk(id='chatcmpl-CBuLtClLUGwQk6OmbQW6kBBfa2DeT', choices=[Choice(delta=ChoiceDelta(content=',', function_call=None, refusal=None, role=None, tool_calls=None), finish_reason=None, index=0, logprobs=None, content_filter_results={'hate': {'filtered': False, 'severity': 'safe'}, 'self_harm': {'filtered': False, 'severity': 'safe'}, 'sexual': {'filtered': False, 'severity': 'safe'}, 'violence': {'filtered': False, 'severity': 'safe'}})], created=1756954261, model='gpt-4o-mini-2024-07-18', object='chat.completion.chunk', service_tier=None, system_fingerprint='fp_efad92c60b', usage=None)\n",
            "ChatCompletionChunk(id='chatcmpl-CBuLtClLUGwQk6OmbQW6kBBfa2DeT', choices=[Choice(delta=ChoiceDelta(content=' known', function_call=None, refusal=None, role=None, tool_calls=None), finish_reason=None, index=0, logprobs=None, content_filter_results={'hate': {'filtered': False, 'severity': 'safe'}, 'self_harm': {'filtered': False, 'severity': 'safe'}, 'sexual': {'filtered': False, 'severity': 'safe'}, 'violence': {'filtered': False, 'severity': 'safe'}})], created=1756954261, model='gpt-4o-mini-2024-07-18', object='chat.completion.chunk', service_tier=None, system_fingerprint='fp_efad92c60b', usage=None)\n",
            "ChatCompletionChunk(id='chatcmpl-CBuLtClLUGwQk6OmbQW6kBBfa2DeT', choices=[Choice(delta=ChoiceDelta(content=' for', function_call=None, refusal=None, role=None, tool_calls=None), finish_reason=None, index=0, logprobs=None, content_filter_results={'hate': {'filtered': False, 'severity': 'safe'}, 'self_harm': {'filtered': False, 'severity': 'safe'}, 'sexual': {'filtered': False, 'severity': 'safe'}, 'violence': {'filtered': False, 'severity': 'safe'}})], created=1756954261, model='gpt-4o-mini-2024-07-18', object='chat.completion.chunk', service_tier=None, system_fingerprint='fp_efad92c60b', usage=None)\n",
            "ChatCompletionChunk(id='chatcmpl-CBuLtClLUGwQk6OmbQW6kBBfa2DeT', choices=[Choice(delta=ChoiceDelta(content=' its', function_call=None, refusal=None, role=None, tool_calls=None), finish_reason=None, index=0, logprobs=None, content_filter_results={'hate': {'filtered': False, 'severity': 'safe'}, 'self_harm': {'filtered': False, 'severity': 'safe'}, 'sexual': {'filtered': False, 'severity': 'safe'}, 'violence': {'filtered': False, 'severity': 'safe'}})], created=1756954261, model='gpt-4o-mini-2024-07-18', object='chat.completion.chunk', service_tier=None, system_fingerprint='fp_efad92c60b', usage=None)\n",
            "ChatCompletionChunk(id='chatcmpl-CBuLtClLUGwQk6OmbQW6kBBfa2DeT', choices=[Choice(delta=ChoiceDelta(content=' historic', function_call=None, refusal=None, role=None, tool_calls=None), finish_reason=None, index=0, logprobs=None, content_filter_results={'hate': {'filtered': False, 'severity': 'safe'}, 'self_harm': {'filtered': False, 'severity': 'safe'}, 'sexual': {'filtered': False, 'severity': 'safe'}, 'violence': {'filtered': False, 'severity': 'safe'}})], created=1756954261, model='gpt-4o-mini-2024-07-18', object='chat.completion.chunk', service_tier=None, system_fingerprint='fp_efad92c60b', usage=None)\n",
            "ChatCompletionChunk(id='chatcmpl-CBuLtClLUGwQk6OmbQW6kBBfa2DeT', choices=[Choice(delta=ChoiceDelta(content=' sites', function_call=None, refusal=None, role=None, tool_calls=None), finish_reason=None, index=0, logprobs=None, content_filter_results={'hate': {'filtered': False, 'severity': 'safe'}, 'self_harm': {'filtered': False, 'severity': 'safe'}, 'sexual': {'filtered': False, 'severity': 'safe'}, 'violence': {'filtered': False, 'severity': 'safe'}})], created=1756954261, model='gpt-4o-mini-2024-07-18', object='chat.completion.chunk', service_tier=None, system_fingerprint='fp_efad92c60b', usage=None)\n",
            "ChatCompletionChunk(id='chatcmpl-CBuLtClLUGwQk6OmbQW6kBBfa2DeT', choices=[Choice(delta=ChoiceDelta(content=' and', function_call=None, refusal=None, role=None, tool_calls=None), finish_reason=None, index=0, logprobs=None, content_filter_results={'hate': {'filtered': False, 'severity': 'safe'}, 'self_harm': {'filtered': False, 'severity': 'safe'}, 'sexual': {'filtered': False, 'severity': 'safe'}, 'violence': {'filtered': False, 'severity': 'safe'}})], created=1756954261, model='gpt-4o-mini-2024-07-18', object='chat.completion.chunk', service_tier=None, system_fingerprint='fp_efad92c60b', usage=None)\n",
            "ChatCompletionChunk(id='chatcmpl-CBuLtClLUGwQk6OmbQW6kBBfa2DeT', choices=[Choice(delta=ChoiceDelta(content=' vibrant', function_call=None, refusal=None, role=None, tool_calls=None), finish_reason=None, index=0, logprobs=None, content_filter_results={'hate': {'filtered': False, 'severity': 'safe'}, 'self_harm': {'filtered': False, 'severity': 'safe'}, 'sexual': {'filtered': False, 'severity': 'safe'}, 'violence': {'filtered': False, 'severity': 'safe'}})], created=1756954261, model='gpt-4o-mini-2024-07-18', object='chat.completion.chunk', service_tier=None, system_fingerprint='fp_efad92c60b', usage=None)\n",
            "ChatCompletionChunk(id='chatcmpl-CBuLtClLUGwQk6OmbQW6kBBfa2DeT', choices=[Choice(delta=ChoiceDelta(content=' culture', function_call=None, refusal=None, role=None, tool_calls=None), finish_reason=None, index=0, logprobs=None, content_filter_results={'hate': {'filtered': False, 'severity': 'safe'}, 'self_harm': {'filtered': False, 'severity': 'safe'}, 'sexual': {'filtered': False, 'severity': 'safe'}, 'violence': {'filtered': False, 'severity': 'safe'}})], created=1756954261, model='gpt-4o-mini-2024-07-18', object='chat.completion.chunk', service_tier=None, system_fingerprint='fp_efad92c60b', usage=None)\n",
            "ChatCompletionChunk(id='chatcmpl-CBuLtClLUGwQk6OmbQW6kBBfa2DeT', choices=[Choice(delta=ChoiceDelta(content='.', function_call=None, refusal=None, role=None, tool_calls=None), finish_reason=None, index=0, logprobs=None, content_filter_results={'hate': {'filtered': False, 'severity': 'safe'}, 'self_harm': {'filtered': False, 'severity': 'safe'}, 'sexual': {'filtered': False, 'severity': 'safe'}, 'violence': {'filtered': False, 'severity': 'safe'}})], created=1756954261, model='gpt-4o-mini-2024-07-18', object='chat.completion.chunk', service_tier=None, system_fingerprint='fp_efad92c60b', usage=None)\n",
            "ChatCompletionChunk(id='chatcmpl-CBuLtClLUGwQk6OmbQW6kBBfa2DeT', choices=[Choice(delta=ChoiceDelta(content='  \\n', function_call=None, refusal=None, role=None, tool_calls=None), finish_reason=None, index=0, logprobs=None, content_filter_results={'hate': {'filtered': False, 'severity': 'safe'}, 'self_harm': {'filtered': False, 'severity': 'safe'}, 'sexual': {'filtered': False, 'severity': 'safe'}, 'violence': {'filtered': False, 'severity': 'safe'}})], created=1756954261, model='gpt-4o-mini-2024-07-18', object='chat.completion.chunk', service_tier=None, system_fingerprint='fp_efad92c60b', usage=None)\n",
            "ChatCompletionChunk(id='chatcmpl-CBuLtClLUGwQk6OmbQW6kBBfa2DeT', choices=[Choice(delta=ChoiceDelta(content='3', function_call=None, refusal=None, role=None, tool_calls=None), finish_reason=None, index=0, logprobs=None, content_filter_results={'hate': {'filtered': False, 'severity': 'safe'}, 'self_harm': {'filtered': False, 'severity': 'safe'}, 'sexual': {'filtered': False, 'severity': 'safe'}, 'violence': {'filtered': False, 'severity': 'safe'}})], created=1756954261, model='gpt-4o-mini-2024-07-18', object='chat.completion.chunk', service_tier=None, system_fingerprint='fp_efad92c60b', usage=None)\n",
            "ChatCompletionChunk(id='chatcmpl-CBuLtClLUGwQk6OmbQW6kBBfa2DeT', choices=[Choice(delta=ChoiceDelta(content='.', function_call=None, refusal=None, role=None, tool_calls=None), finish_reason=None, index=0, logprobs=None, content_filter_results={'hate': {'filtered': False, 'severity': 'safe'}, 'self_harm': {'filtered': False, 'severity': 'safe'}, 'sexual': {'filtered': False, 'severity': 'safe'}, 'violence': {'filtered': False, 'severity': 'safe'}})], created=1756954261, model='gpt-4o-mini-2024-07-18', object='chat.completion.chunk', service_tier=None, system_fingerprint='fp_efad92c60b', usage=None)\n",
            "ChatCompletionChunk(id='chatcmpl-CBuLtClLUGwQk6OmbQW6kBBfa2DeT', choices=[Choice(delta=ChoiceDelta(content=' **', function_call=None, refusal=None, role=None, tool_calls=None), finish_reason=None, index=0, logprobs=None, content_filter_results={'hate': {'filtered': False, 'severity': 'safe'}, 'self_harm': {'filtered': False, 'severity': 'safe'}, 'sexual': {'filtered': False, 'severity': 'safe'}, 'violence': {'filtered': False, 'severity': 'safe'}})], created=1756954261, model='gpt-4o-mini-2024-07-18', object='chat.completion.chunk', service_tier=None, system_fingerprint='fp_efad92c60b', usage=None)\n",
            "ChatCompletionChunk(id='chatcmpl-CBuLtClLUGwQk6OmbQW6kBBfa2DeT', choices=[Choice(delta=ChoiceDelta(content='JP', function_call=None, refusal=None, role=None, tool_calls=None), finish_reason=None, index=0, logprobs=None, content_filter_results={'hate': {'filtered': False, 'severity': 'safe'}, 'self_harm': {'filtered': False, 'severity': 'safe'}, 'sexual': {'filtered': False, 'severity': 'safe'}, 'violence': {'filtered': False, 'severity': 'safe'}})], created=1756954261, model='gpt-4o-mini-2024-07-18', object='chat.completion.chunk', service_tier=None, system_fingerprint='fp_efad92c60b', usage=None)\n",
            "ChatCompletionChunk(id='chatcmpl-CBuLtClLUGwQk6OmbQW6kBBfa2DeT', choices=[Choice(delta=ChoiceDelta(content='ch', function_call=None, refusal=None, role=None, tool_calls=None), finish_reason=None, index=0, logprobs=None, content_filter_results={'hate': {'filtered': False, 'severity': 'safe'}, 'self_harm': {'filtered': False, 'severity': 'safe'}, 'sexual': {'filtered': False, 'severity': 'safe'}, 'violence': {'filtered': False, 'severity': 'safe'}})], created=1756954261, model='gpt-4o-mini-2024-07-18', object='chat.completion.chunk', service_tier=None, system_fingerprint='fp_efad92c60b', usage=None)\n",
            "ChatCompletionChunk(id='chatcmpl-CBuLtClLUGwQk6OmbQW6kBBfa2DeT', choices=[Choice(delta=ChoiceDelta(content='ase', function_call=None, refusal=None, role=None, tool_calls=None), finish_reason=None, index=0, logprobs=None, content_filter_results={'hate': {'filtered': False, 'severity': 'safe'}, 'self_harm': {'filtered': False, 'severity': 'safe'}, 'sexual': {'filtered': False, 'severity': 'safe'}, 'violence': {'filtered': False, 'severity': 'safe'}})], created=1756954261, model='gpt-4o-mini-2024-07-18', object='chat.completion.chunk', service_tier=None, system_fingerprint='fp_efad92c60b', usage=None)\n",
            "ChatCompletionChunk(id='chatcmpl-CBuLtClLUGwQk6OmbQW6kBBfa2DeT', choices=[Choice(delta=ChoiceDelta(content='city', function_call=None, refusal=None, role=None, tool_calls=None), finish_reason=None, index=0, logprobs=None, content_filter_results={'hate': {'filtered': False, 'severity': 'safe'}, 'self_harm': {'filtered': False, 'severity': 'safe'}, 'sexual': {'filtered': False, 'severity': 'safe'}, 'violence': {'filtered': False, 'severity': 'safe'}})], created=1756954261, model='gpt-4o-mini-2024-07-18', object='chat.completion.chunk', service_tier=None, system_fingerprint='fp_efad92c60b', usage=None)\n",
            "ChatCompletionChunk(id='chatcmpl-CBuLtClLUGwQk6OmbQW6kBBfa2DeT', choices=[Choice(delta=ChoiceDelta(content='**', function_call=None, refusal=None, role=None, tool_calls=None), finish_reason=None, index=0, logprobs=None, content_filter_results={'hate': {'filtered': False, 'severity': 'safe'}, 'self_harm': {'filtered': False, 'severity': 'safe'}, 'sexual': {'filtered': False, 'severity': 'safe'}, 'violence': {'filtered': False, 'severity': 'safe'}})], created=1756954261, model='gpt-4o-mini-2024-07-18', object='chat.completion.chunk', service_tier=None, system_fingerprint='fp_efad92c60b', usage=None)\n",
            "ChatCompletionChunk(id='chatcmpl-CBuLtClLUGwQk6OmbQW6kBBfa2DeT', choices=[Choice(delta=ChoiceDelta(content=':', function_call=None, refusal=None, role=None, tool_calls=None), finish_reason=None, index=0, logprobs=None, content_filter_results={'hate': {'filtered': False, 'severity': 'safe'}, 'self_harm': {'filtered': False, 'severity': 'safe'}, 'sexual': {'filtered': False, 'severity': 'safe'}, 'violence': {'filtered': False, 'severity': 'safe'}})], created=1756954261, model='gpt-4o-mini-2024-07-18', object='chat.completion.chunk', service_tier=None, system_fingerprint='fp_efad92c60b', usage=None)\n",
            "ChatCompletionChunk(id='chatcmpl-CBuLtClLUGwQk6OmbQW6kBBfa2DeT', choices=[Choice(delta=ChoiceDelta(content=' The', function_call=None, refusal=None, role=None, tool_calls=None), finish_reason=None, index=0, logprobs=None, content_filter_results={'hate': {'filtered': False, 'severity': 'safe'}, 'self_harm': {'filtered': False, 'severity': 'safe'}, 'sexual': {'filtered': False, 'severity': 'safe'}, 'violence': {'filtered': False, 'severity': 'safe'}})], created=1756954261, model='gpt-4o-mini-2024-07-18', object='chat.completion.chunk', service_tier=None, system_fingerprint='fp_efad92c60b', usage=None)\n",
            "ChatCompletionChunk(id='chatcmpl-CBuLtClLUGwQk6OmbQW6kBBfa2DeT', choices=[Choice(delta=ChoiceDelta(content=' city', function_call=None, refusal=None, role=None, tool_calls=None), finish_reason=None, index=0, logprobs=None, content_filter_results={'hate': {'filtered': False, 'severity': 'safe'}, 'self_harm': {'filtered': False, 'severity': 'safe'}, 'sexual': {'filtered': False, 'severity': 'safe'}, 'violence': {'filtered': False, 'severity': 'safe'}})], created=1756954261, model='gpt-4o-mini-2024-07-18', object='chat.completion.chunk', service_tier=None, system_fingerprint='fp_efad92c60b', usage=None)\n",
            "ChatCompletionChunk(id='chatcmpl-CBuLtClLUGwQk6OmbQW6kBBfa2DeT', choices=[Choice(delta=ChoiceDelta(content=' does', function_call=None, refusal=None, role=None, tool_calls=None), finish_reason=None, index=0, logprobs=None, content_filter_results={'hate': {'filtered': False, 'severity': 'safe'}, 'self_harm': {'filtered': False, 'severity': 'safe'}, 'sexual': {'filtered': False, 'severity': 'safe'}, 'violence': {'filtered': False, 'severity': 'safe'}})], created=1756954261, model='gpt-4o-mini-2024-07-18', object='chat.completion.chunk', service_tier=None, system_fingerprint='fp_efad92c60b', usage=None)\n",
            "ChatCompletionChunk(id='chatcmpl-CBuLtClLUGwQk6OmbQW6kBBfa2DeT', choices=[Choice(delta=ChoiceDelta(content=' not', function_call=None, refusal=None, role=None, tool_calls=None), finish_reason=None, index=0, logprobs=None, content_filter_results={'hate': {'filtered': False, 'severity': 'safe'}, 'self_harm': {'filtered': False, 'severity': 'safe'}, 'sexual': {'filtered': False, 'severity': 'safe'}, 'violence': {'filtered': False, 'severity': 'safe'}})], created=1756954261, model='gpt-4o-mini-2024-07-18', object='chat.completion.chunk', service_tier=None, system_fingerprint='fp_efad92c60b', usage=None)\n",
            "ChatCompletionChunk(id='chatcmpl-CBuLtClLUGwQk6OmbQW6kBBfa2DeT', choices=[Choice(delta=ChoiceDelta(content=' exist', function_call=None, refusal=None, role=None, tool_calls=None), finish_reason=None, index=0, logprobs=None, content_filter_results={'hate': {'filtered': False, 'severity': 'safe'}, 'self_harm': {'filtered': False, 'severity': 'safe'}, 'sexual': {'filtered': False, 'severity': 'safe'}, 'violence': {'filtered': False, 'severity': 'safe'}})], created=1756954261, model='gpt-4o-mini-2024-07-18', object='chat.completion.chunk', service_tier=None, system_fingerprint='fp_efad92c60b', usage=None)\n",
            "ChatCompletionChunk(id='chatcmpl-CBuLtClLUGwQk6OmbQW6kBBfa2DeT', choices=[Choice(delta=ChoiceDelta(content=' as', function_call=None, refusal=None, role=None, tool_calls=None), finish_reason=None, index=0, logprobs=None, content_filter_results={'hate': {'filtered': False, 'severity': 'safe'}, 'self_harm': {'filtered': False, 'severity': 'safe'}, 'sexual': {'filtered': False, 'severity': 'safe'}, 'violence': {'filtered': False, 'severity': 'safe'}})], created=1756954261, model='gpt-4o-mini-2024-07-18', object='chat.completion.chunk', service_tier=None, system_fingerprint='fp_efad92c60b', usage=None)\n",
            "ChatCompletionChunk(id='chatcmpl-CBuLtClLUGwQk6OmbQW6kBBfa2DeT', choices=[Choice(delta=ChoiceDelta(content=' per', function_call=None, refusal=None, role=None, tool_calls=None), finish_reason=None, index=0, logprobs=None, content_filter_results={'hate': {'filtered': False, 'severity': 'safe'}, 'self_harm': {'filtered': False, 'severity': 'safe'}, 'sexual': {'filtered': False, 'severity': 'safe'}, 'violence': {'filtered': False, 'severity': 'safe'}})], created=1756954261, model='gpt-4o-mini-2024-07-18', object='chat.completion.chunk', service_tier=None, system_fingerprint='fp_efad92c60b', usage=None)\n",
            "ChatCompletionChunk(id='chatcmpl-CBuLtClLUGwQk6OmbQW6kBBfa2DeT', choices=[Choice(delta=ChoiceDelta(content=' my', function_call=None, refusal=None, role=None, tool_calls=None), finish_reason=None, index=0, logprobs=None, content_filter_results={'hate': {'filtered': False, 'severity': 'safe'}, 'self_harm': {'filtered': False, 'severity': 'safe'}, 'sexual': {'filtered': False, 'severity': 'safe'}, 'violence': {'filtered': False, 'severity': 'safe'}})], created=1756954261, model='gpt-4o-mini-2024-07-18', object='chat.completion.chunk', service_tier=None, system_fingerprint='fp_efad92c60b', usage=None)\n",
            "ChatCompletionChunk(id='chatcmpl-CBuLtClLUGwQk6OmbQW6kBBfa2DeT', choices=[Choice(delta=ChoiceDelta(content=' knowledge', function_call=None, refusal=None, role=None, tool_calls=None), finish_reason=None, index=0, logprobs=None, content_filter_results={'hate': {'filtered': False, 'severity': 'safe'}, 'self_harm': {'filtered': False, 'severity': 'safe'}, 'sexual': {'filtered': False, 'severity': 'safe'}, 'violence': {'filtered': False, 'severity': 'safe'}})], created=1756954261, model='gpt-4o-mini-2024-07-18', object='chat.completion.chunk', service_tier=None, system_fingerprint='fp_efad92c60b', usage=None)\n",
            "ChatCompletionChunk(id='chatcmpl-CBuLtClLUGwQk6OmbQW6kBBfa2DeT', choices=[Choice(delta=ChoiceDelta(content='.', function_call=None, refusal=None, role=None, tool_calls=None), finish_reason=None, index=0, logprobs=None, content_filter_results={'hate': {'filtered': False, 'severity': 'safe'}, 'self_harm': {'filtered': False, 'severity': 'safe'}, 'sexual': {'filtered': False, 'severity': 'safe'}, 'violence': {'filtered': False, 'severity': 'safe'}})], created=1756954261, model='gpt-4o-mini-2024-07-18', object='chat.completion.chunk', service_tier=None, system_fingerprint='fp_efad92c60b', usage=None)\n",
            "ChatCompletionChunk(id='chatcmpl-CBuLtClLUGwQk6OmbQW6kBBfa2DeT', choices=[Choice(delta=ChoiceDelta(content='  \\n', function_call=None, refusal=None, role=None, tool_calls=None), finish_reason=None, index=0, logprobs=None, content_filter_results={'hate': {'filtered': False, 'severity': 'safe'}, 'self_harm': {'filtered': False, 'severity': 'safe'}, 'sexual': {'filtered': False, 'severity': 'safe'}, 'violence': {'filtered': False, 'severity': 'safe'}})], created=1756954261, model='gpt-4o-mini-2024-07-18', object='chat.completion.chunk', service_tier=None, system_fingerprint='fp_efad92c60b', usage=None)\n",
            "ChatCompletionChunk(id='chatcmpl-CBuLtClLUGwQk6OmbQW6kBBfa2DeT', choices=[Choice(delta=ChoiceDelta(content='4', function_call=None, refusal=None, role=None, tool_calls=None), finish_reason=None, index=0, logprobs=None, content_filter_results={'hate': {'filtered': False, 'severity': 'safe'}, 'self_harm': {'filtered': False, 'severity': 'safe'}, 'sexual': {'filtered': False, 'severity': 'safe'}, 'violence': {'filtered': False, 'severity': 'safe'}})], created=1756954261, model='gpt-4o-mini-2024-07-18', object='chat.completion.chunk', service_tier=None, system_fingerprint='fp_efad92c60b', usage=None)\n",
            "ChatCompletionChunk(id='chatcmpl-CBuLtClLUGwQk6OmbQW6kBBfa2DeT', choices=[Choice(delta=ChoiceDelta(content='.', function_call=None, refusal=None, role=None, tool_calls=None), finish_reason=None, index=0, logprobs=None, content_filter_results={'hate': {'filtered': False, 'severity': 'safe'}, 'self_harm': {'filtered': False, 'severity': 'safe'}, 'sexual': {'filtered': False, 'severity': 'safe'}, 'violence': {'filtered': False, 'severity': 'safe'}})], created=1756954261, model='gpt-4o-mini-2024-07-18', object='chat.completion.chunk', service_tier=None, system_fingerprint='fp_efad92c60b', usage=None)\n",
            "ChatCompletionChunk(id='chatcmpl-CBuLtClLUGwQk6OmbQW6kBBfa2DeT', choices=[Choice(delta=ChoiceDelta(content=' **', function_call=None, refusal=None, role=None, tool_calls=None), finish_reason=None, index=0, logprobs=None, content_filter_results={'hate': {'filtered': False, 'severity': 'safe'}, 'self_harm': {'filtered': False, 'severity': 'safe'}, 'sexual': {'filtered': False, 'severity': 'safe'}, 'violence': {'filtered': False, 'severity': 'safe'}})], created=1756954261, model='gpt-4o-mini-2024-07-18', object='chat.completion.chunk', service_tier=None, system_fingerprint='fp_efad92c60b', usage=None)\n",
            "ChatCompletionChunk(id='chatcmpl-CBuLtClLUGwQk6OmbQW6kBBfa2DeT', choices=[Choice(delta=ChoiceDelta(content='K', function_call=None, refusal=None, role=None, tool_calls=None), finish_reason=None, index=0, logprobs=None, content_filter_results={'hate': {'filtered': False, 'severity': 'safe'}, 'self_harm': {'filtered': False, 'severity': 'safe'}, 'sexual': {'filtered': False, 'severity': 'safe'}, 'violence': {'filtered': False, 'severity': 'safe'}})], created=1756954261, model='gpt-4o-mini-2024-07-18', object='chat.completion.chunk', service_tier=None, system_fingerprint='fp_efad92c60b', usage=None)\n",
            "ChatCompletionChunk(id='chatcmpl-CBuLtClLUGwQk6OmbQW6kBBfa2DeT', choices=[Choice(delta=ChoiceDelta(content='uala', function_call=None, refusal=None, role=None, tool_calls=None), finish_reason=None, index=0, logprobs=None, content_filter_results={'hate': {'filtered': False, 'severity': 'safe'}, 'self_harm': {'filtered': False, 'severity': 'safe'}, 'sexual': {'filtered': False, 'severity': 'safe'}, 'violence': {'filtered': False, 'severity': 'safe'}})], created=1756954261, model='gpt-4o-mini-2024-07-18', object='chat.completion.chunk', service_tier=None, system_fingerprint='fp_efad92c60b', usage=None)\n",
            "ChatCompletionChunk(id='chatcmpl-CBuLtClLUGwQk6OmbQW6kBBfa2DeT', choices=[Choice(delta=ChoiceDelta(content=' Lumpur', function_call=None, refusal=None, role=None, tool_calls=None), finish_reason=None, index=0, logprobs=None, content_filter_results={'hate': {'filtered': False, 'severity': 'safe'}, 'self_harm': {'filtered': False, 'severity': 'safe'}, 'sexual': {'filtered': False, 'severity': 'safe'}, 'violence': {'filtered': False, 'severity': 'safe'}})], created=1756954261, model='gpt-4o-mini-2024-07-18', object='chat.completion.chunk', service_tier=None, system_fingerprint='fp_efad92c60b', usage=None)\n",
            "ChatCompletionChunk(id='chatcmpl-CBuLtClLUGwQk6OmbQW6kBBfa2DeT', choices=[Choice(delta=ChoiceDelta(content='**', function_call=None, refusal=None, role=None, tool_calls=None), finish_reason=None, index=0, logprobs=None, content_filter_results={'hate': {'filtered': False, 'severity': 'safe'}, 'self_harm': {'filtered': False, 'severity': 'safe'}, 'sexual': {'filtered': False, 'severity': 'safe'}, 'violence': {'filtered': False, 'severity': 'safe'}})], created=1756954261, model='gpt-4o-mini-2024-07-18', object='chat.completion.chunk', service_tier=None, system_fingerprint='fp_efad92c60b', usage=None)\n",
            "ChatCompletionChunk(id='chatcmpl-CBuLtClLUGwQk6OmbQW6kBBfa2DeT', choices=[Choice(delta=ChoiceDelta(content=':', function_call=None, refusal=None, role=None, tool_calls=None), finish_reason=None, index=0, logprobs=None, content_filter_results={'hate': {'filtered': False, 'severity': 'safe'}, 'self_harm': {'filtered': False, 'severity': 'safe'}, 'sexual': {'filtered': False, 'severity': 'safe'}, 'violence': {'filtered': False, 'severity': 'safe'}})], created=1756954261, model='gpt-4o-mini-2024-07-18', object='chat.completion.chunk', service_tier=None, system_fingerprint='fp_efad92c60b', usage=None)\n",
            "ChatCompletionChunk(id='chatcmpl-CBuLtClLUGwQk6OmbQW6kBBfa2DeT', choices=[Choice(delta=ChoiceDelta(content=' Malaysia', function_call=None, refusal=None, role=None, tool_calls=None), finish_reason=None, index=0, logprobs=None, content_filter_results={'hate': {'filtered': False, 'severity': 'safe'}, 'self_harm': {'filtered': False, 'severity': 'safe'}, 'sexual': {'filtered': False, 'severity': 'safe'}, 'violence': {'filtered': False, 'severity': 'safe'}})], created=1756954261, model='gpt-4o-mini-2024-07-18', object='chat.completion.chunk', service_tier=None, system_fingerprint='fp_efad92c60b', usage=None)\n",
            "ChatCompletionChunk(id='chatcmpl-CBuLtClLUGwQk6OmbQW6kBBfa2DeT', choices=[Choice(delta=ChoiceDelta(content=\"'s\", function_call=None, refusal=None, role=None, tool_calls=None), finish_reason=None, index=0, logprobs=None, content_filter_results={'hate': {'filtered': False, 'severity': 'safe'}, 'self_harm': {'filtered': False, 'severity': 'safe'}, 'sexual': {'filtered': False, 'severity': 'safe'}, 'violence': {'filtered': False, 'severity': 'safe'}})], created=1756954261, model='gpt-4o-mini-2024-07-18', object='chat.completion.chunk', service_tier=None, system_fingerprint='fp_efad92c60b', usage=None)\n",
            "ChatCompletionChunk(id='chatcmpl-CBuLtClLUGwQk6OmbQW6kBBfa2DeT', choices=[Choice(delta=ChoiceDelta(content=' capital', function_call=None, refusal=None, role=None, tool_calls=None), finish_reason=None, index=0, logprobs=None, content_filter_results={'hate': {'filtered': False, 'severity': 'safe'}, 'self_harm': {'filtered': False, 'severity': 'safe'}, 'sexual': {'filtered': False, 'severity': 'safe'}, 'violence': {'filtered': False, 'severity': 'safe'}})], created=1756954261, model='gpt-4o-mini-2024-07-18', object='chat.completion.chunk', service_tier=None, system_fingerprint='fp_efad92c60b', usage=None)\n",
            "ChatCompletionChunk(id='chatcmpl-CBuLtClLUGwQk6OmbQW6kBBfa2DeT', choices=[Choice(delta=ChoiceDelta(content=',', function_call=None, refusal=None, role=None, tool_calls=None), finish_reason=None, index=0, logprobs=None, content_filter_results={'hate': {'filtered': False, 'severity': 'safe'}, 'self_harm': {'filtered': False, 'severity': 'safe'}, 'sexual': {'filtered': False, 'severity': 'safe'}, 'violence': {'filtered': False, 'severity': 'safe'}})], created=1756954261, model='gpt-4o-mini-2024-07-18', object='chat.completion.chunk', service_tier=None, system_fingerprint='fp_efad92c60b', usage=None)\n",
            "ChatCompletionChunk(id='chatcmpl-CBuLtClLUGwQk6OmbQW6kBBfa2DeT', choices=[Choice(delta=ChoiceDelta(content=' famous', function_call=None, refusal=None, role=None, tool_calls=None), finish_reason=None, index=0, logprobs=None, content_filter_results={'hate': {'filtered': False, 'severity': 'safe'}, 'self_harm': {'filtered': False, 'severity': 'safe'}, 'sexual': {'filtered': False, 'severity': 'safe'}, 'violence': {'filtered': False, 'severity': 'safe'}})], created=1756954261, model='gpt-4o-mini-2024-07-18', object='chat.completion.chunk', service_tier=None, system_fingerprint='fp_efad92c60b', usage=None)\n",
            "ChatCompletionChunk(id='chatcmpl-CBuLtClLUGwQk6OmbQW6kBBfa2DeT', choices=[Choice(delta=ChoiceDelta(content=' for', function_call=None, refusal=None, role=None, tool_calls=None), finish_reason=None, index=0, logprobs=None, content_filter_results={'hate': {'filtered': False, 'severity': 'safe'}, 'self_harm': {'filtered': False, 'severity': 'safe'}, 'sexual': {'filtered': False, 'severity': 'safe'}, 'violence': {'filtered': False, 'severity': 'safe'}})], created=1756954261, model='gpt-4o-mini-2024-07-18', object='chat.completion.chunk', service_tier=None, system_fingerprint='fp_efad92c60b', usage=None)\n",
            "ChatCompletionChunk(id='chatcmpl-CBuLtClLUGwQk6OmbQW6kBBfa2DeT', choices=[Choice(delta=ChoiceDelta(content=' its', function_call=None, refusal=None, role=None, tool_calls=None), finish_reason=None, index=0, logprobs=None, content_filter_results={'hate': {'filtered': False, 'severity': 'safe'}, 'self_harm': {'filtered': False, 'severity': 'safe'}, 'sexual': {'filtered': False, 'severity': 'safe'}, 'violence': {'filtered': False, 'severity': 'safe'}})], created=1756954261, model='gpt-4o-mini-2024-07-18', object='chat.completion.chunk', service_tier=None, system_fingerprint='fp_efad92c60b', usage=None)\n",
            "ChatCompletionChunk(id='chatcmpl-CBuLtClLUGwQk6OmbQW6kBBfa2DeT', choices=[Choice(delta=ChoiceDelta(content=' iconic', function_call=None, refusal=None, role=None, tool_calls=None), finish_reason=None, index=0, logprobs=None, content_filter_results={'hate': {'filtered': False, 'severity': 'safe'}, 'self_harm': {'filtered': False, 'severity': 'safe'}, 'sexual': {'filtered': False, 'severity': 'safe'}, 'violence': {'filtered': False, 'severity': 'safe'}})], created=1756954261, model='gpt-4o-mini-2024-07-18', object='chat.completion.chunk', service_tier=None, system_fingerprint='fp_efad92c60b', usage=None)\n",
            "ChatCompletionChunk(id='chatcmpl-CBuLtClLUGwQk6OmbQW6kBBfa2DeT', choices=[Choice(delta=ChoiceDelta(content=' Pet', function_call=None, refusal=None, role=None, tool_calls=None), finish_reason=None, index=0, logprobs=None, content_filter_results={'hate': {'filtered': False, 'severity': 'safe'}, 'self_harm': {'filtered': False, 'severity': 'safe'}, 'sexual': {'filtered': False, 'severity': 'safe'}, 'violence': {'filtered': False, 'severity': 'safe'}})], created=1756954261, model='gpt-4o-mini-2024-07-18', object='chat.completion.chunk', service_tier=None, system_fingerprint='fp_efad92c60b', usage=None)\n",
            "ChatCompletionChunk(id='chatcmpl-CBuLtClLUGwQk6OmbQW6kBBfa2DeT', choices=[Choice(delta=ChoiceDelta(content='ron', function_call=None, refusal=None, role=None, tool_calls=None), finish_reason=None, index=0, logprobs=None, content_filter_results={'hate': {'filtered': False, 'severity': 'safe'}, 'self_harm': {'filtered': False, 'severity': 'safe'}, 'sexual': {'filtered': False, 'severity': 'safe'}, 'violence': {'filtered': False, 'severity': 'safe'}})], created=1756954261, model='gpt-4o-mini-2024-07-18', object='chat.completion.chunk', service_tier=None, system_fingerprint='fp_efad92c60b', usage=None)\n",
            "ChatCompletionChunk(id='chatcmpl-CBuLtClLUGwQk6OmbQW6kBBfa2DeT', choices=[Choice(delta=ChoiceDelta(content='as', function_call=None, refusal=None, role=None, tool_calls=None), finish_reason=None, index=0, logprobs=None, content_filter_results={'hate': {'filtered': False, 'severity': 'safe'}, 'self_harm': {'filtered': False, 'severity': 'safe'}, 'sexual': {'filtered': False, 'severity': 'safe'}, 'violence': {'filtered': False, 'severity': 'safe'}})], created=1756954261, model='gpt-4o-mini-2024-07-18', object='chat.completion.chunk', service_tier=None, system_fingerprint='fp_efad92c60b', usage=None)\n",
            "ChatCompletionChunk(id='chatcmpl-CBuLtClLUGwQk6OmbQW6kBBfa2DeT', choices=[Choice(delta=ChoiceDelta(content=' Twin', function_call=None, refusal=None, role=None, tool_calls=None), finish_reason=None, index=0, logprobs=None, content_filter_results={'hate': {'filtered': False, 'severity': 'safe'}, 'self_harm': {'filtered': False, 'severity': 'safe'}, 'sexual': {'filtered': False, 'severity': 'safe'}, 'violence': {'filtered': False, 'severity': 'safe'}})], created=1756954261, model='gpt-4o-mini-2024-07-18', object='chat.completion.chunk', service_tier=None, system_fingerprint='fp_efad92c60b', usage=None)\n",
            "ChatCompletionChunk(id='chatcmpl-CBuLtClLUGwQk6OmbQW6kBBfa2DeT', choices=[Choice(delta=ChoiceDelta(content=' Towers', function_call=None, refusal=None, role=None, tool_calls=None), finish_reason=None, index=0, logprobs=None, content_filter_results={'hate': {'filtered': False, 'severity': 'safe'}, 'self_harm': {'filtered': False, 'severity': 'safe'}, 'sexual': {'filtered': False, 'severity': 'safe'}, 'violence': {'filtered': False, 'severity': 'safe'}})], created=1756954261, model='gpt-4o-mini-2024-07-18', object='chat.completion.chunk', service_tier=None, system_fingerprint='fp_efad92c60b', usage=None)\n",
            "ChatCompletionChunk(id='chatcmpl-CBuLtClLUGwQk6OmbQW6kBBfa2DeT', choices=[Choice(delta=ChoiceDelta(content=' and', function_call=None, refusal=None, role=None, tool_calls=None), finish_reason=None, index=0, logprobs=None, content_filter_results={'hate': {'filtered': False, 'severity': 'safe'}, 'self_harm': {'filtered': False, 'severity': 'safe'}, 'sexual': {'filtered': False, 'severity': 'safe'}, 'violence': {'filtered': False, 'severity': 'safe'}})], created=1756954261, model='gpt-4o-mini-2024-07-18', object='chat.completion.chunk', service_tier=None, system_fingerprint='fp_efad92c60b', usage=None)\n",
            "ChatCompletionChunk(id='chatcmpl-CBuLtClLUGwQk6OmbQW6kBBfa2DeT', choices=[Choice(delta=ChoiceDelta(content=' diverse', function_call=None, refusal=None, role=None, tool_calls=None), finish_reason=None, index=0, logprobs=None, content_filter_results={'hate': {'filtered': False, 'severity': 'safe'}, 'self_harm': {'filtered': False, 'severity': 'safe'}, 'sexual': {'filtered': False, 'severity': 'safe'}, 'violence': {'filtered': False, 'severity': 'safe'}})], created=1756954261, model='gpt-4o-mini-2024-07-18', object='chat.completion.chunk', service_tier=None, system_fingerprint='fp_efad92c60b', usage=None)\n",
            "ChatCompletionChunk(id='chatcmpl-CBuLtClLUGwQk6OmbQW6kBBfa2DeT', choices=[Choice(delta=ChoiceDelta(content=' cultural', function_call=None, refusal=None, role=None, tool_calls=None), finish_reason=None, index=0, logprobs=None, content_filter_results={'hate': {'filtered': False, 'severity': 'safe'}, 'self_harm': {'filtered': False, 'severity': 'safe'}, 'sexual': {'filtered': False, 'severity': 'safe'}, 'violence': {'filtered': False, 'severity': 'safe'}})], created=1756954261, model='gpt-4o-mini-2024-07-18', object='chat.completion.chunk', service_tier=None, system_fingerprint='fp_efad92c60b', usage=None)\n",
            "ChatCompletionChunk(id='chatcmpl-CBuLtClLUGwQk6OmbQW6kBBfa2DeT', choices=[Choice(delta=ChoiceDelta(content=' heritage', function_call=None, refusal=None, role=None, tool_calls=None), finish_reason=None, index=0, logprobs=None, content_filter_results={'hate': {'filtered': False, 'severity': 'safe'}, 'self_harm': {'filtered': False, 'severity': 'safe'}, 'sexual': {'filtered': False, 'severity': 'safe'}, 'violence': {'filtered': False, 'severity': 'safe'}})], created=1756954261, model='gpt-4o-mini-2024-07-18', object='chat.completion.chunk', service_tier=None, system_fingerprint='fp_efad92c60b', usage=None)\n",
            "ChatCompletionChunk(id='chatcmpl-CBuLtClLUGwQk6OmbQW6kBBfa2DeT', choices=[Choice(delta=ChoiceDelta(content='.', function_call=None, refusal=None, role=None, tool_calls=None), finish_reason=None, index=0, logprobs=None, content_filter_results={'hate': {'filtered': False, 'severity': 'safe'}, 'self_harm': {'filtered': False, 'severity': 'safe'}, 'sexual': {'filtered': False, 'severity': 'safe'}, 'violence': {'filtered': False, 'severity': 'safe'}})], created=1756954261, model='gpt-4o-mini-2024-07-18', object='chat.completion.chunk', service_tier=None, system_fingerprint='fp_efad92c60b', usage=None)\n",
            "ChatCompletionChunk(id='chatcmpl-CBuLtClLUGwQk6OmbQW6kBBfa2DeT', choices=[Choice(delta=ChoiceDelta(content='  \\n', function_call=None, refusal=None, role=None, tool_calls=None), finish_reason=None, index=0, logprobs=None, content_filter_results={'hate': {'filtered': False, 'severity': 'safe'}, 'self_harm': {'filtered': False, 'severity': 'safe'}, 'sexual': {'filtered': False, 'severity': 'safe'}, 'violence': {'filtered': False, 'severity': 'safe'}})], created=1756954261, model='gpt-4o-mini-2024-07-18', object='chat.completion.chunk', service_tier=None, system_fingerprint='fp_efad92c60b', usage=None)\n",
            "ChatCompletionChunk(id='chatcmpl-CBuLtClLUGwQk6OmbQW6kBBfa2DeT', choices=[Choice(delta=ChoiceDelta(content='5', function_call=None, refusal=None, role=None, tool_calls=None), finish_reason=None, index=0, logprobs=None, content_filter_results={'hate': {'filtered': False, 'severity': 'safe'}, 'self_harm': {'filtered': False, 'severity': 'safe'}, 'sexual': {'filtered': False, 'severity': 'safe'}, 'violence': {'filtered': False, 'severity': 'safe'}})], created=1756954261, model='gpt-4o-mini-2024-07-18', object='chat.completion.chunk', service_tier=None, system_fingerprint='fp_efad92c60b', usage=None)\n",
            "ChatCompletionChunk(id='chatcmpl-CBuLtClLUGwQk6OmbQW6kBBfa2DeT', choices=[Choice(delta=ChoiceDelta(content='.', function_call=None, refusal=None, role=None, tool_calls=None), finish_reason=None, index=0, logprobs=None, content_filter_results={'hate': {'filtered': False, 'severity': 'safe'}, 'self_harm': {'filtered': False, 'severity': 'safe'}, 'sexual': {'filtered': False, 'severity': 'safe'}, 'violence': {'filtered': False, 'severity': 'safe'}})], created=1756954261, model='gpt-4o-mini-2024-07-18', object='chat.completion.chunk', service_tier=None, system_fingerprint='fp_efad92c60b', usage=None)\n",
            "ChatCompletionChunk(id='chatcmpl-CBuLtClLUGwQk6OmbQW6kBBfa2DeT', choices=[Choice(delta=ChoiceDelta(content=' **', function_call=None, refusal=None, role=None, tool_calls=None), finish_reason=None, index=0, logprobs=None, content_filter_results={'hate': {'filtered': False, 'severity': 'safe'}, 'self_harm': {'filtered': False, 'severity': 'safe'}, 'sexual': {'filtered': False, 'severity': 'safe'}, 'violence': {'filtered': False, 'severity': 'safe'}})], created=1756954261, model='gpt-4o-mini-2024-07-18', object='chat.completion.chunk', service_tier=None, system_fingerprint='fp_efad92c60b', usage=None)\n",
            "ChatCompletionChunk(id='chatcmpl-CBuLtClLUGwQk6OmbQW6kBBfa2DeT', choices=[Choice(delta=ChoiceDelta(content='Dubai', function_call=None, refusal=None, role=None, tool_calls=None), finish_reason=None, index=0, logprobs=None, content_filter_results={'hate': {'filtered': False, 'severity': 'safe'}, 'self_harm': {'filtered': False, 'severity': 'safe'}, 'sexual': {'filtered': False, 'severity': 'safe'}, 'violence': {'filtered': False, 'severity': 'safe'}})], created=1756954261, model='gpt-4o-mini-2024-07-18', object='chat.completion.chunk', service_tier=None, system_fingerprint='fp_efad92c60b', usage=None)\n",
            "ChatCompletionChunk(id='chatcmpl-CBuLtClLUGwQk6OmbQW6kBBfa2DeT', choices=[Choice(delta=ChoiceDelta(content='**', function_call=None, refusal=None, role=None, tool_calls=None), finish_reason=None, index=0, logprobs=None, content_filter_results={'hate': {'filtered': False, 'severity': 'safe'}, 'self_harm': {'filtered': False, 'severity': 'safe'}, 'sexual': {'filtered': False, 'severity': 'safe'}, 'violence': {'filtered': False, 'severity': 'safe'}})], created=1756954261, model='gpt-4o-mini-2024-07-18', object='chat.completion.chunk', service_tier=None, system_fingerprint='fp_efad92c60b', usage=None)\n",
            "ChatCompletionChunk(id='chatcmpl-CBuLtClLUGwQk6OmbQW6kBBfa2DeT', choices=[Choice(delta=ChoiceDelta(content=':', function_call=None, refusal=None, role=None, tool_calls=None), finish_reason=None, index=0, logprobs=None, content_filter_results={'hate': {'filtered': False, 'severity': 'safe'}, 'self_harm': {'filtered': False, 'severity': 'safe'}, 'sexual': {'filtered': False, 'severity': 'safe'}, 'violence': {'filtered': False, 'severity': 'safe'}})], created=1756954261, model='gpt-4o-mini-2024-07-18', object='chat.completion.chunk', service_tier=None, system_fingerprint='fp_efad92c60b', usage=None)\n",
            "ChatCompletionChunk(id='chatcmpl-CBuLtClLUGwQk6OmbQW6kBBfa2DeT', choices=[Choice(delta=ChoiceDelta(content=' A', function_call=None, refusal=None, role=None, tool_calls=None), finish_reason=None, index=0, logprobs=None, content_filter_results={'hate': {'filtered': False, 'severity': 'safe'}, 'self_harm': {'filtered': False, 'severity': 'safe'}, 'sexual': {'filtered': False, 'severity': 'safe'}, 'violence': {'filtered': False, 'severity': 'safe'}})], created=1756954261, model='gpt-4o-mini-2024-07-18', object='chat.completion.chunk', service_tier=None, system_fingerprint='fp_efad92c60b', usage=None)\n",
            "ChatCompletionChunk(id='chatcmpl-CBuLtClLUGwQk6OmbQW6kBBfa2DeT', choices=[Choice(delta=ChoiceDelta(content=' luxurious', function_call=None, refusal=None, role=None, tool_calls=None), finish_reason=None, index=0, logprobs=None, content_filter_results={'hate': {'filtered': False, 'severity': 'safe'}, 'self_harm': {'filtered': False, 'severity': 'safe'}, 'sexual': {'filtered': False, 'severity': 'safe'}, 'violence': {'filtered': False, 'severity': 'safe'}})], created=1756954261, model='gpt-4o-mini-2024-07-18', object='chat.completion.chunk', service_tier=None, system_fingerprint='fp_efad92c60b', usage=None)\n",
            "ChatCompletionChunk(id='chatcmpl-CBuLtClLUGwQk6OmbQW6kBBfa2DeT', choices=[Choice(delta=ChoiceDelta(content=' city', function_call=None, refusal=None, role=None, tool_calls=None), finish_reason=None, index=0, logprobs=None, content_filter_results={'hate': {'filtered': False, 'severity': 'safe'}, 'self_harm': {'filtered': False, 'severity': 'safe'}, 'sexual': {'filtered': False, 'severity': 'safe'}, 'violence': {'filtered': False, 'severity': 'safe'}})], created=1756954261, model='gpt-4o-mini-2024-07-18', object='chat.completion.chunk', service_tier=None, system_fingerprint='fp_efad92c60b', usage=None)\n",
            "ChatCompletionChunk(id='chatcmpl-CBuLtClLUGwQk6OmbQW6kBBfa2DeT', choices=[Choice(delta=ChoiceDelta(content=' in', function_call=None, refusal=None, role=None, tool_calls=None), finish_reason=None, index=0, logprobs=None, content_filter_results={'hate': {'filtered': False, 'severity': 'safe'}, 'self_harm': {'filtered': False, 'severity': 'safe'}, 'sexual': {'filtered': False, 'severity': 'safe'}, 'violence': {'filtered': False, 'severity': 'safe'}})], created=1756954261, model='gpt-4o-mini-2024-07-18', object='chat.completion.chunk', service_tier=None, system_fingerprint='fp_efad92c60b', usage=None)\n",
            "ChatCompletionChunk(id='chatcmpl-CBuLtClLUGwQk6OmbQW6kBBfa2DeT', choices=[Choice(delta=ChoiceDelta(content=' the', function_call=None, refusal=None, role=None, tool_calls=None), finish_reason=None, index=0, logprobs=None, content_filter_results={'hate': {'filtered': False, 'severity': 'safe'}, 'self_harm': {'filtered': False, 'severity': 'safe'}, 'sexual': {'filtered': False, 'severity': 'safe'}, 'violence': {'filtered': False, 'severity': 'safe'}})], created=1756954261, model='gpt-4o-mini-2024-07-18', object='chat.completion.chunk', service_tier=None, system_fingerprint='fp_efad92c60b', usage=None)\n",
            "ChatCompletionChunk(id='chatcmpl-CBuLtClLUGwQk6OmbQW6kBBfa2DeT', choices=[Choice(delta=ChoiceDelta(content=' UAE', function_call=None, refusal=None, role=None, tool_calls=None), finish_reason=None, index=0, logprobs=None, content_filter_results={'hate': {'filtered': False, 'severity': 'safe'}, 'self_harm': {'filtered': False, 'severity': 'safe'}, 'sexual': {'filtered': False, 'severity': 'safe'}, 'violence': {'filtered': False, 'severity': 'safe'}})], created=1756954261, model='gpt-4o-mini-2024-07-18', object='chat.completion.chunk', service_tier=None, system_fingerprint='fp_efad92c60b', usage=None)\n",
            "ChatCompletionChunk(id='chatcmpl-CBuLtClLUGwQk6OmbQW6kBBfa2DeT', choices=[Choice(delta=ChoiceDelta(content=' renowned', function_call=None, refusal=None, role=None, tool_calls=None), finish_reason=None, index=0, logprobs=None, content_filter_results={'hate': {'filtered': False, 'severity': 'safe'}, 'self_harm': {'filtered': False, 'severity': 'safe'}, 'sexual': {'filtered': False, 'severity': 'safe'}, 'violence': {'filtered': False, 'severity': 'safe'}})], created=1756954261, model='gpt-4o-mini-2024-07-18', object='chat.completion.chunk', service_tier=None, system_fingerprint='fp_efad92c60b', usage=None)\n",
            "ChatCompletionChunk(id='chatcmpl-CBuLtClLUGwQk6OmbQW6kBBfa2DeT', choices=[Choice(delta=ChoiceDelta(content=' for', function_call=None, refusal=None, role=None, tool_calls=None), finish_reason=None, index=0, logprobs=None, content_filter_results={'hate': {'filtered': False, 'severity': 'safe'}, 'self_harm': {'filtered': False, 'severity': 'safe'}, 'sexual': {'filtered': False, 'severity': 'safe'}, 'violence': {'filtered': False, 'severity': 'safe'}})], created=1756954261, model='gpt-4o-mini-2024-07-18', object='chat.completion.chunk', service_tier=None, system_fingerprint='fp_efad92c60b', usage=None)\n",
            "ChatCompletionChunk(id='chatcmpl-CBuLtClLUGwQk6OmbQW6kBBfa2DeT', choices=[Choice(delta=ChoiceDelta(content=' its', function_call=None, refusal=None, role=None, tool_calls=None), finish_reason=None, index=0, logprobs=None, content_filter_results={'hate': {'filtered': False, 'severity': 'safe'}, 'self_harm': {'filtered': False, 'severity': 'safe'}, 'sexual': {'filtered': False, 'severity': 'safe'}, 'violence': {'filtered': False, 'severity': 'safe'}})], created=1756954261, model='gpt-4o-mini-2024-07-18', object='chat.completion.chunk', service_tier=None, system_fingerprint='fp_efad92c60b', usage=None)\n",
            "ChatCompletionChunk(id='chatcmpl-CBuLtClLUGwQk6OmbQW6kBBfa2DeT', choices=[Choice(delta=ChoiceDelta(content=' futuristic', function_call=None, refusal=None, role=None, tool_calls=None), finish_reason=None, index=0, logprobs=None, content_filter_results={'hate': {'filtered': False, 'severity': 'safe'}, 'self_harm': {'filtered': False, 'severity': 'safe'}, 'sexual': {'filtered': False, 'severity': 'safe'}, 'violence': {'filtered': False, 'severity': 'safe'}})], created=1756954261, model='gpt-4o-mini-2024-07-18', object='chat.completion.chunk', service_tier=None, system_fingerprint='fp_efad92c60b', usage=None)\n",
            "ChatCompletionChunk(id='chatcmpl-CBuLtClLUGwQk6OmbQW6kBBfa2DeT', choices=[Choice(delta=ChoiceDelta(content=' architecture', function_call=None, refusal=None, role=None, tool_calls=None), finish_reason=None, index=0, logprobs=None, content_filter_results={'hate': {'filtered': False, 'severity': 'safe'}, 'self_harm': {'filtered': False, 'severity': 'safe'}, 'sexual': {'filtered': False, 'severity': 'safe'}, 'violence': {'filtered': False, 'severity': 'safe'}})], created=1756954261, model='gpt-4o-mini-2024-07-18', object='chat.completion.chunk', service_tier=None, system_fingerprint='fp_efad92c60b', usage=None)\n",
            "ChatCompletionChunk(id='chatcmpl-CBuLtClLUGwQk6OmbQW6kBBfa2DeT', choices=[Choice(delta=ChoiceDelta(content=',', function_call=None, refusal=None, role=None, tool_calls=None), finish_reason=None, index=0, logprobs=None, content_filter_results={'hate': {'filtered': False, 'severity': 'safe'}, 'self_harm': {'filtered': False, 'severity': 'safe'}, 'sexual': {'filtered': False, 'severity': 'safe'}, 'violence': {'filtered': False, 'severity': 'safe'}})], created=1756954261, model='gpt-4o-mini-2024-07-18', object='chat.completion.chunk', service_tier=None, system_fingerprint='fp_efad92c60b', usage=None)\n",
            "ChatCompletionChunk(id='chatcmpl-CBuLtClLUGwQk6OmbQW6kBBfa2DeT', choices=[Choice(delta=ChoiceDelta(content=' shopping', function_call=None, refusal=None, role=None, tool_calls=None), finish_reason=None, index=0, logprobs=None, content_filter_results={'hate': {'filtered': False, 'severity': 'safe'}, 'self_harm': {'filtered': False, 'severity': 'safe'}, 'sexual': {'filtered': False, 'severity': 'safe'}, 'violence': {'filtered': False, 'severity': 'safe'}})], created=1756954261, model='gpt-4o-mini-2024-07-18', object='chat.completion.chunk', service_tier=None, system_fingerprint='fp_efad92c60b', usage=None)\n",
            "ChatCompletionChunk(id='chatcmpl-CBuLtClLUGwQk6OmbQW6kBBfa2DeT', choices=[Choice(delta=ChoiceDelta(content=',', function_call=None, refusal=None, role=None, tool_calls=None), finish_reason=None, index=0, logprobs=None, content_filter_results={'hate': {'filtered': False, 'severity': 'safe'}, 'self_harm': {'filtered': False, 'severity': 'safe'}, 'sexual': {'filtered': False, 'severity': 'safe'}, 'violence': {'filtered': False, 'severity': 'safe'}})], created=1756954261, model='gpt-4o-mini-2024-07-18', object='chat.completion.chunk', service_tier=None, system_fingerprint='fp_efad92c60b', usage=None)\n",
            "ChatCompletionChunk(id='chatcmpl-CBuLtClLUGwQk6OmbQW6kBBfa2DeT', choices=[Choice(delta=ChoiceDelta(content=' and', function_call=None, refusal=None, role=None, tool_calls=None), finish_reason=None, index=0, logprobs=None, content_filter_results={'hate': {'filtered': False, 'severity': 'safe'}, 'self_harm': {'filtered': False, 'severity': 'safe'}, 'sexual': {'filtered': False, 'severity': 'safe'}, 'violence': {'filtered': False, 'severity': 'safe'}})], created=1756954261, model='gpt-4o-mini-2024-07-18', object='chat.completion.chunk', service_tier=None, system_fingerprint='fp_efad92c60b', usage=None)\n",
            "ChatCompletionChunk(id='chatcmpl-CBuLtClLUGwQk6OmbQW6kBBfa2DeT', choices=[Choice(delta=ChoiceDelta(content=' vibrant', function_call=None, refusal=None, role=None, tool_calls=None), finish_reason=None, index=0, logprobs=None, content_filter_results={'hate': {'filtered': False, 'severity': 'safe'}, 'self_harm': {'filtered': False, 'severity': 'safe'}, 'sexual': {'filtered': False, 'severity': 'safe'}, 'violence': {'filtered': False, 'severity': 'safe'}})], created=1756954261, model='gpt-4o-mini-2024-07-18', object='chat.completion.chunk', service_tier=None, system_fingerprint='fp_efad92c60b', usage=None)\n",
            "ChatCompletionChunk(id='chatcmpl-CBuLtClLUGwQk6OmbQW6kBBfa2DeT', choices=[Choice(delta=ChoiceDelta(content=' nightlife', function_call=None, refusal=None, role=None, tool_calls=None), finish_reason=None, index=0, logprobs=None, content_filter_results={'hate': {'filtered': False, 'severity': 'safe'}, 'self_harm': {'filtered': False, 'severity': 'safe'}, 'sexual': {'filtered': False, 'severity': 'safe'}, 'violence': {'filtered': False, 'severity': 'safe'}})], created=1756954261, model='gpt-4o-mini-2024-07-18', object='chat.completion.chunk', service_tier=None, system_fingerprint='fp_efad92c60b', usage=None)\n",
            "ChatCompletionChunk(id='chatcmpl-CBuLtClLUGwQk6OmbQW6kBBfa2DeT', choices=[Choice(delta=ChoiceDelta(content='.', function_call=None, refusal=None, role=None, tool_calls=None), finish_reason=None, index=0, logprobs=None, content_filter_results={'hate': {'filtered': False, 'severity': 'safe'}, 'self_harm': {'filtered': False, 'severity': 'safe'}, 'sexual': {'filtered': False, 'severity': 'safe'}, 'violence': {'filtered': False, 'severity': 'safe'}})], created=1756954261, model='gpt-4o-mini-2024-07-18', object='chat.completion.chunk', service_tier=None, system_fingerprint='fp_efad92c60b', usage=None)\n",
            "ChatCompletionChunk(id='chatcmpl-CBuLtClLUGwQk6OmbQW6kBBfa2DeT', choices=[Choice(delta=ChoiceDelta(content='  ', function_call=None, refusal=None, role=None, tool_calls=None), finish_reason=None, index=0, logprobs=None, content_filter_results={'hate': {'filtered': False, 'severity': 'safe'}, 'self_harm': {'filtered': False, 'severity': 'safe'}, 'sexual': {'filtered': False, 'severity': 'safe'}, 'violence': {'filtered': False, 'severity': 'safe'}})], created=1756954261, model='gpt-4o-mini-2024-07-18', object='chat.completion.chunk', service_tier=None, system_fingerprint='fp_efad92c60b', usage=None)\n",
            "ChatCompletionChunk(id='chatcmpl-CBuLtClLUGwQk6OmbQW6kBBfa2DeT', choices=[Choice(delta=ChoiceDelta(content=None, function_call=None, refusal=None, role=None, tool_calls=None), finish_reason='stop', index=0, logprobs=None, content_filter_results={})], created=1756954261, model='gpt-4o-mini-2024-07-18', object='chat.completion.chunk', service_tier=None, system_fingerprint='fp_efad92c60b', usage=None)\n"
          ]
        }
      ],
      "source": [
        "prompt = \"\"\"write one line description for below cities:\n",
        "\n",
        "1. Delhi\n",
        "2. Manila\n",
        "3. JPchasecity\n",
        "4. Kuala Lumpur\n",
        "5. Dubai\n",
        "\n",
        "\n",
        "\n",
        "CHeck if the city is the actual city as per your knowledge base / cutoff data, if not mention that \"The city does not exist as per my knowledge\"\n",
        "\"\"\"\n",
        "streams = generate_response(prompt,stream=True)\n",
        "\n",
        "for event in streams:\n",
        "  print(event)"
      ]
    },
    {
      "cell_type": "code",
      "execution_count": 66,
      "metadata": {
        "id": "IzG98srNFsV1"
      },
      "outputs": [],
      "source": []
    },
    {
      "cell_type": "code",
      "execution_count": 50,
      "metadata": {
        "id": "6TvQ89UdF6De"
      },
      "outputs": [],
      "source": [
        "|"
      ]
    },
    {
      "cell_type": "markdown",
      "metadata": {
        "id": "kWYDUVa1JZb9"
      },
      "source": [
        "## Exercise 1: Prompting for Product Explanation (with Compliance)\n",
        "\n",
        "**Objective:** Design a prompt for an AI to explain a banking product accurately and compliantly.\n",
        "\n",
        "**Scenario:** A customer asks about a \"Fixed Deposit\" in a Saudi bank. The AI needs to explain it clearly, including key details, and add a standard compliance disclaimer.\n",
        "\n",
        "**Task:** Create a prompt for an AI to explain a Fixed Deposit.\n",
        "\n",
        "**Prompt Requirements:**\n",
        "1.  **Role:**\n",
        "2.  **Instruction:**\n",
        "3.  **Key Details to Include:**\n",
        "4.  **Compliance Constraint:**\n",
        "5.  **Tone:**\n",
        "\n",
        "---\n",
        "\n",
        "**Example Input for Testing:**\n",
        "\n",
        "**User Query:** \"What is a Fixed Deposit and how does it work?\"\n",
        "\n",
        "---\n",
        "\n",
        "**Example Output (Simulated AI Response based on your prompt):**\n",
        "\n",
        "\"As a Bank Customer Service Officer, I can explain Fixed Deposits for you.\n",
        "\n",
        "A Fixed Deposit is an investment account that holds a fixed amount of money for a specified period, offering a fixed interest rate. You earn interest on your deposit, which is typically paid out at the end of the maturity period. If you withdraw your funds before the agreed maturity date, a penalty may apply, often resulting in forfeiture of accrued interest.\n",
        "\n",
        "*Terms and conditions apply. Interest rates are subject to change without prior notice.*\"\n",
        "\n"
      ]
    },
    {
      "cell_type": "code",
      "execution_count": 49,
      "metadata": {
        "colab": {
          "base_uri": "https://localhost:8080/"
        },
        "id": "HZmU5JQPJZ4Y",
        "outputId": "0f310c3b-7243-4f2f-cd48-da55bb513cc2"
      },
      "outputs": [
        {
          "name": "stdout",
          "output_type": "stream",
          "text": [
            "Dear Customer,\n",
            "\n",
            "Thank you for your interest in our Fixed Deposit product. \n",
            "\n",
            "**What is a Fixed Deposit?**  \n",
            "A Fixed Deposit (FD) is a savings account where you deposit a lump sum amount for a fixed period of time, earning a higher interest rate than a regular savings account. The money remains locked in for the duration of the term, and you receive the principal amount plus interest at maturity.\n",
            "\n",
            "**Key Attributes of Fixed Deposit:**\n",
            "- **Interest Rates:** Fixed Deposits typically offer higher interest rates compared to regular savings accounts. The rate is fixed for the entire term.\n",
            "- **Maturity:** You can choose the duration of your deposit, which can range from a few months to several years.\n",
            "- **Penalties:** If you withdraw your funds before the maturity date, a penalty may apply, which could reduce the interest earned.\n",
            "\n",
            "**Example of Calculations:**\n",
            "Let’s say you deposit SAR 10,000 in a Fixed Deposit for 1 year at an interest rate of 5% per annum. \n",
            "\n",
            "- **Interest Earned:** \n",
            "  - Interest = Principal x Rate x Time\n",
            "  - Interest = SAR 10,000 x 5% x 1 = SAR 500\n",
            "\n",
            "At maturity, you would receive:\n",
            "- **Total Amount = Principal + Interest = SAR 10,000 + SAR 500 = SAR 10,500.**\n",
            "\n",
            "If you decide to withdraw early, let’s say after 6 months, you may incur a penalty that could reduce your interest to SAR 250 instead of SAR 500.\n",
            "\n",
            "If you have any further questions or need assistance, please feel free to ask.\n",
            "\n",
            "**Disclaimer:** Terms and conditions apply. Interest rates are subject to change without prior notice.\n",
            "\n",
            "Best regards,  \n",
            "[Your Name]  \n",
            "Senior Customer Service Officer  \n",
            "Saudi Asia Bank\n"
          ]
        }
      ],
      "source": [
        "\n",
        "product_name=\"Fixed Deposit\"\n",
        "\n",
        "prompt = f\"\"\"\n",
        "\n",
        "You are a senior customer service officer from Saudi Asia Bank, who always explains the banking products in clear, simpler ways.\n",
        "Explain the product to ther customer: {product_name}\n",
        "\n",
        "Your explanation must include:\n",
        "- A clear defintion of the product: {product_name}\n",
        "- Attributes applicable to the product {product_name} such as interest rates, maturity, penalties\n",
        "- Examples of calculations\n",
        "- Keep overall response concise and clear\n",
        "\n",
        "Maintain a professional, easy to understand, and soft tone.\n",
        "At the end of the message, always add a disclaimer: Terms and conditions apply. Interest rates are subject to change without prior notice.\n",
        "\"\"\"\n",
        "\n",
        "print(generate_response(prompt).choices[0].message.content)"
      ]
    },
    {
      "cell_type": "code",
      "execution_count": null,
      "metadata": {
        "id": "I0gHrmzNJeHi"
      },
      "outputs": [],
      "source": []
    },
    {
      "cell_type": "markdown",
      "metadata": {
        "id": "wmoEyLrmJeea"
      },
      "source": [
        "\n",
        "## Exercise 2: Iterative Prompt Refinement for Transaction Categorization\n",
        "\n",
        "**Objective:** Refine a prompt to categorize customer transactions accurately and concisely, reducing irrelevant information.\n",
        "\n",
        "**Scenario:** Your bank's AI system categorizes customer spending. The initial prompt is too broad, leading to generic or noisy outputs.\n",
        "\n",
        "**Initial Prompt (Provided to AI):**\n",
        "\"Categorize the following transaction: 'Purchase at Starbucks, USD15'.\"\n",
        "\n",
        "**AI's Initial Output:**\n",
        "\"This transaction is for coffee. It is a small expense. It happened at Starbucks.\"\n",
        "\n",
        "---\n",
        "\n",
        "**Task:** Perform two iterations of prompt refinement.\n",
        "\n",
        "**Iteration 1: Improving Specificity & Conciseness**\n",
        "\n",
        "* **Goal:** Get a precise category without unnecessary conversational filler.\n",
        "* **Prompt Engineering Principles:** Specificity, Negative Constraints (implied by what *not* to include).\n",
        "\n",
        "**Your Revised Prompt (Iteration 1):**\n",
        "\n",
        "\n",
        "**Example Output (Example Response based on your Iteration 1 prompt):**\n",
        "\n",
        "\"Food & Beverage\"\n",
        "\n",
        "---\n",
        "\n",
        "**Iteration 2: Adding Detail and Format for Analyst Review**\n",
        "\n",
        "* **Goal:** Provide the category and a *reason* for that category, formatted for a data analyst.\n",
        "* **Prompt Engineering Principles:** Role-Playing, Chain-of-Thought (implicit), Format.\n",
        "\n",
        "**Your Revised Prompt (Iteration 2):**\n",
        "\n",
        "\n",
        "**Example Output (Example Response based on your Iteration 2 prompt):**\n",
        "\n",
        "\"**Category: Food & Beverage**\n",
        "**Reasoning:** 'Starbucks' is a common coffee shop, and 'USD15' is a typical amount for such a purchase.\"\n"
      ]
    },
    {
      "cell_type": "code",
      "execution_count": 50,
      "metadata": {
        "colab": {
          "base_uri": "https://localhost:8080/"
        },
        "id": "WFWMAbcJJeux",
        "outputId": "4067287b-f8ab-4ea7-d06f-2e9007324dd2"
      },
      "outputs": [
        {
          "name": "stdout",
          "output_type": "stream",
          "text": [
            "1. Food & Beverage\n"
          ]
        }
      ],
      "source": [
        "transaction_details=\"Purchase at Starbucks, USD15\"\n",
        "prompt = f\"\"\"\n",
        "You are seasoned accounts book keeper who is able to categorize transactions by going through bank statements.\n",
        "Categorise the given {transaction_details} from below list,\n",
        "1. food & Beverage\n",
        "2. Travel\n",
        "3. Clothing\n",
        "Your response should include only category\n",
        "\"\"\"\n",
        "print(generate_response(prompt).choices[0].message.content)"
      ]
    },
    {
      "cell_type": "code",
      "execution_count": 51,
      "metadata": {
        "colab": {
          "base_uri": "https://localhost:8080/"
        },
        "id": "7TltMrS5TpQs",
        "outputId": "fd3676bc-1a09-471d-d5bc-bec1ee6cea10"
      },
      "outputs": [
        {
          "name": "stdout",
          "output_type": "stream",
          "text": [
            "```json\n",
            "{\n",
            "  \"category\": \"Food & Beverage\",\n",
            "  \"reasoning\": \"The purchase at Starbucks is for food and beverage items, which directly falls under the Food & Beverage category. Starbucks primarily sells coffee, snacks, and other related products, making it clear that this transaction is related to consumable goods rather than travel or clothing.\"\n",
            "}\n",
            "```\n"
          ]
        }
      ],
      "source": [
        "transaction_details=\"Purchase at Starbucks, USD15\"\n",
        "prompt = f\"\"\"\n",
        "You are seasoned accounts book keeper who is able to categorize transactions by going through bank statements.\n",
        "Categorise the given {transaction_details} from below list,\n",
        "1. Food & Beverage\n",
        "2. Travel\n",
        "3. Clothing\n",
        "\n",
        "Defint the reasoning for categorizing the transaction details into the specific category.\n",
        "Provide the final response in JSON format with keys: category, reasoning\n",
        "\"\"\"\n",
        "print(generate_response(prompt).choices[0].message.content)"
      ]
    },
    {
      "cell_type": "code",
      "execution_count": null,
      "metadata": {
        "id": "db7aOlG1UIdk"
      },
      "outputs": [],
      "source": []
    }
  ],
  "metadata": {
    "colab": {
      "include_colab_link": true,
      "provenance": []
    },
    "kernelspec": {
      "display_name": "base",
      "language": "python",
      "name": "python3"
    },
    "language_info": {
      "codemirror_mode": {
        "name": "ipython",
        "version": 3
      },
      "file_extension": ".py",
      "mimetype": "text/x-python",
      "name": "python",
      "nbconvert_exporter": "python",
      "pygments_lexer": "ipython3",
      "version": "3.10.9"
    }
  },
  "nbformat": 4,
  "nbformat_minor": 0
}
