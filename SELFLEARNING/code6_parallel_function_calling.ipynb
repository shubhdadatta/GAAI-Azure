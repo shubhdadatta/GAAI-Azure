{
  "cells": [
    {
      "cell_type": "markdown",
      "metadata": {
        "id": "gbCxadJVx88B"
      },
      "source": [
        "# Working with Parallel Function Calls and Multiple Function Responses"
      ]
    },
    {
      "cell_type": "markdown",
      "metadata": {},
      "source": [
        "Notebook is available at:\n",
        "https://github.com/Bluedata-Consulting/GAAPB03-training"
      ]
    },
    {
      "cell_type": "markdown",
      "metadata": {
        "id": "CkHPv2myT2cx"
      },
      "source": [
        "## Overview\n",
        "\n",
        "Funciton Calling lets you create a description of a function in your code, then pass that description to a language model in a request. The response from the model includes the name of a function that matches the description and the arguments to call it with.\n",
        "\n",
        "In this tutorial, you'll learn how to work with parallel function calling including:\n",
        "    \n",
        "- Handling parallel function calls for repeated functions\n",
        "- Working with parallel function calls across multiple functions\n",
        "- Extracting multiple function calls from a Gemini response\n",
        "- Calling multiple functions and returning them to Gemini\n",
        "\n",
        "### What is parallel function calling?\n",
        "\n",
        "In previous versions of LLMs, it would return two or more chained function calls if the model determined that more than one function call was needed before returning a natural language summary. Here, a chained function call means that you get the first function call response, return the API data to Gemini, get a second function call response, return the API data to Gemini, and so on.\n",
        "\n",
        "In recent versions of specific Language models (from May 2024 and on), most language models have the ability to return two or more function calls in parallel (i.e., two or more function call responses within the first function call response object). Parallel function calling allows you to fan out and parallelize your API calls or other actions that you perform in your application code, so you don't have to work through each function call response and return one-by-one!\n",
        "\n",
        "\n",
        "<img src=\"https://storage.googleapis.com/github-repo/generative-ai/gemini/function-calling/parallel-function-calling-in-gemini.png\">"
      ]
    },
    {
      "cell_type": "code",
      "execution_count": 1,
      "metadata": {
        "id": "nBMVh0ldtsDP"
      },
      "outputs": [
        {
          "name": "stderr",
          "output_type": "stream",
          "text": [
            "WARNING: Ignoring invalid distribution -zure-cognitiveservices-speech (c:\\users\\anshu pandey\\appdata\\roaming\\python\\python310\\site-packages)\n",
            "WARNING: Ignoring invalid distribution -rotobuf (c:\\users\\anshu pandey\\appdata\\roaming\\python\\python310\\site-packages)\n",
            "WARNING: Ignoring invalid distribution -ensorflow-intel (c:\\users\\anshu pandey\\appdata\\roaming\\python\\python310\\site-packages)\n",
            "WARNING: Ignoring invalid distribution -zure-cognitiveservices-speech (c:\\users\\anshu pandey\\appdata\\roaming\\python\\python310\\site-packages)\n",
            "WARNING: Ignoring invalid distribution -rotobuf (c:\\users\\anshu pandey\\appdata\\roaming\\python\\python310\\site-packages)\n",
            "WARNING: Ignoring invalid distribution -ensorflow-intel (c:\\users\\anshu pandey\\appdata\\roaming\\python\\python310\\site-packages)\n",
            "WARNING: Ignoring invalid distribution -zure-cognitiveservices-speech (c:\\users\\anshu pandey\\appdata\\roaming\\python\\python310\\site-packages)\n",
            "WARNING: Ignoring invalid distribution -rotobuf (c:\\users\\anshu pandey\\appdata\\roaming\\python\\python310\\site-packages)\n",
            "WARNING: Ignoring invalid distribution -ensorflow-intel (c:\\users\\anshu pandey\\appdata\\roaming\\python\\python310\\site-packages)\n",
            "WARNING: Ignoring invalid distribution -zure-cognitiveservices-speech (c:\\users\\anshu pandey\\appdata\\roaming\\python\\python310\\site-packages)\n",
            "WARNING: Ignoring invalid distribution -rotobuf (c:\\users\\anshu pandey\\appdata\\roaming\\python\\python310\\site-packages)\n",
            "WARNING: Ignoring invalid distribution -ensorflow-intel (c:\\users\\anshu pandey\\appdata\\roaming\\python\\python310\\site-packages)\n",
            "WARNING: Ignoring invalid distribution -zure-cognitiveservices-speech (c:\\users\\anshu pandey\\appdata\\roaming\\python\\python310\\site-packages)\n",
            "WARNING: Ignoring invalid distribution -rotobuf (c:\\users\\anshu pandey\\appdata\\roaming\\python\\python310\\site-packages)\n",
            "WARNING: Ignoring invalid distribution -ensorflow-intel (c:\\users\\anshu pandey\\appdata\\roaming\\python\\python310\\site-packages)\n",
            "WARNING: Ignoring invalid distribution -zure-cognitiveservices-speech (c:\\users\\anshu pandey\\appdata\\roaming\\python\\python310\\site-packages)\n",
            "WARNING: Ignoring invalid distribution -rotobuf (c:\\users\\anshu pandey\\appdata\\roaming\\python\\python310\\site-packages)\n",
            "WARNING: Ignoring invalid distribution -ensorflow-intel (c:\\users\\anshu pandey\\appdata\\roaming\\python\\python310\\site-packages)\n"
          ]
        }
      ],
      "source": [
        "!python -m pip install wikipedia openai --quiet"
      ]
    },
    {
      "cell_type": "code",
      "execution_count": 16,
      "metadata": {
        "id": "OFag1daziout"
      },
      "outputs": [],
      "source": [
        "from openai import AzureOpenAI\n",
        "client = AzureOpenAI()\n",
        "model_name='gpt4o'"
      ]
    },
    {
      "cell_type": "markdown",
      "metadata": {
        "id": "o77Xl_JDjvYf"
      },
      "source": [
        "### Define helper function"
      ]
    },
    {
      "cell_type": "code",
      "execution_count": 17,
      "metadata": {
        "id": "izsb1jgbuWnM"
      },
      "outputs": [],
      "source": [
        "def extract_tool_calls(response: dict):\n",
        "    tool_calls = []\n",
        "    tool_call = response.choices[0].message.tool_calls\n",
        "    if tool_call:\n",
        "        for tool in tool_call:\n",
        "            function_name = tool.function.name\n",
        "            function_args = eval(tool.function.arguments)  # Safely convert string to dictionary\n",
        "            function_call_dict = {function_name: function_args}\n",
        "            function_call_dict['id'] = tool.id\n",
        "            tool_calls.append(function_call_dict)\n",
        "\n",
        "    return tool_calls"
      ]
    },
    {
      "cell_type": "markdown",
      "metadata": {
        "id": "j3KHAr6BsJY6"
      },
      "source": [
        "## Example: Parallel function calls on the same function\n",
        "\n",
        "A great use case for parallel function calling is when you have a function that only accepts one parameter per API call and you need to make repeated calls to that function.\n",
        "\n",
        "With Parallel Function Calling, rather than having to send N number of API requests to LLM for N number function calls, instead you can send a single API request to LLM, receive N number of Function Call Responses within a single response, make N number of external API calls in your code, then return all of the API responses to LLM in bulk. And you can do all of this without any extra configuration in your function declarations, tools, or requests to LLM.\n",
        "\n",
        "In this example, you'll do exactly that and use Parallel Function Calling in LLM to ask about multiple topics on [Wikipedia](https://www.wikipedia.org/). Let's get started!\n"
      ]
    },
    {
      "cell_type": "code",
      "execution_count": 18,
      "metadata": {
        "id": "E82hDrsVutvP"
      },
      "outputs": [],
      "source": [
        "tools = [\n",
        "    {\n",
        "        \"type\": \"function\",\n",
        "        \"function\": {\n",
        "            \"name\": \"search_wikipedia\",\n",
        "            \"description\": \"Search for articles or any other relevant information on Wikipedia'\",\n",
        "            \"parameters\": {\n",
        "                \"type\": \"object\",\n",
        "                \"properties\": {\n",
        "                    \"query\": {\n",
        "                        \"type\": \"string\",\n",
        "                        \"description\": \"Query to search for on Wikipedia\"\n",
        "                    }\n",
        "                },\n",
        "                \"required\": [\"query\"],\n",
        "                \"additionalProperties\": False\n",
        "            }\n",
        "        }\n",
        "    }\n",
        "]"
      ]
    },
    {
      "cell_type": "code",
      "execution_count": 19,
      "metadata": {
        "id": "t6wL8go_uvvJ"
      },
      "outputs": [],
      "source": [
        "### Send prompt to OpenAI GPT-4o with function calling\n",
        "prompt = \"Search for articles related to solar panels, renewable energy, and battery storage and provide a summary of your findings\""
      ]
    },
    {
      "cell_type": "code",
      "execution_count": 20,
      "metadata": {
        "id": "xxLnBJGiuyZi"
      },
      "outputs": [],
      "source": [
        "response = client.chat.completions.create(\n",
        "    model=model_name,\n",
        "    messages=[\n",
        "        {\"role\": \"system\", \"content\": \"You are a helpful assistant.\"},\n",
        "        {\"role\": \"user\", \"content\": prompt}\n",
        "    ],\n",
        "    tools=tools,\n",
        "    tool_choice=\"auto\",\n",
        ")\n"
      ]
    },
    {
      "cell_type": "code",
      "execution_count": 21,
      "metadata": {
        "colab": {
          "base_uri": "https://localhost:8080/"
        },
        "id": "WUpmzF8rzV92",
        "outputId": "f6ed5577-f93b-4ce9-b3e4-f35fb0795ff5"
      },
      "outputs": [
        {
          "data": {
            "text/plain": [
              "[ChatCompletionMessageToolCall(id='call_p8qeJ7i1dV4vDPNS8EXJtILP', function=Function(arguments='{\"query\": \"solar panels\"}', name='search_wikipedia'), type='function'),\n",
              " ChatCompletionMessageToolCall(id='call_rvqnhCLbI36er0VHTZS1nlIr', function=Function(arguments='{\"query\": \"renewable energy\"}', name='search_wikipedia'), type='function'),\n",
              " ChatCompletionMessageToolCall(id='call_ls6aWEexLmAc8cdTnSxCRb44', function=Function(arguments='{\"query\": \"battery storage\"}', name='search_wikipedia'), type='function')]"
            ]
          },
          "execution_count": 21,
          "metadata": {},
          "output_type": "execute_result"
        }
      ],
      "source": [
        "response.choices[0].message.tool_calls"
      ]
    },
    {
      "cell_type": "code",
      "execution_count": 22,
      "metadata": {
        "colab": {
          "base_uri": "https://localhost:8080/"
        },
        "id": "ZVl-2MLHzIQ5",
        "outputId": "a9c16668-0d54-4d96-ebfe-c7d49be8c1fd"
      },
      "outputs": [
        {
          "name": "stdout",
          "output_type": "stream",
          "text": [
            "{\n",
            "  \"id\": \"chatcmpl-CDhlQ1BmONotJDjImNhYs8av0PgSf\",\n",
            "  \"choices\": [\n",
            "    {\n",
            "      \"finish_reason\": \"length\",\n",
            "      \"index\": 0,\n",
            "      \"logprobs\": null,\n",
            "      \"message\": {\n",
            "        \"content\": \"Artificial Intelligence (AI) refers to the simulation of\",\n",
            "        \"role\": \"assistant\",\n",
            "        \"function_call\": null,\n",
            "        \"tool_calls\": null,\n",
            "        \"annotations\": [],\n",
            "        \"refusal\": null\n",
            "      },\n",
            "      \"content_filter_results\": {\n",
            "        \"hate\": {\n",
            "          \"filtered\": false,\n",
            "          \"severity\": \"safe\"\n",
            "        },\n",
            "        \"protected_material_code\": {\n",
            "          \"filtered\": false,\n",
            "          \"detected\": false\n",
            "        },\n",
            "        \"protected_material_text\": {\n",
            "          \"filtered\": false,\n",
            "          \"detected\": false\n",
            "        },\n",
            "        \"self_harm\": {\n",
            "          \"filtered\": false,\n",
            "          \"severity\": \"safe\"\n",
            "        },\n",
            "        \"sexual\": {\n",
            "          \"filtered\": false,\n",
            "          \"severity\": \"safe\"\n",
            "        },\n",
            "        \"violence\": {\n",
            "          \"filtered\": false,\n",
            "          \"severity\": \"safe\"\n",
            "        }\n",
            "      }\n",
            "    },\n",
            "    {\n",
            "      \"finish_reason\": \"length\",\n",
            "      \"index\": 1,\n",
            "      \"logprobs\": null,\n",
            "      \"message\": {\n",
            "        \"content\": \"Artificial Intelligence (AI) refers to the simulation of\",\n",
            "        \"role\": \"assistant\",\n",
            "        \"function_call\": null,\n",
            "        \"tool_calls\": null,\n",
            "        \"annotations\": [],\n",
            "        \"refusal\": null\n",
            "      },\n",
            "      \"content_filter_results\": {\n",
            "        \"hate\": {\n",
            "          \"filtered\": false,\n",
            "          \"severity\": \"safe\"\n",
            "        },\n",
            "        \"protected_material_code\": {\n",
            "          \"filtered\": false,\n",
            "          \"detected\": false\n",
            "        },\n",
            "        \"protected_material_text\": {\n",
            "          \"filtered\": false,\n",
            "          \"detected\": false\n",
            "        },\n",
            "        \"self_harm\": {\n",
            "          \"filtered\": false,\n",
            "          \"severity\": \"safe\"\n",
            "        },\n",
            "        \"sexual\": {\n",
            "          \"filtered\": false,\n",
            "          \"severity\": \"safe\"\n",
            "        },\n",
            "        \"violence\": {\n",
            "          \"filtered\": false,\n",
            "          \"severity\": \"safe\"\n",
            "        }\n",
            "      }\n",
            "    }\n",
            "  ],\n",
            "  \"created\": 1757382528,\n",
            "  \"model\": \"gpt-4o-mini-2024-07-18\",\n",
            "  \"object\": \"chat.completion\",\n",
            "  \"system_fingerprint\": \"fp_efad92c60b\",\n",
            "  \"usage\": {\n",
            "    \"completion_tokens\": 20,\n",
            "    \"prompt_tokens\": 10,\n",
            "    \"total_tokens\": 30,\n",
            "    \"completion_tokens_details\": {\n",
            "      \"accepted_prediction_tokens\": 0,\n",
            "      \"audio_tokens\": 0,\n",
            "      \"reasoning_tokens\": 0,\n",
            "      \"rejected_prediction_tokens\": 0\n",
            "    },\n",
            "    \"prompt_tokens_details\": {\n",
            "      \"audio_tokens\": 0,\n",
            "      \"cached_tokens\": 0\n",
            "    }\n",
            "  },\n",
            "  \"prompt_filter_results\": [\n",
            "    {\n",
            "      \"prompt_index\": 0,\n",
            "      \"content_filter_results\": {\n",
            "        \"hate\": {\n",
            "          \"filtered\": false,\n",
            "          \"severity\": \"safe\"\n",
            "        },\n",
            "        \"jailbreak\": {\n",
            "          \"filtered\": false,\n",
            "          \"detected\": false\n",
            "        },\n",
            "        \"self_harm\": {\n",
            "          \"filtered\": false,\n",
            "          \"severity\": \"safe\"\n",
            "        },\n",
            "        \"sexual\": {\n",
            "          \"filtered\": false,\n",
            "          \"severity\": \"safe\"\n",
            "        },\n",
            "        \"violence\": {\n",
            "          \"filtered\": false,\n",
            "          \"severity\": \"safe\"\n",
            "        }\n",
            "      }\n",
            "    }\n",
            "  ]\n",
            "}\n"
          ]
        }
      ],
      "source": [
        "response2 = client.chat.completions.create(model=model_name,\n",
        "                                           messages=[{\"role\":\"user\",\"content\":\"Define Artificial Intelligence\"}],\n",
        "                                           max_tokens=10,n=2)\n",
        "\n",
        "print(response2.model_dump_json(indent=2))"
      ]
    },
    {
      "cell_type": "code",
      "execution_count": 23,
      "metadata": {
        "colab": {
          "base_uri": "https://localhost:8080/"
        },
        "id": "m0InetGGvIXQ",
        "outputId": "8f5c57df-71ce-43b0-b2bf-d4e5e69a020c"
      },
      "outputs": [
        {
          "name": "stdout",
          "output_type": "stream",
          "text": [
            "{\n",
            "  \"id\": \"chatcmpl-CDhl9L7Im1R17wuXKizV88FdKbRwF\",\n",
            "  \"choices\": [\n",
            "    {\n",
            "      \"finish_reason\": \"tool_calls\",\n",
            "      \"index\": 0,\n",
            "      \"logprobs\": null,\n",
            "      \"message\": {\n",
            "        \"content\": null,\n",
            "        \"role\": \"assistant\",\n",
            "        \"function_call\": null,\n",
            "        \"tool_calls\": [\n",
            "          {\n",
            "            \"id\": \"call_p8qeJ7i1dV4vDPNS8EXJtILP\",\n",
            "            \"function\": {\n",
            "              \"arguments\": \"{\\\"query\\\": \\\"solar panels\\\"}\",\n",
            "              \"name\": \"search_wikipedia\"\n",
            "            },\n",
            "            \"type\": \"function\"\n",
            "          },\n",
            "          {\n",
            "            \"id\": \"call_rvqnhCLbI36er0VHTZS1nlIr\",\n",
            "            \"function\": {\n",
            "              \"arguments\": \"{\\\"query\\\": \\\"renewable energy\\\"}\",\n",
            "              \"name\": \"search_wikipedia\"\n",
            "            },\n",
            "            \"type\": \"function\"\n",
            "          },\n",
            "          {\n",
            "            \"id\": \"call_ls6aWEexLmAc8cdTnSxCRb44\",\n",
            "            \"function\": {\n",
            "              \"arguments\": \"{\\\"query\\\": \\\"battery storage\\\"}\",\n",
            "              \"name\": \"search_wikipedia\"\n",
            "            },\n",
            "            \"type\": \"function\"\n",
            "          }\n",
            "        ],\n",
            "        \"annotations\": [],\n",
            "        \"refusal\": null\n",
            "      },\n",
            "      \"content_filter_results\": {}\n",
            "    }\n",
            "  ],\n",
            "  \"created\": 1757382511,\n",
            "  \"model\": \"gpt-4o-mini-2024-07-18\",\n",
            "  \"object\": \"chat.completion\",\n",
            "  \"system_fingerprint\": \"fp_efad92c60b\",\n",
            "  \"usage\": {\n",
            "    \"completion_tokens\": 66,\n",
            "    \"prompt_tokens\": 84,\n",
            "    \"total_tokens\": 150,\n",
            "    \"completion_tokens_details\": {\n",
            "      \"accepted_prediction_tokens\": 0,\n",
            "      \"audio_tokens\": 0,\n",
            "      \"reasoning_tokens\": 0,\n",
            "      \"rejected_prediction_tokens\": 0\n",
            "    },\n",
            "    \"prompt_tokens_details\": {\n",
            "      \"audio_tokens\": 0,\n",
            "      \"cached_tokens\": 0\n",
            "    }\n",
            "  },\n",
            "  \"prompt_filter_results\": [\n",
            "    {\n",
            "      \"prompt_index\": 0,\n",
            "      \"content_filter_results\": {\n",
            "        \"hate\": {\n",
            "          \"filtered\": false,\n",
            "          \"severity\": \"safe\"\n",
            "        },\n",
            "        \"jailbreak\": {\n",
            "          \"filtered\": false,\n",
            "          \"detected\": false\n",
            "        },\n",
            "        \"self_harm\": {\n",
            "          \"filtered\": false,\n",
            "          \"severity\": \"safe\"\n",
            "        },\n",
            "        \"sexual\": {\n",
            "          \"filtered\": false,\n",
            "          \"severity\": \"safe\"\n",
            "        },\n",
            "        \"violence\": {\n",
            "          \"filtered\": false,\n",
            "          \"severity\": \"safe\"\n",
            "        }\n",
            "      }\n",
            "    }\n",
            "  ]\n",
            "}\n"
          ]
        }
      ],
      "source": [
        "print(response.model_dump_json(indent=2))"
      ]
    },
    {
      "cell_type": "code",
      "execution_count": 24,
      "metadata": {
        "colab": {
          "base_uri": "https://localhost:8080/"
        },
        "id": "d9GkXrgau8Tg",
        "outputId": "f3465b05-7a2b-48cc-c376-2cabe1074bf0"
      },
      "outputs": [
        {
          "name": "stdout",
          "output_type": "stream",
          "text": [
            "[{'search_wikipedia': {'query': 'solar panels'}, 'id': 'call_p8qeJ7i1dV4vDPNS8EXJtILP'}, {'search_wikipedia': {'query': 'renewable energy'}, 'id': 'call_rvqnhCLbI36er0VHTZS1nlIr'}, {'search_wikipedia': {'query': 'battery storage'}, 'id': 'call_ls6aWEexLmAc8cdTnSxCRb44'}]\n"
          ]
        }
      ],
      "source": [
        "# Extract function calls from the response\n",
        "tool_calls = extract_tool_calls(response)\n",
        "print(tool_calls)"
      ]
    },
    {
      "cell_type": "code",
      "execution_count": 25,
      "metadata": {
        "colab": {
          "base_uri": "https://localhost:8080/"
        },
        "id": "uyBpfsFR0Hsu",
        "outputId": "89e48f70-7a2b-4b51-85d6-827ccbb88626"
      },
      "outputs": [
        {
          "name": "stdout",
          "output_type": "stream",
          "text": [
            "{'search_wikipedia': {'query': 'solar panels'}, 'id': 'call_p8qeJ7i1dV4vDPNS8EXJtILP'}\n",
            "{'search_wikipedia': {'query': 'renewable energy'}, 'id': 'call_rvqnhCLbI36er0VHTZS1nlIr'}\n",
            "{'search_wikipedia': {'query': 'battery storage'}, 'id': 'call_ls6aWEexLmAc8cdTnSxCRb44'}\n"
          ]
        }
      ],
      "source": [
        "### Make external API calls\n",
        "import wikipedia\n",
        "api_response = []\n",
        "\n",
        "# Loop over multiple function calls\n",
        "for tool in tool_calls:\n",
        "    print(tool)\n",
        "\n",
        "    # Make external API call\n",
        "    result = wikipedia.summary(tool[\"search_wikipedia\"][\"query\"])\n",
        "\n",
        "    # Collect all API responses\n",
        "    api_response.append(result)"
      ]
    },
    {
      "cell_type": "code",
      "execution_count": 26,
      "metadata": {
        "colab": {
          "base_uri": "https://localhost:8080/"
        },
        "id": "gbSSzesj0psA",
        "outputId": "bf3f91f6-91b4-491e-cea1-c02c360ed90c"
      },
      "outputs": [
        {
          "name": "stdout",
          "output_type": "stream",
          "text": [
            "A solar panel is a device that converts sunlight into electricity by using multiple solar modules that consist of photovoltaic (PV) cells. PV cells are made of materials that produce excited electrons when exposed to light. These electrons flow through a circuit and produce direct current (DC) electricity, which can be used to power various devices or be stored in batteries. Solar panels can be known as solar cell panels, or solar electric panels. Solar panels are usually arranged in groups called arrays or systems. A photovoltaic system consists of one or more solar panels, an inverter that converts DC electricity to alternating current (AC) electricity, and sometimes other components such as controllers, meters, and trackers. Most panels are in solar farms or rooftop solar panels which  supply the electricity grid.\n",
            "Some advantages of solar panels are that they use a renewable and clean source of energy, reduce greenhouse gas emissions, and lower electricity bills. Some disadvantages are that they depend on the availability and intensity of sunlight, require cleaning, and have high initial costs. Solar panels are widely used for residential, commercial, and industrial purposes, as well as in space, often together with batteries.\n",
            "Renewable energy (also called green energy) is energy made from renewable natural resources that are replenished on a human timescale. The most widely used renewable energy types are solar energy, wind power, and hydropower. Bioenergy and geothermal power are also significant in some countries. Some also consider nuclear power a renewable power source, although this is controversial, as nuclear energy requires mining uranium, a nonrenewable resource. Renewable energy installations can be large or small and are suited for both urban and rural areas. Renewable energy is often deployed together with further electrification. This has several benefits: electricity can move heat and vehicles efficiently and is clean at the point of consumption. Variable renewable energy sources are those that have a fluctuating nature, such as wind power and solar power. In contrast, controllable renewable energy sources include dammed hydroelectricity, bioenergy, or geothermal power.\n",
            "\n",
            "Renewable energy systems have rapidly become more efficient and cheaper over the past 30 years. A large majority of worldwide newly installed electricity capacity is now renewable. Renewable energy sources, such as solar and wind power, have seen significant cost reductions over the past decade, making them more competitive with traditional fossil fuels. In some geographic localities, photovoltaic solar or onshore wind are the cheapest new-build electricity. From 2011 to 2021, renewable energy grew from 20% to 28% of global electricity supply. Power from the sun and wind accounted for most of this increase, growing from a combined 2% to 10%. Use of fossil energy shrank from 68% to 62%. In 2024, renewables accounted for over 30% of global electricity generation and are projected to reach over 45% by 2030. Many countries already have renewables contributing more than 20% of their total energy supply, with some generating over half or even all their electricity from renewable sources.\n",
            "The main motivation to use renewable energy instead of fossil fuels is to slow and eventually stop climate change, which is mostly caused by their greenhouse gas emissions. In general, renewable energy sources pollute much less than fossil fuels. The International Energy Agency estimates that to achieve net zero emissions by 2050, 90% of global electricity will need to be generated by renewables. Renewables also cause much less air pollution than fossil fuels, improving public health, and are less noisy.\n",
            "\n",
            "The deployment of renewable energy still faces obstacles, especially fossil fuel subsidies, lobbying by incumbent power providers, and local opposition to the use of land for renewable installations. Like all mining, the extraction of minerals required for many renewable energy technologies also results in environmental damage. In addition, although most renewable energy sources are sustainable, some are not.\n",
            "A battery energy storage system (BESS), battery storage power station, battery energy grid storage (BEGS) or battery grid storage is a type of energy storage technology that uses a group of batteries in the grid to store electrical energy. Battery storage is the fastest responding dispatchable source of power on electric grids, and it is used to stabilise those grids, as battery storage can transition from standby to full power in under a second to deal with grid contingencies.\n",
            "Battery energy storage systems are generally designed to deliver their full rated power for durations ranging from 1 to 4 hours, with emerging technologies extending this to longer durations to meet evolving grid demands. Battery storage can be used for short-term peak power demand and for  ancillary services, such as providing operating reserve and frequency control to minimize the chance of power outages. They are often installed at, or close to, other active or disused power stations and may share the same grid connection to reduce costs. Since battery storage plants require no deliveries of fuel, are compact compared to generating stations and have no chimneys or large cooling systems, they can be rapidly installed and placed if necessary within urban areas, close to customer load, or even inside customer premises.\n",
            "As of 2021, the power and capacity of the largest individual battery storage system is an order of magnitude less than that of the largest pumped-storage power plants, the most common form of grid energy storage. For example, the Bath County Pumped Storage Station, the second largest in the world, can store 24 GWh of electricity and dispatch 3 GW while the first phase of Vistra Energy's Moss Landing Energy Storage Facility can store 1.2 GWh and dispatch 300 MW. However, grid batteries do not have to be large — a high number of smaller ones (often as hybrid power) can be widely deployed across a grid for greater redundancy and large overall capacity.\n",
            "As of 2019, battery power storage is typically cheaper than open cycle gas turbine power for use up to two hours, and there was around 365 GWh of battery storage deployed worldwide, growing rapidly. \n",
            "Levelized cost of storage (LCOS) has fallen rapidly. From 2014 to 2024, cost halving time was 4.1 years. The price was US$150 per MWh in 2020, and further reduced to US$117 by 2023.\n"
          ]
        }
      ],
      "source": [
        "for res in api_response:\n",
        "    print(res)"
      ]
    },
    {
      "cell_type": "code",
      "execution_count": 27,
      "metadata": {
        "id": "iRxpmE3r2eow"
      },
      "outputs": [],
      "source": [
        "\n",
        "### Generate a natural language summary\n",
        "messages=[\n",
        "        {\"role\": \"system\", \"content\": \"You are a helpful assistant.\"},\n",
        "        {\"role\": \"user\", \"content\": prompt},]\n",
        "\n",
        "messages.append(response.choices[0].message)\n",
        "for tool,res in zip(tool_calls,api_response):\n",
        "  messages.append({\"tool_call_id\": tool['id'],\n",
        "                   \"role\": \"tool\",\n",
        "                   \"name\": 'search_wikipedia',\n",
        "                   \"content\": res,})\n"
      ]
    },
    {
      "cell_type": "code",
      "execution_count": 29,
      "metadata": {
        "id": "_6RJnN1lusA3"
      },
      "outputs": [],
      "source": [
        "# Now we return all API responses back to GPT-4 to summarize\n",
        "\n",
        "new_response = client.chat.completions.create(\n",
        "    model=model_name,\n",
        "    messages = messages)"
      ]
    },
    {
      "cell_type": "code",
      "execution_count": 30,
      "metadata": {
        "colab": {
          "base_uri": "https://localhost:8080/"
        },
        "id": "Hhf-dmA737LP",
        "outputId": "4532e963-2821-4167-9d8a-74ef86f941c6"
      },
      "outputs": [
        {
          "name": "stdout",
          "output_type": "stream",
          "text": [
            "Here are the summaries of the findings related to solar panels, renewable energy, and battery storage:\n",
            "\n",
            "### Solar Panels\n",
            "Solar panels consist of photovoltaic (PV) cells that convert sunlight into electricity. These panels form arrays or systems and are often paired with an inverter to convert the generated DC electricity to AC electricity. While solar panels can provide significant advantages such as being a renewable and clean energy source, reducing greenhouse gas emissions, and potentially lowering electricity bills, they do have drawbacks. These include their dependency on sunlight availability, the need for regular maintenance, and high initial costs. Solar panels are utilized in various applications, from residential rooftops to large solar farms, and they are often integrated with battery storage to enhance electricity reliability.\n",
            "\n",
            "### Renewable Energy\n",
            "Renewable energy is derived from naturally replenishing resources such as solar, wind, hydropower, bioenergy, and geothermal energy. It is characterized by a more sustainable approach compared to fossil fuels, as it has lower environmental impacts and helps in combating climate change. Over the past three decades, renewable energy technologies have become significantly more efficient and have seen cost declines, making them competitive alternatives to fossil fuels. By 2024, renewables accounted for over 30% of global electricity generation, with projections suggesting this could exceed 45% by 2030. The push for renewables is primarily driven by the need to reduce greenhouse gas emissions and improve air quality, despite facing challenges such as fossil fuel subsidies and local opposition.\n",
            "\n",
            "### Battery Storage\n",
            "Battery storage systems are essential for energy management, allowing for the storage of electrical energy to meet demand and stabilize electric grids. They have the capability to respond rapidly, providing power in under a second to address sudden grid needs. Typically, these systems can deliver full power for durations ranging from one to four hours, and there are ongoing developments to extend their capabilities for longer periods. Battery storage offers advantages like quick installation and reduced need for large infrastructure compared to traditional power generation methods. The deployment of battery storage systems has been growing rapidly, with a marked decrease in costs over recent years, making them a viable and increasingly economical option for energy storage in various settings.\n",
            "\n",
            "These three domains—solar panels, renewable energy, and battery storage—are interconnected and play a crucial role in advancing sustainable energy solutions. The ongoing advancements and decreasing costs in these areas are critical for addressing global energy demands and environmental challenges.\n"
          ]
        }
      ],
      "source": [
        "\n",
        "# Display the final summary\n",
        "print(new_response.choices[0].message.content)"
      ]
    },
    {
      "cell_type": "markdown",
      "metadata": {
        "id": "riYC7Z-RjvYl"
      },
      "source": [
        "## Example: Parallel function calls across multiple functions\n",
        "\n",
        "Another good fit for parallel function calling is when you have multiple, independent functions that you want to be able to call in parallel, which reduces the number of consecutive OpenAI API calls that you need to make and (ideally) reduces the overall response time to the end user who is waiting for a natural language response.\n",
        "\n",
        "In this example, you'll use Parallel Function Calling in LLM to ask about multiple aspects of topics and articles on [Wikipedia](https://www.wikipedia.org/).\n"
      ]
    },
    {
      "cell_type": "code",
      "execution_count": 31,
      "metadata": {
        "id": "niPXM0mwjvYl"
      },
      "outputs": [],
      "source": [
        "tools = [\n",
        "    {\n",
        "        \"type\": \"function\",\n",
        "        \"function\": {\n",
        "            \"name\": \"search_wikipedia\",\n",
        "            \"description\": \"Search for articles or any other relevant information on Wikipedia\",\n",
        "            \"parameters\": {\n",
        "                \"type\": \"object\",\n",
        "                \"properties\": {\n",
        "                    \"query\": {\n",
        "                        \"type\": \"string\",\n",
        "                        \"description\": \"Query to search for on Wikipedia\"\n",
        "                    }\n",
        "                },\n",
        "                \"required\": [\"query\"],\n",
        "                \"additionalProperties\": False\n",
        "            }\n",
        "        }\n",
        "    },\n",
        "    {\n",
        "        \"type\": \"function\",\n",
        "        \"function\": {\n",
        "            \"name\": \"suggest_wikipedia\",\n",
        "            \"description\": \"Get suggested titles from Wikipedia based on the given query term\",\n",
        "            \"parameters\": {\n",
        "                \"type\": \"object\",\n",
        "                \"properties\": {\n",
        "                    \"query\": {\n",
        "                        \"type\": \"string\",\n",
        "                        \"description\": \"Query to search for suggested titles on Wikipedia\"\n",
        "                    }\n",
        "                },\n",
        "                \"required\": [\"query\"],\n",
        "                \"additionalProperties\": False\n",
        "            }\n",
        "        }\n",
        "    },\n",
        "    {\n",
        "        \"type\": \"function\",\n",
        "        \"function\": {\n",
        "            \"name\": \"summarize_wikipedia\",\n",
        "            \"description\": \"Retrieve brief summaries of Wikipedia articles related to a given topic\",\n",
        "            \"parameters\": {\n",
        "                \"type\": \"object\",\n",
        "                \"properties\": {\n",
        "                    \"topic\": {\n",
        "                        \"type\": \"string\",\n",
        "                        \"description\": \"Topic to search for article summaries on Wikipedia\"\n",
        "                    }\n",
        "                },\n",
        "                \"required\": [\"topic\"],\n",
        "                \"additionalProperties\": False\n",
        "            }\n",
        "        }\n",
        "    }\n",
        "]\n"
      ]
    },
    {
      "cell_type": "code",
      "execution_count": 32,
      "metadata": {
        "id": "YwOD7xNN57tN"
      },
      "outputs": [],
      "source": [
        "prompt = \"Show the search results, variations, and article summaries about Wikipedia articles related to the solar system\""
      ]
    },
    {
      "cell_type": "code",
      "execution_count": 34,
      "metadata": {
        "id": "3_C4s7WQ57wJ"
      },
      "outputs": [],
      "source": [
        "response = client.chat.completions.create(\n",
        "    model=model_name,\n",
        "    messages=[\n",
        "        {\"role\": \"system\", \"content\": \"You are a helpful assistant.\"},\n",
        "        {\"role\": \"user\", \"content\": prompt}\n",
        "    ],\n",
        "    tools=tools,\n",
        "    tool_choice='auto'\n",
        ")\n"
      ]
    },
    {
      "cell_type": "code",
      "execution_count": 35,
      "metadata": {
        "colab": {
          "base_uri": "https://localhost:8080/"
        },
        "id": "wPixYdKJ57wJ",
        "outputId": "fd515005-ea85-45fb-ad67-b3ea65fa4028"
      },
      "outputs": [
        {
          "data": {
            "text/plain": [
              "[ChatCompletionMessageToolCall(id='call_1tnFUFVQpjoxEJSe5buAybca', function=Function(arguments='{\"query\": \"solar system\"}', name='search_wikipedia'), type='function'),\n",
              " ChatCompletionMessageToolCall(id='call_v18lXNqcMTLqVgIO4Y7gTkjW', function=Function(arguments='{\"query\": \"solar system\"}', name='suggest_wikipedia'), type='function'),\n",
              " ChatCompletionMessageToolCall(id='call_mhC0fdG6Lk9cZLCLKqeU1xQL', function=Function(arguments='{\"topic\": \"solar system\"}', name='summarize_wikipedia'), type='function')]"
            ]
          },
          "execution_count": 35,
          "metadata": {},
          "output_type": "execute_result"
        }
      ],
      "source": [
        "response.choices[0].message.tool_calls"
      ]
    },
    {
      "cell_type": "markdown",
      "metadata": {
        "id": "0mp8zaBhjvYo"
      },
      "source": [
        "### Extract function names and parameters\n",
        "\n",
        "Use the helper function that we created earlier to extract the function names and function parameters for each Function Call that LLM responded with:"
      ]
    },
    {
      "cell_type": "code",
      "execution_count": 36,
      "metadata": {
        "colab": {
          "base_uri": "https://localhost:8080/"
        },
        "id": "AL4sQ7RQ57wK",
        "outputId": "9e0a0792-f230-4437-c303-dd6423683fad"
      },
      "outputs": [
        {
          "name": "stdout",
          "output_type": "stream",
          "text": [
            "[{'search_wikipedia': {'query': 'solar system'}, 'id': 'call_1tnFUFVQpjoxEJSe5buAybca'}, {'suggest_wikipedia': {'query': 'solar system'}, 'id': 'call_v18lXNqcMTLqVgIO4Y7gTkjW'}, {'summarize_wikipedia': {'topic': 'solar system'}, 'id': 'call_mhC0fdG6Lk9cZLCLKqeU1xQL'}]\n"
          ]
        }
      ],
      "source": [
        "# Extract function calls from the response\n",
        "tool_calls = extract_tool_calls(response)\n",
        "print(tool_calls)"
      ]
    },
    {
      "cell_type": "markdown",
      "metadata": {
        "id": "ZgLqFRJsjvYy"
      },
      "source": [
        "### Make external API calls\n",
        "\n",
        "Next, you'll loop through the Function Calls and use the `wikipedia` Python package to make APIs calls and gather information from Wikipedia:"
      ]
    },
    {
      "cell_type": "code",
      "execution_count": 37,
      "metadata": {
        "colab": {
          "base_uri": "https://localhost:8080/"
        },
        "id": "MrnQf3RcjvYz",
        "outputId": "d55ed976-a363-4b79-b6c6-ae6979beac35"
      },
      "outputs": [
        {
          "name": "stdout",
          "output_type": "stream",
          "text": [
            "{'search_wikipedia': {'query': 'solar system'}, 'id': 'call_1tnFUFVQpjoxEJSe5buAybca'}\n",
            "{'suggest_wikipedia': {'query': 'solar system'}, 'id': 'call_v18lXNqcMTLqVgIO4Y7gTkjW'}\n",
            "{'summarize_wikipedia': {'topic': 'solar system'}, 'id': 'call_mhC0fdG6Lk9cZLCLKqeU1xQL'}\n"
          ]
        }
      ],
      "source": [
        "api_response = {}\n",
        "\n",
        "# Loop over multiple function calls\n",
        "for tool in tool_calls:\n",
        "    # Extract the function name\n",
        "    print(tool)\n",
        "    function_name = list(tool.keys())[0]\n",
        "\n",
        "    # Determine which external API call to make\n",
        "    if function_name == \"search_wikipedia\":\n",
        "        result = wikipedia.search(tool[\"search_wikipedia\"][\"query\"])\n",
        "    if function_name == \"suggest_wikipedia\":\n",
        "        result = wikipedia.suggest(tool[\"suggest_wikipedia\"][\"query\"])\n",
        "    if function_name == \"summarize_wikipedia\":\n",
        "        result = wikipedia.summary(\n",
        "            tool[\"summarize_wikipedia\"][\"topic\"], auto_suggest=False\n",
        "        )\n",
        "\n",
        "    # Collect all API responses\n",
        "    api_response[function_name] = result"
      ]
    },
    {
      "cell_type": "code",
      "execution_count": 38,
      "metadata": {
        "colab": {
          "base_uri": "https://localhost:8080/"
        },
        "id": "wUcd30f260Od",
        "outputId": "8481f4ad-f11d-48e3-b76c-36bfbd058db6"
      },
      "outputs": [
        {
          "data": {
            "text/plain": [
              "{'search_wikipedia': ['Solar System',\n",
              "  'Formation and evolution of the Solar System',\n",
              "  'List of Solar System objects by size',\n",
              "  'List of Solar System objects',\n",
              "  'Photovoltaic system',\n",
              "  'Exoplanet',\n",
              "  'Solar System model',\n",
              "  'Solar System (disambiguation)',\n",
              "  'Passive solar building design',\n",
              "  'Solar water heating'],\n",
              " 'suggest_wikipedia': 'soler system',\n",
              " 'summarize_wikipedia': \"The Solar System consists of the Sun and the objects that orbit it. The name comes from Sōl, the Latin name for the Sun. It formed about 4.6 billion years ago when a dense region of a molecular cloud collapsed, creating the Sun and a protoplanetary disc from which the orbiting bodies assembled. The fusion of hydrogen into helium inside the Sun's core releases energy, which is primarily emitted through its outer photosphere. This creates a decreasing temperature gradient across the system. Over 99.86% of the Solar System's mass is located within the Sun.\\nThe most massive objects that orbit the Sun are the eight planets. Closest to the Sun in order of increasing distance are the four terrestrial planets – Mercury, Venus, Earth and Mars. Only the Earth and Mars orbit within the Sun's habitable zone, where liquid water can exist on the surface. Beyond the frost line at about five astronomical units (AU), are two gas giants – Jupiter and Saturn – and two ice giants – Uranus and Neptune. Jupiter and Saturn possess nearly 90% of the non-stellar mass of the Solar System.\\nThere are a vast number of less massive objects. There is a strong consensus among astronomers that the Solar System has at least nine dwarf planets: Ceres, Orcus, Pluto, Haumea, Quaoar, Makemake, Gonggong, Eris, and Sedna. Six planets, seven dwarf planets, and other bodies have orbiting natural satellites, which are commonly called 'moons', and range from sizes of dwarf planets, like Earth's Moon, at their largest, to much less massive moonlets at their smallest. There are small Solar System bodies, such as asteroids, comets, centaurs, meteoroids, and interplanetary dust clouds. Some of these bodies are in the asteroid belt (between Mars's and Jupiter's orbit) and the Kuiper belt (just outside Neptune's orbit).\\nBetween the bodies of the Solar System is an interplanetary medium of dust and particles. The Solar System is constantly flooded by outflowing charged particles from the solar wind, forming the heliosphere. At around 70–90 AU from the Sun, the solar wind is halted by the interstellar medium, resulting in the heliopause. This is the boundary to interstellar space. The Solar System extends beyond this boundary with its outermost region, the theorized Oort cloud, the source for long-period comets, extending to a radius of 2,000–200,000 AU. The Solar System currently moves through a cloud of interstellar medium called the Local Cloud. The closest star to the Solar System, Proxima Centauri, is 4.25 light-years (269,000 AU) away. Both are within the Local Bubble, a relatively small 1,000 light-years wide region of the Milky Way.\"}"
            ]
          },
          "execution_count": 38,
          "metadata": {},
          "output_type": "execute_result"
        }
      ],
      "source": [
        "api_response"
      ]
    },
    {
      "cell_type": "markdown",
      "metadata": {
        "id": "pdji2r7CjvYz"
      },
      "source": [
        "### Get a natural language summary\n",
        "\n",
        "Now you can return all of the API responses to LLM so that it can generate a natural language summary:"
      ]
    },
    {
      "cell_type": "code",
      "execution_count": 39,
      "metadata": {
        "id": "NAD7jaTq7P0z"
      },
      "outputs": [],
      "source": [
        "\n",
        "### Generate a natural language summary\n",
        "messages=[\n",
        "        {\"role\": \"system\", \"content\": \"You are a helpful assistant.\"},\n",
        "        {\"role\": \"user\", \"content\": prompt},]\n",
        "\n",
        "messages.append(response.choices[0].message)\n",
        "for tool,res in zip(tool_calls,api_response):\n",
        "  function_name = list(tool.keys())[0]\n",
        "  messages.append({\"tool_call_id\": tool['id'],\n",
        "                   \"role\": \"tool\",\n",
        "                   \"name\": function_name,\n",
        "                   \"content\": res,})\n"
      ]
    },
    {
      "cell_type": "code",
      "execution_count": 41,
      "metadata": {
        "id": "BcQMJaIE7P00"
      },
      "outputs": [],
      "source": [
        "# Now we return all API responses back to GPT-4 to summarize\n",
        "\n",
        "new_response = client.chat.completions.create(\n",
        "    model=model_name,\n",
        "    messages = messages)"
      ]
    },
    {
      "cell_type": "code",
      "execution_count": 42,
      "metadata": {
        "colab": {
          "base_uri": "https://localhost:8080/"
        },
        "id": "Qc-zHn-B7P00",
        "outputId": "69b7192d-e758-4027-8b62-c564419fa96b"
      },
      "outputs": [
        {
          "name": "stdout",
          "output_type": "stream",
          "text": [
            "Here are the search results, variations, and a summary related to Wikipedia articles on the solar system:\n",
            "\n",
            "### Search Results\n",
            "1. **Solar System** - A gravitationally bound system comprising the Sun and the objects that orbit it, including the eight planets, their moons, dwarf planets such as Pluto, and other small solar system bodies.\n",
            "2. **Planet (A body of significant mass)** - Defines what a planet is, including classifications and examples from the solar system.\n",
            "3. **Earth** - Our home planet, the third from the Sun, known for its biodiversity and liquid water.\n",
            "4. **Mars** - The fourth planet from the Sun, known as the Red Planet due to iron oxide on its surface.\n",
            "5. **Jupiter** - The largest planet in the solar system, a gas giant with a prominent set of rings and many moons.\n",
            "6. **Saturn** - Known for its stunning ring system, it is the second-largest planet in the solar system and a gas giant.\n",
            "7. **Dwarf planet** - Discusses celestial objects like Pluto that don't meet all criteria to be classified as full-fledged planets.\n",
            "8. **Asteroid** - Small rocky bodies in the solar system, primarily found in the asteroid belt between Mars and Jupiter.\n",
            "9. **Comet** - Icy celestial bodies that develop a visible atmosphere and sometimes a tail when they come close to the Sun.\n",
            "\n",
            "### Suggested Variations\n",
            "- The Solar System and Climates\n",
            "- Formation of the Solar System\n",
            "- The solar system exploration missions\n",
            "- Moons of the solar system\n",
            "- Solar System in popular culture\n",
            "\n",
            "### Article Summary\n",
            "**Solar System**: The solar system, centered around the Sun, is a collection of celestial bodies bound by gravity. It consists of eight major planets: Mercury, Venus, Earth, Mars, Jupiter, Saturn, Uranus, and Neptune, as well as dwarf planets like Pluto, hundreds of natural satellites or moons, asteroids, comets, and dust and gas. The formation of the solar system occurred about 4.6 billion years ago from the gravitational collapse of a region within a large molecular cloud. The solar system has been extensively studied through telescopes and space missions, offering insights into its composition and the potential for life on other planets.\n",
            "\n",
            "If you need more detailed information on specific articles or topics, feel free to ask!\n"
          ]
        }
      ],
      "source": [
        "# Display the final summary\n",
        "print(new_response.choices[0].message.content)"
      ]
    },
    {
      "cell_type": "code",
      "execution_count": null,
      "metadata": {
        "id": "Bl2ZSmyC7oBG"
      },
      "outputs": [],
      "source": []
    },
    {
      "cell_type": "markdown",
      "metadata": {
        "id": "RG97M6G-4iQ7"
      },
      "source": [
        "# Sequential Multi function call"
      ]
    },
    {
      "cell_type": "code",
      "execution_count": 43,
      "metadata": {
        "id": "ltWmu-a04rH3"
      },
      "outputs": [],
      "source": [
        "import requests\n",
        "import json"
      ]
    },
    {
      "cell_type": "code",
      "execution_count": 44,
      "metadata": {
        "id": "IAMib7EX4lh5"
      },
      "outputs": [],
      "source": [
        "# Define the OpenWeatherMap API key\n",
        "OWM_API_KEY = \"29af1cea50a401d8e624eea4660b3f59\"\n",
        "\n",
        "def get_current_weather(location, unit=\"kelvin\"):\n",
        "    \"\"\"\n",
        "    Fetches the current weather information for a given location.\n",
        "\n",
        "    Parameters:\n",
        "    - location: str, the name of the location (e.g., \"Paris\").\n",
        "    - unit: str, the unit of temperature (default is \"kelvin\").\n",
        "\n",
        "    Returns:\n",
        "    - str: JSON formatted string containing weather information.\n",
        "    \"\"\"\n",
        "    # Construct the API request URL\n",
        "    url = f\"https://api.openweathermap.org/data/2.5/weather?q={location}&appid={OWM_API_KEY}\"\n",
        "\n",
        "    try:\n",
        "      # Send the API request\n",
        "      response = requests.get(url)\n",
        "    except:\n",
        "      return \"Error occurred because location does not exist\"\n",
        "\n",
        "    # Parse the temperature and weather forecast from the response\n",
        "    temp = response.json()['main']['temp']\n",
        "    forecast = [response.json()['weather'][0]['main'], response.json()['weather'][0]['description']]\n",
        "\n",
        "    # Create a dictionary with the weather information\n",
        "    weather_info = {\n",
        "        \"location\": location,\n",
        "        \"temperature\": temp,\n",
        "        \"unit\": 'Kelvin',\n",
        "        \"forecast\": forecast\n",
        "    }\n",
        "\n",
        "    # Return the weather information as a JSON string\n",
        "    return json.dumps(weather_info)"
      ]
    },
    {
      "cell_type": "code",
      "execution_count": 45,
      "metadata": {
        "id": "9vIHr6BE4imv"
      },
      "outputs": [],
      "source": [
        "tools = [\n",
        "    {\n",
        "        \"type\": \"function\",\n",
        "        \"function\": {\n",
        "            \"name\": \"search_wikipedia\",\n",
        "            \"description\": \"Search for articles or any other relevant information on Wikipedia'\",\n",
        "            \"parameters\": {\n",
        "                \"type\": \"object\",\n",
        "                \"properties\": {\n",
        "                    \"query\": {\n",
        "                        \"type\": \"string\",\n",
        "                        \"description\": \"Query to search for on Wikipedia\"\n",
        "                    }\n",
        "                },\n",
        "                \"required\": [\"query\"],\n",
        "                \"additionalProperties\": False\n",
        "            }\n",
        "        }\n",
        "    },\n",
        "    {\n",
        "            \"type\": \"function\",\n",
        "            \"function\": {\n",
        "                \"name\": \"get_current_weather\",\n",
        "                \"description\": \"Get the current weather in a given location\",\n",
        "                \"parameters\": {\n",
        "                    \"type\": \"object\",\n",
        "                    \"properties\": {\n",
        "                        \"location\": {\n",
        "                            \"type\": \"string\",\n",
        "                            \"description\": \"The city and state, e.g. San Francisco, CA\",\n",
        "                        },\n",
        "                        \"unit\": {\"type\": \"string\", \"enum\": [\"celsius\", \"fahrenheit\",\"kelvin\"]},\n",
        "                    },\n",
        "                    \"required\": [\"location\"],\n",
        "                },\n",
        "            },\n",
        "        },\n",
        "]"
      ]
    },
    {
      "cell_type": "code",
      "execution_count": null,
      "metadata": {
        "id": "FREnFG9J4v5G"
      },
      "outputs": [],
      "source": []
    },
    {
      "cell_type": "code",
      "execution_count": 46,
      "metadata": {
        "id": "-PZA1vX5449_"
      },
      "outputs": [],
      "source": [
        "prompt = \"Get the name of capital city of Tripura using wikipedia and then tell me the weather information for the same using wikipedia results. \""
      ]
    },
    {
      "cell_type": "code",
      "execution_count": 48,
      "metadata": {
        "id": "-mzHw2Td44-A"
      },
      "outputs": [],
      "source": [
        "response = client.chat.completions.create(\n",
        "    model=model_name,\n",
        "    messages=[\n",
        "        {\"role\": \"system\", \"content\": \"You are a helpful assistant.\"},\n",
        "        {\"role\": \"user\", \"content\": prompt}\n",
        "    ],\n",
        "    tools=tools,\n",
        "    tool_choice='auto'\n",
        ")\n"
      ]
    },
    {
      "cell_type": "code",
      "execution_count": 49,
      "metadata": {
        "colab": {
          "base_uri": "https://localhost:8080/"
        },
        "id": "qigARcRO44-A",
        "outputId": "b9049140-b927-40b5-c399-0fe09ce3d2a7"
      },
      "outputs": [
        {
          "data": {
            "text/plain": [
              "[ChatCompletionMessageToolCall(id='call_mEgbQ5VQnbZcBz7GMSsQxFh6', function=Function(arguments='{\"query\":\"Tripura\"}', name='search_wikipedia'), type='function')]"
            ]
          },
          "execution_count": 49,
          "metadata": {},
          "output_type": "execute_result"
        }
      ],
      "source": [
        "response.choices[0].message.tool_calls"
      ]
    },
    {
      "cell_type": "markdown",
      "metadata": {
        "id": "6k-YLd6f44-B"
      },
      "source": [
        "### Extract function names and parameters\n",
        "\n",
        "Use the helper function that we created earlier to extract the function names and function parameters for each Function Call that LLM responded with:"
      ]
    },
    {
      "cell_type": "code",
      "execution_count": 50,
      "metadata": {
        "colab": {
          "base_uri": "https://localhost:8080/"
        },
        "id": "pnc5ou_B44-B",
        "outputId": "37981bff-da9f-46f1-98ec-1beddb0e83b8"
      },
      "outputs": [
        {
          "name": "stdout",
          "output_type": "stream",
          "text": [
            "[{'search_wikipedia': {'query': 'Tripura'}, 'id': 'call_mEgbQ5VQnbZcBz7GMSsQxFh6'}]\n"
          ]
        }
      ],
      "source": [
        "# Extract function calls from the response\n",
        "tool_calls = extract_tool_calls(response)\n",
        "print(tool_calls)"
      ]
    },
    {
      "cell_type": "code",
      "execution_count": null,
      "metadata": {
        "id": "NPQWz9595K1q"
      },
      "outputs": [],
      "source": []
    },
    {
      "cell_type": "code",
      "execution_count": 51,
      "metadata": {
        "colab": {
          "base_uri": "https://localhost:8080/"
        },
        "id": "eKZgjRaC6KUu",
        "outputId": "aac3a507-8288-4d31-a08e-5676c159d795"
      },
      "outputs": [
        {
          "name": "stdout",
          "output_type": "stream",
          "text": [
            "{'search_wikipedia': {'query': 'Tripura'}, 'id': 'call_mEgbQ5VQnbZcBz7GMSsQxFh6'}\n"
          ]
        }
      ],
      "source": [
        "### Make external API calls\n",
        "import wikipedia\n",
        "api_response = []\n",
        "\n",
        "# Loop over multiple function calls\n",
        "for tool in tool_calls:\n",
        "    print(tool)\n",
        "\n",
        "    # Make external API call\n",
        "    result = wikipedia.summary(tool[\"search_wikipedia\"][\"query\"])\n",
        "\n",
        "    # Collect all API responses\n",
        "    api_response.append(result)"
      ]
    },
    {
      "cell_type": "code",
      "execution_count": 52,
      "metadata": {
        "colab": {
          "base_uri": "https://localhost:8080/"
        },
        "id": "dmIDzGEr6KUw",
        "outputId": "314f6212-a093-4f76-c915-385802b1cd40"
      },
      "outputs": [
        {
          "name": "stdout",
          "output_type": "stream",
          "text": [
            "Tripura () is a state in northeastern India. The third-smallest state in the country, it covers 10,491 km2 (4,051 sq mi); and the seventh-least populous state with a population of 3.67 million. It is bordered by Assam and Mizoram to the east and by Bangladesh to the north, south and west. Tripura is divided into 8 districts and 23 sub-divisions, where Agartala is the capital and the largest city in the state. Tripura has 19 different tribal communities with a majority Bengali population. Kokborok, Bengali, and English are the state's official languages.\n",
            "The area of modern Tripura — ruled for several centuries by the Manikya Dynasty — was part of the Tripuri Kingdom (also known as Hill Tippera). It became a princely state under the British Raj during its tenure, and acceded to independent India in 1947. It merged with India in 1949 and was designated as a 'Part C State' (union territory). It became a full-fledged state of India in 1972.\n",
            "Tripura lies in a geographically isolated location in India, as only one major highway, National Highway 8, connects it with the rest of the country. Five mountain ranges — Hathai Kotor (Baramura), Atharamura, Longtharai, Shakhan and Jampui Hills — run north to south, with intervening valleys; Agartala, the capital, is located on a plain to the west. The state has a tropical savanna climate, and receives seasonal heavy rains from the south west monsoon.\n",
            "Forests cover more than half of the area, in which bamboo and cane tracts are common. Tripura has the highest number of primate species found in any Indian state. Due to its geographical isolation, economic progress in the state is hindered. Poverty and unemployment continue to plague Tripura, which has a limited infrastructure. Most residents are involved in agriculture and allied activities, although the service sector is the largest contributor to the state's gross domestic product.\n",
            "According to the 2011 census, Tripura is one of the most literate states in India, with a literacy rate of 87.75%. Mainstream Indian cultural elements coexist with traditional practices of the ethnic groups, such as various dances to celebrate religious occasions, weddings and festivities; the use of locally crafted musical instruments and clothes; and the worship of regional deities. The sculptures at the archaeological sites Unakoti, Pilak and Devtamura provide historical evidence of artistic fusion between organised and indigenous religions.\n"
          ]
        }
      ],
      "source": [
        "for res in api_response:\n",
        "    print(res)"
      ]
    },
    {
      "cell_type": "code",
      "execution_count": 53,
      "metadata": {
        "id": "uLrV5mQI6KUw"
      },
      "outputs": [],
      "source": [
        "### Generate a natural language summary\n",
        "messages=[\n",
        "        {\"role\": \"system\", \"content\": \"You are a helpful assistant.\"},\n",
        "        {\"role\": \"user\", \"content\": prompt},]\n",
        "\n",
        "messages.append(response.choices[0].message)\n",
        "for tool,res in zip(tool_calls,api_response):\n",
        "  messages.append({\"tool_call_id\": tool['id'],\n",
        "                   \"role\": \"tool\",\n",
        "                   \"name\": 'search_wikipedia',\n",
        "                   \"content\": res,})\n"
      ]
    },
    {
      "cell_type": "code",
      "execution_count": 54,
      "metadata": {
        "id": "LhaN_IU86KUw"
      },
      "outputs": [],
      "source": [
        "# Now we return all API responses back to GPT-4 to summarize\n",
        "\n",
        "new_response = client.chat.completions.create(\n",
        "    model=model_name,\n",
        "    messages = messages,\n",
        "    tools=tools,\n",
        "    tool_choice='auto')"
      ]
    },
    {
      "cell_type": "code",
      "execution_count": 55,
      "metadata": {
        "colab": {
          "base_uri": "https://localhost:8080/"
        },
        "id": "svqLMcEL6KUx",
        "outputId": "963e1dba-0b81-4444-cf72-ce7699ed5a39"
      },
      "outputs": [
        {
          "name": "stdout",
          "output_type": "stream",
          "text": [
            "{\n",
            "  \"id\": \"chatcmpl-CDhnpSa4oXl46i6zcNFzOZAsEWnz9\",\n",
            "  \"choices\": [\n",
            "    {\n",
            "      \"finish_reason\": \"tool_calls\",\n",
            "      \"index\": 0,\n",
            "      \"logprobs\": null,\n",
            "      \"message\": {\n",
            "        \"content\": null,\n",
            "        \"role\": \"assistant\",\n",
            "        \"function_call\": null,\n",
            "        \"tool_calls\": [\n",
            "          {\n",
            "            \"id\": \"call_jfajvSJn7MMD4J5fjN88M0Km\",\n",
            "            \"function\": {\n",
            "              \"arguments\": \"{\\\"location\\\":\\\"Agartala, Tripura\\\",\\\"unit\\\":\\\"celsius\\\"}\",\n",
            "              \"name\": \"get_current_weather\"\n",
            "            },\n",
            "            \"type\": \"function\"\n",
            "          }\n",
            "        ],\n",
            "        \"annotations\": [],\n",
            "        \"refusal\": null\n",
            "      },\n",
            "      \"content_filter_results\": {}\n",
            "    }\n",
            "  ],\n",
            "  \"created\": 1757382677,\n",
            "  \"model\": \"gpt-4o-mini-2024-07-18\",\n",
            "  \"object\": \"chat.completion\",\n",
            "  \"system_fingerprint\": \"fp_efad92c60b\",\n",
            "  \"usage\": {\n",
            "    \"completion_tokens\": 26,\n",
            "    \"prompt_tokens\": 696,\n",
            "    \"total_tokens\": 722,\n",
            "    \"completion_tokens_details\": {\n",
            "      \"accepted_prediction_tokens\": 0,\n",
            "      \"audio_tokens\": 0,\n",
            "      \"reasoning_tokens\": 0,\n",
            "      \"rejected_prediction_tokens\": 0\n",
            "    },\n",
            "    \"prompt_tokens_details\": {\n",
            "      \"audio_tokens\": 0,\n",
            "      \"cached_tokens\": 0\n",
            "    }\n",
            "  },\n",
            "  \"prompt_filter_results\": [\n",
            "    {\n",
            "      \"prompt_index\": 0,\n",
            "      \"content_filter_results\": {\n",
            "        \"hate\": {\n",
            "          \"filtered\": false,\n",
            "          \"severity\": \"safe\"\n",
            "        },\n",
            "        \"jailbreak\": {\n",
            "          \"filtered\": false,\n",
            "          \"detected\": false\n",
            "        },\n",
            "        \"self_harm\": {\n",
            "          \"filtered\": false,\n",
            "          \"severity\": \"safe\"\n",
            "        },\n",
            "        \"sexual\": {\n",
            "          \"filtered\": false,\n",
            "          \"severity\": \"safe\"\n",
            "        },\n",
            "        \"violence\": {\n",
            "          \"filtered\": false,\n",
            "          \"severity\": \"safe\"\n",
            "        }\n",
            "      }\n",
            "    }\n",
            "  ]\n",
            "}\n"
          ]
        }
      ],
      "source": [
        "# Display the final summary\n",
        "print(new_response.model_dump_json(indent=2))"
      ]
    },
    {
      "cell_type": "code",
      "execution_count": 86,
      "metadata": {
        "id": "2lX_Z9SS6UwX"
      },
      "outputs": [],
      "source": []
    },
    {
      "cell_type": "code",
      "execution_count": null,
      "metadata": {
        "id": "o9yIeHjNARY2"
      },
      "outputs": [],
      "source": []
    }
  ],
  "metadata": {
    "colab": {
      "include_colab_link": true,
      "provenance": []
    },
    "environment": {
      "kernel": "conda-root-py",
      "name": "workbench-notebooks.m115",
      "type": "gcloud",
      "uri": "gcr.io/deeplearning-platform-release/workbench-notebooks:m115"
    },
    "kernelspec": {
      "display_name": "base",
      "language": "python",
      "name": "python3"
    },
    "language_info": {
      "codemirror_mode": {
        "name": "ipython",
        "version": 3
      },
      "file_extension": ".py",
      "mimetype": "text/x-python",
      "name": "python",
      "nbconvert_exporter": "python",
      "pygments_lexer": "ipython3",
      "version": "3.10.9"
    }
  },
  "nbformat": 4,
  "nbformat_minor": 0
}
