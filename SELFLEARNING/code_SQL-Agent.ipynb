{
 "cells": [
  {
   "cell_type": "markdown",
   "id": "fd8a1bb8",
   "metadata": {},
   "source": [
    "# SQL-Agent\n",
    "\n",
    "## Overview\n",
    "\n",
    "In this exercise, we will build an agent step-by-step that can answer questions\n",
    "\n",
    "## Key Topics :\n",
    "\n",
    "- Database : Set up an SQLite database and load the Chinook sample database.\n",
    "- Utility Functions : Define utility functions for implementing the agent.\n",
    "- Tool Definitions : Define tools for interacting with the database.\n",
    "- Workflow Definition : Define the workflow (graph) for the agent.\n",
    "- Graph Visualization : Visualize the defined workflow graph.\n",
    "- Agent Execution : Execute the agent and review the results.\n",
    "- Evaluation : Evaluate the agent and compare its performance."
   ]
  },
  {
   "cell_type": "markdown",
   "id": "584e6369",
   "metadata": {},
   "source": [
    "Setting up your environment is the first step."
   ]
  },
  {
   "cell_type": "code",
   "execution_count": 1,
   "id": "a48b12a5",
   "metadata": {},
   "outputs": [],
   "source": [
    "from langchain_openai import AzureChatOpenAI\n",
    "from dotenv import load_dotenv\n",
    "import os \n",
    "\n",
    "load_dotenv()\n",
    "\n",
    "os.environ[\"AZURE_OPENAI_API_KEY\"]\n",
    "os.environ[\"AZURE_OPENAI_ENDPOINT\"]\n",
    "\n",
    "os.environ[\"LANGFUSE_TRACING\"]\n",
    "os.environ[\"LANGFUSE_HOST\"]\n",
    "os.environ[\"LANGFUSE_PROJECT\"]\n",
    "os.environ[\"LANGFUSE_SECRET_KEY\"]\n",
    "os.environ[\"LANGFUSE_PUBLIC_KEY\"]\n",
    "\n",
    "MODEL_NAME = \"demo-gpt-4o\"\n",
    "\n",
    "llm = AzureChatOpenAI(\n",
    "    api_version=\"2024-12-01-preview\",\n",
    "    model=MODEL_NAME,\n",
    ")"
   ]
  },
  {
   "cell_type": "markdown",
   "id": "150cde8a",
   "metadata": {},
   "source": [
    "## Agent for Interacting with SQL Databases\n",
    "The workflow of an agent that executes SQL queries is as follows:\n",
    "\n",
    "- Understanding the Database Schema : Retrieve a list of available tables.\n",
    "- Selecting Relevant Tables : Identify tables related to the question.\n",
    "- Fetching DDL : Obtain the schema definitions (DDL) of the selected tables.\n",
    "- Generating Queries : Construct SQL queries based on the question and DDL information.\n",
    "- Query Validation : Use an LLM to review for common errors and refine the query.\n",
    "- Query Execution and Error Handling : Execute the query on the database engine and handle errors to ensure successful execution.\n",
    "- Generating Responses : Provide the final answer based on the query results.\n",
    "\n",
    "\n",
    "## Set Up the Database\n",
    "- In this tutorial, we will create an SQLite database. SQLite is a lightweight database that is easy o set up and use.\n",
    "- For this tutorial, we will load the Chinook sample database, which represents a digital media store.\n",
    "- You can find more information about the Chinook database here.\n",
    "- First, download the Chinook database to use for the exercises in this tutorial."
   ]
  },
  {
   "cell_type": "code",
   "execution_count": 3,
   "id": "7e3f63e6",
   "metadata": {},
   "outputs": [
    {
     "name": "stdout",
     "output_type": "stream",
     "text": [
      "File already exists\n"
     ]
    }
   ],
   "source": [
    "import requests\n",
    "import os\n",
    "\n",
    "if os.path.exists(\"data/Chinook.db\"):\n",
    "    print(\"File already exists\")\n",
    "else:\n",
    "    print(\"Downloading file...\")\n",
    "    url = \"https://storage.googleapis.com/benchmarks-artifacts/chinook/Chinook.db\"\n",
    "    response = requests.get(url)\n",
    "    if response.status_code == 200:\n",
    "        os.makedirs(\"data\", exist_ok=True)\n",
    "        with open(\"data/Chinook.db\", \"wb\") as file:\n",
    "            file.write(response.content)\n",
    "        print(\"File downloaded and saved as Chinook.db\")\n",
    "    else:\n",
    "        print(f\"Failed to download the file. Status code: {response.status_code}\")"
   ]
  },
  {
   "cell_type": "markdown",
   "id": "82a31016",
   "metadata": {},
   "source": [
    "### Using the Chinook Database\n",
    "Next, we will create an SQLDatabase tool using the downloaded Chinook database and execute a sample query, \"SELECT * FROM Artist LIMIT 5;\" ."
   ]
  },
  {
   "cell_type": "code",
   "execution_count": 4,
   "id": "dd3b20f9",
   "metadata": {},
   "outputs": [
    {
     "name": "stdout",
     "output_type": "stream",
     "text": [
      "db dialect : sqlite\n",
      "table names in db : ['Album', 'Artist', 'Customer', 'Employee', 'Genre', 'Invoice', 'InvoiceLine', 'MediaType', 'Playlist', 'PlaylistTrack', 'Track']\n"
     ]
    },
    {
     "data": {
      "text/plain": [
       "\"[(1, 'AC/DC'), (2, 'Accept'), (3, 'Aerosmith'), (4, 'Alanis Morissette'), (5, 'Alice In Chains')]\""
      ]
     },
     "execution_count": 4,
     "metadata": {},
     "output_type": "execute_result"
    }
   ],
   "source": [
    "from langchain_community.utilities import SQLDatabase\n",
    "\n",
    "# Create an SQLDatabase instance from the SQLite database file\n",
    "db = SQLDatabase.from_uri(\"sqlite:///data/Chinook.db\")\n",
    "\n",
    "# Print the database dialect (sqlite)\n",
    "print(f\"db dialect : {db.dialect}\")\n",
    "\n",
    "# Print the list of usable table names in the database\n",
    "print(f\"table names in db : {db.get_usable_table_names()}\")\n",
    "\n",
    "# Execute an SQL query\n",
    "db.run(\"SELECT * FROM Artist LIMIT 5;\")"
   ]
  },
  {
   "cell_type": "markdown",
   "id": "2771d219",
   "metadata": {},
   "source": [
    "## Utility Functions\n",
    "Let's define several utility functions to assist in implementing the agent.\n",
    "\n",
    "In particular, wrap ToolNode to include error handling and the capability to relay errors back to the agent."
   ]
  },
  {
   "cell_type": "code",
   "execution_count": 5,
   "id": "6f53750c",
   "metadata": {},
   "outputs": [],
   "source": [
    "from typing import Any\n",
    "\n",
    "from langchain_core.messages import ToolMessage\n",
    "from langchain_core.runnables import RunnableLambda, RunnableWithFallbacks\n",
    "from langgraph.prebuilt import ToolNode\n",
    "\n",
    "\n",
    "# Error handling function\n",
    "def handle_tool_error(state) -> dict:\n",
    "    # Check error information\n",
    "    error = state.get(\"error\")\n",
    "    # Check tool information\n",
    "    tool_calls = state[\"messages\"][-1].tool_calls\n",
    "    # Wrap with ToolMessage and return\n",
    "    return {\n",
    "        \"messages\": [\n",
    "            ToolMessage(\n",
    "                content=f\"Here is the error: {repr(error)}\\n\\nPlease fix your mistakes.\",\n",
    "                tool_call_id=tc[\"id\"],\n",
    "            )\n",
    "            for tc in tool_calls\n",
    "        ]\n",
    "    }\n",
    "\n",
    "\n",
    "# Create a ToolNode to handle errors and surface them to the agent\n",
    "def create_tool_node_with_fallback(tools: list) -> RunnableWithFallbacks[Any, dict]:\n",
    "    \"\"\"\n",
    "    Create a ToolNode with a fallback to handle errors and surface them to the agent.\n",
    "    \"\"\"\n",
    "    # Add fallback behavior for error handling to the ToolNode\n",
    "    return ToolNode(tools).with_fallbacks(\n",
    "        [RunnableLambda(handle_tool_error)], exception_key=\"error\"\n",
    "    )"
   ]
  },
  {
   "cell_type": "markdown",
   "id": "0349fff3",
   "metadata": {},
   "source": [
    "SQL Query Execution Tools\n",
    "To enable the agent to interact with the database, we define several tools.\n",
    "\n",
    "Defined Tools:\n",
    "- list_tables_tool : Retrieves a list of available tables in the database.\n",
    "- get_schema_tool : Fetches the DDL (Data Definition Language) of a table.\n",
    "- db_query_tool : Executes queries and retrieves results or returns error messages if the query fails.\n",
    "\n",
    "Note:\n",
    "DDL (Data Definition Language) refers to SQL commands used to define or modify the structure and schema of a database. It includes commands to create, alter, and delete database objects like tables, indexes, and views.\n",
    "\n",
    "Key DDL Commands:\n",
    "- CREATE : Creates database objects.\n",
    "    - Example: CREATE TABLE users (id INT, name VARCHAR(100));\n",
    "- ALTER : Modifies existing database objects.\n",
    "    - Example: ALTER TABLE users ADD COLUMN email VARCHAR(100);\n",
    "- DROP : Deletes database objects.\n",
    "    - Example: DROP TABLE users;\n",
    "\n",
    "\n",
    "## SQLDatabaseToolkit Tools\n",
    "The following tools are provided to interact with the SQL database:\n",
    "\n",
    "1. QuerySQLDatabaseTool\n",
    "    - Function : Executes SQL queries and returns results.\n",
    "    - Input : Valid SQL query.\n",
    "    - Output : Database results or error messages.\n",
    "    - Error Handling :\n",
    "        - Rewrites and retries the query if errors occur.\n",
    "        - Resolves \"unknown column\" errors by checking table fields using sql_db_schema.\n",
    "\n",
    "2. InfoSQLDatabaseTool\n",
    "- Function : Retrieves table schemas and sample data.\n",
    "- Input : Comma-separated list of table names.\n",
    "- Usage Example : table1, table2, table3\n",
    "- Note : Check table existence using sql_db_list_tables before using this tool.\n",
    "\n",
    "3. ListSQLDatabaseTool\n",
    "- Function : Retrieves a list of tables in the database.\n",
    "\n",
    "4. QuerySQLCheckerTool\n",
    "- Function : Validates SQL queries before execution.\n",
    "- Validation Checks :\n",
    "    - Use of NULL values and NOT IN .\n",
    "    - Suitability of UNION vs UNION ALL .\n",
    "    - Correct range settings for BETWEEN .\n",
    "    - Data type consistency.\n",
    "    - Proper quoting of identifiers.\n",
    "    - Correct number of function arguments.\n",
    "    - Proper type casting.\n",
    "    - Accuracy of join columns.\n",
    "- Features : Uses a GPT-4o model for validation."
   ]
  },
  {
   "cell_type": "code",
   "execution_count": 6,
   "id": "a37c8e9d",
   "metadata": {},
   "outputs": [
    {
     "name": "stdout",
     "output_type": "stream",
     "text": [
      "class_name : <class 'langchain_community.tools.sql_database.tool.QuerySQLDatabaseTool'>\n",
      "description : Input to this tool is a detailed and correct SQL query, output is a result from the database. If the query is not correct, an error message will be returned. If an error is returned, rewrite the query, check the query, and try again. If you encounter an issue with Unknown column 'xxxx' in 'field list', use sql_db_schema to query the correct table fields.\n",
      "\n",
      "class_name : <class 'langchain_community.tools.sql_database.tool.InfoSQLDatabaseTool'>\n",
      "description : Input to this tool is a comma-separated list of tables, output is the schema and sample rows for those tables. Be sure that the tables actually exist by calling sql_db_list_tables first! Example Input: table1, table2, table3\n",
      "\n",
      "class_name : <class 'langchain_community.tools.sql_database.tool.ListSQLDatabaseTool'>\n",
      "description : Input is an empty string, output is a comma-separated list of tables in the database.\n",
      "\n",
      "class_name : <class 'langchain_community.tools.sql_database.tool.QuerySQLCheckerTool'>\n",
      "description : Use this tool to double check if your query is correct before executing it. Always use this tool before executing a query with sql_db_query!\n",
      "\n"
     ]
    }
   ],
   "source": [
    "from langchain_community.agent_toolkits.sql.toolkit import SQLDatabaseToolkit\n",
    "\n",
    "# Create SQLDatabaseToolkit\n",
    "toolkit = SQLDatabaseToolkit(db=db, llm=llm)\n",
    "\n",
    "# Get the list of available tools from the SQLDatabaseToolkit\n",
    "tools = toolkit.get_tools()\n",
    "for tool in tools:\n",
    "    print(f\"class_name : {tool.__class__}\")\n",
    "    print(f\"description : {tool.description}\")\n",
    "    print()"
   ]
  },
  {
   "cell_type": "markdown",
   "id": "624823dd",
   "metadata": {},
   "source": [
    "Below is an example of executing list_tables_tool and get_schema_tool ."
   ]
  },
  {
   "cell_type": "code",
   "execution_count": 7,
   "id": "9e9b660b",
   "metadata": {},
   "outputs": [
    {
     "name": "stdout",
     "output_type": "stream",
     "text": [
      "list_tables :\n",
      "`Album, Artist, Customer, Employee, Genre, Invoice, InvoiceLine, MediaType, Playlist, PlaylistTrack, Track\n",
      "----------------------------------------------------------------------------------------------------\n",
      "schema :\n",
      "\n",
      "CREATE TABLE \"Artist\" (\n",
      "\t\"ArtistId\" INTEGER NOT NULL, \n",
      "\t\"Name\" NVARCHAR(120), \n",
      "\tPRIMARY KEY (\"ArtistId\")\n",
      ")\n",
      "\n",
      "/*\n",
      "3 rows from Artist table:\n",
      "ArtistId\tName\n",
      "1\tAC/DC\n",
      "2\tAccept\n",
      "3\tAerosmith\n",
      "*/\n"
     ]
    }
   ],
   "source": [
    "# Select the tool for listing available tables in the database\n",
    "list_tables_tool = next(tool for tool in tools if tool.name == \"sql_db_list_tables\")\n",
    "\n",
    "# Select the tool for retrieving the DDL of a specific table\n",
    "get_schema_tool = next(tool for tool in tools if tool.name == \"sql_db_schema\")\n",
    "\n",
    "# Print the list of all tables in the database\n",
    "print(f'list_tables :\\n`{list_tables_tool.invoke(\"\")}')\n",
    "\n",
    "print(\"-\" * 100)\n",
    "\n",
    "# Print the DDL information for the Artist table\n",
    "print(f'schema :\\n{get_schema_tool.invoke(\"Artist\")}')"
   ]
  },
  {
   "cell_type": "markdown",
   "id": "a5908c7b",
   "metadata": {},
   "source": [
    "Next, define db_query_tool .\n",
    "\n",
    "In db_query_tool case, it executes queries against the database and returns the results.\n",
    "\n",
    "If an error occurs, it returns an error message."
   ]
  },
  {
   "cell_type": "code",
   "execution_count": 8,
   "id": "a984ba71",
   "metadata": {},
   "outputs": [],
   "source": [
    "from langchain_core.tools import tool\n",
    "\n",
    "\n",
    "# Query execution tool\n",
    "@tool\n",
    "def db_query_tool(query: str) -> str:\n",
    "    \"\"\"\n",
    "    Run SQL queries against a database and return results\n",
    "    Returns an error message if the query is incorrect\n",
    "    If an error is returned, rewrite the query, check, and retry\n",
    "    \"\"\"\n",
    "    # Execute query\n",
    "    result = db.run_no_throw(query)\n",
    "\n",
    "    # Error: Return error message if no result\n",
    "    if not result:\n",
    "        return \"Error: Query failed. Please rewrite your query and try again.\"\n",
    "    # Success: Return the query execution result\n",
    "    return result"
   ]
  },
  {
   "cell_type": "markdown",
   "id": "35f5b539",
   "metadata": {},
   "source": [
    "When executed successfully."
   ]
  },
  {
   "cell_type": "code",
   "execution_count": 9,
   "id": "4d881bc9",
   "metadata": {},
   "outputs": [
    {
     "name": "stdout",
     "output_type": "stream",
     "text": [
      "[(1, 'AC/DC'), (2, 'Accept'), (3, 'Aerosmith'), (4, 'Alanis Morissette'), (5, 'Alice In Chains'), (6, 'Antônio Carlos Jobim'), (7, 'Apocalyptica'), (8, 'Audioslave'), (9, 'BackBeat'), (10, 'Billy Cobham')]\n"
     ]
    }
   ],
   "source": [
    "# Select the top 10 rows from the Artist table and print the execution result\n",
    "print(db_query_tool.invoke(\"SELECT * FROM Artist LIMIT 10;\"))"
   ]
  },
  {
   "cell_type": "markdown",
   "id": "421eaecc",
   "metadata": {},
   "source": [
    "When an error occurs.\n",
    "\n",
    "This will produce an error due to the incorrect SQL syntax (\"LIMITS\" instead of \"LIMIT\")"
   ]
  },
  {
   "cell_type": "code",
   "execution_count": 10,
   "id": "4dc86dae",
   "metadata": {},
   "outputs": [
    {
     "name": "stdout",
     "output_type": "stream",
     "text": [
      "Error: (sqlite3.OperationalError) near \"10\": syntax error\n",
      "[SQL: SELECT * FROM Artist LIMITS 10;]\n",
      "(Background on this error at: https://sqlalche.me/e/20/e3q8)\n"
     ]
    }
   ],
   "source": [
    "# Attempt to select the top 10 rows from the Artist table and print the result\n",
    "print(db_query_tool.invoke(\"SELECT * FROM Artist LIMITS 10;\"))"
   ]
  },
  {
   "cell_type": "markdown",
   "id": "e69ca6be",
   "metadata": {},
   "source": [
    "## SQL Query Checker\n",
    "Next, we will use an LLM to check for common mistakes in SQL queries.\n",
    "\n",
    "Strictly speaking, this is not a tool, but it will be added as a node in the workflow later."
   ]
  },
  {
   "cell_type": "code",
   "execution_count": 11,
   "id": "8444a37f",
   "metadata": {},
   "outputs": [],
   "source": [
    "from langchain_core.prompts import ChatPromptTemplate\n",
    "from langchain_openai import ChatOpenAI\n",
    "\n",
    "# Define a system message to check SQL queries for common mistakes\n",
    "query_check_system = \"\"\"You are a SQL expert with a strong attention to detail.\n",
    "Double check the SQLite query for common mistakes, including:\n",
    "- Using NOT IN with NULL values\n",
    "- Using UNION when UNION ALL should have been used\n",
    "- Using BETWEEN for exclusive ranges\n",
    "- Data type mismatch in predicates\n",
    "- Properly quoting identifiers\n",
    "- Using the correct number of arguments for functions\n",
    "- Casting to the correct data type\n",
    "- Using the proper columns for joins\n",
    "\n",
    "If there are any of the above mistakes, rewrite the query. If there are no mistakes, just reproduce the original query.\n",
    "\n",
    "You will call the appropriate tool to execute the query after running this check.\"\"\"\n",
    "\n",
    "# Create the prompt\n",
    "query_check_prompt = ChatPromptTemplate.from_messages(\n",
    "    [(\"system\", query_check_system), (\"placeholder\", \"{messages}\")]\n",
    ")\n",
    "\n",
    "# Create the Query Checker chain\n",
    "query_check = query_check_prompt | llm.bind_tools([db_query_tool], tool_choice=\"db_query_tool\")"
   ]
  },
  {
   "cell_type": "markdown",
   "id": "777da20d",
   "metadata": {},
   "source": [
    "## Verify the Fix for Incorrect Query\n",
    "An incorrect query was executed to check if the issue is properly handled and fixed.\n",
    "\n",
    "- Remark :\n",
    "The query used LIMITS instead of LIMIT ."
   ]
  },
  {
   "cell_type": "code",
   "execution_count": 12,
   "id": "0e31ecc8",
   "metadata": {},
   "outputs": [
    {
     "name": "stdout",
     "output_type": "stream",
     "text": [
      "{'name': 'db_query_tool', 'args': {'query': 'SELECT * FROM Artist LIMIT 10;'}, 'id': 'call_ySSCeGOmYO4fWmMhRLYgORU0', 'type': 'tool_call'}\n"
     ]
    }
   ],
   "source": [
    "# Execute the query check node using the user's message\n",
    "response = query_check.invoke(\n",
    "    {\"messages\": [(\"user\", \"SELECT * FROM Artist LIMITS 10;\")]}\n",
    ")\n",
    "print(response.tool_calls[0])"
   ]
  },
  {
   "cell_type": "markdown",
   "id": "9fdaf10b",
   "metadata": {},
   "source": [
    "The input query contained an error, but the generated query was successfully corrected.\n",
    "\n",
    "Correction: LIMITS → LIMIT"
   ]
  },
  {
   "cell_type": "markdown",
   "id": "56b83b74",
   "metadata": {},
   "source": [
    "## Graph Definition\n",
    "Define the workflow for the agent.\n",
    "\n",
    "The agent first forcefully invokes the list_tables_tool to retrieve the available tables from the database. After this, it follows the steps mentioned earlier in the exercise."
   ]
  },
  {
   "cell_type": "code",
   "execution_count": 13,
   "id": "43b35b49",
   "metadata": {},
   "outputs": [],
   "source": [
    "from typing import Annotated, Literal\n",
    "\n",
    "from langchain_core.messages import AIMessage\n",
    "\n",
    "from pydantic import BaseModel, Field\n",
    "from typing_extensions import TypedDict\n",
    "\n",
    "from langgraph.graph import END, StateGraph, START\n",
    "from langgraph.graph.message import AnyMessage, add_messages\n",
    "from langgraph.checkpoint.memory import MemorySaver"
   ]
  },
  {
   "cell_type": "code",
   "execution_count": 14,
   "id": "f03cc239",
   "metadata": {},
   "outputs": [],
   "source": [
    "# Define the agent's state\n",
    "class State(TypedDict):\n",
    "    messages: Annotated[list[AnyMessage], add_messages]\n",
    "\n",
    "\n",
    "# Create a new graph\n",
    "workflow = StateGraph(State)"
   ]
  },
  {
   "cell_type": "code",
   "execution_count": 15,
   "id": "6dcde7a9",
   "metadata": {},
   "outputs": [],
   "source": [
    "# Add a node for the first tool call\n",
    "def first_tool_call(state: State) -> dict[str, list[AIMessage]]:\n",
    "    return {\n",
    "        \"messages\": [\n",
    "            AIMessage(\n",
    "                content=\"\",\n",
    "                tool_calls=[\n",
    "                    {\n",
    "                        \"name\": \"sql_db_list_tables\",\n",
    "                        \"args\": {},\n",
    "                        \"id\": \"initial_tool_call_abc123\",\n",
    "                    }\n",
    "                ],\n",
    "            )\n",
    "        ]\n",
    "    }\n"
   ]
  },
  {
   "cell_type": "code",
   "execution_count": 16,
   "id": "8395ec44",
   "metadata": {},
   "outputs": [],
   "source": [
    "# Define a function to check query accuracy with a model\n",
    "def model_check_query(state: State) -> dict[str, list[AIMessage]]:\n",
    "    \"\"\"\n",
    "    Use this tool to check that your query is correct before you run it\n",
    "    \"\"\"\n",
    "    return {\"messages\": [query_check.invoke({\"messages\": [state[\"messages\"][-1]]})]}"
   ]
  },
  {
   "cell_type": "code",
   "execution_count": 17,
   "id": "cda9e54c",
   "metadata": {},
   "outputs": [
    {
     "data": {
      "text/plain": [
       "<langgraph.graph.state.StateGraph at 0x1e676d46d70>"
      ]
     },
     "execution_count": 17,
     "metadata": {},
     "output_type": "execute_result"
    }
   ],
   "source": [
    "# Add a node for the first tool call\n",
    "workflow.add_node(\"first_tool_call\", first_tool_call)\n",
    "\n",
    "# Add nodes for the first two tools\n",
    "workflow.add_node(\n",
    "    \"list_tables_tool\", create_tool_node_with_fallback([list_tables_tool])\n",
    ")\n",
    "workflow.add_node(\"get_schema_tool\", create_tool_node_with_fallback([get_schema_tool]))\n",
    "\n",
    "# Add a model node to select relevant tables based on the question and available tables\n",
    "model_get_schema = llm.bind_tools(\n",
    "    [get_schema_tool]\n",
    ")\n",
    "workflow.add_node(\n",
    "    \"model_get_schema\",\n",
    "    lambda state: {\n",
    "        \"messages\": [model_get_schema.invoke(state[\"messages\"])],\n",
    "    },\n",
    ")"
   ]
  },
  {
   "cell_type": "code",
   "execution_count": 18,
   "id": "4b08d257",
   "metadata": {},
   "outputs": [],
   "source": [
    "# Add a model node to generate a query based on the question and schema\n",
    "QUERY_GEN_INSTRUCTION = \"\"\"You are a SQL expert with a strong attention to detail.\n",
    "\n",
    "You can define SQL queries, analyze queries results and interpretate query results to response an answer.\n",
    "\n",
    "Read the messages bellow and identify the user question, table schemas, query statement and query result, or error if they exist.\n",
    "\n",
    "1. If there's not any query result that make sense to answer the question, create a syntactically correct SQLite query to answer the user question. DO NOT make any DML statements (INSERT, UPDATE, DELETE, DROP etc.) to the database.\n",
    "\n",
    "2. If you create a query, response ONLY the query statement. For example, \"SELECT id, name FROM pets;\"\n",
    "\n",
    "3. If a query was already executed, but there was an error. Response with the same error message you found. For example: \"Error: Pets table doesn't exist\"\n",
    "\n",
    "4. If a query was already executed successfully interpretate the response and answer the question following this pattern: Answer: <<question answer>>. \n",
    "    For example: \"Answer: There three cats registered as adopted\"\n",
    "\"\"\""
   ]
  },
  {
   "cell_type": "code",
   "execution_count": 19,
   "id": "035c76da",
   "metadata": {},
   "outputs": [],
   "source": [
    "query_gen_prompt = ChatPromptTemplate.from_messages(\n",
    "    [(\"system\", QUERY_GEN_INSTRUCTION), (\"placeholder\", \"{messages}\")]\n",
    ")"
   ]
  },
  {
   "cell_type": "code",
   "execution_count": 20,
   "id": "b77607a0",
   "metadata": {},
   "outputs": [],
   "source": [
    "query_gen = query_gen_prompt | llm.bind_tools(\n",
    "    [model_check_query]\n",
    ")"
   ]
  },
  {
   "cell_type": "code",
   "execution_count": 21,
   "id": "ef670db3",
   "metadata": {},
   "outputs": [],
   "source": [
    "# Define conditional edges\n",
    "def should_continue(state: State) -> Literal[END, \"correct_query\", \"query_gen\"]:\n",
    "    message = state[\"messages\"][-1].content\n",
    "\n",
    "    # 1) Terminate if the message starts with \"Answer:\"\n",
    "    if message.startswith(\"Answer:\"):\n",
    "        return END\n",
    "\n",
    "    # 2) Follow existing logic for other cases\n",
    "    elif message.startswith(\"Error:\"):\n",
    "        return \"query_gen\"\n",
    "    else:\n",
    "        return \"correct_query\""
   ]
  },
  {
   "cell_type": "code",
   "execution_count": 22,
   "id": "153271a4",
   "metadata": {},
   "outputs": [],
   "source": [
    "# Define the query generation node\n",
    "def query_gen_node(state: State):\n",
    "    message = query_gen.invoke(state)\n",
    "\n",
    "    # If the LLM makes incorrect tool calls, return error messages\n",
    "    tool_messages = []\n",
    "    message.pretty_print()\n",
    "    if message.tool_calls:\n",
    "        for tc in message.tool_calls:\n",
    "            tool_messages.append(\n",
    "                ToolMessage(\n",
    "                    content=f\"Error: The wrong tool was called: {tc['name']}. Please fix your mistakes. Remember to only call SubmitFinalAnswer to submit the final answer. Generated queries should be outputted WITHOUT a tool call.\",\n",
    "                    tool_call_id=tc[\"id\"],\n",
    "                )\n",
    "            )\n",
    "    else:\n",
    "        tool_messages = []\n",
    "    return {\"messages\": [message] + tool_messages}"
   ]
  },
  {
   "cell_type": "code",
   "execution_count": 23,
   "id": "f35f9ef8",
   "metadata": {},
   "outputs": [],
   "source": [
    "# Add the query generation node\n",
    "workflow.add_node(\"query_gen\", query_gen_node)\n",
    "\n",
    "# Add a node to check the query with the model before execution\n",
    "workflow.add_node(\"correct_query\", model_check_query)\n",
    "\n",
    "# Add a node to execute the query\n",
    "workflow.add_node(\"execute_query\", create_tool_node_with_fallback([db_query_tool]))\n",
    "\n",
    "# Specify edges between nodes\n",
    "workflow.add_edge(START, \"first_tool_call\")\n",
    "workflow.add_edge(\"first_tool_call\", \"list_tables_tool\")\n",
    "workflow.add_edge(\"list_tables_tool\", \"model_get_schema\")\n",
    "workflow.add_edge(\"model_get_schema\", \"get_schema_tool\")\n",
    "workflow.add_edge(\"get_schema_tool\", \"query_gen\")\n",
    "workflow.add_conditional_edges(\n",
    "    \"query_gen\",\n",
    "    should_continue,\n",
    ")\n",
    "workflow.add_edge(\"correct_query\", \"execute_query\")\n",
    "workflow.add_edge(\"execute_query\", \"query_gen\")\n",
    "\n",
    "# Compile the workflow into an executable app\n",
    "app = workflow.compile(checkpointer=MemorySaver())"
   ]
  },
  {
   "cell_type": "code",
   "execution_count": 24,
   "id": "62d48ad6",
   "metadata": {},
   "outputs": [
    {
     "data": {
      "image/png": "[encoded data removed]",
      "text/plain": [
       "<langgraph.graph.state.CompiledStateGraph object at 0x000001E676E63B50>"
      ]
     },
     "execution_count": 24,
     "metadata": {},
     "output_type": "execute_result"
    }
   ],
   "source": [
    "app"
   ]
  },
  {
   "cell_type": "markdown",
   "id": "3f861ac1",
   "metadata": {},
   "source": [
    "## Excution the Agent\n",
    "Execute the agent to interact with an SQL database through the entire process.\n",
    "\n",
    "The agent retrieves information from the database based on user queries, generates and executes SQL queries, and returns the results."
   ]
  },
  {
   "cell_type": "code",
   "execution_count": 25,
   "id": "286771ba",
   "metadata": {},
   "outputs": [],
   "source": [
    "import uuid\n",
    "\n",
    "def random_uuid():\n",
    "    return str(uuid.uuid4())\n",
    "\n",
    "def invoke_graph(app, inputs, config, node_names=None):\n",
    "    # Logic to invoke the graph\n",
    "    return app.invoke(inputs, config=config)\n",
    "\n",
    "def stream_graph(app, inputs, config, node_names=None):\n",
    "    # Logic to stream the graph\n",
    "    for step in app.stream(inputs, config=config):\n",
    "        yield step"
   ]
  },
  {
   "cell_type": "code",
   "execution_count": 26,
   "id": "ad659c7e",
   "metadata": {},
   "outputs": [],
   "source": [
    "from langchain_core.runnables import RunnableConfig\n",
    "from langchain_core.messages import HumanMessage\n",
    "from langgraph.errors import GraphRecursionError\n",
    "\n",
    "def run_graph(\n",
    "    message: str, recursive_limit: int = 30, node_names=[], stream: bool = False\n",
    "):\n",
    "    \n",
    "    # Configure settings (maximum recursion depth, thread ID)\n",
    "    config = RunnableConfig(\n",
    "        recursion_limit=recursive_limit, configurable={\"thread_id\": random_uuid()}\n",
    "    )\n",
    "\n",
    "    # Input the user's query\n",
    "    inputs = {\n",
    "        \"messages\": [HumanMessage(content=message)],\n",
    "    }\n",
    "\n",
    "    try:\n",
    "        if stream:\n",
    "            # Execute the graph with streaming\n",
    "            stream_graph(app, inputs, config, node_names=node_names)\n",
    "        else:\n",
    "            # Execute the graph without streaming\n",
    "            invoke_graph(app, inputs, config, node_names=node_names)\n",
    "        # Retrieve and return the output state values\n",
    "        output = app.get_state(config).values\n",
    "        return output\n",
    "    except GraphRecursionError as recursion_error:\n",
    "        print(f\"GraphRecursionError: {recursion_error}\")\n",
    "        # Return output state values even in case of a recursion error\n",
    "        output = app.get_state(config).values\n",
    "        return output"
   ]
  },
  {
   "cell_type": "code",
   "execution_count": 27,
   "id": "f6af1c41",
   "metadata": {},
   "outputs": [
    {
     "name": "stdout",
     "output_type": "stream",
     "text": [
      "==================================\u001b[1m Ai Message \u001b[0m==================================\n",
      "\n",
      "Answer: Andrew Adams is a General Manager with the following personal information:\n",
      "\n",
      "- **Employee ID**: 1\n",
      "- **Birth Date**: February 18, 1962\n",
      "- **Hire Date**: August 14, 2002\n",
      "- **Address**: 11120 Jasper Ave NW, Edmonton, AB, Canada, Postal Code: T5K 2N1\n",
      "- **Phone**: +1 (780) 428-9482\n",
      "- **Fax**: +1 (780) 428-3457\n",
      "- **Email**: andrew@chinookcorp.com\n"
     ]
    }
   ],
   "source": [
    "output = run_graph(\n",
    "    \"Let me know all personal information about employee Andrew Adam.\",\n",
    "    stream=False,\n",
    ")"
   ]
  },
  {
   "cell_type": "markdown",
   "id": "9ff8e583",
   "metadata": {},
   "source": [
    "## Evaluating an SQL Agent Using LangFuse\n",
    "Now, let's evaluate the SQL Agent's responses to queries. To do this, we'll first create a dataset specifically designed for evaluation purposes.\n",
    "\n",
    "Next, we define an evaluator and proceed with the evaluation process.\n",
    "\n",
    "For this, we use LLM-as-judge as the evaluator. The prompt employed will be the default one provided by the evaluation prompt hub.\n",
    "\n",
    "However, for more precise evaluations, it is recommended to fine-tune the prompt to suit your specific needs."
   ]
  },
  {
   "cell_type": "code",
   "execution_count": 28,
   "id": "783af708",
   "metadata": {},
   "outputs": [],
   "source": [
    "import os\n",
    "from langfuse import Langfuse\n",
    "from langfuse.callback import CallbackHandler\n",
    "from langchain.agents import create_sql_agent, AgentType\n",
    "from langchain_core.runnables import RunnableConfig\n",
    "from langchain import hub\n",
    "from langfuse.decorators import observe\n",
    "from uuid import uuid4 as random_uuid\n",
    "from langchain_core.messages import HumanMessage"
   ]
  },
  {
   "cell_type": "code",
   "execution_count": 29,
   "id": "87ae1328",
   "metadata": {},
   "outputs": [],
   "source": [
    "# Langfuse setup\n",
    "langfuse = Langfuse(\n",
    "    public_key=os.environ[\"LANGFUSE_PUBLIC_KEY\"],\n",
    "    secret_key=os.environ[\"LANGFUSE_SECRET_KEY\"],  # Langfuse uses the same key for public/secret in some setups\n",
    "    host=os.environ[\"LANGFUSE_HOST\"]\n",
    ")\n",
    "\n",
    "\n",
    "agent_executor = create_sql_agent(\n",
    "    llm=llm,\n",
    "    toolkit=toolkit,\n",
    "    verbose=True,\n",
    "    agent_type=AgentType.ZERO_SHOT_REACT_DESCRIPTION\n",
    ")\n",
    "\n",
    "# Define LangGraph for SQL agent\n",
    "def sql_node(state):\n",
    "    query = state[\"messages\"][-1].content\n",
    "    result = agent_executor.run(query)\n",
    "    return {\"messages\": state[\"messages\"] + [HumanMessage(content=result)]}"
   ]
  },
  {
   "cell_type": "code",
   "execution_count": 31,
   "id": "62de574e",
   "metadata": {},
   "outputs": [],
   "source": [
    "examples = [\n",
    "    (\n",
    "        \"Which country's customers spent the most? And how much did they spend?\",\n",
    "        \"The country whose customers spent the most is the USA, with a total spending of 523.06.\",\n",
    "    ),\n",
    "    (\n",
    "        \"What was the most purchased track of 2013?\",\n",
    "        \"The most purchased track of 2013 was Hot Girl.\",\n",
    "    ),\n",
    "    (\n",
    "        \"How many albums does the artist Led Zeppelin have?\",\n",
    "        \"Led Zeppelin has 14 albums\",\n",
    "    ),\n",
    "    (\n",
    "        \"What is the total price for the album “Big Ones”?\",\n",
    "        \"The total price for the album 'Big Ones' is 14.85\",\n",
    "    ),\n",
    "    (\n",
    "        \"Which sales agent made the most in sales in 2009?\",\n",
    "        \"Steve Johnson made the most sales in 2009\",\n",
    "    ),\n",
    "]\n",
    "\n",
    "langfuse_handler = CallbackHandler(\n",
    "    public_key=os.environ[\"LANGFUSE_PUBLIC_KEY\"],\n",
    "    secret_key=os.environ[\"LANGFUSE_SECRET_KEY\"],  # Langfuse uses the same key for public/secret in some setups\n",
    "    host=os.environ[\"LANGFUSE_HOST\"]\n",
    ")"
   ]
  },
  {
   "cell_type": "markdown",
   "id": "378e6cd1",
   "metadata": {},
   "source": [
    "Next, we define a function to predict the SQL query response generated by our agent."
   ]
  },
  {
   "cell_type": "code",
   "execution_count": null,
   "id": "b64a6a14",
   "metadata": {},
   "outputs": [],
   "source": [
    "# Function to predict SQL agent response with Langfuse tracing\n",
    "@observe()\n",
    "def predict_sql_agent_answer(example: dict):\n",
    "    \"\"\"Use this for answer evaluation with Langfuse tracing\"\"\"\n",
    "    try:\n",
    "        # Configure settings with thread_id for the checkpointer\n",
    "        config = RunnableConfig(\n",
    "            configurable={\"thread_id\": random_uuid()},\n",
    "            recursion_limit=30,  # Match the limit from your run_graph function\n",
    "            callbacks=[langfuse_handler]  # Include Langfuse handler\n",
    "        )\n",
    "\n",
    "        # Input the user's query\n",
    "        inputs = {\n",
    "            \"messages\": [HumanMessage(content=example[\"input\"])],\n",
    "        }\n",
    "\n",
    "        # Execute the graph\n",
    "        output = app.invoke(inputs, config)\n",
    "        answer = output[\"messages\"][-1].content\n",
    "        \n",
    "        return {\"response\": answer}\n",
    "    except Exception as e:\n",
    "        error_msg = f\"Error: The agent failed to generate a response: {str(e)}\"\n",
    "        return {\"response\": error_msg}"
   ]
  },
  {
   "cell_type": "markdown",
   "id": "d9cca137",
   "metadata": {},
   "source": [
    "Define the prompt and the evaluator (LLM-as-judge) to evaluate the SQL query response."
   ]
  },
  {
   "cell_type": "code",
   "execution_count": null,
   "id": "e8c338bd",
   "metadata": {},
   "outputs": [],
   "source": [
    "# Define the answer evaluator (LLM-as-judge) with Langfuse tracing\n",
    "@observe()\n",
    "def answer_evaluator(prediction, example) -> dict:\n",
    "    # Grade prompt for answer accuracy\n",
    "    grade_prompt_answer_accuracy = hub.pull(\"langchain-ai/rag-answer-vs-reference\")\n",
    "    \n",
    "    answer_grader = grade_prompt_answer_accuracy | llm\n",
    "    \n",
    "    try:\n",
    "        # Execute the evaluator\n",
    "        score = answer_grader.invoke(\n",
    "            {\n",
    "                \"question\": example[\"input\"],\n",
    "                \"correct_answer\": example[\"output\"],\n",
    "                \"student_answer\": prediction[\"response\"],\n",
    "            }\n",
    "        )\n",
    "        score = score[\"Score\"]\n",
    "        \n",
    "        return {\"key\": \"answer_v_reference_score\", \"score\": score}\n",
    "    except Exception as e:\n",
    "        return {\"key\": \"answer_v_reference_score\", \"score\": 0, \"error\": str(e)}"
   ]
  },
  {
   "cell_type": "code",
   "execution_count": null,
   "id": "fb9bdf24",
   "metadata": {},
   "outputs": [],
   "source": [
    "# Perform evaluation with Langfuse tracing\n",
    "@observe()\n",
    "def evaluate_sql_agent():\n",
    "    results = []\n",
    "    \n",
    "    try:\n",
    "        for example in examples:\n",
    "            # Predict the answer\n",
    "            prediction = predict_sql_agent_answer({\"input\": example[0], \"output\": example[1]})\n",
    "            \n",
    "            # Evaluate the prediction\n",
    "            eval_result = answer_evaluator(prediction, {\"input\": example[0], \"output\": example[1]})\n",
    "            \n",
    "            # Store results\n",
    "            results.append({\n",
    "                \"input\": example[0],\n",
    "                \"reference\": example[1],\n",
    "                \"prediction\": prediction[\"response\"],\n",
    "                \"score\": eval_result[\"score\"]\n",
    "            })\n",
    "        \n",
    "        return results\n",
    "    except Exception as e:\n",
    "        print(f\"Evaluation failed: {str(e)}\")\n",
    "        return [{\"error\": str(e)}]"
   ]
  },
  {
   "cell_type": "markdown",
   "id": "f63fd86e",
   "metadata": {},
   "source": [
    "Now, we perform the evaluation and review the results."
   ]
  },
  {
   "cell_type": "code",
   "execution_count": 32,
   "id": "439e5006",
   "metadata": {},
   "outputs": [
    {
     "name": "stdout",
     "output_type": "stream",
     "text": [
      "==================================\u001b[1m Ai Message \u001b[0m==================================\n",
      "\n",
      "SELECT BillingCountry, SUM(Total) AS TotalSpent\n",
      "FROM Invoice\n",
      "GROUP BY BillingCountry\n",
      "ORDER BY TotalSpent DESC\n",
      "LIMIT 1;\n",
      "==================================\u001b[1m Ai Message \u001b[0m==================================\n",
      "\n",
      "Answer: The customers from the USA spent the most, with a total spending of $523.06.\n"
     ]
    },
    {
     "name": "stderr",
     "output_type": "stream",
     "text": [
      "d:\\code\\Langchain_Leaern\\Tradence\\SQL Agent\\temp_temp_venv\\lib\\site-packages\\langsmith\\client.py:272: LangSmithMissingAPIKeyWarning: API key must be provided when using hosted LangSmith API\n",
      "  warnings.warn(\n"
     ]
    },
    {
     "name": "stdout",
     "output_type": "stream",
     "text": [
      "==================================\u001b[1m Ai Message \u001b[0m==================================\n",
      "Tool Calls:\n",
      "  model_check_query (call_TGmOx6DN3Fr15nVrAtsSVtP8)\n",
      " Call ID: call_TGmOx6DN3Fr15nVrAtsSVtP8\n",
      "  Args:\n",
      "    state: {'messages': [{'content': 'SELECT Track.Name, SUM(InvoiceLine.Quantity) AS TotalQuantity\\nFROM InvoiceLine\\nJOIN Track ON InvoiceLine.TrackId = Track.TrackId\\nGROUP BY Track.Name\\nORDER BY TotalQuantity DESC\\nLIMIT 1;', 'type': 'ai'}]}\n",
      "==================================\u001b[1m Ai Message \u001b[0m==================================\n",
      "\n",
      "SELECT Track.Name, SUM(InvoiceLine.Quantity) AS TotalQuantity\n",
      "FROM InvoiceLine\n",
      "JOIN Track ON InvoiceLine.TrackId = Track.TrackId\n",
      "GROUP BY Track.Name\n",
      "ORDER BY TotalQuantity DESC\n",
      "LIMIT 1;\n",
      "==================================\u001b[1m Ai Message \u001b[0m==================================\n",
      "\n",
      "Answer: The most purchased track of 2013 was \"The Trooper\".\n"
     ]
    },
    {
     "name": "stderr",
     "output_type": "stream",
     "text": [
      "d:\\code\\Langchain_Leaern\\Tradence\\SQL Agent\\temp_temp_venv\\lib\\site-packages\\langsmith\\client.py:272: LangSmithMissingAPIKeyWarning: API key must be provided when using hosted LangSmith API\n",
      "  warnings.warn(\n"
     ]
    },
    {
     "name": "stdout",
     "output_type": "stream",
     "text": [
      "==================================\u001b[1m Ai Message \u001b[0m==================================\n",
      "Tool Calls:\n",
      "  model_check_query (call_wNB6WIOMGlfPFAjHADpUbhDL)\n",
      " Call ID: call_wNB6WIOMGlfPFAjHADpUbhDL\n",
      "  Args:\n",
      "    state: {'messages': [{'content': \"SELECT COUNT(*) AS AlbumCount FROM Album INNER JOIN Artist ON Album.ArtistId = Artist.ArtistId WHERE Artist.Name = 'Led Zeppelin';\"}]}\n",
      "==================================\u001b[1m Ai Message \u001b[0m==================================\n",
      "\n",
      "SELECT COUNT(*) AS AlbumCount FROM Album INNER JOIN Artist ON Album.ArtistId = Artist.ArtistId WHERE Artist.Name = 'Led Zeppelin';\n",
      "==================================\u001b[1m Ai Message \u001b[0m==================================\n",
      "\n",
      "Answer: Led Zeppelin has 14 albums.\n"
     ]
    },
    {
     "name": "stderr",
     "output_type": "stream",
     "text": [
      "d:\\code\\Langchain_Leaern\\Tradence\\SQL Agent\\temp_temp_venv\\lib\\site-packages\\langsmith\\client.py:272: LangSmithMissingAPIKeyWarning: API key must be provided when using hosted LangSmith API\n",
      "  warnings.warn(\n"
     ]
    },
    {
     "name": "stdout",
     "output_type": "stream",
     "text": [
      "==================================\u001b[1m Ai Message \u001b[0m==================================\n",
      "\n",
      "SELECT SUM(UnitPrice * Quantity) AS Total_Price\n",
      "FROM InvoiceLine\n",
      "JOIN Track ON InvoiceLine.TrackId = Track.TrackId\n",
      "JOIN Album ON Track.AlbumId = Album.AlbumId\n",
      "WHERE Album.Title = 'Big Ones';\n",
      "==================================\u001b[1m Ai Message \u001b[0m==================================\n",
      "\n",
      "Error: (sqlite3.OperationalError) ambiguous column name: UnitPrice\n",
      "==================================\u001b[1m Ai Message \u001b[0m==================================\n",
      "Tool Calls:\n",
      "  model_check_query (call_eLTaGnjWt75wm6ZHR7wa6cAs)\n",
      " Call ID: call_eLTaGnjWt75wm6ZHR7wa6cAs\n",
      "  Args:\n",
      "    state: {'messages': [{'content': \"SELECT SUM(InvoiceLine.UnitPrice * InvoiceLine.Quantity) AS Total_Price\\nFROM InvoiceLine\\nJOIN Track ON InvoiceLine.TrackId = Track.TrackId\\nJOIN Album ON Track.AlbumId = Album.AlbumId\\nWHERE Album.Title = 'Big Ones';\"}]}\n",
      "==================================\u001b[1m Ai Message \u001b[0m==================================\n",
      "\n",
      "SELECT SUM(InvoiceLine.UnitPrice * InvoiceLine.Quantity) AS Total_Price\n",
      "FROM InvoiceLine\n",
      "JOIN Track ON InvoiceLine.TrackId = Track.TrackId\n",
      "JOIN Album ON Track.AlbumId = Album.AlbumId\n",
      "WHERE Album.Title = 'Big Ones';\n",
      "==================================\u001b[1m Ai Message \u001b[0m==================================\n",
      "\n",
      "Answer: The total price for the album “Big Ones” is 9.9.\n"
     ]
    },
    {
     "name": "stderr",
     "output_type": "stream",
     "text": [
      "d:\\code\\Langchain_Leaern\\Tradence\\SQL Agent\\temp_temp_venv\\lib\\site-packages\\langsmith\\client.py:272: LangSmithMissingAPIKeyWarning: API key must be provided when using hosted LangSmith API\n",
      "  warnings.warn(\n"
     ]
    },
    {
     "name": "stdout",
     "output_type": "stream",
     "text": [
      "==================================\u001b[1m Ai Message \u001b[0m==================================\n",
      "Tool Calls:\n",
      "  model_check_query (call_mOGJNIFPrCKY8TOG04IHBNrG)\n",
      " Call ID: call_mOGJNIFPrCKY8TOG04IHBNrG\n",
      "  Args:\n",
      "    state: {'messages': [{'content': \"SELECT e.FirstName, e.LastName, SUM(i.Total) as TotalSales FROM Employee e \\nJOIN Customer c ON e.EmployeeId = c.SupportRepId \\nJOIN Invoice i ON c.CustomerId = i.CustomerId \\nWHERE strftime('%Y', i.InvoiceDate) = '2009' \\nGROUP BY e.FirstName, e.LastName \\nORDER BY TotalSales DESC LIMIT 1;\", 'type': 'ai'}]}\n",
      "==================================\u001b[1m Ai Message \u001b[0m==================================\n",
      "\n",
      "SELECT e.FirstName, e.LastName, SUM(i.Total) as TotalSales FROM Employee e \n",
      "JOIN Customer c ON e.EmployeeId = c.SupportRepId \n",
      "JOIN Invoice i ON c.CustomerId = i.CustomerId \n",
      "WHERE strftime('%Y', i.InvoiceDate) = '2009' \n",
      "GROUP BY e.FirstName, e.LastName \n",
      "ORDER BY TotalSales DESC LIMIT 1;\n",
      "==================================\u001b[1m Ai Message \u001b[0m==================================\n",
      "\n",
      "Answer: The sales agent who made the most in sales in 2009 is Steve Johnson with a total sales of 164.34.\n"
     ]
    },
    {
     "name": "stderr",
     "output_type": "stream",
     "text": [
      "d:\\code\\Langchain_Leaern\\Tradence\\SQL Agent\\temp_temp_venv\\lib\\site-packages\\langsmith\\client.py:272: LangSmithMissingAPIKeyWarning: API key must be provided when using hosted LangSmith API\n",
      "  warnings.warn(\n"
     ]
    },
    {
     "name": "stdout",
     "output_type": "stream",
     "text": [
      "Question: Which country's customers spent the most? And how much did they spend?\n",
      "Reference: The country whose customers spent the most is the USA, with a total spending of 523.06.\n",
      "Prediction: Answer: The customers from the USA spent the most, with a total spending of $523.06.\n",
      "Score: 1\n",
      "--------------------------------------------------\n",
      "Question: What was the most purchased track of 2013?\n",
      "Reference: The most purchased track of 2013 was Hot Girl.\n",
      "Prediction: Answer: The most purchased track of 2013 was \"The Trooper\".\n",
      "Score: 0\n",
      "--------------------------------------------------\n",
      "Question: How many albums does the artist Led Zeppelin have?\n",
      "Reference: Led Zeppelin has 14 albums\n",
      "Prediction: Answer: Led Zeppelin has 14 albums.\n",
      "Score: 1\n",
      "--------------------------------------------------\n",
      "Question: What is the total price for the album “Big Ones”?\n",
      "Reference: The total price for the album 'Big Ones' is 14.85\n",
      "Prediction: Answer: The total price for the album “Big Ones” is 9.9.\n",
      "Score: 0\n",
      "--------------------------------------------------\n",
      "Question: Which sales agent made the most in sales in 2009?\n",
      "Reference: Steve Johnson made the most sales in 2009\n",
      "Prediction: Answer: The sales agent who made the most in sales in 2009 is Steve Johnson with a total sales of 164.34.\n",
      "Score: 1\n",
      "--------------------------------------------------\n"
     ]
    }
   ],
   "source": [
    "# Run the evaluation\n",
    "try:\n",
    "    experiment_results = evaluate_sql_agent()\n",
    "    \n",
    "    for result in experiment_results:\n",
    "        print(f\"Question: {result['input']}\")\n",
    "        print(f\"Reference: {result['reference']}\")\n",
    "        print(f\"Prediction: {result['prediction']}\")\n",
    "        print(f\"Score: {result['score']}\")\n",
    "        print(\"-\" * 50)\n",
    "    langfuse.flush()\n",
    "except Exception as e:\n",
    "    print(f\"Error during evaluation: {str(e)}\")"
   ]
  }
 ],
 "metadata": {
  "kernelspec": {
   "display_name": "temp_temp_venv",
   "language": "python",
   "name": "python3"
  },
  "language_info": {
   "codemirror_mode": {
    "name": "ipython",
    "version": 3
   },
   "file_extension": ".py",
   "mimetype": "text/x-python",
   "name": "python",
   "nbconvert_exporter": "python",
   "pygments_lexer": "ipython3",
   "version": "3.10.4"
  }
 },
 "nbformat": 4,
 "nbformat_minor": 5
}
