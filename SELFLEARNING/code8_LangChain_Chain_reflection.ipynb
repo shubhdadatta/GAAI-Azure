{
  "cells": [
    {
      "cell_type": "markdown",
      "id": "492f050f-3dc3-44fa-8fdc-03362afd5488",
      "metadata": {
        "id": "492f050f-3dc3-44fa-8fdc-03362afd5488"
      },
      "source": [
        "# Reflection\n",
        "\n",
        "\n",
        "In the context of LLM agent building, reflection refers to the process of prompting an LLM to observe its past steps (along with potential observations from tools/the environment) to assess the quality of the chosen actions.\n",
        "This is then used downstream for things like re-planning, search, or evaluation.\n",
        "\n",
        "\n",
        "\n",
        "This notebook demonstrates a very simple form of reflection in LangGraph."
      ]
    },
    {
      "cell_type": "code",
      "execution_count": 2,
      "id": "78695e53",
      "metadata": {},
      "outputs": [],
      "source": [
        "model_name = \"gpt4o\""
      ]
    },
    {
      "cell_type": "markdown",
      "id": "f27bcc4a-aaa5-46bd-8163-3e0e90cb66e6",
      "metadata": {
        "id": "f27bcc4a-aaa5-46bd-8163-3e0e90cb66e6"
      },
      "source": [
        "## Generate\n",
        "\n",
        "For our example, we will create a \"5 paragraph essay\" generator. First, create the generator:\n"
      ]
    },
    {
      "cell_type": "code",
      "execution_count": 4,
      "id": "cc10028f-9cef-4936-9419-cbdf06d24f1e",
      "metadata": {
        "id": "cc10028f-9cef-4936-9419-cbdf06d24f1e"
      },
      "outputs": [],
      "source": [
        "from langchain_core.messages import AIMessage, BaseMessage, HumanMessage\n",
        "from langchain_core.prompts import ChatPromptTemplate, MessagesPlaceholder\n",
        "\n",
        "prompt = ChatPromptTemplate.from_messages(\n",
        "    [\n",
        "        (\n",
        "            \"system\",\n",
        "            \"You are an essay assistant tasked with writing excellent 5-paragraph essays.\"\n",
        "            \" Generate the best essay possible for the user's request.\"\n",
        "            \" If the user provides critique, respond with a revised version of your previous attempts.\",\n",
        "        ),\n",
        "        MessagesPlaceholder(variable_name=\"messages\"),\n",
        "    ]\n",
        ")\n",
        "\n",
        "from langchain.chat_models import init_chat_model\n",
        "chatmodel = init_chat_model(model_name, model_provider=\"azure_openai\")\n",
        "\n",
        "\n",
        "generate = prompt | chatmodel"
      ]
    },
    {
      "cell_type": "code",
      "execution_count": 5,
      "id": "9bbe25dc-fd1e-4ed5-a3c8-fed830b46d12",
      "metadata": {
        "colab": {
          "base_uri": "https://localhost:8080/"
        },
        "id": "9bbe25dc-fd1e-4ed5-a3c8-fed830b46d12",
        "outputId": "46cd16e4-72a6-419f-83da-8a78773658ae"
      },
      "outputs": [
        {
          "name": "stdout",
          "output_type": "stream",
          "text": [
            "**The Relevance of \"The Little Prince\" in Modern Childhood**\n",
            "\n",
            "Antoine de Saint-Exupéry's timeless novella, \"The Little Prince,\" has captivated readers of all ages since its publication in 1943. The story, laden with profound lessons about love, loss, and the essence of human relationships, resonates particularly with modern childhood. In an age dominated by technology, social media, and rapid societal changes, the themes presented in \"The Little Prince\" remain relevant and vital for today’s youth. This essay explores the enduring significance of the novella in modern childhood through its exploration of imagination, emotional intelligence, and the critique of adult behavior.\n",
            "\n",
            "One of the most striking aspects of \"The Little Prince\" is its celebration of imagination and creativity. In a world increasingly reliant on screens and structured educational systems, children are often encouraged to conform to societal norms rather than explore their unique perspectives. The Little Prince himself symbolizes the beauty of imagination; he travels from planet to planet, encountering various characters that reflect different facets of human nature. This journey serves as a reminder for children to embrace their creativity and individuality. By engaging with the story, modern children are inspired to dream and think outside the box, fostering an environment where imagination is valued and nurtured.\n",
            "\n",
            "Moreover, \"The Little Prince\" emphasizes the importance of emotional intelligence, a skill crucial for children navigating contemporary society. The novella illustrates how the Little Prince learns about love, friendship, and responsibility through his interactions with others. In today's fast-paced world, where emotional connections can often be overshadowed by digital interactions, the lessons on empathy and understanding are particularly poignant. The Little Prince's relationships—especially with the fox, who teaches him that “you become responsible, forever, for what you have tamed”—underscore the significance of nurturing relationships and understanding the feelings of others. This emotional awareness is essential for children as they grow into compassionate and considerate adults.\n",
            "\n",
            "Additionally, Saint-Exupéry critiques adult behavior through the eyes of the Little Prince, highlighting the absurdities and superficialities often present in adult life. As children observe the complexities and sometimes irrationalities of the adult world, they can draw parallels with the characters the Little Prince encounters, such as the king, the vain man, and the businessman. These figures represent traits that modern society often values—authority, narcissism, and materialism—yet they ultimately lead to isolation and dissatisfaction. By exposing children to this critique, \"The Little Prince\" encourages them to question societal norms and prioritize genuine connections and values over superficial pursuits.\n",
            "\n",
            "In conclusion, the relevance of \"The Little Prince\" in modern childhood is undeniable. Through its exploration of imagination, emotional intelligence, and the critique of adult behavior, the novella offers valuable lessons that resonate with today’s youth. As children navigate a world filled with distractions and societal pressures, the timeless wisdom of the Little Prince serves as a guiding star, reminding them of the importance of creativity, empathy, and authenticity. By engaging with this classic tale, children can cultivate a deeper understanding of themselves and their relationships, ultimately shaping a more compassionate and imaginative generation."
          ]
        }
      ],
      "source": [
        "essay = \"\"\n",
        "request = HumanMessage(\n",
        "    content=\"Write an essay on why the little prince is relevant in modern childhood\"\n",
        ")\n",
        "for chunk in generate.stream({\"messages\": [request]}):\n",
        "    print(chunk.content, end=\"\")\n",
        "    essay += chunk.content"
      ]
    },
    {
      "cell_type": "code",
      "execution_count": 6,
      "id": "8EAHK0DLPXgG",
      "metadata": {
        "colab": {
          "base_uri": "https://localhost:8080/",
          "height": 105
        },
        "id": "8EAHK0DLPXgG",
        "outputId": "9f56bc22-b406-4e28-8615-a11f40a75179"
      },
      "outputs": [
        {
          "data": {
            "text/plain": [
              "'**The Relevance of \"The Little Prince\" in Modern Childhood**\\n\\nAntoine de Saint-Exupéry\\'s timeless novella, \"The Little Prince,\" has captivated readers of all ages since its publication in 1943. The story, laden with profound lessons about love, loss, and the essence of human relationships, resonates particularly with modern childhood. In an age dominated by technology, social media, and rapid societal changes, the themes presented in \"The Little Prince\" remain relevant and vital for today’s youth. This essay explores the enduring significance of the novella in modern childhood through its exploration of imagination, emotional intelligence, and the critique of adult behavior.\\n\\nOne of the most striking aspects of \"The Little Prince\" is its celebration of imagination and creativity. In a world increasingly reliant on screens and structured educational systems, children are often encouraged to conform to societal norms rather than explore their unique perspectives. The Little Prince himself symbolizes the beauty of imagination; he travels from planet to planet, encountering various characters that reflect different facets of human nature. This journey serves as a reminder for children to embrace their creativity and individuality. By engaging with the story, modern children are inspired to dream and think outside the box, fostering an environment where imagination is valued and nurtured.\\n\\nMoreover, \"The Little Prince\" emphasizes the importance of emotional intelligence, a skill crucial for children navigating contemporary society. The novella illustrates how the Little Prince learns about love, friendship, and responsibility through his interactions with others. In today\\'s fast-paced world, where emotional connections can often be overshadowed by digital interactions, the lessons on empathy and understanding are particularly poignant. The Little Prince\\'s relationships—especially with the fox, who teaches him that “you become responsible, forever, for what you have tamed”—underscore the significance of nurturing relationships and understanding the feelings of others. This emotional awareness is essential for children as they grow into compassionate and considerate adults.\\n\\nAdditionally, Saint-Exupéry critiques adult behavior through the eyes of the Little Prince, highlighting the absurdities and superficialities often present in adult life. As children observe the complexities and sometimes irrationalities of the adult world, they can draw parallels with the characters the Little Prince encounters, such as the king, the vain man, and the businessman. These figures represent traits that modern society often values—authority, narcissism, and materialism—yet they ultimately lead to isolation and dissatisfaction. By exposing children to this critique, \"The Little Prince\" encourages them to question societal norms and prioritize genuine connections and values over superficial pursuits.\\n\\nIn conclusion, the relevance of \"The Little Prince\" in modern childhood is undeniable. Through its exploration of imagination, emotional intelligence, and the critique of adult behavior, the novella offers valuable lessons that resonate with today’s youth. As children navigate a world filled with distractions and societal pressures, the timeless wisdom of the Little Prince serves as a guiding star, reminding them of the importance of creativity, empathy, and authenticity. By engaging with this classic tale, children can cultivate a deeper understanding of themselves and their relationships, ultimately shaping a more compassionate and imaginative generation.'"
            ]
          },
          "execution_count": 6,
          "metadata": {},
          "output_type": "execute_result"
        }
      ],
      "source": [
        "essay"
      ]
    },
    {
      "cell_type": "markdown",
      "id": "b0b276e7-c392-4eec-be75-c77bd130379d",
      "metadata": {
        "id": "b0b276e7-c392-4eec-be75-c77bd130379d"
      },
      "source": [
        "### Reflect"
      ]
    },
    {
      "cell_type": "code",
      "execution_count": 7,
      "id": "a705be92-88c0-4f4f-b4c2-cdcd9af8cb2c",
      "metadata": {
        "id": "a705be92-88c0-4f4f-b4c2-cdcd9af8cb2c"
      },
      "outputs": [
        {
          "ename": "ValidationError",
          "evalue": "1 validation error for ChatGoogleGenerativeAI\n__root__\n  Did not find google_api_key, please add an environment variable `GOOGLE_API_KEY` which contains it, or pass `google_api_key` as a named parameter. (type=value_error)",
          "output_type": "error",
          "traceback": [
            "\u001b[1;31m---------------------------------------------------------------------------\u001b[0m",
            "\u001b[1;31mValidationError\u001b[0m                           Traceback (most recent call last)",
            "Cell \u001b[1;32mIn[7], line 12\u001b[0m\n\u001b[0;32m      1\u001b[0m reflection_prompt \u001b[38;5;241m=\u001b[39m ChatPromptTemplate\u001b[38;5;241m.\u001b[39mfrom_messages(\n\u001b[0;32m      2\u001b[0m     [\n\u001b[0;32m      3\u001b[0m         (\n\u001b[1;32m   (...)\u001b[0m\n\u001b[0;32m      9\u001b[0m     ]\n\u001b[0;32m     10\u001b[0m )\n\u001b[0;32m     11\u001b[0m \u001b[38;5;28;01mfrom\u001b[39;00m\u001b[38;5;250m \u001b[39m\u001b[38;5;21;01mlangchain\u001b[39;00m\u001b[38;5;21;01m.\u001b[39;00m\u001b[38;5;21;01mchat_models\u001b[39;00m\u001b[38;5;250m \u001b[39m\u001b[38;5;28;01mimport\u001b[39;00m init_chat_model\n\u001b[1;32m---> 12\u001b[0m chatmodel \u001b[38;5;241m=\u001b[39m \u001b[43minit_chat_model\u001b[49m\u001b[43m(\u001b[49m\u001b[43mmodel_name\u001b[49m\u001b[43m,\u001b[49m\u001b[43m \u001b[49m\u001b[43mmodel_provider\u001b[49m\u001b[38;5;241;43m=\u001b[39;49m\u001b[38;5;124;43m\"\u001b[39;49m\u001b[38;5;124;43mgoogle_genai\u001b[39;49m\u001b[38;5;124;43m\"\u001b[39;49m\u001b[43m)\u001b[49m\n\u001b[0;32m     13\u001b[0m reflect \u001b[38;5;241m=\u001b[39m reflection_prompt \u001b[38;5;241m|\u001b[39m chatmodel\n",
            "File \u001b[1;32m~\\AppData\\Roaming\\Python\\Python310\\site-packages\\langchain_core\\_api\\beta_decorator.py:110\u001b[0m, in \u001b[0;36mbeta.<locals>.beta.<locals>.warning_emitting_wrapper\u001b[1;34m(*args, **kwargs)\u001b[0m\n\u001b[0;32m    108\u001b[0m     warned \u001b[38;5;241m=\u001b[39m \u001b[38;5;28;01mTrue\u001b[39;00m\n\u001b[0;32m    109\u001b[0m     emit_warning()\n\u001b[1;32m--> 110\u001b[0m \u001b[38;5;28;01mreturn\u001b[39;00m wrapped(\u001b[38;5;241m*\u001b[39margs, \u001b[38;5;241m*\u001b[39m\u001b[38;5;241m*\u001b[39mkwargs)\n",
            "File \u001b[1;32m~\\AppData\\Roaming\\Python\\Python310\\site-packages\\langchain\\chat_models\\base.py:285\u001b[0m, in \u001b[0;36minit_chat_model\u001b[1;34m(model, model_provider, configurable_fields, config_prefix, **kwargs)\u001b[0m\n\u001b[0;32m    278\u001b[0m     warnings\u001b[38;5;241m.\u001b[39mwarn(\n\u001b[0;32m    279\u001b[0m         \u001b[38;5;124mf\u001b[39m\u001b[38;5;124m\"\u001b[39m\u001b[38;5;132;01m{\u001b[39;00mconfig_prefix\u001b[38;5;132;01m=}\u001b[39;00m\u001b[38;5;124m has been set but no fields are configurable. Set \u001b[39m\u001b[38;5;124m\"\u001b[39m\n\u001b[0;32m    280\u001b[0m         \u001b[38;5;124mf\u001b[39m\u001b[38;5;124m\"\u001b[39m\u001b[38;5;124m`configurable_fields=(...)` to specify the model params that are \u001b[39m\u001b[38;5;124m\"\u001b[39m\n\u001b[0;32m    281\u001b[0m         \u001b[38;5;124mf\u001b[39m\u001b[38;5;124m\"\u001b[39m\u001b[38;5;124mconfigurable.\u001b[39m\u001b[38;5;124m\"\u001b[39m\n\u001b[0;32m    282\u001b[0m     )\n\u001b[0;32m    284\u001b[0m \u001b[38;5;28;01mif\u001b[39;00m \u001b[38;5;129;01mnot\u001b[39;00m configurable_fields:\n\u001b[1;32m--> 285\u001b[0m     \u001b[38;5;28;01mreturn\u001b[39;00m _init_chat_model_helper(\n\u001b[0;32m    286\u001b[0m         cast(\u001b[38;5;28mstr\u001b[39m, model), model_provider\u001b[38;5;241m=\u001b[39mmodel_provider, \u001b[38;5;241m*\u001b[39m\u001b[38;5;241m*\u001b[39mkwargs\n\u001b[0;32m    287\u001b[0m     )\n\u001b[0;32m    288\u001b[0m \u001b[38;5;28;01melse\u001b[39;00m:\n\u001b[0;32m    289\u001b[0m     \u001b[38;5;28;01mif\u001b[39;00m model:\n",
            "File \u001b[1;32m~\\AppData\\Roaming\\Python\\Python310\\site-packages\\langchain\\chat_models\\base.py:339\u001b[0m, in \u001b[0;36m_init_chat_model_helper\u001b[1;34m(model, model_provider, **kwargs)\u001b[0m\n\u001b[0;32m    336\u001b[0m     _check_pkg(\u001b[38;5;124m\"\u001b[39m\u001b[38;5;124mlangchain_google_genai\u001b[39m\u001b[38;5;124m\"\u001b[39m)\n\u001b[0;32m    337\u001b[0m     \u001b[38;5;28;01mfrom\u001b[39;00m\u001b[38;5;250m \u001b[39m\u001b[38;5;21;01mlangchain_google_genai\u001b[39;00m\u001b[38;5;250m \u001b[39m\u001b[38;5;28;01mimport\u001b[39;00m ChatGoogleGenerativeAI\n\u001b[1;32m--> 339\u001b[0m     \u001b[38;5;28;01mreturn\u001b[39;00m ChatGoogleGenerativeAI(model\u001b[38;5;241m=\u001b[39mmodel, \u001b[38;5;241m*\u001b[39m\u001b[38;5;241m*\u001b[39mkwargs)\n\u001b[0;32m    340\u001b[0m \u001b[38;5;28;01melif\u001b[39;00m model_provider \u001b[38;5;241m==\u001b[39m \u001b[38;5;124m\"\u001b[39m\u001b[38;5;124mfireworks\u001b[39m\u001b[38;5;124m\"\u001b[39m:\n\u001b[0;32m    341\u001b[0m     _check_pkg(\u001b[38;5;124m\"\u001b[39m\u001b[38;5;124mlangchain_fireworks\u001b[39m\u001b[38;5;124m\"\u001b[39m)\n",
            "File \u001b[1;32m~\\AppData\\Roaming\\Python\\Python310\\site-packages\\langchain_core\\load\\serializable.py:113\u001b[0m, in \u001b[0;36mSerializable.__init__\u001b[1;34m(self, *args, **kwargs)\u001b[0m\n\u001b[0;32m    111\u001b[0m \u001b[38;5;28;01mdef\u001b[39;00m\u001b[38;5;250m \u001b[39m\u001b[38;5;21m__init__\u001b[39m(\u001b[38;5;28mself\u001b[39m, \u001b[38;5;241m*\u001b[39margs: Any, \u001b[38;5;241m*\u001b[39m\u001b[38;5;241m*\u001b[39mkwargs: Any) \u001b[38;5;241m-\u001b[39m\u001b[38;5;241m>\u001b[39m \u001b[38;5;28;01mNone\u001b[39;00m:\n\u001b[0;32m    112\u001b[0m \u001b[38;5;250m    \u001b[39m\u001b[38;5;124;03m\"\"\"\"\"\"\u001b[39;00m\n\u001b[1;32m--> 113\u001b[0m     \u001b[38;5;28msuper\u001b[39m()\u001b[38;5;241m.\u001b[39m\u001b[38;5;21m__init__\u001b[39m(\u001b[38;5;241m*\u001b[39margs, \u001b[38;5;241m*\u001b[39m\u001b[38;5;241m*\u001b[39mkwargs)\n",
            "File \u001b[1;32m~\\AppData\\Roaming\\Python\\Python310\\site-packages\\pydantic\\v1\\main.py:341\u001b[0m, in \u001b[0;36mBaseModel.__init__\u001b[1;34m(__pydantic_self__, **data)\u001b[0m\n\u001b[0;32m    339\u001b[0m values, fields_set, validation_error \u001b[38;5;241m=\u001b[39m validate_model(__pydantic_self__\u001b[38;5;241m.\u001b[39m\u001b[38;5;18m__class__\u001b[39m, data)\n\u001b[0;32m    340\u001b[0m \u001b[38;5;28;01mif\u001b[39;00m validation_error:\n\u001b[1;32m--> 341\u001b[0m     \u001b[38;5;28;01mraise\u001b[39;00m validation_error\n\u001b[0;32m    342\u001b[0m \u001b[38;5;28;01mtry\u001b[39;00m:\n\u001b[0;32m    343\u001b[0m     object_setattr(__pydantic_self__, \u001b[38;5;124m'\u001b[39m\u001b[38;5;124m__dict__\u001b[39m\u001b[38;5;124m'\u001b[39m, values)\n",
            "\u001b[1;31mValidationError\u001b[0m: 1 validation error for ChatGoogleGenerativeAI\n__root__\n  Did not find google_api_key, please add an environment variable `GOOGLE_API_KEY` which contains it, or pass `google_api_key` as a named parameter. (type=value_error)"
          ]
        }
      ],
      "source": [
        "reflection_prompt = ChatPromptTemplate.from_messages(\n",
        "    [\n",
        "        (\n",
        "            \"system\",\n",
        "            \"You are a teacher grading an essay submission. Generate critique and recommendations for the user's submission.\"\n",
        "            \" Provide detailed recommendations, including requests for length, depth, style, etc.\",\n",
        "        ),\n",
        "        MessagesPlaceholder(variable_name=\"messages\"),\n",
        "    ]\n",
        ")\n",
        "from langchain.chat_models import init_chat_model\n",
        "chatmodel = init_chat_model(model_name, model_provider=\"google_genai\")\n",
        "reflect = reflection_prompt | chatmodel"
      ]
    },
    {
      "cell_type": "code",
      "execution_count": null,
      "id": "16c5eb2a-8bce-48ab-b87d-9dacb9b64ac6",
      "metadata": {
        "colab": {
          "base_uri": "https://localhost:8080/"
        },
        "id": "16c5eb2a-8bce-48ab-b87d-9dacb9b64ac6",
        "outputId": "eb076a3c-0554-4a9a-c6a5-a9d19f5edc23"
      },
      "outputs": [
        {
          "name": "stdout",
          "output_type": "stream",
          "text": [
            "Okay, here's a critique of your essay, along with suggestions for improvement. Overall, it's a good start, demonstrating a solid understanding of the book and its themes. However, we can elevate it further with more specific examples, deeper analysis, and a touch more originality.\n",
            "\n",
            "**Overall Impression:**\n",
            "\n",
            "The essay is well-written and clearly argues its point. It successfully connects the themes of *The Little Prince* to the challenges and characteristics of modern childhood. The structure is logical, and the language is appropriate. However, it could benefit from more depth and specific examples from the text.\n",
            "\n",
            "**Areas for Improvement:**\n",
            "\n",
            "*   **Specificity and Evidence:** This is the most crucial area for improvement. While you mention key themes, you need to provide more concrete examples from the book to support your claims.\n",
            "    *   Instead of saying \"The prince's fantastical journey...highlights the limitations of a purely logical and materialistic worldview,\" *show* the reader this. Describe a specific encounter (e.g., the geographer who doesn't explore, the lamplighter whose task is absurd). Explain *how* that encounter illustrates the point.\n",
            "    *   When discussing \"taming,\" delve deeper into the fox's explanation. What specific actions constitute \"taming\"? What does the fox gain from being tamed? How does the prince change as a result of this relationship?\n",
            "    *   For the critique of adult values, go beyond simply stating that the characters are obsessed. Analyze *why* their obsessions are problematic and *what* the book suggests as an alternative.\n",
            "*   **Depth of Analysis:** The essay sometimes skims the surface of complex themes. Dig deeper!\n",
            "    *   Consider the symbolism of the rose. What does it represent beyond just \"love and friendship?\" How does the prince's relationship with the rose contribute to his understanding of responsibility and sacrifice?\n",
            "    *   Explore the theme of death. The ending of the book is significant. How does the prince's death (or disappearance) contribute to the overall message about what is truly important? How might this resonate with children experiencing loss or grappling with difficult emotions?\n",
            "*   **Originality and Nuance:** While your points are valid, they are fairly standard interpretations of the book. Try to find a slightly more unique angle or perspective.\n",
            "    *   Consider the potential downsides of imagination. Is there a risk of escapism? How does the book balance imagination with the need to engage with reality?\n",
            "    *   Think about the role of adults in the book. While many of the adult characters are flawed, the narrator is also an adult. What does this suggest about the possibility of adults retaining a childlike perspective?\n",
            "*   **Structure and Flow:** The structure is generally sound, but you could improve the transitions between paragraphs. Make sure each paragraph flows logically from the previous one.\n",
            "*   **Introduction and Conclusion:** While adequate, these could be more impactful.\n",
            "    *   **Introduction:** Instead of just stating the book's relevance, try to hook the reader with a more compelling opening. Perhaps start with a brief anecdote about a child reading the book or a striking quote from the text.\n",
            "    *   **Conclusion:** Avoid simply summarizing your points. End with a thought-provoking statement about the enduring power of the book and its potential to shape young minds.\n",
            "\n",
            "**Specific Recommendations:**\n",
            "\n",
            "*   **Length:** Aim to add at least 200-300 words to allow for deeper analysis and more specific examples.\n",
            "*   **Depth:** For each theme you discuss (imagination, connection, critique of adult values), dedicate at least two paragraphs. The first paragraph should introduce the theme and provide a general overview. The second paragraph should delve into a specific example from the book and analyze its significance.\n",
            "*   **Style:** Maintain your clear and accessible writing style. However, try to incorporate more vivid language and imagery to bring the book to life for the reader. Use direct quotes sparingly, but strategically, to emphasize key points.\n",
            "*   **Research (Optional):** While not strictly necessary, you could consider incorporating a brief mention of the book's historical context or its reception by critics and readers. This could add another layer of depth to your analysis.\n",
            "\n",
            "**Revised Outline Suggestion:**\n",
            "\n",
            "1.  **Introduction:** Hook (anecdote or quote), thesis statement (The Little Prince's enduring relevance to modern childhood).\n",
            "2.  **Imagination - Paragraph 1:** General discussion of the importance of imagination and the dangers of a purely logical worldview.\n",
            "3.  **Imagination - Paragraph 2:** Specific example (e.g., the prince's drawings, his ability to see the sheep in the box) and analysis.\n",
            "4.  **Connection - Paragraph 1:** General discussion of the importance of genuine connection and empathy in a digital age.\n",
            "5.  **Connection - Paragraph 2:** Specific example (e.g., the prince's relationship with the fox) and analysis, focusing on the meaning of \"taming.\"\n",
            "6.  **Critique of Adult Values - Paragraph 1:** General discussion of the book's critique of adult obsessions and the pursuit of superficial goals.\n",
            "7.  **Critique of Adult Values - Paragraph 2:** Specific example (e.g., the king, the businessman, the geographer) and analysis, highlighting the emptiness of their lives.\n",
            "8.  **Deeper Theme (Optional):** Consider adding a section exploring another relevant theme, such as the symbolism of the rose or the meaning of the prince's death.\n",
            "9.  **Conclusion:** Thought-provoking closing statement about the enduring power of the book.\n",
            "\n",
            "By incorporating these suggestions, you can transform your already good essay into an exceptional one that offers a more insightful and compelling analysis of *The Little Prince* and its relevance to modern childhood. Good luck!\n"
          ]
        }
      ],
      "source": [
        "reflection = \"\"\n",
        "for chunk in reflect.stream({\"messages\": [HumanMessage(content=request.content + \"\\n\" + essay)]}):\n",
        "    print(chunk.content, end=\"\")\n",
        "    reflection += chunk.content"
      ]
    },
    {
      "cell_type": "code",
      "execution_count": null,
      "id": "0ycCnuqGF-Rc",
      "metadata": {
        "colab": {
          "base_uri": "https://localhost:8080/",
          "height": 139
        },
        "id": "0ycCnuqGF-Rc",
        "outputId": "891a3e44-02fd-4e39-9dce-9b18c3df38b3"
      },
      "outputs": [
        {
          "data": {
            "text/plain": [
              "'Okay, here\\'s a critique of your essay, along with suggestions for improvement. Overall, it\\'s a good start, demonstrating a solid understanding of the book and its themes. However, we can elevate it further with more specific examples, deeper analysis, and a touch more originality.\\n\\n**Overall Impression:**\\n\\nThe essay is well-written and clearly argues its point. It successfully connects the themes of *The Little Prince* to the challenges and characteristics of modern childhood. The structure is logical, and the language is appropriate. However, it could benefit from more depth and specific examples from the text.\\n\\n**Areas for Improvement:**\\n\\n*   **Specificity and Evidence:** This is the most crucial area for improvement. While you mention key themes, you need to provide more concrete examples from the book to support your claims.\\n    *   Instead of saying \"The prince\\'s fantastical journey...highlights the limitations of a purely logical and materialistic worldview,\" *show* the reader this. Describe a specific encounter (e.g., the geographer who doesn\\'t explore, the lamplighter whose task is absurd). Explain *how* that encounter illustrates the point.\\n    *   When discussing \"taming,\" delve deeper into the fox\\'s explanation. What specific actions constitute \"taming\"? What does the fox gain from being tamed? How does the prince change as a result of this relationship?\\n    *   For the critique of adult values, go beyond simply stating that the characters are obsessed. Analyze *why* their obsessions are problematic and *what* the book suggests as an alternative.\\n*   **Depth of Analysis:** The essay sometimes skims the surface of complex themes. Dig deeper!\\n    *   Consider the symbolism of the rose. What does it represent beyond just \"love and friendship?\" How does the prince\\'s relationship with the rose contribute to his understanding of responsibility and sacrifice?\\n    *   Explore the theme of death. The ending of the book is significant. How does the prince\\'s death (or disappearance) contribute to the overall message about what is truly important? How might this resonate with children experiencing loss or grappling with difficult emotions?\\n*   **Originality and Nuance:** While your points are valid, they are fairly standard interpretations of the book. Try to find a slightly more unique angle or perspective.\\n    *   Consider the potential downsides of imagination. Is there a risk of escapism? How does the book balance imagination with the need to engage with reality?\\n    *   Think about the role of adults in the book. While many of the adult characters are flawed, the narrator is also an adult. What does this suggest about the possibility of adults retaining a childlike perspective?\\n*   **Structure and Flow:** The structure is generally sound, but you could improve the transitions between paragraphs. Make sure each paragraph flows logically from the previous one.\\n*   **Introduction and Conclusion:** While adequate, these could be more impactful.\\n    *   **Introduction:** Instead of just stating the book\\'s relevance, try to hook the reader with a more compelling opening. Perhaps start with a brief anecdote about a child reading the book or a striking quote from the text.\\n    *   **Conclusion:** Avoid simply summarizing your points. End with a thought-provoking statement about the enduring power of the book and its potential to shape young minds.\\n\\n**Specific Recommendations:**\\n\\n*   **Length:** Aim to add at least 200-300 words to allow for deeper analysis and more specific examples.\\n*   **Depth:** For each theme you discuss (imagination, connection, critique of adult values), dedicate at least two paragraphs. The first paragraph should introduce the theme and provide a general overview. The second paragraph should delve into a specific example from the book and analyze its significance.\\n*   **Style:** Maintain your clear and accessible writing style. However, try to incorporate more vivid language and imagery to bring the book to life for the reader. Use direct quotes sparingly, but strategically, to emphasize key points.\\n*   **Research (Optional):** While not strictly necessary, you could consider incorporating a brief mention of the book\\'s historical context or its reception by critics and readers. This could add another layer of depth to your analysis.\\n\\n**Revised Outline Suggestion:**\\n\\n1.  **Introduction:** Hook (anecdote or quote), thesis statement (The Little Prince\\'s enduring relevance to modern childhood).\\n2.  **Imagination - Paragraph 1:** General discussion of the importance of imagination and the dangers of a purely logical worldview.\\n3.  **Imagination - Paragraph 2:** Specific example (e.g., the prince\\'s drawings, his ability to see the sheep in the box) and analysis.\\n4.  **Connection - Paragraph 1:** General discussion of the importance of genuine connection and empathy in a digital age.\\n5.  **Connection - Paragraph 2:** Specific example (e.g., the prince\\'s relationship with the fox) and analysis, focusing on the meaning of \"taming.\"\\n6.  **Critique of Adult Values - Paragraph 1:** General discussion of the book\\'s critique of adult obsessions and the pursuit of superficial goals.\\n7.  **Critique of Adult Values - Paragraph 2:** Specific example (e.g., the king, the businessman, the geographer) and analysis, highlighting the emptiness of their lives.\\n8.  **Deeper Theme (Optional):** Consider adding a section exploring another relevant theme, such as the symbolism of the rose or the meaning of the prince\\'s death.\\n9.  **Conclusion:** Thought-provoking closing statement about the enduring power of the book.\\n\\nBy incorporating these suggestions, you can transform your already good essay into an exceptional one that offers a more insightful and compelling analysis of *The Little Prince* and its relevance to modern childhood. Good luck!\\n'"
            ]
          },
          "execution_count": 7,
          "metadata": {},
          "output_type": "execute_result"
        }
      ],
      "source": [
        "reflection"
      ]
    },
    {
      "cell_type": "markdown",
      "id": "6daf926c-1174-4e96-91b9-57c57cfce40d",
      "metadata": {
        "id": "6daf926c-1174-4e96-91b9-57c57cfce40d"
      },
      "source": [
        "### Repeat\n",
        "\n",
        "And... that's all there is too it! You can repeat in a loop for a fixed number of steps, or use an LLM (or other check) to decide when the finished product is good enough."
      ]
    },
    {
      "cell_type": "code",
      "execution_count": null,
      "id": "dfbf99a8-3aa0-4e09-936e-8452c35fa84d",
      "metadata": {
        "colab": {
          "base_uri": "https://localhost:8080/"
        },
        "id": "dfbf99a8-3aa0-4e09-936e-8452c35fa84d",
        "outputId": "2be0c33f-7e74-49b8-d5a5-6f86150edc78"
      },
      "outputs": [
        {
          "name": "stdout",
          "output_type": "stream",
          "text": [
            "Okay, thank you for the thorough feedback! I will incorporate your suggestions to create a more specific, analytical, and nuanced essay. Here's a revised version:\n",
            "\n",
            "## The Enduring Wisdom of a Child: Why *The Little Prince* Still Matters\n",
            "\n",
            "Antoine de Saint-Exupéry's *The Little Prince* opens with a drawing misunderstood, a child's Boa constrictor devouring an elephant mistaken for a hat. This simple misunderstanding encapsulates the core message of the book and its enduring relevance to modern childhood. In a world increasingly focused on quantifiable achievements and digital distractions, *The Little Prince* serves as a vital reminder of the importance of imagination, genuine connection, and the pursuit of meaning beyond the superficial, offering a crucial counter-narrative to the pressures facing young minds today.\n",
            "\n",
            "One of the most powerful aspects of *The Little Prince* is its championing of imagination, a quality often stifled in the structured environment of modern childhood. The prince's journey is itself a testament to the power of imaginative play, as he travels from asteroid to asteroid, encountering bizarre characters and surreal situations. However, it is the pilot's opening anecdote about his drawing that truly underscores this theme. Adults, blinded by practicality, are unable to see beyond the literal image of the hat. This inability to engage with the imaginative world, to see the \"elephant inside,\" represents a fundamental disconnect from the creative spirit. By contrast, the prince immediately recognizes the drawing, demonstrating a childlike capacity for wonder and understanding that the pilot, as an adult, has largely lost. This contrast encourages young readers to resist the pressure to conform to a purely logical perspective and to cultivate their own imaginative abilities, finding wonder in the mundane and challenging conventional ways of seeing the world.\n",
            "\n",
            "Furthermore, *The Little Prince* emphasizes the profound importance of genuine connection in an age of increasingly superficial interactions. The relationship between the prince and the fox serves as the central metaphor for this theme. The fox explains the concept of \"taming,\" which involves creating a unique bond through repeated interactions and shared experiences. \"It is to create ties,\" the fox explains. \"To me, you are still nothing more than a little boy who is just like a hundred thousand other little boys. And I have no need of you. And you, on your part, have no need of me. To you, I am nothing more than a fox like a hundred thousand other foxes. But if you tame me, then we shall need each other.\" This process of taming requires time, patience, and a willingness to invest in another being. By taming the fox, the prince learns the meaning of responsibility and the unique value of a truly meaningful relationship. This lesson is particularly relevant in a digital age where connections can feel fleeting and transactional. The book encourages children to prioritize quality over quantity in their relationships, to cultivate empathy, and to understand the reciprocal nature of love and friendship.\n",
            "\n",
            "Beyond promoting imagination and connection, *The Little Prince* offers a sharp critique of adult values, exposing the emptiness of a life driven by ambition and material gain. The prince's encounters with the king, the conceited man, the drunkard, the businessman, and the lamplighter each illustrate a different facet of this critique. The businessman, for example, is consumed by counting and owning stars, believing that this accumulation of wealth will make him powerful. However, he is ultimately trapped in a cycle of acquisition, never pausing to appreciate the beauty or wonder of the stars themselves. Similarly, the geographer meticulously catalogues the world but never ventures out to explore it. These characters represent the dangers of prioritizing abstract concepts like power, wealth, and knowledge over genuine experience and human connection. By exposing the absurdity of these adult preoccupations, the book encourages children to question societal norms and to define their own values based on what truly matters: not what they own, but what they experience and who they connect with.\n",
            "\n",
            "The rose, a seemingly simple flower, serves as a powerful symbol of love, responsibility, and the complexities of relationships. The prince's initial infatuation with the rose blinds him to her flaws and vulnerabilities. He is captivated by her beauty but struggles to understand her demanding nature. It is only through his travels and his encounter with the fox that he learns to appreciate the unique significance of his rose. The fox teaches him that \"it is the time you have wasted for your rose that makes your rose so important.\" This realization highlights the importance of investing time and effort in relationships, even when they are challenging. The rose, with her thorns and her vanity, represents the imperfections inherent in love and the responsibility that comes with caring for another being, even when they are difficult to understand.\n",
            "\n",
            "In conclusion, *The Little Prince* endures not as a simple children's story, but as a profound meditation on the human condition. It challenges us to reconnect with the childlike wonder that we often lose as we grow older, to prioritize genuine connection over superficial achievement, and to find meaning in the beauty and complexity of the world around us. By reminding us of these fundamental truths, *The Little Prince* offers a timeless message of hope and resilience, empowering young readers to navigate the challenges of modern life with imagination, empathy, and a unwavering commitment to what truly matters. The book whispers a vital question to each reader: are we seeing the elephant inside the hat?\n"
          ]
        }
      ],
      "source": [
        "for chunk in generate.stream(\n",
        "    {\"messages\": [request, AIMessage(content=essay), HumanMessage(content=reflection)]}\n",
        "):\n",
        "    print(chunk.content, end=\"\")"
      ]
    },
    {
      "cell_type": "markdown",
      "id": "b63a9d93-a14d-4e41-a4bb-a4cd31713f44",
      "metadata": {
        "id": "b63a9d93-a14d-4e41-a4bb-a4cd31713f44"
      },
      "source": [
        "## Define graph\n",
        "\n",
        "Now that we've shown each step in isolation, we can wire it up in a graph."
      ]
    },
    {
      "cell_type": "code",
      "execution_count": null,
      "id": "9e9a9d7c-5d2e-4194-b745-4511ec20db76",
      "metadata": {
        "id": "9e9a9d7c-5d2e-4194-b745-4511ec20db76"
      },
      "outputs": [],
      "source": [
        "from typing import List, Sequence\n",
        "\n",
        "from langgraph.graph import END, MessageGraph, START\n",
        "import time\n",
        "\n",
        "async def generation_node(state: Sequence[BaseMessage]):\n",
        "    return await generate.ainvoke({\"messages\": state})\n",
        "\n",
        "\n",
        "async def reflection_node(messages: Sequence[BaseMessage]) -> List[BaseMessage]:\n",
        "    # Other messages we need to adjust\n",
        "    cls_map = {\"ai\": HumanMessage, \"human\": AIMessage}\n",
        "    time.sleep(30)\n",
        "    # First message is the original user request. We hold it the same for all nodes\n",
        "    translated =  [\n",
        "        cls_map[msg.type](content=msg.content) for msg in messages[1:]\n",
        "    ]\n",
        "    res = await reflect.ainvoke({\"messages\": translated})\n",
        "    # We treat the output of this as human feedback for the generator\n",
        "    return HumanMessage(content=res.content)\n",
        "\n",
        "\n",
        "builder = MessageGraph()\n",
        "builder.add_node(\"generate\", generation_node)\n",
        "builder.add_node(\"reflect\", reflection_node)\n",
        "builder.add_edge(START, \"generate\")\n",
        "\n",
        "\n",
        "def should_continue(state: List[BaseMessage]):\n",
        "    if len(state) > 6:\n",
        "        # End after 3 iterations\n",
        "        return END\n",
        "    return \"reflect\"\n",
        "\n",
        "\n",
        "builder.add_conditional_edges(\"generate\", should_continue)\n",
        "builder.add_edge(\"reflect\", \"generate\")\n",
        "graph = builder.compile()"
      ]
    },
    {
      "cell_type": "code",
      "execution_count": null,
      "id": "T69O-7ciR1q5",
      "metadata": {
        "colab": {
          "base_uri": "https://localhost:8080/",
          "height": 236
        },
        "id": "T69O-7ciR1q5",
        "outputId": "42981faa-0f15-40f2-9ef4-4f4fe70da71f"
      },
      "outputs": [
        {
          "data": {
            "image/jpeg": "[encoded data removed]",
            "text/plain": [
              "<IPython.core.display.Image object>"
            ]
          },
          "metadata": {},
          "output_type": "display_data"
        }
      ],
      "source": [
        "from IPython.display import Image, display\n",
        "\n",
        "try:\n",
        "    display(Image(graph.get_graph().draw_mermaid_png()))\n",
        "except Exception:\n",
        "    # This requires some extra dependencies and is optional\n",
        "    pass"
      ]
    },
    {
      "cell_type": "code",
      "execution_count": null,
      "id": "06263a07-8a15-4ec3-b692-1c6cef3b1c1f",
      "metadata": {
        "colab": {
          "base_uri": "https://localhost:8080/"
        },
        "id": "06263a07-8a15-4ec3-b692-1c6cef3b1c1f",
        "outputId": "5d09a434-e0a7-46fb-e7ab-397bc3cd2ed0"
      },
      "outputs": [
        {
          "name": "stdout",
          "output_type": "stream",
          "text": [
            "================================\u001b[1m Human Message \u001b[0m=================================\n",
            "\n",
            "generate\n",
            "## The Enduring Wisdom of a Little Prince: Relevance in a Modern World\n",
            "\n",
            "Antoine de Saint-Exupéry's \"The Little Prince,\" a seemingly simple children's story, continues to resonate deeply with readers of all ages in the 21st century. Its enduring topicality stems from its profound exploration of universal themes like love, loss, connection, and the dangers of superficiality, all of which remain intensely relevant in our increasingly complex and often disconnected modern world. The prince's journey across the cosmos offers a poignant commentary on the values we prioritize, urging us to reconsider what truly matters in life.\n",
            "\n",
            "One of the most striking aspects of the story's modern relevance lies in its critique of adult preoccupations. The inhabitants of the asteroids the Little Prince visits – the king obsessed with authority, the conceited man craving admiration, the businessman counting stars, and the geographer who never explores – embody the emptiness of lives driven by ambition, vanity, and material pursuits. In a society obsessed with success, social media validation, and accumulating wealth, \"The Little Prince\" serves as a powerful reminder to question the values that drive us. It encourages us to reject the hollow pursuits of the adults and instead cultivate curiosity, imagination, and a genuine connection with the world around us.\n",
            "\n",
            "Furthermore, the book's emphasis on the importance of relationships and genuine connection is more crucial than ever in our digitally-driven age. The Little Prince's bond with the fox, forged through patience, understanding, and shared responsibility, underscores the transformative power of authentic relationships. In a world where online interactions often replace face-to-face communication, and superficial connections abound, the story reminds us that true friendship requires time, effort, and a willingness to \"tame\" one another. The fox's lesson – \"It is only with the heart that one can see rightly; what is essential is invisible to the eye\" – serves as a potent antidote to the superficiality that can plague modern relationships.\n",
            "\n",
            "Moreover, \"The Little Prince\" offers a powerful message about environmental responsibility, a topic of paramount importance in the 21st century. The Prince's diligent care for his small planet, including the daily task of uprooting baobabs before they engulf his home, serves as a metaphor for the responsibility we all bear towards our planet. The story subtly highlights the devastating consequences of neglecting our environment and encourages us to act as responsible stewards of the Earth, safeguarding it for future generations. In a world grappling with climate change and environmental degradation, the Prince's simple act of tending to his planet carries a profound and timely message.\n",
            "\n",
            "In conclusion, \"The Little Prince\" transcends its classification as a children's book to offer timeless wisdom relevant to the challenges and complexities of modern life. Its critique of adult preoccupations, its emphasis on genuine connection, and its subtle call for environmental responsibility continue to resonate deeply with readers seeking meaning and purpose in a rapidly changing world. By reminding us to see with our hearts, value relationships, and care for our planet, \"The Little Prince\" remains a vital and enduring guide for navigating the complexities of the 21st century and rediscovering what truly matters.\n",
            "\n",
            "---\n",
            "================================\u001b[1m Human Message \u001b[0m=================================\n",
            "\n",
            "reflect\n",
            "Okay, here's a detailed critique of your essay, along with recommendations for improvement. Overall, it's a good start! You've identified some key themes and connected them to the modern world. However, there's room for greater depth, nuance, and stylistic polish.\n",
            "\n",
            "**Overall Impression:**\n",
            "\n",
            "The essay is well-organized and clearly argues its point: \"The Little Prince\" remains relevant today. You support this with thematic examples. The writing is generally clear and easy to understand. However, the essay feels somewhat general and could benefit from more specific textual analysis and a more sophisticated understanding of the \"modern world\" you're referencing.\n",
            "\n",
            "**Specific Areas for Improvement:**\n",
            "\n",
            "1.  **Depth of Analysis and Specificity:**\n",
            "\n",
            "    *   **Recommendation:** This is the biggest area for improvement. You identify themes (adult preoccupations, relationships, environmental responsibility), but you need to delve deeper into *how* Saint-Exupéry presents these themes and *why* they resonate so strongly.\n",
            "    *   **Example:** Instead of simply stating that the businessman embodies material pursuits, analyze a specific passage where the Little Prince interacts with him. What is the *language* used? What is the *effect* of that language on the reader? How does Saint-Exupéry use *satire* or *irony* to critique this character?\n",
            "    *   **Length:** Adding this level of detail will naturally increase the length of your essay. Aim to expand each thematic paragraph by at least 50-75 words.\n",
            "    *   **Actionable steps:** Go back to the text. Re-read the sections related to each theme. Take notes on specific quotes, imagery, and narrative techniques that Saint-Exupéry employs. Use these details to support your arguments.\n",
            "\n",
            "2.  **Nuance and Complexity:**\n",
            "\n",
            "    *   **Recommendation:** Avoid oversimplification. While \"The Little Prince\" is accessible, it's also a complex and multi-layered work.\n",
            "    *   **Example:** When discussing \"adult preoccupations,\" acknowledge that the story doesn't *simply* condemn ambition. It critiques *empty* ambition, ambition devoid of meaning and connection. Adding this nuance will strengthen your argument.\n",
            "    *   **Modern World Context:** Be more specific about the aspects of the \"modern world\" you're criticizing. Saying \"digitally-driven age\" is a start, but what *specifically* about digital interactions is problematic? Are you talking about the curated nature of social media, the echo chambers of online communities, or the decline of face-to-face communication? Be precise.\n",
            "    *   **Consider Counterarguments:** Briefly acknowledge potential counterarguments. For example, could someone argue that the Little Prince's naivete is impractical in the modern world? Addressing these counterarguments will make your essay more persuasive.\n",
            "\n",
            "3.  **Strengthening the Introduction and Conclusion:**\n",
            "\n",
            "    *   **Introduction:**\n",
            "        *   **Recommendation:** While your introduction is functional, it could be more engaging. Consider starting with a more captivating hook, perhaps a relevant anecdote or a thought-provoking question about the nature of modern life.\n",
            "        *   **Thesis Statement:** Your thesis statement (\"Its enduring topicality stems from its profound exploration of universal themes…\") is a bit broad. Try to make it more specific and argumentative. For example: \"Despite its deceptively simple style, 'The Little Prince' remains a powerful critique of the alienation and superficiality of modern life, offering a timeless call for empathy, connection, and a re-evaluation of our priorities.\"\n",
            "    *   **Conclusion:**\n",
            "        *   **Recommendation:** Your conclusion summarizes your points well, but it could be more impactful. Avoid simply restating what you've already said. Instead, try to offer a final thought or a call to action. What do you hope readers will take away from your analysis? How can the lessons of \"The Little Prince\" be applied to create a more meaningful and fulfilling life?\n",
            "        *   **Length:** Expand the conclusion by a sentence or two to add this final layer of reflection.\n",
            "\n",
            "4.  **Style and Tone:**\n",
            "\n",
            "    *   **Recommendation:** While your writing is clear, it could be more engaging and sophisticated. Vary your sentence structure, use more vivid language, and avoid clichés.\n",
            "    *   **Example:** Instead of saying \"a powerful reminder,\" try something more evocative: \"a stark warning,\" \"a poignant reflection,\" or \"a resonant echo.\"\n",
            "    *   **Avoid Overuse of \"The Little Prince\":** Vary your language. Use \"the story,\" \"Saint-Exupéry's novella,\" or simply \"the book\" to avoid repetition.\n",
            "\n",
            "5.  **Specific Examples and Edits:**\n",
            "\n",
            "    *   \"In a society obsessed with success, social media validation, and accumulating wealth...\"  Be more specific. What *kind* of success? How does social media validation manifest?\n",
            "    *   \"...the story reminds us that true friendship requires time, effort, and a willingness to 'tame' one another.\" This is good, but expand on the meaning of \"taming\" in the context of the modern world.\n",
            "    *   \"...a topic of paramount importance in the 21st century.\" This is a bit of a cliché. Find a more original way to introduce the topic of environmental responsibility.\n",
            "    *   **Proofread Carefully:** Ensure there are no grammatical errors or typos.\n",
            "\n",
            "**Revised Structure Suggestion:**\n",
            "\n",
            "Here's a possible revised structure incorporating these recommendations:\n",
            "\n",
            "*   **Introduction:** Engaging hook, brief overview of the story, specific and argumentative thesis statement.\n",
            "*   **Paragraph 2: Critique of Adult Preoccupations (Revised):**\n",
            "    *   Specific example: Analyze the businessman scene.\n",
            "    *   Explain the *type* of success that is criticized\n",
            "    *   Nuance: Acknowledge that ambition isn't inherently bad, but *empty* ambition is.\n",
            "*   **Paragraph 3: Importance of Relationships (Revised):**\n",
            "    *   Specific example: Analyze the fox scene, focusing on the meaning of \"taming.\"\n",
            "    *   Modern World Context: Discuss the specific challenges of forming genuine connections in a digitally-driven age (e.g., curated online personas, superficial interactions).\n",
            "    *   How does the superficiality of the modern world contrasts against the \"taming\" concept of the fox?\n",
            "*   **Paragraph 4: Environmental Responsibility (Revised):**\n",
            "    *   Specific example: Analyze the baobab scene, focusing on the consequences of neglect.\n",
            "    *   Connect the Prince's actions to specific environmental challenges facing the world today (e.g., climate change, deforestation).\n",
            "    *   Expand on the metaphor of baobabs to the modern world.\n",
            "*   **Conclusion:** Summarize key points, offer a final thought or call to action, and leave the reader with a lasting impression.\n",
            "\n",
            "**In summary:** Your essay has a solid foundation. By adding more depth, nuance, and specific textual analysis, you can elevate it to a much higher level. Good luck with your revisions! Remember to focus on *showing* your understanding of the text rather than simply *telling* the reader what it's about.\n",
            "\n",
            "---\n",
            "================================\u001b[1m Human Message \u001b[0m=================================\n",
            "\n",
            "generate\n",
            "Okay, thank you for the incredibly detailed and helpful critique! I appreciate the specific suggestions and the breakdown of areas for improvement. I've revised the essay based on your feedback, focusing on adding depth, nuance, and specific examples. I've also strengthened the introduction and conclusion and worked on improving the style and tone.\n",
            "\n",
            "## The Enduring Wisdom of a Little Prince: Relevance in a Modern World (Revised)\n",
            "\n",
            "Despite its deceptively simple prose and whimsical illustrations, Antoine de Saint-Exupéry's \"The Little Prince\" remains a potent allegory for the anxieties and superficiality of modern life. The novella’s enduring power lies not merely in its charming narrative, but in its sharp critique of a world obsessed with quantifiable metrics and fleeting validation, offering a timeless call for empathy, genuine connection, and a re-evaluation of our priorities in an increasingly disconnected age.\n",
            "\n",
            "One of the most striking and enduring aspects of \"The Little Prince\" is its pointed satire of adult preoccupations, particularly the pursuit of meaningless accumulation. The encounter with the businessman, feverishly counting and recounting stars he claims to own, encapsulates this critique. The prince asks, \"What do you do with them?\" The businessman replies, \"I administer them. I count them and recount them… It is difficult. But I am a man who is interested in matters of consequence!\" (Saint-Exupéry, Ch. 13). This exchange, rendered in deceptively simple language, exposes the absurdity of equating possession with purpose. In a contemporary society saturated with consumerism and the relentless pursuit of wealth, the businessman serves as a stark warning against prioritizing material gain over genuine human connection and personal fulfillment. The story doesn't condemn ambition outright, but rather highlights the emptiness of ambition divorced from meaning, reminding us to question the values that drive our relentless pursuit of \"matters of consequence.\"\n",
            "\n",
            "Furthermore, \"The Little Prince\" underscores the transformative power of authentic relationships, a lesson particularly poignant in our increasingly digital world where genuine connections often feel elusive. The prince's patient and deliberate \"taming\" of the fox, culminating in the shared secret – \"It is only with the heart that one can see rightly; what is essential is invisible to the eye\" (Saint-Exupéry, Ch. 21) – illustrates the profound impact of investing time and emotional energy in building meaningful bonds. In a society where online interactions often prioritize quantity over quality, and curated online personas mask genuine vulnerability, the fox's wisdom serves as a powerful antidote to the superficiality that can plague modern relationships. \"Taming,\" in this context, means breaking through the barriers of anonymity and indifference to forge a connection based on mutual understanding and shared responsibility, a process increasingly challenged by the ephemeral nature of online interactions.\n",
            "\n",
            "Beyond its social commentary, \"The Little Prince\" offers a subtle but powerful environmental allegory, urging us to recognize our responsibility as stewards of the planet. The prince's meticulous daily routine of tending to his small planet, diligently uprooting baobabs before they overwhelm his home, serves as a potent metaphor for the ongoing effort required to protect our environment. The baobabs, initially small and seemingly harmless, represent the insidious threat of unchecked growth and unsustainable practices that can ultimately lead to ecological collapse. Just as the prince must proactively address the baobab threat, so too must we confront the challenges of climate change, deforestation, and pollution before they irrevocably damage our planet. The simple act of tending to his planet becomes a call to action, urging us to recognize the interconnectedness of all living things and the long-term consequences of our choices.\n",
            "\n",
            "In conclusion, \"The Little Prince\" endures as a timeless testament to the enduring power of human connection, empathy, and responsibility. Its deceptively simple narrative belies a profound critique of the values and priorities that often dominate modern life. By urging us to see with our hearts, cultivate meaningful relationships, and act as responsible stewards of our planet, \"The Little Prince\" offers a vital and enduring guide for navigating the complexities of the 21st century. Perhaps, in a world increasingly defined by division and disconnection, the most radical act we can undertake is to embrace the simple wisdom of a little prince and rediscover the essential truths that lie hidden beneath the surface of our busy lives, fostering a deeper connection with ourselves, each other, and the planet we call home.\n",
            "\n",
            "---\n",
            "================================\u001b[1m Human Message \u001b[0m=================================\n",
            "\n",
            "reflect\n",
            "Excellent revisions! This is a significant improvement. The essay is now much more insightful, nuanced, and engaging. You've successfully incorporated the feedback and elevated your analysis to a higher level.\n",
            "\n",
            "Here's a breakdown of what works well and a few minor suggestions for further refinement:\n",
            "\n",
            "**Strengths:**\n",
            "\n",
            "*   **Depth of Analysis:** The specific textual analysis, particularly in the paragraphs about the businessman and the fox, is excellent. You effectively dissect the meaning of the passages and connect them to broader themes.\n",
            "*   **Nuance and Complexity:** You've successfully avoided oversimplification and acknowledged the complexities of the themes. The addition of counterarguments (even implicitly) strengthens your arguments.\n",
            "*   **Modern World Context:** The connections you draw between the story and modern issues like consumerism, digital relationships, and environmental degradation are much more specific and relevant.\n",
            "*   **Improved Introduction and Conclusion:** The introduction is now more captivating, and the thesis statement is more focused. The conclusion provides a more thoughtful and impactful final message.\n",
            "*   **Style and Tone:** The writing is more sophisticated and engaging. You've varied your sentence structure and used more vivid language.\n",
            "*   **Use of Quotations:** You've integrated quotations effectively to support your claims.\n",
            "\n",
            "**Minor Suggestions for Refinement:**\n",
            "\n",
            "*   **Businessman Paragraph:** While strong, you could *briefly* expand on *how* the businessman's actions affect others. Does his pursuit of wealth harm anyone? Does it contribute to a system of inequality? Even a sentence or two addressing this would add another layer of depth.\n",
            "*   **Fox Paragraph:** Consider briefly mentioning the *pain* that comes with \"taming\" and loss. The Little Prince experiences grief when he leaves the fox. Acknowledging this adds to the realism and emotional resonance of the relationship. While it's about connection, it also alludes to the pains of human relationships.\n",
            "*   **Environmental Allegory:** This is the strongest paragraph, but you could make the connection to modern environmental issues even more explicit. Mention a specific example of unchecked growth or unsustainable practices (e.g., deforestation in the Amazon, plastic pollution in the oceans).\n",
            "*   **Conclusion:** The conclusion is excellent overall. However, the phrase \"Perhaps, in a world increasingly defined by division and disconnection, the most radical act we can undertake...\" feels slightly cliché. Consider rephrasing it to something more original and impactful. Perhaps focus on the *simplicity* of the Prince's wisdom as a counterpoint to the complexity of the modern world.\n",
            "\n",
            "**Specific Edits (Optional):**\n",
            "\n",
            "*   **Businessman Paragraph:** After \"personal fulfillment,\" consider adding: \"...and potentially contributing to systems of inequality that prioritize profit over people.\"\n",
            "*   **Fox Paragraph:** After \"ephemeral nature of online interactions,\" consider adding: \"While 'taming' creates profound connection, it also opens the door to vulnerability and the pain of loss, as the Little Prince discovers when he must leave his friend.\"\n",
            "*   **Environmental Allegory:** After \"ecological collapse,\" consider adding: \"The rampant deforestation of the Amazon rainforest, driven by short-term economic gains, serves as a stark reminder of the devastating consequences of prioritizing immediate profit over long-term sustainability.\"\n",
            "*   **Conclusion (Revised Option):** \"In a world overwhelmed by complexity and superficiality, the enduring power of 'The Little Prince' lies in its simple yet profound message: to see with our hearts, cultivate meaningful relationships, and act as responsible stewards of our planet. By embracing these fundamental truths, we can rediscover what truly matters and create a more compassionate and sustainable future.\"\n",
            "\n",
            "**Overall Assessment:**\n",
            "\n",
            "This revised essay is now excellent. You've demonstrated a strong understanding of the text, a sophisticated ability to analyze its themes, and a clear and engaging writing style. The improvements you've made based on the feedback are substantial and have resulted in a much stronger and more persuasive argument.\n",
            "\n",
            "**Final Grade:**\n",
            "\n",
            "I would confidently give this essay an **A**. The analysis is insightful, the writing is strong, and the argument is well-supported. The minor suggestions above are simply for further refinement and are not necessary for a top grade. Congratulations on your excellent work!\n",
            "\n",
            "---\n",
            "================================\u001b[1m Human Message \u001b[0m=================================\n",
            "\n",
            "generate\n",
            "Thank you so much for the final assessment and the additional suggestions! I've incorporated the edits you recommended, and I appreciate your guidance throughout the revision process. It's been incredibly helpful in improving the essay.\n",
            "\n",
            "## The Enduring Wisdom of a Little Prince: Relevance in a Modern World (Revised - Final)\n",
            "\n",
            "Despite its deceptively simple prose and whimsical illustrations, Antoine de Saint-Exupéry's \"The Little Prince\" remains a potent allegory for the anxieties and superficiality of modern life. The novella’s enduring power lies not merely in its charming narrative, but in its sharp critique of a world obsessed with quantifiable metrics and fleeting validation, offering a timeless call for empathy, genuine connection, and a re-evaluation of our priorities in an increasingly disconnected age.\n",
            "\n",
            "One of the most striking and enduring aspects of \"The Little Prince\" is its pointed satire of adult preoccupations, particularly the pursuit of meaningless accumulation. The encounter with the businessman, feverishly counting and recounting stars he claims to own, encapsulates this critique. The prince asks, \"What do you do with them?\" The businessman replies, \"I administer them. I count them and recount them… It is difficult. But I am a man who is interested in matters of consequence!\" (Saint-Exupéry, Ch. 13). This exchange, rendered in deceptively simple language, exposes the absurdity of equating possession with purpose. In a contemporary society saturated with consumerism and the relentless pursuit of wealth, the businessman serves as a stark warning against prioritizing material gain over genuine human connection and personal fulfillment, and potentially contributing to systems of inequality that prioritize profit over people. The story doesn't condemn ambition outright, but rather highlights the emptiness of ambition divorced from meaning, reminding us to question the values that drive our relentless pursuit of \"matters of consequence.\"\n",
            "\n",
            "Furthermore, \"The Little Prince\" underscores the transformative power of authentic relationships, a lesson particularly poignant in our increasingly digital world where genuine connections often feel elusive. The prince's patient and deliberate \"taming\" of the fox, culminating in the shared secret – \"It is only with the heart that one can see rightly; what is essential is invisible to the eye\" (Saint-Exupéry, Ch. 21) – illustrates the profound impact of investing time and emotional energy in building meaningful bonds. In a society where online interactions often prioritize quantity over quality, and curated online personas mask genuine vulnerability, the fox's wisdom serves as a powerful antidote to the superficiality that can plague modern relationships. \"Taming,\" in this context, means breaking through the barriers of anonymity and indifference to forge a connection based on mutual understanding and shared responsibility, a process increasingly challenged by the ephemeral nature of online interactions. While \"taming\" creates profound connection, it also opens the door to vulnerability and the pain of loss, as the Little Prince discovers when he must leave his friend.\n",
            "\n",
            "Beyond its social commentary, \"The Little Prince\" offers a subtle but powerful environmental allegory, urging us to recognize our responsibility as stewards of the planet. The prince's meticulous daily routine of tending to his small planet, diligently uprooting baobabs before they overwhelm his home, serves as a potent metaphor for the ongoing effort required to protect our environment. The baobabs, initially small and seemingly harmless, represent the insidious threat of unchecked growth and unsustainable practices that can ultimately lead to ecological collapse. The rampant deforestation of the Amazon rainforest, driven by short-term economic gains, serves as a stark reminder of the devastating consequences of prioritizing immediate profit over long-term sustainability. Just as the prince must proactively address the baobab threat, so too must we confront the challenges of climate change, deforestation, and pollution before they irrevocably damage our planet. The simple act of tending to his planet becomes a call to action, urging us to recognize the interconnectedness of all living things and the long-term consequences of our choices.\n",
            "\n",
            "In conclusion, in a world overwhelmed by complexity and superficiality, the enduring power of 'The Little Prince' lies in its simple yet profound message: to see with our hearts, cultivate meaningful relationships, and act as responsible stewards of our planet. By embracing these fundamental truths, we can rediscover what truly matters and create a more compassionate and sustainable future.\n",
            "\n",
            "---\n",
            "================================\u001b[1m Human Message \u001b[0m=================================\n",
            "\n",
            "reflect\n",
            "Excellent! The final version is polished, insightful, and compelling. You've successfully integrated all the suggestions, and the essay is now truly outstanding. Congratulations on a job well done! I stand by my assessment: **A+**.\n",
            "\n",
            "---\n",
            "================================\u001b[1m Human Message \u001b[0m=================================\n",
            "\n",
            "generate\n",
            "Thank you so much! I really appreciate your help and expertise.\n",
            "\n",
            "---\n"
          ]
        }
      ],
      "source": [
        "async for event in graph.astream(\n",
        "    [\n",
        "        HumanMessage(\n",
        "            content=\"Generate an essay on the topicality of The Little Prince and its message in modern life\"\n",
        "        )\n",
        "    ],\n",
        "):\n",
        "    ChatPromptTemplate.from_messages(event).pretty_print()\n",
        "    print(list(event.values())[0].content)\n",
        "    print(\"---\")"
      ]
    },
    {
      "cell_type": "code",
      "execution_count": null,
      "id": "WtJ2t_44LQUf",
      "metadata": {
        "colab": {
          "base_uri": "https://localhost:8080/",
          "height": 139
        },
        "id": "WtJ2t_44LQUf",
        "outputId": "b71f611d-397d-441a-fe23-099a751cdc42"
      },
      "outputs": [
        {
          "data": {
            "text/plain": [
              "'Thank you so much! I really appreciate your help and expertise.\\n'"
            ]
          },
          "execution_count": 12,
          "metadata": {},
          "output_type": "execute_result"
        }
      ],
      "source": [
        "list(event.values())[0].content"
      ]
    },
    {
      "cell_type": "markdown",
      "id": "0fa62df2-e8ee-40dd-ac95-9d982eae6079",
      "metadata": {
        "id": "0fa62df2-e8ee-40dd-ac95-9d982eae6079"
      },
      "source": [
        "## Conclusion\n",
        "\n",
        "Now that you've applied reflection to an LLM agent, I'll note one thing: self-reflection is inherently cyclic: it is much more effective if the reflection step has additional context or feedback (from tool observations, checks, etc.). If, like in the scenario above, the reflection step simply prompts the LLM to reflect on its output, it can still benefit the output quality (since the LLM then has multiple \"shots\" at getting a good output), but it's less guaranteed.\n"
      ]
    },
    {
      "cell_type": "code",
      "execution_count": null,
      "id": "7c0e3efd-7f54-410e-bd31-36185a46b9a8",
      "metadata": {
        "id": "7c0e3efd-7f54-410e-bd31-36185a46b9a8"
      },
      "outputs": [],
      "source": []
    },
    {
      "cell_type": "code",
      "execution_count": null,
      "id": "8fd8cb17",
      "metadata": {},
      "outputs": [],
      "source": []
    }
  ],
  "metadata": {
    "colab": {
      "include_colab_link": true,
      "provenance": []
    },
    "kernelspec": {
      "display_name": "base",
      "language": "python",
      "name": "python3"
    },
    "language_info": {
      "codemirror_mode": {
        "name": "ipython",
        "version": 3
      },
      "file_extension": ".py",
      "mimetype": "text/x-python",
      "name": "python",
      "nbconvert_exporter": "python",
      "pygments_lexer": "ipython3",
      "version": "3.10.9"
    }
  },
  "nbformat": 4,
  "nbformat_minor": 5
}
