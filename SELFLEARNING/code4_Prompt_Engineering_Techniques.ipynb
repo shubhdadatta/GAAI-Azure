{
  "cells": [
    {
      "cell_type": "markdown",
      "metadata": {
        "id": "5ZBMUH466r3l"
      },
      "source": [
        "# Prompt Engineering Techniques"
      ]
    },
    {
      "cell_type": "markdown",
      "metadata": {},
      "source": [
        "Notebook available at: https://github.com/Bluedata-Consulting/GAAI-B4-Azure/blob/main/SELFLEARNING/code4_Prompt_Engineering_Techniques.ipynb"
      ]
    },
    {
      "cell_type": "markdown",
      "metadata": {
        "id": "hHVS-OUbexVn"
      },
      "source": [
        "\n",
        "Prompt engineering is the process of designing and refining prompts for large language models (LLMs) to elicit desired responses. Different techniques exist to improve the model's performance and controllability."
      ]
    },
    {
      "cell_type": "code",
      "execution_count": 5,
      "metadata": {
        "id": "HVEaMctAXC6D"
      },
      "outputs": [],
      "source": [
        "from openai import AzureOpenAI\n",
        "client = AzureOpenAI()"
      ]
    },
    {
      "cell_type": "code",
      "execution_count": 6,
      "metadata": {
        "id": "0WAxkVWZ7LRi"
      },
      "outputs": [],
      "source": [
        "# creating a function to get outcome\n",
        "def generate_response(prompt,model='gpt4o',temperature=0):\n",
        "  messages = [{\"role\":\"user\",\"content\":prompt}]\n",
        "  response = client.chat.completions.create(\n",
        "      model = model,\n",
        "      messages = messages,\n",
        "      temperature=temperature,\n",
        "      #top_p=0.99\n",
        "  )\n",
        "  return response.choices[0].message.content\n"
      ]
    },
    {
      "cell_type": "code",
      "execution_count": 7,
      "metadata": {
        "colab": {
          "base_uri": "https://localhost:8080/",
          "height": 35
        },
        "id": "ly5FNgJiqpGG",
        "outputId": "6b1f75a6-b23f-4f35-9ce1-c96be70cb691"
      },
      "outputs": [
        {
          "data": {
            "text/plain": [
              "\"Hello! I'm just a program, so I don't have feelings, but I'm here and ready to help you. How can I assist you today?\""
            ]
          },
          "execution_count": 7,
          "metadata": {},
          "output_type": "execute_result"
        }
      ],
      "source": [
        "generate_response(\"Hi! How are you.\")"
      ]
    },
    {
      "cell_type": "markdown",
      "metadata": {
        "id": "VwRbawJ7fE8C"
      },
      "source": [
        "\n",
        "## Zero-Shot Prompting\n",
        "**Description:** In zero-shot prompting, the model is given a prompt with a task and no examples of how to perform it. The model is expected to perform the task based solely on its pre-training.\n",
        "\n",
        "**Application Areas:** Simple tasks where the model has a strong understanding from its training data, such as classification, translation, or summarization for common domains.\n",
        "\n",
        "**When to Use:**\n",
        "- When the task is straightforward and aligns well with the model's pre-training.\n",
        "- When collecting examples for few-shot prompting is difficult or time-consuming.\n",
        "- As a baseline to see how well the model performs without explicit examples.\n",
        "\n",
        "**Example:**\n",
        "Prompt: \"Translate the following English sentence to French: 'Hello, how are you?'\"\n",
        "\n"
      ]
    },
    {
      "cell_type": "code",
      "execution_count": 8,
      "metadata": {
        "colab": {
          "base_uri": "https://localhost:8080/"
        },
        "id": "1DpqkFzDvsTe",
        "outputId": "02b66f90-f254-4d59-933f-35ed27fab520"
      },
      "outputs": [
        {
          "name": "stdout",
          "output_type": "stream",
          "text": [
            "**Title: The Magic of Memories**\n",
            "\n",
            "**Setting:** A cozy living room filled with family photos, a warm fireplace, and the smell of freshly baked cookies.\n",
            "\n",
            "---\n",
            "\n",
            "**Child:** (snuggling into the couch) Grandma, can you tell me a story? A real one, like when you were a kid?\n",
            "\n",
            "**Grandparent:** (smiling) Of course, sweetheart! Let me think… Ah! I have a perfect one. It was the summer of 1965, and I was about your age.\n",
            "\n",
            "**Child:** (eyes wide) What was it like back then? Did you have video games?\n",
            "\n",
            "**Grandparent:** (chuckling) Oh, no video games! We played outside all day. We had to use our imaginations. One summer, my friends and I decided to build a treehouse.\n",
            "\n",
            "**Child:** A treehouse? That sounds amazing! Did you really build it?\n",
            "\n",
            "**Grandparent:** We did! We found an old tree in my backyard, and we gathered wood from the neighborhood. It was a bit wobbly, but we painted it bright blue and added a sign that said “The Secret Club.”\n",
            "\n",
            "**Child:** (giggling) Did you have secret meetings?\n",
            "\n",
            "**Grandparent:** Oh, yes! We would meet there every afternoon. We even had a secret handshake. We’d talk about everything—our favorite superheroes, our dreams, and sometimes we’d just sit quietly and watch the clouds.\n",
            "\n",
            "**Child:** (thoughtful) What did you dream about?\n",
            "\n",
            "**Grandparent:** (pausing) I dreamed of traveling the world, seeing new places, and meeting new people. I wanted to be an explorer. \n",
            "\n",
            "**Child:** (excitedly) Did you ever get to travel?\n",
            "\n",
            "**Grandparent:** (nodding) I did! After I grew up, I traveled to many places. I saw the Eiffel Tower in Paris and the pyramids in Egypt. But you know what? The best adventures were always with friends and family.\n",
            "\n",
            "**Child:** (curiously) What was your favorite place?\n",
            "\n",
            "**Grandparent:** (smiling nostalgically) I think my favorite was a little village in Italy. The people were so warm, and the food was delicious! I remember sitting in a small café, sipping lemonade, and watching the world go by.\n",
            "\n",
            "**Child:** (dreamily) I want to travel too! Can we go to Italy together someday?\n",
            "\n",
            "**Grandparent:** (grinning) Absolutely! We’ll make it a special trip, just you and me. We’ll eat gelato and explore the streets. \n",
            "\n",
            "**Child:** (jumping up) Yes! And we can find a tree to climb and make our own secret club!\n",
            "\n",
            "**Grandparent:** (laughing) That sounds like a wonderful plan! But for now, how about we bake some cookies together? \n",
            "\n",
            "**Child:** (clapping hands) Yes! Let’s make the best cookies ever!\n",
            "\n",
            "**Grandparent:** (standing up) Alright, let’s get started. And who knows, maybe we’ll create some new memories to share in the future!\n",
            "\n",
            "---\n",
            "\n",
            "**(They head to the kitchen, laughter and the smell of cookies filling the air, as the magic of memories continues to weave through their lives.)**\n"
          ]
        }
      ],
      "source": [
        "# zero shot prompting\n",
        "prompt = f\"\"\"\n",
        "Create a conversation story between child and grandparent.\n",
        "\"\"\"\n",
        "response = generate_response(prompt)\n",
        "print(response)"
      ]
    },
    {
      "cell_type": "code",
      "execution_count": 9,
      "metadata": {
        "colab": {
          "base_uri": "https://localhost:8080/"
        },
        "id": "QFYcKG_-0kWO",
        "outputId": "99906f6f-d943-40b9-85bf-da4a20ffb0ef"
      },
      "outputs": [
        {
          "name": "stdout",
          "output_type": "stream",
          "text": [
            "Report Lost Card\n"
          ]
        }
      ],
      "source": [
        "prompt = \"\"\"Classify the customer's request into one of the following categories:\n",
        "- Account Balance Inquiry\n",
        "- Loan Application Status\n",
        "- Report Lost Card\n",
        "- Fund Transfer Issue\n",
        "- Credit Card Application\n",
        "\n",
        "\n",
        "Customer: \"Can you tell me what to do in case I misplaced my debit card?\"\n",
        "Category:\"\"\"\n",
        "output = generate_response(prompt)\n",
        "print(output)"
      ]
    },
    {
      "cell_type": "markdown",
      "metadata": {
        "id": "HOgSzz8YfOh1"
      },
      "source": [
        "## Few-Shot Prompting\n",
        "**Description:** Few-shot prompting involves providing the model with a few examples (typically 1 to 5) of the desired input-output pairs before presenting the actual task. This helps the model understand the format and type of output expected.\n",
        "\n",
        "**Application Areas:** Tasks where the desired output format is specific, or the task requires understanding a particular style or pattern. Examples include generating text in a specific style, answering questions in a particular format, or performing tasks on less common data.\n",
        "\n",
        "**When to Use:**\n",
        "- When zero-shot performance is not sufficient.\n",
        "- When the task requires a specific output format or style.\n",
        "- When the task involves domains or data less frequently seen during pre-training.\n",
        "- To guide the model towards desired behavior without fine-tuning.\n",
        "**Example:**\n",
        "Prompt:\n",
        "\"Translate to Spanish:\n",
        "English: 'Goodbye'\n",
        "Spanish: 'Adiós'\n",
        "English: 'Thank you'\n",
        "Spanish: 'Gracias'\n",
        "English: 'Please'\n",
        "Spanish: 'Por favor'\n",
        "English: 'Excuse me'\n",
        "Spanish: 'Disculpe'\"\n"
      ]
    },
    {
      "cell_type": "code",
      "execution_count": 10,
      "metadata": {
        "colab": {
          "base_uri": "https://localhost:8080/"
        },
        "id": "8SurLNqfa6wi",
        "outputId": "178c535e-d442-45c2-be0a-cd22c32cac88"
      },
      "outputs": [
        {
          "name": "stdout",
          "output_type": "stream",
          "text": [
            "<grandma>: Resilience is like a tree that bends in the wind but doesn’t break. It stands tall again after the storm passes, ready to grow even stronger.\n"
          ]
        }
      ],
      "source": [
        "# few shot prompting\n",
        "prompt = f\"\"\"\n",
        "your task is to answer in a consistent sytle:\n",
        "\n",
        "<child>: Teach me about patience.\n",
        "<grandma>: Patience is like waiting for whole day to see the moon in the evening and then sleeping after having a look at it.\n",
        "\n",
        "<child>: Teach me about resilience.\n",
        "\"\"\"\n",
        "response = generate_response(prompt)\n",
        "print(response)"
      ]
    },
    {
      "cell_type": "markdown",
      "metadata": {
        "id": "LqtJ2ipJbhw6"
      },
      "source": [
        "#### Few shot prompting with role setup"
      ]
    },
    {
      "cell_type": "code",
      "execution_count": 14,
      "metadata": {
        "colab": {
          "base_uri": "https://localhost:8080/"
        },
        "id": "RTawSemLbhw6",
        "outputId": "923accd5-2ed2-4f36-af0d-1a4825f38849"
      },
      "outputs": [
        {
          "ename": "TypeError",
          "evalue": "Completions.create() got an unexpected keyword argument 'max_output_tokens'",
          "output_type": "error",
          "traceback": [
            "\u001b[1;31m---------------------------------------------------------------------------\u001b[0m",
            "\u001b[1;31mTypeError\u001b[0m                                 Traceback (most recent call last)",
            "Cell \u001b[1;32mIn[14], line 1\u001b[0m\n\u001b[1;32m----> 1\u001b[0m result \u001b[38;5;241m=\u001b[39m \u001b[43mclient\u001b[49m\u001b[38;5;241;43m.\u001b[39;49m\u001b[43mchat\u001b[49m\u001b[38;5;241;43m.\u001b[39;49m\u001b[43mcompletions\u001b[49m\u001b[38;5;241;43m.\u001b[39;49m\u001b[43mcreate\u001b[49m\u001b[43m(\u001b[49m\n\u001b[0;32m      2\u001b[0m \u001b[43m    \u001b[49m\u001b[43mmodel\u001b[49m\u001b[38;5;241;43m=\u001b[39;49m\u001b[38;5;124;43m'\u001b[39;49m\u001b[38;5;124;43mgpt4o\u001b[39;49m\u001b[38;5;124;43m'\u001b[39;49m\u001b[43m,\u001b[49m\u001b[43m  \u001b[49m\u001b[38;5;66;43;03m# e.g. gpt-35-instant\u001b[39;49;00m\n\u001b[0;32m      3\u001b[0m \u001b[43m    \u001b[49m\u001b[43mmax_output_tokens\u001b[49m\u001b[38;5;241;43m=\u001b[39;49m\u001b[38;5;241;43m200\u001b[39;49m\u001b[43m,\u001b[49m\n\u001b[0;32m      4\u001b[0m \u001b[43m    \u001b[49m\u001b[43mtemperature\u001b[49m\u001b[38;5;241;43m=\u001b[39;49m\u001b[38;5;241;43m0\u001b[39;49m\u001b[43m,\u001b[49m\n\u001b[0;32m      5\u001b[0m \u001b[43m    \u001b[49m\u001b[43mmessages\u001b[49m\u001b[38;5;241;43m=\u001b[39;49m\u001b[43m[\u001b[49m\n\u001b[0;32m      6\u001b[0m \u001b[43m        \u001b[49m\u001b[43m{\u001b[49m\u001b[38;5;124;43m\"\u001b[39;49m\u001b[38;5;124;43mrole\u001b[39;49m\u001b[38;5;124;43m\"\u001b[39;49m\u001b[43m:\u001b[49m\u001b[43m \u001b[49m\u001b[38;5;124;43m\"\u001b[39;49m\u001b[38;5;124;43msystem\u001b[39;49m\u001b[38;5;124;43m\"\u001b[39;49m\u001b[43m,\u001b[49m\u001b[43m \u001b[49m\u001b[38;5;124;43m\"\u001b[39;49m\u001b[38;5;124;43mcontent\u001b[39;49m\u001b[38;5;124;43m\"\u001b[39;49m\u001b[43m:\u001b[49m\u001b[43m \u001b[49m\u001b[38;5;124;43m\"\u001b[39;49m\u001b[38;5;124;43mYou are a helpful assistant.\u001b[39;49m\u001b[38;5;124;43m\"\u001b[39;49m\u001b[43m}\u001b[49m\u001b[43m,\u001b[49m\n\u001b[0;32m      7\u001b[0m \u001b[43m        \u001b[49m\u001b[43m{\u001b[49m\u001b[38;5;124;43m\"\u001b[39;49m\u001b[38;5;124;43mrole\u001b[39;49m\u001b[38;5;124;43m\"\u001b[39;49m\u001b[43m:\u001b[49m\u001b[43m \u001b[49m\u001b[38;5;124;43m\"\u001b[39;49m\u001b[38;5;124;43muser\u001b[39;49m\u001b[38;5;124;43m\"\u001b[39;49m\u001b[43m,\u001b[49m\u001b[43m \u001b[49m\u001b[38;5;124;43m\"\u001b[39;49m\u001b[38;5;124;43mcontent\u001b[39;49m\u001b[38;5;124;43m\"\u001b[39;49m\u001b[43m:\u001b[49m\u001b[43m \u001b[49m\u001b[38;5;124;43m\"\u001b[39;49m\u001b[38;5;124;43mThat was an awesome experience\u001b[39;49m\u001b[38;5;124;43m\"\u001b[39;49m\u001b[43m}\u001b[49m\u001b[43m,\u001b[49m\n\u001b[0;32m      8\u001b[0m \u001b[43m        \u001b[49m\u001b[43m{\u001b[49m\u001b[38;5;124;43m\"\u001b[39;49m\u001b[38;5;124;43mrole\u001b[39;49m\u001b[38;5;124;43m\"\u001b[39;49m\u001b[43m:\u001b[49m\u001b[43m \u001b[49m\u001b[38;5;124;43m\"\u001b[39;49m\u001b[38;5;124;43massistant\u001b[39;49m\u001b[38;5;124;43m\"\u001b[39;49m\u001b[43m,\u001b[49m\u001b[43m \u001b[49m\u001b[38;5;124;43m\"\u001b[39;49m\u001b[38;5;124;43mcontent\u001b[39;49m\u001b[38;5;124;43m\"\u001b[39;49m\u001b[43m:\u001b[49m\u001b[43m \u001b[49m\u001b[38;5;124;43m\"\u001b[39;49m\u001b[38;5;124;43mpositive\u001b[39;49m\u001b[38;5;124;43m\"\u001b[39;49m\u001b[43m}\u001b[49m\u001b[43m,\u001b[49m\n\u001b[0;32m      9\u001b[0m \u001b[43m        \u001b[49m\u001b[43m{\u001b[49m\u001b[38;5;124;43m\"\u001b[39;49m\u001b[38;5;124;43mrole\u001b[39;49m\u001b[38;5;124;43m\"\u001b[39;49m\u001b[43m:\u001b[49m\u001b[43m \u001b[49m\u001b[38;5;124;43m\"\u001b[39;49m\u001b[38;5;124;43muser\u001b[39;49m\u001b[38;5;124;43m\"\u001b[39;49m\u001b[43m,\u001b[49m\u001b[43m \u001b[49m\u001b[38;5;124;43m\"\u001b[39;49m\u001b[38;5;124;43mcontent\u001b[39;49m\u001b[38;5;124;43m\"\u001b[39;49m\u001b[43m:\u001b[49m\u001b[43m \u001b[49m\u001b[38;5;124;43m\"\u001b[39;49m\u001b[38;5;124;43mI won\u001b[39;49m\u001b[38;5;124;43m'\u001b[39;49m\u001b[38;5;124;43mt do that again\u001b[39;49m\u001b[38;5;124;43m\"\u001b[39;49m\u001b[43m}\u001b[49m\u001b[43m,\u001b[49m\n\u001b[0;32m     10\u001b[0m \u001b[43m        \u001b[49m\u001b[43m{\u001b[49m\u001b[38;5;124;43m\"\u001b[39;49m\u001b[38;5;124;43mrole\u001b[39;49m\u001b[38;5;124;43m\"\u001b[39;49m\u001b[43m:\u001b[49m\u001b[43m \u001b[49m\u001b[38;5;124;43m\"\u001b[39;49m\u001b[38;5;124;43massistant\u001b[39;49m\u001b[38;5;124;43m\"\u001b[39;49m\u001b[43m,\u001b[49m\u001b[43m \u001b[49m\u001b[38;5;124;43m\"\u001b[39;49m\u001b[38;5;124;43mcontent\u001b[39;49m\u001b[38;5;124;43m\"\u001b[39;49m\u001b[43m:\u001b[49m\u001b[43m \u001b[49m\u001b[38;5;124;43m\"\u001b[39;49m\u001b[38;5;124;43mnegative\u001b[39;49m\u001b[38;5;124;43m\"\u001b[39;49m\u001b[43m}\u001b[49m\u001b[43m,\u001b[49m\n\u001b[0;32m     11\u001b[0m \u001b[43m        \u001b[49m\u001b[43m{\u001b[49m\u001b[38;5;124;43m\"\u001b[39;49m\u001b[38;5;124;43mrole\u001b[39;49m\u001b[38;5;124;43m\"\u001b[39;49m\u001b[43m:\u001b[49m\u001b[43m \u001b[49m\u001b[38;5;124;43m\"\u001b[39;49m\u001b[38;5;124;43muser\u001b[39;49m\u001b[38;5;124;43m\"\u001b[39;49m\u001b[43m,\u001b[49m\u001b[43m \u001b[49m\u001b[38;5;124;43m\"\u001b[39;49m\u001b[38;5;124;43mcontent\u001b[39;49m\u001b[38;5;124;43m\"\u001b[39;49m\u001b[43m:\u001b[49m\u001b[43m \u001b[49m\u001b[38;5;124;43m\"\u001b[39;49m\u001b[38;5;124;43mThat was not worth my time\u001b[39;49m\u001b[38;5;124;43m\"\u001b[39;49m\u001b[43m}\u001b[49m\u001b[43m,\u001b[49m\n\u001b[0;32m     12\u001b[0m \u001b[43m        \u001b[49m\u001b[43m{\u001b[49m\u001b[38;5;124;43m\"\u001b[39;49m\u001b[38;5;124;43mrole\u001b[39;49m\u001b[38;5;124;43m\"\u001b[39;49m\u001b[43m:\u001b[49m\u001b[43m \u001b[49m\u001b[38;5;124;43m\"\u001b[39;49m\u001b[38;5;124;43massistant\u001b[39;49m\u001b[38;5;124;43m\"\u001b[39;49m\u001b[43m,\u001b[49m\u001b[43m \u001b[49m\u001b[38;5;124;43m\"\u001b[39;49m\u001b[38;5;124;43mcontent\u001b[39;49m\u001b[38;5;124;43m\"\u001b[39;49m\u001b[43m:\u001b[49m\u001b[43m \u001b[49m\u001b[38;5;124;43m\"\u001b[39;49m\u001b[38;5;124;43mnegative\u001b[39;49m\u001b[38;5;124;43m\"\u001b[39;49m\u001b[43m}\u001b[49m\u001b[43m,\u001b[49m\n\u001b[0;32m     13\u001b[0m \u001b[43m        \u001b[49m\u001b[43m{\u001b[49m\u001b[38;5;124;43m\"\u001b[39;49m\u001b[38;5;124;43mrole\u001b[39;49m\u001b[38;5;124;43m\"\u001b[39;49m\u001b[43m:\u001b[49m\u001b[43m \u001b[49m\u001b[38;5;124;43m\"\u001b[39;49m\u001b[38;5;124;43muser\u001b[39;49m\u001b[38;5;124;43m\"\u001b[39;49m\u001b[43m,\u001b[49m\u001b[43m \u001b[49m\u001b[38;5;124;43m\"\u001b[39;49m\u001b[38;5;124;43mcontent\u001b[39;49m\u001b[38;5;124;43m\"\u001b[39;49m\u001b[43m:\u001b[49m\u001b[43m \u001b[49m\u001b[38;5;124;43m\"\u001b[39;49m\u001b[38;5;124;43mYou can\u001b[39;49m\u001b[38;5;124;43m'\u001b[39;49m\u001b[38;5;124;43mt miss this\u001b[39;49m\u001b[38;5;124;43m\"\u001b[39;49m\u001b[43m}\u001b[49m\n\u001b[0;32m     14\u001b[0m \u001b[43m    \u001b[49m\u001b[43m]\u001b[49m\u001b[43m,\u001b[49m\n\u001b[0;32m     15\u001b[0m \u001b[43m)\u001b[49m\n\u001b[0;32m     16\u001b[0m \u001b[38;5;28mprint\u001b[39m(result\u001b[38;5;241m.\u001b[39mchoices[\u001b[38;5;241m0\u001b[39m]\u001b[38;5;241m.\u001b[39mmessage\u001b[38;5;241m.\u001b[39mcontent)\n",
            "File \u001b[1;32m~\\AppData\\Roaming\\Python\\Python310\\site-packages\\openai\\_utils\\_utils.py:287\u001b[0m, in \u001b[0;36mrequired_args.<locals>.inner.<locals>.wrapper\u001b[1;34m(*args, **kwargs)\u001b[0m\n\u001b[0;32m    285\u001b[0m             msg \u001b[38;5;241m=\u001b[39m \u001b[38;5;124mf\u001b[39m\u001b[38;5;124m\"\u001b[39m\u001b[38;5;124mMissing required argument: \u001b[39m\u001b[38;5;132;01m{\u001b[39;00mquote(missing[\u001b[38;5;241m0\u001b[39m])\u001b[38;5;132;01m}\u001b[39;00m\u001b[38;5;124m\"\u001b[39m\n\u001b[0;32m    286\u001b[0m     \u001b[38;5;28;01mraise\u001b[39;00m \u001b[38;5;167;01mTypeError\u001b[39;00m(msg)\n\u001b[1;32m--> 287\u001b[0m \u001b[38;5;28;01mreturn\u001b[39;00m func(\u001b[38;5;241m*\u001b[39margs, \u001b[38;5;241m*\u001b[39m\u001b[38;5;241m*\u001b[39mkwargs)\n",
            "\u001b[1;31mTypeError\u001b[0m: Completions.create() got an unexpected keyword argument 'max_output_tokens'"
          ]
        }
      ],
      "source": [
        "result = client.chat.completions.create(\n",
        "    model='gpt4o',  # e.g. gpt-35-instant\n",
        "    max_output_tokens=200,\n",
        "    temperature=0,\n",
        "    messages=[\n",
        "        {\"role\": \"system\", \"content\": \"You are a helpful assistant.\"},\n",
        "        {\"role\": \"user\", \"content\": \"That was an awesome experience\"},\n",
        "        {\"role\": \"assistant\", \"content\": \"positive\"},\n",
        "        {\"role\": \"user\", \"content\": \"I won't do that again\"},\n",
        "        {\"role\": \"assistant\", \"content\": \"negative\"},\n",
        "        {\"role\": \"user\", \"content\": \"That was not worth my time\"},\n",
        "        {\"role\": \"assistant\", \"content\": \"negative\"},\n",
        "        {\"role\": \"user\", \"content\": \"You can't miss this\"}\n",
        "    ],\n",
        ")\n",
        "print(result.choices[0].message.content)"
      ]
    },
    {
      "cell_type": "code",
      "execution_count": 15,
      "metadata": {
        "colab": {
          "base_uri": "https://localhost:8080/"
        },
        "id": "C35gcOBquRLy",
        "outputId": "cf0405be-d917-49b9-95b3-7c63f892d365"
      },
      "outputs": [
        {
          "name": "stdout",
          "output_type": "stream",
          "text": [
            "Account Balance Inquiry\n"
          ]
        }
      ],
      "source": [
        "prompt = \"\"\"Classify the customer's request into one of the following categories:\n",
        "- Account Balance Inquiry\n",
        "- Loan Application Status\n",
        "- Report Lost Card\n",
        "- Fund Transfer Issue\n",
        "- Credit Card Application\n",
        "\n",
        "Examples:\n",
        "Customer: \"What's the current balance in my savings account?\"\n",
        "Category: Account Balance Inquiry\n",
        "\n",
        "Customer: \"I need to know where my loan application stands.\"\n",
        "Category: Loan Application Status\n",
        "\n",
        "Customer: \"My credit card is missing, I think I lost it.\"\n",
        "Category: Report Lost Card\n",
        "\n",
        "Customer: \"I tried to send money to my friend but it's not going through.\"\n",
        "Category: Fund Transfer Issue\n",
        "\n",
        "Customer: \"I want to apply for a new credit card.\"\n",
        "Category: Credit Card Application\n",
        "\n",
        "Customer: \"Can you tell me how much money I have in my checking account?\"\n",
        "Category:\"\"\"\n",
        "\n",
        "output = generate_response(prompt)\n",
        "print(output)"
      ]
    },
    {
      "cell_type": "code",
      "execution_count": 16,
      "metadata": {
        "id": "UV5HXoyUw6EB"
      },
      "outputs": [],
      "source": [
        "def get_categorization(qus):\n",
        "    prompt = f\"\"\"Classify the customer's request into one of the following categories:\n",
        "      - Account Balance Inquiry\n",
        "      - Loan Application Status\n",
        "      - Report Lost Card\n",
        "      - Fund Transfer Issue\n",
        "      - Credit Card Application\n",
        "\n",
        "      Examples:\n",
        "      Customer: \"What's the current balance in my savings account?\"\n",
        "      Category: Account Balance Inquiry\n",
        "\n",
        "      Customer: \"I need to know where my loan application stands.\"\n",
        "      Category: Loan Application Status\n",
        "\n",
        "      Customer: \"My credit card is missing, I think I lost it.\"\n",
        "      Category: Report Lost Card\n",
        "\n",
        "      Customer: \"I tried to send money to my friend but it's not going through.\"\n",
        "      Category: Fund Transfer Issue\n",
        "\n",
        "      Customer: \"I want to apply for a new credit card.\"\n",
        "      Category: Credit Card Application\n",
        "\n",
        "      Customer: {qus}\n",
        "      Category:\"\"\"\n",
        "    output = generate_response(prompt)\n",
        "    return output\n"
      ]
    },
    {
      "cell_type": "code",
      "execution_count": 17,
      "metadata": {
        "colab": {
          "base_uri": "https://localhost:8080/",
          "height": 35
        },
        "id": "uprjDunnxNJ2",
        "outputId": "5ed8787e-3f07-4022-d022-c87396bbaa77"
      },
      "outputs": [
        {
          "data": {
            "text/plain": [
              "'Account Balance Inquiry'"
            ]
          },
          "execution_count": 17,
          "metadata": {},
          "output_type": "execute_result"
        }
      ],
      "source": [
        "get_categorization(\"can you help me with my checkin balance?\")"
      ]
    },
    {
      "cell_type": "code",
      "execution_count": 18,
      "metadata": {
        "colab": {
          "base_uri": "https://localhost:8080/",
          "height": 35
        },
        "id": "JG1382mnxRuT",
        "outputId": "4ee25900-b935-44b1-e6cc-df21ae56ece2"
      },
      "outputs": [
        {
          "data": {
            "text/plain": [
              "'Report Lost Card'"
            ]
          },
          "execution_count": 18,
          "metadata": {},
          "output_type": "execute_result"
        }
      ],
      "source": [
        "get_categorization(\"I think I missed my credit card while travelling yesterday at airport, what do i do next?\")"
      ]
    },
    {
      "cell_type": "code",
      "execution_count": 19,
      "metadata": {
        "colab": {
          "base_uri": "https://localhost:8080/",
          "height": 35
        },
        "id": "Op_ARQWRxaFQ",
        "outputId": "73708f57-bfc0-4f59-ae2c-d6c0218ce39d"
      },
      "outputs": [
        {
          "data": {
            "text/plain": [
              "'Credit Card Application'"
            ]
          },
          "execution_count": 19,
          "metadata": {},
          "output_type": "execute_result"
        }
      ],
      "source": [
        "get_categorization(\"How do apply for a new credit card?\")"
      ]
    },
    {
      "cell_type": "markdown",
      "metadata": {
        "id": "D5X0lYWVfTeg"
      },
      "source": [
        "\n",
        "## Chain-of-Thought (CoT) Prompting\n",
        "**Description:** CoT prompting involves explicitly asking the model to show its reasoning steps or thought process before arriving at the final answer. This is often achieved by including phrases like \"Let's think step by step\" in the prompt. CoT can be used in a zero-shot or few-shot setting (Zero-shot CoT or Few-shot CoT).\n",
        "\n",
        "**Application Areas:** Complex reasoning tasks such as arithmetic, logical deduction, multi-step problem-solving, and question answering that requires synthesis of information.\n",
        "\n",
        "**When to Use:**\n",
        "- When the task requires multi-step reasoning.\n",
        "- When the final answer depends on intermediate steps.\n",
        "- To improve the accuracy on complex problems by guiding the model through the solution process.\n",
        "- To understand the model's reasoning and debug incorrect outputs.\n",
        "**Example (Few-shot CoT):**\n",
        "Prompt:\n",
        "\"Q: Roger has 5 tennis balls. He buys 2 more cans of tennis balls. Each can has 3 tennis balls. How many tennis balls does he have now?\n",
        "A: Roger started with 5 balls. He bought 2 cans with 3 balls each, so he bought 2 * 3 = 6 balls. Total balls = 5 + 6 = 11. The answer is 11.\n",
        "\n",
        "Q: The cafeteria had 23 apples. If they used 20 and then bought 6 more, how many apples do they have?\n",
        "A: Let's think step by step. The cafeteria had 23 apples. They used 20, so they had 23 - 20 = 3 apples left. Then they bought 6 more, so they have 3 + 6 = 9 apples. The answer is 9.\n",
        "\n",
        "Q: [New complex question]\n",
        "A: Let's think step by step.\"\n"
      ]
    },
    {
      "cell_type": "code",
      "execution_count": 20,
      "metadata": {
        "colab": {
          "base_uri": "https://localhost:8080/"
        },
        "id": "JbMnOeiq2atC",
        "outputId": "7d89ce7c-a5bf-4d67-9f4d-423e9b1613e3"
      },
      "outputs": [
        {
          "name": "stdout",
          "output_type": "stream",
          "text": [
            "To find out how many pens Marry has now, we can break it down step by step:\n",
            "\n",
            "1. Marry started with 5 pens.\n",
            "2. She gave away 3 pens, so now she has:  \n",
            "   \\( 5 - 3 = 2 \\) pens.\n",
            "3. She bought 2 boxes of pens, with 3 pens in each box. So, the total number of pens she bought is:  \n",
            "   \\( 2 \\times 3 = 6 \\) pens.\n",
            "4. Now, we add the pens she has left to the pens she bought:  \n",
            "   \\( 2 + 6 = 8 \\) pens.\n",
            "\n",
            "So, Marry has 8 pens now.\n"
          ]
        }
      ],
      "source": [
        "# Without Chain of Thought Prompting = Only Few Shot (No CoT)\n",
        "prompt = f\"\"\"\n",
        "Answer below question\n",
        "Teacher: Johan had 5 apples, he bought 4 more boxes with 5 apples each. How many apples does he have now?\n",
        "Student: 25 apples\n",
        "\n",
        "Teacher: Marry had 5 pens, she gave 3 to her friend. and bought 2 boxes of pen with 3 pen in each box. How many pens does she have now?\n",
        "Student:\n",
        "\"\"\"\n",
        "response = generate_response(prompt)\n",
        "print(response)"
      ]
    },
    {
      "cell_type": "code",
      "execution_count": 21,
      "metadata": {
        "colab": {
          "base_uri": "https://localhost:8080/"
        },
        "id": "_7Hz_cvLbhw_",
        "outputId": "22682936-5600-4213-afc0-7a6feb6dd115"
      },
      "outputs": [
        {
          "name": "stdout",
          "output_type": "stream",
          "text": [
            "Marry had 5 pens, she gave away 3 pens, so she has:\n",
            "\n",
            "5 - 3 = 2 pens left.\n",
            "\n",
            "Then, she bought 2 boxes of pens with 3 pens in each box, which means she got:\n",
            "\n",
            "2 boxes * 3 pens/box = 6 pens.\n",
            "\n",
            "Now, we add the pens she has left to the pens she bought:\n",
            "\n",
            "2 + 6 = 8 pens.\n",
            "\n",
            "So, Marry has 8 pens now.\n"
          ]
        }
      ],
      "source": [
        "# with Chain of Thought prompting = Few Shot CoT\n",
        "prompt = f\"\"\"\n",
        "\n",
        "Teacher: Johan had 5 apples, he bought 4 more boxes with 5 apples each. How many apples does he have now?\n",
        "Student: Johan had 5 apples, 4 boxes with 5 apples each = 5 + 4*5 = 25 apples\n",
        "\n",
        "Teacher: Marry had 5 pens, she gave 3 to her friend. and bought 2 boxes of pen with 3 pen in each box. How many pens does she have now?\n",
        "Student:\n",
        "\n",
        "\"\"\"\n",
        "response = generate_response(prompt)\n",
        "print(response)"
      ]
    },
    {
      "cell_type": "code",
      "execution_count": 22,
      "metadata": {
        "colab": {
          "base_uri": "https://localhost:8080/"
        },
        "id": "A7SWadXtr5ou",
        "outputId": "bfd9506c-5c7e-4e0a-d049-7399196aa8b8"
      },
      "outputs": [
        {
          "name": "stdout",
          "output_type": "stream",
          "text": [
            "Let's break down the problem step by step:\n",
            "\n",
            "1. **Initial Number of Pens**: Marry starts with 5 pens.\n",
            "\n",
            "2. **Pens Given Away**: She gives 3 pens to her friend. \n",
            "   - To find out how many pens she has left after giving away the pens, we subtract the number of pens given away from the initial number:\n",
            "   \\[\n",
            "   5 - 3 = 2 \\text{ pens left}\n",
            "   \\]\n",
            "\n",
            "3. **Buying New Pens**: Marry then buys 2 boxes of pens, with each box containing 3 pens.\n",
            "   - First, we calculate the total number of pens in the boxes:\n",
            "   \\[\n",
            "   2 \\text{ boxes} \\times 3 \\text{ pens per box} = 6 \\text{ pens}\n",
            "   \\]\n",
            "\n",
            "4. **Total Number of Pens Now**: To find out how many pens Marry has now, we add the pens she has left to the new pens she bought:\n",
            "   \\[\n",
            "   2 \\text{ pens left} + 6 \\text{ new pens} = 8 \\text{ pens}\n",
            "   \\]\n",
            "\n",
            "So, after following all the steps, Marry has **8 pens** now.\n"
          ]
        }
      ],
      "source": [
        "# with Chain of Thought prompting = Zero shot CoT\n",
        "prompt = f\"\"\"\n",
        "\n",
        "Think step by step to answer below question, do not come to conclusion without following process.\n",
        "Teacher: Marry had 5 pens, she gave 3 to her friend. and bought 2 boxes of pen with 3 pen in each box. How many pens does she have now?\n",
        "Student:\n",
        "\n",
        "\"\"\"\n",
        "response = generate_response(prompt)\n",
        "print(response)"
      ]
    },
    {
      "cell_type": "code",
      "execution_count": 23,
      "metadata": {
        "colab": {
          "base_uri": "https://localhost:8080/"
        },
        "id": "BIqsOZPD3J1J",
        "outputId": "69e3c6a5-a7c4-424d-ec61-5cc759ee6495"
      },
      "outputs": [
        {
          "name": "stdout",
          "output_type": "stream",
          "text": [
            "Based on the provided customer profile and the eligibility criteria for the Premium Checking Account:\n",
            "\n",
            "1. **Gold Tier Eligibility:**\n",
            "   - The customer maintains an average daily balance of $8,000, which is above the minimum requirement of $5,000.\n",
            "   - The customer has $45,000 in combined linked accounts, which exceeds the $25,000 requirement.\n",
            "   - The customer has 17 debit card transactions, which is more than the required 5 transactions.\n",
            "\n",
            "   Therefore, the customer qualifies for the **Gold Tier**.\n",
            "\n",
            "2. **Platinum Tier Eligibility:**\n",
            "   - The customer maintains an average daily balance of $8,000, which does not meet the minimum requirement of $25,000.\n",
            "   - The customer has $45,000 in combined linked accounts, which is below the $100,000 requirement.\n",
            "   - The customer has 17 debit card transactions, which exceeds the required 10 transactions.\n",
            "   - The customer has a credit score of 720, which meets the requirement of 700 or higher.\n",
            "\n",
            "   However, since the customer does not meet the balance or combined accounts requirement for the Platinum Tier, they do not qualify for this tier.\n",
            "\n",
            "In conclusion, the customer qualifies for the **Gold Tier**.\n"
          ]
        }
      ],
      "source": [
        "# without Chain of thought\n",
        "\n",
        "prompt = \"\"\"\n",
        "Based on the following eligibility criteria, determine which tier of the Premium Checking Account (Gold, Platinum, or None) the customer qualifies for.\n",
        "Answer the question:\n",
        "**Gold Tier Eligibility:**\n",
        "- Maintain a minimum average daily balance of $5,000 OR\n",
        "- Have at least $25,000 in combined linked accounts.\n",
        "- Must also have at least 5 debit card transactions per month.\n",
        "\n",
        "**Platinum Tier Eligibility:**\n",
        "- Maintain a minimum average daily balance of $25,000 OR\n",
        "- Have at least $100,000 in combined linked accounts.\n",
        "- Must also have at least 10 debit card transactions per month.\n",
        "- Additionally, must have a credit score of 700 or higher.\n",
        "\n",
        "**Customer Profile:**\n",
        "- Average daily checking balance: $8,000\n",
        "- Combined linked accounts balance: $45,000\n",
        "- Debit card transactions last month: 17\n",
        "- Credit score: 720\n",
        "\n",
        "Which tier does this customer qualify for?\n",
        "\"\"\"\n",
        "print(generate_response(prompt))"
      ]
    },
    {
      "cell_type": "code",
      "execution_count": 24,
      "metadata": {
        "colab": {
          "base_uri": "https://localhost:8080/"
        },
        "id": "Py3qgX5z3JuL",
        "outputId": "8500dbe6-aba2-4e01-e4f1-e403d3436a5a"
      },
      "outputs": [
        {
          "name": "stdout",
          "output_type": "stream",
          "text": [
            "Let's analyze the customer profile step by step based on the eligibility criteria for the Gold and Platinum tiers.\n",
            "\n",
            "### Gold Tier Eligibility:\n",
            "1. **Minimum average daily balance of $5,000**: \n",
            "   - The customer has an average daily checking balance of $8,000, which meets this requirement.\n",
            "   \n",
            "2. **Combined linked accounts balance of at least $25,000**: \n",
            "   - The customer has a combined linked accounts balance of $15,000, which does not meet this requirement.\n",
            "\n",
            "3. **At least 5 debit card transactions per month**: \n",
            "   - The customer had 7 debit card transactions last month, which meets this requirement.\n",
            "\n",
            "Since the customer meets the first and third requirements for the Gold tier but does not meet the second requirement, they qualify for the Gold tier based on the first condition alone.\n",
            "\n",
            "### Platinum Tier Eligibility:\n",
            "1. **Minimum average daily balance of $25,000**: \n",
            "   - The customer has an average daily checking balance of $8,000, which does not meet this requirement.\n",
            "\n",
            "2. **Combined linked accounts balance of at least $100,000**: \n",
            "   - The customer has a combined linked accounts balance of $15,000, which does not meet this requirement.\n",
            "\n",
            "3. **At least 10 debit card transactions per month**: \n",
            "   - The customer had 7 debit card transactions last month, which does not meet this requirement.\n",
            "\n",
            "4. **Credit score of 700 or higher**: \n",
            "   - The customer has a credit score of 720, which meets this requirement.\n",
            "\n",
            "The customer does not meet the first three requirements for the Platinum tier, even though they meet the credit score requirement.\n",
            "\n",
            "### Conclusion:\n",
            "The customer qualifies for the **Gold Tier** based on their average daily balance and the number of debit card transactions. They do not qualify for the Platinum tier.\n"
          ]
        }
      ],
      "source": [
        "# Zero shot Chain of thought\n",
        "\n",
        "prompt = \"\"\"\n",
        "Based on the following eligibility criteria, determine which tier of the Premium Checking Account (Gold, Platinum, or None) the customer qualifies for.\n",
        "Answer the question:\n",
        "**Gold Tier Eligibility:**\n",
        "- Maintain a minimum average daily balance of $5,000 OR\n",
        "- Have at least $25,000 in combined linked accounts.\n",
        "- Must also have at least 5 debit card transactions per month.\n",
        "\n",
        "**Platinum Tier Eligibility:**\n",
        "- Maintain a minimum average daily balance of $25,000 OR\n",
        "- Have at least $100,000 in combined linked accounts.\n",
        "- Must also have at least 10 debit card transactions per month.\n",
        "- Additionally, must have a credit score of 700 or higher.\n",
        "\n",
        "**Customer Profile:**\n",
        "- Average daily checking balance: $8,000\n",
        "- Combined linked accounts balance: $15,000\n",
        "- Debit card transactions last month: 7\n",
        "- Credit score: 720\n",
        "\n",
        "Which tier does this customer qualify for?\n",
        "Lets analyze the customer profile step by step and try answer the question.\n",
        "\"\"\"\n",
        "print(generate_response(prompt))"
      ]
    },
    {
      "cell_type": "code",
      "execution_count": null,
      "metadata": {
        "id": "_EJyupnv3JjC"
      },
      "outputs": [],
      "source": []
    },
    {
      "cell_type": "markdown",
      "metadata": {
        "id": "bQvoNRxqVo5_"
      },
      "source": [
        "## Tree of Thoughts (ToT)\n",
        "\n",
        "Tree of Thoughts (ToT) prompting is a framework that generalizes over chain-of-thought prompting and encourages exploration over thoughts that serve as intermediate steps for general problem-solving with language models.\n"
      ]
    },
    {
      "cell_type": "markdown",
      "metadata": {
        "id": "X3xmMlSmfXU1"
      },
      "source": [
        "\n",
        "**Description:** ToT is an extension of CoT where the model explores multiple reasoning paths (a tree structure) instead of a single linear chain of thought. It generates multiple intermediate thoughts and explores their consequences, allowing for backtracking and exploration of different possibilities before selecting the most promising path to the solution.\n",
        "\n",
        "**Application Areas:** More complex and open-ended reasoning tasks than CoT, such as creative writing, strategic planning, and problem-solving that might require exploring multiple hypotheses.\n",
        "\n",
        "**When to Use:**\n",
        "- When the problem has multiple potential approaches or intermediate steps.\n",
        "- When a single linear chain of thought might lead to local optima or dead ends.\n",
        "- For tasks requiring more extensive exploration of possibilities.\n",
        "\n",
        "**How it Works (conceptually):** ToT prompting breaks problems down into smaller parts, similar to CoT prompting, but goes further by combining this with the ability to explore multiple solution paths in parallel, forming a tree instead of a single chain. Each thought is generated or solved independently and passed to the next step, allowing the model to self-evaluate and decide whether to continue with that path or choose another.\n",
        "\n",
        "Generate potential intermediate thoughts -> Evaluate their validity/promise -> Select the most promising ones -> Recursively generate further thoughts until a solution is reached. This typically requires more sophisticated prompting or external control mechanisms than basic CoT.\n"
      ]
    },
    {
      "cell_type": "code",
      "execution_count": 28,
      "metadata": {
        "colab": {
          "base_uri": "https://localhost:8080/"
        },
        "id": "zF7_WBM9MT78",
        "outputId": "30b7c577-1f80-400b-d2d6-cc94dbabeaad"
      },
      "outputs": [
        {
          "name": "stdout",
          "output_type": "stream",
          "text": [
            "### Expert 1: The Physical Movement Expert\n",
            "**Step 1:** Carlos starts at the swimming pool and walks to the locker room carrying a towel. The first thing to consider is that he puts his watch in the towel while still in the locker room. This means the watch is definitely in the towel at that point.\n",
            "\n",
            "**Critique:** This step is solid as it establishes the initial location of the watch. However, I need to consider what happens next.\n",
            "\n",
            "**Likelihood of correctness:** 90%\n",
            "\n",
            "---\n",
            "\n",
            "### Expert 2: The Towel Dynamics Expert\n",
            "**Step 2:** After Carlos puts his watch in the towel, he carries it tightly to a lounger at the poolside. The act of carrying the towel tightly suggests that the watch is likely still secure within the towel during this movement.\n",
            "\n",
            "**Critique:** This is a reasonable assumption, but I need to consider the possibility of the watch slipping out during the vigorous shaking at the lounger.\n",
            "\n",
            "**Likelihood of correctness:** 85%\n",
            "\n",
            "---\n",
            "\n",
            "### Expert 3: The Shaking and Dropping Expert\n",
            "**Step 3:** At the lounger, Carlos opens and vigorously shakes the towel. This action could potentially dislodge the watch from the towel. If the watch falls out during this shaking, it could land on the ground near the lounger or even further away.\n",
            "\n",
            "**Critique:** This step introduces a critical point. The vigorous shaking could indeed cause the watch to fall out. I need to consider where the towel was shaken and the likelihood of the watch landing in various locations.\n",
            "\n",
            "**Likelihood of correctness:** 80%\n",
            "\n",
            "---\n",
            "\n",
            "### Expert 4: The Snack Bar Movement Expert\n",
            "**Step 4:** After shaking the towel, Carlos walks to the snack bar and leaves the towel there. If the watch fell out during the shaking, it could be on the ground near the lounger or still in the towel at the snack bar.\n",
            "\n",
            "**Critique:** This step is valid, but I need to weigh the likelihood of the watch being left at the lounger versus being in the towel at the snack bar. The towel is now at the snack bar, but if the watch fell out, it would not be there.\n",
            "\n",
            "**Likelihood of correctness:** 75%\n",
            "\n",
            "---\n",
            "\n",
            "### Expert 5: The Diving Board Expert\n",
            "**Step 5:** Carlos then walks to the diving board after leaving the towel at the snack bar. If the watch fell out while he was at the lounger, it would not be at the diving board. Therefore, the most likely locations for the watch are either at the lounger or on the ground near the lounger.\n",
            "\n",
            "**Critique:** This is a logical conclusion. The watch is unlikely to be at the diving board since he did not have the towel or the watch with him. I need to consider the likelihood of it being at the snack bar versus the lounger.\n",
            "\n",
            "**Likelihood of correctness:** 70%\n",
            "\n",
            "---\n",
            "\n",
            "### Group Discussion and Reevaluation\n",
            "**Expert 1:** I believe the watch is most likely at the lounger since it was shaken there.\n",
            "\n",
            "**Expert 2:** I agree, but we should consider the possibility of it being at the snack bar if it didn’t fall out.\n",
            "\n",
            "**Expert 3:** The vigorous shaking makes it more likely that it fell out at the lounger. \n",
            "\n",
            "**Expert 4:** I think we should focus on the area around the lounger since that’s where the watch could have easily fallen.\n",
            "\n",
            "**Expert 5:** I concur. The diving board is definitely not a location for the watch. \n",
            "\n",
            "### Conclusion\n",
            "After considering all the steps and critiques, the experts agree that the single most likely location of Carlos's watch is **near the lounger** where he shook the towel. \n",
            "\n",
            "**Final Likelihood of correctness:** 85%\n"
          ]
        }
      ],
      "source": [
        "\n",
        "prompt = \"\"\"\n",
        "Imagine 5 different experts are answering this question.\n",
        "They will brainstorm the answer step by step reasoning carefully and taking all facts into consideration\n",
        "All experts will write down 1 step of their thinking,\n",
        "then share it with the group.\n",
        "They will each critique their response, and the all the responses of others\n",
        "They will check their answer based on science and the laws of physics\n",
        "They will keep going through steps until they reach their conclusion taking into account the thoughts of the other experts\n",
        "If at any time they realise that there is a flaw in their logic they will backtrack to where that flaw occurred\n",
        "If any expert realises they're wrong at any point then they acknowledges this and start another train of thought\n",
        "Each expert will assign a likelihood of their current assertion being correct\n",
        "Continue until the experts agree on the single most likely location\n",
        "The question is.\n",
        "1. Carlos is at the swimming pool.\n",
        "2. He walks to the locker room, carrying a towel.\n",
        "3. He puts his watch in the towel and carries the towel tightly to a lounger at the poolside.\n",
        "4. At the lounger he opens and vigorously shakes the towel, then walks to the snack bar.\n",
        "5. He leaves the towel at the snack bar, then walks to the diving board.\n",
        "6. Later Carlos realises he has has lost his watch. Where is the single most likely location of the watch?\n",
        "\"\"\"\n",
        "\n",
        "\n",
        "ans=generate_response(prompt)\n",
        "\n",
        "print(ans)"
      ]
    },
    {
      "cell_type": "code",
      "execution_count": 29,
      "metadata": {
        "colab": {
          "base_uri": "https://localhost:8080/"
        },
        "id": "ltjr2yv4ixSe",
        "outputId": "16ecf323-c4b3-4d50-ed01-f74c44ea783f"
      },
      "outputs": [
        {
          "name": "stdout",
          "output_type": "stream",
          "text": [
            "Let's imagine the five loan officers—Officer A, Officer B, Officer C, Officer D, and Officer E—reviewing John Doe's loan application step by step.\n",
            "\n",
            "### Step 1: Initial Observations\n",
            "\n",
            "**Officer A:**  \n",
            "**Observation:** John has a credit score of 720, which is considered good and indicates a history of responsible credit use.  \n",
            "**Critique:** This is a strong point in favor of the application, as a higher credit score typically correlates with lower risk. However, we need to consider other factors like income and debt obligations.\n",
            "\n",
            "**Officer B:**  \n",
            "**Observation:** John’s annual income is $75,000, which is reasonable for a loan amount of $50,000.  \n",
            "**Critique:** While the income is adequate, we need to assess his existing debt obligations to determine his debt-to-income (DTI) ratio, which is crucial for understanding his ability to repay the loan.\n",
            "\n",
            "**Officer C:**  \n",
            "**Observation:** The application states that John has no late payments in the last 3 years.  \n",
            "**Critique:** This is a positive indicator of his payment behavior. However, we should also look at the total amount of existing debt to get a complete picture of his financial health.\n",
            "\n",
            "**Officer D:**  \n",
            "**Observation:** We need to know the purpose of the loan. Understanding whether it’s for a necessary expense or a luxury can impact risk assessment.  \n",
            "**Critique:** The purpose of the loan can influence the likelihood of repayment. If it’s for a high-risk investment, that could change our assessment.\n",
            "\n",
            "**Officer E:**  \n",
            "**Observation:** We need to consider John’s employment status and duration. This information is crucial for assessing job stability.  \n",
            "**Critique:** Employment stability is a key factor in risk assessment. If he is self-employed or has a short employment duration, it could increase risk.\n",
            "\n",
            "### Step 2: Gathering Additional Information\n",
            "\n",
            "After discussing their initial observations, the loan officers realize they need more information about John’s existing debt obligations and employment status.\n",
            "\n",
            "**Officer A:**  \n",
            "**New Observation:** If John has significant existing debt, it could affect his DTI ratio and overall risk.  \n",
            "**Likelihood:** Medium Risk (pending more information).\n",
            "\n",
            "**Officer B:**  \n",
            "**New Observation:** If John has a stable job with a long duration, it would support his ability to repay the loan.  \n",
            "**Likelihood:** Medium Risk (pending more information).\n",
            "\n",
            "**Officer C:**  \n",
            "**New Observation:** We should also consider any assets he may have, as they can provide a safety net for repayment.  \n",
            "**Likelihood:** Medium Risk (pending more information).\n",
            "\n",
            "**Officer D:**  \n",
            "**New Observation:** The purpose of the loan should be clarified to assess the risk associated with the intended use of funds.  \n",
            "**Likelihood:** Medium Risk (pending more information).\n",
            "\n",
            "**Officer E:**  \n",
            "**New Observation:** If John has been employed for a long time in a stable job, it would lower the risk profile.  \n",
            "**Likelihood:** Medium Risk (pending more information).\n",
            "\n",
            "### Step 3: Conclusion Based on Additional Information\n",
            "\n",
            "Assuming they gather the following additional information:\n",
            "- **Existing Debt Obligations:** $15,000 in credit card debt.\n",
            "- **Employment Status:** Full-time, employed for 5 years at the same company.\n",
            "- **Assets:** $20,000 in savings.\n",
            "- **Purpose of Loan:** Home improvement.\n",
            "\n",
            "**Officer A:**  \n",
            "**Revised Observation:** With a DTI ratio of approximately 20% (considering $15,000 debt against $75,000 income), John is in a good position to take on additional debt.  \n",
            "**Likelihood:** Low Risk.\n",
            "\n",
            "**Officer B:**  \n",
            "**Revised Observation:** His stable employment for 5 years adds to his reliability as a borrower.  \n",
            "**Likelihood:** Low Risk.\n",
            "\n",
            "**Officer C:**  \n",
            "**Revised Observation:** The $20,000 in savings provides a cushion for unexpected expenses, further reducing risk.  \n",
            "**Likelihood:** Low Risk.\n",
            "\n",
            "**Officer D:**  \n",
            "**Revised Observation:** The purpose of the loan for home improvement is generally a responsible use of funds, which can increase property value.  \n",
            "**Likelihood:** Low Risk.\n",
            "\n",
            "**Officer E:**  \n",
            "**Revised Observation:** All factors considered, John’s profile shows he is a low-risk borrower.  \n",
            "**Likelihood:** Low Risk.\n",
            "\n",
            "### Final Consensus\n",
            "\n",
            "After reviewing all observations and critiques, the loan officers reach a consensus. Given John Doe's good credit score, stable income, low DTI ratio, stable employment, sufficient assets, and responsible loan purpose, they agree that the loan application should be:\n",
            "\n",
            "**Outcome:** **Approve** the loan application.\n"
          ]
        }
      ],
      "source": [
        "\n",
        "# ToT Prompt for Loan Application Approval\n",
        "\n",
        "prompt = \"\"\"\n",
        "Imagine 5 different loan officers are reviewing a customer's loan application.\n",
        "They will brainstorm the decision step by step, reasoning carefully and taking all facts into consideration from the application.\n",
        "Each loan officer will write down 1 key observation or analysis step from the application data,\n",
        "then share it with the group.\n",
        "They will each critique their response, and all the responses of others based on standard lending practices and risk assessment criteria.\n",
        "They will check their analysis against established bank policies and economic indicators.\n",
        "They will keep going through steps until they reach their conclusion on whether to approve or reject the loan, taking into account the observations and critiques of the other loan officers.\n",
        "If at any time they realize there is a flaw in their analysis or a crucial piece of information is overlooked, they will backtrack to where that flaw occurred.\n",
        "If any loan officer realizes their assessment is weak or incorrect at any point, they acknowledge this and start another train of thought, focusing on different aspects of the application.\n",
        "Each loan officer will assign a likelihood (e.g., High Risk, Medium Risk, Low Risk) based on their current assertion about the application's overall risk profile.\n",
        "Continue until the loan officers agree on the single most likely outcome (Approve or Reject) based on a consensus risk assessment.\n",
        "\n",
        "The customer's loan application details are as follows:\n",
        "\n",
        "Customer Name: [Customer Name]\n",
        "Loan Amount Requested: [Amount]\n",
        "Loan Type: [e.g., Personal Loan, Mortgage]\n",
        "Annual Income: [Income]\n",
        "Credit Score: [Score]\n",
        "Employment Status: [e.g., Full-time, Self-employed]\n",
        "Employment Duration: [Duration]\n",
        "Existing Debt Obligations: [List or summary]\n",
        "Assets: [List or summary]\n",
        "Purpose of Loan: [Purpose]\n",
        "Payment History: [Summary of past credit behavior]\n",
        "\n",
        "Based on these details, where is the single most likely outcome of the loan application (Approve or Reject)?\n",
        "\"\"\"\n",
        "\n",
        "# Replace bracketed information with actual application details\n",
        "customer_details_prompt = prompt.replace(\"[Customer Name]\", \"John Doe\") \\\n",
        "                               .replace(\"[Amount]\", \"$50,000\") \\\n",
        "                               .replace(\"[Loan Type]\", \"Personal Loan\") \\\n",
        "                               .replace(\"[Income]\", \"$75,000\") \\\n",
        "                               .replace(\"[Score]\", \"720\") \\\n",
        "                               .replace(\"[Employment Status]\", \"Full-time\") \\\n",
        "                               .replace(\"[Employment Duration]\", \"5 years\") \\\n",
        "                               .replace(\"[Existing Debt Obligations]\", \"Credit card balance: $5,000, Auto loan payment: $400/month\") \\\n",
        "                               .replace(\"[Assets]\", \"Savings account: $20,000, Car value: $15,000\") \\\n",
        "                               .replace(\"[Purpose of Loan]\", \"Home renovation\") \\\n",
        "                               .replace(\"[Summary of past credit behavior]\", \"No late payments in the last 3 years\")\n",
        "\n",
        "ans = generate_response(customer_details_prompt)\n",
        "\n",
        "print(ans)\n"
      ]
    },
    {
      "cell_type": "code",
      "execution_count": 30,
      "metadata": {
        "colab": {
          "base_uri": "https://localhost:8080/"
        },
        "id": "H2vh3_-Af-gp",
        "outputId": "c99b90a8-3cdc-42e8-fd60-34978cbbbb29"
      },
      "outputs": [
        {
          "name": "stdout",
          "output_type": "stream",
          "text": [
            "### Step 1: Supply Chain Finance Expert\n",
            "\n",
            "**Proposal:** Implement a dynamic discounting program that allows the manufacturing company to offer early payment discounts to suppliers in exchange for faster payment. This program would be facilitated through a digital platform that automates the discount calculations and payment processes.\n",
            "\n",
            "**Rationale:** By offering early payment discounts, the manufacturing company can reduce its working capital strain while providing suppliers with the option to receive payments sooner. This can help strengthen supplier relationships and improve the overall supply chain efficiency.\n",
            "\n",
            "**Likelihood of Success:** 75%\n",
            "\n",
            "---\n",
            "\n",
            "### Step 2: Risk Management Expert\n",
            "\n",
            "**Critique of Step 1:** The dynamic discounting program is a solid idea, but we need to consider the risk of suppliers not taking the discount due to their own cash flow issues. Additionally, we should assess the credit risk of suppliers to ensure that the bank is not exposed to defaults.\n",
            "\n",
            "**New Proposal:** Incorporate a risk assessment framework that evaluates the creditworthiness of suppliers. This framework can be used to determine which suppliers are eligible for the dynamic discounting program and to set appropriate discount rates based on their risk profiles.\n",
            "\n",
            "**Likelihood of Success:** 70%\n",
            "\n",
            "---\n",
            "\n",
            "### Step 3: Data Science Expert\n",
            "\n",
            "**Critique of Step 2:** The risk assessment framework is essential, but we should also leverage data analytics to optimize the discount rates and payment terms dynamically. By analyzing historical payment behaviors and cash flow patterns, we can create predictive models that suggest the best discount rates for each supplier.\n",
            "\n",
            "**New Proposal:** Develop a machine learning model that analyzes supplier data and predicts the likelihood of early payment acceptance based on various factors, such as supplier size, industry, and historical payment behavior. This model can help tailor the discount offerings to maximize participation.\n",
            "\n",
            "**Likelihood of Success:** 80%\n",
            "\n",
            "---\n",
            "\n",
            "### Step 4: Operations Expert\n",
            "\n",
            "**Critique of Step 3:** The machine learning model is a great addition, but we need to ensure that the operational processes are in place to support the implementation of this solution. This includes integrating the model with the existing ERP systems of the manufacturing company and ensuring that suppliers can easily access the discount program.\n",
            "\n",
            "**New Proposal:** Create a user-friendly digital platform that integrates with the manufacturing company’s ERP system and allows suppliers to view their payment options, including early payment discounts. The platform should also provide real-time analytics to suppliers about their cash flow and payment status.\n",
            "\n",
            "**Likelihood of Success:** 85%\n",
            "\n",
            "---\n",
            "\n",
            "### Step 5: Customer Relationship Management Expert\n",
            "\n",
            "**Critique of Step 4:** The digital platform is crucial for supplier engagement, but we must also consider how to communicate the benefits of this program to both the manufacturing company and its suppliers. Effective communication will be key to ensuring buy-in from all parties.\n",
            "\n",
            "**New Proposal:** Develop a comprehensive communication strategy that includes training sessions for suppliers on how to use the platform, as well as marketing materials that highlight the benefits of early payment discounts. Additionally, we should establish a feedback loop to continuously improve the program based on supplier input.\n",
            "\n",
            "**Likelihood of Success:** 90%\n",
            "\n",
            "---\n",
            "\n",
            "### Step 6: Integration of Ideas\n",
            "\n",
            "**Discussion:** Each expert's proposal builds on the previous one, creating a comprehensive SCF solution. The dynamic discounting program, supported by risk assessment, data analytics, operational integration, and effective communication, addresses the working capital needs of the manufacturing company and its suppliers.\n",
            "\n",
            "**Final Proposal:** \n",
            "1. **Dynamic Discounting Program:** Implement a program that offers early payment discounts to suppliers.\n",
            "2. **Risk Assessment Framework:** Evaluate supplier creditworthiness to tailor discount rates.\n",
            "3. **Predictive Analytics Model:** Use machine learning to optimize discount offerings based on supplier data.\n",
            "4. **Digital Platform:** Create an integrated platform for easy access to payment options and real-time analytics.\n",
            "5. **Communication Strategy:** Develop a strategy to engage suppliers and ensure understanding of the program.\n",
            "\n",
            "**Likelihood of Success:** 85% (considering the integration of all elements and the potential for supplier engagement)\n",
            "\n",
            "---\n",
            "\n",
            "### Conclusion\n",
            "\n",
            "The experts agree that this integrated SCF solution effectively addresses the working capital challenges faced by the manufacturing company while providing value to suppliers and creating a new revenue stream for the bank. The next steps would involve pilot testing the program with a select group of suppliers and refining the approach based on feedback and performance metrics.\n"
          ]
        }
      ],
      "source": [
        "# ToT Prompt for Enterprise Banking Scenario: Supply Chain Finance Optimization\n",
        "\n",
        "prompt = \"\"\"\n",
        "Imagine 5 different experts in Supply Chain Finance, Risk Management, Data Science, Operations, and Customer Relationship Management are collaborating to address the following challenge:\n",
        "\n",
        "A large manufacturing company, a client of your bank, is experiencing significant working capital strain due to long payment terms with their suppliers (averaging 90 days)\n",
        "and relatively short payment terms from their buyers (averaging 45 days).\n",
        "This creates a cash flow gap that they currently bridge using expensive short-term loans from other institutions.\n",
        "\n",
        "Your bank wants to propose a comprehensive Supply Chain Finance (SCF) solution that benefits both the manufacturing company (the buyer) and their key suppliers,\n",
        " increases the bank's revenue through new products, and strengthens the overall client relationship.\n",
        " The goal is not just to offer a standard factoring or reverse factoring product, but to design an integrated, optimized solution leveraging data and\n",
        " potentially incorporating risk mitigation strategies for the bank.\n",
        "\n",
        "The experts will brainstorm the design of this SCF solution step by step, reasoning carefully and taking all relevant factors into consideration for the buyer,\n",
        "their suppliers, and the bank.\n",
        "\n",
        "All experts will write down 1 step of their thinking related to designing this optimized SCF solution, then share it with the group.\n",
        "They will each critique their response, and all the responses of others.\n",
        "They will consider the perspectives and constraints of the buyer (manufacturing company), their diverse set of suppliers (ranging from large corporations to small businesses), and the bank (risk appetite, operational capacity, revenue goals).\n",
        "They will keep going through steps until they reach a well-defined and compelling SCF solution proposal, taking into account the thoughts of the other experts.\n",
        "If at any time they realize that there is a flaw in their logic or a critical aspect is missed, they will backtrack to where that flaw occurred.\n",
        "If any expert realizes they're wrong at any point, they acknowledge this and start another train of thought.\n",
        "Each expert will assign a likelihood of their current proposed element of the solution being successful or viable.\n",
        "\n",
        "Continue until the experts agree on the single most effective and viable integrated SCF solution proposal that addresses the working capital needs of the buyer and their suppliers while creating a valuable new revenue stream and strengthening the relationship for the bank.\n",
        "\n",
        "The challenge is:\n",
        "Design an optimized and integrated Supply Chain Finance solution for a large manufacturing client facing a working capital gap due to mismatched payment terms, considering the needs of their suppliers and the bank's objectives.\n",
        "\"\"\"\n",
        "\n",
        "ans = generate_response(prompt)\n",
        "print(ans)\n"
      ]
    },
    {
      "cell_type": "markdown",
      "metadata": {
        "id": "jEUSbUTejH1L"
      },
      "source": [
        "## Chain-of-Verification (CoVe) Prompting\n",
        "\n",
        "**Description:** Chain-of-Verification (CoVe) is a prompting technique designed to improve the factual accuracy of Large Language Models (LLMs) by explicitly prompting the model to generate a draft response, then generate verification questions for its own response, answer those questions independently of the initial draft, and finally use the answers to revise and improve the original draft. This creates a self-correction mechanism.\n",
        "\n",
        "**Application Areas:** Tasks requiring high factual accuracy and reduced hallucination, such as question answering, summarization of factual information, and generating reports or summaries based on provided text. It is particularly useful when dealing with complex or potentially ambiguous information where the model might otherwise confidently generate incorrect details.\n",
        "\n",
        "**When to Use:**\n",
        "- When factual accuracy is critical and errors could be harmful or misleading.\n",
        "- To reduce hallucinations and improve the reliability of the model's output.\n",
        "- When verifying information against external sources is not immediately feasible or desired within the prompting process itself.\n",
        "- For generating summaries or answers that require synthesizing information from multiple potential points within the model's knowledge or context.\n",
        "\n",
        "**How it Works:**\n",
        "1. **Generate Initial Draft:** The model first generates a direct answer or response to the original prompt.\n",
        "2. **Generate Verification Questions:** The model is then prompted to generate questions that would help verify the correctness of the statements made in the initial draft.\n",
        "3. **Answer Verification Questions:** The model answers these verification questions *independently* of the initial draft, drawing from its internal knowledge or provided context. This step is crucial as it prevents the model from simply confirming its own potential errors.\n",
        "4. **Revise Initial Draft:** The model compares the answers to the verification questions with the original draft and revises the draft to align with the verified information.\n",
        "\n",
        "This iterative process helps the model identify inconsistencies or inaccuracies in its initial output and correct them before presenting the final response.\n",
        "\n",
        "**Example (Conceptual):**\n",
        "\n",
        "Prompt: \"Explain the process of photosynthesis and its main outputs.\"\n",
        "\n",
        "1.  **Initial Draft (Internal):** \"Photosynthesis is how plants make food. They use sunlight, water, and carbon dioxide. The main output is oxygen and sugar.\" (Might contain slight inaccuracies or missing details).\n",
        "2.  **Generate Verification Questions (Internal):**\n",
        "    *   \"What are the inputs of photosynthesis?\"\n",
        "    *   \"What are the outputs of photosynthesis?\"\n",
        "    *   \"What is the role of chlorophyll?\"\n",
        "    *   \"Where does photosynthesis primarily occur in a plant?\"\n",
        "3.  **Answer Verification Questions (Internal, independently):**\n",
        "    *   \"Inputs are carbon dioxide, water, and light energy.\"\n",
        "    *   \"Outputs are glucose (a sugar) and oxygen.\"\n",
        "    *   \"Chlorophyll is a pigment that absorbs light energy.\"\n",
        "    *   \"It occurs mainly in chloroplasts within plant cells.\"\n",
        "4.  **Revise Initial Draft (Internal, based on verified answers):** \"Photosynthesis is the process by which green plants and some other organisms use sunlight to synthesize foods with the help of chlorophyll. During photosynthesis, plants take in carbon dioxide from the air, water from the soil, and light energy from the sun. Using the energy absorbed by chlorophyll in their chloroplasts, they convert these inputs into glucose, a sugar they use for energy and growth, and oxygen, which is released as a byproduct.\"\n",
        "\n",
        "The final output presented to the user would be the revised draft. While the user doesn't see the intermediate steps, the process happens internally within the model's processing based on the CoVe prompt structure.\n"
      ]
    },
    {
      "cell_type": "code",
      "execution_count": 31,
      "metadata": {
        "colab": {
          "base_uri": "https://localhost:8080/"
        },
        "id": "u9mjZtAJfDdm",
        "outputId": "2d9cccbe-3492-4cb9-ac00-e6769418bc88"
      },
      "outputs": [
        {
          "name": "stdout",
          "output_type": "stream",
          "text": [
            "**Initial Response:**\n",
            "Some athletes who were born in the United States include:\n",
            "1. Michael Jordan (Basketball)\n",
            "2. Serena Williams (Tennis)\n",
            "3. Tom Brady (American Football)\n",
            "4. Simone Biles (Gymnastics)\n",
            "5. LeBron James (Basketball)\n",
            "\n",
            "**Verification Questions:**\n",
            "1. **Was Michael Jordan born in the United States?**\n",
            "   - Yes, Michael Jordan was born in Brooklyn, New York, USA.\n",
            "\n",
            "2. **Was Serena Williams born in the United States?**\n",
            "   - Yes, Serena Williams was born in Saginaw, Michigan, USA.\n",
            "\n",
            "3. **Was Tom Brady born in the United States?**\n",
            "   - Yes, Tom Brady was born in San Mateo, California, USA.\n",
            "\n",
            "4. **Was Simone Biles born in the United States?**\n",
            "   - Yes, Simone Biles was born in Columbus, Ohio, USA.\n",
            "\n",
            "5. **Was LeBron James born in the United States?**\n",
            "   - Yes, LeBron James was born in Akron, Ohio, USA.\n",
            "\n",
            "**Final Verified Response:**\n",
            "Some athletes who were born in the United States include:\n",
            "1. Michael Jordan (Basketball) - Born in Brooklyn, New York\n",
            "2. Serena Williams (Tennis) - Born in Saginaw, Michigan\n",
            "3. Tom Brady (American Football) - Born in San Mateo, California\n",
            "4. Simone Biles (Gymnastics) - Born in Columbus, Ohio\n",
            "5. LeBron James (Basketball) - Born in Akron, Ohio\n",
            "\n",
            "This final response accurately reflects the verification process, confirming that all listed athletes were indeed born in the United States.\n"
          ]
        }
      ],
      "source": [
        "Question=\"Name some athletes who were born in United states\"\n",
        "\n",
        "prompt=f'''Here is the question: {Question}.\n",
        "\n",
        "First, generate a response.\n",
        "\n",
        "Then, create and answer verification questions based on this response to check for accuracy.\n",
        "Think it through and make sure you are extremely accurate based on the question asked.\n",
        "\n",
        "After answering each verification question, consider these answers and revise the initial response to formulate a final, verified answer.\n",
        "Ensure the final response reflects the accuracy and findings from the verification process.'''\n",
        "\n",
        "\n",
        "\n",
        "ans=generate_response(prompt)\n",
        "\n",
        "print(ans)\n"
      ]
    },
    {
      "cell_type": "code",
      "execution_count": 32,
      "metadata": {
        "colab": {
          "base_uri": "https://localhost:8080/"
        },
        "id": "z-AcZ3o3jinD",
        "outputId": "6faef050-a3d9-4957-d881-5a5d141e13f8"
      },
      "outputs": [
        {
          "name": "stdout",
          "output_type": "stream",
          "text": [
            "### Initial Assessment of the Trade Request\n",
            "\n",
            "**Trade Details:**\n",
            "- **Underlying Asset:** EUR/USD currency pair\n",
            "- **Notional Value:** $100,000,000\n",
            "- **Tenor:** 2 years\n",
            "- **Trade Type:** FX Forward\n",
            "- **Client:** [Client Name], Credit Rating: [Rating]\n",
            "- **Purpose:** Hedging foreign exchange exposure\n",
            "\n",
            "**Potential Benefits:**\n",
            "1. **Hedging:** The primary purpose of the trade is to hedge foreign exchange exposure, which can stabilize cash flows and protect against adverse currency movements.\n",
            "2. **Market Positioning:** If the client anticipates a depreciation of the USD against the EUR, this trade could be beneficial in locking in favorable rates.\n",
            "3. **Liquidity Management:** The trade can help manage liquidity needs by providing certainty around future cash flows.\n",
            "\n",
            "**Immediate Red Flags:**\n",
            "1. **Credit Risk:** The size of the notional value ($100,000,000) raises concerns about counterparty credit risk, especially if the client has a lower credit rating.\n",
            "2. **Regulatory Compliance:** The trade must comply with relevant regulations (Dodd-Frank, EMIR) regarding reporting and clearing requirements for derivatives.\n",
            "3. **Market Conditions:** The pricing of the FX forward must reflect current market conditions and volatility; any discrepancies could indicate potential issues.\n",
            "4. **Internal Risk Limits:** The trade must be assessed against the bank's internal risk limits for foreign exchange exposure and counterparty risk.\n",
            "\n",
            "### Verification Questions and Answers\n",
            "\n",
            "1. **Is the counterparty's credit risk within acceptable limits for a trade of this size and tenor?**\n",
            "   - **Answer:** Review the client's credit rating and risk profile. If the client has a low credit rating (e.g., below investment grade), the trade may exceed acceptable risk limits. A thorough credit assessment should be conducted, including potential collateral requirements.\n",
            "\n",
            "2. **Does this trade comply with all relevant regulatory requirements for derivative transactions?**\n",
            "   - **Answer:** Confirm that the trade is reported to the appropriate trade repositories and that it meets clearing requirements under Dodd-Frank and EMIR. If the notional exceeds certain thresholds, it may require central clearing.\n",
            "\n",
            "3. **Does the pricing of this derivative accurately reflect current market conditions and volatility?**\n",
            "   - **Answer:** Analyze the current market rates for the EUR/USD pair and compare them with the proposed pricing of the FX forward. Ensure that the pricing incorporates current volatility and market expectations.\n",
            "\n",
            "4. **How does this trade impact the bank's overall exposure to the underlying asset?**\n",
            "   - **Answer:** Assess the bank's existing exposure to the EUR/USD pair. If the bank already has significant exposure, this trade could exacerbate risk. A comprehensive risk assessment should be conducted to evaluate the overall impact.\n",
            "\n",
            "5. **Are the operational processes and systems in place to handle the settlement and ongoing management of this specific derivative type?**\n",
            "   - **Answer:** Verify that the bank has the necessary operational infrastructure to manage FX forwards, including settlement processes, margining, and monitoring of the trade throughout its lifecycle.\n",
            "\n",
            "6. **Has the client undergone the necessary suitability and appropriateness checks for complex products like this?**\n",
            "   - **Answer:** Ensure that the client has been assessed for suitability regarding their understanding of FX forwards and their financial capacity to engage in such trades. Documentation of this assessment should be reviewed.\n",
            "\n",
            "### Final Assessment\n",
            "\n",
            "Based on the verification process, the following conclusions can be drawn:\n",
            "\n",
            "- **Credit Risk:** If the client's credit rating is low, additional measures such as collateralization may be necessary to mitigate risk.\n",
            "- **Regulatory Compliance:** If the trade meets all regulatory requirements, it can proceed; otherwise, adjustments must be made.\n",
            "- **Market Pricing:** If the pricing is aligned with market conditions, the trade is viable; if not, renegotiation may be required.\n",
            "- **Overall Exposure:** If the trade increases the bank's exposure beyond acceptable limits, it may need to be reconsidered or adjusted.\n",
            "- **Operational Readiness:** If operational processes are in place, the trade can be executed; if not, further preparations are needed.\n",
            "- **Client Suitability:** If the client has passed suitability checks, the trade can proceed; if not, further discussions are warranted.\n",
            "\n",
            "### Final Decision\n",
            "\n",
            "**Proceed with the Trade:**\n",
            "- **Conditions:** \n",
            "  - Ensure that the client provides adequate collateral to mitigate credit risk.\n",
            "  - Confirm that all regulatory reporting and clearing requirements are met.\n",
            "  - Monitor the trade closely for market conditions and adjust as necessary.\n",
            "  - Maintain ongoing communication with the client regarding their exposure and risk management strategies.\n",
            "\n",
            "This comprehensive analysis aligns with the bank's risk appetite and policies, ensuring that the trade is executed with appropriate safeguards in place.\n"
          ]
        }
      ],
      "source": [
        "prompt = \"\"\"\n",
        "In an enterprise banking context, a customer is requesting a complex derivative trade.\n",
        "This involves intricate details regarding the underlying asset, notional value, tenor, strike price, option type (if applicable),\n",
        "counterparty credit risk, regulatory compliance, and internal risk limits.\n",
        "\n",
        "The task is to assess the viability and risks of this specific derivative trade request for the bank.\n",
        "\n",
        "First, generate an initial assessment of the trade request, including potential benefits and immediate red flags based on standard derivative trading practices\n",
        "and market knowledge.\n",
        "\n",
        "Then, create and answer a series of verification questions specifically tailored to validate the critical details and associated risks mentioned in the initial assessment.\n",
        " Think through each question carefully, drawing upon knowledge of financial instruments, risk management frameworks, regulatory requirements (e.g., Dodd-Frank, EMIR),\n",
        " and internal banking policies.\n",
        "\n",
        "Examples of potential verification questions:\n",
        "- Is the counterparty's credit risk within acceptable limits for a trade of this size and tenor?\n",
        "- Does this trade comply with all relevant regulatory requirements for derivative transactions?\n",
        "- Does the pricing of this derivative accurately reflect current market conditions and volatility?\n",
        "- How does this trade impact the bank's overall exposure to the underlying asset?\n",
        "- Are the operational processes and systems in place to handle the settlement and ongoing management of this specific derivative type?\n",
        "- Has the client undergone the necessary suitability and appropriateness checks for complex products like this?\n",
        "\n",
        "After answering each verification question independently, consider these answers and revise the initial assessment to formulate a final,\n",
        " verified decision on whether to proceed with the trade, including any necessary conditions or risk mitigation steps.\n",
        " Ensure the final response is a comprehensive analysis reflecting the accuracy and findings from the verification process and aligns with the bank's risk appetite and policies.\n",
        "\n",
        "The customer's derivative trade request details are:\n",
        "[Provide specific details of the trade request here, e.g.,\n",
        "Underlying Asset: EUR/USD currency pair\n",
        "Notional Value: $100,000,000\n",
        "Tenor: 2 years\n",
        "Trade Type: FX Forward\n",
        "Client: [Client Name], Credit Rating: [Rating]\n",
        "Purpose: Hedging foreign exchange exposure]\n",
        "\"\"\"\n",
        "\n",
        "# Replace bracketed information with actual trade request details\n",
        "trade_details_prompt = prompt.replace(\"[Provide specific details of the trade request here...]\",\n",
        "                                       \"\"\"Underlying Asset: Interest Rate Swap (Fixed-to-Floating USD)\n",
        "Notional Value: $250,000,000\n",
        "Tenor: 5 years\n",
        "Trade Type: Receive Fixed, Pay Floating\n",
        "Client: [Client Name], Credit Rating: AA-\n",
        "Purpose: Hedge against rising interest rates on existing floating-rate debt\"\"\")\n",
        "\n",
        "ans = generate_response(trade_details_prompt)\n",
        "print(ans)\n"
      ]
    },
    {
      "cell_type": "markdown",
      "metadata": {
        "id": "YHcwBHMjkb5r"
      },
      "source": [
        "## ReAct Prompting\n",
        "**Description:** ReAct (Reasoning and Acting) prompting is a technique that combines reasoning trace generation with task-specific actions. It encourages the model to interleave thinking steps (Reasoning) with taking actions (Acting) through tools or interacting with an environment. The model observes the outcomes of its actions and uses this information to refine its subsequent reasoning and actions. This allows the model to perform tasks that require interacting with external sources of information or performing physical (or simulated physical) actions.\n",
        "\n",
        "**Application Areas:** Tasks that require external knowledge lookup, interacting with APIs or tools, complex decision-making, and environments where actions have observable consequences. Examples include answering questions that require searching the web, using a calculator for complex math, interacting with a simulated game environment, or completing tasks that involve multiple external steps.\n",
        "\n",
        "**When to Use:**\n",
        "- When the task requires up-to-date information not present in the model's training data.\n",
        "- When the task involves complex calculations or operations that the model is not inherently good at performing reliably.\n",
        "- When the task requires interacting with external systems or data sources.\n",
        "- To enable the model to break down a complex task into smaller, executable steps based on external feedback.\n",
        "\n",
        "**How it Works (Simulated in a Prompt):** In a prompt, ReAct is simulated by guiding the model to explicitly state its \"Thought\" process (reasoning about the next step or action) and its \"Action\" (the action it would take or the tool it would use), followed by an \"Observation\" (the simulated result of the action). The model then uses the Observation to inform its next Thought and Action.\n"
      ]
    },
    {
      "cell_type": "code",
      "execution_count": 33,
      "metadata": {
        "colab": {
          "base_uri": "https://localhost:8080/"
        },
        "id": "jak5rQ_ekwj6",
        "outputId": "ed7662df-1050-4480-a005-fdad4b0ce7c0"
      },
      "outputs": [
        {
          "name": "stdout",
          "output_type": "stream",
          "text": [
            "Thought: To answer the question about the current population of Tokyo, I need to find the most recent population statistics. Tokyo is a large metropolitan area, and its population can vary depending on whether I'm looking for the population of the city proper or the greater metropolitan area. I should clarify which population figure is being requested and check reliable sources for the latest data.\n",
            "\n",
            "Action: I will search for the latest population statistics for Tokyo from reputable sources such as government databases, demographic reports, or recent news articles.\n",
            "\n",
            "Observation: I find that the population of Tokyo, specifically the Tokyo Metropolis (Tokyo-to), is approximately 14 million people. However, the Greater Tokyo Area, which includes surrounding prefectures, has a population of about 37 million people.\n",
            "\n",
            "Thought: I have found the population figures for both the Tokyo Metropolis and the Greater Tokyo Area. Since the question does not specify, I should mention both figures to provide a comprehensive answer.\n",
            "\n",
            "Final Answer: The current population of Tokyo Metropolis is approximately 14 million people, while the Greater Tokyo Area has a population of about 37 million people.\n"
          ]
        }
      ],
      "source": [
        "prompt = \"\"\"\n",
        "You are a helpful assistant that can answer questions by first thinking step-by-step about the question, then deciding on an action (like searching or using a tool),\n",
        "observing the result of the action, and then repeating the process until you can formulate a final answer.\n",
        "\n",
        "Your process should follow this format:\n",
        "\n",
        "Thought: Think step-by-step about the question and what information you need to answer it.\n",
        "Action: [Describe the action you would take or tool you would use]\n",
        "Observation: [Simulate the result of the action]\n",
        "... (Repeat Thought, Action, Observation until you have enough information)\n",
        "Thought: Now that I have the necessary information, I can formulate the final answer.\n",
        "Final Answer: [Provide the final answer]\n",
        "\n",
        "Here is the question: What is the current population of Tokyo?\n",
        "\n",
        "\"\"\"\n",
        "\n",
        "ans = generate_response(prompt)\n",
        "print(ans)\n"
      ]
    },
    {
      "cell_type": "code",
      "execution_count": 34,
      "metadata": {
        "colab": {
          "base_uri": "https://localhost:8080/"
        },
        "id": "xr_yEd3Wjw6Y",
        "outputId": "4ab8810f-449d-4834-f0d2-b6e062da8066"
      },
      "outputs": [
        {
          "name": "stdout",
          "output_type": "stream",
          "text": [
            "**Thought:** To assess if Company X's stock is overvalued, I will first need to find its current stock price and earnings per share (EPS) to calculate its price-to-earnings (P/E) ratio. \n",
            "\n",
            "**Action:** I will look up Company X's current stock price and its EPS. For example, let's say Company X's stock price is $150 and its EPS is $5.00.\n",
            "\n",
            "**Observation:** Company X Stock Price: $150, EPS: $5.00\n",
            "\n",
            "**Thought:** Now that I have the stock price and EPS, I can calculate Company X's P/E ratio.\n",
            "\n",
            "**Action:** The P/E ratio is calculated by dividing the stock price by the EPS. So, I will perform the calculation: \n",
            "\n",
            "P/E Ratio = Stock Price / EPS = $150 / $5.00\n",
            "\n",
            "**Observation:** Company X P/E Ratio: 30x\n",
            "\n",
            "**Thought:** Next, I need to find the industry average P/E ratio for the technology sector to compare it with Company X's P/E ratio.\n",
            "\n",
            "**Action:** I will research the current industry average P/E ratio for the technology sector. Let's assume the industry average P/E ratio is 25x.\n",
            "\n",
            "**Observation:** Industry Average P/E Ratio (Technology): 25x\n",
            "\n",
            "**Thought:** Now, I will compare Company X's P/E ratio of 30x to the industry average P/E ratio of 25x to determine if it is overvalued.\n",
            "\n",
            "**Action:** Since Company X's P/E ratio (30x) is higher than the industry average (25x), this suggests that the stock may be overvalued relative to its peers.\n",
            "\n",
            "**Observation:** Company X's P/E ratio is 30x, which is greater than the industry average of 25x, indicating potential overvaluation.\n",
            "\n",
            "**Thought:** Based on the comparison of the P/E ratios, I can formulate a final assessment regarding the valuation of Company X's stock.\n",
            "\n",
            "**Final Answer:** Company X's stock appears to be overvalued, as its P/E ratio of 30x exceeds the industry average of 25x.\n"
          ]
        }
      ],
      "source": [
        "\n",
        "prompt = \"\"\"\n",
        "You are an expert financial analyst assistant. You need to determine if a company's stock is overvalued based on its current P/E ratio compared to the industry average.\n",
        "\n",
        "Follow the ReAct process:\n",
        "\n",
        "Thought: Think step-by-step about how to assess if the stock is overvalued based on the P/E ratio.\n",
        "Action: [Describe the action to find the company's current stock price and EPS to calculate its P/E ratio]\n",
        "Observation: [Simulate the result, e.g., \"Company X Stock Price: $150, EPS: $5.00\"]\n",
        "Thought: Calculate the company's P/E ratio.\n",
        "Action: [Describe the calculation: Stock Price / EPS]\n",
        "Observation: [Simulate the result, e.g., \"Company X P/E Ratio: 30x\"]\n",
        "Thought: Find the industry average P/E ratio for comparison.\n",
        "Action: [Describe the action to find the industry average P/E ratio for the relevant sector (e.g., Technology)]\n",
        "Observation: [Simulate the result, e.g., \"Industry Average P/E Ratio (Technology): 25x\"]\n",
        "Thought: Compare the company's P/E ratio to the industry average and determine if it is overvalued.\n",
        "Action: [Describe the comparison and decision process]\n",
        "Observation: [Simulate the result of the comparison]\n",
        "Thought: Formulate the final assessment.\n",
        "Final Answer: [Provide the final assessment based on the P/E comparison]\n",
        "\n",
        "Here is the company: Company X (Technology Sector)\n",
        "\"\"\"\n",
        "\n",
        "ans = generate_response(prompt)\n",
        "print(ans)"
      ]
    },
    {
      "cell_type": "markdown",
      "metadata": {
        "id": "U-DmK07y94x8"
      },
      "source": [
        "## Conversational App"
      ]
    },
    {
      "cell_type": "code",
      "execution_count": 35,
      "metadata": {
        "id": "Lap6MZ-ARdKd"
      },
      "outputs": [],
      "source": [
        "# creating a function to get outcome\n",
        "def generate_response(messages,model='gpt-4o'):\n",
        "  response = client.chat.completions.create(\n",
        "      model = model,\n",
        "      messages = messages,\n",
        "      temperature=0.5\n",
        "  )\n",
        "  return response.choices[0].message.content\n"
      ]
    },
    {
      "cell_type": "code",
      "execution_count": 36,
      "metadata": {
        "colab": {
          "base_uri": "https://localhost:8080/"
        },
        "id": "zgHXbLb0bhxA",
        "outputId": "d3a1a50a-fcc8-4b12-a37b-54ab5d07aaf4"
      },
      "outputs": [
        {
          "name": "stdout",
          "output_type": "stream",
          "text": [
            "You:  exit\n"
          ]
        }
      ],
      "source": [
        "messages = [{\"role\":\"system\",\"content\":\"You are a helpful assistant\"},]\n",
        "while True:\n",
        "    uinput = input(\"You: \")\n",
        "    print(\"You: \",uinput)\n",
        "    if uinput.lower() in ['q','quit','exit']:\n",
        "        break\n",
        "    messages.append({\"role\":\"user\",\"content\":uinput})\n",
        "    response = generate_response(messages=messages)\n",
        "    print(f\"Bot: {response}\")\n",
        "    messages.append({\"role\":\"assistant\",\"content\":response})\n"
      ]
    },
    {
      "cell_type": "code",
      "execution_count": 37,
      "metadata": {
        "colab": {
          "base_uri": "https://localhost:8080/"
        },
        "id": "5CkR8go1aWeW",
        "outputId": "468e83a9-05ff-4552-8e17-b2ff3c5b1889"
      },
      "outputs": [
        {
          "data": {
            "text/plain": [
              "[{'role': 'system', 'content': 'You are a helpful assistant'}]"
            ]
          },
          "execution_count": 37,
          "metadata": {},
          "output_type": "execute_result"
        }
      ],
      "source": [
        "messages"
      ]
    },
    {
      "cell_type": "code",
      "execution_count": null,
      "metadata": {
        "id": "ZLeNuP-yaWeX"
      },
      "outputs": [],
      "source": []
    },
    {
      "cell_type": "markdown",
      "metadata": {
        "id": "3WErsqIf94x9"
      },
      "source": [
        "## Thank You"
      ]
    },
    {
      "cell_type": "code",
      "execution_count": null,
      "metadata": {
        "id": "ZoaLQdSYaWeY"
      },
      "outputs": [],
      "source": []
    },
    {
      "cell_type": "code",
      "execution_count": null,
      "metadata": {
        "id": "ksqyGiZbaWeZ"
      },
      "outputs": [],
      "source": []
    }
  ],
  "metadata": {
    "colab": {
      "include_colab_link": true,
      "provenance": []
    },
    "kernelspec": {
      "display_name": "base",
      "language": "python",
      "name": "python3"
    },
    "language_info": {
      "codemirror_mode": {
        "name": "ipython",
        "version": 3
      },
      "file_extension": ".py",
      "mimetype": "text/x-python",
      "name": "python",
      "nbconvert_exporter": "python",
      "pygments_lexer": "ipython3",
      "version": "3.10.9"
    }
  },
  "nbformat": 4,
  "nbformat_minor": 0
}
