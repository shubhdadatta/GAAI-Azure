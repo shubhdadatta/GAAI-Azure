{
  "cells": [
    {
      "cell_type": "markdown",
      "metadata": {
        "id": "SpVgBlJNayoI"
      },
      "source": [
        "# Assignment 3: Agentic RAG System with Azure OpenAI, Pinecone & LangGraph"
      ]
    },
    {
      "cell_type": "markdown",
      "metadata": {},
      "source": [
        "#### Author: Shubhda Datta\n",
        "#### Python: 3.12"
      ]
    },
    {
      "cell_type": "code",
      "execution_count": 104,
      "metadata": {
        "colab": {
          "base_uri": "https://localhost:8080/"
        },
        "id": "28d272cd-4e31-40aa-bbb4-0be0a1f49a14",
        "outputId": "9732f606-6c04-4ad7-e0e6-b4d644fa5aa4"
      },
      "outputs": [],
      "source": [
        "# !python -m pip install langchain-community langchainhub langchain-chroma langchain langchain-experimental --quiet\n",
        "# !python -m pip install langchain_openai azure-ai-inference azure-core azure-identity langgraph --quiet\n",
        "# !python -m pip install pypdf faiss-cpu --quiet\n",
        "# !python -m pip install pinecone --quiet\n",
        "# !python -m pip install --upgrade packaging\n",
        "# !python -m pip install mlflow --quiet\n"
      ]
    },
    {
      "cell_type": "code",
      "execution_count": 105,
      "metadata": {},
      "outputs": [],
      "source": [
        "#!python -m pip install --upgrade pip --quiet"
      ]
    },
    {
      "cell_type": "markdown",
      "metadata": {},
      "source": [
        "### Step 1: Library imports and log setup"
      ]
    },
    {
      "cell_type": "code",
      "execution_count": 106,
      "metadata": {},
      "outputs": [],
      "source": [
        "import os,json, time\n",
        "import mlflow\n",
        "import pandas as pd\n",
        "import logging\n",
        "from typing import Dict, Any, List, Tuple, Optional\n",
        "import pinecone\n",
        "from tqdm import tqdm\n",
        "import textwrap\n",
        "\n",
        "from langchain_openai import AzureOpenAIEmbeddings, AzureChatOpenAI\n",
        "from langchain.prompts import PromptTemplate\n",
        "from langchain.chains import LLMChain\n",
        "from langchain_community.vectorstores import Chroma\n",
        "\n",
        "from azure.ai.inference import EmbeddingsClient, ChatCompletionsClient\n",
        "from azure.core.credentials import AzureKeyCredential\n",
        "from langgraph.graph import StateGraph, END\n",
        "from pydantic import BaseModel\n"
      ]
    },
    {
      "cell_type": "markdown",
      "metadata": {},
      "source": [
        "### Logging Setup\n"
      ]
    },
    {
      "cell_type": "code",
      "execution_count": 107,
      "metadata": {},
      "outputs": [],
      "source": [
        "\n",
        "logging.basicConfig(\n",
        "    level=logging.INFO,\n",
        "    format=\"%(asctime)s | %(levelname)s | %(message)s\",\n",
        "    handlers=[logging.StreamHandler()]\n",
        ")\n",
        "logger = logging.getLogger(__name__)\n"
      ]
    },
    {
      "cell_type": "markdown",
      "metadata": {},
      "source": [
        "### Step 2: Initialize Embedding and llm Model"
      ]
    },
    {
      "cell_type": "code",
      "execution_count": 108,
      "metadata": {},
      "outputs": [],
      "source": [
        "\n",
        "embedding_model_name = \"text-embedding-3-small\"\n",
        "llm_model_name = \"gpt4o\""
      ]
    },
    {
      "cell_type": "code",
      "execution_count": 109,
      "metadata": {},
      "outputs": [],
      "source": [
        "\n",
        "def init_openai_clients() -> Tuple[AzureOpenAIEmbeddings, AzureChatOpenAI]:\n",
        "    \"\"\"Initialize Azure OpenAI embeddings and chat models.\"\"\"\n",
        "    api_key = os.getenv(\"AZURE_OPENAI_API_KEY\")\n",
        "    endpoint = os.getenv(\"AZURE_OPENAI_ENDPOINT\")\n",
        "    version = os.getenv(\"AZURE_OPENAI_API_VERSION\")\n",
        "\n",
        "    if not api_key or not endpoint:\n",
        "        raise EnvironmentError(\"Azure OpenAI credentials are not set.\")\n",
        "\n",
        "    embeddings = AzureOpenAIEmbeddings(\n",
        "    model=embedding_model_name,\n",
        "    azure_endpoint=os.environ[\"AZURE_OPENAI_ENDPOINT\"],\n",
        "    api_version=os.environ.get(\"AZURE_OPENAI_API_VERSION\", \"2024-02-01\"),\n",
        "    )\n",
        "\n",
        "    llm = AzureChatOpenAI(\n",
        "        model=llm_model_name,\n",
        "        azure_endpoint=os.environ[\"AZURE_OPENAI_ENDPOINT\"],\n",
        "        api_version=os.environ.get(\"AZURE_OPENAI_API_VERSION\", \"2024-02-01\"),\n",
        "        temperature=0\n",
        "    )\n",
        "    return embeddings, llm"
      ]
    },
    {
      "cell_type": "code",
      "execution_count": 110,
      "metadata": {},
      "outputs": [],
      "source": [
        "embeddings, llm=init_openai_clients()"
      ]
    },
    {
      "cell_type": "code",
      "execution_count": 111,
      "metadata": {},
      "outputs": [
        {
          "data": {
            "text/plain": [
              "AzureOpenAIEmbeddings(client=<openai.resources.embeddings.Embeddings object at 0x71bf74717380>, async_client=<openai.resources.embeddings.AsyncEmbeddings object at 0x71bf743bcf20>, model='text-embedding-3-small', dimensions=None, deployment=None, openai_api_version='2024-08-01-preview', openai_api_base=None, openai_api_type='azure', openai_proxy=None, embedding_ctx_length=8191, openai_api_key=SecretStr('**********'), openai_organization=None, allowed_special=None, disallowed_special=None, chunk_size=2048, max_retries=2, request_timeout=None, headers=None, tiktoken_enabled=True, tiktoken_model_name=None, show_progress_bar=False, model_kwargs={}, skip_empty=False, default_headers=None, default_query=None, retry_min_seconds=4, retry_max_seconds=20, http_client=None, http_async_client=None, check_embedding_ctx_length=True, azure_endpoint='https://eastus.api.cognitive.microsoft.com/', azure_ad_token=None, azure_ad_token_provider=None, azure_ad_async_token_provider=None, validate_base_url=True)"
            ]
          },
          "execution_count": 111,
          "metadata": {},
          "output_type": "execute_result"
        }
      ],
      "source": [
        "embeddings"
      ]
    },
    {
      "cell_type": "code",
      "execution_count": 112,
      "metadata": {},
      "outputs": [
        {
          "data": {
            "text/plain": [
              "AzureChatOpenAI(client=<openai.resources.chat.completions.completions.Completions object at 0x71bf774da1e0>, async_client=<openai.resources.chat.completions.completions.AsyncCompletions object at 0x71bf74716ed0>, root_client=<openai.lib.azure.AzureOpenAI object at 0x71bf743bff80>, root_async_client=<openai.lib.azure.AsyncAzureOpenAI object at 0x71bf74248f50>, model_name='gpt4o', temperature=0.0, model_kwargs={}, openai_api_key=SecretStr('**********'), disabled_params={'parallel_tool_calls': None}, azure_endpoint='https://eastus.api.cognitive.microsoft.com/', openai_api_version='2024-08-01-preview', openai_api_type='azure')"
            ]
          },
          "execution_count": 112,
          "metadata": {},
          "output_type": "execute_result"
        }
      ],
      "source": [
        "llm"
      ]
    },
    {
      "cell_type": "markdown",
      "metadata": {},
      "source": [
        "### Step 3: Load environment variables"
      ]
    },
    {
      "cell_type": "code",
      "execution_count": 113,
      "metadata": {},
      "outputs": [
        {
          "data": {
            "text/plain": [
              "True"
            ]
          },
          "execution_count": 113,
          "metadata": {},
          "output_type": "execute_result"
        }
      ],
      "source": [
        "from dotenv import load_dotenv\n",
        "load_dotenv()"
      ]
    },
    {
      "cell_type": "code",
      "execution_count": 114,
      "metadata": {},
      "outputs": [],
      "source": [
        "AZURE_EMBEDDING_DEPLOYMENT = embedding_model_name\n",
        "AZURE_CHAT_DEPLOYMENT = llm_model_name\n",
        "AZURE_API_KEY = os.getenv(\"AZURE_API_KEY\")\n",
        "AZURE_ENDPOINT = os.getenv(\"AZURE_ENDPOINT\")\n",
        "\n",
        "PINECONE_API_KEY = os.getenv(\"PINECONE_API_KEY\")\n",
        "PINECONE_ENV = os.getenv(\"PINECONE_ENV\")\n",
        "INDEX_NAME = \"agentic-rag\"\n",
        "\n",
        "DATA_FILE ='self_critique_loop_dataset.json'\n",
        "BATCH_SIZE = 25  # Batch size for embedding & upsert"
      ]
    },
    {
      "cell_type": "code",
      "execution_count": 115,
      "metadata": {},
      "outputs": [
        {
          "data": {
            "text/plain": [
              "'self_critique_loop_dataset.json'"
            ]
          },
          "execution_count": 115,
          "metadata": {},
          "output_type": "execute_result"
        }
      ],
      "source": [
        "DATA_FILE"
      ]
    },
    {
      "cell_type": "markdown",
      "metadata": {},
      "source": [
        "### Step 4: Initialize Pinecone and Index KB into Pinecone\n",
        "\n",
        "Load KB JSON (~30 entries) and store vectors into Pinecone using Azure embeddings.  \n",
        "Each document is stored with metadata including `question`, `answer_snippet`, `source`, and `last_updated`.\n"
      ]
    },
    {
      "cell_type": "code",
      "execution_count": 116,
      "metadata": {},
      "outputs": [],
      "source": [
        "# 🔹 Initialize Pinecone and Create index with matching dimensions as of Azure Embedding Model 1536\n",
        "\n",
        "\n",
        "from pinecone import Pinecone, ServerlessSpec\n",
        "pc = Pinecone(api_key=os.getenv(\"PINECONE_API_KEY\"))\n",
        "\n",
        "index_name = \"agentic-rag\"\n",
        "\n",
        "# Delete if exists\n",
        "if index_name in [idx.name for idx in pc.list_indexes()]:\n",
        "    pc.delete_index(index_name)\n",
        "\n",
        "# Create with correct dimension\n",
        "pc.create_index(\n",
        "    name=index_name,\n",
        "    dimension=1536,   # must match Azure embedding model\n",
        "    metric=\"cosine\",\n",
        "    spec=ServerlessSpec(cloud=\"aws\", region=\"us-east-1\")\n",
        ")\n",
        "index = pc.Index(\"agentic-rag\")\n"
      ]
    },
    {
      "cell_type": "code",
      "execution_count": 87,
      "metadata": {},
      "outputs": [
        {
          "data": {
            "text/plain": [
              "<pinecone.pinecone.Pinecone at 0x71bf7435a5a0>"
            ]
          },
          "execution_count": 87,
          "metadata": {},
          "output_type": "execute_result"
        }
      ],
      "source": [
        "pc"
      ]
    },
    {
      "cell_type": "code",
      "execution_count": 88,
      "metadata": {},
      "outputs": [
        {
          "data": {
            "text/plain": [
              "<pinecone.db_data.index.Index at 0x71bf745da360>"
            ]
          },
          "execution_count": 88,
          "metadata": {},
          "output_type": "execute_result"
        }
      ],
      "source": [
        "index"
      ]
    },
    {
      "cell_type": "code",
      "execution_count": 117,
      "metadata": {},
      "outputs": [
        {
          "name": "stderr",
          "output_type": "stream",
          "text": [
            "2025-10-05 12:36:35,774 | INFO | Loaded 30 KB entries from self_critique_loop_dataset.json\n",
            "Indexing KB:   0%|          | 0/2 [00:00<?, ?it/s]2025-10-05 12:36:36,947 | INFO | HTTP Request: POST https://eastus.api.cognitive.microsoft.com/openai/deployments/text-embedding-3-small/embeddings?api-version=2024-08-01-preview \"HTTP/1.1 200 OK\"\n",
            "Indexing KB:  50%|█████     | 1/2 [00:04<00:04,  4.88s/it]2025-10-05 12:36:41,359 | INFO | HTTP Request: POST https://eastus.api.cognitive.microsoft.com/openai/deployments/text-embedding-3-small/embeddings?api-version=2024-08-01-preview \"HTTP/1.1 200 OK\"\n",
            "Indexing KB: 100%|██████████| 2/2 [00:05<00:00,  2.98s/it]\n",
            "2025-10-05 12:36:41,744 | INFO | KB indexing complete.\n"
          ]
        }
      ],
      "source": [
        "def index_kb():\n",
        "    \"\"\"\n",
        "    Load KB JSON and index into Pinecone.\n",
        "    Uses batch embedding and upsert for efficiency.\n",
        "    Logs progress and handles errors gracefully.\n",
        "    \"\"\"\n",
        "    try:\n",
        "        with open(DATA_FILE, \"r\", encoding=\"utf-8\") as f:\n",
        "            kb_data = json.load(f)\n",
        "        logger.info(f\"Loaded {len(kb_data)} KB entries from {DATA_FILE}\")\n",
        "    except Exception as e:\n",
        "        logger.error(f\"Failed to load KB JSON: {e}\")\n",
        "        return\n",
        "\n",
        "    docs_to_index = []\n",
        "    # Prepare documents\n",
        "    for entry in kb_data:\n",
        "        doc_id = entry.get(\"doc_id\")\n",
        "        question = entry.get(\"question\", \"\")\n",
        "        answer = entry.get(\"answer_snippet\", \"\")\n",
        "        if not doc_id or not question or not answer:\n",
        "            logger.warning(f\"Skipping incomplete entry: {entry}\")\n",
        "            continue\n",
        "\n",
        "        doc_text = f\"Q: {question} A: {answer}\"\n",
        "        docs_to_index.append({\n",
        "            \"id\": doc_id,\n",
        "            \"text\": doc_text,\n",
        "            \"metadata\": {\n",
        "                \"question\": question,\n",
        "                \"answer_snippet\": answer,\n",
        "                \"source\": entry.get(\"source\", \"\"),\n",
        "                \"confidence\": entry.get(\"confidence_indicator\", \"unknown\"),\n",
        "                \"last_updated\": entry.get(\"last_updated\", \"\")\n",
        "            }\n",
        "        })\n",
        "\n",
        "    # Batch embedding & upsert\n",
        "    for i in tqdm(range(0, len(docs_to_index), BATCH_SIZE), desc=\"Indexing KB\"):\n",
        "        batch = docs_to_index[i:i+BATCH_SIZE]\n",
        "        texts = [doc[\"text\"] for doc in batch]\n",
        "        try:\n",
        "            vectors = embeddings.embed_documents(texts)  # document embeddings for KB\n",
        "        except Exception as e:\n",
        "            logger.error(f\"Embedding failed for batch {i}-{i+len(batch)}: {e}\")\n",
        "            continue\n",
        "\n",
        "        to_upsert = []\n",
        "        for doc, vec in zip(batch, vectors):\n",
        "            if not vec:\n",
        "                logger.warning(f\"Empty embedding for doc_id {doc['id']}, skipping\")\n",
        "                continue\n",
        "            to_upsert.append((doc[\"id\"], vec, doc[\"metadata\"]))\n",
        "\n",
        "        if to_upsert:\n",
        "            try:\n",
        "                index.upsert(to_upsert)\n",
        "            except Exception as e:\n",
        "                logger.error(f\"Pinecone upsert failed for batch {i}-{i+len(batch)}: {e}\")\n",
        "\n",
        "    logger.info(\"KB indexing complete.\")\n",
        "index_kb()\n",
        "    "
      ]
    },
    {
      "cell_type": "markdown",
      "metadata": {},
      "source": [
        "#### Retrieving sample query data from pinecone vector DB"
      ]
    },
    {
      "cell_type": "code",
      "execution_count": 118,
      "metadata": {},
      "outputs": [
        {
          "name": "stderr",
          "output_type": "stream",
          "text": [
            "2025-10-05 12:36:55,219 | INFO | HTTP Request: POST https://eastus.api.cognitive.microsoft.com/openai/deployments/text-embedding-3-small/embeddings?api-version=2024-08-01-preview \"HTTP/1.1 200 OK\"\n"
          ]
        },
        {
          "data": {
            "text/plain": [
              "{'matches': [{'id': 'KB023',\n",
              "              'metadata': {'answer_snippet': \"When addressing caching, it's \"\n",
              "                                             'important to follow well-defined '\n",
              "                                             'patterns...',\n",
              "                           'confidence': 'moderate',\n",
              "                           'last_updated': '2024-05-10',\n",
              "                           'question': 'What are best practices for caching?',\n",
              "                           'source': 'caching_guide.md'},\n",
              "              'score': 0.833298683,\n",
              "              'values': []},\n",
              "             {'id': 'KB003',\n",
              "              'metadata': {'answer_snippet': \"When addressing caching, it's \"\n",
              "                                             'important to follow well-defined '\n",
              "                                             'patterns...',\n",
              "                           'confidence': 'moderate',\n",
              "                           'last_updated': '2024-03-10',\n",
              "                           'question': 'What are best practices for caching?',\n",
              "                           'source': 'caching_guide.md'},\n",
              "              'score': 0.833298683,\n",
              "              'values': []},\n",
              "             {'id': 'KB013',\n",
              "              'metadata': {'answer_snippet': \"When addressing caching, it's \"\n",
              "                                             'important to follow well-defined '\n",
              "                                             'patterns...',\n",
              "                           'confidence': 'moderate',\n",
              "                           'last_updated': '2024-01-10',\n",
              "                           'question': 'What are best practices for caching?',\n",
              "                           'source': 'caching_guide.md'},\n",
              "              'score': 0.833298683,\n",
              "              'values': []},\n",
              "             {'id': 'KB002',\n",
              "              'metadata': {'answer_snippet': 'When addressing performance '\n",
              "                                             \"tuning, it's important to follow \"\n",
              "                                             'well-defined patterns...',\n",
              "                           'confidence': 'moderate',\n",
              "                           'last_updated': '2024-02-10',\n",
              "                           'question': 'What are best practices for '\n",
              "                                       'performance tuning?',\n",
              "                           'source': 'performance tuning_guide.md'},\n",
              "              'score': 0.535193443,\n",
              "              'values': []},\n",
              "             {'id': 'KB012',\n",
              "              'metadata': {'answer_snippet': 'When addressing performance '\n",
              "                                             \"tuning, it's important to follow \"\n",
              "                                             'well-defined patterns...',\n",
              "                           'confidence': 'moderate',\n",
              "                           'last_updated': '2024-06-10',\n",
              "                           'question': 'What are best practices for '\n",
              "                                       'performance tuning?',\n",
              "                           'source': 'performance tuning_guide.md'},\n",
              "              'score': 0.535193443,\n",
              "              'values': []}],\n",
              " 'namespace': '',\n",
              " 'usage': {'read_units': 1}}"
            ]
          },
          "execution_count": 118,
          "metadata": {},
          "output_type": "execute_result"
        }
      ],
      "source": [
        "query = \"What are best practices for caching?\"\n",
        "query_vector = embeddings.embed_query(query)\n",
        "query_res = index.query(\n",
        "    vector=query_vector,\n",
        "    top_k=5,\n",
        "    include_metadata=True\n",
        ")\n",
        "query_res"
      ]
    },
    {
      "cell_type": "markdown",
      "metadata": {},
      "source": [
        "### Step 5: Define Utility Function for Retrieval\n",
        "\n",
        "Query Pinecone and return **top-k distinct results**, avoiding duplicates based on text content.\n"
      ]
    },
    {
      "cell_type": "code",
      "execution_count": 119,
      "metadata": {},
      "outputs": [],
      "source": [
        "def query_distinct_text(index, embeddings, query, top_k=5, normalize=True):\n",
        "    \"\"\"\n",
        "    Query a Pinecone index and return up to `top_k` distinct KB snippets \n",
        "    based on 'answer_snippet' text, keeping all metadata and score.\n",
        "    Ensures at least 1 snippet is returned even if all results are duplicates.\n",
        "    \"\"\"\n",
        "    # Step 1: Create query embedding\n",
        "    try:\n",
        "        query_vector = embeddings.embed_query(query)\n",
        "    except Exception as e:\n",
        "        print(f\"❌ Error generating embedding: {e}\")\n",
        "        return []\n",
        "\n",
        "    # Step 2: Query Pinecone\n",
        "    try:\n",
        "        query_res = index.query(\n",
        "            vector=query_vector,\n",
        "            top_k=top_k,\n",
        "            include_metadata=True\n",
        "        )\n",
        "    except Exception as e:\n",
        "        print(f\"❌ Error querying index: {e}\")\n",
        "        return []\n",
        "\n",
        "    matches = query_res.get(\"matches\", [])\n",
        "    if not matches:\n",
        "        print(\"⚠️ No matches found.\")\n",
        "        return []\n",
        "\n",
        "    # Step 3: Deduplicate by 'answer_snippet'\n",
        "    distinct_results = []\n",
        "    seen_snippets = set()\n",
        "\n",
        "    for match in matches:\n",
        "        metadata = match.get(\"metadata\", {})\n",
        "        snippet_text = metadata.get(\"answer_snippet\", \"\")\n",
        "        if not snippet_text:\n",
        "            continue\n",
        "\n",
        "        key = snippet_text.strip()\n",
        "        if normalize:\n",
        "            key = \" \".join(key.lower().split())\n",
        "\n",
        "        if key not in seen_snippets:\n",
        "            seen_snippets.add(key)\n",
        "            result = {\n",
        "                \"id\": match.get(\"id\"),\n",
        "                \"score\": match.get(\"score\", 0.0),\n",
        "                \"metadata\": metadata\n",
        "            }\n",
        "            distinct_results.append(result)\n",
        "\n",
        "        # Stop once we have top_k distinct results\n",
        "        if len(distinct_results) >= top_k:\n",
        "            break\n",
        "\n",
        "    # Step 4: Ensure at least one snippet is returned\n",
        "    if not distinct_results and matches:\n",
        "        first = matches[0]\n",
        "        distinct_results = [{\n",
        "            \"id\": first.get(\"id\"),\n",
        "            \"score\": first.get(\"score\", 0.0),\n",
        "            \"metadata\": first.get(\"metadata\", {})\n",
        "        }]\n",
        "        print(\"⚠️ All results were duplicates — returning top 1 snippet.\")\n",
        "\n",
        "    return distinct_results\n"
      ]
    },
    {
      "cell_type": "markdown",
      "metadata": {},
      "source": [
        "#### Fetch some sample query response using function"
      ]
    },
    {
      "cell_type": "code",
      "execution_count": 92,
      "metadata": {},
      "outputs": [
        {
          "name": "stderr",
          "output_type": "stream",
          "text": [
            "2025-10-05 12:32:29,532 | INFO | HTTP Request: POST https://eastus.api.cognitive.microsoft.com/openai/deployments/text-embedding-3-small/embeddings?api-version=2024-08-01-preview \"HTTP/1.1 200 OK\"\n"
          ]
        },
        {
          "name": "stdout",
          "output_type": "stream",
          "text": [
            "⚠️ No matches found.\n"
          ]
        }
      ],
      "source": [
        "query = \"What are best practices for caching?\"\n",
        "\n",
        "results = query_distinct_text(index=index, embeddings=embeddings, query=query, top_k=5)\n",
        "\n",
        "for i, doc in enumerate(results, 1):\n",
        "    print(f\"\\nResult {i}:\")\n",
        "    print(f\"ID: {doc['id']}\")\n",
        "    print(f\"Score: {doc['score']:.4f}\")\n",
        "    print(\"Answer Snippet:\")\n",
        "    print(\"\\n\".join(textwrap.wrap(doc['metadata'].get('answer_snippet', ''), width=120)))\n",
        "\n"
      ]
    },
    {
      "cell_type": "code",
      "execution_count": 121,
      "metadata": {},
      "outputs": [
        {
          "name": "stderr",
          "output_type": "stream",
          "text": [
            "2025-10-05 12:37:12,271 | INFO | HTTP Request: POST https://eastus.api.cognitive.microsoft.com/openai/deployments/text-embedding-3-small/embeddings?api-version=2024-08-01-preview \"HTTP/1.1 200 OK\"\n"
          ]
        },
        {
          "name": "stdout",
          "output_type": "stream",
          "text": [
            "[{'id': 'KB017', 'score': 0.508544862, 'metadata': {'answer_snippet': \"When addressing CI/CD, it's important to follow well-defined patterns...\", 'confidence': 'moderate', 'last_updated': '2024-05-10', 'question': 'What are best practices for CI/CD?', 'source': 'CI/CD_guide.md'}}, {'id': 'KB023', 'score': 0.231082916, 'metadata': {'answer_snippet': \"When addressing caching, it's important to follow well-defined patterns...\", 'confidence': 'moderate', 'last_updated': '2024-05-10', 'question': 'What are best practices for caching?', 'source': 'caching_guide.md'}}]\n",
            "\n",
            "Result 1:\n",
            "ID: KB017\n",
            "Score: 0.5085\n",
            "Answer Snippet:\n",
            "When addressing CI/CD, it's important to follow well-defined patterns...\n",
            "\n",
            "Result 2:\n",
            "ID: KB023\n",
            "Score: 0.2311\n",
            "Answer Snippet:\n",
            "When addressing caching, it's important to follow well-defined patterns...\n"
          ]
        }
      ],
      "source": [
        "query = \"What is CICD?\"\n",
        "\n",
        "results = query_distinct_text(index=index, embeddings=embeddings, query=query, top_k=5)\n",
        "print(results)\n",
        "for i, doc in enumerate(results, 1):\n",
        "    print(f\"\\nResult {i}:\")\n",
        "    print(f\"ID: {doc['id']}\")\n",
        "    print(f\"Score: {doc['score']:.4f}\")\n",
        "    print(\"Answer Snippet:\")\n",
        "    print(\"\\n\".join(textwrap.wrap(doc['metadata'].get('answer_snippet', ''), width=120)))"
      ]
    },
    {
      "cell_type": "code",
      "execution_count": 120,
      "metadata": {},
      "outputs": [
        {
          "name": "stderr",
          "output_type": "stream",
          "text": [
            "2025-10-05 12:37:10,266 | INFO | HTTP Request: POST https://eastus.api.cognitive.microsoft.com/openai/deployments/text-embedding-3-small/embeddings?api-version=2024-08-01-preview \"HTTP/1.1 200 OK\"\n"
          ]
        },
        {
          "name": "stdout",
          "output_type": "stream",
          "text": [
            "\n",
            "Result 1:\n",
            "ID: KB017\n",
            "Score: 0.1317\n",
            "Answer Snippet:\n",
            "When addressing CI/CD, it's important to follow well-defined patterns...\n",
            "\n",
            "Result 2:\n",
            "ID: KB001\n",
            "Score: 0.1179\n",
            "Answer Snippet:\n",
            "When addressing debugging, it's important to follow well-defined patterns...\n"
          ]
        }
      ],
      "source": [
        "query = \"What is today's news?\"\n",
        "\n",
        "results = query_distinct_text(index=index, embeddings=embeddings, query=query, top_k=5)\n",
        "\n",
        "for i, doc in enumerate(results, 1):\n",
        "    print(f\"\\nResult {i}:\")\n",
        "    print(f\"ID: {doc['id']}\")\n",
        "    print(f\"Score: {doc['score']:.4f}\")\n",
        "    print(\"Answer Snippet:\")\n",
        "    print(\"\\n\".join(textwrap.wrap(doc['metadata'].get('answer_snippet', ''), width=120)))"
      ]
    },
    {
      "cell_type": "code",
      "execution_count": 122,
      "metadata": {},
      "outputs": [
        {
          "name": "stderr",
          "output_type": "stream",
          "text": [
            "2025-10-05 12:37:19,423 | INFO | HTTP Request: POST https://eastus.api.cognitive.microsoft.com/openai/deployments/text-embedding-3-small/embeddings?api-version=2024-08-01-preview \"HTTP/1.1 200 OK\"\n"
          ]
        },
        {
          "name": "stdout",
          "output_type": "stream",
          "text": [
            "When addressing CI/CD, it's important to follow well-defined patterns...\n"
          ]
        }
      ],
      "source": [
        "query = \"What do you know about CICD?\"\n",
        "query_vector = embeddings.embed_query(query)\n",
        "results = index.query(vector=query_vector, top_k=5, include_metadata=True)\n",
        "\n",
        "# Check if answer is reliable\n",
        "if not results['matches'] or max(r['score'] for r in results['matches']) < 0.50:\n",
        "    print(f\"Sorry, I don’t know the answer to that.\")\n",
        "\n",
        "# Otherwise, use the top match\n",
        "else:\n",
        "    answer = results['matches'][0]['metadata']['answer_snippet']\n",
        "    print(answer)\n"
      ]
    },
    {
      "cell_type": "markdown",
      "metadata": {},
      "source": [
        "### Step 6: Setup MLflow\n",
        "\n",
        "Set the MLflow tracking URI and if required create an experiment for logging workflow runs. You can change the mlflow tracking uri. In case running on localhost ensure you can set port 5000 via running this command on terminal\n",
        "'<mlflow ui --port 5000>'\n"
      ]
    },
    {
      "cell_type": "code",
      "execution_count": 96,
      "metadata": {},
      "outputs": [],
      "source": [
        "#mlflow.create_experiment(\"Agentic_RAG_Workflow\")"
      ]
    },
    {
      "cell_type": "code",
      "execution_count": 97,
      "metadata": {},
      "outputs": [
        {
          "name": "stdout",
          "output_type": "stream",
          "text": [
            "✅ MLflow setup complete. UI available at http://127.0.0.1:5000\n"
          ]
        }
      ],
      "source": [
        "\n",
        "def setup_mlflow():\n",
        "    mlflow.set_tracking_uri(\"http://127.0.0.1:5000\")\n",
        "    mlflow.set_experiment(\"Agentic_RAG_Workflow\")\n",
        "    print(\"✅ MLflow setup complete. UI available at http://127.0.0.1:5000\")\n",
        "\n",
        "setup_mlflow()"
      ]
    },
    {
      "cell_type": "markdown",
      "metadata": {},
      "source": [
        "### Step 7: Define RAG State and Workflow Nodes\n",
        "\n",
        "Use `Pydantic` for a structured state object that tracks the query, retrieved snippets, answers, critique flag, refined query, and final answer.\n",
        "\n",
        "1. **Retriever Node** → fetch top 5 snippets  \n",
        "2. **LLM Answer Node** → generate initial answer  \n",
        "3. **Critique Node** → decide COMPLETE or REFINE  \n",
        "4. **Refinement Node** → rewrite query, retrieve extra snippet, generate concise answer  \n"
      ]
    },
    {
      "cell_type": "code",
      "execution_count": 123,
      "metadata": {},
      "outputs": [],
      "source": [
        "\n",
        "class RAGState(BaseModel):\n",
        "    query: str\n",
        "    retrieved_snippets: List[Dict] = []\n",
        "    initial_answer: str = \"\"\n",
        "    critique_complete: bool = False\n",
        "    refined_query: str = \"\"\n",
        "    refined_answer: str = \"\"\n",
        "    final_answer: str = \"\"\n"
      ]
    },
    {
      "cell_type": "code",
      "execution_count": 124,
      "metadata": {},
      "outputs": [],
      "source": [
        "def retriever_node(state: RAGState) -> RAGState:\n",
        "    print(\"\\n=== NODE: Retriever ===\")\n",
        "    state.retrieved_snippets = query_distinct_text(index, embeddings, state.query, top_k=5)\n",
        "    # Display and log\n",
        "    print(\"Retrieved Snippets:\")\n",
        "    for i, doc in enumerate(state.retrieved_snippets, 1):\n",
        "        meta = doc[\"metadata\"]\n",
        "        print(f\"{i}. [{doc['id']}] (Score: {doc['score']:.4f}) {meta.get('answer_snippet', '')[:120]}...\")\n",
        "\n",
        "    print(\"Current State:\", state.model_dump())\n",
        "\n",
        "    # Log clean JSON to MLflow\n",
        "    mlflow.log_text(\n",
        "        json.dumps(state.retrieved_snippets, indent=2),\n",
        "        \"retrieved_snippets.json\"\n",
        "    )\n",
        "    \n",
        "    return state\n"
      ]
    },
    {
      "cell_type": "code",
      "execution_count": 125,
      "metadata": {},
      "outputs": [],
      "source": [
        "def llm_answer_node(state: RAGState) -> RAGState:\n",
        "    \"\"\"LLM Node: Generate answer using the retrieved KB snippet(s) as the authoritative answer.\"\"\"\n",
        "    print(\"\\n=== NODE: LLM Answer ===\")\n",
        "    try:\n",
        "        if not getattr(state, \"retrieved_snippets\", None):\n",
        "            print(\"⚠️ No snippets found — skipping LLM.\")\n",
        "            state.initial_answer = \"No relevant KB snippets found.\"\n",
        "            mlflow.log_text(state.initial_answer, \"initial_answer.txt\")\n",
        "            return state\n",
        "\n",
        "        # Combine all retrieved KB snippets\n",
        "        snippets_text = \"\\n\".join([\n",
        "            f\"[{r['id']}] {r['metadata'].get('answer_snippet','').strip()}\"\n",
        "            for r in state.retrieved_snippets\n",
        "        ])\n",
        "\n",
        "        # Prompt instructs the model that snippet is the answer\n",
        "        prompt = f\"\"\"\n",
        "You are a technical assistant. The retrieved KB snippet below contains the answer\n",
        "to the user question. Use the snippet exactly as the answer.\n",
        "Include the KB citation [KBxxx] in your response.\n",
        "\n",
        "Question:\n",
        "{state.query}\n",
        "\n",
        "KB Snippets:\n",
        "{snippets_text}\n",
        "\n",
        "Answer (use snippet content and cite [KBxxx]):\n",
        "\"\"\"\n",
        "\n",
        "        mlflow.log_text(prompt.strip(), \"llm_prompt.txt\")\n",
        "\n",
        "        messages = [\n",
        "            {\"role\": \"system\", \"content\": \"You are a precise assistant that answers using the KB snippet exactly.\"},\n",
        "            {\"role\": \"user\", \"content\": prompt.strip()}\n",
        "        ]\n",
        "\n",
        "        response = llm.invoke(messages)\n",
        "        answer_text = response.content.strip()\n",
        "\n",
        "        state.initial_answer = answer_text\n",
        "        mlflow.log_text(answer_text, \"initial_answer.txt\")\n",
        "\n",
        "        print(\"\\n🧩 LLM Answer (using snippet as ground truth):\")\n",
        "        print(answer_text)\n",
        "        print(\"Current State:\", state.model_dump())\n",
        "\n",
        "    except Exception as e:\n",
        "        err_msg = f\"❌ LLM Node Error: {str(e)}\"\n",
        "        print(err_msg)\n",
        "        mlflow.log_text(err_msg, \"llm_answer_error.txt\")\n",
        "\n",
        "    return state\n"
      ]
    },
    {
      "cell_type": "markdown",
      "metadata": {},
      "source": [
        "#### We can test the two nodes with sample queries to check the behaviour and output"
      ]
    },
    {
      "cell_type": "code",
      "execution_count": 126,
      "metadata": {},
      "outputs": [
        {
          "name": "stdout",
          "output_type": "stream",
          "text": [
            "\n",
            "=== NODE: Retriever ===\n"
          ]
        },
        {
          "name": "stderr",
          "output_type": "stream",
          "text": [
            "2025-10-05 12:37:43,173 | INFO | HTTP Request: POST https://eastus.api.cognitive.microsoft.com/openai/deployments/text-embedding-3-small/embeddings?api-version=2024-08-01-preview \"HTTP/1.1 200 OK\"\n"
          ]
        },
        {
          "name": "stdout",
          "output_type": "stream",
          "text": [
            "Retrieved Snippets:\n",
            "1. [KB015] (Score: 0.8501) When addressing API versioning, it's important to follow well-defined patterns......\n",
            "2. [KB017] (Score: 0.4546) When addressing CI/CD, it's important to follow well-defined patterns......\n",
            "Current State: {'query': 'What are best practices for API versioning?', 'retrieved_snippets': [{'id': 'KB015', 'score': 0.850071907, 'metadata': {'answer_snippet': \"When addressing API versioning, it's important to follow well-defined patterns...\", 'confidence': 'moderate', 'last_updated': '2024-03-10', 'question': 'What are best practices for API versioning?', 'source': 'API versioning_guide.md'}}, {'id': 'KB017', 'score': 0.454619348, 'metadata': {'answer_snippet': \"When addressing CI/CD, it's important to follow well-defined patterns...\", 'confidence': 'moderate', 'last_updated': '2024-05-10', 'question': 'What are best practices for CI/CD?', 'source': 'CI/CD_guide.md'}}], 'initial_answer': '', 'critique_complete': False, 'refined_query': '', 'refined_answer': '', 'final_answer': ''}\n",
            "\n",
            "=== NODE: LLM Answer ===\n"
          ]
        },
        {
          "name": "stderr",
          "output_type": "stream",
          "text": [
            "2025-10-05 12:37:45,194 | INFO | HTTP Request: POST https://eastus.api.cognitive.microsoft.com/openai/deployments/gpt4o/chat/completions?api-version=2024-08-01-preview \"HTTP/1.1 200 OK\"\n"
          ]
        },
        {
          "name": "stdout",
          "output_type": "stream",
          "text": [
            "\n",
            "🧩 LLM Answer (using snippet as ground truth):\n",
            "When addressing API versioning, it's important to follow well-defined patterns... [KB015]\n",
            "Current State: {'query': 'What are best practices for API versioning?', 'retrieved_snippets': [{'id': 'KB015', 'score': 0.850071907, 'metadata': {'answer_snippet': \"When addressing API versioning, it's important to follow well-defined patterns...\", 'confidence': 'moderate', 'last_updated': '2024-03-10', 'question': 'What are best practices for API versioning?', 'source': 'API versioning_guide.md'}}, {'id': 'KB017', 'score': 0.454619348, 'metadata': {'answer_snippet': \"When addressing CI/CD, it's important to follow well-defined patterns...\", 'confidence': 'moderate', 'last_updated': '2024-05-10', 'question': 'What are best practices for CI/CD?', 'source': 'CI/CD_guide.md'}}], 'initial_answer': \"When addressing API versioning, it's important to follow well-defined patterns... [KB015]\", 'critique_complete': False, 'refined_query': '', 'refined_answer': '', 'final_answer': ''}\n",
            "🏃 View run RAG_Test at: http://127.0.0.1:5000/#/experiments/662327622274311922/runs/da4cdb4279494a65bdd48de36647c926\n",
            "🧪 View experiment at: http://127.0.0.1:5000/#/experiments/662327622274311922\n",
            "\n",
            "Final Answer:\n",
            " When addressing API versioning, it's important to follow well-defined patterns... [KB015]\n"
          ]
        }
      ],
      "source": [
        "\n",
        "test_query = \"What are best practices for API versioning?\"\n",
        "\n",
        "with mlflow.start_run(run_name=f\"RAG_Test\"):\n",
        "\n",
        "    # Initialize RAG state\n",
        "    state = RAGState(query=test_query)\n",
        "\n",
        "    # Step 1: Retrieve KB snippets\n",
        "    state = retriever_node(state)\n",
        "\n",
        "    # Step 2: Generate LLM-based answer\n",
        "    state = llm_answer_node(state)\n",
        "\n",
        "print(\"\\nFinal Answer:\\n\", state.initial_answer)"
      ]
    },
    {
      "cell_type": "code",
      "execution_count": 127,
      "metadata": {},
      "outputs": [
        {
          "name": "stdout",
          "output_type": "stream",
          "text": [
            "\n",
            "=== NODE: Retriever ===\n"
          ]
        },
        {
          "name": "stderr",
          "output_type": "stream",
          "text": [
            "2025-10-05 12:37:53,647 | INFO | HTTP Request: POST https://eastus.api.cognitive.microsoft.com/openai/deployments/text-embedding-3-small/embeddings?api-version=2024-08-01-preview \"HTTP/1.1 200 OK\"\n"
          ]
        },
        {
          "name": "stdout",
          "output_type": "stream",
          "text": [
            "Retrieved Snippets:\n",
            "1. [KB023] (Score: 0.6008) When addressing caching, it's important to follow well-defined patterns......\n",
            "2. [KB002] (Score: 0.2522) When addressing performance tuning, it's important to follow well-defined patterns......\n",
            "Current State: {'query': 'What is caching?', 'retrieved_snippets': [{'id': 'KB023', 'score': 0.600841522, 'metadata': {'answer_snippet': \"When addressing caching, it's important to follow well-defined patterns...\", 'confidence': 'moderate', 'last_updated': '2024-05-10', 'question': 'What are best practices for caching?', 'source': 'caching_guide.md'}}, {'id': 'KB002', 'score': 0.252180099, 'metadata': {'answer_snippet': \"When addressing performance tuning, it's important to follow well-defined patterns...\", 'confidence': 'moderate', 'last_updated': '2024-02-10', 'question': 'What are best practices for performance tuning?', 'source': 'performance tuning_guide.md'}}], 'initial_answer': '', 'critique_complete': False, 'refined_query': '', 'refined_answer': '', 'final_answer': ''}\n",
            "\n",
            "=== NODE: LLM Answer ===\n"
          ]
        },
        {
          "name": "stderr",
          "output_type": "stream",
          "text": [
            "2025-10-05 12:37:55,628 | INFO | HTTP Request: POST https://eastus.api.cognitive.microsoft.com/openai/deployments/gpt4o/chat/completions?api-version=2024-08-01-preview \"HTTP/1.1 200 OK\"\n"
          ]
        },
        {
          "name": "stdout",
          "output_type": "stream",
          "text": [
            "\n",
            "🧩 LLM Answer (using snippet as ground truth):\n",
            "When addressing caching, it's important to follow well-defined patterns... [KB023]\n",
            "Current State: {'query': 'What is caching?', 'retrieved_snippets': [{'id': 'KB023', 'score': 0.600841522, 'metadata': {'answer_snippet': \"When addressing caching, it's important to follow well-defined patterns...\", 'confidence': 'moderate', 'last_updated': '2024-05-10', 'question': 'What are best practices for caching?', 'source': 'caching_guide.md'}}, {'id': 'KB002', 'score': 0.252180099, 'metadata': {'answer_snippet': \"When addressing performance tuning, it's important to follow well-defined patterns...\", 'confidence': 'moderate', 'last_updated': '2024-02-10', 'question': 'What are best practices for performance tuning?', 'source': 'performance tuning_guide.md'}}], 'initial_answer': \"When addressing caching, it's important to follow well-defined patterns... [KB023]\", 'critique_complete': False, 'refined_query': '', 'refined_answer': '', 'final_answer': ''}\n",
            "🏃 View run RAG_Test at: http://127.0.0.1:5000/#/experiments/662327622274311922/runs/1a9681a975d245818fad229c7452be56\n",
            "🧪 View experiment at: http://127.0.0.1:5000/#/experiments/662327622274311922\n",
            "\n",
            "Final Answer:\n",
            " When addressing caching, it's important to follow well-defined patterns... [KB023]\n"
          ]
        }
      ],
      "source": [
        "import datetime\n",
        "test_query = \"What is caching?\"\n",
        "\n",
        "with mlflow.start_run(run_name=f\"RAG_Test\"):\n",
        "\n",
        "    # Initialize RAG state\n",
        "    state = RAGState(query=test_query)\n",
        "\n",
        "    # Step 1: Retrieve KB snippets\n",
        "    state = retriever_node(state)\n",
        "\n",
        "    # Step 2: Generate LLM-based answer\n",
        "    state = llm_answer_node(state)\n",
        "\n",
        "print(\"\\nFinal Answer:\\n\", state.initial_answer)\n"
      ]
    },
    {
      "cell_type": "markdown",
      "metadata": {},
      "source": [
        "### Step 8: Add Critque Node to evaluate Answer\n",
        "Critique Node will use LLM to evaluate generated response against query and decide if answer generation is complete or needs refine."
      ]
    },
    {
      "cell_type": "code",
      "execution_count": 128,
      "metadata": {},
      "outputs": [],
      "source": [
        "def critique_node(state: RAGState) -> RAGState:\n",
        "    \"\"\"\n",
        "    Critique Node: Use LLM to evaluate whether the initial answer sufficiently\n",
        "    addresses the query. Sets state.critique_complete to True (COMPLETE) or False (REFINE).\n",
        "    \"\"\"\n",
        "    print(\"\\n=== NODE: Critique ===\")\n",
        "    \n",
        "    try:\n",
        "        if not getattr(state, \"initial_answer\", None):\n",
        "            print(\"⚠️ No answer found to critique. Marking as REFINE.\")\n",
        "            state.critique_complete = False\n",
        "            mlflow.log_param(\"critique_complete\", state.critique_complete)\n",
        "            return state\n",
        "\n",
        "        # Build prompt to evaluate completeness\n",
        "        prompt = f\"\"\"\n",
        "You are an assistant that evaluates answers. Determine whether the provided answer\n",
        "fully and correctly answers the question using the retrieved KB snippets.\n",
        "Respond with ONLY 'COMPLETE' or 'REFINE'.\n",
        "\n",
        "Question:\n",
        "{state.query}\n",
        "\n",
        "Answer to Evaluate:\n",
        "{state.initial_answer}\n",
        "\n",
        "Instruction:\n",
        "- If the answer addresses all aspects of the question using the KB, respond 'COMPLETE'.\n",
        "- If the answer is missing information or is too vague, respond 'REFINE'.\n",
        "\"\"\"\n",
        "\n",
        "        # Log prompt to MLflow\n",
        "        mlflow.log_text(prompt.strip(), \"critique_prompt.txt\")\n",
        "\n",
        "        # Call LLM to get critique\n",
        "        messages = [\n",
        "            {\"role\": \"system\", \"content\": \"You are an evaluator that judges completeness of answers.\"},\n",
        "            {\"role\": \"user\", \"content\": prompt.strip()}\n",
        "        ]\n",
        "\n",
        "        response = llm.invoke(messages)\n",
        "        critique_text = response.content.strip().upper()\n",
        "\n",
        "        # Set critique_complete flag\n",
        "        state.critique_complete = True if critique_text == \"COMPLETE\" else False\n",
        "\n",
        "        # Log state\n",
        "        print(\"Current State:\", state.model_dump())\n",
        "        print(\"Critique result:\", critique_text)\n",
        "        mlflow.log_param(\"critique_complete\", state.critique_complete)\n",
        "\n",
        "    except Exception as e:\n",
        "        err_msg = f\"❌ Critique Node Error: {str(e)}\"\n",
        "        print(err_msg)\n",
        "        mlflow.log_text(err_msg, \"critique_error.txt\")\n",
        "        state.critique_complete = False\n",
        "\n",
        "    return state\n"
      ]
    },
    {
      "cell_type": "markdown",
      "metadata": {},
      "source": [
        "#### We can test the three nodes for sample query"
      ]
    },
    {
      "cell_type": "code",
      "execution_count": 129,
      "metadata": {},
      "outputs": [
        {
          "name": "stdout",
          "output_type": "stream",
          "text": [
            "\n",
            "=== NODE: Retriever ===\n"
          ]
        },
        {
          "name": "stderr",
          "output_type": "stream",
          "text": [
            "2025-10-05 12:38:13,672 | INFO | HTTP Request: POST https://eastus.api.cognitive.microsoft.com/openai/deployments/text-embedding-3-small/embeddings?api-version=2024-08-01-preview \"HTTP/1.1 200 OK\"\n"
          ]
        },
        {
          "name": "stdout",
          "output_type": "stream",
          "text": [
            "Retrieved Snippets:\n",
            "1. [KB023] (Score: 0.6008) When addressing caching, it's important to follow well-defined patterns......\n",
            "2. [KB002] (Score: 0.2522) When addressing performance tuning, it's important to follow well-defined patterns......\n",
            "Current State: {'query': 'What is caching?', 'retrieved_snippets': [{'id': 'KB023', 'score': 0.600841522, 'metadata': {'answer_snippet': \"When addressing caching, it's important to follow well-defined patterns...\", 'confidence': 'moderate', 'last_updated': '2024-05-10', 'question': 'What are best practices for caching?', 'source': 'caching_guide.md'}}, {'id': 'KB002', 'score': 0.252180099, 'metadata': {'answer_snippet': \"When addressing performance tuning, it's important to follow well-defined patterns...\", 'confidence': 'moderate', 'last_updated': '2024-02-10', 'question': 'What are best practices for performance tuning?', 'source': 'performance tuning_guide.md'}}], 'initial_answer': '', 'critique_complete': False, 'refined_query': '', 'refined_answer': '', 'final_answer': ''}\n",
            "\n",
            "=== NODE: LLM Answer ===\n"
          ]
        },
        {
          "name": "stderr",
          "output_type": "stream",
          "text": [
            "2025-10-05 12:38:15,676 | INFO | HTTP Request: POST https://eastus.api.cognitive.microsoft.com/openai/deployments/gpt4o/chat/completions?api-version=2024-08-01-preview \"HTTP/1.1 200 OK\"\n"
          ]
        },
        {
          "name": "stdout",
          "output_type": "stream",
          "text": [
            "\n",
            "🧩 LLM Answer (using snippet as ground truth):\n",
            "When addressing caching, it's important to follow well-defined patterns... [KB023]\n",
            "Current State: {'query': 'What is caching?', 'retrieved_snippets': [{'id': 'KB023', 'score': 0.600841522, 'metadata': {'answer_snippet': \"When addressing caching, it's important to follow well-defined patterns...\", 'confidence': 'moderate', 'last_updated': '2024-05-10', 'question': 'What are best practices for caching?', 'source': 'caching_guide.md'}}, {'id': 'KB002', 'score': 0.252180099, 'metadata': {'answer_snippet': \"When addressing performance tuning, it's important to follow well-defined patterns...\", 'confidence': 'moderate', 'last_updated': '2024-02-10', 'question': 'What are best practices for performance tuning?', 'source': 'performance tuning_guide.md'}}], 'initial_answer': \"When addressing caching, it's important to follow well-defined patterns... [KB023]\", 'critique_complete': False, 'refined_query': '', 'refined_answer': '', 'final_answer': ''}\n",
            "\n",
            "=== NODE: Critique ===\n"
          ]
        },
        {
          "name": "stderr",
          "output_type": "stream",
          "text": [
            "2025-10-05 12:38:16,179 | INFO | HTTP Request: POST https://eastus.api.cognitive.microsoft.com/openai/deployments/gpt4o/chat/completions?api-version=2024-08-01-preview \"HTTP/1.1 200 OK\"\n"
          ]
        },
        {
          "name": "stdout",
          "output_type": "stream",
          "text": [
            "Current State: {'query': 'What is caching?', 'retrieved_snippets': [{'id': 'KB023', 'score': 0.600841522, 'metadata': {'answer_snippet': \"When addressing caching, it's important to follow well-defined patterns...\", 'confidence': 'moderate', 'last_updated': '2024-05-10', 'question': 'What are best practices for caching?', 'source': 'caching_guide.md'}}, {'id': 'KB002', 'score': 0.252180099, 'metadata': {'answer_snippet': \"When addressing performance tuning, it's important to follow well-defined patterns...\", 'confidence': 'moderate', 'last_updated': '2024-02-10', 'question': 'What are best practices for performance tuning?', 'source': 'performance tuning_guide.md'}}], 'initial_answer': \"When addressing caching, it's important to follow well-defined patterns... [KB023]\", 'critique_complete': False, 'refined_query': '', 'refined_answer': '', 'final_answer': ''}\n",
            "Critique result: REFINE\n",
            "🏃 View run RAG_Test at: http://127.0.0.1:5000/#/experiments/662327622274311922/runs/59b56574c14345e19ec3c2839920fed6\n",
            "🧪 View experiment at: http://127.0.0.1:5000/#/experiments/662327622274311922\n",
            "\n",
            "Final Answer:\n",
            " When addressing caching, it's important to follow well-defined patterns... [KB023]\n"
          ]
        }
      ],
      "source": [
        "import datetime\n",
        "test_query = \"What is caching?\"\n",
        "\n",
        "with mlflow.start_run(run_name=f\"RAG_Test\"):\n",
        "\n",
        "    # Initialize RAG state\n",
        "    state = RAGState(query=test_query)\n",
        "\n",
        "    # Step 1: Retrieve KB snippets\n",
        "    state = retriever_node(state)\n",
        "\n",
        "    # Step 2: Generate LLM-based answer\n",
        "    state = llm_answer_node(state)\n",
        "    \n",
        "    # Step 3: Check Crique\n",
        "    state = critique_node(state)\n",
        "\n",
        "print(\"\\nFinal Answer:\\n\", state.initial_answer)\n"
      ]
    },
    {
      "cell_type": "code",
      "execution_count": null,
      "metadata": {},
      "outputs": [
        {
          "name": "stdout",
          "output_type": "stream",
          "text": [
            "\n",
            "=== NODE: Retriever ===\n"
          ]
        },
        {
          "name": "stderr",
          "output_type": "stream",
          "text": [
            "2025-10-05 11:05:37,652 | INFO | HTTP Request: POST https://eastus.api.cognitive.microsoft.com/openai/deployments/text-embedding-3-small/embeddings?api-version=2024-08-01-preview \"HTTP/1.1 200 OK\"\n"
          ]
        },
        {
          "name": "stdout",
          "output_type": "stream",
          "text": [
            "Retrieved Snippets:\n",
            "1. [KB005] (Score: 0.6904) When addressing API versioning, it's important to follow well-defined patterns......\n",
            "2. [KB027] (Score: 0.2754) When addressing CI/CD, it's important to follow well-defined patterns......\n",
            "Current State: {'query': 'How to address API versioning?', 'retrieved_snippets': [{'id': 'KB005', 'score': 0.69043541, 'metadata': {'answer_snippet': \"When addressing API versioning, it's important to follow well-defined patterns...\", 'confidence': 'moderate', 'last_updated': '2024-05-10', 'question': 'What are best practices for API versioning?', 'source': 'API versioning_guide.md'}}, {'id': 'KB027', 'score': 0.275415391, 'metadata': {'answer_snippet': \"When addressing CI/CD, it's important to follow well-defined patterns...\", 'confidence': 'moderate', 'last_updated': '2024-03-10', 'question': 'What are best practices for CI/CD?', 'source': 'CI/CD_guide.md'}}], 'initial_answer': '', 'critique_complete': False, 'refined_answer': '', 'refined_query': ''}\n",
            "\n",
            "=== NODE: LLM Answer ===\n"
          ]
        },
        {
          "name": "stderr",
          "output_type": "stream",
          "text": [
            "2025-10-05 11:05:38,824 | INFO | HTTP Request: POST https://eastus.api.cognitive.microsoft.com/openai/deployments/gpt4o/chat/completions?api-version=2024-08-01-preview \"HTTP/1.1 200 OK\"\n"
          ]
        },
        {
          "name": "stdout",
          "output_type": "stream",
          "text": [
            "\n",
            "🧩 LLM Answer (using snippet as ground truth):\n",
            "When addressing API versioning, it's important to follow well-defined patterns... [KB005]\n",
            "Current State: {'query': 'How to address API versioning?', 'retrieved_snippets': [{'id': 'KB005', 'score': 0.69043541, 'metadata': {'answer_snippet': \"When addressing API versioning, it's important to follow well-defined patterns...\", 'confidence': 'moderate', 'last_updated': '2024-05-10', 'question': 'What are best practices for API versioning?', 'source': 'API versioning_guide.md'}}, {'id': 'KB027', 'score': 0.275415391, 'metadata': {'answer_snippet': \"When addressing CI/CD, it's important to follow well-defined patterns...\", 'confidence': 'moderate', 'last_updated': '2024-03-10', 'question': 'What are best practices for CI/CD?', 'source': 'CI/CD_guide.md'}}], 'initial_answer': \"When addressing API versioning, it's important to follow well-defined patterns... [KB005]\", 'critique_complete': False, 'refined_answer': '', 'refined_query': ''}\n",
            "\n",
            "=== NODE: Critique ===\n"
          ]
        },
        {
          "name": "stderr",
          "output_type": "stream",
          "text": [
            "2025-10-05 11:05:39,358 | INFO | HTTP Request: POST https://eastus.api.cognitive.microsoft.com/openai/deployments/gpt4o/chat/completions?api-version=2024-08-01-preview \"HTTP/1.1 200 OK\"\n"
          ]
        },
        {
          "name": "stdout",
          "output_type": "stream",
          "text": [
            "Current State: {'query': 'How to address API versioning?', 'retrieved_snippets': [{'id': 'KB005', 'score': 0.69043541, 'metadata': {'answer_snippet': \"When addressing API versioning, it's important to follow well-defined patterns...\", 'confidence': 'moderate', 'last_updated': '2024-05-10', 'question': 'What are best practices for API versioning?', 'source': 'API versioning_guide.md'}}, {'id': 'KB027', 'score': 0.275415391, 'metadata': {'answer_snippet': \"When addressing CI/CD, it's important to follow well-defined patterns...\", 'confidence': 'moderate', 'last_updated': '2024-03-10', 'question': 'What are best practices for CI/CD?', 'source': 'CI/CD_guide.md'}}], 'initial_answer': \"When addressing API versioning, it's important to follow well-defined patterns... [KB005]\", 'critique_complete': False, 'refined_answer': '', 'refined_query': ''}\n",
            "Critique result: REFINE\n",
            "🏃 View run RAG_Test at: http://127.0.0.1:5000/#/experiments/662327622274311922/runs/c549c3098b65489999beb19de0074573\n",
            "🧪 View experiment at: http://127.0.0.1:5000/#/experiments/662327622274311922\n",
            "\n",
            "Final Answer:\n",
            " When addressing API versioning, it's important to follow well-defined patterns... [KB005]\n"
          ]
        }
      ],
      "source": [
        "import datetime\n",
        "test_query = \"How to address API versioning?\"\n",
        "\n",
        "with mlflow.start_run(run_name=f\"RAG_Test\"):\n",
        "\n",
        "    # Initialize RAG state\n",
        "    state = RAGState(query=test_query)\n",
        "\n",
        "    # Step 1: Retrieve KB snippets\n",
        "    state = retriever_node(state)\n",
        "\n",
        "    # Step 2: Generate LLM-based answer\n",
        "    state = llm_answer_node(state)\n",
        "    # Step 3: Check Crique\n",
        "    state = critique_node(state)\n",
        "\n",
        "print(\"\\nFinal Answer:\\n\", state.initial_answer)\n"
      ]
    },
    {
      "cell_type": "markdown",
      "metadata": {},
      "source": []
    },
    {
      "cell_type": "markdown",
      "metadata": {},
      "source": [
        "### Step 9: Add Refinement Node\n",
        "Refinement Node will act when critique node sets the response as REFINE. In that scenario, this node will retrieve one extra snippet from KB and llm will use all the snippets from 1st step and this extra snippet to regenerate the answer."
      ]
    },
    {
      "cell_type": "code",
      "execution_count": 130,
      "metadata": {},
      "outputs": [],
      "source": [
        "def refinement_node(state: RAGState) -> RAGState:\n",
        "    \"\"\"\n",
        "    Refinement Node: Called only if critique_complete == False.\n",
        "    1. Uses LLM to rewrite the query for missing info.\n",
        "    2. Retrieves 1 extra snippet from KB (avoiding duplicates).\n",
        "    3. Generates a concise refined answer (2-3 lines), acknowledging if KB is insufficient.\n",
        "    4. Logs prompts and outputs to MLflow.\n",
        "    \"\"\"\n",
        "    print(\"\\n=== NODE: Refinement ===\")\n",
        "    \n",
        "    if state.critique_complete:\n",
        "        print(\"Refinement not required. Skipping node.\")\n",
        "        return state\n",
        "\n",
        "    try:\n",
        "        # Step 1: Refine query using LLM\n",
        "        refine_prompt = f\"\"\"\n",
        "You are an assistant helping to retrieve missing KB info.\n",
        "Original user query:\n",
        "{state.query}\n",
        "\n",
        "Initial answer generated from retrieved snippets:\n",
        "{state.initial_answer}\n",
        "\n",
        "Rewrite the query to target any missing information needed\n",
        "to fully answer the question. Return the rewritten query in 1-2 sentences.\n",
        "\"\"\"\n",
        "        mlflow.log_text(refine_prompt.strip(), \"refine_query_prompt.txt\")\n",
        "        refined_query_response = llm.invoke([\n",
        "            {\"role\": \"system\", \"content\": \"You rewrite queries to target missing KB info.\"},\n",
        "            {\"role\": \"user\", \"content\": refine_prompt.strip()}\n",
        "        ])\n",
        "        state.refined_query = refined_query_response.content.strip()\n",
        "        print(\"Refined Query:\", state.refined_query)\n",
        "\n",
        "        # Step 2: Retrieve extra snippets (top_k=6) and remove duplicates\n",
        "        existing_ids = {r['id'] for r in state.retrieved_snippets}\n",
        "        extra_snippets = query_distinct_text(\n",
        "            index=index,\n",
        "            embeddings=embeddings,\n",
        "            query=state.refined_query,\n",
        "            top_k=6\n",
        "        )\n",
        "        extra_snippets = [s for s in extra_snippets if s['id'] not in existing_ids]\n",
        "\n",
        "        if extra_snippets:\n",
        "            state.retrieved_snippets.append(extra_snippets[0])\n",
        "            print(f\"Added extra snippet for refinement: {extra_snippets[0]['id']}\")\n",
        "        else:\n",
        "            print(\"⚠️ No new snippet found for refinement.\")\n",
        "\n",
        "        # Step 3: Regenerate answer using all snippets\n",
        "        snippets_text = \"\\n\".join([\n",
        "            f\"[{r['id']}] {r['metadata'].get('answer_snippet','').strip()}\"\n",
        "            for r in state.retrieved_snippets\n",
        "        ])\n",
        "\n",
        "        answer_prompt = f\"\"\"\n",
        "You are a technical assistant. The retrieved KB snippets below may not fully answer the user question.\n",
        "If the KB snippets are insufficient, acknowledge that and generate a concise answer (2-3 lines) \n",
        "based on your knowledge. Always cite any snippet used with [KBxxx].\n",
        "\n",
        "Question:\n",
        "{state.refined_query}\n",
        "\n",
        "KB Snippets:\n",
        "{snippets_text}\n",
        "\n",
        "Answer (concise, max 3 lines, use snippet content when available and cite [KBxxx]):\n",
        "\"\"\"\n",
        "        mlflow.log_text(answer_prompt.strip(), \"refined_answer_prompt.txt\")\n",
        "\n",
        "        response = llm.invoke([\n",
        "            {\"role\": \"system\", \"content\": \"You are a precise assistant using KB snippets exactly when available.\"},\n",
        "            {\"role\": \"user\", \"content\": answer_prompt.strip()}\n",
        "        ])\n",
        "        state.refined_answer = response.content.strip()\n",
        "        mlflow.log_text(state.refined_answer, \"refined_answer.txt\")\n",
        "\n",
        "        print(\"\\n🧩 Refined Answer:\")\n",
        "        print(state.refined_answer)\n",
        "        print(\"Current State:\", state.model_dump())\n",
        "\n",
        "    except Exception as e:\n",
        "        err_msg = f\"❌ Refinement Node Error: {str(e)}\"\n",
        "        print(err_msg)\n",
        "        mlflow.log_text(err_msg, \"refinement_error.txt\")\n",
        "\n",
        "    return state\n"
      ]
    },
    {
      "cell_type": "markdown",
      "metadata": {},
      "source": [
        "#### Let us test the nodes to see their functionality end to end"
      ]
    },
    {
      "cell_type": "code",
      "execution_count": 132,
      "metadata": {},
      "outputs": [
        {
          "name": "stdout",
          "output_type": "stream",
          "text": [
            "\n",
            "=== NODE: Retriever ===\n"
          ]
        },
        {
          "name": "stderr",
          "output_type": "stream",
          "text": [
            "2025-10-05 12:39:25,283 | INFO | HTTP Request: POST https://eastus.api.cognitive.microsoft.com/openai/deployments/text-embedding-3-small/embeddings?api-version=2024-08-01-preview \"HTTP/1.1 200 OK\"\n"
          ]
        },
        {
          "name": "stdout",
          "output_type": "stream",
          "text": [
            "Retrieved Snippets:\n",
            "1. [KB015] (Score: 0.6904) When addressing API versioning, it's important to follow well-defined patterns......\n",
            "2. [KB027] (Score: 0.2754) When addressing CI/CD, it's important to follow well-defined patterns......\n",
            "Current State: {'query': 'How to address API versioning?', 'retrieved_snippets': [{'id': 'KB015', 'score': 0.69043541, 'metadata': {'answer_snippet': \"When addressing API versioning, it's important to follow well-defined patterns...\", 'confidence': 'moderate', 'last_updated': '2024-03-10', 'question': 'What are best practices for API versioning?', 'source': 'API versioning_guide.md'}}, {'id': 'KB027', 'score': 0.275415391, 'metadata': {'answer_snippet': \"When addressing CI/CD, it's important to follow well-defined patterns...\", 'confidence': 'moderate', 'last_updated': '2024-03-10', 'question': 'What are best practices for CI/CD?', 'source': 'CI/CD_guide.md'}}], 'initial_answer': '', 'critique_complete': False, 'refined_query': '', 'refined_answer': '', 'final_answer': ''}\n",
            "\n",
            "=== NODE: LLM Answer ===\n"
          ]
        },
        {
          "name": "stderr",
          "output_type": "stream",
          "text": [
            "2025-10-05 12:39:27,597 | INFO | HTTP Request: POST https://eastus.api.cognitive.microsoft.com/openai/deployments/gpt4o/chat/completions?api-version=2024-08-01-preview \"HTTP/1.1 200 OK\"\n"
          ]
        },
        {
          "name": "stdout",
          "output_type": "stream",
          "text": [
            "\n",
            "🧩 LLM Answer (using snippet as ground truth):\n",
            "When addressing API versioning, it's important to follow well-defined patterns... [KB015]\n",
            "Current State: {'query': 'How to address API versioning?', 'retrieved_snippets': [{'id': 'KB015', 'score': 0.69043541, 'metadata': {'answer_snippet': \"When addressing API versioning, it's important to follow well-defined patterns...\", 'confidence': 'moderate', 'last_updated': '2024-03-10', 'question': 'What are best practices for API versioning?', 'source': 'API versioning_guide.md'}}, {'id': 'KB027', 'score': 0.275415391, 'metadata': {'answer_snippet': \"When addressing CI/CD, it's important to follow well-defined patterns...\", 'confidence': 'moderate', 'last_updated': '2024-03-10', 'question': 'What are best practices for CI/CD?', 'source': 'CI/CD_guide.md'}}], 'initial_answer': \"When addressing API versioning, it's important to follow well-defined patterns... [KB015]\", 'critique_complete': False, 'refined_query': '', 'refined_answer': '', 'final_answer': ''}\n",
            "\n",
            "=== NODE: Critique ===\n"
          ]
        },
        {
          "name": "stderr",
          "output_type": "stream",
          "text": [
            "2025-10-05 12:39:28,088 | INFO | HTTP Request: POST https://eastus.api.cognitive.microsoft.com/openai/deployments/gpt4o/chat/completions?api-version=2024-08-01-preview \"HTTP/1.1 200 OK\"\n"
          ]
        },
        {
          "name": "stdout",
          "output_type": "stream",
          "text": [
            "Current State: {'query': 'How to address API versioning?', 'retrieved_snippets': [{'id': 'KB015', 'score': 0.69043541, 'metadata': {'answer_snippet': \"When addressing API versioning, it's important to follow well-defined patterns...\", 'confidence': 'moderate', 'last_updated': '2024-03-10', 'question': 'What are best practices for API versioning?', 'source': 'API versioning_guide.md'}}, {'id': 'KB027', 'score': 0.275415391, 'metadata': {'answer_snippet': \"When addressing CI/CD, it's important to follow well-defined patterns...\", 'confidence': 'moderate', 'last_updated': '2024-03-10', 'question': 'What are best practices for CI/CD?', 'source': 'CI/CD_guide.md'}}], 'initial_answer': \"When addressing API versioning, it's important to follow well-defined patterns... [KB015]\", 'critique_complete': False, 'refined_query': '', 'refined_answer': '', 'final_answer': ''}\n",
            "Critique result: REFINE\n",
            "\n",
            "=== NODE: Refinement ===\n"
          ]
        },
        {
          "name": "stderr",
          "output_type": "stream",
          "text": [
            "2025-10-05 12:39:28,864 | INFO | HTTP Request: POST https://eastus.api.cognitive.microsoft.com/openai/deployments/gpt4o/chat/completions?api-version=2024-08-01-preview \"HTTP/1.1 200 OK\"\n"
          ]
        },
        {
          "name": "stdout",
          "output_type": "stream",
          "text": [
            "Refined Query: What are the best practices and common strategies for implementing API versioning, including examples of versioning schemes and how to handle backward compatibility?\n"
          ]
        },
        {
          "name": "stderr",
          "output_type": "stream",
          "text": [
            "2025-10-05 12:39:29,177 | INFO | HTTP Request: POST https://eastus.api.cognitive.microsoft.com/openai/deployments/text-embedding-3-small/embeddings?api-version=2024-08-01-preview \"HTTP/1.1 200 OK\"\n"
          ]
        },
        {
          "name": "stdout",
          "output_type": "stream",
          "text": [
            "Added extra snippet for refinement: KB023\n"
          ]
        },
        {
          "name": "stderr",
          "output_type": "stream",
          "text": [
            "2025-10-05 12:39:30,781 | INFO | HTTP Request: POST https://eastus.api.cognitive.microsoft.com/openai/deployments/gpt4o/chat/completions?api-version=2024-08-01-preview \"HTTP/1.1 200 OK\"\n"
          ]
        },
        {
          "name": "stdout",
          "output_type": "stream",
          "text": [
            "\n",
            "🧩 Refined Answer:\n",
            "When addressing API versioning, it's important to follow well-defined patterns, such as using URI versioning (e.g., /v1/resource) or query parameters (e.g., /resource?version=1). To handle backward compatibility, ensure that new versions do not break existing clients by maintaining deprecated endpoints for a transition period. [KB015]\n",
            "Current State: {'query': 'How to address API versioning?', 'retrieved_snippets': [{'id': 'KB015', 'score': 0.69043541, 'metadata': {'answer_snippet': \"When addressing API versioning, it's important to follow well-defined patterns...\", 'confidence': 'moderate', 'last_updated': '2024-03-10', 'question': 'What are best practices for API versioning?', 'source': 'API versioning_guide.md'}}, {'id': 'KB027', 'score': 0.275415391, 'metadata': {'answer_snippet': \"When addressing CI/CD, it's important to follow well-defined patterns...\", 'confidence': 'moderate', 'last_updated': '2024-03-10', 'question': 'What are best practices for CI/CD?', 'source': 'CI/CD_guide.md'}}, {'id': 'KB023', 'score': 0.421086311, 'metadata': {'answer_snippet': \"When addressing caching, it's important to follow well-defined patterns...\", 'confidence': 'moderate', 'last_updated': '2024-05-10', 'question': 'What are best practices for caching?', 'source': 'caching_guide.md'}}], 'initial_answer': \"When addressing API versioning, it's important to follow well-defined patterns... [KB015]\", 'critique_complete': False, 'refined_query': 'What are the best practices and common strategies for implementing API versioning, including examples of versioning schemes and how to handle backward compatibility?', 'refined_answer': \"When addressing API versioning, it's important to follow well-defined patterns, such as using URI versioning (e.g., /v1/resource) or query parameters (e.g., /resource?version=1). To handle backward compatibility, ensure that new versions do not break existing clients by maintaining deprecated endpoints for a transition period. [KB015]\", 'final_answer': ''}\n",
            "🏃 View run RAG_Test at: http://127.0.0.1:5000/#/experiments/662327622274311922/runs/25472e3f21f8403ab3f43b8ced4e747f\n",
            "🧪 View experiment at: http://127.0.0.1:5000/#/experiments/662327622274311922\n",
            "\n",
            "Final Answer:\n",
            " When addressing API versioning, it's important to follow well-defined patterns, such as using URI versioning (e.g., /v1/resource) or query parameters (e.g., /resource?version=1). To handle backward compatibility, ensure that new versions do not break existing clients by maintaining deprecated endpoints for a transition period. [KB015]\n"
          ]
        }
      ],
      "source": [
        "import datetime\n",
        "test_query = \"How to address API versioning?\"\n",
        "\n",
        "with mlflow.start_run(run_name=f\"RAG_Test\"):\n",
        "\n",
        "    # Initialize RAG state\n",
        "    state = RAGState(query=test_query)\n",
        "\n",
        "    # Step 1: Retrieve KB snippets\n",
        "    state = retriever_node(state)\n",
        "\n",
        "    # Step 2: Generate LLM-based answer\n",
        "    state = llm_answer_node(state)\n",
        "    \n",
        "    # Step 3: Check Crique\n",
        "    state = critique_node(state)\n",
        "\n",
        "    # Step 4: Refinement of query and regenerate LLM-based answer\n",
        "    state = refinement_node(state)\n",
        "\n",
        "# Print Answer as per Decision logic\n",
        "\n",
        "print(\"\\nFinal Answer:\\n\", state.initial_answer if state.critique_complete else state.refined_answer )"
      ]
    },
    {
      "cell_type": "code",
      "execution_count": null,
      "metadata": {},
      "outputs": [],
      "source": [
        "\n"
      ]
    },
    {
      "cell_type": "markdown",
      "metadata": {},
      "source": [
        "## Step 9: Build & Compile LangGraph Workflow\n",
        "\n",
        "Conditional edge: Critique → Refine if needed, otherwise → END\n"
      ]
    },
    {
      "cell_type": "code",
      "execution_count": 133,
      "metadata": {},
      "outputs": [
        {
          "name": "stdout",
          "output_type": "stream",
          "text": [
            "Compiled successfully!\n"
          ]
        }
      ],
      "source": [
        "from langgraph.graph import StateGraph, START, END\n",
        "\n",
        "workflow = StateGraph(RAGState)\n",
        "\n",
        "# Nodes\n",
        "workflow.add_node(\"Retriever\", retriever_node)\n",
        "workflow.add_node(\"LLM_Answer\", llm_answer_node)\n",
        "workflow.add_node(\"Critique\", critique_node)\n",
        "workflow.add_node(\"Refine\", refinement_node)\n",
        "\n",
        "workflow.set_entry_point(\"Retriever\")\n",
        "\n",
        "# Standard edges\n",
        "workflow.add_edge(START, \"Retriever\")\n",
        "workflow.add_edge(\"Retriever\", \"LLM_Answer\")\n",
        "workflow.add_edge(\"LLM_Answer\", \"Critique\")\n",
        "\n",
        "# Conditional edges\n",
        "# Conditional edges from Critique node\n",
        "# If critique_complete is False → go to Refine\n",
        "# If critique_complete is True → go to END automatically\n",
        "\n",
        "# Conditional edges: Critique → Refine if not complete, else END\n",
        "workflow.add_conditional_edges(\n",
        "    \"Critique\",\n",
        "    lambda state: \"Refine\" if not state.critique_complete else None\n",
        ")\n",
        "\n",
        "# Refinement node → END\n",
        "workflow.add_edge(\"Refine\", END)\n",
        "\n",
        "compiled_graph = workflow.compile()\n",
        "print(\"Compiled successfully!\")"
      ]
    },
    {
      "cell_type": "markdown",
      "metadata": {},
      "source": [
        "### Step 10: Visualize Workflow\n",
        "\n",
        "- Retriever + LLM Answer nodes highlighted as subgraph  \n",
        "- Conditional edges labeled clearly"
      ]
    },
    {
      "cell_type": "code",
      "execution_count": 139,
      "metadata": {},
      "outputs": [
        {
          "data": {
            "image/png": "[encoded data removed]",
            "text/plain": [
              "<Figure size 1200x600 with 1 Axes>"
            ]
          },
          "metadata": {},
          "output_type": "display_data"
        }
      ],
      "source": [
        "import networkx as nx\n",
        "import matplotlib.pyplot as plt\n",
        "\n",
        "def visualize_rag_workflow():\n",
        "    \"\"\"\n",
        "    Visualizes the Agentic RAG Workflow:\n",
        "    - Retriever + LLM Answer nodes as a subgraph\n",
        "    - Critique node with conditional edges:\n",
        "        • REFINE → Refine\n",
        "        • COMPLETE → END\n",
        "    \"\"\"\n",
        "    G = nx.DiGraph()\n",
        "\n",
        "    # Nodes\n",
        "    nodes = [\"START\", \"Retriever\", \"LLM_Answer\", \"Critique\", \"Refine\", \"END\"]\n",
        "    G.add_nodes_from(nodes)\n",
        "\n",
        "    # Normal edges\n",
        "    normal_edges = [\n",
        "        (\"START\", \"Retriever\"),\n",
        "        (\"Retriever\", \"LLM_Answer\"),\n",
        "        (\"LLM_Answer\", \"Critique\"),\n",
        "        (\"Refine\", \"END\")\n",
        "    ]\n",
        "    G.add_edges_from(normal_edges, style='solid')\n",
        "\n",
        "    # Conditional edges from Critique\n",
        "    G.add_edge(\"Critique\", \"Refine\", style='dashed', label='If REFINE')\n",
        "    G.add_edge(\"Critique\", \"END\", style='dashed', label='If COMPLETE')\n",
        "\n",
        "    # Positions for layout (manual for subgraph clarity)\n",
        "    pos = {\n",
        "        \"START\": (0, 2),\n",
        "        \"Retriever\": (1, 3),\n",
        "        \"LLM_Answer\": (2, 3),\n",
        "        \"Critique\": (3, 2),\n",
        "        \"Refine\": (4, 3),\n",
        "        \"END\": (5, 2)\n",
        "    }\n",
        "\n",
        "    # Node colors\n",
        "    node_colors = []\n",
        "    for node in G.nodes:\n",
        "        if node in [\"Retriever\", \"LLM_Answer\"]:\n",
        "            node_colors.append(\"lightgreen\")  # subgraph\n",
        "        elif node == \"Refine\":\n",
        "            node_colors.append(\"lightcoral\")\n",
        "        elif node == \"Critique\":\n",
        "            node_colors.append(\"gold\")\n",
        "        else:\n",
        "            node_colors.append(\"skyblue\")\n",
        "\n",
        "    plt.figure(figsize=(12,6))\n",
        "    nx.draw_networkx_nodes(G, pos, node_color=node_colors, node_size=3000)\n",
        "    nx.draw_networkx_labels(G, pos)\n",
        "\n",
        "    # Draw edges\n",
        "    solid_edges = [e for e in G.edges if G.edges[e].get('style','solid')=='solid']\n",
        "    dashed_edges = [e for e in G.edges if G.edges[e].get('style','solid')=='dashed']\n",
        "    nx.draw_networkx_edges(G, pos, edgelist=solid_edges, arrowstyle='->', arrowsize=20)\n",
        "    nx.draw_networkx_edges(G, pos, edgelist=dashed_edges, style='dashed', arrowstyle='->', arrowsize=20)\n",
        "\n",
        "    # Edge labels\n",
        "    edge_labels = {e: G.edges[e].get('label','') for e in G.edges}\n",
        "    nx.draw_networkx_edge_labels(G, pos, edge_labels=edge_labels, font_color='red')\n",
        "\n",
        "    # Draw rectangle around Retriever + LLM Answer subgraph\n",
        "    plt.gca().add_patch(plt.Rectangle(\n",
        "        (0.5, 2.5), 1.7, 1, fill=False, edgecolor='red', linewidth=2, linestyle='--'\n",
        "    ))\n",
        "    plt.text(1.5, 3.6, \"Retriever + LLM Answer Subgraph\", fontsize=10, color='red', ha='center')\n",
        "\n",
        "    plt.title(\"Agentic RAG Workflow with Conditional Edges\")\n",
        "    plt.axis('off')\n",
        "    plt.show()\n",
        "\n",
        "# Call visualization\n",
        "visualize_rag_workflow()\n",
        "\n"
      ]
    },
    {
      "cell_type": "markdown",
      "metadata": {},
      "source": [
        "### Step 11: Function to call the rag pipeline code for a given user query "
      ]
    },
    {
      "cell_type": "code",
      "execution_count": 137,
      "metadata": {},
      "outputs": [],
      "source": [
        "import mlflow\n",
        "from datetime import datetime\n",
        "\n",
        "def run_agentic_rag_pipeline(user_query: str, run_name: str = None):\n",
        "    \"\"\"\n",
        "    Runs the complete Agentic RAG workflow for a given user query.\n",
        "    \n",
        "    Steps:\n",
        "    1. Retrieve top-5 snippets from Pinecone\n",
        "    2. Generate initial answer with Azure LLM\n",
        "    3. Critique completeness using LLM\n",
        "    4. If incomplete, refine query and regenerate answer\n",
        "    5. Log all results to MLflow (retrieval, answers, critique, final)\n",
        "    \"\"\"\n",
        "\n",
        "    # Use timestamp as run_name if not provided\n",
        "    run_name = run_name or f\"rag_run_{datetime.now().strftime('%Y%m%d_%H%M%S')}\"\n",
        "    \n",
        "    print(f\"\\n🚀 Starting RAG Pipeline: {run_name}\")\n",
        "    print(f\"User Query: {user_query}\\n\")\n",
        "\n",
        "    # Initialize state\n",
        "    state = RAGState(query=user_query)\n",
        "\n",
        "    # Ensure MLflow tracking is set\n",
        "    mlflow.set_tracking_uri(\"http://127.0.0.1:5000\")\n",
        "    mlflow.set_experiment(\"agentic_rag_pipeline\")\n",
        "\n",
        "    try:\n",
        "        with mlflow.start_run(run_name=run_name):\n",
        "\n",
        "            # Step 1: Retrieval\n",
        "            state = retriever_node(state)\n",
        "            mlflow.log_text(str(state.retrieved_snippets), \"retrieved_snippets.txt\")\n",
        "\n",
        "            # Step 2: Initial LLM Answer\n",
        "            state = llm_answer_node(state)\n",
        "            mlflow.log_text(state.initial_answer, \"initial_answer.txt\")\n",
        "\n",
        "            # Step 3: Critique Step\n",
        "            state = critique_node(state)\n",
        "            mlflow.log_param(\"critique_complete\", state.critique_complete)\n",
        "\n",
        "            # Step 4: Refinement (if needed)\n",
        "            if not state.critique_complete:\n",
        "                print(\"\\n🔁 Refinement triggered...\\n\")\n",
        "                state = refinement_node(state)\n",
        "                mlflow.log_text(state.refined_answer, \"refined_answer.txt\")\n",
        "\n",
        "            # Step 5: Final Answer Decision\n",
        "            state.final_answer = (\n",
        "                state.initial_answer if state.critique_complete else state.refined_answer\n",
        "            )\n",
        "            mlflow.log_text(state.final_answer, \"final_answer.txt\")\n",
        "\n",
        "            print(\"\\n=== ✅ FINAL ANSWER ===\")\n",
        "            print(state.final_answer)\n",
        "            print(\"\\n--- Workflow Complete ---\\n\")\n",
        "\n",
        "            # Log metadata\n",
        "            mlflow.log_param(\"query\", user_query)\n",
        "            mlflow.log_param(\"retrieved_docs\", len(state.retrieved_snippets))\n",
        "            mlflow.log_param(\"final_decision\", \"COMPLETE\" if state.critique_complete else \"REFINE\")\n",
        "\n",
        "            # Return state for further inspection if needed\n",
        "            return state\n",
        "\n",
        "    except Exception as e:\n",
        "        print(f\"❌ Pipeline error: {e}\")\n",
        "        mlflow.log_param(\"error\", str(e))\n",
        "        raise\n"
      ]
    },
    {
      "cell_type": "code",
      "execution_count": 140,
      "metadata": {},
      "outputs": [
        {
          "name": "stdout",
          "output_type": "stream",
          "text": [
            "\n",
            "🚀 Starting RAG Pipeline: rag_run_20251005_125117\n",
            "User Query: What is caching?\n",
            "\n",
            "\n",
            "=== NODE: Retriever ===\n"
          ]
        },
        {
          "name": "stderr",
          "output_type": "stream",
          "text": [
            "2025-10-05 12:51:18,571 | INFO | HTTP Request: POST https://eastus.api.cognitive.microsoft.com/openai/deployments/text-embedding-3-small/embeddings?api-version=2024-08-01-preview \"HTTP/1.1 200 OK\"\n"
          ]
        },
        {
          "name": "stdout",
          "output_type": "stream",
          "text": [
            "Retrieved Snippets:\n",
            "1. [KB003] (Score: 0.6008) When addressing caching, it's important to follow well-defined patterns......\n",
            "2. [KB012] (Score: 0.2522) When addressing performance tuning, it's important to follow well-defined patterns......\n",
            "Current State: {'query': 'What is caching?', 'retrieved_snippets': [{'id': 'KB003', 'score': 0.600841522, 'metadata': {'answer_snippet': \"When addressing caching, it's important to follow well-defined patterns...\", 'confidence': 'moderate', 'last_updated': '2024-03-10', 'question': 'What are best practices for caching?', 'source': 'caching_guide.md'}}, {'id': 'KB012', 'score': 0.252180099, 'metadata': {'answer_snippet': \"When addressing performance tuning, it's important to follow well-defined patterns...\", 'confidence': 'moderate', 'last_updated': '2024-06-10', 'question': 'What are best practices for performance tuning?', 'source': 'performance tuning_guide.md'}}], 'initial_answer': '', 'critique_complete': False, 'refined_query': '', 'refined_answer': '', 'final_answer': ''}\n",
            "\n",
            "=== NODE: LLM Answer ===\n"
          ]
        },
        {
          "name": "stderr",
          "output_type": "stream",
          "text": [
            "2025-10-05 12:51:21,486 | INFO | HTTP Request: POST https://eastus.api.cognitive.microsoft.com/openai/deployments/gpt4o/chat/completions?api-version=2024-08-01-preview \"HTTP/1.1 200 OK\"\n"
          ]
        },
        {
          "name": "stdout",
          "output_type": "stream",
          "text": [
            "\n",
            "🧩 LLM Answer (using snippet as ground truth):\n",
            "When addressing caching, it's important to follow well-defined patterns... [KB003]\n",
            "Current State: {'query': 'What is caching?', 'retrieved_snippets': [{'id': 'KB003', 'score': 0.600841522, 'metadata': {'answer_snippet': \"When addressing caching, it's important to follow well-defined patterns...\", 'confidence': 'moderate', 'last_updated': '2024-03-10', 'question': 'What are best practices for caching?', 'source': 'caching_guide.md'}}, {'id': 'KB012', 'score': 0.252180099, 'metadata': {'answer_snippet': \"When addressing performance tuning, it's important to follow well-defined patterns...\", 'confidence': 'moderate', 'last_updated': '2024-06-10', 'question': 'What are best practices for performance tuning?', 'source': 'performance tuning_guide.md'}}], 'initial_answer': \"When addressing caching, it's important to follow well-defined patterns... [KB003]\", 'critique_complete': False, 'refined_query': '', 'refined_answer': '', 'final_answer': ''}\n",
            "\n",
            "=== NODE: Critique ===\n"
          ]
        },
        {
          "name": "stderr",
          "output_type": "stream",
          "text": [
            "2025-10-05 12:51:22,013 | INFO | HTTP Request: POST https://eastus.api.cognitive.microsoft.com/openai/deployments/gpt4o/chat/completions?api-version=2024-08-01-preview \"HTTP/1.1 200 OK\"\n"
          ]
        },
        {
          "name": "stdout",
          "output_type": "stream",
          "text": [
            "Current State: {'query': 'What is caching?', 'retrieved_snippets': [{'id': 'KB003', 'score': 0.600841522, 'metadata': {'answer_snippet': \"When addressing caching, it's important to follow well-defined patterns...\", 'confidence': 'moderate', 'last_updated': '2024-03-10', 'question': 'What are best practices for caching?', 'source': 'caching_guide.md'}}, {'id': 'KB012', 'score': 0.252180099, 'metadata': {'answer_snippet': \"When addressing performance tuning, it's important to follow well-defined patterns...\", 'confidence': 'moderate', 'last_updated': '2024-06-10', 'question': 'What are best practices for performance tuning?', 'source': 'performance tuning_guide.md'}}], 'initial_answer': \"When addressing caching, it's important to follow well-defined patterns... [KB003]\", 'critique_complete': False, 'refined_query': '', 'refined_answer': '', 'final_answer': ''}\n",
            "Critique result: REFINE\n",
            "\n",
            "🔁 Refinement triggered...\n",
            "\n",
            "\n",
            "=== NODE: Refinement ===\n"
          ]
        },
        {
          "name": "stderr",
          "output_type": "stream",
          "text": [
            "2025-10-05 12:51:22,711 | INFO | HTTP Request: POST https://eastus.api.cognitive.microsoft.com/openai/deployments/gpt4o/chat/completions?api-version=2024-08-01-preview \"HTTP/1.1 200 OK\"\n"
          ]
        },
        {
          "name": "stdout",
          "output_type": "stream",
          "text": [
            "Refined Query: What are the different types of caching, and how do they work? Additionally, can you explain the benefits and use cases of caching in computing?\n"
          ]
        },
        {
          "name": "stderr",
          "output_type": "stream",
          "text": [
            "2025-10-05 12:51:23,020 | INFO | HTTP Request: POST https://eastus.api.cognitive.microsoft.com/openai/deployments/text-embedding-3-small/embeddings?api-version=2024-08-01-preview \"HTTP/1.1 200 OK\"\n"
          ]
        },
        {
          "name": "stdout",
          "output_type": "stream",
          "text": [
            "⚠️ No new snippet found for refinement.\n"
          ]
        },
        {
          "name": "stderr",
          "output_type": "stream",
          "text": [
            "2025-10-05 12:51:24,965 | INFO | HTTP Request: POST https://eastus.api.cognitive.microsoft.com/openai/deployments/gpt4o/chat/completions?api-version=2024-08-01-preview \"HTTP/1.1 200 OK\"\n"
          ]
        },
        {
          "name": "stdout",
          "output_type": "stream",
          "text": [
            "\n",
            "🧩 Refined Answer:\n",
            "There are several types of caching, including memory caching, disk caching, and distributed caching. Caching improves performance by storing frequently accessed data for quick retrieval, reducing latency and load on the underlying data source. Common use cases include web applications, databases, and content delivery networks. For more on caching patterns, see [KB003].\n",
            "Current State: {'query': 'What is caching?', 'retrieved_snippets': [{'id': 'KB003', 'score': 0.600841522, 'metadata': {'answer_snippet': \"When addressing caching, it's important to follow well-defined patterns...\", 'confidence': 'moderate', 'last_updated': '2024-03-10', 'question': 'What are best practices for caching?', 'source': 'caching_guide.md'}}, {'id': 'KB012', 'score': 0.252180099, 'metadata': {'answer_snippet': \"When addressing performance tuning, it's important to follow well-defined patterns...\", 'confidence': 'moderate', 'last_updated': '2024-06-10', 'question': 'What are best practices for performance tuning?', 'source': 'performance tuning_guide.md'}}], 'initial_answer': \"When addressing caching, it's important to follow well-defined patterns... [KB003]\", 'critique_complete': False, 'refined_query': 'What are the different types of caching, and how do they work? Additionally, can you explain the benefits and use cases of caching in computing?', 'refined_answer': 'There are several types of caching, including memory caching, disk caching, and distributed caching. Caching improves performance by storing frequently accessed data for quick retrieval, reducing latency and load on the underlying data source. Common use cases include web applications, databases, and content delivery networks. For more on caching patterns, see [KB003].', 'final_answer': ''}\n",
            "\n",
            "=== ✅ FINAL ANSWER ===\n",
            "There are several types of caching, including memory caching, disk caching, and distributed caching. Caching improves performance by storing frequently accessed data for quick retrieval, reducing latency and load on the underlying data source. Common use cases include web applications, databases, and content delivery networks. For more on caching patterns, see [KB003].\n",
            "\n",
            "--- Workflow Complete ---\n",
            "\n",
            "🏃 View run rag_run_20251005_125117 at: http://127.0.0.1:5000/#/experiments/336461000289631926/runs/8e0149434a9f44dfa916273efbd555ca\n",
            "🧪 View experiment at: http://127.0.0.1:5000/#/experiments/336461000289631926\n"
          ]
        },
        {
          "data": {
            "text/plain": [
              "RAGState(query='What is caching?', retrieved_snippets=[{'id': 'KB003', 'score': 0.600841522, 'metadata': {'answer_snippet': \"When addressing caching, it's important to follow well-defined patterns...\", 'confidence': 'moderate', 'last_updated': '2024-03-10', 'question': 'What are best practices for caching?', 'source': 'caching_guide.md'}}, {'id': 'KB012', 'score': 0.252180099, 'metadata': {'answer_snippet': \"When addressing performance tuning, it's important to follow well-defined patterns...\", 'confidence': 'moderate', 'last_updated': '2024-06-10', 'question': 'What are best practices for performance tuning?', 'source': 'performance tuning_guide.md'}}], initial_answer=\"When addressing caching, it's important to follow well-defined patterns... [KB003]\", critique_complete=False, refined_query='What are the different types of caching, and how do they work? Additionally, can you explain the benefits and use cases of caching in computing?', refined_answer='There are several types of caching, including memory caching, disk caching, and distributed caching. Caching improves performance by storing frequently accessed data for quick retrieval, reducing latency and load on the underlying data source. Common use cases include web applications, databases, and content delivery networks. For more on caching patterns, see [KB003].', final_answer='There are several types of caching, including memory caching, disk caching, and distributed caching. Caching improves performance by storing frequently accessed data for quick retrieval, reducing latency and load on the underlying data source. Common use cases include web applications, databases, and content delivery networks. For more on caching patterns, see [KB003].')"
            ]
          },
          "execution_count": 140,
          "metadata": {},
          "output_type": "execute_result"
        }
      ],
      "source": [
        "user_query = \"What is caching?\"\n",
        "run_agentic_rag_pipeline(user_query=user_query)"
      ]
    },
    {
      "cell_type": "code",
      "execution_count": 141,
      "metadata": {},
      "outputs": [
        {
          "name": "stdout",
          "output_type": "stream",
          "text": [
            "\n",
            "🚀 Starting RAG Pipeline: rag_run_20251005_125202\n",
            "User Query: Best practices for CICD?\n",
            "\n",
            "\n",
            "=== NODE: Retriever ===\n"
          ]
        },
        {
          "name": "stderr",
          "output_type": "stream",
          "text": [
            "2025-10-05 12:52:03,118 | INFO | HTTP Request: POST https://eastus.api.cognitive.microsoft.com/openai/deployments/text-embedding-3-small/embeddings?api-version=2024-08-01-preview \"HTTP/1.1 200 OK\"\n"
          ]
        },
        {
          "name": "stdout",
          "output_type": "stream",
          "text": [
            "Retrieved Snippets:\n",
            "1. [KB017] (Score: 0.6925) When addressing CI/CD, it's important to follow well-defined patterns......\n",
            "2. [KB013] (Score: 0.4275) When addressing caching, it's important to follow well-defined patterns......\n",
            "Current State: {'query': 'Best practices for CICD?', 'retrieved_snippets': [{'id': 'KB017', 'score': 0.692518175, 'metadata': {'answer_snippet': \"When addressing CI/CD, it's important to follow well-defined patterns...\", 'confidence': 'moderate', 'last_updated': '2024-05-10', 'question': 'What are best practices for CI/CD?', 'source': 'CI/CD_guide.md'}}, {'id': 'KB013', 'score': 0.427465439, 'metadata': {'answer_snippet': \"When addressing caching, it's important to follow well-defined patterns...\", 'confidence': 'moderate', 'last_updated': '2024-01-10', 'question': 'What are best practices for caching?', 'source': 'caching_guide.md'}}], 'initial_answer': '', 'critique_complete': False, 'refined_query': '', 'refined_answer': '', 'final_answer': ''}\n",
            "\n",
            "=== NODE: LLM Answer ===\n"
          ]
        },
        {
          "name": "stderr",
          "output_type": "stream",
          "text": [
            "2025-10-05 12:52:04,975 | INFO | HTTP Request: POST https://eastus.api.cognitive.microsoft.com/openai/deployments/gpt4o/chat/completions?api-version=2024-08-01-preview \"HTTP/1.1 200 OK\"\n"
          ]
        },
        {
          "name": "stdout",
          "output_type": "stream",
          "text": [
            "\n",
            "🧩 LLM Answer (using snippet as ground truth):\n",
            "When addressing CI/CD, it's important to follow well-defined patterns... [KB017]\n",
            "Current State: {'query': 'Best practices for CICD?', 'retrieved_snippets': [{'id': 'KB017', 'score': 0.692518175, 'metadata': {'answer_snippet': \"When addressing CI/CD, it's important to follow well-defined patterns...\", 'confidence': 'moderate', 'last_updated': '2024-05-10', 'question': 'What are best practices for CI/CD?', 'source': 'CI/CD_guide.md'}}, {'id': 'KB013', 'score': 0.427465439, 'metadata': {'answer_snippet': \"When addressing caching, it's important to follow well-defined patterns...\", 'confidence': 'moderate', 'last_updated': '2024-01-10', 'question': 'What are best practices for caching?', 'source': 'caching_guide.md'}}], 'initial_answer': \"When addressing CI/CD, it's important to follow well-defined patterns... [KB017]\", 'critique_complete': False, 'refined_query': '', 'refined_answer': '', 'final_answer': ''}\n",
            "\n",
            "=== NODE: Critique ===\n"
          ]
        },
        {
          "name": "stderr",
          "output_type": "stream",
          "text": [
            "2025-10-05 12:52:05,477 | INFO | HTTP Request: POST https://eastus.api.cognitive.microsoft.com/openai/deployments/gpt4o/chat/completions?api-version=2024-08-01-preview \"HTTP/1.1 200 OK\"\n"
          ]
        },
        {
          "name": "stdout",
          "output_type": "stream",
          "text": [
            "Current State: {'query': 'Best practices for CICD?', 'retrieved_snippets': [{'id': 'KB017', 'score': 0.692518175, 'metadata': {'answer_snippet': \"When addressing CI/CD, it's important to follow well-defined patterns...\", 'confidence': 'moderate', 'last_updated': '2024-05-10', 'question': 'What are best practices for CI/CD?', 'source': 'CI/CD_guide.md'}}, {'id': 'KB013', 'score': 0.427465439, 'metadata': {'answer_snippet': \"When addressing caching, it's important to follow well-defined patterns...\", 'confidence': 'moderate', 'last_updated': '2024-01-10', 'question': 'What are best practices for caching?', 'source': 'caching_guide.md'}}], 'initial_answer': \"When addressing CI/CD, it's important to follow well-defined patterns... [KB017]\", 'critique_complete': False, 'refined_query': '', 'refined_answer': '', 'final_answer': ''}\n",
            "Critique result: REFINE\n",
            "\n",
            "🔁 Refinement triggered...\n",
            "\n",
            "\n",
            "=== NODE: Refinement ===\n"
          ]
        },
        {
          "name": "stderr",
          "output_type": "stream",
          "text": [
            "2025-10-05 12:52:06,401 | INFO | HTTP Request: POST https://eastus.api.cognitive.microsoft.com/openai/deployments/gpt4o/chat/completions?api-version=2024-08-01-preview \"HTTP/1.1 200 OK\"\n"
          ]
        },
        {
          "name": "stdout",
          "output_type": "stream",
          "text": [
            "Refined Query: What are the specific best practices for implementing CI/CD pipelines, including tools, methodologies, and common pitfalls to avoid? Additionally, can you provide examples of successful CI/CD implementations?\n"
          ]
        },
        {
          "name": "stderr",
          "output_type": "stream",
          "text": [
            "2025-10-05 12:52:06,678 | INFO | HTTP Request: POST https://eastus.api.cognitive.microsoft.com/openai/deployments/text-embedding-3-small/embeddings?api-version=2024-08-01-preview \"HTTP/1.1 200 OK\"\n"
          ]
        },
        {
          "name": "stdout",
          "output_type": "stream",
          "text": [
            "Added extra snippet for refinement: KB027\n"
          ]
        },
        {
          "name": "stderr",
          "output_type": "stream",
          "text": [
            "2025-10-05 12:52:11,255 | INFO | HTTP Request: POST https://eastus.api.cognitive.microsoft.com/openai/deployments/gpt4o/chat/completions?api-version=2024-08-01-preview \"HTTP/1.1 200 OK\"\n"
          ]
        },
        {
          "name": "stdout",
          "output_type": "stream",
          "text": [
            "\n",
            "🧩 Refined Answer:\n",
            "To implement effective CI/CD pipelines, follow well-defined patterns, utilize tools like Jenkins, GitLab CI, or CircleCI, and adopt methodologies such as version control and automated testing. Common pitfalls include neglecting security and failing to monitor performance. For successful implementations, consider companies like Netflix and Amazon, which have robust CI/CD practices. [KB017][KB027]\n",
            "Current State: {'query': 'Best practices for CICD?', 'retrieved_snippets': [{'id': 'KB017', 'score': 0.692518175, 'metadata': {'answer_snippet': \"When addressing CI/CD, it's important to follow well-defined patterns...\", 'confidence': 'moderate', 'last_updated': '2024-05-10', 'question': 'What are best practices for CI/CD?', 'source': 'CI/CD_guide.md'}}, {'id': 'KB013', 'score': 0.427465439, 'metadata': {'answer_snippet': \"When addressing caching, it's important to follow well-defined patterns...\", 'confidence': 'moderate', 'last_updated': '2024-01-10', 'question': 'What are best practices for caching?', 'source': 'caching_guide.md'}}, {'id': 'KB027', 'score': 0.71712774, 'metadata': {'answer_snippet': \"When addressing CI/CD, it's important to follow well-defined patterns...\", 'confidence': 'moderate', 'last_updated': '2024-03-10', 'question': 'What are best practices for CI/CD?', 'source': 'CI/CD_guide.md'}}], 'initial_answer': \"When addressing CI/CD, it's important to follow well-defined patterns... [KB017]\", 'critique_complete': False, 'refined_query': 'What are the specific best practices for implementing CI/CD pipelines, including tools, methodologies, and common pitfalls to avoid? Additionally, can you provide examples of successful CI/CD implementations?', 'refined_answer': 'To implement effective CI/CD pipelines, follow well-defined patterns, utilize tools like Jenkins, GitLab CI, or CircleCI, and adopt methodologies such as version control and automated testing. Common pitfalls include neglecting security and failing to monitor performance. For successful implementations, consider companies like Netflix and Amazon, which have robust CI/CD practices. [KB017][KB027]', 'final_answer': ''}\n",
            "\n",
            "=== ✅ FINAL ANSWER ===\n",
            "To implement effective CI/CD pipelines, follow well-defined patterns, utilize tools like Jenkins, GitLab CI, or CircleCI, and adopt methodologies such as version control and automated testing. Common pitfalls include neglecting security and failing to monitor performance. For successful implementations, consider companies like Netflix and Amazon, which have robust CI/CD practices. [KB017][KB027]\n",
            "\n",
            "--- Workflow Complete ---\n",
            "\n",
            "🏃 View run rag_run_20251005_125202 at: http://127.0.0.1:5000/#/experiments/336461000289631926/runs/6c20fb2367e849d3aa2d814997897f5f\n",
            "🧪 View experiment at: http://127.0.0.1:5000/#/experiments/336461000289631926\n"
          ]
        },
        {
          "data": {
            "text/plain": [
              "RAGState(query='Best practices for CICD?', retrieved_snippets=[{'id': 'KB017', 'score': 0.692518175, 'metadata': {'answer_snippet': \"When addressing CI/CD, it's important to follow well-defined patterns...\", 'confidence': 'moderate', 'last_updated': '2024-05-10', 'question': 'What are best practices for CI/CD?', 'source': 'CI/CD_guide.md'}}, {'id': 'KB013', 'score': 0.427465439, 'metadata': {'answer_snippet': \"When addressing caching, it's important to follow well-defined patterns...\", 'confidence': 'moderate', 'last_updated': '2024-01-10', 'question': 'What are best practices for caching?', 'source': 'caching_guide.md'}}, {'id': 'KB027', 'score': 0.71712774, 'metadata': {'answer_snippet': \"When addressing CI/CD, it's important to follow well-defined patterns...\", 'confidence': 'moderate', 'last_updated': '2024-03-10', 'question': 'What are best practices for CI/CD?', 'source': 'CI/CD_guide.md'}}], initial_answer=\"When addressing CI/CD, it's important to follow well-defined patterns... [KB017]\", critique_complete=False, refined_query='What are the specific best practices for implementing CI/CD pipelines, including tools, methodologies, and common pitfalls to avoid? Additionally, can you provide examples of successful CI/CD implementations?', refined_answer='To implement effective CI/CD pipelines, follow well-defined patterns, utilize tools like Jenkins, GitLab CI, or CircleCI, and adopt methodologies such as version control and automated testing. Common pitfalls include neglecting security and failing to monitor performance. For successful implementations, consider companies like Netflix and Amazon, which have robust CI/CD practices. [KB017][KB027]', final_answer='To implement effective CI/CD pipelines, follow well-defined patterns, utilize tools like Jenkins, GitLab CI, or CircleCI, and adopt methodologies such as version control and automated testing. Common pitfalls include neglecting security and failing to monitor performance. For successful implementations, consider companies like Netflix and Amazon, which have robust CI/CD practices. [KB017][KB027]')"
            ]
          },
          "execution_count": 141,
          "metadata": {},
          "output_type": "execute_result"
        }
      ],
      "source": [
        "user_query = \"Best practices for CICD?\"\n",
        "run_agentic_rag_pipeline(user_query=user_query)"
      ]
    },
    {
      "cell_type": "markdown",
      "metadata": {},
      "source": [
        "---\n",
        "\n",
        "## 🧭 Notebook Summary\n",
        "\n",
        "This notebook demonstrates the complete implementation of an **Agentic RAG System** using **Azure OpenAI**, **Pinecone**, **LangGraph**, and **MLflow**.\n",
        "\n",
        "### ✅ Covered Components\n",
        "\n",
        "| # | Component | Description |\n",
        "|---|------------|-------------|\n",
        "| 1️⃣ | **Knowledge Base Indexing** | Loads and embeds KB JSON entries using Azure Embeddings and indexes them into Pinecone. |\n",
        "| 2️⃣ | **Retrieval & Deduplication** | Retrieves top-K semantically similar snippets from the KB, ensuring distinct results. |\n",
        "| 3️⃣ | **LLM Answer Generation** | Uses Azure GPT-4 (temperature = 0) to generate concise, citation-based answers from retrieved KB snippets. |\n",
        "| 4️⃣ | **Self-Critique Logic** | LLM-based evaluation step that judges whether the generated answer is **COMPLETE** or needs **REFINEMENT**. |\n",
        "| 5️⃣ | **Query & Answer Refinement** | If incomplete, refines the query using the LLM, retrieves one additional snippet, and regenerates a shorter answer. |\n",
        "| 6️⃣ | **Conditional Workflow Compilation** | LangGraph pipeline connects Retriever → LLM → Critique → (Refine if needed) → END using conditional edges. |\n",
        "| 7️⃣ | **MLflow Logging & Observability** | Logs retrieved snippets, generated answers, critique flags, and final outputs for full experiment tracking. |\n",
        "| 8️⃣ | **Visualization** | Displays workflow structure both as a **graph** and as a **mermaid flowchart**, including subgraphs for retrieval and LLM nodes. |\n",
        "\n",
        "---\n",
        "\n",
        "### 🧩 Key Highlights\n",
        "\n",
        "- Modular design — each node is independently callable and testable.  \n",
        "- Automatic observability — all outputs logged in MLflow.  \n",
        "- Agentic control flow — dynamic refinement based on self-critique.  \n",
        "- Extensible — supports swapping Pinecone with Weaviate or Azure Cognitive Search.  \n",
        "- Ready for production — deterministic LLM behavior (`temperature=0`).\n",
        "\n",
        "---\n",
        "\n",
        "**End of Notebook ✅**\n",
        "\n",
        "---\n"
      ]
    },
    {
      "cell_type": "markdown",
      "metadata": {},
      "source": []
    },
    {
      "cell_type": "markdown",
      "metadata": {},
      "source": [
        "### Thank You!"
      ]
    }
  ],
  "metadata": {
    "colab": {
      "include_colab_link": true,
      "provenance": []
    },
    "kernelspec": {
      "display_name": "Python 3",
      "language": "python",
      "name": "python3"
    },
    "language_info": {
      "codemirror_mode": {
        "name": "ipython",
        "version": 3
      },
      "file_extension": ".py",
      "mimetype": "text/x-python",
      "name": "python",
      "nbconvert_exporter": "python",
      "pygments_lexer": "ipython3",
      "version": "3.12.1"
    }
  },
  "nbformat": 4,
  "nbformat_minor": 0
}
