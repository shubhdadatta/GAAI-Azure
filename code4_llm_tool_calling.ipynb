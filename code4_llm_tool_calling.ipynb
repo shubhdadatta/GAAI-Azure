{
 "cells": [
  {
   "cell_type": "markdown",
   "id": "408c8edf",
   "metadata": {},
   "source": [
    "# Tool Calling with Azure OpenAI: gpt-4o-mini"
   ]
  },
  {
   "cell_type": "code",
   "execution_count": 1,
   "id": "5615919b",
   "metadata": {},
   "outputs": [],
   "source": [
    "from openai import AzureOpenAI"
   ]
  },
  {
   "cell_type": "code",
   "execution_count": 2,
   "id": "82e4f215",
   "metadata": {},
   "outputs": [],
   "source": [
    "client = AzureOpenAI()"
   ]
  },
  {
   "cell_type": "code",
   "execution_count": 3,
   "id": "c1d39de0",
   "metadata": {},
   "outputs": [],
   "source": [
    "import requests,json\n",
    "def get_current_weather(city:str)->dict:\n",
    "    \"\"\" can be used to get/fetch current weather information for a city name\n",
    "    \"\"\"\n",
    "    api_key = \"6a8b0ac166a37e2b7a38e64416b3c3fe\"\n",
    "\n",
    "    url = f\"https://api.openweathermap.org/data/2.5/weather?q={city}&appid={api_key}\"\n",
    "    response = requests.get(url)\n",
    "    response = response.content.decode()\n",
    "    response = json.loads(response)\n",
    "    output = {\"City Name\":city,\"weather\":response[\"weather\"][0]['description'],\n",
    "              \"temperature\":response['main']['temp'],\n",
    "              \"unit\":\"kelvin\"}\n",
    "\n",
    "    return output"
   ]
  },
  {
   "cell_type": "code",
   "execution_count": 4,
   "id": "18697643",
   "metadata": {},
   "outputs": [
    {
     "data": {
      "text/plain": [
       "{'City Name': 'mumbai',\n",
       " 'weather': 'broken clouds',\n",
       " 'temperature': 299.7,\n",
       " 'unit': 'kelvin'}"
      ]
     },
     "execution_count": 4,
     "metadata": {},
     "output_type": "execute_result"
    }
   ],
   "source": [
    "get_current_weather(\"mumbai\")"
   ]
  },
  {
   "cell_type": "markdown",
   "id": "1e6290f8",
   "metadata": {},
   "source": [
    "### Tool Integration with LLM\n",
    "- metadata\n",
    "    - name of tool/function\n",
    "    - description of the tool/function\n",
    "    - arguments details - arguments and its description for the tool/function"
   ]
  },
  {
   "cell_type": "code",
   "execution_count": 11,
   "id": "ec1c41d6",
   "metadata": {},
   "outputs": [],
   "source": [
    "tools = [{\n",
    "    \"type\":\"function\",\n",
    "    \"function\":{\n",
    "        \"name\":\"get_current_weather\",\n",
    "        \"description\":\"this function can be used to get the current weather information for any given city.\",\n",
    "        \"parameters\":{\n",
    "            \"type\":\"object\",\n",
    "            \"properties\":{\"city\":{\"type\":\"string\",\"description\":\"name of city e.g. mumbai, new york\"}},\n",
    "        },\n",
    "        \"required\":['city'],\n",
    "    }}\n",
    "]"
   ]
  },
  {
   "cell_type": "code",
   "execution_count": 18,
   "id": "16ddc1cf",
   "metadata": {},
   "outputs": [],
   "source": [
    "tool_map={\"get_current_weather\":get_current_weather}\n",
    "\n",
    "def generate_response(prompt):\n",
    "\n",
    "    messages = [{\"role\":\"system\",\"content\":\"you are a helpful assistant\"},\n",
    "                {\"role\":\"user\",'content':prompt}]\n",
    "    \n",
    "    first_response = client.chat.completions.create(model='gpt4o',\n",
    "                                                    messages=messages,\n",
    "                                                    temperature=0.2,\n",
    "                                                    tools=tools,tool_choice='auto')\n",
    "    if first_response.choices[0].message.tool_calls:\n",
    "        # do something\n",
    "        print(\"LLM decided to trigger tool call\",first_response.choices[0].message.tool_calls)\n",
    "        tool_calls = first_response.choices[0].message.tool_calls\n",
    "        messages.append(first_response.choices[0].message)\n",
    "        for tool in tool_calls:\n",
    "            tool_name=tool.function.name\n",
    "            tool_args = json.loads(tool.function.arguments)\n",
    "            fun_to_ex = tool_map[tool_name]\n",
    "            tool_output = fun_to_ex(**tool_args)\n",
    "            messages.append({\"tool_call_id\":tool.id,\"role\":\"tool\",\n",
    "                            \"name\":tool_name,\"content\":json.dumps(tool_output)})\n",
    "        second_response = client.chat.completions.create(model='gpt4o',messages=messages,\n",
    "                                                         temperature=0.1)\n",
    "        return second_response.choices[0].message.content\n",
    "\n",
    "    else:\n",
    "        return first_response.choices[0].message.content"
   ]
  },
  {
   "cell_type": "code",
   "execution_count": 19,
   "id": "73fe637f",
   "metadata": {},
   "outputs": [
    {
     "data": {
      "text/plain": [
       "'Artificial Intelligence (AI) refers to the simulation of human intelligence processes by computer systems. These processes include learning (the acquisition of information and rules for using it), reasoning (using rules to reach approximate or definite conclusions), and self-correction. AI can be categorized into two main types:\\n\\n1. **Narrow AI (Weak AI)**: This type of AI is designed and trained for a specific task. Examples include virtual assistants like Siri and Alexa, recommendation systems, and image recognition software.\\n\\n2. **General AI (Strong AI)**: This type of AI would have the ability to understand, learn, and apply intelligence to solve any problem, much like a human. General AI remains largely theoretical and has not yet been achieved.\\n\\nAI technologies encompass various subfields, including:\\n\\n- **Machine Learning**: A subset of AI that enables systems to learn from data and improve their performance over time without being explicitly programmed.\\n- **Natural Language Processing (NLP)**: The ability of a computer to understand, interpret, and respond to human language in a valuable way.\\n- **Computer Vision**: The capability of a machine to interpret and make decisions based on visual data from the world.\\n\\nAI is used in various applications, including healthcare, finance, autonomous vehicles, customer service, and many more, transforming industries and enhancing efficiency and decision-making processes.'"
      ]
     },
     "execution_count": 19,
     "metadata": {},
     "output_type": "execute_result"
    }
   ],
   "source": [
    "generate_response(\"What is Artificial Intelligence\")"
   ]
  },
  {
   "cell_type": "code",
   "execution_count": 20,
   "id": "5a5bef03",
   "metadata": {},
   "outputs": [
    {
     "name": "stdout",
     "output_type": "stream",
     "text": [
      "LLM decided to trigger tool call [ChatCompletionMessageFunctionToolCall(id='call_eU5zGoXvBHoPvPFHrenNC35b', function=Function(arguments='{\"city\":\"delhi\"}', name='get_current_weather'), type='function')]\n"
     ]
    },
    {
     "data": {
      "text/plain": [
       "'The current weather in Delhi today is clear sky with a temperature of approximately 305.25 K (which is about 32.1°C).'"
      ]
     },
     "execution_count": 20,
     "metadata": {},
     "output_type": "execute_result"
    }
   ],
   "source": [
    "generate_response(\"what is the current weather in delhi today?\")"
   ]
  },
  {
   "cell_type": "code",
   "execution_count": 11,
   "id": "8b5402cc",
   "metadata": {},
   "outputs": [
    {
     "name": "stdout",
     "output_type": "stream",
     "text": [
      "LLM decided to trigger tool call [ChatCompletionMessageFunctionToolCall(id='call_iIFuDh3UFd4nrUCST1aPX0MK', function=Function(arguments='{\"city\": \"delhi\"}', name='get_current_weather'), type='function'), ChatCompletionMessageFunctionToolCall(id='call_iDQanrbjvLa2UTqnSt9AInLP', function=Function(arguments='{\"city\": \"bangalore\"}', name='get_current_weather'), type='function')]\n",
      "As of today, the weather is as follows:\n",
      "\n",
      "- **Delhi**: Clear sky with a temperature of approximately 305.11 K (about 32°C).\n",
      "- **Bangalore**: Broken clouds with a temperature of approximately 299.15 K (about 26°C). \n",
      "\n",
      "If you need more specific details or forecasts, feel free to ask!\n"
     ]
    }
   ],
   "source": [
    "result = generate_response(\"what is the current weather in delhi and bangalore today?\")\n",
    "print(result)"
   ]
  },
  {
   "cell_type": "code",
   "execution_count": 12,
   "id": "e2bf24ec",
   "metadata": {},
   "outputs": [
    {
     "name": "stdout",
     "output_type": "stream",
     "text": [
      "Could you please specify the city for which you would like to know the current weather?\n"
     ]
    }
   ],
   "source": [
    "result = generate_response(\"what is the current weather today?\")\n",
    "print(result)"
   ]
  },
  {
   "cell_type": "code",
   "execution_count": 13,
   "id": "30dfb758",
   "metadata": {},
   "outputs": [],
   "source": [
    "!python -m pip install wikipedia --quiet"
   ]
  },
  {
   "cell_type": "code",
   "execution_count": 14,
   "id": "f5285163",
   "metadata": {},
   "outputs": [],
   "source": [
    "import wikipedia\n",
    "\n",
    "def get_wikipedia_summary(query:str):\n",
    "    response = wikipedia.summary(query)\n",
    "    return response"
   ]
  },
  {
   "cell_type": "code",
   "execution_count": 15,
   "id": "30538b44",
   "metadata": {},
   "outputs": [],
   "source": [
    "tools = [{\n",
    "    \"type\":\"function\",\n",
    "    \"function\":{\n",
    "        \"name\":\"get_current_weather\",\n",
    "        \"description\":\"this function can be used to get the current weather information for any given city.\",\n",
    "        \"parameters\":{\n",
    "            \"type\":\"object\",\n",
    "            \"properties\":{\"city\":{\"type\":\"string\",\"description\":\"name of city e.g. mumbai, new york\"}},\n",
    "        },\n",
    "        \"required\":['city'],\n",
    "    }},\n",
    "    {\n",
    "    \"type\":\"function\",\n",
    "    \"function\":{\n",
    "        \"name\":\"get_wikipedia_summary\",\n",
    "        \"description\":\"this function can be used to get information about any place, location, person, historical information.\",\n",
    "        \"parameters\":{\n",
    "            \"type\":\"object\",\n",
    "            \"properties\":{\"query\":{\"type\":\"string\",\"description\":\"name of any person, event, location, place\"}},\n",
    "        },\n",
    "        \"required\":['query'],\n",
    "    }}\n",
    "]"
   ]
  },
  {
   "cell_type": "code",
   "execution_count": 18,
   "id": "ceb56839",
   "metadata": {},
   "outputs": [],
   "source": [
    "tool_map={\"get_current_weather\":get_current_weather,\n",
    "          \"get_wikipedia_summary\":get_wikipedia_summary}\n",
    "\n",
    "def generate_response(prompt):\n",
    "\n",
    "    messages = [{\"role\":\"system\",\"content\":\"you are a helpful assistant\"},\n",
    "                {\"role\":\"user\",'content':prompt}]\n",
    "    \n",
    "    while True:\n",
    "        response = client.chat.completions.create(model='gpt4o',\n",
    "                                                        messages=messages,\n",
    "                                                        temperature=0.2,\n",
    "                                                        tools=tools,tool_choice='auto')\n",
    "        if response.choices[0].message.tool_calls:\n",
    "            # do something\n",
    "            print(\"LLM decided to trigger tool call\",response.choices[0].message.tool_calls)\n",
    "            tool_calls = response.choices[0].message.tool_calls\n",
    "            messages.append(response.choices[0].message)\n",
    "            for tool in tool_calls:\n",
    "                tool_name=tool.function.name\n",
    "                tool_args = json.loads(tool.function.arguments)\n",
    "                fun_to_ex = tool_map[tool_name]\n",
    "                tool_output = fun_to_ex(**tool_args)\n",
    "                messages.append({\"tool_call_id\":tool.id,\"role\":\"tool\",\n",
    "                                \"name\":tool_name,\"content\":json.dumps(tool_output)})\n",
    "        else:\n",
    "            break\n",
    "    return response.choices[0].message.content"
   ]
  },
  {
   "cell_type": "code",
   "execution_count": 19,
   "id": "f83f6a7c",
   "metadata": {},
   "outputs": [
    {
     "name": "stdout",
     "output_type": "stream",
     "text": [
      "LLM decided to trigger tool call [ChatCompletionMessageFunctionToolCall(id='call_CbvZxVwHyMk2j0aveNQp6oj9', function=Function(arguments='{\"city\":\"mumbai\"}', name='get_current_weather'), type='function')]\n",
      "The current weather in Mumbai is characterized by broken clouds, with a temperature of approximately 299.19 K (which is about 26.04 °C or 78.87 °F).\n"
     ]
    }
   ],
   "source": [
    "result = generate_response(\"what is the current weather in mumbai?\")\n",
    "print(result)"
   ]
  },
  {
   "cell_type": "code",
   "execution_count": 20,
   "id": "f43d4b2e",
   "metadata": {},
   "outputs": [
    {
     "name": "stdout",
     "output_type": "stream",
     "text": [
      "LLM decided to trigger tool call [ChatCompletionMessageFunctionToolCall(id='call_NvIQ6Ps0cRq4Obpodgkd5qIG', function=Function(arguments='{\"city\": \"mumbai\"}', name='get_current_weather'), type='function'), ChatCompletionMessageFunctionToolCall(id='call_LRJFqiOiwkrmSjVY6Xl5Nicr', function=Function(arguments='{\"city\": \"delhi\"}', name='get_current_weather'), type='function')]\n",
      "The current weather in the two cities is as follows:\n",
      "\n",
      "- **Mumbai**: \n",
      "  - Weather: Broken clouds\n",
      "  - Temperature: 299.19 K (approximately 26.04 °C)\n",
      "\n",
      "- **Delhi**: \n",
      "  - Weather: Clear sky\n",
      "  - Temperature: 305.11 K (approximately 32.96 °C)\n"
     ]
    }
   ],
   "source": [
    "result = generate_response(\"what is the current weather in mumbai and delhi?\")\n",
    "print(result)"
   ]
  },
  {
   "cell_type": "code",
   "execution_count": 21,
   "id": "8bc5743d",
   "metadata": {},
   "outputs": [
    {
     "name": "stdout",
     "output_type": "stream",
     "text": [
      "LLM decided to trigger tool call [ChatCompletionMessageFunctionToolCall(id='call_wKVR3mBKkwUZwfOuNAWb8Wt1', function=Function(arguments='{\"query\": \"Mumbai\"}', name='get_wikipedia_summary'), type='function'), ChatCompletionMessageFunctionToolCall(id='call_6yHBoCnnP9Qfpc14gkaDC9Ic', function=Function(arguments='{\"city\": \"Mumbai\"}', name='get_current_weather'), type='function')]\n",
      "### About Mumbai\n",
      "Mumbai, formerly known as Bombay, is the capital city of the Indian state of Maharashtra. It is the financial capital and the most populous city in India, with an estimated population of 12.5 million. The city is part of the Mumbai Metropolitan Region, which has a population exceeding 23 million, making it one of the most populous metropolitan areas in the world.\n",
      "\n",
      "Mumbai is located on the Konkan coast and has a deep natural harbor. Historically, the seven islands that make up Mumbai were inhabited by the Koli people and were under various rulers before being ceded to the Portuguese and later to the East India Company in the 17th century. The city underwent significant transformation in the 19th century, becoming a major seaport and a center for economic and educational development.\n",
      "\n",
      "Today, Mumbai is often compared to New York City and is home to the Bombay Stock Exchange, making it one of the world's top financial centers. It generates a significant portion of India's GDP and is a hub for commerce, entertainment, and culture, housing the Hindi and Marathi film industries.\n",
      "\n",
      "### Current Weather in Mumbai\n",
      "- **Weather:** Broken clouds\n",
      "- **Temperature:** 299.19 K (approximately 26.04 °C or 78.87 °F)\n",
      "\n",
      "If you need more information or have specific questions, feel free to ask!\n"
     ]
    }
   ],
   "source": [
    "result = generate_response(\"tell me something about Mumbai and its current weather\")\n",
    "print(result)"
   ]
  },
  {
   "cell_type": "code",
   "execution_count": 25,
   "id": "b9f20bfe",
   "metadata": {},
   "outputs": [
    {
     "name": "stdout",
     "output_type": "stream",
     "text": [
      "LLM decided to trigger tool call [ChatCompletionMessageFunctionToolCall(id='call_MQm3Y1Qs6cvnXlPLVCsKuUdy', function=Function(arguments='{\"query\":\"largest city in United Arab Emirates\"}', name='get_wikipedia_summary'), type='function')]\n",
      "LLM decided to trigger tool call [ChatCompletionMessageFunctionToolCall(id='call_nFJEJ2DplJwaHgs69dhicDI9', function=Function(arguments='{\"query\":\"Dubai\"}', name='get_wikipedia_summary'), type='function')]\n",
      "LLM decided to trigger tool call [ChatCompletionMessageFunctionToolCall(id='call_oAOsFqKb19ocyhb6FK9aOXFG', function=Function(arguments='{\"city\":\"Dubai\"}', name='get_current_weather'), type='function')]\n",
      "The largest city in the United Arab Emirates is **Dubai**. \n",
      "\n",
      "Currently, the weather in Dubai is characterized by **few clouds**, with a temperature of approximately **306.58 K** (which is about **33.4°C**).\n"
     ]
    }
   ],
   "source": [
    "result = generate_response(\"which is the larget city in United Arab Emirates and then tell me what is the weather there?\")\n",
    "print(result)"
   ]
  },
  {
   "cell_type": "code",
   "execution_count": null,
   "id": "1f8639e3",
   "metadata": {},
   "outputs": [],
   "source": []
  }
 ],
 "metadata": {
  "kernelspec": {
   "display_name": "genai",
   "language": "python",
   "name": "python3"
  },
  "language_info": {
   "codemirror_mode": {
    "name": "ipython",
    "version": 3
   },
   "file_extension": ".py",
   "mimetype": "text/x-python",
   "name": "python",
   "nbconvert_exporter": "python",
   "pygments_lexer": "ipython3",
   "version": "3.12.3"
  }
 },
 "nbformat": 4,
 "nbformat_minor": 5
}
