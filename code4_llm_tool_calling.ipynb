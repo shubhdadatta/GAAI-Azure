{
 "cells": [
  {
   "cell_type": "markdown",
   "id": "408c8edf",
   "metadata": {},
   "source": [
    "# Tool Calling with Azure OpenAI: gpt-4o-mini"
   ]
  },
  {
   "cell_type": "code",
   "execution_count": 1,
   "id": "5615919b",
   "metadata": {},
   "outputs": [],
   "source": [
    "from openai import AzureOpenAI"
   ]
  },
  {
   "cell_type": "code",
   "execution_count": 2,
   "id": "82e4f215",
   "metadata": {},
   "outputs": [],
   "source": [
    "client = AzureOpenAI()"
   ]
  },
  {
   "cell_type": "code",
   "execution_count": 3,
   "id": "c1d39de0",
   "metadata": {},
   "outputs": [],
   "source": [
    "import requests,json\n",
    "def get_current_weather(city:str)->dict:\n",
    "    \"\"\" can be used to get/fetch current weather information for a city name\n",
    "    \"\"\"\n",
    "    api_key = \"6a8b0ac166a37e2b7a38e64416b3c3fe\"\n",
    "\n",
    "    url = f\"https://api.openweathermap.org/data/2.5/weather?q={city}&appid={api_key}\"\n",
    "    response = requests.get(url)\n",
    "    response = response.content.decode()\n",
    "    response = json.loads(response)\n",
    "    output = {\"City Name\":city,\"weather\":response[\"weather\"][0]['description'],\n",
    "              \"temperature\":response['main']['temp'],\n",
    "              \"unit\":\"kelvin\"}\n",
    "\n",
    "    return output"
   ]
  },
  {
   "cell_type": "code",
   "execution_count": 4,
   "id": "18697643",
   "metadata": {},
   "outputs": [
    {
     "data": {
      "text/plain": [
       "{'City Name': 'mumbai',\n",
       " 'weather': 'broken clouds',\n",
       " 'temperature': 299.7,\n",
       " 'unit': 'kelvin'}"
      ]
     },
     "execution_count": 4,
     "metadata": {},
     "output_type": "execute_result"
    }
   ],
   "source": [
    "get_current_weather(\"mumbai\")"
   ]
  },
  {
   "cell_type": "markdown",
   "id": "1e6290f8",
   "metadata": {},
   "source": [
    "### Tool Integration with LLM\n",
    "- metadata\n",
    "    - name of tool/function\n",
    "    - description of the tool/function\n",
    "    - arguments details - arguments and its description for the tool/function"
   ]
  },
  {
   "cell_type": "code",
   "execution_count": 11,
   "id": "ec1c41d6",
   "metadata": {},
   "outputs": [],
   "source": [
    "tools = [{\n",
    "    \"type\":\"function\",\n",
    "    \"function\":{\n",
    "        \"name\":\"get_current_weather\",\n",
    "        \"description\":\"this function can be used to get the current weather information for any given city.\",\n",
    "        \"parameters\":{\n",
    "            \"type\":\"object\",\n",
    "            \"properties\":{\"city\":{\"type\":\"string\",\"description\":\"name of city e.g. mumbai, new york\"}},\n",
    "        },\n",
    "        \"required\":['city'],\n",
    "    }}\n",
    "]"
   ]
  },
  {
   "cell_type": "code",
   "execution_count": 18,
   "id": "16ddc1cf",
   "metadata": {},
   "outputs": [],
   "source": [
    "tool_map={\"get_current_weather\":get_current_weather}\n",
    "\n",
    "def generate_response(prompt):\n",
    "\n",
    "    messages = [{\"role\":\"system\",\"content\":\"you are a helpful assistant\"},\n",
    "                {\"role\":\"user\",'content':prompt}]\n",
    "    \n",
    "    first_response = client.chat.completions.create(model='gpt4o',\n",
    "                                                    messages=messages,\n",
    "                                                    temperature=0.2,\n",
    "                                                    tools=tools,tool_choice='auto')\n",
    "    if first_response.choices[0].message.tool_calls:\n",
    "        # do something\n",
    "        print(\"LLM decided to trigger tool call\",first_response.choices[0].message.tool_calls)\n",
    "        tool_calls = first_response.choices[0].message.tool_calls\n",
    "        messages.append(first_response.choices[0].message)\n",
    "        for tool in tool_calls:\n",
    "            tool_name=tool.function.name\n",
    "            tool_args = json.loads(tool.function.arguments)\n",
    "            fun_to_ex = tool_map[tool_name]\n",
    "            tool_output = fun_to_ex(**tool_args)\n",
    "            messages.append({\"tool_call_id\":tool.id,\"role\":\"tool\",\n",
    "                            \"name\":tool_name,\"content\":json.dumps(tool_output)})\n",
    "        second_response = client.chat.completions.create(model='gpt4o',messages=messages,\n",
    "                                                         temperature=0.1)\n",
    "        return second_response.choices[0].message.content\n",
    "\n",
    "    else:\n",
    "        return first_response.choices[0].message.content"
   ]
  },
  {
   "cell_type": "code",
   "execution_count": 19,
   "id": "73fe637f",
   "metadata": {},
   "outputs": [
    {
     "data": {
      "text/plain": [
       "'Artificial Intelligence (AI) refers to the simulation of human intelligence processes by computer systems. These processes include learning (the acquisition of information and rules for using it), reasoning (using rules to reach approximate or definite conclusions), and self-correction. AI can be categorized into two main types:\\n\\n1. **Narrow AI (Weak AI)**: This type of AI is designed and trained for a specific task. Examples include virtual assistants like Siri and Alexa, recommendation systems, and image recognition software.\\n\\n2. **General AI (Strong AI)**: This type of AI would have the ability to understand, learn, and apply intelligence to solve any problem, much like a human. General AI remains largely theoretical and has not yet been achieved.\\n\\nAI technologies encompass various subfields, including:\\n\\n- **Machine Learning**: A subset of AI that enables systems to learn from data and improve their performance over time without being explicitly programmed.\\n- **Natural Language Processing (NLP)**: The ability of a computer to understand, interpret, and respond to human language in a valuable way.\\n- **Computer Vision**: The capability of a machine to interpret and make decisions based on visual data from the world.\\n\\nAI is used in various applications, including healthcare, finance, autonomous vehicles, customer service, and many more, transforming industries and enhancing efficiency and decision-making processes.'"
      ]
     },
     "execution_count": 19,
     "metadata": {},
     "output_type": "execute_result"
    }
   ],
   "source": [
    "generate_response(\"What is Artificial Intelligence\")"
   ]
  },
  {
   "cell_type": "code",
   "execution_count": 20,
   "id": "5a5bef03",
   "metadata": {},
   "outputs": [
    {
     "name": "stdout",
     "output_type": "stream",
     "text": [
      "LLM decided to trigger tool call [ChatCompletionMessageFunctionToolCall(id='call_eU5zGoXvBHoPvPFHrenNC35b', function=Function(arguments='{\"city\":\"delhi\"}', name='get_current_weather'), type='function')]\n"
     ]
    },
    {
     "data": {
      "text/plain": [
       "'The current weather in Delhi today is clear sky with a temperature of approximately 305.25 K (which is about 32.1°C).'"
      ]
     },
     "execution_count": 20,
     "metadata": {},
     "output_type": "execute_result"
    }
   ],
   "source": [
    "generate_response(\"what is the current weather in delhi today?\")"
   ]
  },
  {
   "cell_type": "code",
   "execution_count": null,
   "id": "8b5402cc",
   "metadata": {},
   "outputs": [],
   "source": []
  }
 ],
 "metadata": {
  "kernelspec": {
   "display_name": "genai",
   "language": "python",
   "name": "python3"
  },
  "language_info": {
   "codemirror_mode": {
    "name": "ipython",
    "version": 3
   },
   "file_extension": ".py",
   "mimetype": "text/x-python",
   "name": "python",
   "nbconvert_exporter": "python",
   "pygments_lexer": "ipython3",
   "version": "3.12.3"
  }
 },
 "nbformat": 4,
 "nbformat_minor": 5
}
