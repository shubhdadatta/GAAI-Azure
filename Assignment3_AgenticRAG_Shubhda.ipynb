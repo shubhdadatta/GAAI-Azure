{
  "cells": [
    {
      "cell_type": "markdown",
      "metadata": {
        "id": "SpVgBlJNayoI"
      },
      "source": [
        "# Assignment 3: Agentic RAG System with Azure OpenAI, Pinecone & LangGraph"
      ]
    },
    {
      "cell_type": "markdown",
      "metadata": {},
      "source": [
        "### Author: Shubhda Datta\n",
        "### Python: 3.10"
      ]
    },
    {
      "cell_type": "code",
      "execution_count": 1,
      "metadata": {
        "colab": {
          "base_uri": "https://localhost:8080/"
        },
        "id": "28d272cd-4e31-40aa-bbb4-0be0a1f49a14",
        "outputId": "9732f606-6c04-4ad7-e0e6-b4d644fa5aa4"
      },
      "outputs": [],
      "source": [
        "#!python -m pip install langchain-community langchainhub langchain-chroma langchain langchain-experimental --quiet\n",
        "#!python -m pip install pypdf faiss-cpu --quiet\n",
        "#!python -m pip install pinecone --quiet"
      ]
    },
    {
      "cell_type": "markdown",
      "metadata": {},
      "source": [
        "### Setup and Imports"
      ]
    },
    {
      "cell_type": "code",
      "execution_count": 2,
      "metadata": {},
      "outputs": [
        {
          "name": "stderr",
          "output_type": "stream",
          "text": [
            "/home/zadmin/Desktop/GAAI-B4-Azure/genai/lib/python3.12/site-packages/tqdm/auto.py:21: TqdmWarning: IProgress not found. Please update jupyter and ipywidgets. See https://ipywidgets.readthedocs.io/en/stable/user_install.html\n",
            "  from .autonotebook import tqdm as notebook_tqdm\n"
          ]
        }
      ],
      "source": [
        "import os,json, time\n",
        "import mlflow\n",
        "import pandas as pd\n",
        "import logging\n",
        "from typing import Dict, Any, List, Tuple, Optional\n",
        "import pinecone\n",
        "\n",
        "from langchain_openai import AzureOpenAIEmbeddings, AzureChatOpenAI\n",
        "from langchain.prompts import PromptTemplate\n",
        "from langchain.chains import LLMChain\n",
        "from langchain_community.vectorstores import Chroma\n",
        "\n",
        "from azure.ai.inference import EmbeddingsClient, ChatCompletionsClient\n",
        "from azure.core.credentials import AzureKeyCredential\n",
        "from langgraph.graph import StateGraph, END\n"
      ]
    },
    {
      "cell_type": "markdown",
      "metadata": {},
      "source": [
        "### Logging Setup\n"
      ]
    },
    {
      "cell_type": "code",
      "execution_count": 3,
      "metadata": {},
      "outputs": [],
      "source": [
        "\n",
        "logging.basicConfig(\n",
        "    level=logging.INFO,\n",
        "    format=\"%(asctime)s | %(levelname)s | %(message)s\",\n",
        "    handlers=[logging.StreamHandler()]\n",
        ")\n",
        "logger = logging.getLogger(__name__)\n"
      ]
    },
    {
      "cell_type": "code",
      "execution_count": 4,
      "metadata": {
        "id": "Ja6U3t6abVpU"
      },
      "outputs": [],
      "source": [
        "\n",
        "embedding_model_name = \"text-embedding-3-small\"\n",
        "llm_model_name = \"gpt4o\""
      ]
    },
    {
      "cell_type": "markdown",
      "metadata": {},
      "source": [
        "### Initialize Embedding and llm Model"
      ]
    },
    {
      "cell_type": "code",
      "execution_count": 5,
      "metadata": {},
      "outputs": [],
      "source": [
        "\n",
        "def init_openai_clients() -> Tuple[AzureOpenAIEmbeddings, AzureChatOpenAI]:\n",
        "    \"\"\"Initialize Azure OpenAI embeddings and chat models.\"\"\"\n",
        "    api_key = os.getenv(\"AZURE_OPENAI_API_KEY\")\n",
        "    endpoint = os.getenv(\"AZURE_OPENAI_ENDPOINT\")\n",
        "    version = os.getenv(\"AZURE_OPENAI_API_VERSION\")\n",
        "\n",
        "    if not api_key or not endpoint:\n",
        "        raise EnvironmentError(\"Azure OpenAI credentials are not set.\")\n",
        "\n",
        "    embeddings = AzureOpenAIEmbeddings(\n",
        "    model=embedding_model_name,\n",
        "    azure_endpoint=os.environ[\"AZURE_OPENAI_ENDPOINT\"],\n",
        "    api_version=os.environ.get(\"AZURE_OPENAI_API_VERSION\", \"2024-02-01\"),\n",
        "    )\n",
        "\n",
        "    llm = AzureChatOpenAI(\n",
        "        model=llm_model_name,\n",
        "        azure_endpoint=os.environ[\"AZURE_OPENAI_ENDPOINT\"],\n",
        "        api_version=os.environ.get(\"AZURE_OPENAI_API_VERSION\", \"2024-02-01\"),\n",
        "        temperature=0\n",
        "    )\n",
        "    return embeddings, llm"
      ]
    },
    {
      "cell_type": "code",
      "execution_count": 6,
      "metadata": {},
      "outputs": [],
      "source": [
        "embeddings, llm=init_openai_clients()"
      ]
    },
    {
      "cell_type": "code",
      "execution_count": 7,
      "metadata": {},
      "outputs": [
        {
          "data": {
            "text/plain": [
              "AzureOpenAIEmbeddings(client=<openai.resources.embeddings.Embeddings object at 0x75e89fbd0b60>, async_client=<openai.resources.embeddings.AsyncEmbeddings object at 0x75e89f2a0d10>, model='text-embedding-3-small', dimensions=None, deployment=None, openai_api_version='2024-08-01-preview', openai_api_base=None, openai_api_type='azure', openai_proxy=None, embedding_ctx_length=8191, openai_api_key=SecretStr('**********'), openai_organization=None, allowed_special=None, disallowed_special=None, chunk_size=2048, max_retries=2, request_timeout=None, headers=None, tiktoken_enabled=True, tiktoken_model_name=None, show_progress_bar=False, model_kwargs={}, skip_empty=False, default_headers=None, default_query=None, retry_min_seconds=4, retry_max_seconds=20, http_client=None, http_async_client=None, check_embedding_ctx_length=True, azure_endpoint='https://eastus.api.cognitive.microsoft.com/', azure_ad_token=None, azure_ad_token_provider=None, azure_ad_async_token_provider=None, validate_base_url=True)"
            ]
          },
          "execution_count": 7,
          "metadata": {},
          "output_type": "execute_result"
        }
      ],
      "source": [
        "embeddings"
      ]
    },
    {
      "cell_type": "code",
      "execution_count": 8,
      "metadata": {},
      "outputs": [
        {
          "data": {
            "text/plain": [
              "AzureChatOpenAI(client=<openai.resources.chat.completions.completions.Completions object at 0x75e89ed8a7b0>, async_client=<openai.resources.chat.completions.completions.AsyncCompletions object at 0x75e89ef682f0>, root_client=<openai.lib.azure.AzureOpenAI object at 0x75e89ed5fd70>, root_async_client=<openai.lib.azure.AsyncAzureOpenAI object at 0x75e89ed8a810>, model_name='gpt4o', temperature=0.0, model_kwargs={}, openai_api_key=SecretStr('**********'), disabled_params={'parallel_tool_calls': None}, azure_endpoint='https://eastus.api.cognitive.microsoft.com/', openai_api_version='2024-08-01-preview', openai_api_type='azure')"
            ]
          },
          "execution_count": 8,
          "metadata": {},
          "output_type": "execute_result"
        }
      ],
      "source": [
        "llm"
      ]
    },
    {
      "cell_type": "markdown",
      "metadata": {},
      "source": [
        "### Load Dataset"
      ]
    },
    {
      "cell_type": "code",
      "execution_count": 9,
      "metadata": {},
      "outputs": [],
      "source": [
        "AZURE_EMBEDDING_DEPLOYMENT = embedding_model_name\n",
        "AZURE_CHAT_DEPLOYMENT = llm_model_name\n",
        "AZURE_API_KEY = os.getenv(\"AZURE_API_KEY\")\n",
        "AZURE_ENDPOINT = os.getenv(\"AZURE_ENDPOINT\")\n",
        "\n",
        "PINECONE_API_KEY = os.getenv(\"PINECONE_API_KEY\")\n",
        "PINECONE_ENV = os.getenv(\"PINECONE_ENV\")\n",
        "INDEX_NAME = \"agentic-rag\"\n",
        "\n",
        "DATA_FILE = \"self_critique_loop_dataset.json\""
      ]
    },
    {
      "cell_type": "code",
      "execution_count": 10,
      "metadata": {},
      "outputs": [],
      "source": [
        "!python -m pip install pinecone --quiet"
      ]
    },
    {
      "cell_type": "code",
      "execution_count": 11,
      "metadata": {},
      "outputs": [
        {
          "name": "stdout",
          "output_type": "stream",
          "text": [
            "pcsk_3sQW5Q_D5rWa1uWzhFCrXyLeupVQgjKn8onPJ7PVVtdb45bvkw9Aa4Yb9cA9gMdvD9T7qd\n"
          ]
        }
      ],
      "source": [
        "import os\n",
        "PINECONE_API_KEY = os.getenv(\"PINECONE_API_KEY\")\n",
        "print(PINECONE_API_KEY)"
      ]
    },
    {
      "cell_type": "code",
      "execution_count": 12,
      "metadata": {},
      "outputs": [],
      "source": [
        "from pinecone import Pinecone\n",
        "pc = Pinecone(api_key=PINECONE_API_KEY)"
      ]
    },
    {
      "cell_type": "code",
      "execution_count": 13,
      "metadata": {},
      "outputs": [],
      "source": [
        "\n",
        "# ------------------------------------------------------\n",
        "# 🔹 Initialize Pinecone\n",
        "# ------------------------------------------------------\n",
        "from pinecone import Pinecone\n",
        "try:\n",
        "    pc = Pinecone(api_key=PINECONE_API_KEY)\n",
        "    \n",
        "except Exception as e:\n",
        "    logger.error(f\"Initialization error: {e}\")\n",
        "    raise e\n",
        "index = pc.Index(\"agentic-rag\")"
      ]
    },
    {
      "cell_type": "code",
      "execution_count": 14,
      "metadata": {},
      "outputs": [
        {
          "data": {
            "text/plain": [
              "{\n",
              "    \"name\": \"agentic-rag\",\n",
              "    \"metric\": \"cosine\",\n",
              "    \"host\": \"agentic-rag-w3zw5h2.svc.aped-4627-b74a.pinecone.io\",\n",
              "    \"spec\": {\n",
              "        \"serverless\": {\n",
              "            \"cloud\": \"aws\",\n",
              "            \"region\": \"us-east-1\"\n",
              "        }\n",
              "    },\n",
              "    \"status\": {\n",
              "        \"ready\": true,\n",
              "        \"state\": \"Ready\"\n",
              "    },\n",
              "    \"vector_type\": \"dense\",\n",
              "    \"dimension\": 1536,\n",
              "    \"deletion_protection\": \"disabled\",\n",
              "    \"tags\": null\n",
              "}"
            ]
          },
          "execution_count": 14,
          "metadata": {},
          "output_type": "execute_result"
        }
      ],
      "source": [
        "from pinecone import Pinecone, ServerlessSpec\n",
        "import os\n",
        "\n",
        "pc = Pinecone(api_key=os.getenv(\"PINECONE_API_KEY\"))\n",
        "\n",
        "index_name = \"agentic-rag\"\n",
        "\n",
        "# Delete if exists\n",
        "if index_name in [idx.name for idx in pc.list_indexes()]:\n",
        "    pc.delete_index(index_name)\n",
        "\n",
        "# Create with correct dimension\n",
        "pc.create_index(\n",
        "    name=index_name,\n",
        "    dimension=1536,   # must match Azure embedding model\n",
        "    metric=\"cosine\",\n",
        "    spec=ServerlessSpec(cloud=\"aws\", region=\"us-east-1\")\n",
        ")\n"
      ]
    },
    {
      "cell_type": "code",
      "execution_count": 15,
      "metadata": {},
      "outputs": [
        {
          "name": "stderr",
          "output_type": "stream",
          "text": [
            "2025-10-04 00:38:10,390 | INFO | HTTP Request: POST https://eastus.api.cognitive.microsoft.com/openai/deployments/text-embedding-3-small/embeddings?api-version=2024-08-01-preview \"HTTP/1.1 200 OK\"\n"
          ]
        }
      ],
      "source": [
        "query = \"What are best practices for caching?\"\n",
        "query_vector = embeddings.embed_query(query)\n",
        "query_res = index.query(\n",
        "    vector=query_vector,\n",
        "    top_k=5,\n",
        "    include_metadata=True\n",
        ")"
      ]
    },
    {
      "cell_type": "code",
      "execution_count": 16,
      "metadata": {},
      "outputs": [
        {
          "data": {
            "text/plain": [
              "{'matches': [], 'namespace': '', 'usage': {'read_units': 1}}"
            ]
          },
          "execution_count": 16,
          "metadata": {},
          "output_type": "execute_result"
        }
      ],
      "source": [
        "query_res"
      ]
    },
    {
      "cell_type": "code",
      "execution_count": 17,
      "metadata": {},
      "outputs": [],
      "source": [
        "def azure_chat(prompt: str, temperature: float = 0.0) -> str:\n",
        "    \"\"\"Call Azure GPT-4 mini safely.\"\"\"\n",
        "    try:\n",
        "        response = llm.complete(\n",
        "            model=AZURE_CHAT_DEPLOYMENT,\n",
        "            messages=[{\"role\": \"user\", \"content\": prompt}],\n",
        "            temperature=temperature,\n",
        "            max_tokens=500\n",
        "        )\n",
        "        return response.choices[0].message[\"content\"]\n",
        "    except Exception as e:\n",
        "        logger.error(f\"Chat completion error: {e}\")\n",
        "        return \"ERROR: LLM failed.\""
      ]
    },
    {
      "cell_type": "code",
      "execution_count": 18,
      "metadata": {},
      "outputs": [
        {
          "name": "stderr",
          "output_type": "stream",
          "text": [
            "2025-10-04 00:38:11,789 | INFO | HTTP Request: POST https://eastus.api.cognitive.microsoft.com/openai/deployments/text-embedding-3-small/embeddings?api-version=2024-08-01-preview \"HTTP/1.1 200 OK\"\n",
            "2025-10-04 00:38:13,209 | INFO | HTTP Request: POST https://eastus.api.cognitive.microsoft.com/openai/deployments/text-embedding-3-small/embeddings?api-version=2024-08-01-preview \"HTTP/1.1 200 OK\"\n",
            "2025-10-04 00:38:13,988 | INFO | HTTP Request: POST https://eastus.api.cognitive.microsoft.com/openai/deployments/text-embedding-3-small/embeddings?api-version=2024-08-01-preview \"HTTP/1.1 200 OK\"\n",
            "2025-10-04 00:38:14,736 | INFO | HTTP Request: POST https://eastus.api.cognitive.microsoft.com/openai/deployments/text-embedding-3-small/embeddings?api-version=2024-08-01-preview \"HTTP/1.1 200 OK\"\n",
            "2025-10-04 00:38:15,750 | INFO | HTTP Request: POST https://eastus.api.cognitive.microsoft.com/openai/deployments/text-embedding-3-small/embeddings?api-version=2024-08-01-preview \"HTTP/1.1 200 OK\"\n",
            "2025-10-04 00:38:16,469 | INFO | HTTP Request: POST https://eastus.api.cognitive.microsoft.com/openai/deployments/text-embedding-3-small/embeddings?api-version=2024-08-01-preview \"HTTP/1.1 200 OK\"\n",
            "2025-10-04 00:38:17,200 | INFO | HTTP Request: POST https://eastus.api.cognitive.microsoft.com/openai/deployments/text-embedding-3-small/embeddings?api-version=2024-08-01-preview \"HTTP/1.1 200 OK\"\n",
            "2025-10-04 00:38:17,943 | INFO | HTTP Request: POST https://eastus.api.cognitive.microsoft.com/openai/deployments/text-embedding-3-small/embeddings?api-version=2024-08-01-preview \"HTTP/1.1 200 OK\"\n",
            "2025-10-04 00:38:18,684 | INFO | HTTP Request: POST https://eastus.api.cognitive.microsoft.com/openai/deployments/text-embedding-3-small/embeddings?api-version=2024-08-01-preview \"HTTP/1.1 200 OK\"\n",
            "2025-10-04 00:38:19,455 | INFO | HTTP Request: POST https://eastus.api.cognitive.microsoft.com/openai/deployments/text-embedding-3-small/embeddings?api-version=2024-08-01-preview \"HTTP/1.1 200 OK\"\n",
            "2025-10-04 00:38:20,202 | INFO | HTTP Request: POST https://eastus.api.cognitive.microsoft.com/openai/deployments/text-embedding-3-small/embeddings?api-version=2024-08-01-preview \"HTTP/1.1 200 OK\"\n",
            "2025-10-04 00:38:20,920 | INFO | HTTP Request: POST https://eastus.api.cognitive.microsoft.com/openai/deployments/text-embedding-3-small/embeddings?api-version=2024-08-01-preview \"HTTP/1.1 200 OK\"\n",
            "2025-10-04 00:38:21,635 | INFO | HTTP Request: POST https://eastus.api.cognitive.microsoft.com/openai/deployments/text-embedding-3-small/embeddings?api-version=2024-08-01-preview \"HTTP/1.1 200 OK\"\n",
            "2025-10-04 00:38:22,352 | INFO | HTTP Request: POST https://eastus.api.cognitive.microsoft.com/openai/deployments/text-embedding-3-small/embeddings?api-version=2024-08-01-preview \"HTTP/1.1 200 OK\"\n",
            "2025-10-04 00:38:23,087 | INFO | HTTP Request: POST https://eastus.api.cognitive.microsoft.com/openai/deployments/text-embedding-3-small/embeddings?api-version=2024-08-01-preview \"HTTP/1.1 200 OK\"\n",
            "2025-10-04 00:38:26,003 | INFO | HTTP Request: POST https://eastus.api.cognitive.microsoft.com/openai/deployments/text-embedding-3-small/embeddings?api-version=2024-08-01-preview \"HTTP/1.1 200 OK\"\n",
            "2025-10-04 00:38:26,729 | INFO | HTTP Request: POST https://eastus.api.cognitive.microsoft.com/openai/deployments/text-embedding-3-small/embeddings?api-version=2024-08-01-preview \"HTTP/1.1 200 OK\"\n",
            "2025-10-04 00:38:27,446 | INFO | HTTP Request: POST https://eastus.api.cognitive.microsoft.com/openai/deployments/text-embedding-3-small/embeddings?api-version=2024-08-01-preview \"HTTP/1.1 200 OK\"\n",
            "2025-10-04 00:38:28,172 | INFO | HTTP Request: POST https://eastus.api.cognitive.microsoft.com/openai/deployments/text-embedding-3-small/embeddings?api-version=2024-08-01-preview \"HTTP/1.1 200 OK\"\n",
            "2025-10-04 00:38:28,936 | INFO | HTTP Request: POST https://eastus.api.cognitive.microsoft.com/openai/deployments/text-embedding-3-small/embeddings?api-version=2024-08-01-preview \"HTTP/1.1 200 OK\"\n",
            "2025-10-04 00:38:29,653 | INFO | HTTP Request: POST https://eastus.api.cognitive.microsoft.com/openai/deployments/text-embedding-3-small/embeddings?api-version=2024-08-01-preview \"HTTP/1.1 200 OK\"\n",
            "2025-10-04 00:38:30,372 | INFO | HTTP Request: POST https://eastus.api.cognitive.microsoft.com/openai/deployments/text-embedding-3-small/embeddings?api-version=2024-08-01-preview \"HTTP/1.1 200 OK\"\n",
            "2025-10-04 00:38:31,179 | INFO | HTTP Request: POST https://eastus.api.cognitive.microsoft.com/openai/deployments/text-embedding-3-small/embeddings?api-version=2024-08-01-preview \"HTTP/1.1 200 OK\"\n",
            "2025-10-04 00:38:31,890 | INFO | HTTP Request: POST https://eastus.api.cognitive.microsoft.com/openai/deployments/text-embedding-3-small/embeddings?api-version=2024-08-01-preview \"HTTP/1.1 200 OK\"\n",
            "2025-10-04 00:38:32,645 | INFO | HTTP Request: POST https://eastus.api.cognitive.microsoft.com/openai/deployments/text-embedding-3-small/embeddings?api-version=2024-08-01-preview \"HTTP/1.1 200 OK\"\n",
            "2025-10-04 00:38:33,389 | INFO | HTTP Request: POST https://eastus.api.cognitive.microsoft.com/openai/deployments/text-embedding-3-small/embeddings?api-version=2024-08-01-preview \"HTTP/1.1 200 OK\"\n",
            "2025-10-04 00:38:34,152 | INFO | HTTP Request: POST https://eastus.api.cognitive.microsoft.com/openai/deployments/text-embedding-3-small/embeddings?api-version=2024-08-01-preview \"HTTP/1.1 200 OK\"\n",
            "2025-10-04 00:38:34,865 | INFO | HTTP Request: POST https://eastus.api.cognitive.microsoft.com/openai/deployments/text-embedding-3-small/embeddings?api-version=2024-08-01-preview \"HTTP/1.1 200 OK\"\n",
            "2025-10-04 00:38:35,586 | INFO | HTTP Request: POST https://eastus.api.cognitive.microsoft.com/openai/deployments/text-embedding-3-small/embeddings?api-version=2024-08-01-preview \"HTTP/1.1 200 OK\"\n",
            "2025-10-04 00:38:36,357 | INFO | HTTP Request: POST https://eastus.api.cognitive.microsoft.com/openai/deployments/text-embedding-3-small/embeddings?api-version=2024-08-01-preview \"HTTP/1.1 200 OK\"\n",
            "2025-10-04 00:38:36,796 | INFO | KB indexing complete.\n"
          ]
        }
      ],
      "source": [
        "def index_kb():\n",
        "    \"\"\"Load KB JSON and index into Pinecone.\"\"\"\n",
        "    with open(DATA_FILE, \"r\") as f:\n",
        "        kb_data = json.load(f)\n",
        "\n",
        "    for i, entry in enumerate(kb_data):\n",
        "        # Combine question + answer for better embedding context\n",
        "        doc_text = f\"Q: {entry['question']} A: {entry['answer_snippet']}\"\n",
        "\n",
        "        vector = embeddings.embed_query(doc_text)\n",
        "        if not vector:\n",
        "            continue\n",
        "\n",
        "        try:\n",
        "            index.upsert([\n",
        "                (\n",
        "                    entry[\"doc_id\"],   # use KB001, KB002 as ID\n",
        "                    vector,\n",
        "                    {\n",
        "                        \"question\": entry[\"question\"],\n",
        "                        \"answer_snippet\": entry[\"answer_snippet\"],\n",
        "                        \"source\": entry[\"source\"],\n",
        "                        \"confidence\": entry.get(\"confidence_indicator\", \"unknown\"),\n",
        "                        \"last_updated\": entry.get(\"last_updated\", \"\")\n",
        "                    }\n",
        "                )\n",
        "            ])\n",
        "        except Exception as e:\n",
        "            logger.warning(f\"Indexing error for {entry['doc_id']}: {e}\")\n",
        "\n",
        "    logger.info(\"KB indexing complete.\")\n",
        "\n",
        "index_kb()"
      ]
    },
    {
      "cell_type": "code",
      "execution_count": 19,
      "metadata": {},
      "outputs": [],
      "source": [
        "from pydantic import BaseModel, Field\n",
        "from typing import List, Dict, Optional\n",
        "\n",
        "class RAGState(BaseModel):\n",
        "    query: str\n",
        "    retrieved_snippets: List[Dict] = Field(default_factory=list)\n",
        "    initial_answer: Optional[str] = None\n",
        "    critique_complete: Optional[bool] = None\n",
        "    refined_answer: Optional[str] = None\n"
      ]
    },
    {
      "cell_type": "code",
      "execution_count": 20,
      "metadata": {},
      "outputs": [],
      "source": [
        "class CritiqueResult(BaseModel):\n",
        "    is_complete: bool = Field(..., description=\"Whether the answer is complete (True) or needs refinement (False).\")\n"
      ]
    },
    {
      "cell_type": "code",
      "execution_count": 21,
      "metadata": {},
      "outputs": [],
      "source": [
        "from langgraph.graph import START, StateGraph, END\n",
        "from langchain_openai import AzureChatOpenAI, AzureOpenAIEmbeddings\n",
        "import os\n",
        "\n",
        "\n",
        "# --- Node 1: Retriever ---\n",
        "\n",
        "def retriever_node(state: RAGState):\n",
        "    query_vector = embeddings.embed_query(state.query)\n",
        "    res = index.query(vector=query_vector, top_k=5, include_metadata=True)\n",
        "\n",
        "    snippets = []\n",
        "    for match in res.matches:\n",
        "        snippets.append({\n",
        "            \"id\": match.id,\n",
        "            \"score\": match.score,\n",
        "            \"question\": match.metadata.get(\"question\", \"\"),\n",
        "            \"answer_snippet\": match.metadata.get(\"answer_snippet\", \"\"),\n",
        "            \"source\": match.metadata.get(\"source\", \"\")\n",
        "        })\n",
        "\n",
        "    return {\"retrieved_snippets\": snippets}  # ✅ dict, merged into RAGState\n",
        "\n",
        "# --- Node 2: LLM_answer_node ---\n",
        "\n",
        "def llm_answer_node(state: RAGState):\n",
        "    context = \"\\n\".join(\n",
        "        [f\"[{s['id']}] Q: {s['question']} A: {s['answer_snippet']}\" for s in state.retrieved_snippets]\n",
        "    )\n",
        "    prompt = f\"\"\"Answer the query using the KB snippets below. Always cite sources as [KBxxx].\n",
        "\n",
        "Query: {state.query}\n",
        "\n",
        "Snippets:\n",
        "{context}\n",
        "\n",
        "Answer:\"\"\"\n",
        "\n",
        "    resp = llm.invoke(prompt)\n",
        "    return {\"initial_answer\": resp.content}  # ✅ dict\n",
        "\n",
        "# --- Node 3: Self-Critique ---\n",
        "def critique_node(state: RAGState):\n",
        "    critique_prompt = f\"\"\"\n",
        "You are a grader. Determine if the following answer is COMPLETE or needs REFINE.\n",
        "Return JSON strictly as: {{ \"is_complete\": true/false }}\n",
        "\n",
        "Answer: {state.initial_answer}\n",
        "Query: {state.query}\n",
        "\"\"\"\n",
        "    resp = llm.with_structured_output(CritiqueResult).invoke(critique_prompt)\n",
        "    state.critique_complete = resp.is_complete\n",
        "    return state\n",
        "\n",
        "\n",
        "# --- Node 4: Refinement ---\n",
        "def refinement_node(state: RAGState):\n",
        "    if state.critique_complete:\n",
        "        return state  # no refinement\n",
        "\n",
        "    # Retrieve 1 more snippet\n",
        "    query_vector = embeddings.embed_query(state.query)\n",
        "    res = index.query(vector=query_vector, top_k=1, include_metadata=True)\n",
        "\n",
        "    if res.matches:\n",
        "        extra_snippet = {\n",
        "            \"id\": res.matches[0].id,\n",
        "            \"score\": res.matches[0].score,\n",
        "            \"question\": res.matches[0].metadata.get(\"question\", \"\"),\n",
        "            \"answer_snippet\": res.matches[0].metadata.get(\"answer_snippet\", \"\"),\n",
        "            \"source\": res.matches[0].metadata.get(\"source\", \"\")\n",
        "        }\n",
        "        state.retrieved_snippets.append(extra_snippet)\n",
        "\n",
        "    context = \"\\n\".join(\n",
        "        [f\"[{s['id']}] Q: {s['question']} A: {s['answer_snippet']}\" for s in state.retrieved_snippets]\n",
        "    )\n",
        "    prompt = f\"\"\"Refine the answer using the updated KB snippets. Always cite sources as [KBxxx].\n",
        "\n",
        "Query: {state.query}\n",
        "\n",
        "Snippets:\n",
        "{context}\n",
        "\n",
        "Refined Answer:\"\"\"\n",
        "\n",
        "    resp = llm.invoke(prompt)\n",
        "    state.refined_answer = resp.content\n",
        "    return state\n"
      ]
    },
    {
      "cell_type": "code",
      "execution_count": null,
      "metadata": {},
      "outputs": [],
      "source": [
        "\n"
      ]
    },
    {
      "cell_type": "code",
      "execution_count": 22,
      "metadata": {},
      "outputs": [],
      "source": [
        "# init_state = RAGState(query=\"What are best practices for caching?\")\n",
        "# final_state = .invoke(init_state)\n",
        "# print(\"Initial Answer:\", final_state[\"initial_answer\"])\n",
        "# print(\"Critique Complete?\", final_state[\"critique_complete\"])\n",
        "# print(\"Final Answer:\", final_state.get(\"refined_answer\") or final_state[\"initial_answer\"])\n",
        "\n"
      ]
    },
    {
      "cell_type": "code",
      "execution_count": 33,
      "metadata": {},
      "outputs": [
        {
          "data": {
            "text/plain": [
              "<langgraph.graph.state.StateGraph at 0x75e9b83da7e0>"
            ]
          },
          "execution_count": 33,
          "metadata": {},
          "output_type": "execute_result"
        }
      ],
      "source": [
        "workflow = StateGraph(RAGState)\n",
        "\n",
        "# Add nodes\n",
        "workflow.add_node(\"Retriever\", retriever_node)\n",
        "workflow.add_node(\"Answer\", llm_answer_node)\n",
        "workflow.add_node(\"Critique\", critique_node)\n",
        "workflow.add_node(\"Refine\", refinement_node)\n",
        "\n",
        "# Set entry point\n",
        "workflow.set_entry_point(\"Retriever\")\n",
        "\n",
        "# Add normal edges\n",
        "workflow.add_edge(\"Retriever\", \"Answer\")\n",
        "workflow.add_edge(\"Answer\", \"Critique\")\n",
        "\n",
        "# Conditional edge for Critique\n",
        "workflow.add_conditional_edges(\n",
        "    \"Critique\",\n",
        "    lambda state: \"Refine\" if not state.critique_complete else None,\n",
        "    {\"Refine\": \"Refine\"}  # None → END automatically\n",
        ")\n",
        "\n",
        "# Refinement node always ends\n",
        "workflow.add_edge(\"Refine\", END)\n"
      ]
    },
    {
      "cell_type": "code",
      "execution_count": 29,
      "metadata": {},
      "outputs": [],
      "source": [
        "#from langgraph.graph import START"
      ]
    },
    {
      "cell_type": "code",
      "execution_count": 39,
      "metadata": {},
      "outputs": [
        {
          "ename": "AttributeError",
          "evalue": "'CompiledStateGraph' object has no attribute 'draw_mermaid_png'",
          "output_type": "error",
          "traceback": [
            "\u001b[31m---------------------------------------------------------------------------\u001b[39m",
            "\u001b[31mAttributeError\u001b[39m                            Traceback (most recent call last)",
            "\u001b[36mCell\u001b[39m\u001b[36m \u001b[39m\u001b[32mIn[39]\u001b[39m\u001b[32m, line 2\u001b[39m\n\u001b[32m      1\u001b[39m agent_rag = workflow.compile()\n\u001b[32m----> \u001b[39m\u001b[32m2\u001b[39m mermaid_code = \u001b[43magent_rag\u001b[49m\u001b[43m.\u001b[49m\u001b[43mdraw_mermaid_png\u001b[49m()  \u001b[38;5;66;03m# access .graph from compiled object\u001b[39;00m\n\u001b[32m      3\u001b[39m \u001b[38;5;28mprint\u001b[39m(mermaid_code)\n",
            "\u001b[31mAttributeError\u001b[39m: 'CompiledStateGraph' object has no attribute 'draw_mermaid_png'"
          ]
        }
      ],
      "source": [
        "\n",
        "agent_rag = workflow.compile()\n",
        "mermaid_code = agent_rag.draw_mermaid_png()  # access .graph from compiled object\n",
        "print(mermaid_code)\n"
      ]
    },
    {
      "cell_type": "code",
      "execution_count": 40,
      "metadata": {},
      "outputs": [
        {
          "data": {
            "image/png": "[encoded data removed]",
            "text/plain": [
              "<Figure size 1000x600 with 1 Axes>"
            ]
          },
          "metadata": {},
          "output_type": "display_data"
        },
        {
          "name": "stderr",
          "output_type": "stream",
          "text": [
            "2025/10/04 00:53:51 INFO mlflow.tracking.fluent: Experiment with name 'Agentic_RAG_Workflow' does not exist. Creating a new experiment.\n"
          ]
        },
        {
          "name": "stdout",
          "output_type": "stream",
          "text": [
            "Retriever: ['[KB1] snippet for What are best practices for debugging?', '[KB2] snippet for What are best practices for debugging?', '[KB3] snippet for What are best practices for debugging?', '[KB4] snippet for What are best practices for debugging?', '[KB5] snippet for What are best practices for debugging?']\n",
            "LLM Answer: Answer for 'What are best practices for debugging?' using snippets ['[KB1] snippet for What are best practices for debugging?', '[KB2] snippet for What are best practices for debugging?', '[KB3] snippet for What are best practices for debugging?', '[KB4] snippet for What are best practices for debugging?', '[KB5] snippet for What are best practices for debugging?']\n",
            "Critique complete? True\n"
          ]
        }
      ],
      "source": [
        "# Imports\n",
        "import os\n",
        "import mlflow\n",
        "import networkx as nx\n",
        "import matplotlib.pyplot as plt\n",
        "from pydantic import BaseModel\n",
        "from langgraph.graph import StateGraph, END\n",
        "\n",
        "# -------------------------------\n",
        "# 1. Define RAG State using Pydantic\n",
        "# -------------------------------\n",
        "class RAGState(BaseModel):\n",
        "    query: str\n",
        "    retrieved_snippets: list = []\n",
        "    initial_answer: str = \"\"\n",
        "    critique_complete: bool = False\n",
        "    refined_answer: str = \"\"\n",
        "    refined_query: str = \"\"\n",
        "\n",
        "# -------------------------------\n",
        "# 2. Define Node Functions\n",
        "# -------------------------------\n",
        "def retriever_node(state: RAGState):\n",
        "    # Example: fetch top 5 snippets (pseudo-code)\n",
        "    state.retrieved_snippets = [f\"[KB{i}] snippet for {state.query}\" for i in range(1,6)]\n",
        "    mlflow.log_text(str(state.retrieved_snippets), \"retrieved_snippets.txt\")\n",
        "    print(\"Retriever:\", state.retrieved_snippets)\n",
        "    return state\n",
        "\n",
        "def llm_answer_node(state: RAGState):\n",
        "    # Example: generate answer from snippets\n",
        "    state.initial_answer = f\"Answer for '{state.query}' using snippets {state.retrieved_snippets}\"\n",
        "    mlflow.log_text(state.initial_answer, \"initial_answer.txt\")\n",
        "    print(\"LLM Answer:\", state.initial_answer)\n",
        "    return state\n",
        "\n",
        "def critique_node(state: RAGState):\n",
        "    # Example grader logic\n",
        "    state.critique_complete = len(state.query) % 2 == 0  # dummy grader: True if query length even\n",
        "    mlflow.log_param(\"critique_complete\", state.critique_complete)\n",
        "    print(\"Critique complete?\", state.critique_complete)\n",
        "    return state\n",
        "\n",
        "def refinement_node(state: RAGState):\n",
        "    # Only called if critique_complete == False\n",
        "    state.refined_query = state.query + \" (refined)\"\n",
        "    state.refined_answer = f\"Refined answer for '{state.refined_query}' using extra snippet [KB6]\"\n",
        "    mlflow.log_text(state.refined_answer, \"refined_answer.txt\")\n",
        "    print(\"Refined Query:\", state.refined_query)\n",
        "    print(\"Refined Answer:\", state.refined_answer)\n",
        "    return state\n",
        "\n",
        "# -------------------------------\n",
        "# 3. Build LangGraph workflow\n",
        "# -------------------------------\n",
        "workflow = StateGraph(RAGState)\n",
        "\n",
        "workflow.add_node(\"Retriever\", retriever_node)\n",
        "workflow.add_node(\"Answer\", llm_answer_node)\n",
        "workflow.add_node(\"Critique\", critique_node)\n",
        "workflow.add_node(\"Refine\", refinement_node)\n",
        "\n",
        "workflow.set_entry_point(\"Retriever\")\n",
        "\n",
        "workflow.add_edge(\"Retriever\", \"Answer\")\n",
        "workflow.add_edge(\"Answer\", \"Critique\")\n",
        "workflow.add_conditional_edges(\n",
        "    \"Critique\",\n",
        "    lambda state: \"Refine\" if not state.critique_complete else None,\n",
        "    {\"Refine\": \"Refine\"}  # None → END automatically\n",
        ")\n",
        "workflow.add_edge(\"Refine\", END)\n",
        "\n",
        "# -------------------------------\n",
        "# 4. Visualize workflow with NetworkX\n",
        "# -------------------------------\n",
        "nodes = [\"Retriever\", \"Answer\", \"Critique\", \"Refine\", \"END\"]\n",
        "edges = [(\"Retriever\",\"Answer\"),(\"Answer\",\"Critique\"),(\"Critique\",\"Refine\"),(\"Refine\",\"END\")]\n",
        "\n",
        "G = nx.DiGraph()\n",
        "G.add_nodes_from(nodes)\n",
        "G.add_edges_from(edges)\n",
        "\n",
        "plt.figure(figsize=(10,6))\n",
        "nx.draw(G, with_labels=True, node_size=3000, node_color=\"skyblue\", arrows=True)\n",
        "plt.title(\"Agentic RAG Workflow\")\n",
        "plt.show()\n",
        "\n",
        "# -------------------------------\n",
        "# 5. Run workflow with MLflow logging\n",
        "# -------------------------------\n",
        "mlflow.set_experiment(\"Agentic_RAG_Workflow\")\n",
        "with mlflow.start_run(run_name=\"run_1\"):\n",
        "    user_query = \"What are best practices for debugging?\"\n",
        "    state = RAGState(query=user_query)\n",
        "    \n",
        "    # Execute nodes in sequence manually\n",
        "    state = retriever_node(state)\n",
        "    state = llm_answer_node(state)\n",
        "    state = critique_node(state)\n",
        "    if not state.critique_complete:\n",
        "        state = refinement_node(state)\n",
        "    \n",
        "    # Log final state\n",
        "    mlflow.log_text(state.initial_answer, \"final_initial_answer.txt\")\n",
        "    if state.refined_answer:\n",
        "        mlflow.log_text(state.refined_answer, \"final_refined_answer.txt\")\n",
        "\n"
      ]
    },
    {
      "cell_type": "markdown",
      "metadata": {},
      "source": [
        "✅ Features of This Notebook\n",
        "Pydantic State: ensures all attributes exist and typed.\n",
        "\n",
        "Tracing / Printing: prints current node, query, initial answer, grader output, refined query/answer.\n",
        "\n",
        "MLflow Logging: logs snippets, answers, grader results, refined answer.\n",
        "\n",
        "Workflow Graph: visualized inline with NetworkX + Matplotlib.\n",
        "\n",
        "Conditional refinement: only executes Refine if critique_complete is False."
      ]
    },
    {
      "cell_type": "markdown",
      "metadata": {},
      "source": [
        "### Thank You!"
      ]
    }
  ],
  "metadata": {
    "colab": {
      "include_colab_link": true,
      "provenance": []
    },
    "kernelspec": {
      "display_name": "genai",
      "language": "python",
      "name": "python3"
    },
    "language_info": {
      "codemirror_mode": {
        "name": "ipython",
        "version": 3
      },
      "file_extension": ".py",
      "mimetype": "text/x-python",
      "name": "python",
      "nbconvert_exporter": "python",
      "pygments_lexer": "ipython3",
      "version": "3.12.3"
    }
  },
  "nbformat": 4,
  "nbformat_minor": 0
}
