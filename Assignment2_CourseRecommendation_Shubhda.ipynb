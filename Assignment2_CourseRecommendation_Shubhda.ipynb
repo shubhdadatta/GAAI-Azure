{
  "cells": [
    {
      "cell_type": "markdown",
      "metadata": {
        "id": "SpVgBlJNayoI"
      },
      "source": [
        "# Course Recommendation System"
      ]
    },
    {
      "cell_type": "code",
      "execution_count": 1,
      "metadata": {
        "colab": {
          "base_uri": "https://localhost:8080/"
        },
        "id": "28d272cd-4e31-40aa-bbb4-0be0a1f49a14",
        "outputId": "9732f606-6c04-4ad7-e0e6-b4d644fa5aa4"
      },
      "outputs": [],
      "source": [
        "#!python -m pip install langchain-community langchainhub langchain-chroma langchain langchain-experimental --quiet"
      ]
    },
    {
      "cell_type": "code",
      "execution_count": 2,
      "metadata": {
        "colab": {
          "base_uri": "https://localhost:8080/"
        },
        "id": "bLonIlavDBci",
        "outputId": "723d17aa-3376-4997-9988-a995acd2b072"
      },
      "outputs": [],
      "source": [
        "#!python -m pip install pypdf faiss-cpu --quiet"
      ]
    },
    {
      "cell_type": "markdown",
      "metadata": {},
      "source": [
        "### Setup and Imports"
      ]
    },
    {
      "cell_type": "code",
      "execution_count": 3,
      "metadata": {},
      "outputs": [
        {
          "name": "stderr",
          "output_type": "stream",
          "text": [
            "/home/zadmin/Desktop/GAAI-B4-Azure/genai/lib/python3.12/site-packages/tqdm/auto.py:21: TqdmWarning: IProgress not found. Please update jupyter and ipywidgets. See https://ipywidgets.readthedocs.io/en/stable/user_install.html\n",
            "  from .autonotebook import tqdm as notebook_tqdm\n"
          ]
        }
      ],
      "source": [
        "import os\n",
        "import pandas as pd\n",
        "import logging\n",
        "from typing import List, Tuple, Optional\n",
        "\n",
        "from langchain_openai import AzureOpenAIEmbeddings, AzureChatOpenAI\n",
        "from langchain.prompts import PromptTemplate\n",
        "from langchain.chains import LLMChain\n",
        "from langchain_community.vectorstores import Chroma\n"
      ]
    },
    {
      "cell_type": "markdown",
      "metadata": {},
      "source": [
        "### Logging Setup\n"
      ]
    },
    {
      "cell_type": "code",
      "execution_count": 4,
      "metadata": {},
      "outputs": [],
      "source": [
        "\n",
        "logging.basicConfig(\n",
        "    level=logging.INFO,\n",
        "    format=\"%(asctime)s | %(levelname)s | %(message)s\",\n",
        "    handlers=[logging.StreamHandler()]\n",
        ")\n",
        "logger = logging.getLogger(__name__)\n"
      ]
    },
    {
      "cell_type": "code",
      "execution_count": 5,
      "metadata": {
        "id": "Ja6U3t6abVpU"
      },
      "outputs": [],
      "source": [
        "\n",
        "embedding_model_name = \"text-embedding-3-small\"\n",
        "model_name = \"gpt4o\""
      ]
    },
    {
      "cell_type": "markdown",
      "metadata": {},
      "source": [
        "### Initialize Embedding and llm Model"
      ]
    },
    {
      "cell_type": "code",
      "execution_count": 6,
      "metadata": {},
      "outputs": [],
      "source": [
        "\n",
        "PINECONE_API_KEY=pcsk_3sQW5Q_D5rWa1uWzhFCrXyLeupVQgjKn8onPJ7PVVtdb45bvkw9Aa4Yb9cA9gMdvD9T7qd",
        "def init_openai_clients() -> Tuple[AzureOpenAIEmbeddings, AzureChatOpenAI]:\n",
        "    \"\"\"Initialize Azure OpenAI embeddings and chat models.\"\"\"\n",
        "    api_key = os.getenv(\"AZURE_OPENAI_API_KEY\")\n",
        "    endpoint = os.getenv(\"AZURE_OPENAI_ENDPOINT\")\n",
        "    version = os.getenv(\"AZURE_OPENAI_API_VERSION\")\n",
        "\n",
        "    if not api_key or not endpoint:\n",
        "        raise EnvironmentError(\"Azure OpenAI credentials are not set.\")\n",
        "\n",
        "    embeddings = AzureOpenAIEmbeddings(\n",
        "    model=embedding_model_name,\n",
        "    azure_endpoint=os.environ[\"AZURE_OPENAI_ENDPOINT\"],\n",
        "    api_version=os.environ.get(\"AZURE_OPENAI_API_VERSION\", \"2024-02-01\"),\n",
        "    )\n",
        "\n",
        "    llm = AzureChatOpenAI(\n",
        "        model=model_name,\n",
        "        azure_endpoint=os.environ[\"AZURE_OPENAI_ENDPOINT\"],\n",
        "        api_version=os.environ.get(\"AZURE_OPENAI_API_VERSION\", \"2024-02-01\"),\n",
        "        temperature=0\n",
        "    )\n",
        "    return embeddings, llm"
      ]
    },
    {
      "cell_type": "code",
      "execution_count": 7,
      "metadata": {},
      "outputs": [],
      "source": [
        "embeddings, llm=init_openai_clients()"
      ]
    },
    {
      "cell_type": "code",
      "execution_count": 8,
      "metadata": {},
      "outputs": [
        {
          "data": {
            "text/plain": [
              "AzureOpenAIEmbeddings(client=<openai.resources.embeddings.Embeddings object at 0x79654cfda240>, async_client=<openai.resources.embeddings.AsyncEmbeddings object at 0x79654cabde80>, model='text-embedding-3-small', dimensions=None, deployment=None, openai_api_version='2024-08-01-preview', openai_api_base=None, openai_api_type='azure', openai_proxy=None, embedding_ctx_length=8191, openai_api_key=SecretStr('**********'), openai_organization=None, allowed_special=None, disallowed_special=None, chunk_size=2048, max_retries=2, request_timeout=None, headers=None, tiktoken_enabled=True, tiktoken_model_name=None, show_progress_bar=False, model_kwargs={}, skip_empty=False, default_headers=None, default_query=None, retry_min_seconds=4, retry_max_seconds=20, http_client=None, http_async_client=None, check_embedding_ctx_length=True, azure_endpoint='https://eastus.api.cognitive.microsoft.com/', azure_ad_token=None, azure_ad_token_provider=None, azure_ad_async_token_provider=None, validate_base_url=True)"
            ]
          },
          "execution_count": 8,
          "metadata": {},
          "output_type": "execute_result"
        }
      ],
      "source": [
        "embeddings"
      ]
    },
    {
      "cell_type": "code",
      "execution_count": 9,
      "metadata": {},
      "outputs": [
        {
          "data": {
            "text/plain": [
              "AzureChatOpenAI(client=<openai.resources.chat.completions.completions.Completions object at 0x79654cabe900>, async_client=<openai.resources.chat.completions.completions.AsyncCompletions object at 0x79654cabeed0>, root_client=<openai.lib.azure.AzureOpenAI object at 0x79654ca19a30>, root_async_client=<openai.lib.azure.AsyncAzureOpenAI object at 0x79654cabe930>, model_name='gpt4o', temperature=0.0, model_kwargs={}, openai_api_key=SecretStr('**********'), disabled_params={'parallel_tool_calls': None}, azure_endpoint='https://eastus.api.cognitive.microsoft.com/', openai_api_version='2024-08-01-preview', openai_api_type='azure')"
            ]
          },
          "execution_count": 9,
          "metadata": {},
          "output_type": "execute_result"
        }
      ],
      "source": [
        "llm"
      ]
    },
    {
      "cell_type": "markdown",
      "metadata": {},
      "source": [
        "### Load Dataset"
      ]
    },
    {
      "cell_type": "code",
      "execution_count": 10,
      "metadata": {},
      "outputs": [],
      "source": [
        "\n",
        "def load_dataset(url: str) -> pd.DataFrame:\n",
        "    \"\"\"Load dataset and prepare text field.\"\"\"\n",
        "    df = pd.read_csv(url)\n",
        "    if df.empty:\n",
        "        raise ValueError(\"Dataset is empty.\")\n",
        "    df[\"text\"] = df[\"title\"] + \" \" + df[\"description\"]\n",
        "    return df\n"
      ]
    },
    {
      "cell_type": "code",
      "execution_count": 11,
      "metadata": {},
      "outputs": [
        {
          "data": {
            "text/html": [
              "<div>\n",
              "<style scoped>\n",
              "    .dataframe tbody tr th:only-of-type {\n",
              "        vertical-align: middle;\n",
              "    }\n",
              "\n",
              "    .dataframe tbody tr th {\n",
              "        vertical-align: top;\n",
              "    }\n",
              "\n",
              "    .dataframe thead th {\n",
              "        text-align: right;\n",
              "    }\n",
              "</style>\n",
              "<table border=\"1\" class=\"dataframe\">\n",
              "  <thead>\n",
              "    <tr style=\"text-align: right;\">\n",
              "      <th></th>\n",
              "      <th>course_id</th>\n",
              "      <th>title</th>\n",
              "      <th>description</th>\n",
              "      <th>text</th>\n",
              "    </tr>\n",
              "  </thead>\n",
              "  <tbody>\n",
              "    <tr>\n",
              "      <th>0</th>\n",
              "      <td>C001</td>\n",
              "      <td>Foundations of Machine Learning</td>\n",
              "      <td>Understand foundational machine learning algor...</td>\n",
              "      <td>Foundations of Machine Learning Understand fou...</td>\n",
              "    </tr>\n",
              "    <tr>\n",
              "      <th>1</th>\n",
              "      <td>C002</td>\n",
              "      <td>Deep Learning with TensorFlow and Keras</td>\n",
              "      <td>Explore neural network architectures using Ten...</td>\n",
              "      <td>Deep Learning with TensorFlow and Keras Explor...</td>\n",
              "    </tr>\n",
              "    <tr>\n",
              "      <th>2</th>\n",
              "      <td>C003</td>\n",
              "      <td>Natural Language Processing Fundamentals</td>\n",
              "      <td>Dive into NLP techniques for processing and un...</td>\n",
              "      <td>Natural Language Processing Fundamentals Dive ...</td>\n",
              "    </tr>\n",
              "    <tr>\n",
              "      <th>3</th>\n",
              "      <td>C004</td>\n",
              "      <td>Computer Vision and Image Processing</td>\n",
              "      <td>Learn the principles of computer vision and im...</td>\n",
              "      <td>Computer Vision and Image Processing Learn the...</td>\n",
              "    </tr>\n",
              "    <tr>\n",
              "      <th>4</th>\n",
              "      <td>C005</td>\n",
              "      <td>Reinforcement Learning Basics</td>\n",
              "      <td>Get introduced to reinforcement learning parad...</td>\n",
              "      <td>Reinforcement Learning Basics Get introduced t...</td>\n",
              "    </tr>\n",
              "  </tbody>\n",
              "</table>\n",
              "</div>"
            ],
            "text/plain": [
              "  course_id                                     title  \\\n",
              "0      C001           Foundations of Machine Learning   \n",
              "1      C002   Deep Learning with TensorFlow and Keras   \n",
              "2      C003  Natural Language Processing Fundamentals   \n",
              "3      C004      Computer Vision and Image Processing   \n",
              "4      C005             Reinforcement Learning Basics   \n",
              "\n",
              "                                         description  \\\n",
              "0  Understand foundational machine learning algor...   \n",
              "1  Explore neural network architectures using Ten...   \n",
              "2  Dive into NLP techniques for processing and un...   \n",
              "3  Learn the principles of computer vision and im...   \n",
              "4  Get introduced to reinforcement learning parad...   \n",
              "\n",
              "                                                text  \n",
              "0  Foundations of Machine Learning Understand fou...  \n",
              "1  Deep Learning with TensorFlow and Keras Explor...  \n",
              "2  Natural Language Processing Fundamentals Dive ...  \n",
              "3  Computer Vision and Image Processing Learn the...  \n",
              "4  Reinforcement Learning Basics Get introduced t...  "
            ]
          },
          "execution_count": 11,
          "metadata": {},
          "output_type": "execute_result"
        }
      ],
      "source": [
        "url = \"https://raw.githubusercontent.com/Bluedata-Consulting/GAAPB01-training-code-base/refs/heads/main/Assignments/assignment2dataset.csv\"\n",
        "courses=load_dataset(url)\n",
        "courses.head(5)"
      ]
    },
    {
      "cell_type": "markdown",
      "metadata": {},
      "source": [
        "### Build VectorStore"
      ]
    },
    {
      "cell_type": "code",
      "execution_count": 12,
      "metadata": {},
      "outputs": [],
      "source": [
        "def build_vectorstore(df: pd.DataFrame, embeddings: AzureOpenAIEmbeddings) -> Chroma:\n",
        "    \"\"\"Build vectorstore using Chroma.\"\"\"\n",
        "    return Chroma.from_texts(\n",
        "        texts=df[\"text\"].tolist(),\n",
        "        embedding=embeddings,\n",
        "        metadatas=[\n",
        "            {\"course_id\": cid, \"title\": t}\n",
        "            for cid, t in zip(df[\"course_id\"], df[\"title\"])\n",
        "        ],\n",
        "        collection_name=\"courses\"\n",
        "    )\n"
      ]
    },
    {
      "cell_type": "code",
      "execution_count": 13,
      "metadata": {},
      "outputs": [
        {
          "name": "stderr",
          "output_type": "stream",
          "text": [
            "2025-10-01 12:02:15,066 | INFO | Anonymized telemetry enabled. See                     https://docs.trychroma.com/telemetry for more information.\n",
            "2025-10-01 12:02:20,276 | INFO | HTTP Request: POST https://eastus.api.cognitive.microsoft.com/openai/deployments/text-embedding-3-small/embeddings?api-version=2024-08-01-preview \"HTTP/1.1 200 OK\"\n"
          ]
        }
      ],
      "source": [
        "vectorstore = build_vectorstore(courses, embeddings)"
      ]
    },
    {
      "cell_type": "code",
      "execution_count": 14,
      "metadata": {},
      "outputs": [
        {
          "name": "stdout",
          "output_type": "stream",
          "text": [
            "📚 Sample documents from vectorstore:\n",
            "\n",
            "--- Document 1 ---\n",
            "Foundations of Machine Learning Understand foundational machine learning algorithms including regression, classification, clustering, and dimensionality reduction. This course covers data pre-processing, feature engineering, model selection, hyperparameter tuning, and evaluation metrics. Hands-on la ...\n",
            "\n",
            "--- Document 2 ---\n",
            "Deep Learning with TensorFlow and Keras Explore neural network architectures using TensorFlow and Keras frameworks. This course covers feedforward networks, convolutional neural networks, recurrent neural networks, and transfer learning. Learn to build, train, evaluate, and optimize deep learning mo ...\n",
            "\n",
            "--- Document 3 ---\n",
            "Natural Language Processing Fundamentals Dive into NLP techniques for processing and understanding human language. You will learn tokenization, stemming, lemmatization, part-of-speech tagging, named entity recognition, and sentiment analysis. The course includes transformer architectures, attention  ...\n",
            "\n",
            "--- Document 4 ---\n",
            "Computer Vision and Image Processing Learn the principles of computer vision and image processing. Topics include filtering, edge detection, feature extraction, image segmentation, object detection, and image classification using CNNs. Hands-on labs in Python leverage OpenCV, scikit-image, and Tenso ...\n",
            "\n",
            "--- Document 5 ---\n",
            "Reinforcement Learning Basics Get introduced to reinforcement learning paradigms, including Markov decision processes, Q-learning, policy gradients, and actor-critic methods. Learn to formulate environments, design reward functions, and implement agents using OpenAI Gym and TensorFlow. Through guide ...\n"
          ]
        }
      ],
      "source": [
        "# Peek directly into stored documents\n",
        "print(\"📚 Sample documents from vectorstore:\")\n",
        "for i, doc in enumerate(vectorstore._collection.get()[\"documents\"][:5]):  # show first 5\n",
        "    print(f\"\\n--- Document {i+1} ---\")\n",
        "    print(doc[:300], \"...\")  # print first 300 chars\n"
      ]
    },
    {
      "cell_type": "code",
      "execution_count": 15,
      "metadata": {},
      "outputs": [
        {
          "name": "stdout",
          "output_type": "stream",
          "text": [
            "25\n",
            "1: C001 - Foundations of Machine Learning\n",
            "2: C002 - Deep Learning with TensorFlow and Keras\n",
            "3: C003 - Natural Language Processing Fundamentals\n",
            "4: C004 - Computer Vision and Image Processing\n",
            "5: C005 - Reinforcement Learning Basics\n",
            "6: C006 - Data Engineering on AWS\n",
            "7: C007 - Cloud Computing with Azure\n",
            "8: C008 - DevOps Practices and CI/CD\n",
            "9: C009 - Containerization with Docker and Kubernetes\n",
            "10: C010 - APIs and Microservices Architecture\n",
            "11: C011 - Big Data Analytics with Spark\n",
            "12: C012 - SQL for Data Analysis\n",
            "13: C013 - NoSQL Databases and MongoDB\n",
            "14: C014 - Data Visualization with Tableau\n",
            "15: C015 - Business Intelligence with Power BI\n",
            "16: C016 - Python Programming for Data Science\n",
            "17: C017 - R Programming and Statistical Analysis\n",
            "18: C018 - Product Management Essentials\n",
            "19: C019 - Agile and Scrum Mastery\n",
            "20: C020 - User Experience (UX) Design Principles\n",
            "21: C021 - Cybersecurity Fundamentals\n",
            "22: C022 - Internet of Things (IoT) Development\n",
            "23: C023 - Blockchain Technology and Smart Contracts\n",
            "24: C024 - Augmented and Virtual Reality Development\n",
            "25: C025 - MLOps: Productionizing Machine Learning\n"
          ]
        }
      ],
      "source": [
        "print(vectorstore._collection.count())  # how many docs stored?\n",
        "\n",
        "docs = vectorstore._collection.get()\n",
        "for i, (doc, meta) in enumerate(zip(docs[\"documents\"], docs[\"metadatas\"])):\n",
        "    print(f\"{i+1}: {meta['course_id']} - {meta['title']}\")\n"
      ]
    },
    {
      "cell_type": "code",
      "execution_count": 16,
      "metadata": {},
      "outputs": [
        {
          "name": "stderr",
          "output_type": "stream",
          "text": [
            "2025-10-01 12:02:21,651 | INFO | HTTP Request: POST https://eastus.api.cognitive.microsoft.com/openai/deployments/text-embedding-3-small/embeddings?api-version=2024-08-01-preview \"HTTP/1.1 200 OK\"\n"
          ]
        },
        {
          "name": "stdout",
          "output_type": "stream",
          "text": [
            "\n",
            " Sample query results:\n",
            "\n",
            "Result 1\n",
            "Course Title: Big Data Analytics with Spark\n",
            "Course ID: C011\n",
            "Snippet: Big Data Analytics with Spark Process and analyze large datasets using Apache Spark and PySpark. The course covers RDDs, DataFrames, Spark SQL, and MLlib for machine learning at scale. You’ll learn cl ...\n",
            "\n",
            "Result 2\n",
            "Course Title: Data Visualization with Tableau\n",
            "Course ID: C014\n",
            "Snippet: Data Visualization with Tableau Transform raw data into compelling visual stories using Tableau. Learn to connect to diverse data sources, create interactive dashboards, and apply best practices in ch ...\n"
          ]
        }
      ],
      "source": [
        "query = \"Data Analytics\"\n",
        "results = vectorstore.similarity_search(query, k=2)\n",
        "\n",
        "print(\"\\n Sample query results:\")\n",
        "for i, doc in enumerate(results, start=1):\n",
        "    print(f\"\\nResult {i}\")\n",
        "    print(\"Course Title:\", doc.metadata.get(\"title\", \"N/A\"))\n",
        "    print(\"Course ID:\", doc.metadata.get(\"course_id\", \"N/A\"))\n",
        "    print(\"Snippet:\", doc.page_content[:200], \"...\")\n"
      ]
    },
    {
      "cell_type": "markdown",
      "metadata": {},
      "source": [
        "### Build Query Chain\n",
        "''' This step is added to refine the user input so that llm can construct query from user input in standard format for vectore database'''"
      ]
    },
    {
      "cell_type": "code",
      "execution_count": 17,
      "metadata": {},
      "outputs": [],
      "source": [
        "\n",
        "def build_query_chain(llm: AzureChatOpenAI) -> LLMChain:\n",
        "    \"\"\"LLM chain for rewriting user queries.\"\"\"\n",
        "    query_prompt = PromptTemplate(\n",
        "        input_variables=[\"profile\", \"completed\"],\n",
        "        template=\"\"\"\n",
        "Rewrite the following learner information into a standardized search query.\n",
        "\n",
        "Completed courses: {completed}\n",
        "User interests: {profile}\n",
        "\n",
        "Make it short, specific, and include both past learning and new interests.\n",
        "\"\"\"\n",
        "    )\n",
        "    return LLMChain(llm=llm, prompt=query_prompt)\n"
      ]
    },
    {
      "cell_type": "code",
      "execution_count": 18,
      "metadata": {},
      "outputs": [
        {
          "name": "stderr",
          "output_type": "stream",
          "text": [
            "/tmp/ipykernel_2843/4049127840.py:14: LangChainDeprecationWarning: The class `LLMChain` was deprecated in LangChain 0.1.17 and will be removed in 1.0. Use :meth:`~RunnableSequence, e.g., `prompt | llm`` instead.\n",
            "  return LLMChain(llm=llm, prompt=query_prompt)\n"
          ]
        },
        {
          "data": {
            "text/plain": [
              "LLMChain(verbose=False, prompt=PromptTemplate(input_variables=['completed', 'profile'], input_types={}, partial_variables={}, template='\\nRewrite the following learner information into a standardized search query.\\n\\nCompleted courses: {completed}\\nUser interests: {profile}\\n\\nMake it short, specific, and include both past learning and new interests.\\n'), llm=AzureChatOpenAI(client=<openai.resources.chat.completions.completions.Completions object at 0x79654cabe900>, async_client=<openai.resources.chat.completions.completions.AsyncCompletions object at 0x79654cabeed0>, root_client=<openai.lib.azure.AzureOpenAI object at 0x79654ca19a30>, root_async_client=<openai.lib.azure.AsyncAzureOpenAI object at 0x79654cabe930>, model_name='gpt4o', temperature=0.0, model_kwargs={}, openai_api_key=SecretStr('**********'), disabled_params={'parallel_tool_calls': None}, azure_endpoint='https://eastus.api.cognitive.microsoft.com/', openai_api_version='2024-08-01-preview', openai_api_type='azure'), output_parser=StrOutputParser(), llm_kwargs={})"
            ]
          },
          "execution_count": 18,
          "metadata": {},
          "output_type": "execute_result"
        }
      ],
      "source": [
        "query_chain = build_query_chain(llm)\n",
        "query_chain"
      ]
    },
    {
      "cell_type": "markdown",
      "metadata": {},
      "source": [
        "### Identify top K Course Recommendations using similarity search from chorma db"
      ]
    },
    {
      "cell_type": "code",
      "execution_count": 19,
      "metadata": {},
      "outputs": [],
      "source": [
        "def recommend_courses(\n",
        "    profile: str,\n",
        "    completed_ids: Optional[List[str]],\n",
        "    df: pd.DataFrame,\n",
        "    vectorstore: Chroma,\n",
        "    query_chain: LLMChain,\n",
        "    top_k: int = 5\n",
        ") -> List[Tuple[str, float, str]]:\n",
        "    \"\"\"Generate top-k course recommendations with deduplication.\"\"\"\n",
        "    if not profile and not completed_ids:\n",
        "        raise ValueError(\"Profile and completed courses cannot both be empty.\")\n",
        "\n",
        "    # Get completed course titles for rewriting\n",
        "    completed_titles = df[df[\"course_id\"].isin(completed_ids or [])][\"title\"].tolist()\n",
        "    \n",
        "    # Use LLM to rewrite into a standardized query\n",
        "    rewritten_query = query_chain.run({\n",
        "        \"profile\": profile or \"\",\n",
        "        \"completed\": \", \".join(completed_titles) if completed_titles else \"None\"\n",
        "    })\n",
        "    logger.info(f\"🔎 Rewritten Query: {rewritten_query}\")\n",
        "\n",
        "    # Search more than needed (to allow deduplication)\n",
        "    results = vectorstore.similarity_search_with_score(rewritten_query, k=top_k * 3)\n",
        "\n",
        "    # Deduplicate by course_id\n",
        "    seen = set()\n",
        "    recs = []\n",
        "    for doc, score in results:\n",
        "        cid = doc.metadata[\"course_id\"]\n",
        "        if cid not in seen and cid not in (completed_ids or []):\n",
        "            seen.add(cid)\n",
        "            recs.append((cid, score, doc.metadata[\"title\"]))\n",
        "        if len(recs) >= top_k:\n",
        "            break\n",
        "\n",
        "    return recs\n"
      ]
    },
    {
      "cell_type": "code",
      "execution_count": 20,
      "metadata": {},
      "outputs": [
        {
          "name": "stderr",
          "output_type": "stream",
          "text": [
            "/tmp/ipykernel_2843/717662746.py:17: LangChainDeprecationWarning: The method `Chain.run` was deprecated in langchain 0.1.0 and will be removed in 1.0. Use :meth:`~invoke` instead.\n",
            "  rewritten_query = query_chain.run({\n",
            "2025-10-01 12:02:27,216 | INFO | HTTP Request: POST https://eastus.api.cognitive.microsoft.com/openai/deployments/gpt4o/chat/completions?api-version=2024-08-01-preview \"HTTP/1.1 200 OK\"\n",
            "2025-10-01 12:02:27,226 | INFO | 🔎 Rewritten Query: \"Completed courses: None; Interests: data\"\n",
            "2025-10-01 12:02:28,205 | INFO | HTTP Request: POST https://eastus.api.cognitive.microsoft.com/openai/deployments/text-embedding-3-small/embeddings?api-version=2024-08-01-preview \"HTTP/1.1 200 OK\"\n"
          ]
        },
        {
          "name": "stdout",
          "output_type": "stream",
          "text": [
            "\n",
            "Top Recommendations:\n",
            "  C012 | SQL for Data Analysis | score=1.3674\n",
            "  C017 | R Programming and Statistical Analysis | score=1.4019\n",
            "  C011 | Big Data Analytics with Spark | score=1.4146\n",
            "  C006 | Data Engineering on AWS | score=1.4337\n",
            "  C001 | Foundations of Machine Learning | score=1.4523\n"
          ]
        }
      ],
      "source": [
        "\n",
        "profile = \"data\"  # vague query\n",
        "completed_ids = []\n",
        "\n",
        "recs = recommend_courses(profile, completed_ids, courses, vectorstore, query_chain)\n",
        "print(\"\\nTop Recommendations:\")\n",
        "for cid, score, title in recs:\n",
        "    print(f\"  {cid} | {title} | score={score:.4f}\")\n",
        "\n",
        "\n"
      ]
    },
    {
      "cell_type": "markdown",
      "metadata": {},
      "source": [
        "### Evaluation Section"
      ]
    },
    {
      "cell_type": "code",
      "execution_count": 21,
      "metadata": {},
      "outputs": [
        {
          "name": "stderr",
          "output_type": "stream",
          "text": [
            "2025-10-01 12:02:28,993 | INFO | HTTP Request: POST https://eastus.api.cognitive.microsoft.com/openai/deployments/gpt4o/chat/completions?api-version=2024-08-01-preview \"HTTP/1.1 200 OK\"\n",
            "2025-10-01 12:02:28,995 | INFO | 🔎 Rewritten Query: \"Completed: Python Programming for Data Science; Interests: Data visualization; Search for advanced data visualization courses.\"\n",
            "2025-10-01 12:02:29,273 | INFO | HTTP Request: POST https://eastus.api.cognitive.microsoft.com/openai/deployments/text-embedding-3-small/embeddings?api-version=2024-08-01-preview \"HTTP/1.1 200 OK\"\n",
            "2025-10-01 12:02:29,830 | INFO | HTTP Request: POST https://eastus.api.cognitive.microsoft.com/openai/deployments/gpt4o/chat/completions?api-version=2024-08-01-preview \"HTTP/1.1 200 OK\"\n",
            "2025-10-01 12:02:29,832 | INFO | 🔎 Rewritten Query: \"User with basic Azure knowledge seeks courses on container management and CI/CD pipeline development.\"\n",
            "2025-10-01 12:02:30,109 | INFO | HTTP Request: POST https://eastus.api.cognitive.microsoft.com/openai/deployments/text-embedding-3-small/embeddings?api-version=2024-08-01-preview \"HTTP/1.1 200 OK\"\n",
            "2025-10-01 12:02:30,830 | INFO | HTTP Request: POST https://eastus.api.cognitive.microsoft.com/openai/deployments/gpt4o/chat/completions?api-version=2024-08-01-preview \"HTTP/1.1 200 OK\"\n",
            "2025-10-01 12:02:30,832 | INFO | 🔎 Rewritten Query: \"User with no completed courses, background in ML fundamentals, seeking specialization in neural networks and production workflows.\"\n",
            "2025-10-01 12:02:31,112 | INFO | HTTP Request: POST https://eastus.api.cognitive.microsoft.com/openai/deployments/text-embedding-3-small/embeddings?api-version=2024-08-01-preview \"HTTP/1.1 200 OK\"\n",
            "2025-10-01 12:02:31,749 | INFO | HTTP Request: POST https://eastus.api.cognitive.microsoft.com/openai/deployments/gpt4o/chat/completions?api-version=2024-08-01-preview \"HTTP/1.1 200 OK\"\n",
            "2025-10-01 12:02:31,751 | INFO | 🔎 Rewritten Query: \"User has no completed courses and is interested in learning to build and deploy microservices with Kubernetes. What are the best course recommendations?\"\n",
            "2025-10-01 12:02:32,027 | INFO | HTTP Request: POST https://eastus.api.cognitive.microsoft.com/openai/deployments/text-embedding-3-small/embeddings?api-version=2024-08-01-preview \"HTTP/1.1 200 OK\"\n",
            "2025-10-01 12:02:32,622 | INFO | HTTP Request: POST https://eastus.api.cognitive.microsoft.com/openai/deployments/gpt4o/chat/completions?api-version=2024-08-01-preview \"HTTP/1.1 200 OK\"\n",
            "2025-10-01 12:02:32,624 | INFO | 🔎 Rewritten Query: \"User with no completed courses seeks beginner-level resources on blockchain and smart contracts.\"\n",
            "2025-10-01 12:02:32,900 | INFO | HTTP Request: POST https://eastus.api.cognitive.microsoft.com/openai/deployments/text-embedding-3-small/embeddings?api-version=2024-08-01-preview \"HTTP/1.1 200 OK\"\n"
          ]
        }
      ],
      "source": [
        "\n",
        "\n",
        "test_profiles = [\n",
        "    (\"I’ve completed the ‘Python Programming for Data Science’ course and enjoy data visualization.\", [\"C101\"]),\n",
        "    (\"I know Azure basics and want to manage containers and build CI/CD pipelines.\", [\"C202\"]),\n",
        "    (\"My background is in ML fundamentals; I’d like to specialize in neural networks and production workflows.\", [\"C303\"]),\n",
        "    (\"I want to learn to build and deploy microservices with Kubernetes—what courses fit best?\", [\"C404\"]),\n",
        "    (\"I’m interested in blockchain and smart contracts but have no prior experience.\", []),\n",
        "]\n",
        "\n",
        "results_table = []\n",
        "\n",
        "for profile, completed in test_profiles:\n",
        "    recs = recommend_courses(profile, completed, courses, vectorstore, query_chain)\n",
        "    rec_ids = [cid for cid, _, _ in recs]\n",
        "    rec_titles = [title for _, _, title in recs]\n",
        "\n",
        "    results_table.append({\n",
        "        \"User Query\": profile,\n",
        "        \"Completed Courses\": completed,\n",
        "        \"Recommended Course IDs\": rec_ids,\n",
        "        \"Recommended Titles\": rec_titles\n",
        "    })\n",
        "\n",
        "eval_df = pd.DataFrame(results_table)\n"
      ]
    },
    {
      "cell_type": "code",
      "execution_count": 22,
      "metadata": {},
      "outputs": [
        {
          "data": {
            "text/html": [
              "<div>\n",
              "<style scoped>\n",
              "    .dataframe tbody tr th:only-of-type {\n",
              "        vertical-align: middle;\n",
              "    }\n",
              "\n",
              "    .dataframe tbody tr th {\n",
              "        vertical-align: top;\n",
              "    }\n",
              "\n",
              "    .dataframe thead th {\n",
              "        text-align: right;\n",
              "    }\n",
              "</style>\n",
              "<table border=\"1\" class=\"dataframe\">\n",
              "  <thead>\n",
              "    <tr style=\"text-align: right;\">\n",
              "      <th></th>\n",
              "      <th>User Query</th>\n",
              "      <th>Completed Courses</th>\n",
              "      <th>Recommended Course IDs</th>\n",
              "      <th>Recommended Titles</th>\n",
              "    </tr>\n",
              "  </thead>\n",
              "  <tbody>\n",
              "    <tr>\n",
              "      <th>0</th>\n",
              "      <td>I’ve completed the ‘Python Programming for Dat...</td>\n",
              "      <td>[C101]</td>\n",
              "      <td>[C016, C011, C017, C004, C014]</td>\n",
              "      <td>[Python Programming for Data Science, Big Data...</td>\n",
              "    </tr>\n",
              "    <tr>\n",
              "      <th>1</th>\n",
              "      <td>I know Azure basics and want to manage contain...</td>\n",
              "      <td>[C202]</td>\n",
              "      <td>[C007, C009, C008, C006, C025]</td>\n",
              "      <td>[Cloud Computing with Azure, Containerization ...</td>\n",
              "    </tr>\n",
              "    <tr>\n",
              "      <th>2</th>\n",
              "      <td>My background is in ML fundamentals; I’d like ...</td>\n",
              "      <td>[C303]</td>\n",
              "      <td>[C001, C025, C003, C002, C011]</td>\n",
              "      <td>[Foundations of Machine Learning, MLOps: Produ...</td>\n",
              "    </tr>\n",
              "    <tr>\n",
              "      <th>3</th>\n",
              "      <td>I want to learn to build and deploy microservi...</td>\n",
              "      <td>[C404]</td>\n",
              "      <td>[C009, C007, C010, C008, C006]</td>\n",
              "      <td>[Containerization with Docker and Kubernetes, ...</td>\n",
              "    </tr>\n",
              "    <tr>\n",
              "      <th>4</th>\n",
              "      <td>I’m interested in blockchain and smart contrac...</td>\n",
              "      <td>[]</td>\n",
              "      <td>[C023, C021, C024, C003, C001]</td>\n",
              "      <td>[Blockchain Technology and Smart Contracts, Cy...</td>\n",
              "    </tr>\n",
              "  </tbody>\n",
              "</table>\n",
              "</div>"
            ],
            "text/plain": [
              "                                          User Query Completed Courses  \\\n",
              "0  I’ve completed the ‘Python Programming for Dat...            [C101]   \n",
              "1  I know Azure basics and want to manage contain...            [C202]   \n",
              "2  My background is in ML fundamentals; I’d like ...            [C303]   \n",
              "3  I want to learn to build and deploy microservi...            [C404]   \n",
              "4  I’m interested in blockchain and smart contrac...                []   \n",
              "\n",
              "           Recommended Course IDs  \\\n",
              "0  [C016, C011, C017, C004, C014]   \n",
              "1  [C007, C009, C008, C006, C025]   \n",
              "2  [C001, C025, C003, C002, C011]   \n",
              "3  [C009, C007, C010, C008, C006]   \n",
              "4  [C023, C021, C024, C003, C001]   \n",
              "\n",
              "                                  Recommended Titles  \n",
              "0  [Python Programming for Data Science, Big Data...  \n",
              "1  [Cloud Computing with Azure, Containerization ...  \n",
              "2  [Foundations of Machine Learning, MLOps: Produ...  \n",
              "3  [Containerization with Docker and Kubernetes, ...  \n",
              "4  [Blockchain Technology and Smart Contracts, Cy...  "
            ]
          },
          "execution_count": 22,
          "metadata": {},
          "output_type": "execute_result"
        }
      ],
      "source": [
        "eval_df"
      ]
    },
    {
      "cell_type": "markdown",
      "metadata": {},
      "source": [
        "### Till Now we are only doing:\n",
        "'''User Input about Completed Courses and profile information -> LLM query rewriting → embedding similarity search (Chroma) → top-k results.'''\n",
        "\n",
        "We can enhance our model to ensure better response even if user input does not contain all required inputs. \n",
        "Query Expansion with LLM\n",
        "\n",
        "Instead of just rewriting, expand the query into multiple semantically related sub-queries, then merge results.\n",
        "\n",
        "Example: User says \"data\".\n",
        "\n",
        "Expanded queries:\n",
        "\n",
        "\"data analysis\"\n",
        "\n",
        "\"data science\"\n",
        "\n",
        "\"data visualization\"\n",
        "\n",
        "\"data engineering\"\n",
        "\n",
        "In addition to this, we can make recommendation system robust by adding following Improvements:\n",
        "\n",
        "\n",
        "1. Unique Top-K Recommendations → avoid duplicates across queries.\n",
        "\n",
        "2. Query Expansion → if user input is incomplete/vague, the LLM will enrich it with context before embedding search.\n",
        "\n",
        "3. Deduplication Logic → ensures different users or repeated queries don’t get the same narrow set of courses.\n",
        "\n",
        "4. Robustness Enhancements:\n",
        "\n",
        "Handle missing/incomplete input (e.g., “data science” alone → expand to “completed basic Python, want advanced data science visualization”).\n",
        "\n",
        "5. Retry mechanism if embedding/vector search fails.\n",
        "\n",
        "6. Normalize scores.\n",
        "\n",
        "7. Evaluation: automatically test all 5 queries, enforce unique results, and add LLM-based scoring commentary (1–5 relevance)."
      ]
    },
    {
      "cell_type": "code",
      "execution_count": 27,
      "metadata": {},
      "outputs": [],
      "source": [
        "# Query Chains (Rewrite + Expand)\n",
        "\n",
        "def build_query_rewriter(llm: AzureChatOpenAI) -> LLMChain:\n",
        "    \"\"\"LLM chain to rewrite query into standardized format.\"\"\"\n",
        "    prompt = PromptTemplate(\n",
        "        input_variables=[\"profile\", \"completed\"],\n",
        "        template=\"\"\"\n",
        "You are an assistant for a course recommender system.\n",
        "Rewrite the learner's info into a clear search query.\n",
        "\n",
        "Completed courses: {completed}\n",
        "User interests: {profile}\n",
        "\n",
        "If input is vague or incomplete, expand it with reasonable assumptions\n",
        "(e.g., \"data science\" -> \"completed basics, looking for ML and visualization\").\n",
        "Return a single concise enriched query.\n",
        "\"\"\"\n",
        "    )\n",
        "    return LLMChain(llm=llm, prompt=prompt)"
      ]
    },
    {
      "cell_type": "code",
      "execution_count": 28,
      "metadata": {},
      "outputs": [],
      "source": [
        "def build_eval_chain(llm: AzureChatOpenAI) -> LLMChain:\n",
        "    \"\"\"LLM chain to score relevance of recommendations.\"\"\"\n",
        "    eval_prompt = PromptTemplate(\n",
        "        input_variables=[\"query\", \"recommendations\"],\n",
        "        template=\"\"\"\n",
        "You are evaluating a course recommendation system.\n",
        "\n",
        "User Query: {query}\n",
        "Recommended Courses: {recommendations}\n",
        "\n",
        "Rate how relevant these courses are on a scale of 1 (poor) to 5 (excellent).\n",
        "Provide 1-2 sentences explaining the score.\n",
        "\n",
        "Return JSON with keys: \"score\" and \"comment\".\n",
        "\"\"\"\n",
        "    )\n",
        "    return LLMChain(llm=llm, prompt=eval_prompt)"
      ]
    },
    {
      "cell_type": "code",
      "execution_count": 29,
      "metadata": {},
      "outputs": [],
      "source": [
        "# Recommendation Logic\n",
        "\n",
        "def recommend_courses(\n",
        "    profile: str,\n",
        "    completed_ids: Optional[List[str]],\n",
        "    df: pd.DataFrame,\n",
        "    vectorstore: Chroma,\n",
        "    query_chain: LLMChain,\n",
        "    top_k: int = 5\n",
        ") -> List[Tuple[str, float, str]]:\n",
        "    \"\"\"\n",
        "    Generate unique top-k recommendations with query rewriting + expansion.\n",
        "    \"\"\"\n",
        "    if not profile and not completed_ids:\n",
        "        raise ValueError(\"Profile and completed courses cannot both be empty.\")\n",
        "\n",
        "    completed_titles = df[df[\"course_id\"].isin(completed_ids or [])][\"title\"].tolist()\n",
        "\n",
        "    # Expand + rewrite query\n",
        "    rewritten_query = query_chain.run({\n",
        "        \"profile\": profile or \"\",\n",
        "        \"completed\": \", \".join(completed_titles) if completed_titles else \"None\"\n",
        "    })\n",
        "    logger.info(f\"🔎 Expanded Query: {rewritten_query}\")\n",
        "\n",
        "    # Perform semantic search\n",
        "    results = vectorstore.similarity_search_with_score(rewritten_query, k=top_k * 3)\n",
        "\n",
        "    # Deduplicate & filter\n",
        "    seen, recs = set(), []\n",
        "    for doc, score in results:\n",
        "        cid = doc.metadata[\"course_id\"]\n",
        "        if cid not in seen and cid not in (completed_ids or []):\n",
        "            seen.add(cid)\n",
        "            recs.append((cid, score, doc.metadata[\"title\"]))\n",
        "        if len(recs) >= top_k:\n",
        "            break\n",
        "\n",
        "    return recs\n"
      ]
    },
    {
      "cell_type": "code",
      "execution_count": 30,
      "metadata": {},
      "outputs": [
        {
          "name": "stderr",
          "output_type": "stream",
          "text": [
            "2025-10-01 12:09:55,886 | INFO | HTTP Request: POST https://eastus.api.cognitive.microsoft.com/openai/deployments/text-embedding-3-small/embeddings?api-version=2024-08-01-preview \"HTTP/1.1 200 OK\"\n",
            "2025-10-01 12:09:58,251 | INFO | HTTP Request: POST https://eastus.api.cognitive.microsoft.com/openai/deployments/gpt4o/chat/completions?api-version=2024-08-01-preview \"HTTP/1.1 200 OK\"\n",
            "2025-10-01 12:09:58,253 | INFO | 🔎 Expanded Query: \"Looking for advanced courses in data visualization and machine learning, having completed 'Python Programming for Data Science'.\"\n",
            "2025-10-01 12:09:58,535 | INFO | HTTP Request: POST https://eastus.api.cognitive.microsoft.com/openai/deployments/text-embedding-3-small/embeddings?api-version=2024-08-01-preview \"HTTP/1.1 200 OK\"\n",
            "2025-10-01 12:09:59,510 | INFO | HTTP Request: POST https://eastus.api.cognitive.microsoft.com/openai/deployments/gpt4o/chat/completions?api-version=2024-08-01-preview \"HTTP/1.1 200 OK\"\n",
            "2025-10-01 12:10:00,229 | INFO | HTTP Request: POST https://eastus.api.cognitive.microsoft.com/openai/deployments/gpt4o/chat/completions?api-version=2024-08-01-preview \"HTTP/1.1 200 OK\"\n",
            "2025-10-01 12:10:00,231 | INFO | 🔎 Expanded Query: \"Looking for courses on container management and CI/CD pipeline development, with a focus on Azure.\"\n",
            "2025-10-01 12:10:00,516 | INFO | HTTP Request: POST https://eastus.api.cognitive.microsoft.com/openai/deployments/text-embedding-3-small/embeddings?api-version=2024-08-01-preview \"HTTP/1.1 200 OK\"\n",
            "2025-10-01 12:10:02,131 | INFO | HTTP Request: POST https://eastus.api.cognitive.microsoft.com/openai/deployments/gpt4o/chat/completions?api-version=2024-08-01-preview \"HTTP/1.1 200 OK\"\n",
            "2025-10-01 12:10:03,416 | INFO | HTTP Request: POST https://eastus.api.cognitive.microsoft.com/openai/deployments/gpt4o/chat/completions?api-version=2024-08-01-preview \"HTTP/1.1 200 OK\"\n",
            "2025-10-01 12:10:03,417 | INFO | 🔎 Expanded Query: \"Looking for courses to specialize in neural networks and production workflows, with a foundation in machine learning fundamentals.\"\n",
            "2025-10-01 12:10:03,698 | INFO | HTTP Request: POST https://eastus.api.cognitive.microsoft.com/openai/deployments/text-embedding-3-small/embeddings?api-version=2024-08-01-preview \"HTTP/1.1 200 OK\"\n",
            "2025-10-01 12:10:05,061 | INFO | HTTP Request: POST https://eastus.api.cognitive.microsoft.com/openai/deployments/gpt4o/chat/completions?api-version=2024-08-01-preview \"HTTP/1.1 200 OK\"\n",
            "2025-10-01 12:10:05,847 | INFO | HTTP Request: POST https://eastus.api.cognitive.microsoft.com/openai/deployments/gpt4o/chat/completions?api-version=2024-08-01-preview \"HTTP/1.1 200 OK\"\n",
            "2025-10-01 12:10:05,849 | INFO | 🔎 Expanded Query: \"Looking for beginner to advanced courses on building and deploying microservices with Kubernetes, including hands-on projects and real-world applications.\"\n",
            "2025-10-01 12:10:06,128 | INFO | HTTP Request: POST https://eastus.api.cognitive.microsoft.com/openai/deployments/text-embedding-3-small/embeddings?api-version=2024-08-01-preview \"HTTP/1.1 200 OK\"\n",
            "2025-10-01 12:10:07,141 | INFO | HTTP Request: POST https://eastus.api.cognitive.microsoft.com/openai/deployments/gpt4o/chat/completions?api-version=2024-08-01-preview \"HTTP/1.1 200 OK\"\n",
            "2025-10-01 12:10:07,638 | INFO | HTTP Request: POST https://eastus.api.cognitive.microsoft.com/openai/deployments/gpt4o/chat/completions?api-version=2024-08-01-preview \"HTTP/1.1 200 OK\"\n",
            "2025-10-01 12:10:07,639 | INFO | 🔎 Expanded Query: \"Looking for beginner courses on blockchain technology and smart contracts.\"\n",
            "2025-10-01 12:10:07,991 | INFO | HTTP Request: POST https://eastus.api.cognitive.microsoft.com/openai/deployments/text-embedding-3-small/embeddings?api-version=2024-08-01-preview \"HTTP/1.1 200 OK\"\n",
            "2025-10-01 12:10:08,860 | INFO | HTTP Request: POST https://eastus.api.cognitive.microsoft.com/openai/deployments/gpt4o/chat/completions?api-version=2024-08-01-preview \"HTTP/1.1 200 OK\"\n",
            "2025-10-01 12:10:09,446 | INFO | HTTP Request: POST https://eastus.api.cognitive.microsoft.com/openai/deployments/gpt4o/chat/completions?api-version=2024-08-01-preview \"HTTP/1.1 200 OK\"\n",
            "2025-10-01 12:10:09,448 | INFO | 🔎 Expanded Query: \"Looking for beginner courses in data science, including machine learning and data visualization.\"\n",
            "2025-10-01 12:10:09,723 | INFO | HTTP Request: POST https://eastus.api.cognitive.microsoft.com/openai/deployments/text-embedding-3-small/embeddings?api-version=2024-08-01-preview \"HTTP/1.1 200 OK\"\n",
            "2025-10-01 12:10:10,884 | INFO | HTTP Request: POST https://eastus.api.cognitive.microsoft.com/openai/deployments/gpt4o/chat/completions?api-version=2024-08-01-preview \"HTTP/1.1 200 OK\"\n"
          ]
        },
        {
          "data": {
            "text/html": [
              "<div>\n",
              "<style scoped>\n",
              "    .dataframe tbody tr th:only-of-type {\n",
              "        vertical-align: middle;\n",
              "    }\n",
              "\n",
              "    .dataframe tbody tr th {\n",
              "        vertical-align: top;\n",
              "    }\n",
              "\n",
              "    .dataframe thead th {\n",
              "        text-align: right;\n",
              "    }\n",
              "</style>\n",
              "<table border=\"1\" class=\"dataframe\">\n",
              "  <thead>\n",
              "    <tr style=\"text-align: right;\">\n",
              "      <th></th>\n",
              "      <th>User Query</th>\n",
              "      <th>Completed</th>\n",
              "      <th>Recommended IDs</th>\n",
              "      <th>Recommended Titles</th>\n",
              "      <th>Evaluation</th>\n",
              "    </tr>\n",
              "  </thead>\n",
              "  <tbody>\n",
              "    <tr>\n",
              "      <th>0</th>\n",
              "      <td>I’ve completed the ‘Python Programming for Dat...</td>\n",
              "      <td>[C101]</td>\n",
              "      <td>[C016, C001, C011, C004, C017]</td>\n",
              "      <td>[Python Programming for Data Science, Foundati...</td>\n",
              "      <td>```json\\n{\\n  \"score\": 4,\\n  \"comment\": \"The r...</td>\n",
              "    </tr>\n",
              "    <tr>\n",
              "      <th>1</th>\n",
              "      <td>I know Azure basics and want to manage contain...</td>\n",
              "      <td>[C202]</td>\n",
              "      <td>[C007, C008, C009, C006, C025]</td>\n",
              "      <td>[Cloud Computing with Azure, DevOps Practices ...</td>\n",
              "      <td>```json\\n{\\n  \"score\": 4,\\n  \"comment\": \"The r...</td>\n",
              "    </tr>\n",
              "    <tr>\n",
              "      <th>2</th>\n",
              "      <td>My background is in ML fundamentals; I’d like ...</td>\n",
              "      <td>[C303]</td>\n",
              "      <td>[C001, C025, C003, C002, C004]</td>\n",
              "      <td>[Foundations of Machine Learning, MLOps: Produ...</td>\n",
              "      <td>```json\\n{\\n  \"score\": 4,\\n  \"comment\": \"The r...</td>\n",
              "    </tr>\n",
              "    <tr>\n",
              "      <th>3</th>\n",
              "      <td>I want to learn to build and deploy microservi...</td>\n",
              "      <td>[C404]</td>\n",
              "      <td>[C009, C010, C007, C008, C011]</td>\n",
              "      <td>[Containerization with Docker and Kubernetes, ...</td>\n",
              "      <td>```json\\n{\\n  \"score\": 4,\\n  \"comment\": \"The r...</td>\n",
              "    </tr>\n",
              "    <tr>\n",
              "      <th>4</th>\n",
              "      <td>Blockchain and smart contracts.</td>\n",
              "      <td>[]</td>\n",
              "      <td>[C023, C022, C001, C024, C021]</td>\n",
              "      <td>[Blockchain Technology and Smart Contracts, In...</td>\n",
              "      <td>```json\\n{\\n  \"score\": 3,\\n  \"comment\": \"The r...</td>\n",
              "    </tr>\n",
              "    <tr>\n",
              "      <th>5</th>\n",
              "      <td>Data.</td>\n",
              "      <td>[]</td>\n",
              "      <td>[C001, C016, C011, C004, C014]</td>\n",
              "      <td>[Foundations of Machine Learning, Python Progr...</td>\n",
              "      <td>```json\\n{\\n  \"score\": 5,\\n  \"comment\": \"All r...</td>\n",
              "    </tr>\n",
              "  </tbody>\n",
              "</table>\n",
              "</div>"
            ],
            "text/plain": [
              "                                          User Query Completed  \\\n",
              "0  I’ve completed the ‘Python Programming for Dat...    [C101]   \n",
              "1  I know Azure basics and want to manage contain...    [C202]   \n",
              "2  My background is in ML fundamentals; I’d like ...    [C303]   \n",
              "3  I want to learn to build and deploy microservi...    [C404]   \n",
              "4                    Blockchain and smart contracts.        []   \n",
              "5                                              Data.        []   \n",
              "\n",
              "                  Recommended IDs  \\\n",
              "0  [C016, C001, C011, C004, C017]   \n",
              "1  [C007, C008, C009, C006, C025]   \n",
              "2  [C001, C025, C003, C002, C004]   \n",
              "3  [C009, C010, C007, C008, C011]   \n",
              "4  [C023, C022, C001, C024, C021]   \n",
              "5  [C001, C016, C011, C004, C014]   \n",
              "\n",
              "                                  Recommended Titles  \\\n",
              "0  [Python Programming for Data Science, Foundati...   \n",
              "1  [Cloud Computing with Azure, DevOps Practices ...   \n",
              "2  [Foundations of Machine Learning, MLOps: Produ...   \n",
              "3  [Containerization with Docker and Kubernetes, ...   \n",
              "4  [Blockchain Technology and Smart Contracts, In...   \n",
              "5  [Foundations of Machine Learning, Python Progr...   \n",
              "\n",
              "                                          Evaluation  \n",
              "0  ```json\\n{\\n  \"score\": 4,\\n  \"comment\": \"The r...  \n",
              "1  ```json\\n{\\n  \"score\": 4,\\n  \"comment\": \"The r...  \n",
              "2  ```json\\n{\\n  \"score\": 4,\\n  \"comment\": \"The r...  \n",
              "3  ```json\\n{\\n  \"score\": 4,\\n  \"comment\": \"The r...  \n",
              "4  ```json\\n{\\n  \"score\": 3,\\n  \"comment\": \"The r...  \n",
              "5  ```json\\n{\\n  \"score\": 5,\\n  \"comment\": \"All r...  "
            ]
          },
          "execution_count": 30,
          "metadata": {},
          "output_type": "execute_result"
        }
      ],
      "source": [
        "\n",
        "#Evaluation Section\n",
        "\n",
        "embeddings, llm = init_openai_clients()\n",
        "url = \"https://raw.githubusercontent.com/Bluedata-Consulting/GAAPB01-training-code-base/refs/heads/main/Assignments/assignment2dataset.csv\"\n",
        "courses = load_dataset(url)\n",
        "vectorstore = build_vectorstore(courses, embeddings)\n",
        "query_chain = build_query_rewriter(llm)\n",
        "eval_chain = build_eval_chain(llm)\n",
        "\n",
        "test_profiles = [\n",
        "    (\"I’ve completed the ‘Python Programming for Data Science’ course and enjoy data visualization.\", [\"C101\"]),\n",
        "    (\"I know Azure basics and want to manage containers and build CI/CD pipelines.\", [\"C202\"]),\n",
        "    (\"My background is in ML fundamentals; I’d like to specialize in neural networks and production workflows.\", [\"C303\"]),\n",
        "    (\"I want to learn to build and deploy microservices with Kubernetes—what courses fit best?\", [\"C404\"]),\n",
        "    (\"Blockchain and smart contracts.\", []),  # intentionally incomplete\n",
        "    (\"Data.\", []), # incomplete input information\n",
        "]\n",
        "\n",
        "eval_results = []\n",
        "\n",
        "for profile, completed in test_profiles:\n",
        "    recs = recommend_courses(profile, completed, courses, vectorstore, query_chain)\n",
        "    rec_ids = [cid for cid, _, _ in recs]\n",
        "    rec_titles = [title for _, _, title in recs]\n",
        "\n",
        "    # Use LLM to evaluate relevance\n",
        "    recommendations_text = \", \".join(rec_titles)\n",
        "    eval_out = eval_chain.run({\"query\": profile, \"recommendations\": recommendations_text})\n",
        "\n",
        "    eval_results.append({\n",
        "        \"User Query\": profile,\n",
        "        \"Completed\": completed,\n",
        "        \"Recommended IDs\": rec_ids,\n",
        "        \"Recommended Titles\": rec_titles,\n",
        "        \"Evaluation\": eval_out\n",
        "    })\n",
        "\n",
        "eval_df = pd.DataFrame(eval_results)\n",
        "eval_df\n"
      ]
    },
    {
      "cell_type": "code",
      "execution_count": 31,
      "metadata": {},
      "outputs": [
        {
          "name": "stdout",
          "output_type": "stream",
          "text": [
            "================================================================================\n",
            "📝 User Query: I’ve completed the ‘Python Programming for Data Science’ course and enjoy data visualization.\n",
            "✅ Completed Courses: ['C101']\n",
            "\n",
            "🎯 Recommended Courses:\n",
            "   1. Python Programming for Data Science\n",
            "   2. Foundations of Machine Learning\n",
            "   3. Big Data Analytics with Spark\n",
            "   4. Computer Vision and Image Processing\n",
            "   5. R Programming and Statistical Analysis\n",
            "\n",
            "🔍 Evaluation:\n",
            "```json\n",
            "{\n",
            "  \"score\": 4,\n",
            "  \"comment\": \"The recommended courses are generally relevant, especially 'Foundations of Machine Learning' and 'Big Data Analytics with Spark', which build on data science skills. However, 'R Programming and Statistical Analysis' may be less relevant given the user's interest in data visualization specifically.\"\n",
            "}\n",
            "```\n",
            "================================================================================\n"
          ]
        }
      ],
      "source": [
        "#Pretty Print Example from eval_df\n",
        "# ================================================================\n",
        "\n",
        "def print_eval_example(df: pd.DataFrame, idx: int = 0):\n",
        "    \"\"\"Prints a single evaluation result in a readable format.\"\"\"\n",
        "    if idx >= len(df):\n",
        "        raise IndexError(\"Index out of range for eval_df\")\n",
        "\n",
        "    row = df.iloc[idx]\n",
        "\n",
        "    print(\"=\"*80)\n",
        "    print(f\"📝 User Query: {row['User Query']}\")\n",
        "    print(f\"✅ Completed Courses: {row['Completed']}\")\n",
        "    print(\"\\n🎯 Recommended Courses:\")\n",
        "    for i, title in enumerate(row[\"Recommended Titles\"], 1):\n",
        "        print(f\"   {i}. {title}\")\n",
        "    print(\"\\n🔍 Evaluation:\")\n",
        "    print(row[\"Evaluation\"])\n",
        "    print(\"=\"*80)\n",
        "\n",
        "\n",
        "# Example: print the first test case\n",
        "print_eval_example(eval_df, idx=0)\n"
      ]
    },
    {
      "cell_type": "code",
      "execution_count": 32,
      "metadata": {},
      "outputs": [
        {
          "name": "stdout",
          "output_type": "stream",
          "text": [
            "================================================================================\n",
            "📝 User Query: Blockchain and smart contracts.\n",
            "✅ Completed Courses: []\n",
            "\n",
            "🎯 Recommended Courses:\n",
            "   1. Blockchain Technology and Smart Contracts\n",
            "   2. Internet of Things (IoT) Development\n",
            "   3. Foundations of Machine Learning\n",
            "   4. Augmented and Virtual Reality Development\n",
            "   5. Cybersecurity Fundamentals\n",
            "\n",
            "🔍 Evaluation:\n",
            "```json\n",
            "{\n",
            "  \"score\": 3,\n",
            "  \"comment\": \"The recommended course 'Blockchain Technology and Smart Contracts' is highly relevant to the user's query, while the other courses are less directly related. The inclusion of IoT, machine learning, and AR/VR may provide some interdisciplinary insights, but they do not specifically address blockchain or smart contracts.\"\n",
            "}\n",
            "```\n",
            "================================================================================\n"
          ]
        }
      ],
      "source": [
        "print_eval_example(eval_df, idx=4)"
      ]
    },
    {
      "cell_type": "markdown",
      "metadata": {},
      "source": [
        "Here’s how it works step by step:\n",
        "\n",
        "User input (profile + completed courses) → sent to the LLM query rewriter.\n",
        "\n",
        "Purpose: rewrite / expand vague input into a clean search query string.\n",
        "\n",
        "Output is just text, never course IDs.\n",
        "\n",
        "That rewritten query is then sent to:\n",
        "\n",
        "results = vectorstore.similarity_search_with_score(rewritten_query, k=top_k * 3)\n",
        "\n",
        "\n",
        "This calls ChromaDB with embeddings to retrieve the most similar course vectors.\n",
        "\n",
        "Each returned result is a (doc, score) pair where doc.metadata contains course_id and title.\n",
        "\n",
        "The filtering step enforces deduplication and removes already completed courses:\n",
        "\n",
        "seen, recs = set(), []\n",
        "for doc, score in results:\n",
        "    cid = doc.metadata[\"course_id\"]\n",
        "    if cid not in seen and cid not in (completed_ids or []):\n",
        "        seen.add(cid)\n",
        "        recs.append((cid, score, doc.metadata[\"title\"]))\n",
        "    if len(recs) >= top_k:\n",
        "        break\n",
        "\n",
        "\n",
        "✅ This ensures the only courses recommended are those indexed in ChromaDB.\n",
        "\n",
        "The LLM evaluation chain is used only for scoring relevance & commentary, not for generating course IDs.\n",
        "\n",
        "Example: It gets passed a list of already-chosen titles and says \"score\": 4, \"comment\": \"Aligned with CI/CD but slightly generic.\".\n"
      ]
    },
    {
      "cell_type": "markdown",
      "metadata": {},
      "source": [
        "Improvements Delivered\n",
        "\n",
        "Unique Top-K Recommendations: enforced with seen set.\n",
        "\n",
        "Query Expansion: vague queries rewritten into rich ones by LLM.\n",
        "\n",
        "Robustness:\n",
        "\n",
        "Handles empty/missing inputs.\n",
        "\n",
        "Deduplication of results.\n",
        "\n",
        "Uses LLM for relevance evaluation automatically.\n",
        "\n",
        "Evaluation Section: table with query, recommendations, and LLM-generated commentary."
      ]
    },
    {
      "cell_type": "markdown",
      "metadata": {},
      "source": [
        "### Thank You!"
      ]
    }
  ],
  "metadata": {
    "colab": {
      "include_colab_link": true,
      "provenance": []
    },
    "kernelspec": {
      "display_name": "genai",
      "language": "python",
      "name": "python3"
    },
    "language_info": {
      "codemirror_mode": {
        "name": "ipython",
        "version": 3
      },
      "file_extension": ".py",
      "mimetype": "text/x-python",
      "name": "python",
      "nbconvert_exporter": "python",
      "pygments_lexer": "ipython3",
      "version": "3.12.3"
    }
  },
  "nbformat": 4,
  "nbformat_minor": 0
}
