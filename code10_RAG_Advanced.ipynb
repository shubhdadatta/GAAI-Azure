{
  "cells": [
    {
      "cell_type": "markdown",
      "id": "1961db5f",
      "metadata": {
        "id": "1961db5f"
      },
      "source": [
        "# CRAG: Corrective RAG\n",
        "\n",
        "\n",
        "## OverView\n",
        "\n",
        "\n",
        "**The Corrective RAG (CRAG)** strategy focuses on improving RAG-based systems.\n",
        "**CRAG** is an approach that refines the search-generation pipeline by incorporating self-reflection and self-evaluation phases for the retrieved documents.\n",
        "\n",
        "![crag](https://github.com/LangChain-OpenTutorial/LangChain-OpenTutorial/blob/main/17-LangGraph/03-Use-Cases/assets/03-Langgraph-CRAG.png?raw=1)\n",
        "\n",
        "\n",
        "\n",
        "**What is CRAG ?**\n",
        "\n",
        "**Corrective-RAG (CRAG)** is a methodology in the RAG (Retrieval-Augmented Generation) strategy that **adds a step to evaluate the retrieved documents and refine the knowledge.** This approach involves reviewing the search results before generation, conducting supplementary searches if necessary, and ultimately includes a series of processes to produce high-quality responses.\n",
        "\n",
        "The core ideas of CRAG are as follows:\n",
        "\n",
        "[Link to the paper (Corrective Retrieval-Augmented Generation)](https://arxiv.org/pdf/2401.15884.pdf)\n",
        "\n",
        "1. If one or more of the retrieved documents exceed the predefined relevance threshold (retrieval validation score), the process proceeds to the generation stage.\n",
        "2. A knowledge refinement step is performed before generation.\n",
        "3. Documents are divided into \"knowledge strips\" (where ```k``` refers to the number of document retrieval results).\n",
        "4. Each knowledge strip is evaluated, and its relevance is scored (evaluations are conducted at the document chunk level).\n",
        "5. If all documents fall below the relevance threshold or the evaluation results have low confidence, additional data sources (e.g., web searches) are used for supplementation.\n",
        "6. When supplementing through web searches, query results are optimized using ```Query-Rewrite```.\n",
        "---\n",
        "\n",
        "**Key Points**\n",
        "\n",
        "\n",
        "This tutorial demonstrates implementing some of the ideas from the ```CRAG``` approach using LangGraph.\n",
        "\n",
        "Here, **the knowledge refinement step is omitted** but is designed to be added as a node if necessary.\n",
        "\n",
        "Additionally, **if no relevant documents are found**, ```web searches``` will be used to supplement the retrieval.\n",
        "\n",
        "For **web searches**,  [Tavily Search](https://python.langchain.com/docs/integrations/tools/tavily_search/) will be utilized, and Question Rewrite will be introduced to optimize the search process.\n",
        "\n",
        "---\n",
        "\n",
        "**Overview of Key Steps**\n",
        "\n",
        "- **Retrieval Grader**: Evaluate the relevance of the retrieved documents.\n",
        "- **Generate**: Generate answers using LLM.\n",
        "- **Question Re-writer**: Optimize search queries by rewriting the question.\n",
        "- **Web Search Tool**: Utilize Tavily Search for web searches.\n",
        "- **Create Graph**: Create a CRAG strategy graph using LangGraph.\n",
        "- **Use the graph**: Learn how to utilize the generated graph.\n",
        "\n",
        "\n",
        "\n",
        "\n",
        "\n",
        "### References\n",
        "https://langchain-opentutorial.gitbook.io/langchain-opentutorial/17-langgraph/03-use-cases/03-langgraph-crag\n",
        "- [LangGraph: Corrective RAG (CRAG) using local LLMs](https://langchain-ai.github.io/langgraph/tutorials/rag/langgraph_crag_local/)\n",
        "- [LangSmith: RAG Prompt](https://smith.langchain.com/hub/rlm/rag-prompt)\n",
        "- [Langchain: stream_mode](https://python.langchain.com/docs/how_to/qa_streaming/)"
      ]
    },
    {
      "cell_type": "code",
      "execution_count": 2,
      "id": "ef6261d6",
      "metadata": {
        "id": "ef6261d6"
      },
      "outputs": [],
      "source": [
        "!python -m pip install pydantic langchain langchain-community pdfplumber langchain-core langchain-openai langgraph faiss-cpu --quiet"
      ]
    },
    {
      "cell_type": "code",
      "execution_count": 3,
      "id": "d3375ae6",
      "metadata": {
        "id": "d3375ae6",
        "outputId": "288040ae-78a6-4c96-da5c-7cd9879b0396"
      },
      "outputs": [
        {
          "data": {
            "text/plain": [
              "True"
            ]
          },
          "execution_count": 3,
          "metadata": {},
          "output_type": "execute_result"
        }
      ],
      "source": [
        "# Load API keys from .env file\n",
        "from dotenv import load_dotenv\n",
        "\n",
        "load_dotenv(override=True)"
      ]
    },
    {
      "cell_type": "markdown",
      "id": "d7f42d27",
      "metadata": {},
      "source": [
        "# RAG Retriver"
      ]
    },
    {
      "cell_type": "code",
      "execution_count": 4,
      "id": "78942b9f",
      "metadata": {},
      "outputs": [],
      "source": [
        "embedding_model_name = \"text-embedding-3-small\"\n",
        "model_name = \"gpt4o\"\n",
        "\n",
        "doc_paths = [\"https://www.morningstar.com/content/dam/marketing/shared/research/methodology/771945_Morningstar_Rating_for_Funds_Methodology.pdf\",\n",
        "             \"https://www.morningstar.in/docs/methodology/CategoryDefinitionsIndiaV3.pdf\",\n",
        "             \"https://s21.q4cdn.com/198919461/files/doc_downloads/press_kits/2016/Morningstar-Sustainable-Investing-Handbook.pdf\"]"
      ]
    },
    {
      "cell_type": "code",
      "execution_count": 5,
      "id": "f178b8c8",
      "metadata": {},
      "outputs": [],
      "source": [
        "from langchain_openai import AzureOpenAIEmbeddings\n",
        "embeddings = AzureOpenAIEmbeddings(model=embedding_model_name,api_version=\"2024-12-01-preview\")\n",
        "from langchain_openai import AzureChatOpenAI\n",
        "llm = AzureChatOpenAI(model=model_name)\n"
      ]
    },
    {
      "cell_type": "code",
      "execution_count": 6,
      "id": "fd810d45",
      "metadata": {},
      "outputs": [],
      "source": [
        "from langchain_community.document_loaders import PyPDFLoader\n",
        "from langchain.text_splitter import RecursiveCharacterTextSplitter\n",
        "\n",
        "loaders = [PyPDFLoader(pdf, extract_images=False) for pdf in doc_paths]\n",
        "docs = []\n",
        "for loader in loaders: docs.extend(loader.load())\n",
        "docs = [doc for doc in docs if len(doc.page_content.strip())>100]\n",
        "text_splitter = RecursiveCharacterTextSplitter(chunk_size=3500, chunk_overlap=500,\n",
        "                                               add_start_index=True)\n",
        "splits = text_splitter.split_documents(docs)\n"
      ]
    },
    {
      "cell_type": "code",
      "execution_count": 7,
      "id": "5b4218fd",
      "metadata": {},
      "outputs": [],
      "source": [
        "from langchain_chroma import Chroma\n",
        "vectorstore = Chroma.from_documents(documents=splits, embedding=embeddings)\n",
        "\n",
        "# using vector db object to initialize a retriever object - to perform vector search/retrieval\n",
        "retriever = vectorstore.as_retriever(search_type=\"similarity\", search_kwargs={\"k\": 2})"
      ]
    },
    {
      "cell_type": "code",
      "execution_count": 8,
      "id": "e420a92f",
      "metadata": {},
      "outputs": [],
      "source": [
        "from typing import TypedDict, Literal, List\n",
        "from langchain_core.documents import Document\n",
        "from langchain_core.prompts import PromptTemplate\n",
        "from langgraph.graph import StateGraph,START,END\n",
        "message = \"\"\"\n",
        "Answer this question using the provided context only. If the context does not have the content to answer the question, say context is irrelevant.\n",
        "Do not make up the answer, do not provide answer from outside the doc.\n",
        "{question}\n",
        "\n",
        "Context:\n",
        "{context}\n",
        "\"\"\"\n",
        "\n",
        "ragprompt = PromptTemplate.from_template(message)"
      ]
    },
    {
      "cell_type": "code",
      "execution_count": 9,
      "id": "a996cb40",
      "metadata": {},
      "outputs": [],
      "source": [
        "class ragState(TypedDict):\n",
        "    question: str\n",
        "    context: List[Document]\n",
        "    answer: str\n"
      ]
    },
    {
      "cell_type": "code",
      "execution_count": 10,
      "id": "d0c23d6b",
      "metadata": {},
      "outputs": [
        {
          "data": {
            "image/png": "[encoded data removed]",
            "text/plain": [
              "<langgraph.graph.state.CompiledStateGraph object at 0x71fbca81bb00>"
            ]
          },
          "execution_count": 10,
          "metadata": {},
          "output_type": "execute_result"
        }
      ],
      "source": [
        "# add modes\n",
        "def retriever_node(state:ragState):\n",
        "    ret_docs = retriever.invoke(state[\"question\"])\n",
        "    return {\"context\":ret_docs}\n",
        "\n",
        "# generation node\n",
        "def generate(state:ragState):\n",
        "    doc_content = \"\\n\\n\".join(doc.page_content for doc in state[\"context\"])\n",
        "    message = ragprompt.invoke({\"question\":state[\"question\"],\"context\":doc_content})\n",
        "    response = llm.invoke(message)\n",
        "    return {\"answer\":response}\n",
        "\n",
        "builder = StateGraph(ragState).add_sequence([retriever_node,generate])\n",
        "builder.add_edge(START,\"retriever_node\")\n",
        "builder.add_edge(\"generate\",END)\n",
        "raggraph = builder.compile()\n",
        "raggraph"
      ]
    },
    {
      "cell_type": "code",
      "execution_count": 11,
      "id": "bd0e5bb5",
      "metadata": {},
      "outputs": [],
      "source": [
        "response = raggraph.invoke({\"question\":\"what is large cap equity fund?\"})"
      ]
    },
    {
      "cell_type": "code",
      "execution_count": 12,
      "id": "576a1a27",
      "metadata": {},
      "outputs": [
        {
          "data": {
            "text/plain": [
              "'A large cap equity fund primarily consists of stocks from the top 100 stocks by full market capitalization of the equity market. These funds invest at least 80% of their total assets in Indian equities, while the remaining can be allocated to other asset classes such as fixed income and overseas equities.'"
            ]
          },
          "execution_count": 12,
          "metadata": {},
          "output_type": "execute_result"
        }
      ],
      "source": [
        "response['answer'].content"
      ]
    },
    {
      "cell_type": "markdown",
      "id": "ae47f9ae",
      "metadata": {
        "id": "ae47f9ae"
      },
      "source": [
        "## Relevance Evaluation of Retrieved Documents (Question-Retrieval Evaluation)\n",
        "\n",
        "The relevance evaluation of retrieved documents is the step where the retrieved documents are assessed for their relevance to the question.\n",
        "\n",
        "First, create an evaluator (```retrieval-grader```) to assess the retrieved documents."
      ]
    },
    {
      "cell_type": "code",
      "execution_count": 13,
      "id": "59f3e68a",
      "metadata": {
        "id": "59f3e68a"
      },
      "outputs": [],
      "source": [
        "from langchain_core.prompts import ChatPromptTemplate\n",
        "from pydantic import BaseModel, Field\n",
        "\n",
        "\n",
        "# Data Model for Binary Scoring of Document Relevance\n",
        "class GradeDocuments(BaseModel):\n",
        "    \"\"\"A binary score to determine the relevance of the retrieved document.\"\"\"\n",
        "\n",
        "    # A field indicating whether the document is relevant to the question, represented as 'yes' or 'no'\n",
        "    binary_score: str = Field(\n",
        "        description=\"Documents are relevant to the question, 'yes' or 'no'\"\n",
        "    )\n",
        "\n",
        "\n",
        "# An LLM that generates structured outputs using the GradeDocuments data model.\n",
        "structured_llm_grader = llm.with_structured_output(GradeDocuments)\n",
        "\n",
        "# Define system prompt\n",
        "system = \"\"\"You are a grader assessing relevance of a retrieved document to a user question. \\n\n",
        "    If the document contains keyword(s) or semantic meaning related to the question, grade it as relevant. \\n\n",
        "    Give a binary score 'yes' or 'no' score to indicate whether the document is relevant to the question.\"\"\"\n",
        "\n",
        "# Create chat prompt template\n",
        "grade_prompt = ChatPromptTemplate.from_messages(\n",
        "    [\n",
        "        (\"system\", system),\n",
        "        (\"human\", \"Retrieved document: \\n\\n {document} \\n\\n User question: {question}\"),\n",
        "    ]\n",
        ")\n",
        "\n",
        "# Initialize retrieval evaluator\n",
        "retrieval_grader = grade_prompt | structured_llm_grader"
      ]
    },
    {
      "cell_type": "markdown",
      "id": "d03b7b76",
      "metadata": {
        "id": "d03b7b76"
      },
      "source": [
        "Using ```retrieval_grader```, documents are evaluated.\n",
        "\n",
        "Here, the evaluation is performed on a single document rather than a set of documents.\n",
        "\n",
        "The result returns the relevance of the single document as either **yes** or **no** ."
      ]
    },
    {
      "cell_type": "code",
      "execution_count": 14,
      "id": "44144d98",
      "metadata": {
        "id": "44144d98",
        "outputId": "7c3f77ad-fafc-45ee-9392-27b148930027"
      },
      "outputs": [
        {
          "name": "stdout",
          "output_type": "stream",
          "text": [
            "binary_score='no'\n"
          ]
        }
      ],
      "source": [
        "# Define question\n",
        "question = \"How do agents differ from standalone language models?\"\n",
        "\n",
        "# Document retrieval\n",
        "docs = retriever.invoke(question)\n",
        "\n",
        "# Extract Content of Page from Document at Index 1\n",
        "doc_txt = docs[0].page_content\n",
        "\n",
        "# Run Relevance Evaluation Using Retrieved Documents and Question\n",
        "print(retrieval_grader.invoke({\"question\": question, \"document\": doc_txt}))"
      ]
    },
    {
      "cell_type": "code",
      "execution_count": 15,
      "id": "66acc096",
      "metadata": {},
      "outputs": [
        {
          "name": "stdout",
          "output_type": "stream",
          "text": [
            "binary_score='yes'\n"
          ]
        }
      ],
      "source": [
        "# Define question\n",
        "question = \"What is Large cap equity fund?\"\n",
        "\n",
        "# Document retrieval\n",
        "docs = retriever.invoke(question)\n",
        "\n",
        "# Extract Content of Page from Document at Index 1\n",
        "doc_txt = docs[0].page_content\n",
        "\n",
        "# Run Relevance Evaluation Using Retrieved Documents and Question\n",
        "print(retrieval_grader.invoke({\"question\": question, \"document\": doc_txt}))"
      ]
    },
    {
      "cell_type": "code",
      "execution_count": 16,
      "id": "1733669e",
      "metadata": {},
      "outputs": [
        {
          "data": {
            "text/plain": [
              "AIMessage(content='The sentiment of the query \"It was an awesome day today\" is positive.', additional_kwargs={'refusal': None}, response_metadata={'token_usage': {'completion_tokens': 17, 'prompt_tokens': 29, 'total_tokens': 46, 'completion_tokens_details': {'accepted_prediction_tokens': 0, 'audio_tokens': 0, 'reasoning_tokens': 0, 'rejected_prediction_tokens': 0}, 'prompt_tokens_details': {'audio_tokens': 0, 'cached_tokens': 0}}, 'model_name': 'gpt-4o-mini-2024-07-18', 'system_fingerprint': 'fp_efad92c60b', 'id': 'chatcmpl-CISPjf2UyJwyacHJovsxyCryU3dnj', 'service_tier': None, 'prompt_filter_results': [{'prompt_index': 0, 'content_filter_results': {'hate': {'filtered': False, 'severity': 'safe'}, 'jailbreak': {'filtered': False, 'detected': False}, 'self_harm': {'filtered': False, 'severity': 'safe'}, 'sexual': {'filtered': False, 'severity': 'safe'}, 'violence': {'filtered': False, 'severity': 'safe'}}}], 'finish_reason': 'stop', 'logprobs': None, 'content_filter_results': {'hate': {'filtered': False, 'severity': 'safe'}, 'self_harm': {'filtered': False, 'severity': 'safe'}, 'sexual': {'filtered': False, 'severity': 'safe'}, 'violence': {'filtered': False, 'severity': 'safe'}}}, id='run--18727751-0db9-453c-9119-ffb4c74ad8c5-0', usage_metadata={'input_tokens': 29, 'output_tokens': 17, 'total_tokens': 46, 'input_token_details': {'audio': 0, 'cache_read': 0}, 'output_token_details': {'audio': 0, 'reasoning': 0}})"
            ]
          },
          "execution_count": 16,
          "metadata": {},
          "output_type": "execute_result"
        }
      ],
      "source": [
        "prompt = ChatPromptTemplate.from_messages(\n",
        "    [        (\"human\", \"Given a query, classify it as positive or negative sentiment. here is the query {query}\"),\n",
        "    ]\n",
        ")\n",
        "\n",
        "chain = prompt | llm\n",
        "\n",
        "chain.invoke({\"query\":\"It was an awesome day today\"})"
      ]
    },
    {
      "cell_type": "code",
      "execution_count": 17,
      "id": "a7604703",
      "metadata": {},
      "outputs": [
        {
          "name": "stdout",
          "output_type": "stream",
          "text": [
            "Positive\n"
          ]
        },
        {
          "data": {
            "text/plain": [
              "str"
            ]
          },
          "execution_count": 17,
          "metadata": {},
          "output_type": "execute_result"
        }
      ],
      "source": [
        "prompt = ChatPromptTemplate.from_messages(\n",
        "    [        (\"human\", \"Given a query, classify it as positive or negative sentiment. here is the query {query} Make sure your response is in one word, positive or negative\"),\n",
        "    ]\n",
        ")\n",
        "\n",
        "chain = prompt | llm\n",
        "\n",
        "output = chain.invoke({\"query\":\"It was an awesome day today\"}).content\n",
        "print(output)\n",
        "type(output)"
      ]
    },
    {
      "cell_type": "code",
      "execution_count": 18,
      "id": "029dc121",
      "metadata": {},
      "outputs": [
        {
          "name": "stdout",
          "output_type": "stream",
          "text": [
            "sentiment='positive'\n"
          ]
        },
        {
          "data": {
            "text/plain": [
              "__main__.sentiment_output"
            ]
          },
          "execution_count": 18,
          "metadata": {},
          "output_type": "execute_result"
        }
      ],
      "source": [
        "from pydantic import BaseModel, Field\n",
        "\n",
        "class sentiment_output(BaseModel):\n",
        "    sentiment:str = Field(description=\"Sentiment associated with the query, output should be positive or negative\")\n",
        "\n",
        "structured_llm = llm.with_structured_output(sentiment_output)\n",
        "\n",
        "\n",
        "prompt = ChatPromptTemplate.from_messages(\n",
        "    [        (\"human\", \"Given a query, classify it as positive or negative sentiment. here is the query {query} Make sure your response is in one word, positive or negative\"),\n",
        "    ]\n",
        ")\n",
        "\n",
        "chain = prompt | structured_llm\n",
        "\n",
        "output = chain.invoke({\"query\":\"It was an awesome day today\"})\n",
        "print(output)\n",
        "type(output)"
      ]
    },
    {
      "cell_type": "code",
      "execution_count": 19,
      "id": "bd150659",
      "metadata": {},
      "outputs": [
        {
          "data": {
            "text/plain": [
              "'positive'"
            ]
          },
          "execution_count": 19,
          "metadata": {},
          "output_type": "execute_result"
        }
      ],
      "source": [
        "output.sentiment"
      ]
    },
    {
      "cell_type": "markdown",
      "id": "7f4a72cc",
      "metadata": {
        "id": "7f4a72cc"
      },
      "source": [
        "## Web search tool\n",
        "\n",
        "**Web search tool** is used to supplement the context.\n",
        "\n",
        "- **Need for Web Search**: When all documents fail to meet the relevance threshold or the evaluator lacks confidence, additional data is retrieved through web searches.\n",
        "- **Using Tavily Search**: Perform web searches using Tavily Search, which optimizes search queries and provides more relevant results.\n",
        "- **Question Rewrite**: Improve search queries by rewriting the question to optimize web searches."
      ]
    },
    {
      "cell_type": "markdown",
      "id": "a786df02",
      "metadata": {},
      "source": [
        "Add this to .env file (remove '-Anshu' from end): TAVILY_API_KEY=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-Anshu"
      ]
    },
    {
      "cell_type": "code",
      "execution_count": 20,
      "id": "620d859b",
      "metadata": {
        "id": "620d859b"
      },
      "outputs": [
        {
          "name": "stderr",
          "output_type": "stream",
          "text": [
            "/tmp/ipykernel_6331/1329910383.py:5: LangChainDeprecationWarning: The class `TavilySearchResults` was deprecated in LangChain 0.3.25 and will be removed in 1.0. An updated version of the class exists in the :class:`~langchain-tavily package and should be used instead. To use it run `pip install -U :class:`~langchain-tavily` and import as `from :class:`~langchain_tavily import TavilySearch``.\n",
            "  web_search_tool = TavilySearchResults(max_results=3)\n"
          ]
        }
      ],
      "source": [
        "# Initialize Web Search Tool\n",
        "from langchain.tools.tavily_search import TavilySearchResults\n",
        "\n",
        "# Set maximum search results to 3\n",
        "web_search_tool = TavilySearchResults(max_results=3)"
      ]
    },
    {
      "cell_type": "code",
      "execution_count": 21,
      "id": "694d7bae",
      "metadata": {
        "id": "694d7bae",
        "outputId": "ec39105a-9e28-48f8-e187-c7fce0ebd3af"
      },
      "outputs": [
        {
          "name": "stdout",
          "output_type": "stream",
          "text": [
            "[{'title': 'Basics, Important Features of Large-cap Mutual Fund - Groww', 'url': 'https://groww.in/mutual-funds/equity-funds/large-cap-funds', 'content': '— Paperless sign up on web & app\\n\\n— Expert recommendations\\n\\n— ZERO fees !\\n\\n## What are Large Cap Funds?\\n\\nLarge Cap Mutual Funds are equity funds that invest a bigger proportion of their total assets in companies with a large market capitalisation. These companies are highly reputed and have an excellent track record of generating wealth for their investors over a long period. [...] By now, you know that large cap funds invest in big organisations. These schemes try to offer regular dividends and capital appreciation in the long term. If you are a risk-averse investor but want to benefit from equity investments, then large cap equity funds are the best option available to you. Since these schemes invest in financially strong large cap companies, they can withstand a slowdown in the markets. However, the returns are lower compared to mid-cap or small-cap funds. [...] ### FAQs\\n\\nQ1. What is large cap mutual fund meaning?\\n\\nLarge cap mutual funds belong to the category of equity mutual funds, but their underlying investments are primarily concentrated on large capitalisation companies.\\n\\nQ2. How does a large cap mutual fund work?', 'score': 0.8936907}, {'title': 'BNY Mellon Large Cap Equity Fund | BNY Investments', 'url': 'https://www.bny.com/investments/us/en/individual/products/lt/fund/bny-mellon-large-cap-equity-fund.html', 'content': 'The fund seeks to provide long-term capital appreciation. To pursue its goal, the fund normally invests at least 80% of its net assets, plus any borrowings for investment purposes, in equity securities of large capitalization companies. The fund considers large-cap companies to be those companies with market capitalizations of $5 billion or more at the time of purchase. The fund invests in growth-oriented stocks and value-oriented stocks. The fund invests primarily in equity securities of U.S. [...] | 12/15/23 | 12/18/23 | 12/18/23 | 0.0000 | 0.1215 | 0.0000 | 0.0432 | 3.9540 | 4.1187 |\\n| 03/29/23 | 03/30/23 | 03/30/23  0.0000  0.0000 | 1.2978 | 1.2978 |\\n| 12/15/22 | 12/16/22 | 12/16/22 | 0.0000 | 0.1422 | 0.0000 | 0.0000 | 1.2075 | 1.3497 |\\n| 03/29/22 | 03/30/22 | 03/30/22  0.0000  0.0000 | 1.4874 | 1.4874 |\\n| 12/16/21 | 12/17/21 | 12/17/21 | 0.0000 | 0.0490 | 0.0000 | 0.2087 | 3.3896 | 3.6473 |\\n| 03/29/21 | 03/30/21 | 03/30/21  0.0000  0.0583 | 0.1289 | 0.1872 |', 'score': 0.8488849}, {'title': 'Small-Cap Funds Vs. Large-Cap Funds: How They Differ | Bankrate', 'url': 'https://www.bankrate.com/investing/small-cap-funds-vs-large-cap-funds/', 'content': 'Large caps are stocks with a valuation of greater than $10 billion or so, though those above $200 billion are sometimes called mega-caps.\\n Large caps are considered safer than small caps and have performed well over time.\\n Large caps tend to have less growth potential because they operate in mature industries.\\n These stocks have deep financial resources and are generally financially robust.\\n Large caps tend to be less volatile than their smaller peers, because of their perceived safety.', 'score': 0.8051581}]\n"
          ]
        }
      ],
      "source": [
        "# Execute web search tool\n",
        "results = web_search_tool.invoke({\"query\": question})\n",
        "print(results)"
      ]
    },
    {
      "cell_type": "markdown",
      "id": "8f30cb22",
      "metadata": {
        "id": "8f30cb22"
      },
      "source": [
        "## State\n",
        "\n",
        "Define the state for the CRAG graph.\n",
        "\n",
        "```Web_search``` represents the state indicating whether to use web search.\n",
        "It is expressed as yes or no (yes: web search required, no: not required)."
      ]
    },
    {
      "cell_type": "code",
      "execution_count": 46,
      "id": "b07cb207",
      "metadata": {
        "id": "b07cb207"
      },
      "outputs": [],
      "source": [
        "from typing import Annotated, List\n",
        "from typing_extensions import TypedDict\n",
        "\n",
        "# Define State\n",
        "class GraphState(TypedDict):\n",
        "    question: Annotated[str, \"The question to answer\"]\n",
        "    generation: Annotated[str, \"The generation from the LLM\"]\n",
        "    web_search: Annotated[str, \"Whether to add search\"]\n",
        "    documents: Annotated[List[str], \"The documents retrieved\"]\n",
        "    refined_for_re_retrieval:bool\n",
        "    relevant:bool\n",
        "    answer:str\n",
        "    refined_query: str\n",
        "    web_search_query:str\n",
        "    "
      ]
    },
    {
      "cell_type": "markdown",
      "id": "423bdd4b",
      "metadata": {
        "id": "423bdd4b"
      },
      "source": [
        "## Node\n",
        "\n",
        "Define the nodes to be used in the CRAG graph."
      ]
    },
    {
      "cell_type": "code",
      "execution_count": 47,
      "id": "ed59928b",
      "metadata": {},
      "outputs": [],
      "source": [
        "from langchain.schema import Document\n",
        "from langgraph.graph import StateGraph, END\n",
        "\n",
        "\n",
        "# Document Retrieval Node\n",
        "def retrieve(state: GraphState):\n",
        "    print(\"\\n==== RETRIEVE ====\\n\")\n",
        "    if state['refined_for_re_retrieval']:\n",
        "        question = state[\"refined_query\"]\n",
        "    else:\n",
        "        question = state[\"question\"]\n",
        "\n",
        "    # Perform document retrieval.\n",
        "    documents = retriever.invoke(question)\n",
        "    return {\"documents\": documents}\n",
        "\n",
        "\n",
        "# Answer Generation Node\n",
        "def generate(state: GraphState):\n",
        "    print(\"\\n==== GENERATE ====\\n\")\n",
        "    context = \"\\n\".join([doc.page_content for doc in state[\"documents\"]])\n",
        "    message = ragprompt.invoke({\"question\":state[\"question\"],\"context\":context})\n",
        "    response = llm.invoke(message)\n",
        "    print(\"Response: \",response)\n",
        "    return {\"answer\": response}"
      ]
    },
    {
      "cell_type": "code",
      "execution_count": 48,
      "id": "56d95bf9",
      "metadata": {},
      "outputs": [],
      "source": [
        "from pydantic import BaseModel, Field\n",
        "\n",
        "class graderResponseStructure(BaseModel):\n",
        "    grader_score:str = Field(description=\"documents are relevant to the query or not, 'yes' or 'no'\")\n",
        "\n",
        "\n",
        "graderLLM = llm.with_structured_output(graderResponseStructure)\n",
        "# Document Evaluation Node\n",
        "def grade_documents(state: GraphState):\n",
        "    print(\"\\n==== [CHECK DOCUMENT RELEVANCE TO QUESTION] ====\\n\")\n",
        "\n",
        "    prompt = PromptTemplate.from_template(\"\"\"\n",
        "    You are an expert grader, kindly evaluate provided documents and its relevance to the user query, if the docs are related to the question, then it is relevant, return 'yes' or else return 'no'\n",
        "    Are the following documents relevant to the query?\n",
        "    Query: {query}\n",
        "    Documents: {docs}\n",
        "    Answer \"YES\" or \"NO\".\n",
        "    \"\"\")\n",
        "    formatted_docs = \"\\n\".join([doc.page_content for doc in state[\"documents\"]])\n",
        "    result = graderLLM.invoke(prompt.format(query=state[\"question\"], docs=formatted_docs))\n",
        "    is_relevant = \"yes\" in result.grader_score.lower()\n",
        "    return {\n",
        "        \"question\": state[\"question\"],\n",
        "        \"documents\": state[\"documents\"],\n",
        "        \"relevant\": is_relevant,\n",
        "        \"refined_for_re_retrieval\": state.get(\"refined_for_re_retrieval\")\n",
        "    }\n"
      ]
    },
    {
      "cell_type": "code",
      "execution_count": 49,
      "id": "d19f3a3e",
      "metadata": {},
      "outputs": [
        {
          "name": "stdout",
          "output_type": "stream",
          "text": [
            "\n",
            "==== RETRIEVE ====\n",
            "\n",
            "\n",
            "==== [CHECK DOCUMENT RELEVANCE TO QUESTION] ====\n",
            "\n"
          ]
        },
        {
          "data": {
            "text/plain": [
              "{'question': 'what is mid cap capital market?',\n",
              " 'documents': [Document(id='7a8f3a52-6150-49d4-b58a-7d5bded04f24', metadata={'page_label': '1', 'source': 'https://www.morningstar.in/docs/methodology/CategoryDefinitionsIndiaV3.pdf', 'creator': 'PScript5.dll Version 5.2.2', 'title': 'Microsoft Word - India Category_Definitions April 2021', 'total_pages': 12, 'creationdate': '2021-02-26T12:11:18+05:30', 'page': 0, 'start_index': 0, 'author': 'KBelapu', 'producer': 'GPL Ghostscript 9.06', 'moddate': '2021-02-26T12:11:18+05:30'}, page_content='? \\n \\n \\n \\n \\n \\n \\n \\n \\n \\n \\n \\nCategor y Definitions  \\nIndia \\nEquity  \\n \\nLarge-Cap \\nLarge-Cap funds primarily consist of stocks which are the Top 100 stocks by full market capitalization  of \\nthe equity market. These funds invest at least 80% of total assets in Indian equities and the balance can \\nbe invested in other asset classes such as fixed income and overseas equities, among others. Funds in \\nthis category would invest at least 80% of their total assets in large-cap stocks. \\nMorningstar Category Index: S&P BSE 100 TR \\n \\nMid-Cap \\nMid-Cap funds primarily consist of stocks ranked 101st to 250th by full market capitalization of the \\nequity market. These funds invest at least 65% of total assets in Indian equities, and the balance can be \\ninvested in other asset classes such as fixed income and overseas equities, among others. Funds in this \\ncategory would invest at least 65% of their total assets in mid-cap stocks. \\nMorningstar Category Index: S&P BSE Mid Cap TR \\n \\nSmall-Cap \\nSmall-Cap funds primarily consist of stocks ranked 251st onwards by full market capitalization of the \\nequity market. These funds invest at least 65% of total assets in Indian equities, and the balance can be \\ninvested in other asset classes such as fixed income and overseas equities, among others. Funds in this \\ncategory would invest at least 65% of their total assets in small-cap stocks. \\nMorningstar Category Index: S&P BSE Small Cap TR \\n \\nFlexi Cap \\nFlexi Cap funds invest at least 65% of their total assets in Indian equities, and the balance can be \\ninvested in other asset classes such as fixed income and overseas equities, among others. These funds \\nwill invest into a mix of Large, Mid and small-cap stocks. \\nMorningstar Category Index: S&P BSE 500 TR \\n \\n \\n \\nMorningstar Research  \\nApril 2021'),\n",
              "  Document(id='6e91532d-aad4-4eb6-a229-b22aa6b63845', metadata={'creator': 'PScript5.dll Version 5.2.2', 'title': 'Microsoft Word - India Category_Definitions April 2021', 'author': 'KBelapu', 'producer': 'GPL Ghostscript 9.06', 'page_label': '2', 'start_index': 0, 'total_pages': 12, 'page': 1, 'source': 'https://www.morningstar.in/docs/methodology/CategoryDefinitionsIndiaV3.pdf', 'creationdate': '2021-02-26T12:11:18+05:30', 'moddate': '2021-02-26T12:11:18+05:30'}, page_content='©2019 Morningstar, Inc. All rights reserved. The information in this document is the property of Morningstar, Inc. Reproduction or transcription by any means, in whole or part, without  \\nthe prior written consent of Morningstar, Inc., is prohibited. \\nCategory Definitions , India  | 26 February 2021  Page 2 of 12  \\nMulti- Cap \\nMulti-Cap funds invest at least 75% of their total assets in Indian equities, and the balance can be \\ninvested in other asset classes such as fixed income and overseas equities, among others. These funds \\nwill invest a minimum of 25% each in Large Cap, Mid Cap and Small Cap stocks. \\nMorningstar Category Index: S&P BSE 500 TR \\n \\n \\nLarge & Mid- Cap \\nLarge & Mid-Cap funds primarily consist of stocks which are the Top 250 stocks by full market \\ncapitalization of the equity market. These funds invest at least 70% of total assets in Indian equities and \\nthe balance can be invested in other asset classes such as fixed income and overseas equities, among \\nothers. Funds in this category would invest at least 35% of their total assets in large-cap stocks and  35% \\nof their total assets in mid-cap stocks. \\nMorningstar Category Index: S&P BSE 200 TR \\n \\n \\nGlobal – Other \\nGlobal – Other funds include those funds that invest at least 65% of total assets in instruments issued by \\noverseas i.e. non-Indian companies. In addition, funds that invest at least 65% of total assets in \\nexchange traded funds, fund of funds domiciled outside India are also included in this category. \\n[Funds in this category do not receive a Morningstar Rating™ due to the diverse nature of the \\nconstituents.] \\n \\nELSS (Equity Linked Saving Schemes) \\nThese funds are notified as ELSS by SEBI under Section 10 (23D). Investments of up to Rs 150,000 in a \\nfinancial year in these funds are exempt from Income Tax under Section 80C of the Income Tax Act, \\n1961. Investments in ELSS are subject to a lock-in of three years from the date of investment. \\nMorningstar Category Index: S&P BSE 200 TR \\n \\nValue Funds   \\nValue funds invest at least 65% of their total assets in Indian equities, and the balance can be invested in \\nother asset classes such as fixed income and overseas equities, among others. These funds will \\npredominantly invest in value stocks. \\nMorningstar Category Index: S&P BSE 500 TR \\n \\nContra Funds  \\nContra funds invest at least 65% of their total assets in Indian equities, and the balance can be invested \\nin other asset classes such as fixed income and overseas equities, among others. These funds will \\npredominantly invest using a contrarian investment theme. \\nMorningstar Category Index: S&P BSE 500 TR')],\n",
              " 'relevant': True,\n",
              " 'refined_for_re_retrieval': None}"
            ]
          },
          "execution_count": 49,
          "metadata": {},
          "output_type": "execute_result"
        }
      ],
      "source": [
        "qus = \"what is mid cap capital market?\"\n",
        "docs = retrieve({\"question\":qus,\"refined_for_re_retrieval\":False})\n",
        "grade_documents({\"question\":qus,\"documents\":docs['documents']})"
      ]
    },
    {
      "cell_type": "code",
      "execution_count": 57,
      "id": "4b89e9cb",
      "metadata": {
        "id": "4b89e9cb"
      },
      "outputs": [],
      "source": [
        "\n",
        "# Query Rewriting Node\n",
        "def query_rewrite(state: GraphState):\n",
        "    print(\"\\n==== [REWRITE QUERY] ====\\n\")\n",
        "    question = state[\"question\"]\n",
        "\n",
        "    if not state.get(\"refined_for_re_retrieval\"): # for first time query finetuning for Vector DB\n",
        "        prompt = f\"Generate 5 improved variants of the following query in context to finance, stock markets: {question}\"\n",
        "        response = llm.invoke(prompt)\n",
        "        improved_query = question + \" \" + \" \".join(response.content.split(\"\\n\"))\n",
        "        return {\"refined_query\": improved_query, \"refined_for_re_retrieval\": True}\n",
        "    else:\n",
        "        # Rewrite the question.\n",
        "        prompt = f\"Write a short query optimized for web search for the provided question: {question}\"\n",
        "        web_query = llm.invoke(prompt)\n",
        "        print(\"WEB Query: \",web_query)\n",
        "        return {\"web_search_query\": web_query.content, \"web_search\": True}\n",
        "\n",
        "# Web Search Node\n",
        "def web_search(state: GraphState):\n",
        "    print(\"\\n==== [WEB SEARCH] ====\\n\")\n",
        "    question = state[\"web_search_query\"]\n",
        "    documents = state['documents']\n",
        "\n",
        "    # Perform web search.\n",
        "    docs = web_search_tool.invoke({\"query\": question})\n",
        "    # Convert search results into document format.\n",
        "    web_results = \"\\n\".join([d[\"content\"] for d in docs])\n",
        "    web_results = Document(page_content=web_results)\n",
        "    documents.append(web_results)\n",
        "\n",
        "    return {\"documents\": documents}\n",
        "\n"
      ]
    },
    {
      "cell_type": "markdown",
      "id": "52091fa6",
      "metadata": {
        "id": "52091fa6"
      },
      "source": [
        "## Function for Conditional Edges\n",
        "\n",
        "The ```decide_to_generate``` function routes to the next node based on whether web search is required after relevance evaluation.\n",
        "\n",
        "If ```web_search``` is ```Yes```, it rewrites the query at the ```query_rewrite``` node and performs a web search.\n",
        "\n",
        "If ```web_search``` is ```No```, it proceeds to ```generate``` to create the final answer.\n"
      ]
    },
    {
      "cell_type": "markdown",
      "id": "aaadaa1e",
      "metadata": {
        "id": "aaadaa1e"
      },
      "source": [
        "## Graph Creation\n",
        "\n",
        "Now, define the nodes and connect the edges to complete the graph."
      ]
    },
    {
      "cell_type": "markdown",
      "id": "8c98c318",
      "metadata": {
        "id": "8c98c318"
      },
      "source": [
        "Visualize the graph."
      ]
    },
    {
      "cell_type": "code",
      "execution_count": 58,
      "id": "65bd6ae0",
      "metadata": {},
      "outputs": [
        {
          "data": {
            "image/png": "[encoded data removed]",
            "text/plain": [
              "<langgraph.graph.state.CompiledStateGraph object at 0x71fba30f8260>"
            ]
          },
          "execution_count": 58,
          "metadata": {},
          "output_type": "execute_result"
        }
      ],
      "source": [
        "# ---- Subgraph: Retrieval + Grading ----\n",
        "def build_retrieval_grader_subgraph():\n",
        "    sub_builder = StateGraph(GraphState).add_sequence([retrieve,grade_documents])\n",
        "    sub_builder.add_edge(START,\"retrieve\")\n",
        "    sub_builder.add_edge(\"grade_documents\", END)\n",
        "    return sub_builder.compile()\n",
        "\n",
        "retrieval_grader = build_retrieval_grader_subgraph()\n",
        "\n",
        "\n",
        "# ---- Main Graph ----\n",
        "builder = StateGraph(GraphState)\n",
        "\n",
        "builder.add_node(\"RetrievalGrader\", retrieval_grader)\n",
        "builder.add_node(\"Generator\", generate)\n",
        "builder.add_node(\"QueryRewrite\", query_rewrite)\n",
        "builder.add_node(\"WebSearch\", web_search)\n",
        "\n",
        "builder.set_entry_point(\"RetrievalGrader\")\n",
        "\n",
        "# ---- Routing Logic ----\n",
        "def route_after_grading(state: GraphState) -> str:\n",
        "    if state[\"relevant\"]:\n",
        "        return \"Generator\"\n",
        "    elif not state[\"refined_for_re_retrieval\"]:\n",
        "        return \"QueryRewrite\"\n",
        "    else:\n",
        "        return \"QueryRewrite\"\n",
        "\n",
        "def route_after_rewrite(state: GraphState) -> str:\n",
        "    if state.get(\"web_search\"):\n",
        "        return \"WebSearch\"\n",
        "    return \"RetrievalGrader\"\n",
        "\n",
        "builder.add_conditional_edges(\"RetrievalGrader\", route_after_grading,{\"Generator\":\"Generator\",\n",
        "                                                                      \"QueryRewrite\":\"QueryRewrite\",\n",
        "                                                                      })\n",
        "builder.add_edge(\"Generator\", END)\n",
        "builder.add_conditional_edges(\"QueryRewrite\", route_after_rewrite,{\"WebSearch\":\"WebSearch\",\"RetrievalGrader\":\"RetrievalGrader\"})\n",
        "builder.add_edge(\"WebSearch\", \"Generator\")\n",
        "\n",
        "graph = builder.compile()\n",
        "\n",
        "graph"
      ]
    },
    {
      "cell_type": "code",
      "execution_count": 59,
      "id": "92203ff9",
      "metadata": {},
      "outputs": [
        {
          "name": "stdout",
          "output_type": "stream",
          "text": [
            "\n",
            "==== RETRIEVE ====\n",
            "\n",
            "\n",
            "==== [CHECK DOCUMENT RELEVANCE TO QUESTION] ====\n",
            "\n",
            "\n",
            "==== [REWRITE QUERY] ====\n",
            "\n",
            "\n",
            "==== RETRIEVE ====\n",
            "\n",
            "\n",
            "==== [CHECK DOCUMENT RELEVANCE TO QUESTION] ====\n",
            "\n",
            "\n",
            "==== [REWRITE QUERY] ====\n",
            "\n",
            "WEB Query:  content='\"LangGraph overview and usage guide\"' additional_kwargs={'refusal': None} response_metadata={'token_usage': {'completion_tokens': 9, 'prompt_tokens': 30, 'total_tokens': 39, 'completion_tokens_details': {'accepted_prediction_tokens': 0, 'audio_tokens': 0, 'reasoning_tokens': 0, 'rejected_prediction_tokens': 0}, 'prompt_tokens_details': {'audio_tokens': 0, 'cached_tokens': 0}}, 'model_name': 'gpt-4o-mini-2024-07-18', 'system_fingerprint': 'fp_efad92c60b', 'id': 'chatcmpl-CIStJUDq74oEEu5QH0WV0kiIl6RX7', 'service_tier': None, 'prompt_filter_results': [{'prompt_index': 0, 'content_filter_results': {'hate': {'filtered': False, 'severity': 'safe'}, 'jailbreak': {'filtered': False, 'detected': False}, 'self_harm': {'filtered': False, 'severity': 'safe'}, 'sexual': {'filtered': False, 'severity': 'safe'}, 'violence': {'filtered': False, 'severity': 'safe'}}}], 'finish_reason': 'stop', 'logprobs': None, 'content_filter_results': {'hate': {'filtered': False, 'severity': 'safe'}, 'protected_material_code': {'filtered': False, 'detected': False}, 'protected_material_text': {'filtered': False, 'detected': False}, 'self_harm': {'filtered': False, 'severity': 'safe'}, 'sexual': {'filtered': False, 'severity': 'safe'}, 'violence': {'filtered': False, 'severity': 'safe'}}} id='run--149e88aa-bc34-45a1-892e-4425eb78e064-0' usage_metadata={'input_tokens': 30, 'output_tokens': 9, 'total_tokens': 39, 'input_token_details': {'audio': 0, 'cache_read': 0}, 'output_token_details': {'audio': 0, 'reasoning': 0}}\n",
            "\n",
            "==== [WEB SEARCH] ====\n",
            "\n",
            "\n",
            "==== GENERATE ====\n",
            "\n",
            "Response:  content='LangGraph is a low-level orchestration framework designed for building, managing, and deploying long-running, stateful agents. It focuses on critical capabilities for agent orchestration, such as durable execution, streaming, and human-in-the-loop processes. LangGraph provides two APIs for utilizing these capabilities: a Graph API and a functional API. It simplifies the creation, management, and visualization of complex AI workflows, making it easier to handle stateful workflows, conditional logic, loops, and multistep interactions. LangGraph can be thought of as a visual flowchart builder for AI logic, helping users understand the movement of data within their applications.' additional_kwargs={'refusal': None} response_metadata={'token_usage': {'completion_tokens': 128, 'prompt_tokens': 1218, 'total_tokens': 1346, 'completion_tokens_details': {'accepted_prediction_tokens': 0, 'audio_tokens': 0, 'reasoning_tokens': 0, 'rejected_prediction_tokens': 0}, 'prompt_tokens_details': {'audio_tokens': 0, 'cached_tokens': 0}}, 'model_name': 'gpt-4o-mini-2024-07-18', 'system_fingerprint': 'fp_efad92c60b', 'id': 'chatcmpl-CIStM8sKQwy505Jc64mS4BMYZTMMt', 'service_tier': None, 'prompt_filter_results': [{'prompt_index': 0, 'content_filter_results': {'hate': {'filtered': False, 'severity': 'safe'}, 'jailbreak': {'filtered': False, 'detected': False}, 'self_harm': {'filtered': False, 'severity': 'safe'}, 'sexual': {'filtered': False, 'severity': 'safe'}, 'violence': {'filtered': False, 'severity': 'safe'}}}], 'finish_reason': 'stop', 'logprobs': None, 'content_filter_results': {'hate': {'filtered': False, 'severity': 'safe'}, 'protected_material_code': {'filtered': False, 'detected': False}, 'protected_material_text': {'filtered': False, 'detected': False}, 'self_harm': {'filtered': False, 'severity': 'safe'}, 'sexual': {'filtered': False, 'severity': 'safe'}, 'violence': {'filtered': False, 'severity': 'safe'}}} id='run--42122fa1-b7fa-45f3-ad54-f29adcd11b88-0' usage_metadata={'input_tokens': 1218, 'output_tokens': 128, 'total_tokens': 1346, 'input_token_details': {'audio': 0, 'cache_read': 0}, 'output_token_details': {'audio': 0, 'reasoning': 0}}\n",
            "Final Answer: content='LangGraph is a low-level orchestration framework designed for building, managing, and deploying long-running, stateful agents. It focuses on critical capabilities for agent orchestration, such as durable execution, streaming, and human-in-the-loop processes. LangGraph provides two APIs for utilizing these capabilities: a Graph API and a functional API. It simplifies the creation, management, and visualization of complex AI workflows, making it easier to handle stateful workflows, conditional logic, loops, and multistep interactions. LangGraph can be thought of as a visual flowchart builder for AI logic, helping users understand the movement of data within their applications.' additional_kwargs={'refusal': None} response_metadata={'token_usage': {'completion_tokens': 128, 'prompt_tokens': 1218, 'total_tokens': 1346, 'completion_tokens_details': {'accepted_prediction_tokens': 0, 'audio_tokens': 0, 'reasoning_tokens': 0, 'rejected_prediction_tokens': 0}, 'prompt_tokens_details': {'audio_tokens': 0, 'cached_tokens': 0}}, 'model_name': 'gpt-4o-mini-2024-07-18', 'system_fingerprint': 'fp_efad92c60b', 'id': 'chatcmpl-CIStM8sKQwy505Jc64mS4BMYZTMMt', 'service_tier': None, 'prompt_filter_results': [{'prompt_index': 0, 'content_filter_results': {'hate': {'filtered': False, 'severity': 'safe'}, 'jailbreak': {'filtered': False, 'detected': False}, 'self_harm': {'filtered': False, 'severity': 'safe'}, 'sexual': {'filtered': False, 'severity': 'safe'}, 'violence': {'filtered': False, 'severity': 'safe'}}}], 'finish_reason': 'stop', 'logprobs': None, 'content_filter_results': {'hate': {'filtered': False, 'severity': 'safe'}, 'protected_material_code': {'filtered': False, 'detected': False}, 'protected_material_text': {'filtered': False, 'detected': False}, 'self_harm': {'filtered': False, 'severity': 'safe'}, 'sexual': {'filtered': False, 'severity': 'safe'}, 'violence': {'filtered': False, 'severity': 'safe'}}} id='run--42122fa1-b7fa-45f3-ad54-f29adcd11b88-0' usage_metadata={'input_tokens': 1218, 'output_tokens': 128, 'total_tokens': 1346, 'input_token_details': {'audio': 0, 'cache_read': 0}, 'output_token_details': {'audio': 0, 'reasoning': 0}}\n"
          ]
        }
      ],
      "source": [
        "# ---- Execute Graph ----\n",
        "response = graph.invoke({\"question\": \"What is LangGraph and how is it used?\",\"refined_for_re_retrieval\":False})\n",
        "print(\"Final Answer:\", response.get(\"answer\"))"
      ]
    },
    {
      "cell_type": "code",
      "execution_count": 65,
      "id": "ff776b35",
      "metadata": {},
      "outputs": [
        {
          "name": "stdout",
          "output_type": "stream",
          "text": [
            "\n",
            "==== RETRIEVE ====\n",
            "\n",
            "\n",
            "==== [CHECK DOCUMENT RELEVANCE TO QUESTION] ====\n",
            "\n",
            "\n",
            "==== [REWRITE QUERY] ====\n",
            "\n",
            "\n",
            "==== RETRIEVE ====\n",
            "\n",
            "\n",
            "==== [CHECK DOCUMENT RELEVANCE TO QUESTION] ====\n",
            "\n",
            "\n",
            "==== GENERATE ====\n",
            "\n",
            "Response:  content='Mid market refers to the category of Mid-Cap funds, which primarily consist of stocks ranked 101st to 250th by full market capitalization of the equity market. These funds invest at least 65% of total assets in Indian equities.' additional_kwargs={'refusal': None} response_metadata={'token_usage': {'completion_tokens': 50, 'prompt_tokens': 1079, 'total_tokens': 1129, 'completion_tokens_details': {'accepted_prediction_tokens': 0, 'audio_tokens': 0, 'reasoning_tokens': 0, 'rejected_prediction_tokens': 0}, 'prompt_tokens_details': {'audio_tokens': 0, 'cached_tokens': 0}}, 'model_name': 'gpt-4o-mini-2024-07-18', 'system_fingerprint': 'fp_efad92c60b', 'id': 'chatcmpl-CISvR6Od5WRh1d9KoFkroBgDhvI19', 'service_tier': None, 'prompt_filter_results': [{'prompt_index': 0, 'content_filter_results': {'hate': {'filtered': False, 'severity': 'safe'}, 'jailbreak': {'filtered': False, 'detected': False}, 'self_harm': {'filtered': False, 'severity': 'safe'}, 'sexual': {'filtered': False, 'severity': 'safe'}, 'violence': {'filtered': False, 'severity': 'safe'}}}], 'finish_reason': 'stop', 'logprobs': None, 'content_filter_results': {'hate': {'filtered': False, 'severity': 'safe'}, 'self_harm': {'filtered': False, 'severity': 'safe'}, 'sexual': {'filtered': False, 'severity': 'safe'}, 'violence': {'filtered': False, 'severity': 'safe'}}} id='run--555b672b-292c-4e55-8fdb-af4ba952c439-0' usage_metadata={'input_tokens': 1079, 'output_tokens': 50, 'total_tokens': 1129, 'input_token_details': {'audio': 0, 'cache_read': 0}, 'output_token_details': {'audio': 0, 'reasoning': 0}}\n",
            "Final Answer: content='Mid market refers to the category of Mid-Cap funds, which primarily consist of stocks ranked 101st to 250th by full market capitalization of the equity market. These funds invest at least 65% of total assets in Indian equities.' additional_kwargs={'refusal': None} response_metadata={'token_usage': {'completion_tokens': 50, 'prompt_tokens': 1079, 'total_tokens': 1129, 'completion_tokens_details': {'accepted_prediction_tokens': 0, 'audio_tokens': 0, 'reasoning_tokens': 0, 'rejected_prediction_tokens': 0}, 'prompt_tokens_details': {'audio_tokens': 0, 'cached_tokens': 0}}, 'model_name': 'gpt-4o-mini-2024-07-18', 'system_fingerprint': 'fp_efad92c60b', 'id': 'chatcmpl-CISvR6Od5WRh1d9KoFkroBgDhvI19', 'service_tier': None, 'prompt_filter_results': [{'prompt_index': 0, 'content_filter_results': {'hate': {'filtered': False, 'severity': 'safe'}, 'jailbreak': {'filtered': False, 'detected': False}, 'self_harm': {'filtered': False, 'severity': 'safe'}, 'sexual': {'filtered': False, 'severity': 'safe'}, 'violence': {'filtered': False, 'severity': 'safe'}}}], 'finish_reason': 'stop', 'logprobs': None, 'content_filter_results': {'hate': {'filtered': False, 'severity': 'safe'}, 'self_harm': {'filtered': False, 'severity': 'safe'}, 'sexual': {'filtered': False, 'severity': 'safe'}, 'violence': {'filtered': False, 'severity': 'safe'}}} id='run--555b672b-292c-4e55-8fdb-af4ba952c439-0' usage_metadata={'input_tokens': 1079, 'output_tokens': 50, 'total_tokens': 1129, 'input_token_details': {'audio': 0, 'cache_read': 0}, 'output_token_details': {'audio': 0, 'reasoning': 0}}\n"
          ]
        }
      ],
      "source": [
        "# ---- Execute Graph ----\n",
        "response = graph.invoke({\"question\": \"What is mid market?\",\"refined_for_re_retrieval\":False})\n",
        "print(\"Final Answer:\", response.get(\"answer\"))"
      ]
    },
    {
      "cell_type": "code",
      "execution_count": 64,
      "id": "172f997e",
      "metadata": {},
      "outputs": [
        {
          "name": "stdout",
          "output_type": "stream",
          "text": [
            "\n",
            "==== RETRIEVE ====\n",
            "\n",
            "\n",
            "==== [CHECK DOCUMENT RELEVANCE TO QUESTION] ====\n",
            "\n",
            "\n",
            "==== GENERATE ====\n",
            "\n",
            "Response:  content='Large cap capital market refers to the segment of the equity market comprising the top 100 stocks by full market capitalization. Large-cap funds invest at least 80% of their total assets in these large-cap stocks, while the remainder may be allocated to other asset classes like fixed income and overseas equities.' additional_kwargs={'refusal': None} response_metadata={'token_usage': {'completion_tokens': 60, 'prompt_tokens': 1081, 'total_tokens': 1141, 'completion_tokens_details': {'accepted_prediction_tokens': 0, 'audio_tokens': 0, 'reasoning_tokens': 0, 'rejected_prediction_tokens': 0}, 'prompt_tokens_details': {'audio_tokens': 0, 'cached_tokens': 0}}, 'model_name': 'gpt-4o-mini-2024-07-18', 'system_fingerprint': 'fp_efad92c60b', 'id': 'chatcmpl-CISv3bh0Q6FoQgFfTrWXoHAUYLB4p', 'service_tier': None, 'prompt_filter_results': [{'prompt_index': 0, 'content_filter_results': {'hate': {'filtered': False, 'severity': 'safe'}, 'jailbreak': {'filtered': False, 'detected': False}, 'self_harm': {'filtered': False, 'severity': 'safe'}, 'sexual': {'filtered': False, 'severity': 'safe'}, 'violence': {'filtered': False, 'severity': 'safe'}}}], 'finish_reason': 'stop', 'logprobs': None, 'content_filter_results': {'hate': {'filtered': False, 'severity': 'safe'}, 'self_harm': {'filtered': False, 'severity': 'safe'}, 'sexual': {'filtered': False, 'severity': 'safe'}, 'violence': {'filtered': False, 'severity': 'safe'}}} id='run--545e5d65-3caf-4d05-81ce-7c8e5257b390-0' usage_metadata={'input_tokens': 1081, 'output_tokens': 60, 'total_tokens': 1141, 'input_token_details': {'audio': 0, 'cache_read': 0}, 'output_token_details': {'audio': 0, 'reasoning': 0}}\n",
            "Final Answer: content='Large cap capital market refers to the segment of the equity market comprising the top 100 stocks by full market capitalization. Large-cap funds invest at least 80% of their total assets in these large-cap stocks, while the remainder may be allocated to other asset classes like fixed income and overseas equities.' additional_kwargs={'refusal': None} response_metadata={'token_usage': {'completion_tokens': 60, 'prompt_tokens': 1081, 'total_tokens': 1141, 'completion_tokens_details': {'accepted_prediction_tokens': 0, 'audio_tokens': 0, 'reasoning_tokens': 0, 'rejected_prediction_tokens': 0}, 'prompt_tokens_details': {'audio_tokens': 0, 'cached_tokens': 0}}, 'model_name': 'gpt-4o-mini-2024-07-18', 'system_fingerprint': 'fp_efad92c60b', 'id': 'chatcmpl-CISv3bh0Q6FoQgFfTrWXoHAUYLB4p', 'service_tier': None, 'prompt_filter_results': [{'prompt_index': 0, 'content_filter_results': {'hate': {'filtered': False, 'severity': 'safe'}, 'jailbreak': {'filtered': False, 'detected': False}, 'self_harm': {'filtered': False, 'severity': 'safe'}, 'sexual': {'filtered': False, 'severity': 'safe'}, 'violence': {'filtered': False, 'severity': 'safe'}}}], 'finish_reason': 'stop', 'logprobs': None, 'content_filter_results': {'hate': {'filtered': False, 'severity': 'safe'}, 'self_harm': {'filtered': False, 'severity': 'safe'}, 'sexual': {'filtered': False, 'severity': 'safe'}, 'violence': {'filtered': False, 'severity': 'safe'}}} id='run--545e5d65-3caf-4d05-81ce-7c8e5257b390-0' usage_metadata={'input_tokens': 1081, 'output_tokens': 60, 'total_tokens': 1141, 'input_token_details': {'audio': 0, 'cache_read': 0}, 'output_token_details': {'audio': 0, 'reasoning': 0}}\n"
          ]
        }
      ],
      "source": [
        "# ---- Execute Graph ----\n",
        "response = graph.invoke({\"question\": \"what is large cap capital market?\",\"refined_for_re_retrieval\":False})\n",
        "print(\"Final Answer:\", response.get(\"answer\"))"
      ]
    }
  ],
  "metadata": {
    "colab": {
      "provenance": []
    },
    "kernelspec": {
      "display_name": "genai",
      "language": "python",
      "name": "python3"
    },
    "language_info": {
      "codemirror_mode": {
        "name": "ipython",
        "version": 3
      },
      "file_extension": ".py",
      "mimetype": "text/x-python",
      "name": "python",
      "nbconvert_exporter": "python",
      "pygments_lexer": "ipython3",
      "version": "3.12.3"
    }
  },
  "nbformat": 4,
  "nbformat_minor": 5
}
