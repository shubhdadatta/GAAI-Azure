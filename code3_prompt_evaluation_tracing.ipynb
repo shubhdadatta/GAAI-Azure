{
  "cells": [
    {
      "cell_type": "markdown",
      "id": "3bbc1156",
      "metadata": {
        "id": "3bbc1156"
      },
      "source": [
        "# Prompt Evaluation and Tracing with MLflow\n",
        "This notebook is designed to help you evaluate and trace prompts using MLflow. It provides a structured way to log prompt evaluations, track their performance, and visualize the results over time.\n",
        "\n",
        "Key Benefits of MLflow Prompt Evaluation\n",
        "* Effective Evaluation: `MLflow's LLM Evaluation API provides a simple and consistent way to evaluate prompts across different models and datasets without writing boilerplate code.\n",
        "* Compare Results: Compare evaluation results with ease in the MLflow UI.\n",
        "* Tracking Results: Track evaluation results in MLflow Experiment to maintain the history of prompt performance and different evaluation settings.\n",
        "* Tracing: Inspect model behavior during inference deeply with traces generated during evaluation."
      ]
    },
    {
      "cell_type": "markdown",
      "id": "c136f3fa",
      "metadata": {},
      "source": [
        "### <span style=\"color:red\">Additions for .env - Environement Variables</span>\n",
        "\n",
        "\n",
        "\n",
        "\n",
        "OPENAI_API_TYPE=\"azure\"\n",
        "\n",
        "OPENAI_API_BASE=\"<your-azure-openai-endpoint>\"\n",
        "\n",
        "OPENAI_DEPLOYMENT_NAME=gpt4o\n",
        "\n",
        "OPENAI_API_VERSION=\"2024-08-01-preview\"\n",
        "\n",
        "OPENAI_API_KEY=\"<your-api-key-for-azure-openai>\""
      ]
    },
    {
      "cell_type": "code",
      "execution_count": 1,
      "id": "f45256b9",
      "metadata": {
        "id": "f45256b9"
      },
      "outputs": [],
      "source": [
        "#!pip install mlflow openai dspy litellm textstat evaluate --quiet"
      ]
    },
    {
      "cell_type": "code",
      "execution_count": 1,
      "id": "2a97b8a8",
      "metadata": {
        "id": "2a97b8a8"
      },
      "outputs": [
        {
          "name": "stderr",
          "output_type": "stream",
          "text": [
            "C:\\Users\\Anshu Pandey\\AppData\\Roaming\\Python\\Python310\\site-packages\\pandas\\core\\arrays\\masked.py:60: UserWarning: Pandas requires version '1.3.6' or newer of 'bottleneck' (version '1.3.5' currently installed).\n",
            "  from pandas.core import (\n"
          ]
        },
        {
          "name": "stdout",
          "output_type": "stream",
          "text": [
            "3.1.1\n"
          ]
        }
      ],
      "source": [
        "import os\n",
        "import mlflow\n",
        "from openai import AzureOpenAI\n",
        "mlflow.set_tracking_uri(\"http://20.75.92.162:5000/\")\n",
        "print(mlflow.__version__)"
      ]
    },
    {
      "cell_type": "markdown",
      "id": "2d4db162",
      "metadata": {
        "id": "2d4db162"
      },
      "source": [
        "### 1. Create a new prompt"
      ]
    },
    {
      "cell_type": "code",
      "execution_count": 2,
      "id": "574133d5",
      "metadata": {
        "id": "574133d5"
      },
      "outputs": [
        {
          "name": "stderr",
          "output_type": "stream",
          "text": [
            "C:\\Users\\Anshu Pandey\\AppData\\Local\\Temp\\ipykernel_244784\\2441474764.py:11: FutureWarning: The `mlflow.register_prompt` API is moved to the `mlflow.genai` namespace. Please use `mlflow.genai.register_prompt` instead. The original API will be removed in the future release.\n",
            "  prompt = mlflow.register_prompt(\n",
            "2025/09/07 08:30:48 INFO mlflow.store.model_registry.abstract_store: Waiting up to 300 seconds for prompt version to finish creation. Prompt name: anshu-summarization-prompt, version 9\n"
          ]
        },
        {
          "name": "stdout",
          "output_type": "stream",
          "text": [
            "Created prompt 'anshu-summarization-prompt' (version 9)\n"
          ]
        }
      ],
      "source": [
        "import mlflow\n",
        "\n",
        "# Use double curly braces for variables in the template\n",
        "initial_template = \"\"\"\\\n",
        "Summarize content you are provided with in {{ num_sentences }} sentences.\n",
        "\n",
        "Sentences: {{ sentences }}\n",
        "\"\"\"\n",
        "\n",
        "# Register a new prompt\n",
        "prompt = mlflow.register_prompt(\n",
        "    name=\"anshu-summarization-prompt\",\n",
        "    template=initial_template,\n",
        "    # Optional: Provide a commit message to describe the changes\n",
        "    commit_message=\"Initial commit\",\n",
        ")\n",
        "\n",
        "# The prompt object contains information about the registered prompt\n",
        "print(f\"Created prompt '{prompt.name}' (version {prompt.version})\")"
      ]
    },
    {
      "cell_type": "markdown",
      "id": "5ff816a5",
      "metadata": {
        "id": "5ff816a5"
      },
      "source": [
        "### 2. Prepare Evaluation Data"
      ]
    },
    {
      "cell_type": "code",
      "execution_count": 3,
      "id": "4c1e3206",
      "metadata": {
        "id": "4c1e3206"
      },
      "outputs": [],
      "source": [
        "import pandas as pd\n",
        "\n",
        "eval_data = pd.DataFrame(\n",
        "    {\n",
        "        \"inputs\": [\n",
        "            \"Artificial intelligence has transformed how businesses operate in the 21st century. Companies are leveraging AI for everything from customer service to supply chain optimization. The technology enables automation of routine tasks, freeing human workers for more creative endeavors. However, concerns about job displacement and ethical implications remain significant. Many experts argue that AI will ultimately create more jobs than it eliminates, though the transition may be challenging.\",\n",
        "            \"Climate change continues to affect ecosystems worldwide at an alarming rate. Rising global temperatures have led to more frequent extreme weather events including hurricanes, floods, and wildfires. Polar ice caps are melting faster than predicted, contributing to sea level rise that threatens coastal communities. Scientists warn that without immediate and dramatic reductions in greenhouse gas emissions, many of these changes may become irreversible. International cooperation remains essential but politically challenging.\",\n",
        "            \"The human genome project was completed in 2003 after 13 years of international collaborative research. It successfully mapped all of the genes of the human genome, approximately 20,000-25,000 genes in total. The project cost nearly $3 billion but has enabled countless medical advances and spawned new fields like pharmacogenomics. The knowledge gained has dramatically improved our understanding of genetic diseases and opened pathways to personalized medicine. Today, a complete human genome can be sequenced in under a day for about $1,000.\",\n",
        "            \"Remote work adoption accelerated dramatically during the COVID-19 pandemic. Organizations that had previously resisted flexible work arrangements were forced to implement digital collaboration tools and virtual workflows. Many companies reported surprising productivity gains, though concerns about company culture and collaboration persisted. After the pandemic, a hybrid model emerged as the preferred approach for many businesses, combining in-office and remote work. This shift has profound implications for urban planning, commercial real estate, and work-life balance.\",\n",
        "            \"Quantum computing represents a fundamental shift in computational capability. Unlike classical computers that use bits as either 0 or 1, quantum computers use quantum bits or qubits that can exist in multiple states simultaneously. This property, known as superposition, theoretically allows quantum computers to solve certain problems exponentially faster than classical computers. Major technology companies and governments are investing billions in quantum research. Fields like cryptography, material science, and drug discovery are expected to be revolutionized once quantum computers reach practical scale.\",\n",
        "        ],\n",
        "        \"targets\": [\n",
        "            \"AI has revolutionized business operations through automation and optimization, though ethical concerns about job displacement persist alongside predictions that AI will ultimately create more employment opportunities than it eliminates.\",\n",
        "            \"Climate change is causing accelerating environmental damage through extreme weather events and melting ice caps, with scientists warning that without immediate reduction in greenhouse gas emissions, many changes may become irreversible.\",\n",
        "            \"The Human Genome Project, completed in 2003, mapped approximately 20,000-25,000 human genes at a cost of $3 billion, enabling medical advances, improving understanding of genetic diseases, and establishing the foundation for personalized medicine.\",\n",
        "            \"The COVID-19 pandemic forced widespread adoption of remote work, revealing unexpected productivity benefits despite collaboration challenges, and resulting in a hybrid work model that impacts urban planning, real estate, and work-life balance.\",\n",
        "            \"Quantum computing uses qubits existing in multiple simultaneous states to potentially solve certain problems exponentially faster than classical computers, with major investment from tech companies and governments anticipating revolutionary applications in cryptography, materials science, and pharmaceutical research.\",\n",
        "        ],\n",
        "    }\n",
        ")"
      ]
    },
    {
      "cell_type": "markdown",
      "id": "429dca7a",
      "metadata": {
        "id": "429dca7a"
      },
      "source": [
        "### 3. Define prediction function"
      ]
    },
    {
      "cell_type": "code",
      "execution_count": 4,
      "id": "10a6a4dc",
      "metadata": {
        "id": "10a6a4dc"
      },
      "outputs": [],
      "source": [
        "client = AzureOpenAI()\n",
        "\n",
        "def predict(data: pd.DataFrame) -> list[str]:\n",
        "    predictions = []\n",
        "    prompt = mlflow.genai.load_prompt(\"prompts:/anshu-summarization-prompt/1\")\n",
        "\n",
        "    for _, row in data.iterrows():\n",
        "        # Fill in variables in the prompt template\n",
        "        content = prompt.format(sentences=row[\"inputs\"], num_sentences=1)\n",
        "        completion = client.chat.completions.create(\n",
        "            model=\"gpt4o\",\n",
        "            messages=[{\"role\": \"user\", \"content\": content}],\n",
        "            temperature=0.1,\n",
        "        )\n",
        "        predictions.append(completion.choices[0].message.content)\n",
        "\n",
        "    return predictions"
      ]
    },
    {
      "cell_type": "markdown",
      "id": "c272a26d",
      "metadata": {
        "id": "c272a26d"
      },
      "source": [
        "### 4. Run Evaluation"
      ]
    },
    {
      "cell_type": "code",
      "execution_count": 5,
      "id": "2515fd55",
      "metadata": {},
      "outputs": [
        {
          "data": {
            "text/plain": [
              "<Experiment: artifact_location='mlflow-artifacts:/948223517203568369', creation_time=1757166166551, experiment_id='948223517203568369', last_update_time=1757166166551, lifecycle_stage='active', name='azure-prompt-evaluation', tags={}>"
            ]
          },
          "execution_count": 5,
          "metadata": {},
          "output_type": "execute_result"
        }
      ],
      "source": [
        "mlflow.set_experiment('azure-prompt-evaluation')"
      ]
    },
    {
      "cell_type": "code",
      "execution_count": 6,
      "id": "08231ba3",
      "metadata": {},
      "outputs": [
        {
          "data": {
            "text/plain": [
              "True"
            ]
          },
          "execution_count": 6,
          "metadata": {},
          "output_type": "execute_result"
        }
      ],
      "source": [
        "from dotenv import load_dotenv\n",
        "load_dotenv()"
      ]
    },
    {
      "cell_type": "code",
      "execution_count": 12,
      "id": "901e013f",
      "metadata": {
        "id": "901e013f"
      },
      "outputs": [
        {
          "name": "stderr",
          "output_type": "stream",
          "text": [
            "2025/09/07 09:48:47 INFO mlflow.models.evaluation.evaluators.default: Computing model predictions.\n",
            "2025/09/07 09:49:19 INFO mlflow.models.evaluation.default_evaluator: Testing metrics on first row...\n"
          ]
        },
        {
          "data": {
            "application/vnd.jupyter.widget-view+json": {
              "model_id": "59f474fc854f41c7bd2415e77b40dda2",
              "version_major": 2,
              "version_minor": 0
            },
            "text/plain": [
              "  0%|          | 0/1 [00:00<?, ?it/s]"
            ]
          },
          "metadata": {},
          "output_type": "display_data"
        },
        {
          "data": {
            "application/vnd.jupyter.widget-view+json": {
              "model_id": "d5ec97416afc4130a0ffa2d9982e4549",
              "version_major": 2,
              "version_minor": 0
            },
            "text/plain": [
              "  0%|          | 0/1 [00:00<?, ?it/s]"
            ]
          },
          "metadata": {},
          "output_type": "display_data"
        },
        {
          "data": {
            "application/vnd.jupyter.widget-view+json": {
              "model_id": "99e654b0c99b4f11a84cdc7f92bb505a",
              "version_major": 2,
              "version_minor": 0
            },
            "text/plain": [
              "  0%|          | 0/5 [00:00<?, ?it/s]"
            ]
          },
          "metadata": {},
          "output_type": "display_data"
        },
        {
          "data": {
            "application/vnd.jupyter.widget-view+json": {
              "model_id": "a0ac8f101e52408a8f0ac7db9f093ef6",
              "version_major": 2,
              "version_minor": 0
            },
            "text/plain": [
              "  0%|          | 0/5 [00:00<?, ?it/s]"
            ]
          },
          "metadata": {},
          "output_type": "display_data"
        },
        {
          "name": "stdout",
          "output_type": "stream",
          "text": [
            "🏃 View run anshu-prompt-evaluation at: http://20.75.92.162:5000/#/experiments/948223517203568369/runs/f33c5783742d44bd93a5c1c14b2ad66b\n",
            "🧪 View experiment at: http://20.75.92.162:5000/#/experiments/948223517203568369\n"
          ]
        },
        {
          "data": {
            "text/html": [
              "\n",
              "<div>\n",
              "  <style scoped>\n",
              "  button {\n",
              "    border: none;\n",
              "    border-radius: 4px;\n",
              "    background-color: rgb(34, 114, 180);\n",
              "    font-family: -apple-system, \"system-ui\", \"Segoe UI\", Roboto, \"Helvetica Neue\", Arial;\n",
              "    font-size: 13px;\n",
              "    color: white;\n",
              "    margin-top: 8px;\n",
              "    margin-bottom: 8px;\n",
              "    padding: 8px 16px;\n",
              "    cursor: pointer;\n",
              "  }\n",
              "  button:hover {\n",
              "    background-color: rgb(66, 153, 224);\n",
              "  }\n",
              "  </style>\n",
              "  <button\n",
              "    onclick=\"\n",
              "        const display = this.nextElementSibling.style.display;\n",
              "        const isCollapsed = display === 'none';\n",
              "        this.nextElementSibling.style.display = isCollapsed ? null : 'none';\n",
              "\n",
              "        const verb = isCollapsed ? 'Collapse' : 'Expand';\n",
              "        this.innerText = `${verb} MLflow Trace`;\n",
              "    \"\n",
              "  >Collapse MLflow Trace</button>\n",
              "  <iframe\n",
              "    id=\"trace-renderer\"\n",
              "    style=\"width: 100%; height: 500px; border: none; resize: vertical;\"\n",
              "    src=\"http://20.75.92.162:5000/static-files/lib/notebook-trace-renderer/index.html?trace_id=ef5462988a44466899e7a7d8cc6c5efc&amp;experiment_id=948223517203568369&amp;trace_id=1aa7bfb2cab64f66a0847431494639e5&amp;experiment_id=948223517203568369&amp;trace_id=a58887015f5d40e08b2b2e50c76bdf94&amp;experiment_id=948223517203568369&amp;trace_id=0fa485eb19ac43f78a15c9532ce391b4&amp;experiment_id=948223517203568369&amp;trace_id=c30b13989be649bfb3357ec1a6066ffb&amp;experiment_id=948223517203568369&amp;version=3.1.1\"\n",
              "  />\n",
              "</div>\n"
            ],
            "text/plain": [
              "[Trace(trace_id=ef5462988a44466899e7a7d8cc6c5efc), Trace(trace_id=1aa7bfb2cab64f66a0847431494639e5), Trace(trace_id=a58887015f5d40e08b2b2e50c76bdf94), Trace(trace_id=0fa485eb19ac43f78a15c9532ce391b4), Trace(trace_id=c30b13989be649bfb3357ec1a6066ffb)]"
            ]
          },
          "metadata": {},
          "output_type": "display_data"
        }
      ],
      "source": [
        "\n",
        "with mlflow.start_run(run_name=\"anshu-prompt-evaluation\"):\n",
        "    mlflow.log_param(\"model\", \"gpt-4o-mini\")\n",
        "    mlflow.log_param(\"temperature\", 0.1)\n",
        "\n",
        "    results = mlflow.evaluate(\n",
        "        model=predict,\n",
        "        data=eval_data,\n",
        "        targets=\"targets\",\n",
        "        extra_metrics=[\n",
        "            mlflow.metrics.latency(),\n",
        "            mlflow.metrics.genai.answer_relevance(model=\"openai:/gpt-4o-mini\"),\n",
        "            mlflow.metrics.genai.answer_similarity(model=\"openai:/gpt-4o-mini\"),\n",
        "            mlflow.metrics.ari_grade_level(),\n",
        "            mlflow.metrics.flesch_kincaid_grade_level()\n",
        "        ],\n",
        "\n",
        "    )"
      ]
    },
    {
      "cell_type": "markdown",
      "id": "1391af1b",
      "metadata": {
        "id": "1391af1b"
      },
      "source": [
        "### 5. View Results\n",
        "<img src=\"https://mlflow.org/docs/latest/assets/images/prompt-evaluation-result-7c106f17187fdc750439725d086c389b.png\" alt=\"MLflow LLM Evaluation UI\" width=\"800\">"
      ]
    },
    {
      "cell_type": "markdown",
      "id": "7d3a0cb5",
      "metadata": {
        "id": "7d3a0cb5"
      },
      "source": [
        "<img src = \"https://mlflow.org/docs/latest/assets/images/prompt-evaluation-chart-8a93612e37184b8279c699fd6640013d.png\" >"
      ]
    },
    {
      "cell_type": "markdown",
      "id": "2tRzRedvhpZd",
      "metadata": {
        "id": "2tRzRedvhpZd"
      },
      "source": [
        "## Prompt Optimization"
      ]
    },
    {
      "cell_type": "code",
      "execution_count": 13,
      "id": "0twXe4Gthxbs",
      "metadata": {
        "id": "0twXe4Gthxbs"
      },
      "outputs": [],
      "source": [
        "import os\n",
        "from typing import Any\n",
        "import mlflow\n",
        "from mlflow.genai.scorers import scorer\n",
        "from mlflow.genai.optimize import OptimizerConfig, LLMParams"
      ]
    },
    {
      "cell_type": "code",
      "execution_count": 14,
      "id": "tiJ1LvQ4h6X2",
      "metadata": {
        "id": "tiJ1LvQ4h6X2"
      },
      "outputs": [
        {
          "name": "stderr",
          "output_type": "stream",
          "text": [
            "2025/09/07 09:50:00 INFO mlflow.store.model_registry.abstract_store: Waiting up to 300 seconds for prompt version to finish creation. Prompt name: anshu-math2, version 2\n"
          ]
        }
      ],
      "source": [
        "# Register the initial prompt\n",
        "initial_template = \"\"\"\n",
        "Answer to this math question: {{question}}.\n",
        "Return the result in a JSON string in the format of {\"answer\": \"xxx\"}.\n",
        "\"\"\"\n",
        "\n",
        "prompt = mlflow.genai.register_prompt(\n",
        "    name=\"anshu-math2\",\n",
        "    template=initial_template,\n",
        ")\n"
      ]
    },
    {
      "cell_type": "code",
      "execution_count": 15,
      "id": "AlkSc7Oth0oU",
      "metadata": {
        "id": "AlkSc7Oth0oU"
      },
      "outputs": [],
      "source": [
        "\n",
        "# The data can be a list of dictionaries, a pandas DataFrame, or an mlflow.genai.EvaluationDataset\n",
        "# It needs to contain inputs and expectations where each row is a dictionary.\n",
        "train_data = [\n",
        "    {\n",
        "        \"inputs\": {\"question\": \"Given that $y=3$, evaluate $(1+y)^y$.\"},\n",
        "        \"expectations\": {\"answer\": \"64\"},\n",
        "    },\n",
        "    {\n",
        "        \"inputs\": {\n",
        "            \"question\": \"The midpoint of the line segment between $(x,y)$ and $(-9,1)$ is $(3,-5)$. Find $(x,y)$.\"\n",
        "        },\n",
        "        \"expectations\": {\"answer\": \"(15,-11)\"},\n",
        "    },\n",
        "    {\n",
        "        \"inputs\": {\n",
        "            \"question\": \"What is the value of $b$ if $5^b + 5^b + 5^b + 5^b + 5^b = 625^{(b-1)}$? Express your answer as a common fraction.\"\n",
        "        },\n",
        "        \"expectations\": {\"answer\": \"\\\\frac{5}{3}\"},\n",
        "    },\n",
        "    {\n",
        "        \"inputs\": {\"question\": \"Evaluate the expression $a^3\\\\cdot a^2$ if $a= 5$.\"},\n",
        "        \"expectations\": {\"answer\": \"3125\"},\n",
        "    },\n",
        "    {\n",
        "        \"inputs\": {\"question\": \"Evaluate $\\\\lceil 8.8 \\\\rceil+\\\\lceil -8.8 \\\\rceil$.\"},\n",
        "        \"expectations\": {\"answer\": \"17\"},\n",
        "    },\n",
        "]\n",
        "\n",
        "eval_data = [\n",
        "    {\n",
        "        \"inputs\": {\n",
        "            \"question\": \"The sum of 27 consecutive positive integers is $3^7$. What is their median?\"\n",
        "        },\n",
        "        \"expectations\": {\"answer\": \"81\"},\n",
        "    },\n",
        "    {\n",
        "        \"inputs\": {\"question\": \"What is the value of $x$ if $x^2 - 10x + 25 = 0$?\"},\n",
        "        \"expectations\": {\"answer\": \"5\"},\n",
        "    },\n",
        "    {\n",
        "        \"inputs\": {\n",
        "            \"question\": \"If $a\\\\ast b = 2a+5b-ab$, what is the value of $3\\\\ast10$?\"\n",
        "        },\n",
        "        \"expectations\": {\"answer\": \"26\"},\n",
        "    },\n",
        "    {\n",
        "        \"inputs\": {\n",
        "            \"question\": \"Given that $-4$ is a solution to $x^2 + bx -36 = 0$, what is the value of $b$?\"\n",
        "        },\n",
        "        \"expectations\": {\"answer\": \"-5\"},\n",
        "    },\n",
        "]\n"
      ]
    },
    {
      "cell_type": "code",
      "execution_count": 16,
      "id": "-DJ_KRZjh_6W",
      "metadata": {
        "id": "-DJ_KRZjh_6W"
      },
      "outputs": [],
      "source": [
        "\n",
        "# Define a custom scorer function to evaluate prompt performance with the @scorer decorator.\n",
        "# The scorer function for optimization can take inputs, outputs, and expectations.\n",
        "@scorer\n",
        "def exact_match(expectations: dict[str, Any], outputs: dict[str, Any]) -> bool:\n",
        "    return expectations[\"answer\"] == outputs[\"answer\"]\n",
        "\n"
      ]
    },
    {
      "cell_type": "code",
      "execution_count": 17,
      "id": "SWCkHV-DhAZX",
      "metadata": {
        "id": "SWCkHV-DhAZX"
      },
      "outputs": [
        {
          "name": "stderr",
          "output_type": "stream",
          "text": [
            "2025/09/07 09:50:10 INFO mlflow.genai.optimize.optimizers.dspy_mipro_optimizer: Started optimizing prompt prompts:/anshu-math2/2. Please wait as this process typically takes several minutes, but can take longer with large datasets...\n",
            "2025/09/07 09:50:28 INFO mlflow.genai.optimize.optimizers.dspy_mipro_optimizer: Prompt optimization completed. Evaluation score changed from 0.0 to 25.0.\n",
            "C:\\Users\\Anshu Pandey\\AppData\\Roaming\\Python\\Python310\\site-packages\\mlflow\\genai\\optimize\\optimizers\\dspy_mipro_optimizer.py:116: FutureWarning: The `mlflow.register_prompt` API is moved to the `mlflow.genai` namespace. Please use `mlflow.genai.register_prompt` instead. The original API will be removed in the future release.\n",
            "  optimized_prompt = register_prompt(\n",
            "2025/09/07 09:50:30 INFO mlflow.store.model_registry.abstract_store: Waiting up to 300 seconds for prompt version to finish creation. Prompt name: anshu-math2, version 3\n"
          ]
        },
        {
          "name": "stdout",
          "output_type": "stream",
          "text": [
            "prompts:/anshu-math2/3\n"
          ]
        }
      ],
      "source": [
        "# Optimize the prompt\n",
        "result = mlflow.genai.optimize_prompt(\n",
        "    target_llm_params=LLMParams(model_name=\"azure/gpt4o\"),\n",
        "    prompt=prompt,\n",
        "    train_data=train_data,\n",
        "    eval_data=eval_data,\n",
        "    scorers=[exact_match],\n",
        "    optimizer_config=OptimizerConfig(\n",
        "        num_instruction_candidates=8,\n",
        "        max_few_show_examples=2,\n",
        "    ),\n",
        ")\n",
        "\n",
        "# The optimized prompt is automatically registered as a new version\n",
        "print(result.prompt.uri)"
      ]
    },
    {
      "cell_type": "code",
      "execution_count": null,
      "id": "wekHPbjOiPvI",
      "metadata": {
        "id": "wekHPbjOiPvI"
      },
      "outputs": [],
      "source": []
    },
    {
      "cell_type": "markdown",
      "id": "7204bd83",
      "metadata": {},
      "source": [
        "## Thank YOu"
      ]
    }
  ],
  "metadata": {
    "colab": {
      "include_colab_link": true,
      "provenance": []
    },
    "kernelspec": {
      "display_name": "base",
      "language": "python",
      "name": "python3"
    },
    "language_info": {
      "codemirror_mode": {
        "name": "ipython",
        "version": 3
      },
      "file_extension": ".py",
      "mimetype": "text/x-python",
      "name": "python",
      "nbconvert_exporter": "python",
      "pygments_lexer": "ipython3",
      "version": "3.10.9"
    }
  },
  "nbformat": 4,
  "nbformat_minor": 5
}
