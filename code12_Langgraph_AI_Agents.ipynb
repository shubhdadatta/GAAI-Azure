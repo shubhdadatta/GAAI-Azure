{
 "cells": [
  {
   "cell_type": "markdown",
   "id": "d93896a9",
   "metadata": {},
   "source": [
    "# Getting Started with LangGraph\n",
    "## LangGraph: A Framework for Stateful, Graph-Based AI Workflows\n",
    "\n",
    "\n",
    "This Jupyter Notebook is designed to help you understand key concepts in LangGraph, a powerful framework for building stateful, graph-based AI workflows using Large Language Models (LLMs). It is assumed you are familiar with LangChain, but LangGraph is new to you. The notebook is divided into three parts: Beginner, Intermediate, and Advanced, guiding you step-by-step from basic concepts to complex multi-agent systems."
   ]
  },
  {
   "cell_type": "markdown",
   "id": "72b7e36a",
   "metadata": {},
   "source": [
    "## What is LangGraph?\n",
    "LangGraph is a library built on top of LangChain that allows you to create stateful, graph-based workflows for AI applications. Unlike traditional linear chains in LangChain, LangGraph models interactions as a graph, where nodes represent actions (e.g., calling an LLM, using a tool) and edges define how to move between them. This is particularly useful for applications requiring state management, cycles, or complex decision-making.\n",
    "\n",
    "Key Components:\n",
    "- Nodes: Individual steps or actions (e.g., call an LLM, execute a tool).\n",
    "- Edges: Connections between nodes, defining the flow (can be conditional).\n",
    "- State: A shared data structure that persists across nodes, tracking information like user input, LLM outputs, or tool results.\n",
    "- Graph: The overall structure combining nodes and edges.\n",
    "\n",
    "Why LangGraph?:\n",
    "- Enables stateful workflows where previous steps influence future ones.\n",
    "- Supports cycles for iterative processes (e.g., retrying a tool if the answer is incorrect).\n",
    "- Ideal for agentic systems where an AI decides which tools to use dynamically.\n",
    "\n",
    "## When to Use LangGraph?\n",
    "Use LangGraph when your application needs:\n",
    "- Complex workflows: When a simple linear chain (e.g., LangChain’s Chain) isn’t enough.\n",
    "- State persistence: To maintain context across multiple steps (e.g., user query history).\n",
    "- Decision-making agents: For scenarios where an AI must choose tools or actions dynamically.\n",
    "- Iterative processes: When you need loops, retries, or conditional branching (e.g., verify and retry if a tool’s output is wrong).\n",
    "\n",
    "Examples:\n",
    "- Building a chatbot that uses tools (e.g., search, calculator) based on user queries.\n",
    "- Creating multi-agent systems where agents collaborate to solve a task.\n",
    "- Managing workflows with conditional logic, like routing queries to different LLMs or tools."
   ]
  },
  {
   "cell_type": "markdown",
   "id": "cb1ebc72",
   "metadata": {},
   "source": [
    "## Example 1: Implementing an AI Agent with Langgraph & Langchain"
   ]
  },
  {
   "cell_type": "code",
   "execution_count": 1,
   "id": "9b43cf81",
   "metadata": {},
   "outputs": [],
   "source": [
    "!python -m pip install pyowm wikipedia --quiet"
   ]
  },
  {
   "cell_type": "code",
   "execution_count": 1,
   "id": "c6d7bd2d",
   "metadata": {},
   "outputs": [],
   "source": [
    "# initializing the llm\n",
    "from langchain_openai import AzureChatOpenAI\n",
    "model = AzureChatOpenAI(model=\"gpt4o\")\n",
    "\n",
    "\n",
    "# load a tool\n",
    "from langchain.utilities import WikipediaAPIWrapper\n",
    "from langchain.tools import OpenWeatherMapQueryRun,WikipediaQueryRun\n",
    "\n",
    "wiki = WikipediaQueryRun(api_wrapper=WikipediaAPIWrapper())\n",
    "#owm = OpenWeatherMapQueryRun() # make sure to have env variable for OPENWEATHERMAP_API_KEY\n",
    "\n",
    "tools = [wiki]\n",
    "\n",
    "# initialize agent\n",
    "from langgraph.prebuilt import create_react_agent\n",
    "agent = create_react_agent(model,tools)"
   ]
  },
  {
   "cell_type": "code",
   "execution_count": 2,
   "id": "56c2331e",
   "metadata": {},
   "outputs": [
    {
     "data": {
      "text/plain": [
       "[HumanMessage(content='hi', additional_kwargs={}, response_metadata={}, id='a5cb43d8-eddd-405f-9d04-cc084883880f'),\n",
       " AIMessage(content='Hello! How can I assist you today?', additional_kwargs={'refusal': None}, response_metadata={'token_usage': {'completion_tokens': 11, 'prompt_tokens': 82, 'total_tokens': 93, 'completion_tokens_details': {'accepted_prediction_tokens': 0, 'audio_tokens': 0, 'reasoning_tokens': 0, 'rejected_prediction_tokens': 0}, 'prompt_tokens_details': {'audio_tokens': 0, 'cached_tokens': 0}}, 'model_name': 'gpt-4o-mini-2024-07-18', 'system_fingerprint': 'fp_efad92c60b', 'id': 'chatcmpl-CIp9nJdUhm991cfbu3x3h3xv18vWU', 'service_tier': None, 'prompt_filter_results': [{'prompt_index': 0, 'content_filter_results': {'hate': {'filtered': False, 'severity': 'safe'}, 'jailbreak': {'filtered': False, 'detected': False}, 'self_harm': {'filtered': False, 'severity': 'safe'}, 'sexual': {'filtered': False, 'severity': 'safe'}, 'violence': {'filtered': False, 'severity': 'safe'}}}], 'finish_reason': 'stop', 'logprobs': None, 'content_filter_results': {'hate': {'filtered': False, 'severity': 'safe'}, 'protected_material_code': {'filtered': False, 'detected': False}, 'protected_material_text': {'filtered': False, 'detected': False}, 'self_harm': {'filtered': False, 'severity': 'safe'}, 'sexual': {'filtered': False, 'severity': 'safe'}, 'violence': {'filtered': False, 'severity': 'safe'}}}, id='run--a746c580-3af5-4c0b-a195-7d0da89d96db-0', usage_metadata={'input_tokens': 82, 'output_tokens': 11, 'total_tokens': 93, 'input_token_details': {'audio': 0, 'cache_read': 0}, 'output_token_details': {'audio': 0, 'reasoning': 0}})]"
      ]
     },
     "execution_count": 2,
     "metadata": {},
     "output_type": "execute_result"
    }
   ],
   "source": [
    "from langchain_core.messages import HumanMessage\n",
    "response = agent.invoke({\"messages\":HumanMessage(content=\"hi\")})\n",
    "response['messages']"
   ]
  },
  {
   "cell_type": "code",
   "execution_count": 3,
   "id": "08770f33",
   "metadata": {},
   "outputs": [
    {
     "data": {
      "text/plain": [
       "[HumanMessage(content='Where is the city Kualalumpur located?', additional_kwargs={}, response_metadata={}, id='807a3b2d-40af-4b59-ae17-ce1266c34cc4'),\n",
       " AIMessage(content='', additional_kwargs={'tool_calls': [{'id': 'call_eWTqEAsXFaJhBt7hiGbHzo3u', 'function': {'arguments': '{\"query\":\"Kuala Lumpur\"}', 'name': 'wikipedia'}, 'type': 'function'}], 'refusal': None}, response_metadata={'token_usage': {'completion_tokens': 16, 'prompt_tokens': 92, 'total_tokens': 108, 'completion_tokens_details': {'accepted_prediction_tokens': 0, 'audio_tokens': 0, 'reasoning_tokens': 0, 'rejected_prediction_tokens': 0}, 'prompt_tokens_details': {'audio_tokens': 0, 'cached_tokens': 0}}, 'model_name': 'gpt-4o-mini-2024-07-18', 'system_fingerprint': 'fp_efad92c60b', 'id': 'chatcmpl-CIp9owZnD6EozGpe25DCn1Sr5UV1l', 'service_tier': None, 'prompt_filter_results': [{'prompt_index': 0, 'content_filter_results': {'hate': {'filtered': False, 'severity': 'safe'}, 'jailbreak': {'filtered': False, 'detected': False}, 'self_harm': {'filtered': False, 'severity': 'safe'}, 'sexual': {'filtered': False, 'severity': 'safe'}, 'violence': {'filtered': False, 'severity': 'safe'}}}], 'finish_reason': 'tool_calls', 'logprobs': None, 'content_filter_results': {}}, id='run--8b91e63e-32c1-4291-be23-c61590b62482-0', tool_calls=[{'name': 'wikipedia', 'args': {'query': 'Kuala Lumpur'}, 'id': 'call_eWTqEAsXFaJhBt7hiGbHzo3u', 'type': 'tool_call'}], usage_metadata={'input_tokens': 92, 'output_tokens': 16, 'total_tokens': 108, 'input_token_details': {'audio': 0, 'cache_read': 0}, 'output_token_details': {'audio': 0, 'reasoning': 0}}),\n",
       " ToolMessage(content=\"Page: Kuala Lumpur\\nSummary: Kuala Lumpur (KL), officially the Federal Territory of Kuala Lumpur, is the capital city and a federal territory of Malaysia. It is the most populous city in the country, covering an area of 243 km2 (94 sq mi) with a census population of 2,075,600 as of 2024. Greater Kuala Lumpur, also known as the Klang Valley, is an urban agglomeration of 8.8 million people as of 2024. It is among the fastest growing metropolitan regions in Southeast Asia, both in population and economic development.\\nThe city serves as the cultural, financial, tourism, political and economic centre of Malaysia. It is also home to the Malaysian parliament (consisting of the Dewan Rakyat and the Dewan Negara) and the Istana Negara, the official residence of the monarch (Yang di-Pertuan Agong). Kuala Lumpur was first developed around 1857 as a town serving the tin mines of the region, and important figures such as Yap Ah Loy and Frank Swettenham were instrumental in the early development of the city during the late 19th century. It served as the capital of Selangor from 1880 until 1978. Kuala Lumpur was the founding capital of the Federation of Malaya and its successor, Malaysia. The city remained the seat of the executive and judicial branches of the Malaysian federal government until these were relocated to Putrajaya in early 1999. However, some sections of the political bodies still remain in Kuala Lumpur. The city is one of the three Federal Territories of Malaysia, enclaved within the state of Selangor, on the central west coast of Peninsular Malaysia.\\nSince the 1990s, the city has played host to many international sporting, political and cultural events, including the 1998 Commonwealth Games, 2001 Southeast Asian Games, 2017 Southeast Asian Games, Formula One, Moto GP and 1997 FIFA World Youth Championships. Kuala Lumpur has undergone rapid development in recent decades and is home to the tallest twin buildings in the world, the Petronas Towers, which have since become an iconic symbol of Malaysian development. Kuala Lumpur is well connected with neighbouring urban metro regions such as Petaling Jaya via the rapidly expanding Klang Valley Integrated Transit System. Residents of the city can also travel to other parts of Peninsular Malaysia as well as to Kuala Lumpur International Airport (KLIA) via rail through Kuala Lumpur Sentral station.\\nKuala Lumpur was ranked the 6th most-visited city in the world on the Mastercard Destination Cities Index in 2019. The city houses three of the world's ten largest shopping malls. Kuala Lumpur ranks 70th in the world and the second in Southeast Asia after Singapore for the Economist Intelligence Unit's Global Liveability Ranking and ninth in ASPAC and second in Southeast Asia after Singapore for KPMG's Leading Technology Innovation Hub 2021. Kuala Lumpur was named World Book Capital 2020 by UNESCO. In 2025, Kuala Lumpur was ranked second for the best outstanding city in Southeast Asia, after Singapore, and 79th in the world by the Oxford Economic Papers' Global Cities Index.\\n\\nPage: Kuala Lumpur International Airport\\nSummary: Kuala Lumpur International Airport (IATA: KUL, ICAO: WMKK) is the main international airport serving Kuala Lumpur, the capital of Malaysia. It is located in the Sepang District of Selangor, approximately 45 km (28 mi) south of downtown Kuala Lumpur and serves the city's greater conurbation.\\nKuala Lumpur International Airport is the largest and busiest airport in Malaysia and is recognised as a mega hub. In 2024, it handled 57.08 million passengers, 794,943 tonnes of cargo and 819,026 aircraft movements, ranking as the 26th-busiest airport by total passenger traffic.\\nIn 2024, KLIA is the ranked first by OAG (by ratio of connection flight frequency to destinations served) in the Global Low-Cost Megahubs index by with 11,188 possible low-cost connections across over 137 destinations.\\nOAG also ranked KLIA is the world's second most connected airport (by ratio of connection f\", name='wikipedia', id='eaa45260-aeb1-4b8f-8d7f-7b7dbb2e1aab', tool_call_id='call_eWTqEAsXFaJhBt7hiGbHzo3u'),\n",
       " AIMessage(content='Kuala Lumpur, officially known as the Federal Territory of Kuala Lumpur, is the capital city of Malaysia. It is located on the central west coast of Peninsular Malaysia and is surrounded by the state of Selangor. The city is a major cultural, financial, tourism, political, and economic hub of the country.', additional_kwargs={'refusal': None}, response_metadata={'token_usage': {'completion_tokens': 67, 'prompt_tokens': 970, 'total_tokens': 1037, 'completion_tokens_details': {'accepted_prediction_tokens': 0, 'audio_tokens': 0, 'reasoning_tokens': 0, 'rejected_prediction_tokens': 0}, 'prompt_tokens_details': {'audio_tokens': 0, 'cached_tokens': 0}}, 'model_name': 'gpt-4o-mini-2024-07-18', 'system_fingerprint': 'fp_efad92c60b', 'id': 'chatcmpl-CIp9tCp7NNQ8QEU9A1uijvHRqmvs7', 'service_tier': None, 'prompt_filter_results': [{'prompt_index': 0, 'content_filter_results': {'hate': {'filtered': False, 'severity': 'safe'}, 'jailbreak': {'filtered': False, 'detected': False}, 'self_harm': {'filtered': False, 'severity': 'safe'}, 'sexual': {'filtered': False, 'severity': 'safe'}, 'violence': {'filtered': False, 'severity': 'safe'}}}], 'finish_reason': 'stop', 'logprobs': None, 'content_filter_results': {'hate': {'filtered': False, 'severity': 'safe'}, 'self_harm': {'filtered': False, 'severity': 'safe'}, 'sexual': {'filtered': False, 'severity': 'safe'}, 'violence': {'filtered': False, 'severity': 'safe'}}}, id='run--f0213009-0c08-4869-9030-02bd501648ea-0', usage_metadata={'input_tokens': 970, 'output_tokens': 67, 'total_tokens': 1037, 'input_token_details': {'audio': 0, 'cache_read': 0}, 'output_token_details': {'audio': 0, 'reasoning': 0}})]"
      ]
     },
     "execution_count": 3,
     "metadata": {},
     "output_type": "execute_result"
    }
   ],
   "source": [
    "response = agent.invoke({\"messages\":HumanMessage(content=\"Where is the city Kualalumpur located?\")})\n",
    "response['messages']"
   ]
  },
  {
   "cell_type": "code",
   "execution_count": 4,
   "id": "51419ed3",
   "metadata": {},
   "outputs": [
    {
     "name": "stdout",
     "output_type": "stream",
     "text": [
      "================================\u001b[1m Human Message \u001b[0m=================================\n",
      "\n",
      "Where is the city Kualalumpur located?\n",
      "==================================\u001b[1m Ai Message \u001b[0m==================================\n",
      "Tool Calls:\n",
      "  wikipedia (call_6zJTXmauEMMMM42KUjFm814V)\n",
      " Call ID: call_6zJTXmauEMMMM42KUjFm814V\n",
      "  Args:\n",
      "    query: Kuala Lumpur\n",
      "=================================\u001b[1m Tool Message \u001b[0m=================================\n",
      "Name: wikipedia\n",
      "\n",
      "Page: Kuala Lumpur\n",
      "Summary: Kuala Lumpur (KL), officially the Federal Territory of Kuala Lumpur, is the capital city and a federal territory of Malaysia. It is the most populous city in the country, covering an area of 243 km2 (94 sq mi) with a census population of 2,075,600 as of 2024. Greater Kuala Lumpur, also known as the Klang Valley, is an urban agglomeration of 8.8 million people as of 2024. It is among the fastest growing metropolitan regions in Southeast Asia, both in population and economic development.\n",
      "The city serves as the cultural, financial, tourism, political and economic centre of Malaysia. It is also home to the Malaysian parliament (consisting of the Dewan Rakyat and the Dewan Negara) and the Istana Negara, the official residence of the monarch (Yang di-Pertuan Agong). Kuala Lumpur was first developed around 1857 as a town serving the tin mines of the region, and important figures such as Yap Ah Loy and Frank Swettenham were instrumental in the early development of the city during the late 19th century. It served as the capital of Selangor from 1880 until 1978. Kuala Lumpur was the founding capital of the Federation of Malaya and its successor, Malaysia. The city remained the seat of the executive and judicial branches of the Malaysian federal government until these were relocated to Putrajaya in early 1999. However, some sections of the political bodies still remain in Kuala Lumpur. The city is one of the three Federal Territories of Malaysia, enclaved within the state of Selangor, on the central west coast of Peninsular Malaysia.\n",
      "Since the 1990s, the city has played host to many international sporting, political and cultural events, including the 1998 Commonwealth Games, 2001 Southeast Asian Games, 2017 Southeast Asian Games, Formula One, Moto GP and 1997 FIFA World Youth Championships. Kuala Lumpur has undergone rapid development in recent decades and is home to the tallest twin buildings in the world, the Petronas Towers, which have since become an iconic symbol of Malaysian development. Kuala Lumpur is well connected with neighbouring urban metro regions such as Petaling Jaya via the rapidly expanding Klang Valley Integrated Transit System. Residents of the city can also travel to other parts of Peninsular Malaysia as well as to Kuala Lumpur International Airport (KLIA) via rail through Kuala Lumpur Sentral station.\n",
      "Kuala Lumpur was ranked the 6th most-visited city in the world on the Mastercard Destination Cities Index in 2019. The city houses three of the world's ten largest shopping malls. Kuala Lumpur ranks 70th in the world and the second in Southeast Asia after Singapore for the Economist Intelligence Unit's Global Liveability Ranking and ninth in ASPAC and second in Southeast Asia after Singapore for KPMG's Leading Technology Innovation Hub 2021. Kuala Lumpur was named World Book Capital 2020 by UNESCO. In 2025, Kuala Lumpur was ranked second for the best outstanding city in Southeast Asia, after Singapore, and 79th in the world by the Oxford Economic Papers' Global Cities Index.\n",
      "\n",
      "Page: Kuala Lumpur International Airport\n",
      "Summary: Kuala Lumpur International Airport (IATA: KUL, ICAO: WMKK) is the main international airport serving Kuala Lumpur, the capital of Malaysia. It is located in the Sepang District of Selangor, approximately 45 km (28 mi) south of downtown Kuala Lumpur and serves the city's greater conurbation.\n",
      "Kuala Lumpur International Airport is the largest and busiest airport in Malaysia and is recognised as a mega hub. In 2024, it handled 57.08 million passengers, 794,943 tonnes of cargo and 819,026 aircraft movements, ranking as the 26th-busiest airport by total passenger traffic.\n",
      "In 2024, KLIA is the ranked first by OAG (by ratio of connection flight frequency to destinations served) in the Global Low-Cost Megahubs index by with 11,188 possible low-cost connections across over 137 destinations.\n",
      "OAG also ranked KLIA is the world's second most connected airport (by ratio of connection f\n",
      "==================================\u001b[1m Ai Message \u001b[0m==================================\n",
      "\n",
      "Kuala Lumpur is the capital city and a federal territory of Malaysia, located on the central west coast of Peninsular Malaysia. It is the most populous city in the country and serves as a cultural, financial, political, and economic center. Additionally, it is part of the larger Klang Valley urban agglomeration, which has a significant population and is one of the fastest-growing metropolitan regions in Southeast Asia.\n"
     ]
    }
   ],
   "source": [
    "for step in agent.stream({\"messages\":[HumanMessage(content=\"Where is the city Kualalumpur located?\")]},\n",
    "                         stream_mode='values'):\n",
    "    step[\"messages\"][-1].pretty_print()"
   ]
  },
  {
   "cell_type": "code",
   "execution_count": 5,
   "id": "4d55584e",
   "metadata": {},
   "outputs": [
    {
     "name": "stdout",
     "output_type": "stream",
     "text": [
      "================================\u001b[1m Human Message \u001b[0m=================================\n",
      "\n",
      "Where is the city Manila located?\n"
     ]
    },
    {
     "name": "stderr",
     "output_type": "stream",
     "text": [
      "/home/zadmin/Desktop/GAAI-B4-Azure/genai/lib/python3.12/site-packages/pyowm/commons/cityidregistry.py:7: UserWarning: pkg_resources is deprecated as an API. See https://setuptools.pypa.io/en/latest/pkg_resources.html. The pkg_resources package is slated for removal as early as 2025-11-30. Refrain from using this package or pin to Setuptools<81.\n",
      "  from pkg_resources import resource_filename\n"
     ]
    },
    {
     "name": "stdout",
     "output_type": "stream",
     "text": [
      "==================================\u001b[1m Ai Message \u001b[0m==================================\n",
      "Tool Calls:\n",
      "  wikipedia (call_EnxHtfXJz7rdIjiIO3qUK3Dn)\n",
      " Call ID: call_EnxHtfXJz7rdIjiIO3qUK3Dn\n",
      "  Args:\n",
      "    query: Manila\n"
     ]
    },
    {
     "name": "stderr",
     "output_type": "stream",
     "text": [
      "/home/zadmin/Desktop/GAAI-B4-Azure/genai/lib/python3.12/site-packages/wikipedia/wikipedia.py:389: GuessedAtParserWarning: No parser was explicitly specified, so I'm using the best available HTML parser for this system (\"html.parser\"). This usually isn't a problem, but if you run this code on another system, or in a different virtual environment, it may use a different parser and behave differently.\n",
      "\n",
      "The code that caused this warning is on line 389 of the file /home/zadmin/Desktop/GAAI-B4-Azure/genai/lib/python3.12/site-packages/wikipedia/wikipedia.py. To get rid of this warning, pass the additional argument 'features=\"html.parser\"' to the BeautifulSoup constructor.\n",
      "\n",
      "  lis = BeautifulSoup(html).find_all('li')\n"
     ]
    },
    {
     "name": "stdout",
     "output_type": "stream",
     "text": [
      "=================================\u001b[1m Tool Message \u001b[0m=================================\n",
      "Name: wikipedia\n",
      "\n",
      "Page: Manila\n",
      "Summary: Manila, officially the City of Manila, is the capital and second-most populous city of the Philippines after Quezon City, with a population of 1,902,590 people in 2024. Located on the eastern shore of Manila Bay on the island of Luzon, it is classified as a highly urbanized city. With 43,611.5 inhabitants per square kilometer (112,953/sq mi), Manila is one of the world's most densely populated cities proper.\n",
      "Manila was the first chartered city in the country, designated by Philippine Commission Act No. 183 on July 31, 1901. It became autonomous with the passage of Republic Act No. 409, \"The Revised Charter of the City of Manila\", on June 18, 1949. Manila is considered to be part of the world's original set of global cities because its commercial networks were the first to extend across the Pacific Ocean and connect Asia with the Spanish Americas through the galleon trade. This marked the first time an uninterrupted chain of trade routes circling the planet had been established.\n",
      "By 1258, a Tagalog-fortified polity called Maynila existed on the site of modern Manila. On June 24, 1571, after the defeat of the polity's last indigenous ruler, Rajah Sulayman, in the Battle of Bangkusay, Spanish conquistador Miguel López de Legazpi began constructing the walled fortification of Intramuros on the ruins of an older settlement from whose name the Spanish and English name Manila derives. Manila was used as the capital of the captaincy general of the Spanish East Indies, which included the Marianas, Guam, and other islands, and was controlled and administered for the Spanish crown by Mexico City in the Viceroyalty of New Spain.\n",
      "In modern times, the name \"Manila\" is commonly used to refer to the entire metropolitan area, the greater metropolitan area, and the city proper. Metro Manila, the officially defined metropolitan area, is the capital region of the Philippines, and includes the much larger Quezon City and the Makati Central Business District.\n",
      "The Pasig River flows through the middle of Manila, dividing it into northern and southern sections. The city comprises 16 administrative districts and is divided into six political districts for the purposes of representation in the Congress of the Philippines and the election of city council members. In 2018, the Globalization and World Cities Research Network listed Manila as an \"Alpha-\" global city, and ranked it seventh in economic performance globally and second regionally, while the Global Financial Centres Index ranks Manila 79th in the world. Manila is also the world's second most natural disaster-exposed city, yet is also among the fastest-developing cities in Southeast Asia.\n",
      "\n",
      "Page: Metro Manila\n",
      "Summary: Metropolitan Manila (Filipino: Kalakhang Maynila [kalakˌhaŋ maɪˈnilaʔ]), commonly shortened to Metro Manila and formally the National Capital Region (NCR; Filipino: Pambansang Punong Rehiyon), is the capital region and largest metropolitan area of the Philippines. Located on the eastern shore of Manila Bay, the region lies between the Central Luzon and Calabarzon regions. Encompassing an area of 636.00 km2 (245.56 sq mi) and with a population of 13,484,462 as of 2020, it consists of sixteen highly urbanized cities: Manila—the capital city—Caloocan, Las Piñas, Makati, Malabon, Mandaluyong, Marikina, Muntinlupa, Navotas, Parañaque, Pasay, Pasig, Quezon City, San Juan, Taguig, and Valenzuela, along with one independent municipality, Pateros. As the second most populous and the most densely populated region in the Philippines, it ranks as the 9th most populous metropolitan area in Asia and the 6th most populous urban area in the world.\n",
      "The region is the center of culture (including arts and entertainment), economy, education and government of the Philippines. Designated as a global power city, the region exerts a significant impact on commerce, finance, media, art, fashion, research, technology, education, and entertainment, both locally and internationally. It is th\n",
      "==================================\u001b[1m Ai Message \u001b[0m==================================\n",
      "\n",
      "Manila is the capital city of the Philippines and is located on the eastern shore of Manila Bay on the island of Luzon. It is classified as a highly urbanized city and is the second-most populous city in the Philippines, following Quezon City. Manila is part of the larger Metropolitan Manila area, which is the capital region of the country.\n"
     ]
    }
   ],
   "source": [
    "from langgraph.checkpoint.memory import MemorySaver\n",
    "memory = MemorySaver()\n",
    "\n",
    "\n",
    "\n",
    "wiki = WikipediaQueryRun(api_wrapper=WikipediaAPIWrapper())\n",
    "owm = OpenWeatherMapQueryRun() # make sure to have env variable for OPENWEATHERMAP_API_KEY\n",
    "\n",
    "tools = [wiki,owm]\n",
    "\n",
    "\n",
    "agent = create_react_agent(model,tools,checkpointer=memory)\n",
    "\n",
    "config = {\"configurable\":{\"thread_id\":\"abc11q\"}}\n",
    "\n",
    "for step in agent.stream({\"messages\":[HumanMessage(content=\"Where is the city Manila located?\")]},\n",
    "                         stream_mode='values',config=config):\n",
    "    step[\"messages\"][-1].pretty_print()"
   ]
  },
  {
   "cell_type": "code",
   "execution_count": 6,
   "id": "7a4fd386",
   "metadata": {},
   "outputs": [
    {
     "name": "stdout",
     "output_type": "stream",
     "text": [
      "================================\u001b[1m Human Message \u001b[0m=================================\n",
      "\n",
      "I live there.\n",
      "==================================\u001b[1m Ai Message \u001b[0m==================================\n",
      "\n",
      "That's great! Living in Manila offers a unique blend of history, culture, and modern urban life. If you have any specific questions or topics related to Manila that you'd like to discuss, feel free to ask!\n"
     ]
    }
   ],
   "source": [
    "for step in agent.stream({\"messages\":[HumanMessage(content=\"I live there.\")]},\n",
    "                         stream_mode='values',config=config):\n",
    "    step[\"messages\"][-1].pretty_print()"
   ]
  },
  {
   "cell_type": "code",
   "execution_count": 7,
   "id": "0a635ab3",
   "metadata": {},
   "outputs": [
    {
     "name": "stdout",
     "output_type": "stream",
     "text": [
      "================================\u001b[1m Human Message \u001b[0m=================================\n",
      "\n",
      "Whats the weather there?.\n",
      "==================================\u001b[1m Ai Message \u001b[0m==================================\n",
      "Tool Calls:\n",
      "  open_weather_map (call_h6c5CcbkbvQHR3wG8KwHq8Ks)\n",
      " Call ID: call_h6c5CcbkbvQHR3wG8KwHq8Ks\n",
      "  Args:\n",
      "    location: Manila, Philippines\n",
      "=================================\u001b[1m Tool Message \u001b[0m=================================\n",
      "Name: open_weather_map\n",
      "\n",
      "Error: NotFoundError('Unable to find the resource')\n",
      " Please fix your mistakes.\n",
      "==================================\u001b[1m Ai Message \u001b[0m==================================\n",
      "Tool Calls:\n",
      "  open_weather_map (call_D2QjVE5NRyT1kks9vUwB2ExJ)\n",
      " Call ID: call_D2QjVE5NRyT1kks9vUwB2ExJ\n",
      "  Args:\n",
      "    location: Manila\n",
      "=================================\u001b[1m Tool Message \u001b[0m=================================\n",
      "Name: open_weather_map\n",
      "\n",
      "Error: NotFoundError('Unable to find the resource')\n",
      " Please fix your mistakes.\n",
      "==================================\u001b[1m Ai Message \u001b[0m==================================\n",
      "\n",
      "It seems that I'm unable to retrieve the current weather information for Manila at the moment. However, I can guide you on how to check the weather. You can use weather websites or apps like Weather.com, AccuWeather, or the weather section on Google to find the most up-to-date information on the weather in Manila. If you need something specific or any other kind of assistance, let me know!\n"
     ]
    }
   ],
   "source": [
    "# recursion limit = iteration X 2 + 1\n",
    "\n",
    "for step in agent.stream({\"messages\":[HumanMessage(content=\"Whats the weather there?.\")]},\n",
    "                         stream_mode='values',config=config,recusion_limit=5):\n",
    "    step[\"messages\"][-1].pretty_print()"
   ]
  },
  {
   "cell_type": "markdown",
   "id": "ac846516",
   "metadata": {},
   "source": [
    "## Example 2: Agent with Tool Decision and Verification\n",
    "\n",
    "Example: an agent that decides which tool to use based on the user’s query, uses the tool, verifies the result, and retries if incorrect. This introduces conditional edges and tool usage.\n",
    "\n",
    "## Scenario\n",
    "- The user asks a math question (e.g., \"What is 5 * 3?\").\n",
    "- An agent LLM decides to use a calculator tool.\n",
    "- The tool computes the result.\n",
    "\n",
    "A verifier LLM checks if the result is correct. If incorrect, it loops back to the tool.\n",
    "\n",
    "## Step-by-Step Explanation\n",
    "- Define the State: Include query, tool decision, tool output, and final answer.\n",
    "- Create Nodes:\n",
    "    - Agent Node: Decides which tool to use.\n",
    "    - Tool Node: Executes the tool (a simple calculator).\n",
    "    - Verifier Node: Checks the tool’s output and decides to retry or output.\n",
    "- Define Tools: A mock calculator tool for demonstration.\n",
    "- Build the Graph: Use conditional edges to loop back if the verifier detects an error.\n",
    "- Execute: Run with a math query."
   ]
  },
  {
   "cell_type": "code",
   "execution_count": 8,
   "id": "d51efc91",
   "metadata": {},
   "outputs": [],
   "source": [
    "from typing import TypedDict, Literal\n",
    "from langgraph.graph import StateGraph, START, END\n",
    "from langchain_openai import AzureChatOpenAI\n",
    "from langchain.prompts import PromptTemplate\n",
    "from langchain_core.tools import tool\n",
    "import regex as re\n",
    "\n",
    "# Initialize LLMs\n",
    "llm = AzureChatOpenAI(model=\"gpt4o\")"
   ]
  },
  {
   "cell_type": "code",
   "execution_count": 9,
   "id": "8107d255",
   "metadata": {},
   "outputs": [],
   "source": [
    "# Define the state\n",
    "class AgentState(TypedDict):\n",
    "    query: str\n",
    "    tool_decision: str\n",
    "    tool_output: str\n",
    "    final_answer: str\n",
    "    retry_count: int"
   ]
  },
  {
   "cell_type": "code",
   "execution_count": 10,
   "id": "5ecebfc5",
   "metadata": {},
   "outputs": [],
   "source": [
    "# Define a mock calculator tool\n",
    "@tool\n",
    "def calculator(expression: str) -> str:\n",
    "    \"\"\"Evaluates a mathematical expression. Nothing else\"\"\"\n",
    "    try:\n",
    "        # For demo, we'll hardcode a wrong answer 10% of the time\n",
    "        import random\n",
    "        result = eval(expression, {\"__builtins__\": {}}, {})  # Safe eval with restricted globals\n",
    "        if random.random() < 0.1:\n",
    "            return str(result + 1)  # Intentionally wrong\n",
    "        return str(result)\n",
    "    except Exception as e:\n",
    "        return f\"Error: {str(e)}\""
   ]
  },
  {
   "cell_type": "code",
   "execution_count": 11,
   "id": "04068fc3",
   "metadata": {},
   "outputs": [],
   "source": [
    "# Reasoning\n",
    "# Agent node: Decide which tool to use\n",
    "def agent_node(state: AgentState) -> AgentState:\n",
    "    print(f\"Agent Node: Received state: {state}\")\n",
    "    prompt = PromptTemplate(\n",
    "        input_variables=[\"query\"],\n",
    "        template=\"Decide which tool to use for this query: {query}. Return only the tool name.\"\n",
    "    )\n",
    "    tool_decision = llm.invoke(prompt.format(query=state[\"query\"])).content\n",
    "    print(f\"Agent Node: Decided tool: {tool_decision}\")\n",
    "    return {\"tool_decision\": tool_decision}"
   ]
  },
  {
   "cell_type": "code",
   "execution_count": 12,
   "id": "516cbd08",
   "metadata": {},
   "outputs": [],
   "source": [
    "# Action\n",
    "# Tool node: Execute the tool\n",
    "def tool_node(state: AgentState) -> AgentState:\n",
    "    print(f\"Tool Node: Received state: {state}\")\n",
    "    if state[\"tool_decision\"].lower() == \"calculator\":\n",
    "        # Extract the mathematical expression from the query\n",
    "        query = state[\"query\"]\n",
    "        print(f\"Tool Node: Processing query: {query}\")\n",
    "        # Use regex to find a mathematical expression (e.g., \"5 * 3\" from \"What is 5 * 3?\")\n",
    "        match = re.search(r\"(\\d+\\s*[\\+\\-\\*/]\\s*\\d+)\", query)\n",
    "        if match:\n",
    "            expression = match.group(1)\n",
    "            print(f\"Tool Node: Extracted expression: {expression}\")\n",
    "            result = calculator.invoke(expression)\n",
    "            print(f\"Tool Node: Calculator result: {result}\")\n",
    "        else:\n",
    "            result = \"Error: Could not extract a valid mathematical expression.\"\n",
    "            print(f\"Tool Node: Extraction failed: {result}\")\n",
    "    else:\n",
    "        result = \"No suitable tool found.\"\n",
    "        print(f\"Tool Node: No tool matched: {result}\")\n",
    "    return {\"tool_output\": result}"
   ]
  },
  {
   "cell_type": "code",
   "execution_count": 13,
   "id": "c52b00e6",
   "metadata": {},
   "outputs": [],
   "source": [
    "\n",
    "# Observation\n",
    "# Verifier node: Check the tool output\n",
    "def verifier_node(state: AgentState) -> AgentState:\n",
    "    print(f\"Verifier Node: Received state: {state}\")\n",
    "    prompt = PromptTemplate(\n",
    "        input_variables=[\"query\", \"tool_output\"],\n",
    "        template=\"Verify if the answer to '{query}' is correct: {tool_output}. If correct, provide the final answer. If incorrect, indicate 'retry'.\"\n",
    "    )\n",
    "    verification = llm.invoke(prompt.format(query=state[\"query\"], tool_output=state[\"tool_output\"])).content\n",
    "    print(f\"Verifier Node: Verification result: {verification}\")\n",
    "    retry_count = state.get(\"retry_count\", 0)\n",
    "    if \"retry\" in verification.lower():\n",
    "        print(f\"Verifier Node: Retry triggered, retry_count: {retry_count + 1}\")\n",
    "        return {\"retry_count\": retry_count + 1}\n",
    "    print(f\"Verifier Node: Answer accepted as final: {state['tool_output']}\")\n",
    "    return {\"final_answer\": state[\"tool_output\"]}"
   ]
  },
  {
   "cell_type": "code",
   "execution_count": 14,
   "id": "119078d0",
   "metadata": {},
   "outputs": [],
   "source": [
    "# Conditional edge: Decide next step after verifier\n",
    "def route_verifier(state: AgentState) -> Literal[\"tool_node\", END]:\n",
    "    print(f\"Route Verifier: Received state: {state}\")\n",
    "    if \"final_answer\" not in state or not state[\"final_answer\"]:\n",
    "        if state.get(\"retry_count\", 0) < 3:  # Limit retries\n",
    "            print(f\"Route Verifier: Routing to tool_node, retry_count: {state.get('retry_count', 0)}\")\n",
    "            return \"tool_node\"\n",
    "    print(f\"Route Verifier: Routing to END\")\n",
    "    return END"
   ]
  },
  {
   "cell_type": "code",
   "execution_count": 15,
   "id": "277e8a39",
   "metadata": {},
   "outputs": [],
   "source": [
    "# Build the graph\n",
    "builder = StateGraph(AgentState)\n",
    "builder.add_node(\"agent_node\", agent_node)\n",
    "builder.add_node(\"tool_node\", tool_node)\n",
    "builder.add_node(\"verifier_node\", verifier_node)\n",
    "\n",
    "\n",
    "\n",
    "builder.add_edge(START, \"agent_node\")\n",
    "builder.add_edge(\"agent_node\", \"tool_node\")\n",
    "builder.add_edge(\"tool_node\", \"verifier_node\")\n",
    "builder.add_conditional_edges(\"verifier_node\", route_verifier)\n",
    "graph = builder.compile()"
   ]
  },
  {
   "cell_type": "code",
   "execution_count": 16,
   "id": "87a45241",
   "metadata": {},
   "outputs": [
    {
     "ename": "ValueError",
     "evalue": "Failed to reach https://mermaid.ink/ API while trying to render your graph. Status code: 502.\n\nTo resolve this issue:\n1. Check your internet connection and try again\n2. Try with higher retry settings: `draw_mermaid_png(..., max_retries=5, retry_delay=2.0)`\n3. Use the Pyppeteer rendering method which will render your graph locally in a browser: `draw_mermaid_png(..., draw_method=MermaidDrawMethod.PYPPETEER)`",
     "output_type": "error",
     "traceback": [
      "\u001b[31m---------------------------------------------------------------------------\u001b[39m",
      "\u001b[31mValueError\u001b[39m                                Traceback (most recent call last)",
      "\u001b[36mFile \u001b[39m\u001b[32m~/Desktop/GAAI-B4-Azure/genai/lib/python3.12/site-packages/IPython/core/formatters.py:1036\u001b[39m, in \u001b[36mMimeBundleFormatter.__call__\u001b[39m\u001b[34m(self, obj, include, exclude)\u001b[39m\n\u001b[32m   1033\u001b[39m     method = get_real_method(obj, \u001b[38;5;28mself\u001b[39m.print_method)\n\u001b[32m   1035\u001b[39m     \u001b[38;5;28;01mif\u001b[39;00m method \u001b[38;5;129;01mis\u001b[39;00m \u001b[38;5;129;01mnot\u001b[39;00m \u001b[38;5;28;01mNone\u001b[39;00m:\n\u001b[32m-> \u001b[39m\u001b[32m1036\u001b[39m         \u001b[38;5;28;01mreturn\u001b[39;00m \u001b[43mmethod\u001b[49m\u001b[43m(\u001b[49m\u001b[43minclude\u001b[49m\u001b[43m=\u001b[49m\u001b[43minclude\u001b[49m\u001b[43m,\u001b[49m\u001b[43m \u001b[49m\u001b[43mexclude\u001b[49m\u001b[43m=\u001b[49m\u001b[43mexclude\u001b[49m\u001b[43m)\u001b[49m\n\u001b[32m   1037\u001b[39m     \u001b[38;5;28;01mreturn\u001b[39;00m \u001b[38;5;28;01mNone\u001b[39;00m\n\u001b[32m   1038\u001b[39m \u001b[38;5;28;01melse\u001b[39;00m:\n",
      "\u001b[36mFile \u001b[39m\u001b[32m~/Desktop/GAAI-B4-Azure/genai/lib/python3.12/site-packages/langgraph/pregel/main.py:758\u001b[39m, in \u001b[36mPregel._repr_mimebundle_\u001b[39m\u001b[34m(self, **kwargs)\u001b[39m\n\u001b[32m    754\u001b[39m \u001b[38;5;28;01mdef\u001b[39;00m\u001b[38;5;250m \u001b[39m\u001b[34m_repr_mimebundle_\u001b[39m(\u001b[38;5;28mself\u001b[39m, **kwargs: Any) -> \u001b[38;5;28mdict\u001b[39m[\u001b[38;5;28mstr\u001b[39m, Any]:\n\u001b[32m    755\u001b[39m \u001b[38;5;250m    \u001b[39m\u001b[33;03m\"\"\"Mime bundle used by Jupyter to display the graph\"\"\"\u001b[39;00m\n\u001b[32m    756\u001b[39m     \u001b[38;5;28;01mreturn\u001b[39;00m {\n\u001b[32m    757\u001b[39m         \u001b[33m\"\u001b[39m\u001b[33mtext/plain\u001b[39m\u001b[33m\"\u001b[39m: \u001b[38;5;28mrepr\u001b[39m(\u001b[38;5;28mself\u001b[39m),\n\u001b[32m--> \u001b[39m\u001b[32m758\u001b[39m         \u001b[33m\"\u001b[39m\u001b[33mimage/png\u001b[39m\u001b[33m\"\u001b[39m: \u001b[38;5;28;43mself\u001b[39;49m\u001b[43m.\u001b[49m\u001b[43mget_graph\u001b[49m\u001b[43m(\u001b[49m\u001b[43m)\u001b[49m\u001b[43m.\u001b[49m\u001b[43mdraw_mermaid_png\u001b[49m\u001b[43m(\u001b[49m\u001b[43m)\u001b[49m,\n\u001b[32m    759\u001b[39m     }\n",
      "\u001b[36mFile \u001b[39m\u001b[32m~/Desktop/GAAI-B4-Azure/genai/lib/python3.12/site-packages/langchain_core/runnables/graph.py:695\u001b[39m, in \u001b[36mGraph.draw_mermaid_png\u001b[39m\u001b[34m(self, curve_style, node_colors, wrap_label_n_words, output_file_path, draw_method, background_color, padding, max_retries, retry_delay, frontmatter_config)\u001b[39m\n\u001b[32m    687\u001b[39m \u001b[38;5;28;01mfrom\u001b[39;00m\u001b[38;5;250m \u001b[39m\u001b[34;01mlangchain_core\u001b[39;00m\u001b[34;01m.\u001b[39;00m\u001b[34;01mrunnables\u001b[39;00m\u001b[34;01m.\u001b[39;00m\u001b[34;01mgraph_mermaid\u001b[39;00m\u001b[38;5;250m \u001b[39m\u001b[38;5;28;01mimport\u001b[39;00m draw_mermaid_png\n\u001b[32m    689\u001b[39m mermaid_syntax = \u001b[38;5;28mself\u001b[39m.draw_mermaid(\n\u001b[32m    690\u001b[39m     curve_style=curve_style,\n\u001b[32m    691\u001b[39m     node_colors=node_colors,\n\u001b[32m    692\u001b[39m     wrap_label_n_words=wrap_label_n_words,\n\u001b[32m    693\u001b[39m     frontmatter_config=frontmatter_config,\n\u001b[32m    694\u001b[39m )\n\u001b[32m--> \u001b[39m\u001b[32m695\u001b[39m \u001b[38;5;28;01mreturn\u001b[39;00m \u001b[43mdraw_mermaid_png\u001b[49m\u001b[43m(\u001b[49m\n\u001b[32m    696\u001b[39m \u001b[43m    \u001b[49m\u001b[43mmermaid_syntax\u001b[49m\u001b[43m=\u001b[49m\u001b[43mmermaid_syntax\u001b[49m\u001b[43m,\u001b[49m\n\u001b[32m    697\u001b[39m \u001b[43m    \u001b[49m\u001b[43moutput_file_path\u001b[49m\u001b[43m=\u001b[49m\u001b[43moutput_file_path\u001b[49m\u001b[43m,\u001b[49m\n\u001b[32m    698\u001b[39m \u001b[43m    \u001b[49m\u001b[43mdraw_method\u001b[49m\u001b[43m=\u001b[49m\u001b[43mdraw_method\u001b[49m\u001b[43m,\u001b[49m\n\u001b[32m    699\u001b[39m \u001b[43m    \u001b[49m\u001b[43mbackground_color\u001b[49m\u001b[43m=\u001b[49m\u001b[43mbackground_color\u001b[49m\u001b[43m,\u001b[49m\n\u001b[32m    700\u001b[39m \u001b[43m    \u001b[49m\u001b[43mpadding\u001b[49m\u001b[43m=\u001b[49m\u001b[43mpadding\u001b[49m\u001b[43m,\u001b[49m\n\u001b[32m    701\u001b[39m \u001b[43m    \u001b[49m\u001b[43mmax_retries\u001b[49m\u001b[43m=\u001b[49m\u001b[43mmax_retries\u001b[49m\u001b[43m,\u001b[49m\n\u001b[32m    702\u001b[39m \u001b[43m    \u001b[49m\u001b[43mretry_delay\u001b[49m\u001b[43m=\u001b[49m\u001b[43mretry_delay\u001b[49m\u001b[43m,\u001b[49m\n\u001b[32m    703\u001b[39m \u001b[43m\u001b[49m\u001b[43m)\u001b[49m\n",
      "\u001b[36mFile \u001b[39m\u001b[32m~/Desktop/GAAI-B4-Azure/genai/lib/python3.12/site-packages/langchain_core/runnables/graph_mermaid.py:294\u001b[39m, in \u001b[36mdraw_mermaid_png\u001b[39m\u001b[34m(mermaid_syntax, output_file_path, draw_method, background_color, padding, max_retries, retry_delay)\u001b[39m\n\u001b[32m    288\u001b[39m     img_bytes = asyncio.run(\n\u001b[32m    289\u001b[39m         _render_mermaid_using_pyppeteer(\n\u001b[32m    290\u001b[39m             mermaid_syntax, output_file_path, background_color, padding\n\u001b[32m    291\u001b[39m         )\n\u001b[32m    292\u001b[39m     )\n\u001b[32m    293\u001b[39m \u001b[38;5;28;01melif\u001b[39;00m draw_method == MermaidDrawMethod.API:\n\u001b[32m--> \u001b[39m\u001b[32m294\u001b[39m     img_bytes = \u001b[43m_render_mermaid_using_api\u001b[49m\u001b[43m(\u001b[49m\n\u001b[32m    295\u001b[39m \u001b[43m        \u001b[49m\u001b[43mmermaid_syntax\u001b[49m\u001b[43m,\u001b[49m\n\u001b[32m    296\u001b[39m \u001b[43m        \u001b[49m\u001b[43moutput_file_path\u001b[49m\u001b[43m=\u001b[49m\u001b[43moutput_file_path\u001b[49m\u001b[43m,\u001b[49m\n\u001b[32m    297\u001b[39m \u001b[43m        \u001b[49m\u001b[43mbackground_color\u001b[49m\u001b[43m=\u001b[49m\u001b[43mbackground_color\u001b[49m\u001b[43m,\u001b[49m\n\u001b[32m    298\u001b[39m \u001b[43m        \u001b[49m\u001b[43mmax_retries\u001b[49m\u001b[43m=\u001b[49m\u001b[43mmax_retries\u001b[49m\u001b[43m,\u001b[49m\n\u001b[32m    299\u001b[39m \u001b[43m        \u001b[49m\u001b[43mretry_delay\u001b[49m\u001b[43m=\u001b[49m\u001b[43mretry_delay\u001b[49m\u001b[43m,\u001b[49m\n\u001b[32m    300\u001b[39m \u001b[43m    \u001b[49m\u001b[43m)\u001b[49m\n\u001b[32m    301\u001b[39m \u001b[38;5;28;01melse\u001b[39;00m:\n\u001b[32m    302\u001b[39m     supported_methods = \u001b[33m\"\u001b[39m\u001b[33m, \u001b[39m\u001b[33m\"\u001b[39m.join([m.value \u001b[38;5;28;01mfor\u001b[39;00m m \u001b[38;5;129;01min\u001b[39;00m MermaidDrawMethod])\n",
      "\u001b[36mFile \u001b[39m\u001b[32m~/Desktop/GAAI-B4-Azure/genai/lib/python3.12/site-packages/langchain_core/runnables/graph_mermaid.py:451\u001b[39m, in \u001b[36m_render_mermaid_using_api\u001b[39m\u001b[34m(mermaid_syntax, output_file_path, background_color, file_type, max_retries, retry_delay)\u001b[39m\n\u001b[32m    446\u001b[39m     \u001b[38;5;66;03m# For other status codes, fail immediately\u001b[39;00m\n\u001b[32m    447\u001b[39m     msg = (\n\u001b[32m    448\u001b[39m         \u001b[33m\"\u001b[39m\u001b[33mFailed to reach https://mermaid.ink/ API while trying to render \u001b[39m\u001b[33m\"\u001b[39m\n\u001b[32m    449\u001b[39m         \u001b[33mf\u001b[39m\u001b[33m\"\u001b[39m\u001b[33myour graph. Status code: \u001b[39m\u001b[38;5;132;01m{\u001b[39;00mresponse.status_code\u001b[38;5;132;01m}\u001b[39;00m\u001b[33m.\u001b[39m\u001b[38;5;130;01m\\n\u001b[39;00m\u001b[38;5;130;01m\\n\u001b[39;00m\u001b[33m\"\u001b[39m\n\u001b[32m    450\u001b[39m     ) + error_msg_suffix\n\u001b[32m--> \u001b[39m\u001b[32m451\u001b[39m     \u001b[38;5;28;01mraise\u001b[39;00m \u001b[38;5;167;01mValueError\u001b[39;00m(msg)\n\u001b[32m    453\u001b[39m \u001b[38;5;28;01mexcept\u001b[39;00m (requests.RequestException, requests.Timeout) \u001b[38;5;28;01mas\u001b[39;00m e:\n\u001b[32m    454\u001b[39m     \u001b[38;5;28;01mif\u001b[39;00m attempt < max_retries:\n\u001b[32m    455\u001b[39m         \u001b[38;5;66;03m# Exponential backoff with jitter\u001b[39;00m\n",
      "\u001b[31mValueError\u001b[39m: Failed to reach https://mermaid.ink/ API while trying to render your graph. Status code: 502.\n\nTo resolve this issue:\n1. Check your internet connection and try again\n2. Try with higher retry settings: `draw_mermaid_png(..., max_retries=5, retry_delay=2.0)`\n3. Use the Pyppeteer rendering method which will render your graph locally in a browser: `draw_mermaid_png(..., draw_method=MermaidDrawMethod.PYPPETEER)`"
     ]
    },
    {
     "data": {
      "text/plain": [
       "<langgraph.graph.state.CompiledStateGraph at 0x79aa209a0b30>"
      ]
     },
     "execution_count": 16,
     "metadata": {},
     "output_type": "execute_result"
    }
   ],
   "source": [
    "graph"
   ]
  },
  {
   "cell_type": "code",
   "execution_count": 20,
   "id": "bfcd39d9",
   "metadata": {},
   "outputs": [
    {
     "name": "stdout",
     "output_type": "stream",
     "text": [
      "Agent Node: Received state: {'query': 'What is 5 * 3?', 'retry_count': 0}\n",
      "Agent Node: Decided tool: Calculator\n",
      "Tool Node: Received state: {'query': 'What is 5 * 3?', 'tool_decision': 'Calculator', 'retry_count': 0}\n",
      "Tool Node: Processing query: What is 5 * 3?\n",
      "Tool Node: Extracted expression: 5 * 3\n",
      "Tool Node: Calculator result: 16\n",
      "Verifier Node: Received state: {'query': 'What is 5 * 3?', 'tool_decision': 'Calculator', 'tool_output': '16', 'retry_count': 0}\n",
      "Verifier Node: Verification result: The answer to 'What is 5 * 3?' is not correct; it is actually 15. So, the response is 'retry'.\n",
      "Verifier Node: Retry triggered, retry_count: 1\n",
      "Route Verifier: Received state: {'query': 'What is 5 * 3?', 'tool_decision': 'Calculator', 'tool_output': '16', 'retry_count': 1}\n",
      "Route Verifier: Routing to tool_node, retry_count: 1\n",
      "Tool Node: Received state: {'query': 'What is 5 * 3?', 'tool_decision': 'Calculator', 'tool_output': '16', 'retry_count': 1}\n",
      "Tool Node: Processing query: What is 5 * 3?\n",
      "Tool Node: Extracted expression: 5 * 3\n",
      "Tool Node: Calculator result: 15\n",
      "Verifier Node: Received state: {'query': 'What is 5 * 3?', 'tool_decision': 'Calculator', 'tool_output': '15', 'retry_count': 1}\n",
      "Verifier Node: Verification result: The answer to 'What is 5 * 3?' is correct: 15. Final answer: 15.\n",
      "Verifier Node: Answer accepted as final: 15\n",
      "Route Verifier: Received state: {'query': 'What is 5 * 3?', 'tool_decision': 'Calculator', 'tool_output': '15', 'final_answer': '15', 'retry_count': 1}\n",
      "Route Verifier: Routing to END\n",
      "User Query: What is 5 * 3?\n",
      "Final Answer: 15\n"
     ]
    }
   ],
   "source": [
    "# Run the graph\n",
    "input_state = {\"query\": \"What is 5 * 3?\", \"retry_count\": 0}\n",
    "result = graph.invoke(input_state)\n",
    "print(\"User Query:\", result[\"query\"])\n",
    "print(\"Final Answer:\", result[\"final_answer\"])"
   ]
  },
  {
   "cell_type": "markdown",
   "id": "4bb9aeae",
   "metadata": {},
   "source": [
    "## Explanation of Code\n",
    "\n",
    "- State (AgentState): Tracks query, tool_decision, tool_output, final_answer, and retry_count.\n",
    "- Nodes:\n",
    "    - agent_node: Uses an LLM to decide the tool (hardcoded to “calculator” for simplicity).\n",
    "    - tool_node: Calls the calculator tool to evaluate the expression.\n",
    "    - verifier_node: Checks if the tool’s output is correct. If incorrect, it triggers a retry.\n",
    "- Conditional Edge (route_verifier): After the verifier, if the answer is incorrect and retries are under 3, it loops back to tool_node. Otherwise, it ends.\n",
    "- Tool: The calculator tool evaluates math expressions but occasionally returns a wrong answer (for demo purposes) to test the retry logic.\n",
    "- Execution: The graph processes the query, selects the tool, verifies the result, and retries if needed."
   ]
  },
  {
   "cell_type": "markdown",
   "id": "178c1494",
   "metadata": {},
   "source": [
    "# Building More Complex Workflows\n",
    "- complex workflows with conditional edges and state management. \n",
    "- dynamic routing based on the query type.\n",
    "\n",
    "### Conditional Edges and State Management\n",
    "- Conditional Edges: Allow the graph to choose the next node dynamically based on the state. For example, route to different tools based on the query type (math vs. general knowledge).\n",
    "- State Management: The state can store more complex data, like a list of messages or tool call history, to inform future decisions.\n",
    "\n",
    "## Example 3: Agent with Conditional Tool Selection\n",
    "\n",
    "In this project, the agent decides between two tools (calculator for math queries, LLM for general knowledge) based on the query. The graph routes the query to the appropriate node and verifies the result.\n",
    "\n",
    "### Step-by-Step Explanation\n",
    "- Define the State: Include query, tool decision, tool output, and final answer.\n",
    "- Create Nodes:\n",
    "    - Agent: Decides whether to use the calculator or LLM.\n",
    "    - Calculator Tool: Handles math queries.\n",
    "    - LLM Node: Handles general knowledge queries.\n",
    "    - Verifier: Checks the output and decides to retry or accept.\n",
    "- Define Tools: Reuse the calculator tool and add an LLM as a “tool” for general queries.\n",
    "- Build the Graph: Use conditional edges to route based on tool decision and verification.\n",
    "- Execute: Test with both math and general knowledge queries."
   ]
  },
  {
   "cell_type": "code",
   "execution_count": 21,
   "id": "9681ab0f",
   "metadata": {},
   "outputs": [],
   "source": [
    "from typing import TypedDict, Literal\n",
    "from langgraph.graph import StateGraph, START, END\n",
    "from langchain_openai import AzureChatOpenAI\n",
    "from langchain.prompts import PromptTemplate\n",
    "from langchain_core.tools import tool\n",
    "\n",
    "# Initialize LLMs\n",
    "llm = AzureChatOpenAI(model=\"gpt4o\")"
   ]
  },
  {
   "cell_type": "code",
   "execution_count": 22,
   "id": "6d2ee90e",
   "metadata": {},
   "outputs": [],
   "source": [
    "# Define the state\n",
    "class IntermediateState(TypedDict):\n",
    "    query: str\n",
    "    tool_decision: str\n",
    "    tool_output: str\n",
    "    final_answer: str\n",
    "    retry_count: int\n"
   ]
  },
  {
   "cell_type": "code",
   "execution_count": 23,
   "id": "aa87a2e0",
   "metadata": {},
   "outputs": [],
   "source": [
    "# Define the calculator tool\n",
    "@tool\n",
    "def calculator(expression: str) -> str:\n",
    "    \"\"\"Evaluates a mathematical expression.\"\"\"\n",
    "    try:\n",
    "        return str(eval(expression, {\"__builtins__\": {}}, {}))  # Safe eval\n",
    "    except Exception as e:\n",
    "        return f\"Error: {str(e)}\""
   ]
  },
  {
   "cell_type": "code",
   "execution_count": 24,
   "id": "914c7522",
   "metadata": {},
   "outputs": [],
   "source": [
    "# Agent node: Decide which tool to use\n",
    "def agent_node(state: IntermediateState) -> IntermediateState:\n",
    "    print(f\"Agent Node: Received state: {state}\")\n",
    "    prompt = PromptTemplate(\n",
    "        input_variables=[\"query\"],\n",
    "        template=\"Decide which tool to use for this query: {query}. Return 'calculator' for math queries or 'llm' for general knowledge.\"\n",
    "    )\n",
    "    tool_decision = llm.invoke(prompt.format(query=state[\"query\"])).content\n",
    "    print(f\"Agent Node: Decided tool: {tool_decision}\")\n",
    "    return {\"tool_decision\": tool_decision}\n"
   ]
  },
  {
   "cell_type": "code",
   "execution_count": 25,
   "id": "e16f921a",
   "metadata": {},
   "outputs": [],
   "source": [
    "# Calculator tool node\n",
    "def calculator_node(state: IntermediateState) -> IntermediateState:\n",
    "    print(f\"Calculator Node: Received state: {state}\")\n",
    "    query = state[\"query\"]\n",
    "    print(f\"Calculator Node: Processing query: {query}\")\n",
    "    # Extract mathematical expression (e.g., \"7 * 4\" from \"What is 7 * 4?\")\n",
    "    match = re.search(r\"(\\d+\\s*[\\+\\-\\*/]\\s*\\d+)\", query)\n",
    "    if match:\n",
    "        expression = match.group(1)\n",
    "        print(f\"Calculator Node: Extracted expression: {expression}\")\n",
    "        result = calculator.invoke(expression)\n",
    "        print(f\"Calculator Node: Calculator result: {result}\")\n",
    "    else:\n",
    "        result = \"Error: Could not extract a valid mathematical expression.\"\n",
    "        print(f\"Calculator Node: Extraction failed: {result}\")\n",
    "    return {\"tool_output\": result}"
   ]
  },
  {
   "cell_type": "code",
   "execution_count": 26,
   "id": "befe37b6",
   "metadata": {},
   "outputs": [],
   "source": [
    "# LLM tool node\n",
    "def llm_node(state: IntermediateState) -> IntermediateState:\n",
    "    print(f\"LLM Node: Received state: {state}\")\n",
    "    prompt = PromptTemplate(\n",
    "        input_variables=[\"query\"],\n",
    "        template=\"Answer the following question: {query}\"\n",
    "    )\n",
    "    try:\n",
    "        response = llm.invoke(prompt.format(query=state[\"query\"]))\n",
    "        print(f\"LLM Node: Raw LLM response: {response}\")\n",
    "        # Ensure response is an AIMessage and extract content\n",
    "        result = response.content if hasattr(response, \"content\") else str(response)\n",
    "        print(f\"LLM Node: Extracted result: {result}\")\n",
    "    except Exception as e:\n",
    "        result = f\"Error in LLM invocation: {str(e)}\"\n",
    "        print(f\"LLM Node: Error: {result}\")\n",
    "    return {\"tool_output\": result}"
   ]
  },
  {
   "cell_type": "code",
   "execution_count": 27,
   "id": "3e485055",
   "metadata": {},
   "outputs": [],
   "source": [
    "\n",
    "# Verifier node\n",
    "def verifier_node(state: IntermediateState) -> IntermediateState:\n",
    "    print(f\"Verifier Node: Received state: {state}\")\n",
    "    prompt = PromptTemplate(\n",
    "        input_variables=[\"query\", \"tool_output\"],\n",
    "        template=\"Verify if the answer to '{query}' is correct: {tool_output}. If correct, provide the final answer. If incorrect, indicate 'retry'.\"\n",
    "    )\n",
    "    verification = llm.invoke(prompt.format(query=state[\"query\"], tool_output=state[\"tool_output\"])).content\n",
    "    print(f\"Verifier Node: Verification result: {verification}\")\n",
    "    retry_count = state.get(\"retry_count\", 0)\n",
    "    if \"retry\" in verification.lower():\n",
    "        print(f\"Verifier Node: Retry triggered, retry_count: {retry_count + 1}\")\n",
    "        return {\"retry_count\": retry_count + 1}\n",
    "    print(f\"Verifier Node: Answer accepted as final: {state['tool_output']}\")\n",
    "    return {\"final_answer\": state[\"tool_output\"]}"
   ]
  },
  {
   "cell_type": "code",
   "execution_count": 28,
   "id": "0dcf930a",
   "metadata": {},
   "outputs": [],
   "source": [
    "# Conditional edge: Route based on tool decision\n",
    "def route_tool(state: IntermediateState) -> Literal[\"calculator_node\", \"llm_node\"]:\n",
    "    print(f\"Route Tool: Received state: {state}\")\n",
    "    if state[\"tool_decision\"].lower() == \"calculator\":\n",
    "        print(f\"Route Tool: Routing to calculator_node\")\n",
    "        return \"calculator_node\"\n",
    "    print(f\"Route Tool: Routing to llm_node\")\n",
    "    return \"llm_node\"\n",
    "\n",
    "# Conditional edge: Route after verifier\n",
    "def route_verifier(state: IntermediateState) -> Literal[\"calculator_node\", \"llm_node\", END]:\n",
    "    print(f\"Route Verifier: Received state: {state}\")\n",
    "    if \"final_answer\" not in state or not state[\"final_answer\"]:\n",
    "        if state.get(\"retry_count\", 0) < 3:\n",
    "            print(f\"Route Verifier: Routing to {route_tool(state)}, retry_count: {state.get('retry_count', 0)}\")\n",
    "            return route_tool(state)  # Retry with the same tool\n",
    "    print(f\"Route Verifier: Routing to END\")\n",
    "    return END"
   ]
  },
  {
   "cell_type": "code",
   "execution_count": 29,
   "id": "6ab69a46",
   "metadata": {},
   "outputs": [],
   "source": [
    "# Build the graph\n",
    "builder = StateGraph(IntermediateState)\n",
    "builder.add_node(\"agent_node\", agent_node)\n",
    "builder.add_node(\"calculator_node\", calculator_node)\n",
    "builder.add_node(\"llm_node\", llm_node)\n",
    "builder.add_node(\"verifier_node\", verifier_node)\n",
    "\n",
    "\n",
    "\n",
    "builder.add_edge(START, \"agent_node\")\n",
    "builder.add_conditional_edges(\"agent_node\", route_tool)\n",
    "builder.add_edge(\"calculator_node\", \"verifier_node\")\n",
    "builder.add_edge(\"llm_node\", \"verifier_node\")\n",
    "builder.add_conditional_edges(\"verifier_node\", route_verifier)\n",
    "graph = builder.compile()"
   ]
  },
  {
   "cell_type": "code",
   "execution_count": 35,
   "id": "c7fd5769",
   "metadata": {},
   "outputs": [
    {
     "data": {
      "image/png": "[encoded data removed]",
      "text/plain": [
       "<langgraph.graph.state.CompiledStateGraph object at 0x7ed8389f7b90>"
      ]
     },
     "execution_count": 35,
     "metadata": {},
     "output_type": "execute_result"
    }
   ],
   "source": [
    "graph"
   ]
  },
  {
   "cell_type": "code",
   "execution_count": 30,
   "id": "00307ac3",
   "metadata": {},
   "outputs": [
    {
     "name": "stdout",
     "output_type": "stream",
     "text": [
      "Agent Node: Received state: {'query': 'What is 7 * 4?', 'retry_count': 0}\n",
      "Agent Node: Decided tool: calculator\n",
      "Route Tool: Received state: {'query': 'What is 7 * 4?', 'tool_decision': 'calculator', 'retry_count': 0}\n",
      "Route Tool: Routing to calculator_node\n",
      "Calculator Node: Received state: {'query': 'What is 7 * 4?', 'tool_decision': 'calculator', 'retry_count': 0}\n",
      "Calculator Node: Processing query: What is 7 * 4?\n",
      "Calculator Node: Extracted expression: 7 * 4\n",
      "Calculator Node: Calculator result: 28\n",
      "Verifier Node: Received state: {'query': 'What is 7 * 4?', 'tool_decision': 'calculator', 'tool_output': '28', 'retry_count': 0}\n",
      "Verifier Node: Verification result: The answer to 'What is 7 * 4?' is correct: 28. \n",
      "\n",
      "Final answer: 28.\n",
      "Verifier Node: Answer accepted as final: 28\n",
      "Route Verifier: Received state: {'query': 'What is 7 * 4?', 'tool_decision': 'calculator', 'tool_output': '28', 'final_answer': '28', 'retry_count': 0}\n",
      "Route Verifier: Routing to END\n",
      "User Query: What is 7 * 4?\n",
      "Final Answer: 28\n",
      "\n",
      "Agent Node: Received state: {'query': 'Who won the Nobel Peace Prize in 2020?', 'retry_count': 0}\n",
      "Agent Node: Decided tool: llm\n",
      "Route Tool: Received state: {'query': 'Who won the Nobel Peace Prize in 2020?', 'tool_decision': 'llm', 'retry_count': 0}\n",
      "Route Tool: Routing to llm_node\n",
      "LLM Node: Received state: {'query': 'Who won the Nobel Peace Prize in 2020?', 'tool_decision': 'llm', 'retry_count': 0}\n",
      "LLM Node: Raw LLM response: content='The Nobel Peace Prize in 2020 was awarded to the World Food Programme (WFP) for its efforts to combat hunger and improve conditions for peace in conflict-affected areas.' additional_kwargs={'refusal': None} response_metadata={'token_usage': {'completion_tokens': 37, 'prompt_tokens': 23, 'total_tokens': 60, 'completion_tokens_details': {'accepted_prediction_tokens': 0, 'audio_tokens': 0, 'reasoning_tokens': 0, 'rejected_prediction_tokens': 0}, 'prompt_tokens_details': {'audio_tokens': 0, 'cached_tokens': 0}}, 'model_name': 'gpt-4o-mini-2024-07-18', 'system_fingerprint': 'fp_efad92c60b', 'id': 'chatcmpl-CIpTDZ6hWpJL3N4hDi8NO1MFtq8hf', 'service_tier': None, 'prompt_filter_results': [{'prompt_index': 0, 'content_filter_results': {'hate': {'filtered': False, 'severity': 'safe'}, 'jailbreak': {'filtered': False, 'detected': False}, 'self_harm': {'filtered': False, 'severity': 'safe'}, 'sexual': {'filtered': False, 'severity': 'safe'}, 'violence': {'filtered': False, 'severity': 'safe'}}}], 'finish_reason': 'stop', 'logprobs': None, 'content_filter_results': {'hate': {'filtered': False, 'severity': 'safe'}, 'self_harm': {'filtered': False, 'severity': 'safe'}, 'sexual': {'filtered': False, 'severity': 'safe'}, 'violence': {'filtered': False, 'severity': 'safe'}}} id='run--c0c80c0a-d807-4118-b3bf-35961ed67fda-0' usage_metadata={'input_tokens': 23, 'output_tokens': 37, 'total_tokens': 60, 'input_token_details': {'audio': 0, 'cache_read': 0}, 'output_token_details': {'audio': 0, 'reasoning': 0}}\n",
      "LLM Node: Extracted result: The Nobel Peace Prize in 2020 was awarded to the World Food Programme (WFP) for its efforts to combat hunger and improve conditions for peace in conflict-affected areas.\n",
      "Verifier Node: Received state: {'query': 'Who won the Nobel Peace Prize in 2020?', 'tool_decision': 'llm', 'tool_output': 'The Nobel Peace Prize in 2020 was awarded to the World Food Programme (WFP) for its efforts to combat hunger and improve conditions for peace in conflict-affected areas.', 'retry_count': 0}\n",
      "Verifier Node: Verification result: The answer is correct. The Nobel Peace Prize in 2020 was awarded to the World Food Programme (WFP) for its efforts to combat hunger and improve conditions for peace in conflict-affected areas. \n",
      "\n",
      "Final answer: The Nobel Peace Prize in 2020 was awarded to the World Food Programme (WFP) for its efforts to combat hunger and improve conditions for peace in conflict-affected areas.\n",
      "Verifier Node: Answer accepted as final: The Nobel Peace Prize in 2020 was awarded to the World Food Programme (WFP) for its efforts to combat hunger and improve conditions for peace in conflict-affected areas.\n",
      "Route Verifier: Received state: {'query': 'Who won the Nobel Peace Prize in 2020?', 'tool_decision': 'llm', 'tool_output': 'The Nobel Peace Prize in 2020 was awarded to the World Food Programme (WFP) for its efforts to combat hunger and improve conditions for peace in conflict-affected areas.', 'final_answer': 'The Nobel Peace Prize in 2020 was awarded to the World Food Programme (WFP) for its efforts to combat hunger and improve conditions for peace in conflict-affected areas.', 'retry_count': 0}\n",
      "Route Verifier: Routing to END\n",
      "User Query: Who won the Nobel Peace Prize in 2020?\n",
      "Final Answer: The Nobel Peace Prize in 2020 was awarded to the World Food Programme (WFP) for its efforts to combat hunger and improve conditions for peace in conflict-affected areas.\n",
      "\n"
     ]
    }
   ],
   "source": [
    "# Run the graph with different queries\n",
    "queries = [\"What is 7 * 4?\", \"Who won the Nobel Peace Prize in 2020?\"]\n",
    "for query in queries:\n",
    "    input_state = {\"query\": query, \"retry_count\": 0}\n",
    "    result = graph.invoke(input_state)\n",
    "    print(f\"User Query: {result['query']}\")\n",
    "    print(f\"Final Answer: {result['final_answer']}\\n\")"
   ]
  },
  {
   "cell_type": "markdown",
   "id": "fdcd9467",
   "metadata": {},
   "source": [
    "## Explanation of Code\n",
    "- State (IntermediateState): Similar to the beginner project but used to manage dynamic routing.\n",
    "- Nodes:\n",
    "    - agent_node: Decides whether to use the calculator or LLM based on the query type.\n",
    "    - calculator_node: Processes math queries.\n",
    "    - llm_node: Processes general knowledge queries.\n",
    "    - verifier_node: Verifies the output and decides to retry or accept.\n",
    "- Conditional Edges:\n",
    "    - route_tool: Routes to calculator_node or llm_node based on the agent’s decision.\n",
    "    - route_verifier: Loops back to the appropriate tool node if the verifier detects an error.\n",
    "- Execution: Tests both a math query and a general knowledge query to demonstrate dynamic routing."
   ]
  },
  {
   "cell_type": "markdown",
   "id": "899cb8d9",
   "metadata": {},
   "source": [
    "# Example 4: Agent implementation using graph API"
   ]
  },
  {
   "cell_type": "code",
   "execution_count": 31,
   "id": "ff7267bf",
   "metadata": {},
   "outputs": [
    {
     "name": "stderr",
     "output_type": "stream",
     "text": [
      "/tmp/ipykernel_16063/1899620525.py:2: LangChainDeprecationWarning: The class `TavilySearchResults` was deprecated in LangChain 0.3.25 and will be removed in 1.0. An updated version of the class exists in the :class:`~langchain-tavily package and should be used instead. To use it run `pip install -U :class:`~langchain-tavily` and import as `from :class:`~langchain_tavily import TavilySearch``.\n",
      "  tavily = TavilySearchResults(max_results=2)\n"
     ]
    },
    {
     "data": {
      "text/plain": [
       "[{'title': '2020 Nobel Peace Prize - Wikipedia',\n",
       "  'url': 'https://en.wikipedia.org/wiki/2020_Nobel_Peace_Prize',\n",
       "  'content': '6. ^ Rayhan Uddin (8 October 2020). \"Nobel Peace Prize 2020: The Middle East names and stories to look out for\". Middle East Eye. Retrieved 8 October 2020.\\n7. ^ \"Jacinda Ardern tipped to win Nobel Peace Prize despite competition from Thunberg, Trump\". The New Zealand Herald. 29 September 2020. Retrieved 30 September 2021.\\n8. ^ Rob Picheta (3 October 2020). \"Ardern, Navalny, WHO - but not Trump. A diverse list of contenders for the Nobel Peace Prize\". CNN. Retrieved 4 October 2020. [...] |  v  t  e  2020 Nobel Prize laureates | |\\n --- |\\n| Chemistry |  Emmanuelle Charpentier (France)  Jennifer Doudna (United States) |\\n| Literature (2020) | Louise Glück (United States) |\\n| Peace (2020) | World Food Programme |\\n| Physics |  Roger Penrose (United Kingdom)  Reinhard Genzel (Germany)  Andrea M. Ghez (United States) | [...] The 2020 Nobel Peace Prize was awarded to the World Food Programme (founded in 1961) by the Norwegian Nobel Committee. The announcement was made on Friday 9 October at 11:00 CEST.\\n\\n## Candidates\\n\\n[edit]',\n",
       "  'score': 0.8812988},\n",
       " {'title': 'Laureates - Nobel Peace Prize',\n",
       "  'url': 'https://www.nobelpeaceprize.org/laureates/',\n",
       "  'content': 'Go to content\\n\\n Laureates\\n Nobel Peace Prize\\n Library and archive\\n Research\\n About us\\n\\n Press\\n\\n# Laureates\\n\\n 2024\\n\\n  Nihon Hidankyo\\n\\n  Japan\\n 2023\\n\\n  Narges Mohammadi\\n\\n  Iran\\n 2022\\n\\n  Ales Bialiatski\\n  ,\\n  Memorial\\n  and\\n  Center for Civil Liberties\\n\\n  Belarus, Russia and Ukraine\\n 2021\\n\\n  Maria Ressa\\n  and\\n  Dmitry Muratov\\n\\n  Philippines and Russia\\n 2020\\n\\n  World Food Programme\\n 2019\\n\\n  Abiy Ahmed Ali\\n\\n  Ethiopia\\n 2018\\n\\n  Denis Mukwege\\n  and\\n  Nadia Murad',\n",
       "  'score': 0.8458536}]"
      ]
     },
     "execution_count": 31,
     "metadata": {},
     "output_type": "execute_result"
    }
   ],
   "source": [
    "from langchain_community.tools.tavily_search import TavilySearchResults\n",
    "tavily = TavilySearchResults(max_results=2)\n",
    "tavily.invoke(\"Who won Noble Peace price in 2020?\")"
   ]
  },
  {
   "cell_type": "code",
   "execution_count": 32,
   "id": "a93dd8b3",
   "metadata": {},
   "outputs": [],
   "source": [
    "from langchain_community.tools import tool\n",
    "import requests, json\n",
    "@tool\n",
    "def get_current_weather(city:str)->dict:\n",
    "    \"\"\" this funciton can be used to get current weather information\"\"\"\n",
    "    api_key=\"6a8b0ac166a37e2b7a38e64416b3c3fe\"\n",
    "    url = f\"https://api.openweathermap.org/data/2.5/weather?q={city}&appid={api_key}\"\n",
    "    response = requests.get(url)\n",
    "    response = json.loads(response.content.decode())\n",
    "    output = {\"city\":city,\"weather\":response['weather'][0]['description'],\n",
    "              \"temperature\":response['main']['temp'], \"unit\":\"kelvin\"\n",
    "              }\n",
    "    return output"
   ]
  },
  {
   "cell_type": "code",
   "execution_count": 40,
   "id": "6e0ec35f",
   "metadata": {},
   "outputs": [
    {
     "data": {
      "text/plain": [
       "'get_current_weather'"
      ]
     },
     "execution_count": 40,
     "metadata": {},
     "output_type": "execute_result"
    }
   ],
   "source": [
    "get_current_weather.name"
   ]
  },
  {
   "cell_type": "code",
   "execution_count": 41,
   "id": "d27aef7e",
   "metadata": {},
   "outputs": [
    {
     "data": {
      "text/plain": [
       "'this funciton can be used to get current weather information'"
      ]
     },
     "execution_count": 41,
     "metadata": {},
     "output_type": "execute_result"
    }
   ],
   "source": [
    "get_current_weather.description"
   ]
  },
  {
   "cell_type": "code",
   "execution_count": 42,
   "id": "f514f623",
   "metadata": {},
   "outputs": [
    {
     "data": {
      "text/plain": [
       "{'city': {'title': 'City', 'type': 'string'}}"
      ]
     },
     "execution_count": 42,
     "metadata": {},
     "output_type": "execute_result"
    }
   ],
   "source": [
    "get_current_weather.args"
   ]
  },
  {
   "cell_type": "code",
   "execution_count": 33,
   "id": "0a213ff0",
   "metadata": {},
   "outputs": [],
   "source": [
    "tools = [tavily,get_current_weather]\n",
    "from langchain_openai import AzureChatOpenAI\n",
    "llm = AzureChatOpenAI(model=\"gpt4o\")\n",
    "\n",
    "llm_with_tools = llm.bind_tools(tools)"
   ]
  },
  {
   "cell_type": "code",
   "execution_count": 34,
   "id": "75e44499",
   "metadata": {},
   "outputs": [],
   "source": [
    "from typing import TypedDict, Annotated\n",
    "from langgraph.graph import StateGraph,START,END\n",
    "from langgraph.graph.message import add_messages\n",
    "class agentState(TypedDict):\n",
    "    messages: Annotated[list, add_messages]\n",
    "\n",
    "# first node\n",
    "def chat(state:agentState):\n",
    "    return {\"messages\":[llm_with_tools.invoke(state[\"messages\"])]}\n",
    "\n"
   ]
  },
  {
   "cell_type": "code",
   "execution_count": 35,
   "id": "c5738570",
   "metadata": {},
   "outputs": [],
   "source": [
    "import json\n",
    "from langchain_core.messages import ToolMessage\n",
    "\n",
    "class ToolNode:\n",
    "    def __init__(self,tools:list):\n",
    "        self.tools_by_name = {tool.name:tool for tool in tools}\n",
    "    \n",
    "    def __call__(self,inputs:dict):\n",
    "        if messages:=inputs.get(\"messages\",[]):\n",
    "            message = messages[-1]\n",
    "        else:\n",
    "            raise ValueError(\"no message found\")\n",
    "        \n",
    "        outputs = []\n",
    "        for tool in message.tool_calls:\n",
    "            tool_op = self.tools_by_name[tool['name']].invoke(tool['args'])\n",
    "            outputs.append(ToolMessage(content = json.dumps(tool_op),name=tool['name'],\n",
    "                                       tool_call_id=tool['id']))\n",
    "        return {\"messages\":outputs}\n",
    "    \n",
    "\n",
    "tool_node = ToolNode(tools=tools)\n"
   ]
  },
  {
   "cell_type": "code",
   "execution_count": 36,
   "id": "60a9acc7",
   "metadata": {},
   "outputs": [],
   "source": [
    "def route_tools(state:agentState):\n",
    "    message = state['messages'][-1]\n",
    "    if hasattr(message,\"tool_calls\") and len(message.tool_calls)>0:\n",
    "        return \"tools\"\n",
    "    return END\n",
    "    "
   ]
  },
  {
   "cell_type": "code",
   "execution_count": 37,
   "id": "dde6d83b",
   "metadata": {},
   "outputs": [
    {
     "data": {
      "image/png": "[encoded data removed]",
      "text/plain": [
       "<langgraph.graph.state.CompiledStateGraph object at 0x79aa2094bef0>"
      ]
     },
     "execution_count": 37,
     "metadata": {},
     "output_type": "execute_result"
    }
   ],
   "source": [
    "builder = StateGraph(agentState)\n",
    "\n",
    "# add nodes\n",
    "builder.add_node(\"bot\",chat)\n",
    "builder.add_node(\"tools\",tool_node)\n",
    "\n",
    "# add edges\n",
    "builder.add_edge(START,\"bot\")\n",
    "builder.add_conditional_edges(\"bot\",route_tools,{\"tools\":\"tools\",END:END})\n",
    "builder.add_edge(\"tools\",\"bot\")\n",
    "agent = builder.compile()\n",
    "agent"
   ]
  },
  {
   "cell_type": "code",
   "execution_count": 38,
   "id": "fe955e1f",
   "metadata": {},
   "outputs": [
    {
     "name": "stdout",
     "output_type": "stream",
     "text": [
      "================================\u001b[1m Human Message \u001b[0m=================================\n",
      "\n",
      "how is weather in Mumbai today?\n",
      "None\n",
      "==================================\u001b[1m Ai Message \u001b[0m==================================\n",
      "Tool Calls:\n",
      "  get_current_weather (call_zgezjjqOhOmKmiNRJykyw46q)\n",
      " Call ID: call_zgezjjqOhOmKmiNRJykyw46q\n",
      "  Args:\n",
      "    city: Mumbai\n",
      "None\n",
      "=================================\u001b[1m Tool Message \u001b[0m=================================\n",
      "Name: get_current_weather\n",
      "\n",
      "{\"city\": \"Mumbai\", \"weather\": \"overcast clouds\", \"temperature\": 299.14, \"unit\": \"kelvin\"}\n",
      "None\n",
      "==================================\u001b[1m Ai Message \u001b[0m==================================\n",
      "\n",
      "The weather in Mumbai today is characterized by overcast clouds, with a temperature of approximately 299.14 K (which is about 26.0°C).\n",
      "None\n"
     ]
    }
   ],
   "source": [
    "for step in agent.stream({\"messages\":[{\"role\":\"user\",\"content\":\"how is weather in Mumbai today?\"}]},\n",
    "                         stream_mode='values'):\n",
    "    print(step[\"messages\"][-1].pretty_print())"
   ]
  },
  {
   "cell_type": "code",
   "execution_count": 39,
   "id": "328af275",
   "metadata": {},
   "outputs": [
    {
     "name": "stdout",
     "output_type": "stream",
     "text": [
      "================================\u001b[1m Human Message \u001b[0m=================================\n",
      "\n",
      "who won the noble peace prize in 2020?\n",
      "None\n",
      "==================================\u001b[1m Ai Message \u001b[0m==================================\n",
      "\n",
      "The Nobel Peace Prize in 2020 was awarded to the World Food Programme (WFP) for its efforts to combat hunger, contribute to bettering conditions for peace in conflict-affected areas, and act as a driving force in efforts to prevent the use of hunger as a weapon of war and conflict.\n",
      "None\n"
     ]
    }
   ],
   "source": [
    "for step in agent.stream({\"messages\":[{\"role\":\"user\",\"content\":\"who won the noble peace prize in 2020?\"}]},\n",
    "                         stream_mode='values'):\n",
    "    print(step[\"messages\"][-1].pretty_print())"
   ]
  },
  {
   "cell_type": "code",
   "execution_count": null,
   "id": "434cfc66",
   "metadata": {},
   "outputs": [],
   "source": []
  }
 ],
 "metadata": {
  "kernelspec": {
   "display_name": "genai",
   "language": "python",
   "name": "python3"
  },
  "language_info": {
   "codemirror_mode": {
    "name": "ipython",
    "version": 3
   },
   "file_extension": ".py",
   "mimetype": "text/x-python",
   "name": "python",
   "nbconvert_exporter": "python",
   "pygments_lexer": "ipython3",
   "version": "3.12.3"
  }
 },
 "nbformat": 4,
 "nbformat_minor": 5
}
