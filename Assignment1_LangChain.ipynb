{
 "cells": [
  {
   "cell_type": "markdown",
   "id": "1efb5833",
   "metadata": {},
   "source": [
    "# Assignment: Real-Time Market Sentiment Analyzer Using LangChain and LangGraph"
   ]
  },
  {
   "cell_type": "markdown",
   "id": "e1793257",
   "metadata": {},
   "source": [
    "### Objective\n",
    "Build a LangChain-powered pipeline (Chain) that:\n",
    "1. Accepts a company name as input.\n",
    "2. Extracts or generates its stock code.\n",
    "3. Uses finance news search tools in LangChain to fetch news about the company.\n",
    "4. Sends the news to an LLM (Azure OpenAI GPT-4o or GPT-4o-mini) to generate a\n",
    "structured sentiment profile.\n",
    "5. Outputs the result as a JSON object.\n",
    "6. Uses mlflow for tracing, prompt debugging, and monitoring.\n",
    "Tech Stack & Tools\n",
    "• Framework: LangChain\n",
    "• LLM: GPT-4o or GPT-4o-mini (deployed via Azure OpenAI)\n",
    "• Data Source: GOAT / Yahoo Finance tool / Brave Search / Exa Search in LangChain\n",
    "• Prompt Management & Observability: mlflow\n",
    "• Environment: Python (v3.10+ recommended)\n",
    "Tasks Breakdown\n",
    "Step 1: Accept Input\n",
    "• Accept a company name as input (e.g., \"Apple Inc\").\n",
    "Step 2: Get Stock Code\n",
    "• Generate or extract the stock ticker/symbol using:\n",
    "o Either a static lookup table or an API/tool (like Yahoo Finance OR GOAT Symbol\n",
    "Suggest).\n",
    "o Integrate this as the first link in your chain.\n",
    "Step 3: Fetch Company News\n",
    "• Use LangChain’s integration with new search tools to fetch the latest news for the\n",
    "extracted stock symbol.\n",
    "• Extract a concise list of recent headlines or article summaries.\n",
    "Step 4: Analyze Sentiment with GPT-4o / GPT-4o-mini\n",
    "• Pass the news summaries to the GPT-4o model via LangChain with a prompt that asks\n",
    "the LLM to:\n",
    "o Classify sentiment.\n",
    "o Extract named entities: people, places, other companies.\n",
    "o Provide a structured JSON with the following fields:\n",
    "{\n",
    "\"company_name\": \"\",\n",
    "\"stock_code\": \"\",\n",
    "\"newsdesc\": \"\",\n",
    "\"sentiment\": \"Positive/Negative/Neutral\",\n",
    "\"people_names\": [],\n",
    "\"places_names\": [],\n",
    "\"other_companies_referred\": [],\n",
    "\"related_industries\": [],\n",
    "\"market_implications\": \"\",\n",
    "\"confidence_score\": 0.0\n",
    "}\n",
    "Tip: Use StructuredOutputParser from LangChain or PydanticOutputParser for JSON formatting.\n",
    "Step 5: Integrate mlflow\n",
    "• Log prompts, outputs, and metadata using mlflow.\n",
    "• Add tracing spans for:\n",
    "o Stock code extraction.\n",
    "o News fetching.\n",
    "o Sentiment parsing.\n",
    "Deliverables\n",
    "1. Python Script / Notebook (.py or .ipynb) with:\n",
    "o Full implementation of the chain.\n",
    "o LangChain Chain definition.\n",
    "o Proper use of Azure OpenAI APIs and mlflow.\n",
    "2. README with:\n",
    "o Setup instructions.\n",
    "o Azure and mlflow API configuration steps.\n",
    "o Sample command to run the chain.\n",
    "3. Sample Output JSON with a real example for a company like \"Microsoft\".\n",
    "Bonus Ideas (Optional)\n",
    "• Add entity linking for extracted people and companies (e.g., using Wikipedia or\n",
    "LinkedIn).\n",
    "• Visualize sentiment trend if historical news is considered.\n",
    "• Use LangChain's MultiPromptChain to classify and then process different types of\n",
    "news differently.\n"
   ]
  },
  {
   "cell_type": "markdown",
   "id": "ed6e552d",
   "metadata": {},
   "source": [
    "# Installation and Library Imports"
   ]
  },
  {
   "cell_type": "code",
   "execution_count": 1,
   "id": "28e23646",
   "metadata": {},
   "outputs": [],
   "source": [
    "#!python -m pip install langchain langchain-core langchain-community langchain-experimental --quiet\n",
    "#!python -m pip install langchain-openai --quiet\n",
    "#!python -m pip install langchain-exa --quiet\n",
    "#!python -m pip install -U duckduckgo-search --quiet"
   ]
  },
  {
   "cell_type": "code",
   "execution_count": 25,
   "id": "8862460b",
   "metadata": {},
   "outputs": [],
   "source": [
    "import logging\n",
    "from typing import Optional, Dict, Any\n",
    "\n",
    "import mlflow\n",
    "import yfinance as yf\n",
    "from langchain.chat_models import AzureChatOpenAI\n",
    "from langchain.tools import tool\n",
    "from langchain.output_parsers import StructuredOutputParser, ResponseSchema\n",
    "from langchain.prompts import ChatPromptTemplate\n",
    "from langgraph.graph import StateGraph, END\n",
    "from langchain_community.tools import DuckDuckGoSearchRun\n",
    "from langgraph.prebuilt import ToolNode\n",
    "from langchain.tools import StructuredTool\n",
    "from langchain_exa import ExaSearchRetriever\n",
    "from typing import TypedDict\n",
    "import os, requests\n",
    "import mlflow"
   ]
  },
  {
   "cell_type": "markdown",
   "id": "b8353600",
   "metadata": {},
   "source": [
    "### Set llm model and mlflow"
   ]
  },
  {
   "cell_type": "code",
   "execution_count": 3,
   "id": "2bbe9485",
   "metadata": {},
   "outputs": [],
   "source": [
    "from langchain_openai import AzureChatOpenAI\n",
    "model_name='gpt4o'\n",
    "\n",
    "model = AzureChatOpenAI(model=model_name)"
   ]
  },
  {
   "cell_type": "code",
   "execution_count": 26,
   "id": "074e60b2",
   "metadata": {},
   "outputs": [
    {
     "data": {
      "text/plain": [
       "<Experiment: artifact_location='mlflow-artifacts:/548600595295884550', creation_time=1758355346062, experiment_id='548600595295884550', last_update_time=1758355346062, lifecycle_stage='active', name='shubhda-stock-market-analyzer', tags={}>"
      ]
     },
     "execution_count": 26,
     "metadata": {},
     "output_type": "execute_result"
    }
   ],
   "source": [
    "# use it as a chatmodel - pass a chatprompt\n",
    "import mlflow\n",
    "mlflow.set_tracking_uri(\"http://20.75.92.162:5000/\")\n",
    "mlflow.set_experiment(\"shubhda-stock-market-analyzer\")\n",
    "\n"
   ]
  },
  {
   "cell_type": "markdown",
   "id": "63e50715",
   "metadata": {},
   "source": [
    "### Set logger"
   ]
  },
  {
   "cell_type": "code",
   "execution_count": 27,
   "id": "23109782",
   "metadata": {},
   "outputs": [],
   "source": [
    "logging.basicConfig(\n",
    "    level=logging.INFO,\n",
    "    format=\"%(asctime)s [%(levelname)s] %(message)s\",\n",
    "    handlers=[logging.StreamHandler()]\n",
    ")\n",
    "logger = logging.getLogger(__name__)"
   ]
  },
  {
   "cell_type": "markdown",
   "id": "c7bb22da",
   "metadata": {},
   "source": [
    "### Set Environment Variables"
   ]
  },
  {
   "cell_type": "code",
   "execution_count": 28,
   "id": "13d34608",
   "metadata": {},
   "outputs": [],
   "source": [
    "import os\n",
    "AZURE_OPENAI_DEPLOYMENT = os.getenv(\"AZURE_OPENAI_DEPLOYMENT\", \"gpt-4o\")\n",
    "AZURE_OPENAI_API_KEY = os.getenv(\"AZURE_OPENAI_API_KEY\")\n",
    "AZURE_OPENAI_ENDPOINT = os.getenv(\"AZURE_OPENAI_ENDPOINT\")\n",
    "AZURE_OPENAI_API_VERSION = os.getenv(\"AZURE_OPENAI_API_VERSION\", \"2024-05-01-preview\")\n",
    "if not AZURE_OPENAI_API_KEY or not AZURE_OPENAI_ENDPOINT:\n",
    "    logger.error(\"Azure OpenAI credentials are missing. Please set environment variables.\")\n",
    "    raise EnvironmentError(\"Missing Azure OpenAI API key or endpoint.\")"
   ]
  },
  {
   "cell_type": "markdown",
   "id": "750bde23",
   "metadata": {},
   "source": [
    "### Functions for getting Stock code and News Search.\n",
    "### These will take company_name as input and return the Ticker and News related to Company"
   ]
  },
  {
   "cell_type": "code",
   "execution_count": 29,
   "id": "d7f374f3",
   "metadata": {},
   "outputs": [],
   "source": [
    "import requests\n",
    "\n",
    "STATIC_TICKERS = {\n",
    "    \"Apple Inc\": \"AAPL\",\n",
    "    \"Microsoft\": \"MSFT\",\n",
    "    \"Amazon\": \"AMZN\",\n",
    "    \"Alphabet\": \"GOOGL\",\n",
    "    \"Google\": \"GOOGL\",\n",
    "    \"Tesla\": \"TSLA\",\n",
    "    \"Meta\": \"META\",\n",
    "    \"Nvidia\": \"NVDA\",\n",
    "}\n",
    "\n",
    "def get_stock_code(company_name: str) -> str:\n",
    "    \"\"\"Resolve company name to stock ticker using static table + Yahoo Finance autocomplete.\"\"\"\n",
    "    try:\n",
    "        # 1. Static lookup\n",
    "        if company_name in STATIC_TICKERS:\n",
    "            return STATIC_TICKERS[company_name]\n",
    "\n",
    "        # 2. Yahoo Finance symbol suggest API\n",
    "        url = f\"https://query1.finance.yahoo.com/v1/finance/search?q={company_name}\"\n",
    "        resp = requests.get(url, timeout=5)\n",
    "        if resp.status_code == 200:\n",
    "            data = resp.json()\n",
    "            if \"quotes\" in data and data[\"quotes\"]:\n",
    "                return data[\"quotes\"][0].get(\"symbol\", \"UNKNOWN\").upper()\n",
    "\n",
    "        return \"UNKNOWN\"\n",
    "    except Exception as e:\n",
    "        return \"UNKNOWN\"\n",
    "\n",
    "\n",
    "\n",
    "def fetch_company_news(company_name: str, stock_code: str = None) -> str:\n",
    "    \"\"\"Fetch company news from Brave → Exa → DuckDuckGo, whichever is available.\"\"\"\n",
    "    query = f\"{company_name} stock market news\"\n",
    "\n",
    "    # 1. Exa Search\n",
    "    exa_key = os.getenv(\"EXA_API_KEY\")\n",
    "    if exa_key:\n",
    "        try:\n",
    "            from langchain_exa import ExaSearchRetriever\n",
    "            retriever = ExaSearchRetriever(api_key=exa_key, k=5)  # top 5 docs\n",
    "            docs = retriever.get_relevant_documents(query)\n",
    "            if docs:\n",
    "                headlines = [f\"- {doc.page_content}\" for doc in docs]\n",
    "                if headlines:\n",
    "                    print(\"[INFO] News provider: Exa\")\n",
    "                    \n",
    "                    mlflow.log_param(\"news_provider\", \"Exa\")\n",
    "                    \n",
    "                    return \"\\n\".join(headlines)\n",
    "        except Exception as e:\n",
    "            print(f\"[WARN] Exa search failed: {e}\")\n",
    "\n",
    "    # 2. DuckDuckGo Fallback\n",
    "    try:\n",
    "        from langchain_community.tools import DuckDuckGoSearchRun\n",
    "        search = DuckDuckGoSearchRun()\n",
    "        results = search.run(query)\n",
    "        if results:\n",
    "            mlflow.log_param(\"news_provider\", \"DuckDuckGo\")\n",
    "            return results[:2000]\n",
    "    except Exception as e:\n",
    "        print(f\"[WARN] DuckDuckGo failed: {e}\")\n",
    "\n",
    "    # Final fallback\n",
    "    return f\"No news found for {company_name}\"\n"
   ]
  },
  {
   "cell_type": "markdown",
   "id": "33968081",
   "metadata": {},
   "source": [
    "### Functions for output_parser to display information"
   ]
  },
  {
   "cell_type": "code",
   "execution_count": 30,
   "id": "c1654c88",
   "metadata": {},
   "outputs": [],
   "source": [
    "# ---------------------------------------------------------\n",
    "# Sentiment LLM Node\n",
    "# ---------------------------------------------------------\n",
    "def response_parser():\n",
    "    response_schemas = [\n",
    "        ResponseSchema(name=\"company_name\", description=\"Name of the company\"),\n",
    "        ResponseSchema(name=\"stock_code\", description=\"Ticker symbol\"),\n",
    "        ResponseSchema(name=\"newsdesc\", description=\"Concise summary of news\"),\n",
    "        ResponseSchema(name=\"sentiment\", description=\"Positive/Negative/Neutral\"),\n",
    "        ResponseSchema(name=\"people_names\", description=\"List of people\"),\n",
    "        ResponseSchema(name=\"places_names\", description=\"List of places\")\n",
    "        \n",
    "    ]\n",
    "    output_parser = StructuredOutputParser.from_response_schemas(response_schemas)\n",
    "\n",
    "    return output_parser\n",
    "\n"
   ]
  },
  {
   "cell_type": "code",
   "execution_count": 31,
   "id": "65fb4e5a",
   "metadata": {},
   "outputs": [],
   "source": [
    "parser=response_parser()\n",
    "format_instructions = parser.get_format_instructions()"
   ]
  },
  {
   "cell_type": "markdown",
   "id": "3a34862b",
   "metadata": {},
   "source": [
    "### ChatpromptTemplate and llm model\n"
   ]
  },
  {
   "cell_type": "code",
   "execution_count": 32,
   "id": "f643397b",
   "metadata": {},
   "outputs": [],
   "source": [
    "initial_template = \"\"\"\n",
    "    You are a financial sentiment analyzer.\n",
    "    Given the following company ({company_name}, {stock_code}) and its recent news,\n",
    "    classify sentiment and extract structured entities.\n",
    "\n",
    "    News:\n",
    "    {news}\n",
    "\n",
    "    {format_instructions}\n",
    "    \"\"\""
   ]
  },
  {
   "cell_type": "code",
   "execution_count": 33,
   "id": "f391eb5b",
   "metadata": {},
   "outputs": [
    {
     "name": "stderr",
     "output_type": "stream",
     "text": [
      "2025/09/29 12:15:03 INFO mlflow.store.model_registry.abstract_store: Waiting up to 300 seconds for prompt version to finish creation. Prompt name: shubhda-marketsentiment-prompt1, version 1\n"
     ]
    },
    {
     "name": "stdout",
     "output_type": "stream",
     "text": [
      "Created prompt 'shubhda-marketsentiment-prompt1' (version 1)\n"
     ]
    }
   ],
   "source": [
    "# Register a new prompt\n",
    "initial_prompt = mlflow.genai.register_prompt(\n",
    "    name=\"shubhda-marketsentiment-prompt1\",\n",
    "    template=initial_template,\n",
    "    # Optional: Provide a commit message to describe the changes\n",
    "    commit_message=\"Initial commit\",\n",
    "    # Optional: Set tags applies to the prompt (across versions)\n",
    "    tags={\n",
    "        \"author\": \"Shubhda Datta\",\n",
    "        \"task\": \"sentiment-analyser\",\n",
    "        \"language\": \"en\",\n",
    "        'llm': 'gpt-4o'\n",
    "    },\n",
    ")\n",
    "\n",
    "# The prompt object contains information about the registered prompt\n",
    "print(f\"Created prompt '{initial_prompt.name}' (version {initial_prompt.version})\")"
   ]
  },
  {
   "cell_type": "code",
   "execution_count": 34,
   "id": "c0f7d87e",
   "metadata": {},
   "outputs": [
    {
     "name": "stderr",
     "output_type": "stream",
     "text": [
      "2025/09/29 12:15:17 INFO mlflow.store.model_registry.abstract_store: Waiting up to 300 seconds for prompt version to finish creation. Prompt name: shubhda-marketsentiment-prompt1, version 2\n"
     ]
    }
   ],
   "source": [
    "new_template = \"\"\"\\\n",
    "You are a financial sentiment analyzer.\n",
    "    Given the following company ({company_name}, {stock_code}) and its recent news,\n",
    "    classify sentiment as positive, negative or neutal and identify structured entities.\n",
    "\n",
    "    News:\n",
    "    {news}\n",
    "    format_instructions:\n",
    "    {format_instructions}\n",
    "    \"\"\"\n",
    "\n",
    "# Register a new version of an existing prompt\n",
    "updated_prompt = mlflow.genai.register_prompt(\n",
    "    name=\"shubhda-marketsentiment-prompt1\",  # Specify the existing prompt name\n",
    "    template=new_template,\n",
    "    commit_message=\"Improvement\",\n",
    "    tags={\n",
    "        \"author\": \"Shubhda Datta\",\n",
    "    },\n",
    ")"
   ]
  },
  {
   "cell_type": "code",
   "execution_count": 35,
   "id": "eaab1acf",
   "metadata": {},
   "outputs": [
    {
     "name": "stderr",
     "output_type": "stream",
     "text": [
      "/tmp/ipykernel_3045/2911019598.py:5: LangChainDeprecationWarning: The class `AzureChatOpenAI` was deprecated in LangChain 0.0.10 and will be removed in 1.0. An updated version of the class exists in the :class:`~langchain-openai package and should be used instead. To use it run `pip install -U :class:`~langchain-openai` and import as `from :class:`~langchain_openai import AzureChatOpenAI``.\n",
      "  model = AzureChatOpenAI(\n"
     ]
    }
   ],
   "source": [
    "# Load the prompt\n",
    "import mlflow\n",
    "\n",
    "mlflow_prompt = mlflow.genai.load_prompt(\"prompts:/shubhda-marketsentiment-prompt1/1\") # prompts:/<prompt-name>/<prompt-version>\n",
    "model = AzureChatOpenAI(\n",
    "    deployment_name=os.getenv(\"AZURE_OPENAI_DEPLOYMENT\"),  # e.g. \"gpt-4o\"\n",
    "    openai_api_version=os.getenv(\"AZURE_OPENAI_API_VERSION\"),\n",
    "    azure_endpoint=os.getenv(\"AZURE_OPENAI_ENDPOINT\"),\n",
    "    api_key=os.getenv(\"AZURE_OPENAI_API_KEY\"),\n",
    "    temperature=0,\n",
    ")\n"
   ]
  },
  {
   "cell_type": "code",
   "execution_count": 36,
   "id": "92db5eaa",
   "metadata": {},
   "outputs": [
    {
     "data": {
      "text/plain": [
       "'\\n    You are a financial sentiment analyzer.\\n    Given the following company ({company_name}, {stock_code}) and its recent news,\\n    classify sentiment and extract structured entities.\\n\\n    News:\\n    {news}\\n\\n    {format_instructions}\\n    '"
      ]
     },
     "execution_count": 36,
     "metadata": {},
     "output_type": "execute_result"
    }
   ],
   "source": [
    "mlflow_prompt.template"
   ]
  },
  {
   "cell_type": "code",
   "execution_count": 37,
   "id": "b441416a",
   "metadata": {},
   "outputs": [],
   "source": [
    "prompt= ChatPromptTemplate.from_template(mlflow_prompt.template)"
   ]
  },
  {
   "cell_type": "code",
   "execution_count": 38,
   "id": "ee367c13",
   "metadata": {},
   "outputs": [
    {
     "data": {
      "text/plain": [
       "ChatPromptTemplate(input_variables=['company_name', 'format_instructions', 'news', 'stock_code'], input_types={}, partial_variables={}, messages=[HumanMessagePromptTemplate(prompt=PromptTemplate(input_variables=['company_name', 'format_instructions', 'news', 'stock_code'], input_types={}, partial_variables={}, template='\\n    You are a financial sentiment analyzer.\\n    Given the following company ({company_name}, {stock_code}) and its recent news,\\n    classify sentiment and extract structured entities.\\n\\n    News:\\n    {news}\\n\\n    {format_instructions}\\n    '), additional_kwargs={})])"
      ]
     },
     "execution_count": 38,
     "metadata": {},
     "output_type": "execute_result"
    }
   ],
   "source": [
    "prompt"
   ]
  },
  {
   "cell_type": "markdown",
   "id": "b7bae4e3",
   "metadata": {},
   "source": [
    "### Building Langchain"
   ]
  },
  {
   "cell_type": "code",
   "execution_count": 39,
   "id": "c0c4fec2",
   "metadata": {},
   "outputs": [
    {
     "data": {
      "text/plain": [
       "ChatPromptTemplate(input_variables=['company_name', 'format_instructions', 'news', 'stock_code'], input_types={}, partial_variables={}, messages=[HumanMessagePromptTemplate(prompt=PromptTemplate(input_variables=['company_name', 'format_instructions', 'news', 'stock_code'], input_types={}, partial_variables={}, template='\\n    You are a financial sentiment analyzer.\\n    Given the following company ({company_name}, {stock_code}) and its recent news,\\n    classify sentiment and extract structured entities.\\n\\n    News:\\n    {news}\\n\\n    {format_instructions}\\n    '), additional_kwargs={})])\n",
       "| AzureChatOpenAI(client=<openai.resources.chat.completions.completions.Completions object at 0x7d5b97f8d160>, async_client=<openai.resources.chat.completions.completions.AsyncCompletions object at 0x7d5b977d4ce0>, temperature=0.0, model_kwargs={}, openai_api_key='5435c815c889492d83acfa3493bf02ac', openai_proxy='', azure_endpoint='https://eastus.api.cognitive.microsoft.com/', deployment_name='gpt4o', openai_api_version='2024-08-01-preview', openai_api_type='azure')\n",
       "| StructuredOutputParser(response_schemas=[ResponseSchema(name='company_name', description='Name of the company', type='string'), ResponseSchema(name='stock_code', description='Ticker symbol', type='string'), ResponseSchema(name='newsdesc', description='Concise summary of news', type='string'), ResponseSchema(name='sentiment', description='Positive/Negative/Neutral', type='string'), ResponseSchema(name='people_names', description='List of people', type='string'), ResponseSchema(name='places_names', description='List of places', type='string')])"
      ]
     },
     "execution_count": 39,
     "metadata": {},
     "output_type": "execute_result"
    }
   ],
   "source": [
    "\n",
    "chain= prompt | model | parser\n",
    "chain"
   ]
  },
  {
   "cell_type": "markdown",
   "id": "ce47e5f4",
   "metadata": {},
   "source": [
    "### Building Langgraph"
   ]
  },
  {
   "cell_type": "code",
   "execution_count": 40,
   "id": "767762f1",
   "metadata": {},
   "outputs": [],
   "source": [
    "# -------------------------------\n",
    "# Graph Definition\n",
    "# -------------------------------\n",
    "\n",
    "def build_graph():\n",
    "    graph = StateGraph(dict)\n",
    "\n",
    "    from langchain_core.runnables import RunnableLambda\n",
    "\n",
    "    # Node 1: Lookup stock ticker\n",
    "    graph.add_node(\n",
    "        \"stock_lookup\",\n",
    "        RunnableLambda(lambda state: {\n",
    "            **state,\n",
    "            \"stock_code\": get_stock_code(state[\"company_name\"])\n",
    "        })\n",
    "    )\n",
    "\n",
    "    # Node 2: Fetch news\n",
    "    graph.add_node(\n",
    "    \"news_fetch\",\n",
    "    RunnableLambda(lambda state: {\n",
    "        **state,\n",
    "        \"news\": fetch_company_news(state[\"company_name\"], state.get(\"stock_code\"))\n",
    "    })\n",
    "    )\n",
    "\n",
    "    graph.add_node(\n",
    "        \"sentiment\",\n",
    "        RunnableLambda(lambda state: {\n",
    "            **state,\n",
    "            \"result\": chain.invoke({\n",
    "                \"company_name\": state.get(\"company_name\", \"UNKNOWN\"),\n",
    "                \"stock_code\": state.get(\"stock_code\", \"UNKNOWN\"),\n",
    "                \"news\": state.get(\"news\", \"No news available\"),\n",
    "                \"format_instructions\": format_instructions\n",
    "            })\n",
    "        })\n",
    "    )\n",
    "    \n",
    "\n",
    "    graph.set_entry_point(\"stock_lookup\")\n",
    "    graph.add_edge(\"stock_lookup\", \"news_fetch\")\n",
    "    graph.add_edge(\"news_fetch\", \"sentiment\")\n",
    "    graph.add_edge(\"sentiment\", END)\n",
    "\n",
    "    return graph.compile()\n"
   ]
  },
  {
   "cell_type": "markdown",
   "id": "0fc542ca",
   "metadata": {},
   "source": [
    "### Getting sentiment using function and registering with mlflow."
   ]
  },
  {
   "cell_type": "code",
   "execution_count": 41,
   "id": "02f5b8cc",
   "metadata": {},
   "outputs": [],
   "source": [
    "# -------------------------------\n",
    "# Run\n",
    "# -------------------------------\n",
    "import json\n",
    "def analyze_company_sentiment(company_name: str):\n",
    "    mlflow.set_experiment(\"market-sentiment-graph\")\n",
    "\n",
    "    with mlflow.start_run(run_name=company_name):\n",
    "        graph = build_graph()\n",
    "        result = graph.invoke({\"company_name\": company_name})\n",
    "        mlflow.log_text(json.dumps(result, indent=2), \"sentiment.json\")\n",
    "        return result"
   ]
  },
  {
   "cell_type": "markdown",
   "id": "2153559e",
   "metadata": {},
   "source": [
    "###  Some sample Output data"
   ]
  },
  {
   "cell_type": "code",
   "execution_count": 42,
   "id": "ba32228e",
   "metadata": {},
   "outputs": [
    {
     "name": "stdout",
     "output_type": "stream",
     "text": [
      "[INFO] News provider: Exa\n"
     ]
    },
    {
     "name": "stderr",
     "output_type": "stream",
     "text": [
      "2025-09-29 12:16:59,815 [INFO] HTTP Request: POST https://eastus.api.cognitive.microsoft.com/openai/deployments/gpt4o/chat/completions?api-version=2024-08-01-preview \"HTTP/1.1 200 OK\"\n"
     ]
    },
    {
     "name": "stdout",
     "output_type": "stream",
     "text": [
      "🏃 View run Microsoft at: http://20.75.92.162:5000/#/experiments/391555380109070687/runs/765b51cc23eb4af1b6056a3d350aa8ac\n",
      "🧪 View experiment at: http://20.75.92.162:5000/#/experiments/391555380109070687\n",
      "{\n",
      "  \"company_name\": \"Microsoft\",\n",
      "  \"stock_code\": \"MSFT\",\n",
      "  \"news\": \"- Oops, something went wrong\\n\\n[Skip to navigation](https://finance.yahoo.com/finance.yahoo.com#ybar-navigation) [Skip to main content](https://finance.yahoo.com/finance.yahoo.com#nimbus-app) [Skip to right column](https://finance.yahoo.com/finance.yahoo.com#right-rail)\\n\\n# Microsoft Corp. (MSFT) Rallied in Q2, Driven by Azure growth\\n\\n[Soumya Eswaran](https://finance.yahoo.com/author/)\\n\\nMon, September 22, 2025 at 6:48 AM MDT3 min read\\n\\n- [StockStory Top Pick](https://stockstory.org/high-quality/top-6-to-buy-this-week?partner=yahoo&utm_source=yahoo&utm_medium=content_ticker&utm_campaign=contenthighqualitystock)\\n\\n\\n\\n[MSFT\\\\\\n -0.57%](https://finance.yahoo.com/quote/MSFT/)\\n\\n\\n[Macquarie Asset Management](https://www.insidermonkey.com/institutional-investor/macquarie-group-ltd/44256/), an investment management company, released its \\u201cMacquarie Large Cap Growth Fund\\u201d investor letter for the second quarter of 2025. A copy of the letter can be [downloaded here](https://www.insidermonkey.com/blog/macquarie-large-cap-growth-funds-q2-2025-investor-letter-1614219/). The second quarter of 2025 endured significant government policy changes and geopolitical events, which resulted in volatility yet ended with robust performance for equity markets. The Fund\\u2019s Institutional Class shares posted an absolute positive return of 11.24% in the quarter, but underperformed the benchmark, the Russell 1000 Growth Index, which returned 17.84%. For more information on the fund\\u2019s best picks in 2025, please check its top five holdings.\\n\\nIn its second-quarter 2025 investor letter, the Macquarie Large Cap Growth Fund highlighted stocks such as Microsoft Corporation (NASDAQ: [MSFT](https://finance.yahoo.com/quote/MSFT)). Microsoft Corporation (NASDAQ:MSFT) is a multinational software company that develops and supports software, services, devices, and solutions. The one-month return of Microsoft Corporation (NASDAQ:MSFT) was 2.71%, and its shares gained 19.47% of their value over the last 52 weeks. On September 19, 2025, Microsoft Corporation (NASDAQ:MSFT) stock closed at $517.93 per share, with a market capitalization of $3.85 trillion.\\n\\nMacquarie Large Cap Growth Fund stated the following regarding Microsoft Corporation (NASDAQ:MSFT) in its second quarter 2025 investor letter:\\n\\n> \\\"The largest contributors were our underweight to Apple Inc., underweight to Eli Lilly and Co., and position in **Microsoft Corporation** (NASDAQ:MSFT). Microsoft, a significant position in the portfolio, rallied following better-than-expected results. The business demonstrated strength across every segment, but what particularly encouraged the market was accelerated growth of its cloud computing platform Azure. While AI services continue to contribute meaningfully to Azure growth, the segment also saw strength in Azure cloud (non-AI) services as companies continue to recognize the importance of moving from on-premises to cloud.\\\"\\n\\nMicrosoft (MSFT) Stock: Truist Raises Price Target to $675, Reiterates Buy\\n\\nMicrosoft Corporation (NASDAQ:MSFT) is in second position our list of\\u00a0[30 Most Popular Stocks Among Hedge Funds](https://www.insidermonkey.com/blog/30-most-popular-stocks-among-hedge-funds-2024-q3-1415561/). As per our database, 294 hedge fund portfolios held Microsoft Corporation (NASDAQ:MSFT) at the end of the second quarter compared to 284 in the previous quarter. In the fourth quarter of fiscal year 2025, Microsoft Corporation (NASDAQ: MSFT) reported\\u00a0[revenue](https://www.insidermonkey.com/blog/microsoft-corporation-nasdaqmsft-q4-2025-earnings-call-transcript-1581776/) of $76.4 billion, representing an 18% increase, or 17% when adjusted for constant currency. While we acknowledge the potential of Microsoft Corporation (NASDAQ:MSFT) as an investment, we believe certain AI stocks offer greater upside potential and carry less downside risk. If you're looking for an extremely undervalued AI stock that also stands to benefit significantly from Trump-era tariffs and the onshoring trend, see our free report on the [**best short-term AI stock**](https://www.insidermonkey.com/blog/three-megatrends-one-overlooked-stock-massive-upside-1548959/).\\n\\nStory Continues\\n\\nIn\\u00a0[another article](https://www.insidermonkey.com/blog/10-ai-stocks-making-big-moves-on-wall-street-1613547/), we covered Microsoft Corporation (NASDAQ:MSFT) and shared the list of AI stocks making big moves on Wall Street. In addition, please check out our [hedge fund investor letters Q2 2025](https://www.insidermonkey.com/blog/hedge-fund-investor-letters-q2-2025-1563210/) page for more investor letters from hedge funds and other leading investors.\\n\\nREAD NEXT:\\u00a0[The Best and Worst Dow Stocks for the Next 12 Months](https://www.insidermonkey.com/blog/the-best-and-worst-dow-stocks-for-the-next-12-months-1520028/?singlepage=1)\\u00a0and\\u00a0[10 Unstoppable Stocks That Could Double Your Money](https://www.insidermonkey.com/blog/10-unstoppable-stocks-that-could-double-your-money-1500171/?singlepage=1).\\n\\nDisclosure: None. This article is originally published at [Insider Monkey](https://www.insidermonkey.com/blog/microsoft-corp-msft-rallied-in-q2-driven-by-azure-growth-1614248/).\\n\\nView Comments\\n\\n[Terms](https://guce.yahoo.com/terms?locale=en-US) and [Privacy Policy](https://guce.yahoo.com/privacy-policy?locale=en-US)\\n\\n[Your Privacy Choices](https://guce.yahoo.com/state-controls?locale=en-US&state=UT)\\n\\n[Utah Privacy Notice](https://guce.yahoo.com/state-controls?locale=en-US&state=UT)\\n\\n[More Info](https://finance.yahoo.com/more-info)\\n- ## languages\\n\\n[italian](javascript:void(0)) [english](javascript:void(0)) [german](javascript:void(0)) [chinese](javascript:void(0)) [korean](javascript:void(0)) [romanian](javascript:void(0)) [portuguese](javascript:void(0)) [spanish](javascript:void(0)) [Japanese](javascript:void(0))\\n\\nsetLang\\n\\n[Home](https://www.tradingnews.com/) [News](https://www.tradingnews.com/news) [Microsoft (NASDAQ:MSFT): A Must-Have Stock in 2025 for Growth and Innovation](https://www.tradingnews.com/news/microsoft-nasdaq-msft-a-must-have-stock-in-2025-for-growth-innovation)\\n\\n# Microsoft (NASDAQ:MSFT): A Must-Have Stock in 2025 for Growth and Innovation\\n\\n## Given Microsoft\\u2019s recent 4.13% YTD gain and dominance in the cloud space, is it a wise move for investors to buy MSFT at its current price of $441? How do its strong earnings, innovative advancements, and market leadership impact the stock\\u2019s potential? \\\\| That's TradingNEWS\\n\\nTradingNEWS Archive5/12/2025 5:45:15 PM\\n\\n[Stocks](https://www.tradingnews.com/news/stocks) MSFTBABABIDUMELI\\n\\nShare\\n\\n### _**Microsoft (NASDAQ:MSFT): A Buy for Growth and Innovation**_\\n\\n#### _**Microsoft's Resilient Performance Amidst a Challenging Market**_\\n\\nIn 2025, **Microsoft (NASDAQ:MSFT)** has been one of the few stocks to demonstrate significant resilience, outperforming the broader market despite ongoing volatility. The **S&P 500** has struggled with a **3.59%** year-to-date (YTD) decline, and the **NASDAQ** has fallen **7.19%**, but **Microsoft\\u2019s stock** has posted a **4.13% YTD gain**. This outstanding performance can be attributed to the company\\u2019s strategic investments in cloud computing, artificial intelligence (AI), and its **Azure platform**, which continues to gain market share in the highly competitive cloud industry. Even in a market environment where many technology giants, often referred to as the \\\"Mag 7,\\\" have struggled, Microsoft\\u2019s ability to maintain positive growth trends places it among the top performers in the sector.\\n\\n#### _**Strong Financial Growth and Robust Earnings**_\\n\\nThe company\\u2019s **Q3 2025 results** highlighted its solid growth trajectory, showing **revenue** of **$70.07 billion**, a **13.3% increase** compared to the same period last year. The revenue growth was driven by consistent performance across all three business segments: **Intelligent Cloud**, **Productivity and Business Processes**, and **More Personal Computing**. These segments contributed to a diversified revenue stream that continues to strengthen Microsoft\\u2019s financial foundation.\\n\\n#### **_Intelligent Cloud: The Heart of Microsoft\\u2019s Growth_**\\n\\nThe **Intelligent Cloud** segment, which includes **Azure** and other cloud services, remains the key driver behind Microsoft's growth. For **Q3 2025**, this segment generated **$26.75 billion**, marking a **20.8% YoY increase**. Within this segment, **Azure**, which continues to dominate the cloud industry, reported a **33% growth** in revenue, further solidifying Microsoft\\u2019s position as a leader in **cloud computing**. As **AI services** and **data center infrastructure** become integral to businesses, Microsoft\\u2019s **cloud offerings** are poised for continued expansion. The company is also doubling down on its **capital expenditures**, with **$80 billion** allocated for infrastructure development, mostly focused on **AI-driven cloud services**.\\n\\nThe global market for **generative AI** is expected to grow from **$45 billion** to **$1.1 trillion** by **2028**, and Microsoft is investing heavily to capture this potential growth. Their strategic investments in **AI** infrastructure and the development of new data centers are expected to provide a long-term competitive edge. Microsoft's partnership with **OpenAI** is an example of how the company is positioning itself for future AI dominance, allowing it to integrate **AI capabilities** into its **cloud platform** and enhance services such as **Azure AI** and **Microsoft 365**.\\n\\n#### **_Productivity and Business Processes: Consistent Growth_**\\n\\nAnother major segment driving Microsoft\\u2019s strong earnings is its **Productivity and Business Processes** division, which includes products like **Microsoft 365**, **LinkedIn**, and **Dynamics**. This segment saw a **10.4% growth**, generating **$29.94 billion** in revenue. The **Microsoft 365** suite continues to be a crucial component of the business, with **commercial product sales** increasing by **11%**, primarily driven by **cloud-based services**. Meanwhile, **LinkedIn**, which operates as both a professional networking platform and a significant source of advertising revenue, reported a **7% revenue growth**. **Dynamics**, another key product in the productivity suite, grew by **11%**. The steady growth across these areas highlights the company\\u2019s ability to expand its offerings beyond the **cloud**.\\n\\n#### **_More Personal Computing: Strong Performance in Gaming and Search Advertising_**\\n\\nThe **More Personal Computing** segment, though smaller compared to the cloud and productivity divisions, continues to perform well. This segment, which includes **Windows**, **Xbox**, **search and news advertising**, and **device sales**, generated **$13.37 billion**, reflecting a **6.1% YoY growth**. Although **Xbox hardware sales** decreased by **6%**, the **gaming** division was bolstered by a **5% growth** in content and services, driven by services like **Xbox Game Pass** and the popularity of titles such as **Call of Duty** and **Minecraft**.\\n\\nThe **search and news advertising** aspect of the business also performed admirably, with a **15% increase in revenue**, adding **$449 million** to Microsoft\\u2019s total revenue. This demonstrates the company\\u2019s ability to leverage its search platform to generate consistent advertising revenue, even as the broader tech sector faces economic headwinds.\\n\\n#### **_Microsoft\\u2019s Cash Flow and Shareholder Returns_**\\n\\nMicrosoft continues to generate strong cash flow, supported by its **net cash position** of **$36.74 billion**. In **Q3 2025**, the company returned **$6.17 billion** to shareholders through dividends and **$4.24 billion** through share buybacks. These efforts underscore Microsoft\\u2019s commitment to enhancing shareholder value while maintaining a strong balance sheet. The company\\u2019s dividend payments and share repurchase program also reflect confidence in its ongoing growth and financial strength.\\n\\nThe company is in a strong financial position to continue rewarding investors, with a healthy **operating cash flow** of **$37.04 billion** in Q3 2025, a substantial increase from the previous year\\u2019s **$31.92 billion**. These numbers reflect the company's ability to sustain its operations, fund innovation, and distribute returns to shareholders.\\n\\n#### **_Valuation and Investment Potential_**\\n\\nDespite Microsoft's impressive growth, its **valuation** remains a point of discussion. The **P/S ratio** has increased to **12.08**, reflecting a **premium** relative to the sector\\u2019s median of **2.84**. While Microsoft\\u2019s valuation might seem high compared to the broader market, the company\\u2019s strong growth trajectory in **cloud services**, **AI**, and **quantum computing** justifies this premium. The **P/E ratio** of **31.8** is also on the higher end, but given the company\\u2019s growth, particularly in the **cloud** and **AI** sectors, it is a reasonable multiple for long-term investors.\\n\\nComparing Microsoft to its peers in the tech sector, it remains competitively priced. While **Oracle** (P/E: **35.4**) and **Palo Alto Networks** (P/E: **105.7**) trade at higher multiples, Microsoft\\u2019s **P/E** ratio and **P/S ratio** are more reasonable given its strong growth potential. Moreover, its focus on **AI** and **cloud infrastructure** gives it a unique competitive advantage, further justifying the stock's premium valuation.\\n\\n#### **_Future Outlook: Strong Guidance and Market Leadership_**\\n\\nFor **Q4 2025**, Microsoft has provided strong **guidance**, with projected **revenue growth** of **13.9%**, led by continued strength in its **Azure** and **cloud services** businesses. The company\\u2019s **guidance range** of **$73.15 billion to $74.25 billion** reflects a continued robust demand for **cloud infrastructure** and **AI services**, which will likely drive further growth in the coming quarters. Additionally, **Azure\\u2019s** continued dominance in the cloud space is expected to fuel Microsoft\\u2019s market leadership for years to come.\\n\\nMicrosoft\\u2019s focus on **quantum computing** also positions the company for long-term growth. The announcement of the world\\u2019s first **quantum processor** powered by **topological qubits** could revolutionize the computing industry, unlocking new opportunities in **AI**, **big data**, and other sectors. The quantum technology market is expected to reach **$173 billion by 2040**, providing Microsoft with significant upside potential in the future.\\n\\n#### **_Is Microsoft (NASDAQ:MSFT) a Buy, Sell, or Hold?_**\\n\\nConsidering Microsoft's strong financials, market leadership, and growth prospects, **MSFT** remains a **buy**. The company\\u2019s continued innovation in **cloud computing**, **AI**, and **quantum computing**, coupled with its strong cash flow, robust balance sheet, and ability to return value to shareholders, make it an attractive long-term investment. While its premium valuation is a factor to consider, Microsoft's ability to maintain a leading position in key growth sectors justifies its price.\\n\\nIn conclusion, Microsoft\\u2019s position as a leader in **cloud computing** and **AI** makes it a top-tier investment. The company's strong earnings performance, growth guidance, and continued investments in cutting-edge technologies provide solid support for its future growth. Therefore, for investors looking to capitalize on the future of **cloud computing** and **artificial intelligence**, **Microsoft (NASDAQ:MSFT)** remains an attractive buy at its current valuation.\\n\\nFor real-time updates on Microsoft (NASDAQ:MSFT), visit their [stock profile here](https://www.tradingnews.com/Stocks/MSFT/real_time_chart). You can also check insider transactions and other stock details [here](https://www.tradingnews.com/Stocks/MSFT/stock_profile/insider_transactions).\\n\\n### _**That's TradingNEWS**_\\n\\n### _Read More_\\n\\n- [IYRI ETF Secures $50.24 Price With 8.7% Yield as Fed Rate Cuts Revive Real Estate Income Play](https://www.tradingnews.com/news/iyri-etf-secures-50-usd-price-with-8-7-percent-yield)\\n\\n\\n28.09.2025 \\u00b7 TradingNEWS Archive\\n\\n[Stocks](https://www.tradingnews.com/news/stocks)\\n\\n- [Bitcoin (BTC-USD) Slides to $109,700 as Spot ETFs Shed $903M and Miner Reserves Decline](https://www.tradingnews.com/news/bitcoin-btc-usd-slides-to-109k-usd-as-spot-etf-shed-903m-usd)\\n\\n\\n28.09.2025 \\u00b7 TradingNEWS Archive\\n\\n[Crypto](https://www.tradingnews.com/news/crypto)\\n\\n- [Natural Gas Price (NG=F) Slides to $2.83 as Mild Weather, Oversupply, and Negative Cash Hubs Pressure Prices](https://www.tradingnews.com/news/natural-gas-price-ng-f-slides-to-2-83-usd-as-mild-weather-over-supply-and-nevigate-cash-hubs)\\n\\n\\n28.09.2025 \\u00b7 TradingNEWS Archive\\n\\n[Commodities](https://www.tradingnews.com/news/commodities)\\n\\n- [USD/JPY Price Forecast - Dollar to Yen Climbs to \\u00a5149.95 as Policy Divergence and U.S. Labor Data Push Dollar Toward \\u00a5151](https://www.tradingnews.com/news/usd-jpy-price-forecast-climbs-to-149-as-policy-devergence-and-us-labor-data)\\n\\n\\n28.09.2025 \\u00b7 TradingNEWS Archive\\n\\n[Forex](https://www.tradingnews.com/news/forex)\\n\\n\\nShare\\n\\n**Related Articles**\\n\\n[**IYRI ETF Secures $50.24 Price With 8.7% Yield as Fed Rate Cuts Revive Real Estate Income Play**](https://www.tradingnews.com/news/iyri-etf-secures-50-usd-price-with-8-7-percent-yield)\\n\\nTradingNEWS Archive\\n28.09.25\\n\\n[Stocks](https://www.tradingnews.com/news/stocks) [Markets](https://www.tradingnews.com/news/markets) PLDWELLAMTSPG\\n\\n[**CoreWeave Stock Price Forecast - NASDAQ:CRWV Anchors $120 With $30.1B Backlog and Nvidia\\u2019s $6.3B Put as AI Contracts Hit $22.4B**](https://www.tradingnews.com/news/coreweave-stockprice-forecast-crwv-anchors-120-usd)\\n\\nTradingNEWS Archive\\n28.09.25\\n\\n[Stocks](https://www.tradingnews.com/news/stocks) CRWVCRWDSHOPBIDU\\n\\n[**TSMC Price Forecast - TSM Stock Settles at $273 as AI-Driven Revenues Surge 44% and EPS Crushes Forecasts**](https://www.tradingnews.com/news/tsmc-stock-price-forecast-tsm-stock-setteles-at-273-usd)\\n\\nTradingNEWS Archive\\n28.09.25\\n\\n[Stocks](https://www.tradingnews.com/news/stocks) TSMINTCNVDAMRVL\\n\\n### Trading News\\n\\n[**IYRI ETF Secures $50.24 Price With 8.7% Yield as Fed Rate Cuts Revive Real Estate Income Play** \\\\\\nWith $124.46M in assets and top holdings including Prologis (PLD) and Welltower (WELL), the NEOS Real Estate High Income ETF blends REIT exposure with covered calls, delivering monthly dividends amid shifting Fed policy \\\\| That's TradingNEWS](https://www.tradingnews.com/news/iyri-etf-secures-50-usd-price-with-8-7-percent-yield)\\n\\nTradingNEWS Archive\\n28.09.25\\n\\n[Stocks](https://www.tradingnews.com/news/stocks) [Markets](https://www.tradingnews.com/news/markets) PLDWELLAMTSPG\\n\\n[**Bitcoin (BTC-USD) Slides to $109,700 as Spot ETFs Shed $903M and Miner Reserves Decline** \\\\\\nETF redemptions hit $903M in late September, with Fidelity\\u2019s FBTC losing $738M while BlackRock\\u2019s IBIT gained $174M. Bitcoin\\u2019s ETF market now totals $143.56B, 6.59% of BTC\\u2019s $2.17T cap, as miner selling adds to downside risk \\\\| That's TradingNEWS](https://www.tradingnews.com/news/bitcoin-btc-usd-slides-to-109k-usd-as-spot-etf-shed-903m-usd)\\n\\nTradingNEWS Archive\\n28.09.25\\n\\n[Crypto](https://www.tradingnews.com/news/crypto) BTC/USDBTCUSDETF\\n\\n[**CoreWeave Stock Price Forecast - NASDAQ:CRWV Anchors $120 With $30.1B Backlog and Nvidia\\u2019s $6.3B Put as AI Contracts Hit $22.4B** \\\\\\nCRWV surges 208% YTD, fueled by record AI demand, multi-year OpenAI deals, and Nvidia-backed guarantees that lock in growth even as leverage and cash burn remain high \\\\| That's TradingNEWS](https://www.tradingnews.com/news/coreweave-stockprice-forecast-crwv-anchors-120-usd)\\n\\nTradingNEWS Archive\\n28.09.25\\n\\n[Stocks](https://www.tradingnews.com/news/stocks) CRWVCRWDSHOPBIDU\\n\\n[Trade Now](https://med.etoro.com/B20795_A115340_TClick.aspx)\\n- ## languages\\n\\n[italian](javascript:void(0)) [english](javascript:void(0)) [german](javascript:void(0)) [chinese](javascript:void(0)) [korean](javascript:void(0)) [romanian](javascript:void(0)) [portuguese](javascript:void(0)) [spanish](javascript:void(0)) [Japanese](javascript:void(0))\\n\\nsetLang\\n\\n[Home](https://www.tradingnews.com/) [News](https://www.tradingnews.com/news) [How will Microsoft\\u2019s (NASDAQ:MSFT) $80 billion AI infrastructure investment impact its stock performance and long-term growth?](https://www.tradingnews.com/news/how-nasdaq-msft-microsoft-80b-investment-impact-stock)\\n\\n# How will Microsoft\\u2019s (NASDAQ:MSFT) $80 billion AI infrastructure investment impact its stock performance and long-term growth?\\n\\n## As Microsoft\\u2019s stock trades at $427.85, its $80 billion AI bet raises critical questions about profitability, growth, and its path toward a potential $475 valuation \\\\| That's TradingNEWS\\n\\nTradingNEWS Archive1/12/2025 5:49:18 PM\\n\\n[Stocks](https://www.tradingnews.com/news/stocks) MSFTAMZNORCLCRM\\n\\nShare\\n\\n### _**Microsoft Corporation (NASDAQ:MSFT): A Comprehensive Analysis of Growth, Challenges, and Strategic Positioning**_\\n\\n#### _**Microsoft's Strategic AI Investments and Stock Performance**_\\n\\nMicrosoft Corporation (NASDAQ:MSFT) is navigating a transformative phase, driven by an $80\\u201390 billion capital expenditure plan to expand its AI data center capacity. With its stock currently trading at $427.85, Microsoft remains one of the most influential players in the technology sector. However, this significant investment comes with questions about profitability, free cash flow, and valuation. Its forward P/E ratio of 32.46 reflects high market expectations, placing pressure on the company to deliver consistent and substantial results.\\n\\n#### _**Massive Capital Outlays: Risks and Rewards**_\\n\\nMicrosoft's $80 billion data center initiative represents an 80% year-over-year increase in capital expenditures from FY 2024\\u2019s $44.5 billion. This investment signals its aggressive approach to securing AI leadership but raises critical concerns about its capital-heavy model's sustainability. Analysts predict Microsoft's operating cash flow for FY 2025 could reach $136 billion, up from $119 billion in FY 2024, assuming a 14% revenue growth year-over-year. Yet, post-CAPEX cash flow is expected to decline significantly, from $75 billion in FY 2024 to approximately $40 billion in FY 2025.\\n\\nSuch a fundamental shift from its historically asset-light model increases financial risk. Tying up vast resources in infrastructure with extended payback periods challenges Microsoft's flexibility and profitability. However, the potential rewards are equally significant, as AI adoption could enable long-term growth and reinforce its leadership in cloud and enterprise services.\\n\\n#### _**Competitive Dynamics in the AI Ecosystem**_\\n\\nMicrosoft's aggressive spending reflects the escalating competition in the AI infrastructure race. Amazon is set to invest $96.4 billion in data centers in 2025, followed by Google at $62.6 billion and Meta at $52.3 billion. This \\\"arms race\\\" underscores the high stakes, as each company seeks to solidify its position. However, such intense competition diminishes the likelihood of any single entity gaining a sustained edge, creating a \\\"prisoner\\u2019s dilemma\\\" where overspending becomes the norm.\\n\\nDespite this, Microsoft maintains a strategic advantage through its robust ecosystem. Azure's strong presence in cloud services and the widespread adoption of Microsoft 365 products provide a solid foundation for AI integration. Large Azure contracts exceeding $10 million highlight the enterprise sector's confidence in Microsoft's capabilities. Additionally, Microsoft's bundling strategies continue to lock in customers, further solidifying its market position.\\n\\n#### _**Evaluating Valuation and Growth Potential**_\\n\\nWith a PEG ratio of 2.42, Microsoft trades at a premium compared to its peers, reflecting investor optimism about its growth trajectory. Wall Street analysts estimate the fair value of MSFT at $495.66, suggesting a 14% upside from current levels. However, a more conservative target of $475 balances growth potential with market realism. This price target aligns with options market data, where significant activity around the $475 level indicates strong investor confidence in this valuation.\\n\\nMicrosoft's revenue for FY 2025 is projected to grow 14% year-over-year, supported by increased AI adoption and enhanced infrastructure. The company\\u2019s Q4 2024 earnings report demonstrated its resilience, with EPS at $3.30 (beating estimates by $0.19) and revenue at $65.59 billion (up 16% year-over-year). Such performance underscores its ability to navigate macroeconomic challenges and maintain growth momentum.\\n\\n#### _**The OpenAI Partnership: Strengths and Strains**_\\n\\nMicrosoft's early investment in OpenAI positioned it as a frontrunner in the AI race. However, this partnership has faced challenges as competition intensifies. OpenAI's rising compute demands and partnerships with other providers, such as Oracle, have highlighted the strain on its collaboration with Microsoft. Additionally, the competitive gap between OpenAI and other AI leaders has narrowed, diminishing the first-mover advantage Microsoft initially enjoyed.\\n\\nDespite these challenges, Microsoft has diversified its AI strategy, working with multiple AI companies and strengthening its in-house capabilities. The $80 billion investment in AI data centers underscores its commitment to supporting diverse AI workloads, ensuring it remains a critical player in the evolving AI ecosystem.\\n\\n#### _**Technical and Momentum Analysis**_\\n\\nMicrosoft (NASDAQ:MSFT), trading at approximately $427.85, has demonstrated remarkable technical resilience, consistently maintaining levels above its 200-week Simple Moving Average (SMA). This trend underscores the stock\\u2019s strong foundational support and its ability to weather market volatility. Periodic dips throughout 2024, including a multi-month pullback, presented compelling entry points for investors, with the stock regaining upward momentum since November.\\n\\nThe rebound aligns with increased institutional interest, as software-focused investors reallocated funds toward Microsoft, recognizing its long-term growth potential. December marked a notable recovery phase, with MSFT outperforming the broader market index for technology stocks, driven by its leadership in cloud computing, enterprise software, and AI integration. Analysts suggest the multi-month weakness has likely reached its bottom, evidenced by technical indicators such as rising relative strength and improved momentum metrics.\\n\\nVolume trends further validate the bullish sentiment, with sustained accumulation patterns reflecting strong confidence in the stock\\u2019s prospects. Microsoft\\u2019s ability to maintain this momentum hinges on its execution of strategic initiatives, including the $80 billion AI infrastructure investment. If the company continues to capitalize on its market position and convert these investments into tangible growth, the technical outlook remains robust, with analysts targeting a potential upside toward $475, representing a solid opportunity for long-term investors.\\n\\n#### _**Key Risks and Outlook**_\\n\\nOne of the most pressing concerns for Microsoft (NASDAQ:MSFT), currently trading at $427.85, lies in its ability to effectively monetize its aggressive $80 billion investment in AI infrastructure. While initiatives like Copilot showcase significant promise, their adoption among enterprise and retail users remains limited, raising questions about the immediacy of revenue realization. This issue is compounded by the capital-intensive nature of AI ventures, which increases operational costs while the returns on these investments remain largely speculative in the short term.\\n\\nAdding to the complexity is Microsoft\\u2019s valuation, which is trading at a forward P/E ratio of 32.46 and a PEG ratio of 2.42, placing it at a premium compared to its sector peers. These metrics underscore the high expectations baked into the stock price, leaving little room for underperformance. If AI adoption does not scale rapidly or profitably, Microsoft risks facing intensified scrutiny from investors concerned about its ability to justify its elevated valuation.\\n\\nDespite these challenges, Microsoft\\u2019s diversified business model provides a buffer against market volatility. Its dominance in cloud computing through Azure, coupled with its expansive Microsoft 365 ecosystem, creates a dual advantage in capturing both enterprise and consumer markets. Furthermore, its willingness to invest in cutting-edge technology, while capital-intensive, reinforces its position as a leader in AI and cloud innovation. These factors highlight Microsoft\\u2019s resilience and capacity for long-term growth, even in a highly competitive environment.\\n\\n#### _**Why Is Microsoft Betting $80 Billion on AI Infrastructure, and How Will It Impact Its Stock?**_\\n\\nMicrosoft\\u2019s bold decision to allocate $80 billion\\u2014an 80% increase from the previous year\\u2019s capital expenditure\\u2014toward AI data centers reflects its unwavering commitment to dominating the AI landscape. This substantial investment raises a critical question: how will this reshape the company\\u2019s financial and operational trajectory? With its stock currently valued near $427.85, the stakes are high as the company aims to deliver substantial returns from these expenditures.\\n\\nThe rationale behind this massive spending is clear: Microsoft seeks to solidify its competitive position against rivals like Amazon (AWS) and Google (GCP) in the hyperscale cloud and AI space. By enhancing its AI capabilities, including products like Copilot and advanced Azure integrations, Microsoft aims to meet the growing demand for AI-driven solutions across enterprise and consumer applications. However, this strategy is not without risk. If the adoption of AI tools and infrastructure lags behind projections, the company could face significant pressure on its margins and free cash flow, projected to drop to $40 billion post-CAPEX in FY 2025 from $75 billion in FY 2024.\\n\\nThe impact on Microsoft\\u2019s stock will hinge on its ability to transition these investments into profitable growth. If the company succeeds in driving AI adoption and monetizing its innovations, the current valuation could appear conservative, with potential upside toward analysts\\u2019 targets of $475\\u2013$495. However, if these initiatives falter, Microsoft risks eroding investor confidence, which could lead to a downward revaluation. Thus, the outcome of this $80 billion bet will be a defining factor in the company\\u2019s financial narrative for the foreseeable future.\\n\\n### _**That's TradingNEWS**_\\n\\n### _Read More_\\n\\n- [IYRI ETF Secures $50.24 Price With 8.7% Yield as Fed Rate Cuts Revive Real Estate Income Play](https://www.tradingnews.com/news/iyri-etf-secures-50-usd-price-with-8-7-percent-yield)\\n\\n\\n28.09.2025 \\u00b7 TradingNEWS Archive\\n\\n[Stocks](https://www.tradingnews.com/news/stocks)\\n\\n- [Bitcoin (BTC-USD) Slides to $109,700 as Spot ETFs Shed $903M and Miner Reserves Decline](https://www.tradingnews.com/news/bitcoin-btc-usd-slides-to-109k-usd-as-spot-etf-shed-903m-usd)\\n\\n\\n28.09.2025 \\u00b7 TradingNEWS Archive\\n\\n[Crypto](https://www.tradingnews.com/news/crypto)\\n\\n- [Natural Gas Price (NG=F) Slides to $2.83 as Mild Weather, Oversupply, and Negative Cash Hubs Pressure Prices](https://www.tradingnews.com/news/natural-gas-price-ng-f-slides-to-2-83-usd-as-mild-weather-over-supply-and-nevigate-cash-hubs)\\n\\n\\n28.09.2025 \\u00b7 TradingNEWS Archive\\n\\n[Commodities](https://www.tradingnews.com/news/commodities)\\n\\n- [USD/JPY Price Forecast - Dollar to Yen Climbs to \\u00a5149.95 as Policy Divergence and U.S. Labor Data Push Dollar Toward \\u00a5151](https://www.tradingnews.com/news/usd-jpy-price-forecast-climbs-to-149-as-policy-devergence-and-us-labor-data)\\n\\n\\n28.09.2025 \\u00b7 TradingNEWS Archive\\n\\n[Forex](https://www.tradingnews.com/news/forex)\\n\\n\\nShare\\n\\n**Related Articles**\\n\\n[**IYRI ETF Secures $50.24 Price With 8.7% Yield as Fed Rate Cuts Revive Real Estate Income Play**](https://www.tradingnews.com/news/iyri-etf-secures-50-usd-price-with-8-7-percent-yield)\\n\\nTradingNEWS Archive\\n28.09.25\\n\\n[Stocks](https://www.tradingnews.com/news/stocks) [Markets](https://www.tradingnews.com/news/markets) PLDWELLAMTSPG\\n\\n[**CoreWeave Stock Price Forecast - NASDAQ:CRWV Anchors $120 With $30.1B Backlog and Nvidia\\u2019s $6.3B Put as AI Contracts Hit $22.4B**](https://www.tradingnews.com/news/coreweave-stockprice-forecast-crwv-anchors-120-usd)\\n\\nTradingNEWS Archive\\n28.09.25\\n\\n[Stocks](https://www.tradingnews.com/news/stocks) CRWVCRWDSHOPBIDU\\n\\n[**TSMC Price Forecast - TSM Stock Settles at $273 as AI-Driven Revenues Surge 44% and EPS Crushes Forecasts**](https://www.tradingnews.com/news/tsmc-stock-price-forecast-tsm-stock-setteles-at-273-usd)\\n\\nTradingNEWS Archive\\n28.09.25\\n\\n[Stocks](https://www.tradingnews.com/news/stocks) TSMINTCNVDAMRVL\\n\\n### Trading News\\n\\n[**IYRI ETF Secures $50.24 Price With 8.7% Yield as Fed Rate Cuts Revive Real Estate Income Play** \\\\\\nWith $124.46M in assets and top holdings including Prologis (PLD) and Welltower (WELL), the NEOS Real Estate High Income ETF blends REIT exposure with covered calls, delivering monthly dividends amid shifting Fed policy \\\\| That's TradingNEWS](https://www.tradingnews.com/news/iyri-etf-secures-50-usd-price-with-8-7-percent-yield)\\n\\nTradingNEWS Archive\\n28.09.25\\n\\n[Stocks](https://www.tradingnews.com/news/stocks) [Markets](https://www.tradingnews.com/news/markets) PLDWELLAMTSPG\\n\\n[**Bitcoin (BTC-USD) Slides to $109,700 as Spot ETFs Shed $903M and Miner Reserves Decline** \\\\\\nETF redemptions hit $903M in late September, with Fidelity\\u2019s FBTC losing $738M while BlackRock\\u2019s IBIT gained $174M. Bitcoin\\u2019s ETF market now totals $143.56B, 6.59% of BTC\\u2019s $2.17T cap, as miner selling adds to downside risk \\\\| That's TradingNEWS](https://www.tradingnews.com/news/bitcoin-btc-usd-slides-to-109k-usd-as-spot-etf-shed-903m-usd)\\n\\nTradingNEWS Archive\\n28.09.25\\n\\n[Crypto](https://www.tradingnews.com/news/crypto) BTC/USDBTCUSDETF\\n\\n[**CoreWeave Stock Price Forecast - NASDAQ:CRWV Anchors $120 With $30.1B Backlog and Nvidia\\u2019s $6.3B Put as AI Contracts Hit $22.4B** \\\\\\nCRWV surges 208% YTD, fueled by record AI demand, multi-year OpenAI deals, and Nvidia-backed guarantees that lock in growth even as leverage and cash burn remain high \\\\| That's TradingNEWS](https://www.tradingnews.com/news/coreweave-stockprice-forecast-crwv-anchors-120-usd)\\n\\nTradingNEWS Archive\\n28.09.25\\n\\n[Stocks](https://www.tradingnews.com/news/stocks) CRWVCRWDSHOPBIDU\\n\\n[Trade Now](https://med.etoro.com/B20795_A115340_TClick.aspx)\\n- \\n \\nThis story appeared on barchart.com, 2025-09-19 18:13:20.\\n \\n\\n- Published 07/10/2025, 10:37 AM Microsoft stock price target raised to $600 from $475 at Piper Sandler Investing.com - Piper Sandler raised its price target on Microsoft (NASDAQ:) to $600 from $475 on Thursday, while maintaining an Overweight rating on the stock. The new target represents significant upside potential from Microsoft\\u2019s current trading price of $498.59, with the tech giant commanding a market capitalization of $3.7 trillion. According to InvestingPro data, the stock is trading near its 52-week high of $506.78. \\n The research firm cited Microsoft\\u2019s increasing momentum in Infrastructure as a Service (IaaS) market share gains as the primary reason for the significant price target increase. \\n Piper Sandler noted that Azure spending intentions surpassed 80% for the first time in its surveys, confirming Microsoft\\u2019s position as the top cloud and AI infrastructure platform of choice among chief information officers. \\n The firm highlighted that net spend intentions for Azure have increased for four consecutive surveys, rising to 81% from previous readings of 77%, 66%, and 60%, showing consistent growth in enterprise commitment to Microsoft\\u2019s cloud platform. \\n Piper Sandler\\u2019s new price target is based on 26 times calendar year 2030 estimated enterprise value to operating cash flow, discounted back three years by 14%, with analysts also raising their operating cash flow margin expectations to 51.8% from 47.0% previously. In other recent news, Microsoft announced it will release its fiscal year 2025 fourth-quarter financial results on July 30, 2025, with a live webcast scheduled for the same day. The company has been recognized for its strong position in the AI market, with Morgan Stanley reiterating an Overweight rating, highlighting Microsoft\\u2019s leadership in AI and its potential for durable growth. Meanwhile, Oppenheimer upgraded Microsoft to Outperform, citing the company\\u2019s growing AI revenue stream and strong momentum in Azure, which could provide valuation support and upside potential. 3rd party Ad. Not an offer or recommendation by Investing.com. See disclosure here or remove ads. Additionally, Microsoft reportedly saved over $500 million in its call centers last year by leveraging AI, which has also improved productivity across various segments. The company is facing a challenge in its partnership with OpenAI, as OpenAI plans to release an open-weight language AI model, potentially impacting their exclusive collaboration. This new model will be available through multiple cloud providers, marking a shift from OpenAI\\u2019s previous strategy. These developments reflect Microsoft\\u2019s ongoing efforts and challenges in the rapidly evolving AI landscape. \\n This article was generated with the support of AI and reviewed by an editor. For more information see our T&amp;C. MSFT: A Bull or Bear Market Play? Don't miss out on the next big opportunity! Stay ahead of the curve with ProPicks AI \\u2013 6 model portfolios fueled by AI stock picks with a stellar performance this year...\\nIn 2024 alone, ProPicks AI identified 2 stocks that surged over 150%, 4 additional stocks that leaped over 30%, and 3 more that climbed over 25%. That's an impressive track record.\\nWith portfolios tailored for Dow stocks, S&amp;P stocks, Tech Stocks, and Mid Cap stocks, you can explore various wealth-building strategies.\\nSo if MSFT is on your watchlist, it could be very wise to know whether or not it made the ProPicks AI lists. Unlock ProPicks AI now Microsoft stock price target raised to $600 from $475 at Piper Sandler Latest comments Risk Disclosure: Trading in financial instruments and/or cryptocurrencies involves high risks including the risk of losing some, or all, of your investment amount, and may not be suitable for all investors. Prices of cryptocurrencies are extremely volatile and may be affected by external factors such as financial, regulatory or political events. Trading on margin increases the financial risks. \\nBefore deciding to trade in financial instrument or cryptocurrencies you should be fully informed of the risks and costs associated with trading the financial markets, carefully consider your investment objectives, level of experience, and risk appetite, and seek professional advice where needed. \\n Fusion Media \\u00a0would like to remind you that the data contained in this website is not necessarily real-time nor accurate. The data and prices on the website are not\\u00a0necessarily\\u00a0provided by any market or exchange, but may be provided by\\u00a0market makers, and so prices may not be accurate and may differ from the actual price at any given market, meaning prices are indicative and not appropriate for trading purposes.\\u00a0 Fusion Media \\u00a0and\\u00a0any provider of the data contained in this website\\u00a0will not accept liability for any loss or damage as a result of your trading, or your reliance on the information contained within this website. \\nIt is prohibited to use, store, reproduce, display, modify, transmit or distribute the data contained in this website without the explicit prior written permission of Fusion Media and/or the data provider. All intellectual property rights are reserved by the providers and/or the exchange providing the data contained in this website. \\n Fusion Media may be compensated by the advertisers that appear on the website, based on your interaction with the advertisements or advertisers.\",\n",
      "  \"result\": {\n",
      "    \"company_name\": \"Microsoft Corporation\",\n",
      "    \"stock_code\": \"MSFT\",\n",
      "    \"newsdesc\": \"Microsoft's stock rallied in Q2 2025, driven by strong growth in its Azure cloud services and overall positive performance across all business segments.\",\n",
      "    \"sentiment\": \"Positive\",\n",
      "    \"people_names\": [\n",
      "      \"Soumya Eswaran\"\n",
      "    ],\n",
      "    \"places_names\": []\n",
      "  }\n",
      "}\n"
     ]
    }
   ],
   "source": [
    "out = analyze_company_sentiment(\"Microsoft\")\n",
    "print(json.dumps(out, indent=2))"
   ]
  },
  {
   "cell_type": "code",
   "execution_count": 43,
   "id": "027fb6a5",
   "metadata": {},
   "outputs": [
    {
     "name": "stdout",
     "output_type": "stream",
     "text": [
      "[INFO] News provider: Exa\n"
     ]
    },
    {
     "name": "stderr",
     "output_type": "stream",
     "text": [
      "2025-09-29 12:17:23,811 [INFO] HTTP Request: POST https://eastus.api.cognitive.microsoft.com/openai/deployments/gpt4o/chat/completions?api-version=2024-08-01-preview \"HTTP/1.1 200 OK\"\n"
     ]
    },
    {
     "name": "stdout",
     "output_type": "stream",
     "text": [
      "🏃 View run Amazon at: http://20.75.92.162:5000/#/experiments/391555380109070687/runs/e15de4cce1d5467cb3d4a902ad6b1028\n",
      "🧪 View experiment at: http://20.75.92.162:5000/#/experiments/391555380109070687\n",
      "{\n",
      "  \"company_name\": \"Amazon\",\n",
      "  \"stock_code\": \"AMZN\",\n",
      "  \"news\": \"- \\n \\nThis story appeared on marketwatch.com, 2025-09-23 22:31:48.762000.\\n \\n\\n- \\nThis story appeared on marketwatch.com, 2025-09-23 21:17:38.\\n\\n- \\n \\n \\nAmazon.com Inc. (NASDAQ: AMZN) has been one of the stock market\\u2019s biggest success stories ever. The company had its initial public offering in May 1997 and traded for an astonishingly low split-adjusted price of just seven cents per share. Since then, the stock has gained over 308,200%\\u2026\\n \\n \\nThis story appeared on 247wallst.com, 2025-09-19 12:20:58.\\n \\n\\n- \\n \\n \\nShares of Amazon.com Inc. (NASDAQ: AMZN) lost 5.56% over the past five trading sessions after losing 1.32% the five prior, bringing the stock\\u2019s year-to-date gain to just t0.22%. Amazon announced in August that it will begin offering customers same-day grocery delivery. In July, it was\\u2026\\n \\n \\nThis story appeared on 247wallst.com, 2025-09-24 13:13:37.\\n \\n\\n- \\n \\n \\nAmazon.com Inc (NASDAQ:AMZN) shares are trading lower Tuesday as the e-commerce giant faces legal and regulatory challenges on multiple fronts. Here\\u2019s what investors need to know. What To Know: In a closely watched case, the Federal Trade Commission has initiated its trial against Amazon\\u2026\\n \\n \\nThis story appeared on benzinga.com, 2025-09-23 18:14:34.\\n \\n\",\n",
      "  \"result\": {\n",
      "    \"company_name\": \"Amazon.com Inc.\",\n",
      "    \"stock_code\": \"AMZN\",\n",
      "    \"newsdesc\": \"Amazon's stock has seen significant gains since its IPO, but recently faced a decline of 5.56% over the past five trading sessions amid legal and regulatory challenges.\",\n",
      "    \"sentiment\": \"Negative\",\n",
      "    \"people_names\": [],\n",
      "    \"places_names\": []\n",
      "  }\n",
      "}\n"
     ]
    }
   ],
   "source": [
    "out = analyze_company_sentiment(\"Amazon\")\n",
    "print(json.dumps(out, indent=2))"
   ]
  },
  {
   "cell_type": "code",
   "execution_count": 44,
   "id": "b7f147fa",
   "metadata": {},
   "outputs": [
    {
     "name": "stdout",
     "output_type": "stream",
     "text": [
      "[INFO] News provider: Exa\n"
     ]
    },
    {
     "name": "stderr",
     "output_type": "stream",
     "text": [
      "2025-09-29 12:17:38,912 [INFO] HTTP Request: POST https://eastus.api.cognitive.microsoft.com/openai/deployments/gpt4o/chat/completions?api-version=2024-08-01-preview \"HTTP/1.1 429 Too Many Requests\"\n",
      "2025-09-29 12:17:38,913 [INFO] Retrying request to /chat/completions in 19.000000 seconds\n",
      "2025-09-29 12:18:01,417 [INFO] HTTP Request: POST https://eastus.api.cognitive.microsoft.com/openai/deployments/gpt4o/chat/completions?api-version=2024-08-01-preview \"HTTP/1.1 200 OK\"\n"
     ]
    },
    {
     "name": "stdout",
     "output_type": "stream",
     "text": [
      "🏃 View run Facebook at: http://20.75.92.162:5000/#/experiments/391555380109070687/runs/a01da2c41848458aa391cd7bb1c1b543\n",
      "🧪 View experiment at: http://20.75.92.162:5000/#/experiments/391555380109070687\n",
      "{\n",
      "  \"company_name\": \"Facebook\",\n",
      "  \"stock_code\": \"UNKNOWN\",\n",
      "  \"news\": \"- \\n \\nThis story appeared on barchart.com, 2025-09-25 15:16:51.\\n \\n\\n- \\n \\n \\nThis year, one of the better performers among the Magnificent 7 has been Meta Platforms Inc. (NASDAQ: META). Its shares have outperformed the broader market and are currently up 22.9% in the past six months, and last month they hit an all-time high of $796.25. For comparison, other\\u2026\\n \\n \\nThis story appeared on 247wallst.com, 2025-09-25 12:05:44.\\n \\n\\n- [iframe](https://ce31a0688324c4a39b777827ba0dbdf0.safeframe.googlesyndication.com/safeframe/1-0-41/html/container.html)\\n\\n[Get 100% ad-free experience](https://www.investing.com/ad-free-subscription?source=desktop&medium=takeover_ad)\\n\\n# Meta CEO Mark Zuckerberg sells $14.19 million in stock\\n\\n![Investing.com](https://i-invdn-com.investing.com//news/providers/investing-new.png)\\n\\n[Insider Trading](https://www.investing.com/news/insider-trading-news)\\n\\nPublished 02/12/2025, 08:45 PM\\n\\nMeta CEO Mark Zuckerberg sells $14.19 million in stock\\n\\n[View all comments (0)0](https://www.investing.com/news/insider-trading-news/meta-ceo-mark-zuckerberg-sells-1419-million-in-stock-93CH-3866298#comments-3866298)\\n\\n![&copy; Reuters. ](https://i-invdn-com.investing.com/news/23b3a6d7de6b510be2b9089fe2badb41_L.jpg)\\n\\n\\u00a9 Reuters.\\n\\n[META\\\\\\n\\\\\\n1.11%](https://www.investing.com/equities/facebook-inc)\\n\\nMark Zuckerberg, CEO and Chairman of Meta Platforms, Inc. (NASDAQ:[META](https://www.investing.com/equities/facebook-inc)), recently executed significant stock transactions. The company, now valued at $1.84 trillion, has seen its stock surge 58% over the past year, trading near its 52-week high of $727.10. On February 12, 2025, Zuckerberg sold a total of 14,134 shares of Meta's Class A Common Stock through CZI Holdings, LLC. These shares were sold at prices ranging from $714.15 to $726.70, totaling approximately $14.19 million. According to [InvestingPro](https://www.investing.com/pro/META) data, META maintains excellent financial health with strong profitability metrics and impressive gross profit margins of 82%.\\n\\nThe transactions were part of a Rule 10b5-1 trading plan that Zuckerberg adopted in August 2024. Following these sales, Zuckerberg retains indirect ownership of 141,000 shares through the Chan Zuckerberg Initiative Foundation, among other holdings. For deeper insights into insider transactions and comprehensive financial analysis, check out META's detailed Pro Research Report, available exclusively on [InvestingPro](https://www.investing.com/pro/META), along with 18 additional key insights about the company.\\n\\nIn other recent news, Meta, the tech giant, has been making significant strides. The company has experienced a remarkable 17-day winning streak, outperforming the rest of the Magnificent 7 stocks, according to Sam North, a market analyst at eToro. Meta's surge is attributed to three main factors: artificial intelligence (AI), digital ads, and cost-cutting. The company's recent announcement of performance-based layoffs, which will reduce its workforce by 5%, has been positively received by investors.\\n\\nIn addition, Meta is reportedly in negotiations to acquire South Korean AI chip startup FuriosaAI, a move that could further strengthen its position in the AI market. On the financial front, Tigress Financial Partners has raised its 12-month price target for Meta to $935 and maintained a Strong Buy rating, highlighting the company's advancements in AI and its impact on user engagement and advertising efficacy.\\n\\n3rd party Ad. Not an offer or recommendation by Investing.com. See disclosure [here](https://www.investing.com/news/insider-trading-news/meta-ceo-mark-zuckerberg-sells-1419-million-in-stock-93CH-3866298) or **[remove ads](https://www.investing.com/ad-free-subscription?source=desktop&medium=article_ad)**.\\n\\nDespite these positive developments, Meta's planned layoffs have raised some eyebrows. The company plans to conduct company-wide layoffs while simultaneously speeding up the hiring process for machine learning engineers. These are recent developments that investors should be aware of as they consider their position with Meta.\\n\\n_This article was generated with the support of AI and reviewed by an editor. For more information see our T&C._\\n\\n## Is META truely undervalued?\\n\\nWith META making headlines, investors are asking: Is it truly valued fairly? InvestingPro's advanced AI algorithms have analyzed META alongside thousands of other stocks to uncover hidden gems with massive upside. And guess what? META wasn't at the top of the list.\\n\\n[Unlock ProPicks AI](https://www.investing.com/equities/most-undervalued)\\n\\nMeta CEO Mark Zuckerberg sells $14.19 million in stock\\n\\n[View all comments (0)0](https://www.investing.com/news/insider-trading-news/meta-ceo-mark-zuckerberg-sells-1419-million-in-stock-93CH-3866298#comments-3866298)\\n\\n## Latest comments\\n\\nPost\\n\\nComment Guidelines\\n\\nLoading next article\\u2026\\n\\n[Trade With A Regulated Broker](https://www.investing.com/brokers/forex-brokers/)\\n\\nIndicesCommoditiesBondsStocks\\n\\n1D\\n\\n1W\\n\\n1M\\n\\n6M\\n\\n1Y\\n\\n5Y\\n\\nMax\\n\\nCreated with Highcharts 11.4.814/0206:0012:0018:0044 40044 50044 60044 700\\n\\n[US 30](https://www.investing.com/indices/us-30-futures?cid=1175152)\\n\\n44,540.00\\n\\n-171.5\\n\\n-0.38%\\n\\n[US 500](https://www.investing.com/indices/us-spx-500-futures?cid=1175153)\\n\\n6,114.90\\n\\n-0.2\\n\\n0.00%\\n\\n[Dow Jones](https://www.investing.com/indices/us-30)\\n\\n44,546.08\\n\\n-165.35\\n\\n-0.37%\\n\\n[S&P 500](https://www.investing.com/indices/us-spx-500)\\n\\n6,114.63\\n\\n-0.44\\n\\n-0.01%\\n\\n[Nasdaq](https://www.investing.com/indices/nasdaq-composite)\\n\\n20,026.77\\n\\n+81.13\\n\\n+0.41%\\n\\n[S&P 500 VIX](https://www.investing.com/indices/volatility-s-p-500)\\n\\n14.77\\n\\n0.00\\n\\n0.00%\\n\\n[Dollar Index](https://www.investing.com/currencies/us-dollar-index)\\n\\n106.58\\n\\n-0.640\\n\\n-0.60%\\n\\n[Crude Oil WTI Futures](https://www.investing.com/commodities/crude-oil)\\n\\n70.74\\n\\n-0.55\\n\\n-0.77%\\n\\n[Brent Oil Futures](https://www.investing.com/commodities/brent-oil)\\n\\n74.74\\n\\n-0.28\\n\\n-0.37%\\n\\n[Natural Gas Futures](https://www.investing.com/commodities/natural-gas)\\n\\n3.725\\n\\n+0.097\\n\\n+2.67%\\n\\n[Gold Futures](https://www.investing.com/commodities/gold)\\n\\n2,900.70\\n\\n-44.70\\n\\n-1.52%\\n\\n[Silver Futures](https://www.investing.com/commodities/silver)\\n\\n32.855\\n\\n+0.129\\n\\n+0.39%\\n\\n[Copper Futures](https://www.investing.com/commodities/copper)\\n\\n4.6645\\n\\n-0.1135\\n\\n-2.38%\\n\\n[US Soybeans Futures](https://www.investing.com/commodities/us-soybeans)\\n\\n1,036.00\\n\\n+6.00\\n\\n+0.58%\\n\\n[U.S. 10Y](https://www.investing.com/rates-bonds/u.s.-10-year-bond-yield)\\n\\n4.477\\n\\n-0.055\\n\\n-1.32%\\n\\n[U.S. 30Y](https://www.investing.com/rates-bonds/u.s.-30-year-bond-yield)\\n\\n4.698\\n\\n-0.042\\n\\n-0.84%\\n\\n[U.S. 5Y](https://www.investing.com/rates-bonds/u.s.-5-year-bond-yield)\\n\\n4.328\\n\\n-0.062\\n\\n-1.37%\\n\\n[U.S. 3M](https://www.investing.com/rates-bonds/u.s.-3-month-bond-yield)\\n\\n4.32\\n\\n-0.005\\n\\n-0.23%\\n\\n[US 10Y T-Note Futures](https://www.investing.com/rates-bonds/us-10-yr-t-note)\\n\\n109.28\\n\\n0.00\\n\\n0.00%\\n\\n[Euro Bund Futures](https://www.investing.com/rates-bonds/euro-bund)\\n\\n132.85\\n\\n0.00\\n\\n0.00%\\n\\n[10-2 Yield Spread](https://www.investing.com/rates-bonds/10-2-year-treasury-yield-spread)\\n\\n22.20\\n\\n-4.39\\n\\n-16.51%\\n\\n[AAPL](https://www.investing.com/equities/apple-computer-inc)\\n\\n244.60\\n\\n+3.07\\n\\n+1.27%\\n\\n[GOOGL](https://www.investing.com/equities/google-inc)\\n\\n185.23\\n\\n-0.91\\n\\n-0.49%\\n\\n[TSLA](https://www.investing.com/equities/tesla-motors)\\n\\n355.84\\n\\n-0.10\\n\\n-0.03%\\n\\n[AMZN](https://www.investing.com/equities/amazon-com-inc)\\n\\n228.68\\n\\n-1.69\\n\\n-0.73%\\n\\n[NFLX](https://www.investing.com/equities/netflix,-inc.)\\n\\n1,058.60\\n\\n+14.91\\n\\n+1.43%\\n\\n[META](https://www.investing.com/equities/facebook-inc)\\n\\n736.67\\n\\n+8.11\\n\\n+1.11%\\n\\n[BAC](https://www.investing.com/equities/bank-of-america)\\n\\n46.96\\n\\n+0.63\\n\\n+1.36%\\n\\nMost Popular Articles\\n\\nNews\\n\\nAnalysis\\n\\n[Constellation Brands stock jumps as Buffett's Berkshire shows new investment](https://www.investing.com/news/stock-market-news/constellation-brands-stock-jumps-as-buffetts-berkshire-shows-new-investment-3871636)\\n\\nBy Investing.co...\\n\\nFeb 15, 2025\\n\\n[TSMC said open to deal to 'make Intel great again'](https://www.investing.com/news/stock-market-news/tsmc-said-open-to-deal-to-make-intel-great-again-3871350)\\n\\nBy Investing.co...\\n\\nFeb 15, 2025\\n\\n[Stock market today: S&P 500 ends shy of new record on consumer, inflation jitters](https://www.investing.com/news/stock-market-news/stock-market-today-sp-500-ends-shy-of-new-record-on-consumer-inflation-jitters-3869441)\\n\\nBy Investing.co...\\n\\nFeb 15, 2025\\n\\n[How low could Trump bring down the U.S. deficit? Deutsche Bank weighs in](https://www.investing.com/news/economy/how-low-could-trump-bring-down-the-us-deficit-deutsche-bank-weighs-in-3870339)\\n\\nBy Investing.co...\\n\\nFeb 14, 2025\\n\\n[U.S. stocks witnessed first back-to-back weekly outflows in 10 months: BofA](https://www.investing.com/news/stock-market-news/us-stocks-witnessed-first-backtoback-weekly-outflows-in-10-months-bofa-3869915)\\n\\nBy Investing.co...\\n\\nFeb 14, 2025\\n\\n[3 Underrated AI Stocks to Buy as Nasdaq Rallies Towards New Record High](https://www.investing.com/analysis/3-underrated-ai-stocks-to-buy-as-nasdaq-rallies-towards-new-record-high-200657360)\\n\\nBy Jesse Cohen\\n\\nFeb 14, 2025\\n\\n[Bitcoin: Clear Breakout From This Level Could Signal New Attack of $106 Double-Top](https://www.investing.com/analysis/bitcoin-clear-breakout-from-this-level-could-signal-new-attack-of-106-doubletop-200657366)\\n\\nBy G\\u00fcnay Caymaz\\n\\nFeb 14, 2025\\n\\n[The Next Buffett-Backed Stock to Skyrocket? Clues Drop Friday](https://www.investing.com/analysis/warren-buffets-new-positions-unveiled-tomorrow-how-to-profit-from-them-200657320)\\n\\nBy David Wagner\\n\\nFeb 13, 2025\\n\\n[January CPI Preview: Numbers to Test Fed\\u2019s Rate-Cut Path Amid Tariff Uncertainty](https://www.investing.com/analysis/january-cpi-preview-numbers-to-test-feds-ratecut-path-amid-tariff-uncertainty-200657268)\\n\\nBy Jesse Cohen\\n\\nFeb 12, 2025\\n\\n[USD/JPY Extends Recovery on US CPI Surprise - 155 Next?](https://www.investing.com/analysis/usdjpy-extends-recovery-on-us-cpi-surprise--150-next-200657289)\\n\\nBy Fawad Razaqz...\\n\\nFeb 12, 2025\\n\\n[More News](https://www.investing.com/news/most-popular-news)\\n\\n[Market Movers](https://www.investing.com/markets/united-states)\\n\\nMost ActiveGainers %Losers %\\n\\n| Name | Last | Chg. % | Vol. |\\n| --- | --- | --- | --- |\\n| [NVDA](https://www.investing.com/equities/nvidia-corp) | 138.85 | +2.63% | 195.48M |\\n| [TSLA](https://www.investing.com/equities/tesla-motors) | 355.84 | -0.03% | 68.28M |\\n| [PLTR](https://www.investing.com/equities/palantir-technologies-inc) | 119.16 | +1.06% | 65.53M |\\n| [BABA](https://www.investing.com/equities/alibaba) | 124.73 | +4.34% | 52.73M |\\n| [AAPL](https://www.investing.com/equities/apple-computer-inc) | 244.60 | +1.27% | 40.90M |\\n| [MSFT](https://www.investing.com/equities/microsoft-corp) | 408.43 | -0.51% | 22.76M |\\n| [META](https://www.investing.com/equities/facebook-inc) | 736.67 | +1.11% | 16.90M |\\n\\n| Name | Last | Chg. % | Vol. |\\n| --- | --- | --- | --- |\\n| [ABNB](https://www.investing.com/equities/airbnb-inc) | 161.42 | +14.45% | 21.65M |\\n| [SMCI](https://www.investing.com/equities/super-micro-compu) | 47.91 | +13.32% | 133.56M |\\n| [WYNN](https://www.investing.com/equities/wynn-resorts-ltd) | 88.82 | +10.38% | 9.03M |\\n| [APP](https://www.investing.com/equities/applovin) | 510.13 | +8.15% | 11.34M |\\n| [WST](https://www.investing.com/equities/west-pharmaceutical-services-inc) | 214.73 | +7.84% | 5.03M |\\n| [DXCM](https://www.investing.com/equities/dexcom) | 89.07 | +5.92% | 7.59M |\\n| [PARA](https://www.investing.com/equities/viacom-cl-b) | 11.30 | +4.53% | 3.48M |\\n\\n| Name | Last | Chg. % | Vol. |\\n| --- | --- | --- | --- |\\n| [GDDY](https://www.investing.com/equities/godaddy-inc) | 182.19 | -14.28% | 4.40M |\\n| [DVA](https://www.investing.com/equities/davita-inc) | 157.42 | -11.09% | 5.11M |\\n| [AMAT](https://www.investing.com/equities/applied-matls-inc) | 169.20 | -8.18% | 12.45M |\\n| [IR](https://www.investing.com/equities/ingersoll-rand) | 85.72 | -7.38% | 7.44M |\\n| [LULU](https://www.investing.com/equities/lululemon-athletica) | 366.68 | -6.18% | 3.31M |\\n| [FRT](https://www.investing.com/equities/federal-realty-investment-trust) | 105.03 | -6.07% | 1.77M |\\n| [MSI](https://www.investing.com/equities/motorola-inc) | 438.14 | -5.99% | 1.55M |\\n\\n## [Trending Stocks](https://www.investing.com/equities/trending-stocks)\\n\\n| Name | Last | Chg. % | Vol. |\\n| --- | --- | --- | --- |\\n| [TSLA](https://www.investing.com/equities/tesla-motors) | 355.84 | -0.03% | 68.28M |\\n| [NVDA](https://www.investing.com/equities/nvidia-corp) | 138.85 | +2.63% | 195.48M |\\n| [INTC](https://www.investing.com/equities/intel-corp) | 23.60 | -2.20% | 230.25M |\\n| [COIN](https://www.investing.com/equities/coinbase-global) | 274.31 | -7.98% | 19.27M |\\n| [BABA](https://www.investing.com/equities/alibaba) | 124.73 | +4.34% | 52.73M |\\n\\nShow more\\n\\nProPicks AI\\n\\nAI-powered **stock picks** with a proven track record to **beat the S&P 500**.\\n\\n[Tech Titans](https://www.investing.com/pro/propicks/tech-titans)\\n\\nStocks in this Strategy\\n\\naaa aaaaaaa aaaa aaa\\n\\naaa aaaaaaa aaaa aaa\\n\\naaa aaaaaaa aaaa aaa\\n\\n[Unlock Strategy](https://www.investing.com/pro/propicks/tech-titans?entry=ws_propicks)\\n\\n[Beat the S&P 500](https://www.investing.com/pro/propicks/beat-sp-500)\\n\\nStocks in this Strategy\\n\\naaa aaaaaaa aaaa aaa\\n\\naaa aaaaaaa aaaa aaa\\n\\naaa aaaaaaa aaaa aaa\\n\\n[Unlock Strategy](https://www.investing.com/pro/propicks/beat-sp-500?entry=ws_propicks)\\n\\n[Dominate the Dow](https://www.investing.com/pro/propicks/dominate-the-dow)\\n\\nStocks in this Strategy\\n\\naaa aaaaaaa aaaa aaa\\n\\naaa aaaaaaa aaaa aaa\\n\\naaa aaaaaaa aaaa aaa\\n\\n[Unlock Strategy](https://www.investing.com/pro/propicks/dominate-the-dow?entry=ws_propicks)\\n\\n[Mid-Cap Movers](https://www.investing.com/pro/propicks/midcap-movers)\\n\\nStocks in this Strategy\\n\\naaa aaaaaaa aaaa aaa\\n\\naaa aaaaaaa aaaa aaa\\n\\naaa aaaaaaa aaaa aaa\\n\\n[Unlock Strategy](https://www.investing.com/pro/propicks/midcap-movers?entry=ws_propicks)\\n\\n[Top Value Stocks](https://www.investing.com/pro/propicks/top-value-stocks)\\n\\nStocks in this Strategy\\n\\naaa aaaaaaa aaaa aaa\\n\\naaa aaaaaaa aaaa aaa\\n\\naaa aaaaaaa aaaa aaa\\n\\n[Unlock Strategy](https://www.investing.com/pro/propicks/top-value-stocks?entry=ws_propicks)\\n\\n[Best of Buffett](https://www.investing.com/pro/propicks/best-of-buffett)\\n\\nStocks in this Strategy\\n\\naaa aaaaaaa aaaa aaa\\n\\naaa aaaaaaa aaaa aaa\\n\\naaa aaaaaaa aaaa aaa\\n\\n[Unlock Strategy](https://www.investing.com/pro/propicks/best-of-buffett?entry=ws_propicks)\\n\\n\\\\_undefined\\\\_chat\\\\_widget\\\\_header\\n\\n* * *\\n\\nPost\\n\\nComment Guidelines\\n\\nCalendars\\n\\n[Economic Calendar](https://www.investing.com/economic-calendar/) [Earnings Calendar](https://www.investing.com/earnings-calendar/) [Holiday Calendar](https://www.investing.com/holiday-calendar/)\\n\\nUS Economy\\n\\n[Fed Rate Monitor Tool](https://www.investing.com/central-banks/fed-rate-monitor) [US Treasury Yield Curve](https://www.investing.com/rates-bonds/usa-government-bonds)\\n\\nMore Tools\\n\\n[Stock Screener](https://www.investing.com/stock-screener/) [Currency Converter](https://www.investing.com/currency-converter/)\\n\\nMarkets\\n\\nStocks Picked by AI\\n\\nWatchlist\\n\\nAlerts\\n\\nTop Brokers\\nNew\\n\\nBreaking News\\n\\nTools\\n\\nInstall Our AppScan QR code to install app\\n\\nRisk Disclosure: Trading in financial instruments and/or cryptocurrencies involves high risks including the risk of losing some, or all, of your investment amount, and may not be suitable for all investors. Prices of cryptocurrencies are extremely volatile and may be affected by external factors such as financial, regulatory or political events. Trading on margin increases the financial risks.\\n\\nBefore deciding to trade in financial instrument or cryptocurrencies you should be fully informed of the risks and costs associated with trading the financial markets, carefully consider your investment objectives, level of experience, and risk appetite, and seek professional advice where needed.\\n\\n**Fusion Media**\\u00a0would like to remind you that the data contained in this website is not necessarily real-time nor accurate. The data and prices on the website are not\\u00a0necessarily\\u00a0provided by any market or exchange, but may be provided by\\u00a0market makers, and so prices may not be accurate and may differ from the actual price at any given market, meaning prices are indicative and not appropriate for trading purposes.\\u00a0**Fusion Media**\\u00a0and\\u00a0any provider of the data contained in this website\\u00a0will not accept liability for any loss or damage as a result of your trading, or your reliance on the information contained within this website.\\n\\nIt is prohibited to use, store, reproduce, display, modify, transmit or distribute the data contained in this website without the explicit prior written permission of Fusion Media and/or the data provider. All intellectual property rights are reserved by the providers and/or the exchange providing the data contained in this website.\\n\\n**Fusion Media** may be compensated by the advertisers that appear on the website, based on your interaction with the advertisements or advertisers.\\n\\n\\u00a9 2007-2025 \\\\- Fusion Media Limited. All Rights Reserved.\\n\\n[iframe](about:blank)\\n\\n[iframe](about:blank)[iframe](https://s.amazon-adsystem.com/iu3?cm3ppd=1&d=dtb-pub&csif=t&dl=n-index_n-minuteMedia_n-onetag_n-ConnectAdv2_n-Ogury_ox-db5_n-Tappx)![](https://ib.adnxs.com/getuid?https%3A%2F%2Fu.4dex.io%2Fsetuid%3Fbidder%3Dappnexus%26it%3Dadg-pb-clt%26us_privacy%3D1YNN%26uid%3D%24UID)[iframe](https://ssc-cms.33across.com/ps/?m=xch&rt=html&id=0015a00002oUk4aAAC&us_privacy=1YNN&ru=https%3A%2F%2Fu.4dex.io%2Fsetuid%3Fbidder%3D33across%26it%3Dadg-pb-clt%26us_privacy%3D1YNN%26uid%3D33XUSERID33X)[iframe](https://pbs-cs.minutemedia-prebid.com/pbs-iframe?gdpr=0&gdpr_consent=&us_privacy=1YNN&gpp=&gpp_sid=&redirect=https%3A%2F%2Fu.4dex.io%2Fsetuid%3Fbidder%3Dminutemedia%26it%3Dadg-pb-clt%26us_privacy%3D1YNN%26uid%3D%5BPBS_UID%5D)![](https://csync.smilewanted.com/getuid?source=prebid-server&gdpr=0&gdpr_consent=&us_privacy=1YNN&redirect=https%3A%2F%2Fu.4dex.io%2Fsetuid%3Fbidder%3Dsmilewanted%26it%3Dadg-pb-clt%26us_privacy%3D1YNN%26uid%3D%24UID)\\n\\nBy using this site, you agree with our use of cookies. Please see our [privacy statement](https://www.investing.com/about-us/privacy-policy) for more information.\\n\\n![](https://ids.ad.gt/api/v1/halo_match?id=AU1D-0100-001739594077-VIGFR9OJ-9NMC&halo_id=060ixdij2g5agek6il8lclhifj8gjccg8hluokuwsqyeqmy0u040i0suow4qwiiq4)![](https://ids4.ad.gt/api/v1/ip_match?id=AU1D-0100-001739594077-VIGFR9OJ-9NMC)![](https://ad.360yield.com/ux?&publisher_dmp_id=15&r=https%3A%2F%2Fids.ad.gt%2Fapi%2Fv1%2Fimpr_match%3Fid%3DAU1D-0100-001739594077-VIGFR9OJ-9NMC%26impr_uid%3D%7BPUB_USER_ID%7D)![](https://sync.smartadserver.com/getuid?url=https%3A%2F%2Fids.ad.gt%2Fapi%2Fv1%2Fsmart_match%3Fid%3DAU1D-0100-001739594077-VIGFR9OJ-9NMC%26sas_uid%3D%5bsas_uid%5d&gdpr=0)![](https://bh.contextweb.com/bh/rtset?pid=562316&ev=1&rurl=https://ids.ad.gt/api/v1/ppnt_match?uid=%%VGUID%%&id=AU1D-0100-001739594077-VIGFR9OJ-9NMC)![](https://sync.1rx.io/usersync/audigent/0?dspret=1&redir=https%3A%2F%2Fids.ad.gt%2Fapi%2Fv1%2Funruly%3Fid%3DAU1D-0100-001739594077-VIGFR9OJ-9NMC%26unruly_id%3D%5BRX_UUID%5D)![](https://sync.colossusssp.com/ebfa23da174faa55634171c5e49d0152.gif?puid=AU1D-0100-001739594077-VIGFR9OJ-9NMC&redir=http%3A%2F%2Fids.ad.gt%2Fapi%2Fv1%2Fcolossus%3Fcls_id%3D%5BUID%5D%26id%3DAU1D-0100-001739594077-VIGFR9OJ-9NMC)![](https://ssum-sec.casalemedia.com/ium?sourceid=15&uid=060ixdij2g5agek6il8lclhifj8gjccg8hluokuwsqyeqmy0u040i0suow4qwiiq4&gdpr=0)![](https://onetag-sys.com/match/?int_id=180&uid=AU1D-0100-001739594077-VIGFR9OJ-9NMC&gdpr=0)![](https://dpm.demdex.net/ibs:dpid=348447&dpuuid=AU1D-0100-001739594077-VIGFR9OJ-9NMC&redir=https%3A%2F%2Fids.ad.gt%2Fapi%2Fv1%2Fadb_match%3Fadb%3D%24%7BDD_UUID%7D%26id%3DAU1D-0100-001739594077-VIGFR9OJ-9NMC)[iframe](https://eb2.3lift.com/sync?us_privacy=1YNN&)[iframe](https://gum.criteo.com/syncframe?origin=criteoPrebidAdapter&topUrl=www.investing.com&us_privacy=1YNN&gpp=#%7B%22cw%22:true,%22lsw%22:true,%22origin%22:%22criteoPrebidAdapter%22,%22requestId%22:%220.9464429736782416%22,%22tld%22:%22www.investing.com%22,%22topUrl%22:%22www.investing.com%22,%22version%22:%229_19_0%22%7D)[iframe](https://csync.smilewanted.com?us_privacy=1YNN)[iframe](https://sync.cootlogix.com/api/sync/iframe/?cid=&gdpr=0&gdpr_consent=&us_privacy=1YNN)[iframe](https://sync.1rx.io/usersync2/rmpssp?sub=insticator)[iframe](https://sync.cootlogix.com/api/sync/iframe/?cid=&gdpr=0&gdpr_consent=&us_privacy=1YNN)[iframe](https://ads.pubmatic.com/AdServer/js/user_sync.html?p=95054&userIdMacro=PM_UID&gdpr=0&predirect=https%3A%2F%2Fcs.ingage.tech%2Fwdc%2Fv1%2Fsync%2Fpubmatic%2F03e1a4d1-6d2f-4465-8a9b-f0b40e752b0b%3Fuid%3DPM_UID)[iframe](https://sync.cootlogix.com/api/sync/iframe/?cid=&gdpr=0&gdpr_consent=&us_privacy=1YNN)[iframe](https://match.sharethrough.com/universal/v1?supply_id=jc3Tkmr6&gdpr=0)[iframe](https://cs.seedtag.com/cs.html?pt=8874-9209-01&pc=ES&us=1YNN&uid=cec1f316-2b60-4f64-be65-6d5d6109913c)[iframe](https://js-sec.indexww.com/um/ixmatch.html)[iframe](https://ap.lijit.com/pixel?redir=https%3A%2F%2Fcs.ingage.tech%2Fwdc%2Fv1%2Fsync%2Fsovrn%2F03e1a4d1-6d2f-4465-8a9b-f0b40e752b0b%3Fuid%3D%24UID&gpp_sid=&gdpr=0)[iframe](https://ads.pubmatic.com/AdServer/js/user_sync.html?kdntuid=1&p=158008&us_privacy=1YNN)[iframe](https://static.cdn.monetixads.com/monetixads/sync.html?us_privacy=1YNN)[iframe](https://contextual.media.net/checksync.php?vsSync=1&cs=8&cv=31&https=1&cid=8CUFV8103&prvid=2034%2C2030%2C590%2C2073%2C550%2C2029%2C233%2C2028%2C2027%2C159%2C236%2C313%2C2025%2C2069%2C237%2C117%2C359%2C437%2C636%2C319%2C97%2C55%2C99%2C2045%2C3012%2C2043%2C3010%2C2041%2C2119%2C244%2C201%2C2039%2C3007%2C4%2C203%2C2037%2C326%2C404%2C9%2C2055%2C2099%2C173%2C2051%2C294%2C251%2C175%2C450%2C2009%2C178%2C3017%2C214%2C2047%2C413%2C337%2C338%2C459%2C339%2C77%2C20000%2C2022%2C182%2C261%2C141%2C262%2C460%2C186%2C461%2C462%2C222%2C345%2C543%2C468%2C10000%2C228%2C80%2C108%2C229%2C307&itype=PREBID&purpose1=1&gdprconsent=1&gdpr=0&coppa=0&usp_status=1&usp_consent=1&uspstring=1YNN)[iframe](https://secure-assets.rubiconproject.com/utils/xapi/multi-sync.html?endpoint=us-east&p=insticator)[iframe](https://eb2.3lift.com/sync?us_privacy=1YNN&)[iframe](https://sync.cootlogix.com/api/sync/iframe/?cid=&gdpr=0&gdpr_consent=&us_privacy=1YNN)[iframe](https://acdn.adnxs.com/dmp/async_usersync.html)\\n- \\n \\n \\nMeta Platforms, Inc. (NASDAQ:META) is one of the 10 Best AI Stocks to Buy According to Goldman Sachs. On September 18, Meta Platforms, Inc. (NASDAQ:META) received its first autonomous CA-1 robot deployment in Germany. Meta Platforms completed its first-ever deployment of the\\u2026\\n \\n \\nThis story appeared on finance.yahoo.com, 2025-09-26 15:01:23.\\n \\n\\n- [Skip Navigation](https://www.cnbc.com/www.cnbc.com#MainContent)\\n\\n[Markets](https://www.cnbc.com/markets/)\\n\\n[Business](https://www.cnbc.com/business/)\\n\\n[Investing](https://www.cnbc.com/investing/)\\n\\n[Tech](https://www.cnbc.com/technology/)\\n\\n[Politics](https://www.cnbc.com/politics/)\\n\\n[Video](https://www.cnbc.com/tv/)\\n\\n[Watchlist](https://www.cnbc.com/watchlist/)\\n\\n[Investing Club](https://www.cnbc.com/investingclub/subscribe?__source=investingclub|globalnav|join&tpcc=investingclub|globalnav|join)\\n\\n[PRO](https://www.cnbc.com/application/pro?__source=pro|globalnav|join&tpcc=pro|globalnav|join)\\n\\n[Livestream](https://www.cnbc.com/live-tv/)\\n\\nMenu\\n\\nA trader works at the New York Stock Exchange on Aug. 25, 2025.\\n\\nNYSE\\n\\nStocks climbed on Friday, but still finished the week lower following the release of [crucial inflation data](https://www.cnbc.com/2025/09/26/pce-inflation-august-2025.html).\\n\\nThe [Dow Jones Industrial Average](https://www.cnbc.com/quotes/.DJI/) advanced 299.97 points, or 0.65%, to close at 46,247.29. The [S&P 500](https://www.cnbc.com/quotes/.SPX/) added 0.59% to close at 6,643.70, while the [Nasdaq Composite](https://www.cnbc.com/quotes/.IXIC/) rose 0.44% to settle at 22,484.07.\\n\\nFriday's rally snapped a three-day losing streak for the major indexes, but still ended the week down. The Nasdaq Composite and S&P 500 slid 0.7% and 0.3%, marking each index's first losing week in four. The Dow shed 0.2%.\\n\\nAugust's personal consumption expenditures price index, the Federal Reserve's preferred inflation measure, showed that core inflation \\u2013 a measure excluding food and energy costs \\u2013 ran at a 2.9% seasonally adjusted annual rate. That was in line with what economists polled by Dow Jones were expecting.\\n\\nThe all-items index showed an annual rate of 2.7% as well as a monthly gain of 0.3%, in line with expectations as well. Markets continue to price in two quarter-point rate cuts at the Fed's upcoming meetings, per the [CME FedWatch tool](https://www.cmegroup.com/markets/interest-rates/cme-fedwatch-tool.html), which is what the central bank has projected.\\n\\nThe outcome swayed market reaction a bit, with stock futures ticking higher, and came on the heels of [solid jobs data](https://www.cnbc.com/2025/09/25/jobless-claims-tumble-to-218000-well-below-estimate-despite-fears-of-labor-market-weakness.html) released Thursday and a strong upward revision in second-quarter gross domestic product to 3.8% that slightly dampened bullish sentiment. Investors fear fewer jobless claims could mean that the economy is in decent shape and therefore will give the Fed less reason to cut interest rates.\\n\\n\\\"Following a three-day pullback in the broader market, this is good enough to pull buyers off the sidelines,\\\" said David Russell, global head of market strategy at TradeStation. \\\"Yesterday's claims and GDP revision undermined the dovish narrative, but today's PCE calms some of those worries. No news is good news.\\\"\\n\\nConsumer sentiment in September was also [practically in line with expectations](https://www.cnbc.com/www.cnbc.com#108204474-q-qeC3pN0), with the University of Michigan reading only coming in slightly lower than expected. Notably, sentiment for the month especially held steady among those with bigger stock holdings.\\n\\nBut the market was hampered by continued losses in software giant [Oracle](https://www.cnbc.com/quotes/ORCL/) and other artificial intelligence players amid questions over the strength of the AI trade. Notably, Oracle fell more than 8% this week.\\n\\nFri, Sep 26 20254:18 PM EDT\\n\\n## Stocks finish higher\\n\\nThe three major indexes snapped losing streaks on Friday.\\n\\nThe [Dow](https://www.cnbc.com/quotes/.DJI/) rose around 300 points, or 0.7%. The [S&P 500](https://www.cnbc.com/quotes/.SPX/) and [Nasdaq Composite](https://www.cnbc.com/quotes/.IXIC/) gained 0.6% and 0.4%, respectively.\\n\\n_\\u2014 Alex Harring_\\n\\nFri, Sep 26 20253:42 PM EDT\\n\\n## CNBC Pro: Will the stock market get \\u2018Octoberphobia\\u2019 this year?\\n\\nWhile the market setup may be shaky heading into October, its recent September momentum may actually indicate there's even more upside in store for next month, according to Jeffrey Hirsch, editor of the Stock Trader's Almanac.\\n\\nStocks have surged to new heights this month, with the\\u00a0[S&P 500](https://www.cnbc.com/quotes/.SPX/)\\u00a0having scored a new all-time intraday and closing high on Monday. Its gains for the month stand at more than 2%, significantly better than its\\u00a0[average September pullback of 4.2%](https://www.cnbc.com/2025/08/25/setting-up-for-another-awful-september-the-months-track-record-has-been-abysmal-in-recent-years.html)\\u00a0in the last five years.\\n\\nWhile stocks have seen\\u00a0[three consecutive days of losses](https://www.cnbc.com/2025/09/24/stock-market-today-live-updates.html)\\u00a0amid rising concerns about elevated price levels and the sustainability of the artificial intelligence trade, Hirsch doesn't think that the market will face \\\"Octoberphobia\\\" \\u2013 a term used to describe the big market declines that have taken place in the month, like the crashes of 1929 and 1987. That's even taking into the fact that fresh all-time highs in September have historically been followed by moderately weaker performance in October.\\n\\n\\\"Valuations are high, \\\\[and\\\\] breadth has got some issues, but there's so much money going in,\\\" the editor said in an interview with CNBC. \\\"The bullish push, the bullish momentum, is really hard to deny, and it doesn't end early. These tops take a process.\\\"\\n\\nCNBC Pro subscribers can read more [here](https://www.cnbc.com/2025/09/26/will-the-stock-market-get-octoberphobia-this-year.html).\\n\\n_\\u2014 Sean Conlon_\\n\\nFri, Sep 26 20253:20 PM EDT\\n\\n## The S&P 500 testing its 50-day moving average would 'set up an attractive entry point' for a move higher heading into the end of 2025, BTIG says\\n\\nStocks could be most susceptible to a pullback since their April lows over the course of the next few weeks, and that could provide an opportunity for investors, according to Jonathan Krinsky, chief market technician at BTIG.\\n\\n\\\"An SPX test of the 50 DMA (6446) would represent the largest pullback since April, but would be a modest -3.8% off highs and consistent with what we have seen in 18 of the last 20 years,\\\" he said in a note dated Thursday. \\\"Ultimately this should set up an attractive entry point for a rally into year-end, but that's likely lower than current prices.\\\"\\n\\n_\\u2014 Sean Conlon_\\n\\nFri, Sep 26 20253:08 PM EDT\\n\\n## Wall Street largely bullish on Costco after earnings\\n\\nA shopper loads items into a vehicle at a Costco store in Vallejo, California, US, on Thursday, May 29, 2025.\\n\\nDavid Paul Morris \\\\| Bloomberg \\\\| Getty Images\\n\\nInvestors may have been disappointed in [Costco Wholesale](https://www.cnbc.com/quotes/COST/)'s latest earnings report, but many analysts on Wall Street remain bullish.\\n\\nThe warehouse retailer [beat on both earnings and revenue](https://www.cnbc.com/2025/09/25/costco-cost-q4-2025-earnings.html) for its fiscal fourth quarter, but said same-store sales rose 6.4% \\u2014 marking two quarters in a row of deceleration. Shares were down nearly 3% Friday.\\n\\n\\\"We still think COST is well-positioned to maintain its comp momentum due to: A) its expanded hours; B) its new merchandise slated for the holiday season; C) the momentum of its Kirkland signature brands; and D) its opportunities in digital,\\\" UBS wrote in a note Friday.\\n\\nRenewals ticked down marginally, but its membership growth and tier upgrade momentum remains intact, Morgan Stanley noted. It also pointed to its \\\"consistent execution\\\" in membership, core profitability and fee income.\\n\\nJPMorgan was also unconcerned about the reduced renewal rate and noted that stock headwinds are fading.\\n\\n\\\"No other major retailer has succeeded in every country it entered, and the club model ranks near auto parts, the top of the best sector in retail, in our view (with COST the clear market leader),\\\" analyst Christopher Horvers said in a note Thursday.\\n\\n_\\u2014 Michelle Fox_\\n\\nFri, Sep 26 20252:45 PM EDT\\n\\n## Electronic Arts shares surge after reported deal to go private\\n\\nShares of [Electronic Arts](https://www.cnbc.com/quotes/EA/) surged more than 14% Friday afternoon, following a [Wall Street Journal report](https://www.wsj.com/business/deals/ea-private-deal-buyout-video-game-maker-808aefec?), citing sources familiar, that said the videogame maker is nearing a deal to go private in what could be the biggest leveraged buyout of all time.\\n\\nA roughly $50 billion deal could be unveiled as soon as next week from a group of investors that includes private-equity firm Silver Lake and Saudi Arabia's Public Investment Fund, the report said.\\n\\nStock chart icon\\n\\nElectronic Arts, over one day\\n\\n_\\u2014 Sarah Min_\\n\\nFri, Sep 26 20252:19 PM EDT\\n\\n## Russell 2000 poised to end positive streak\\n\\nSmall cap stocks are on track to snap their win streak.\\n\\nDespite Friday's bounce, the [Russell 2000](https://www.cnbc.com/quotes/.RUT/) has fallen 0.8% week to date. If that holds, the index would record its first losing week of the last eight.\\n\\nStock chart icon\\n\\nRussell 2000, 3-month chart\\n\\n_\\u2014 Alex Harring_\\n\\nFri, Sep 26 20251:39 PM EDT\\n\\n## Paccar, Boeing, Intel among the stocks making midday moves\\n\\nCheck out the names making moves in midday trading Friday:\\n\\n[Paccar](https://www.cnbc.com/quotes/PCAR/)\\u00a0\\u2014 The maker of Peterbilt trucks\\u00a0[jumped 5%](https://www.cnbc.com/2025/09/26/peterbilt-owner-paccar-jumps-after-trump-tariffs-on-heavy-trucks.html)\\u00a0after President Donald Trump slapped a\\u00a0[25% tariff](https://www.cnbc.com/2025/09/26/trump-slaps-25percent-tariffs-on-heavy-trucks-imports-starting-oct-1.html)\\u00a0on imported heavy trucks starting Oct. 1.\\n\\n[Boeing](https://www.cnbc.com/quotes/BA/)\\u00a0\\\\- The aircraft maker rallied more than 4% after Turkish Airlines ordered 75 Boeing 787 aircraft and said it completed negotiations to buy 150 737 MAX planes. The deal came as Turkey President Tayyip Erdogan met with\\u00a0President Donald Trump. In addition, the Federal Aviation Administration said it\\u00a0[\\\"will allow limited delegation to Boeing for issuing airworthiness certificates](https://www.faa.gov/newsroom/faa-statement-boeing-airworthiness-certificates?Fds-Load-Behavior=force-external)\\u00a0for some 737 MAX and 787 airplanes\\\" starting Monday. An\\u00a0[airworthiness certificate](https://www.faa.gov/aircraft/air_cert/aw_cert)\\u00a0confirms an aircraft is safe to operate.\\n\\n[Intel](https://www.cnbc.com/quotes/INTC/)\\u00a0\\u2014 The chipmaker added 4%. The\\u00a0[Wall Street Journal reported](https://www.wsj.com/tech/intel-seeks-help-from-apple-and-others-as-u-s-backs-comeback-bid-1308f2e3?gaa_at=eafs&amp;amp;gaa_n=ASWzDAjYCqH_M7ITB_ToZSro4eZcpIrU1uFfIPA3XXRvxd1MLQLn3aG5lWBSrk2QWBk%3D&amp;amp;gaa_ts=68d67dd1&amp;amp;gaa_sig=C17DYMBeOQNdS3ubpDV8W5yplJlgtyPCJ89rU85b-eriIlsl-yUz9VBvcOT8y6wqU2fP2yurl5qaqLZ_j_IvWQ%3D%3D)\\u00a0that Intel had approached\\u00a0[Apple](https://www.cnbc.com/quotes/AAPL/),\\u00a0[Taiwan Semiconductor](https://www.cnbc.com/quotes/TSM/)\\u00a0and other companies about investing in the beleaguered company.\\n\\nRead [here](https://www.cnbc.com/2025/09/26/stocks-making-the-biggest-moves-midday-ba-mir-pcar.html) for the full list.\\n\\n_\\u2014 Scott Schnipper_\\n\\nFri, Sep 26 202512:48 PM EDT\\n\\n## Paccar shares surge following Trump\\u2019s announcement about tariffs on heavy trucks\\n\\nIn an aerial view, brand new trucks are displayed at TEC Equipment on Sept. 26, 2025 in Dixon, California.\\n\\nJustin Sullivan \\\\| Getty Images\\n\\nShares of\\u00a0[Paccar](https://www.cnbc.com/quotes/PCAR/)\\u00a0jumped about 5% on Friday after President Donald Trump announced that he will impose a 25% tariff on imported heavy trucks beginning Oct. 1.\\n\\n[Trump said](https://www.cnbc.com/2025/09/26/trump-slaps-25percent-tariffs-on-heavy-trucks-imports-starting-oct-1.html)\\u00a0in a social media post Thursday that \\\"large Truck Company Manufacturers, such as Peterbilt, Kenworth, Freightliner, Mack Trucks, and others, will be protected from the onslaught of outside interruptions.\\\"\\n\\nRead more [here](https://www.cnbc.com/2025/09/26/peterbilt-owner-paccar-jumps-after-trump-tariffs-on-heavy-trucks.html).\\n\\nStock chart icon\\n\\nPCAR, 1-day\\n\\n_\\u2014 Spencer Kimball_\\n\\nFri, Sep 26 202512:02 PM EDT\\n\\n## Macroeconomic backdrop 'remains supportive' for equity returns, UBS says\\n\\nStocks could see more gains due to a \\\"supportive\\\" macroeconomic backdrop, even if their prices remain elevated, said Ulrike Hoffmann-Burchardi of UBS Financial Services.\\n\\n\\\"High valuations historically have not been a clear signal for returns over the next 12 months,\\\" the firm's global head of equities wrote on Friday, noting that instead earnings growth and Federal Reserve policy have carried more influence historically.\\n\\nHoffmann-Burchardi pointed out that even with high valuations, stocks \\\"performed well\\\" in 1999 and 2021 thanks to strong earnings growth and an accommodative monetary policy stance from the Fed. She also noted that stocks struggled in 2000 and 2022 as earnings momentum \\\"stagnated\\\" and the central bank increased interest rates to slow economic activity.\\n\\n\\\"The macro backdrop this year remains supportive, and we do not see any negative catalyst on the horizon that could drive a material derating,\\\" Hoffmann-Burchardi added.\\n\\n_\\u2014 Sean Conlon_\\n\\nFri, Sep 26 202510:54 AM EDT\\n\\n## BMO Capital Markets increases year-end S&P 500 target to 7,000\\n\\nThe [S&P 500](https://www.cnbc.com/quotes/.SPX/) could see even more upside heading into the end of the year, according to BMO Capital Markets.\\n\\nOn Friday, the firm increased its 2025 price target on the S&P 500 to 7,000, implying about 6% upside from Thursday's closing price.\\n\\n\\\"US economic growth and labor market remain relatively resilient. Inflation impact from tariffs winds up being more manageable than current worries. Similarly, fears about tariffs impacting earnings growth never really materialize,\\\" Brian Belski, the firm's chief investment strategist, wrote in a note. \\\"The rest of the index continues to pick up the slack from some of the waning mega-cap relative performance, leading to a slightly higher than normal calendar year return.\\\"\\n\\nThe move comes after the broad market index reached new highs this week. With that, Belski is going to \\\"chase this bull market,\\\" adding that 7,000 \\\"might end up being too low.\\\"\\n\\n\\\"However, markets are rarely linear for long and a blow-off top and eventual settling-in phase at 7,000 is a more prudent and likely result,\\\" he continued. \\\"Thus, we gladly accept the unabashedly bullish label undoubtedly coming our way.\\\"\\n\\n_\\u2014 Sean Conlon_\\n\\nFri, Sep 26 202510:18 AM EDT\\n\\n## Consumer sentiment falls, except for those with big stock holdings, survey finds\\n\\nCustomers line up at the check out booth on April 18, 2025 at a Costco branch in Niantic, Connecticut.\\n\\nRobert Nickelsberg \\\\| Getty Images\\n\\nConsumer sentiment receded in September, though roughly in line with expectations, according to the latest reading from the University of Michigan.\\n\\nThe survey's [index of consumer sentiment](https://www.sca.isr.umich.edu/) registered a 55.1 reading, just below the Dow Jones consensus forecast of 55.4. That marked a 5.3% drop from August and a 21.6% slide from the same period a year ago.\\n\\nSentiment declines came \\\"across a broad swath of the population, across groups by age, income, and education, and all five index components,\\\" said survey director Joanne Hsu.\\n\\n\\\"A key exception: sentiment for consumers with larger stock holdings held steady in September, while for those with smaller or no holdings, sentiment decreased,\\\" she added.\\n\\nPolitically, Hsu noted that while sentiment fell for independents and Republicans but actually rose for Democrats.\\n\\nInflation expectations held fairly steady, with the one-year outlook at 4.7% and the five-year at 3.7%. Current conditions and future expectations indexes also registered declines.\\n\\n\\\"Consumers continue to express frustration over the persistence of high prices, with 44% spontaneously mentioning that high prices are eroding their personal finances, the highest reading in a year,\\\" Hsu said.\\n\\n_\\u2014 Jeff Cox_\\n\\nFri, Sep 26 20259:34 AM EDT\\n\\n## Stocks move higher Friday\\n\\nStocks traded up on Friday morning, reversing course from the prior day's losses.\\n\\nThe S&P 500 advanced 0.4% shortly after the opening bell, while the Nasdaq Composite traded up 0.3%. The Dow Jones Industrial Average also climbed 214 points, or 0.5%.\\n\\n_\\u2014 Sean Conlon_\\n\\nFri, Sep 26 20259:02 AM EDT\\n\\n## Paccar, Intel, RH among the stocks making premarket moves\\n\\nSome stocks, including Paccar and Intel, are making big moves before the bell Friday:\\n\\n- [Paccar](https://www.cnbc.com/quotes/PCAR/)\\u00a0\\u2014 The maker of Peterbilt trucks\\u00a0[jumped 7%](https://www.cnbc.com/2025/09/26/peterbilt-owner-paccar-jumps-after-trump-tariffs-on-heavy-trucks.html)\\u00a0after President Donald Trump said slapped a\\u00a0[25% tariff](https://www.cnbc.com/2025/09/26/trump-slaps-25percent-tariffs-on-heavy-trucks-imports-starting-oct-1.html)\\u00a0on imported heavy trucks starting Oct. 1.\\n- [Intel](https://www.cnbc.com/quotes/INTC/)\\u00a0\\u2014 The chip company added 4.4%. The Wall Street Journal\\u00a0[reported](https://www.wsj.com/tech/intel-seeks-help-from-apple-and-others-as-u-s-backs-comeback-bid-1308f2e3?gaa_at=eafs&amp;amp;gaa_n=ASWzDAjYCqH_M7ITB_ToZSro4eZcpIrU1uFfIPA3XXRvxd1MLQLn3aG5lWBSrk2QWBk%3D&amp;amp;gaa_ts=68d67dd1&amp;amp;gaa_sig=C17DYMBeOQNdS3ubpDV8W5yplJlgtyPCJ89rU85b-eriIlsl-yUz9VBvcOT8y6wqU2fP2yurl5qaqLZ_j_IvWQ%3D%3D)\\u00a0Intel has approached\\u00a0[Apple](https://www.cnbc.com/quotes/AAPL/),\\u00a0[Taiwan Semiconductor](https://www.cnbc.com/quotes/TSM/)\\u00a0and other companies about investing in the beleaguered company.\\n- Furniture stocks \\u2014 President Trump said he is imposing a 30% tariff on upholstered furniture, effective Oct. 1, sending shares of furniture retailers lower.\\u00a0[RH](https://www.cnbc.com/quotes/RH/)\\u00a0tumbled nearly 4%, while\\u00a0[Wayfair](https://www.cnbc.com/quotes/W/)\\u00a0and\\u00a0[Williams-Sonoma](https://www.cnbc.com/quotes/WSM/)\\u00a0both fell about 3%.\\n\\nRead [here](https://www.cnbc.com/2025/09/26/stocks-making-big-premarket-moves-paccar-intel-rh-riot-platforms-and-more.html) for the full list of names.\\n\\n_\\u2014 Michelle Fox_\\n\\nFri, Sep 26 20258:37 AM EDT\\n\\n## Core PCE rises 2.9% year over year in August, as expected\\n\\nThe core personal consumption expenditures price index [rose 2.9% year over year in August](https://www.cnbc.com/2025/09/26/pce-inflation-august-2025.html), in line with a Dow Jones estimate. The report is likely to keep expectations for rate cuts in place.\\n\\n_\\u2014 Fred Imbert_\\n\\nFri, Sep 26 20257:57 AM EDT\\n\\n## Costco shares fall as same-store sales decelerate again\\n\\nThe Costco Wholesale logo is seen on the exterior of a store in Edmonton, Alberta, Canada, on May 29, 2025.\\n\\nArtur Widak \\\\| Nurphoto \\\\| Getty Images\\n\\n[Costco](https://www.cnbc.com/quotes/COST/) shares were nearly 1% lower in premarket trading Friday on the heels of the retailer's [latest quarterly results](https://www.cnbc.com/2025/09/25/costco-cost-q4-2025-earnings.html).\\n\\nThe company's same-store sales increased 6.4% excluding the impact from changes in gas prices and foreign exchange. That signifies two straight quarter of decelerating same-store sales for the company.\\n\\nHowever, its earnings and revenue for the fourth quarter beat analyst estimates. Costco reported $5.87 per share on revenue of $86.16 billion, above the $5.80 per share and $86.06 billion in revenue that analysts surveyed by LSEG were expecting.\\n\\nStock chart icon\\n\\nCOST, 1-day\\n\\n_\\u2014 Melissa Repko, Sean Conlon_\\n\\nFri, Sep 26 20257:25 AM EDT\\n\\n## Oracle and Nvidia shares move lower amid AI trade pressure\\n\\nShares of artificial intelligence players [Oracle](https://www.cnbc.com/quotes/ORCL/) and [Nvidia](https://www.cnbc.com/quotes/NVDA/) were 0.4% and 0.6% lower in the premarket on Friday, respectively.\\n\\nOracle closed lower for the third consecutive day Thursday. Traders have been watching the stock all week as a barometer for health of the AI trade.\\n\\nNvidia, however, closed higher in the previous day's session after seeing two straight days of losses.\\n\\nStock chart icon\\n\\nORCL vs. NVDA, 1-day\\n\\n_\\u2014 Sean Conlon_\\n\\nFri, Sep 26 20255:56 AM EDT\\n\\n## What economists expect from Friday's PCE report\\n\\nHere are the Dow Jones consensus estimates for the inflation report due out later in the day:\\n\\n- PCE price index month over month: up 0.3%\\n- PCE price index year over year: up 2.7%\\n- Core PCE price index month over month: up 0.2%\\n- Core PCE price index year over year: up 2.9%\\n\\n_\\u2014 Fred Imbert_\\n\\nThu, Sep 25 20257:00 PM EDT\\n\\n## Shares of Costco, Concentrix move after market close on the back of earnings results\\n\\n[Costco](https://www.cnbc.com/quotes/COST/) and [Concentrix](https://www.cnbc.com/quotes/CNXC/) were among the companies moving after Thursday's close.\\n\\n- Shares of Costco dipped about 0.9% after the warehouse retailer [reported fiscal fourth-quarter earnings and revenue](https://www.cnbc.com/2025/09/25/costco-cost-q4-2025-earnings.html) that beat analysts' estimates, supported by double-digit gains in both membership income and its e-commerce business. Costco earned $5.87 per share on revenue of $86.16 billion, while analysts polled by LSEG expected earnings of $5.80 per share on revenue of $86.06 billion.\\n- Shares of Concentrix plunged nearly 22% in after-hours trading. The technology and services company missed earnings expectations and lowered its forecast. The company earned $2.78 per share after adjustments, while analysts polled by LSEG expected $2.87 per share. Revenue of $2.48 billion exceeded the consensus view of $2.46 billion. Concentrix boosted its quarterly dividend by 8.2% to 36 cents per share.\\n\\n_\\u2014 Pia Singh_\\n\\nThu, Sep 25 20256:12 PM EDT\\n\\n## Fundstrat's Tom Lee: Markets will stay strong in the case of just one more Fed rate cut this year\\n\\nTom Lee, managing partner and head of research at Fundstrat Global Advisors, speaking on CNBC's \\\"The Exchange\\\" on Oct. 31, 2023.\\n\\nAdam Jeffery \\\\| CNBC\\n\\nMarkets are still pricing in two more rate cuts this year, but the possibility of just one more rate cut isn't necessarily bad news, according to Fundstrat head of research Tom Lee.\\n\\nIf the Federal Reserve decides to only implement one rate cut by the end of 2025, Lee told CNBC on Thursday that he thinks \\\"markets would interpret that in a good way, in the sense that they'd rather see the fed cutting into strong economy rather than weak.\\\"\\n\\nLee's comments come after market participants slightly dialed back their expectations of a quarter-point rate cut from the Fed after seeing fewer-than-expected initial jobless claims on Thursday.\\n\\n\\\"We know that the Fed was lagging in it's easing because of that imputed shelter inflation, but the reality is they should have been easing sooner ... and so I think that we have to be careful,\\\" Lee said. When the Feds talking about that imputed effect, it doesn't mean we have to start a new hiking cycle just because it takes a while to show up. And I think that's why markets are going to see through that.\\\"\\n\\n_\\u2014 Pia Singh_\\n\\nThu, Sep 25 20256:03 PM EDT\\n\\n## U.S. stock futures open little changed\\n\\nShortly after 6 p.m. ET on Thursday, [futures tied to the\\u00a0S&P 500](https://www.cnbc.com/quotes/@SP.1/)\\u00a0and [Nasdaq-100 futures](https://www.cnbc.com/quotes/@ND.1/) each rose less than 0.1%. [Futures tied to the\\u00a0Dow Jones Industrial Average](https://www.cnbc.com/quotes/@DJ.1/)\\u00a0ticked higher by 16 points, or less than 0.1%.\\n\\n_\\u2014 Pia Singh_\",\n",
      "  \"result\": {\n",
      "    \"company_name\": \"Meta Platforms, Inc.\",\n",
      "    \"stock_code\": \"META\",\n",
      "    \"newsdesc\": \"Meta Platforms has outperformed the market with a 22.9% increase in shares over the past six months, reaching an all-time high. CEO Mark Zuckerberg sold $14.19 million in stock, while the company plans layoffs and is negotiating to acquire an AI chip startup. Analysts maintain a strong buy rating, citing advancements in AI and digital ads.\",\n",
      "    \"sentiment\": \"Positive\",\n",
      "    \"people_names\": [\n",
      "      \"Mark Zuckerberg\"\n",
      "    ],\n",
      "    \"places_names\": [\n",
      "      \"Germany\",\n",
      "      \"South Korea\"\n",
      "    ]\n",
      "  }\n",
      "}\n"
     ]
    }
   ],
   "source": [
    "out = analyze_company_sentiment(\"Facebook\")\n",
    "print(json.dumps(out, indent=2))"
   ]
  },
  {
   "cell_type": "code",
   "execution_count": 45,
   "id": "15b99d22",
   "metadata": {},
   "outputs": [
    {
     "name": "stdout",
     "output_type": "stream",
     "text": [
      "[INFO] News provider: Exa\n"
     ]
    },
    {
     "name": "stderr",
     "output_type": "stream",
     "text": [
      "2025-09-29 12:18:24,743 [INFO] HTTP Request: POST https://eastus.api.cognitive.microsoft.com/openai/deployments/gpt4o/chat/completions?api-version=2024-08-01-preview \"HTTP/1.1 200 OK\"\n"
     ]
    },
    {
     "name": "stdout",
     "output_type": "stream",
     "text": [
      "🏃 View run Infosys at: http://20.75.92.162:5000/#/experiments/391555380109070687/runs/dde939d0263a4881a358e4dde7b6cc66\n",
      "🧪 View experiment at: http://20.75.92.162:5000/#/experiments/391555380109070687\n",
      "{\n",
      "  \"company_name\": \"Infosys\",\n",
      "  \"stock_code\": \"UNKNOWN\",\n",
      "  \"news\": \"- NYSE - Delayed Quote\\u2022USD\\n\\n# Infosys Limited (INFY)\\n\\nFollow\\n\\n[Compare](https://finance.yahoo.com/compare/INFY)\\n\\n1D\\n5D\\n\\n### -2.20%\\n\\n1M\\n\\n### -4.19%\\n\\n6M\\n\\n### 2.06%\\n\\nYTD\\n\\n### -1.58%\\n\\n1Y\\n\\n### 7.99%\\n\\n5Y\\n\\n### 93.85%\\n\\nAll\\n\\n### 3,624.42%\\n\\nKey Events\\n\\nMountain\\n\\nLine\\n\\nCandle\\n\\nBaseline\\n\\nMountain\\n\\nBar\\n\\n[Advanced Chart](https://finance.yahoo.com/chart/INFY)\\n\\nLoading Chart for INFY\\n\\n9/21 12:03 PM\\n\\nDELL\\n\\n(left-click to pin tooltip)(right-click to deleteright-click to manage)(long-press to drag)(drag to change anchor time)\\n\\n| | |\\n| --- | --- |\\n| Date | |\\n| Close | |\\n| Open | |\\n| High | |\\n| Low | |\\n| Volume | |\\n\\n- Previous Close21.97\\n- Open21.59\\n- Bid21.37 x 3200\\n- Ask21.59 x 1300\\n- Day's Range21.51 - 21.75\\n- 52 Week Range16.04 - 23.63\\n- Volume5,914,169\\n- Avg. Volume7,940,815\\n- Market Cap (intraday)90.09B\\n- Beta (5Y Monthly)0.63\\n- PE Ratio (TTM)27.53\\n- EPS (TTM)0.79\\n- Earnings DateApr 16, 2025 - Apr 21, 2025\\n- Forward Dividend & Yield0.50 (2.30%)\\n- Ex-Dividend DateOct 29, 2024\\n- 1y Target Est23.85\\n\\n## Infosys Limited OverviewInformation Technology Services / Technology\\n\\nInfosys Limited, together with its subsidiaries, provides consulting, technology, outsourcing, and next-generation digital services in North America, Europe, India, and internationally. It provides digital marketing and digital workplace, digital commerce, digital experience and interactions, metaverse, data analytics and AI, applied AI, generative AI, sustainability, blockchain, engineering, Internet of Things, enterprise agile DevOps, application modernization, cloud, digital process automation, digital supply chain, Microsoft business application and cloud business, service experience transformation, energy transition, cyber security, and quality engineering solutions; Oracle, SAP, and Saleforce solutions; API economy and microservices; and Topaz, an AI-first set of services, solutions, and platforms using generative AI technologies. The company's products and platforms include Finacle, a core banking solution; Edge suite of products; Panaya platform, Infosys Equinox, Infosys Helix, Infosys Applied AI, Infosys Cortex, and Stater digital platforms; and Infosys McCamish, an insurance platform. It serves aerospace and defense, agriculture, automotive, chemical manufacturing, communication, consumer packaged goods, education, engineering procurement and construction, healthcare, high technology, industrial manufacturing, information services and publishing, insurance, life science, logistics and distribution, media, entertainment, mining, oil and gas, private equity, professional, public, retail, travel, hospitality, utilities, and waste management industries. The company was formerly known as Infosys Technologies Limited and changed its name to Infosys Limited in June 2011. Infosys Limited was incorporated in 1981 and is headquartered in Bengaluru, India.\\n\\n[www.infosys.com](https://www.infosys.com)\\n\\n317,788\\n\\n### Full Time Employees\\n\\nMarch 31\\n\\n### Fiscal Year Ends\\n\\n[Technology](https://finance.yahoo.com/sectors/technology/)\\n\\n### Sector\\n\\n[Information Technology Services](https://finance.yahoo.com/sectors/technology/information-technology-services/)\\n\\n### Industry\\n\\nAllNewsPress Releases\\n\\nSEC Filings\\n\\nAll SEC Filings\\n\\nCorporate Changes & Voting Matters\\n\\nPeriodic Financial Reports\\n\\nProxy Statements\\n\\nTender Offer/Acquisition Reports\\n\\nOffering Registrations\\n\\nTrailing total returns as of 2/13/2025, which may include dividends or other distributions. Benchmark is\\n\\n[S&P BSE SENSEX](https://finance.yahoo.com/quote/%5EBSESN/)\\n\\n.\\n\\nINFY\\n\\n1.58%\\n\\nS&P BSE SENSEX\\n\\n2.56%\\n\\nINFY\\n\\n11.44%\\n\\nS&P BSE SENSEX\\n\\n6.41%\\n\\nINFY\\n\\n5.78%\\n\\nS&P BSE SENSEX\\n\\n30.93%\\n\\nINFY\\n\\n119.34%\\n\\nS&P BSE SENSEX\\n\\n83.65%\\n\\nSelect to analyze similar companies using key performance metrics; select up to 4 stocks.\\n\\n[INFY\\\\\\n\\\\\\nInfosys Limited](https://finance.yahoo.com/quote/INFY/)\\n\\n21.75\\n\\n-1.00%\\n\\nMkt Cap90.09B\\n\\nIndustryInformation Technology Services\\n\\n[WIT\\\\\\n\\\\\\nWipro Limited](https://finance.yahoo.com/quote/WIT/)\\n\\n3.6300\\n\\n-1.36%\\n\\nMkt Cap37.968B\\n\\nIndustryInformation Technology Services\\n\\n[TCS.NS\\\\\\n\\\\\\nTata Consultancy Services Limited](https://finance.yahoo.com/quote/TCS.NS/)\\n\\n3,910.15\\n\\n-1.01%\\n\\nMkt CapINR 14.147T\\n\\nIndustryInformation Technology Services\\n\\n[CTSH\\\\\\n\\\\\\nCognizant Technology Solutions Corporation](https://finance.yahoo.com/quote/CTSH/)\\n\\n88.08\\n\\n+0.24%\\n\\nMkt Cap43.6B\\n\\nIndustryInformation Technology Services\\n\\n[HCLTECH.NS\\\\\\n\\\\\\nHCL Technologies Limited](https://finance.yahoo.com/quote/HCLTECH.NS/)\\n\\n1,703.10\\n\\n-0.83%\\n\\nMkt CapINR 4.616T\\n\\nIndustryInformation Technology Services\\n\\n[PONY\\\\\\n\\\\\\nPony AI Inc.](https://finance.yahoo.com/quote/PONY/)\\n\\n16.00\\n\\n+13.56%\\n\\nMkt Cap5.583B\\n\\nIndustryInformation Technology Services\\n\\n[CLVT\\\\\\n\\\\\\nClarivate Plc](https://finance.yahoo.com/quote/CLVT/)\\n\\n4.8100\\n\\n-1.23%\\n\\nMkt Cap3.417B\\n\\nIndustryInformation Technology Services\\n\\n[DXC\\\\\\n\\\\\\nDXC Technology Company](https://finance.yahoo.com/quote/DXC/)\\n\\n20.06\\n\\n-0.10%\\n\\nMkt Cap3.632B\\n\\nIndustryInformation Technology Services\\n\\n[VNET\\\\\\n\\\\\\nVNET Group, Inc.](https://finance.yahoo.com/quote/VNET/)\\n\\n11.31\\n\\n+13.44%\\n\\nMkt Cap3.019B\\n\\nIndustryInformation Technology Services\\n\\n[ACN\\\\\\n\\\\\\nAccenture plc](https://finance.yahoo.com/quote/ACN/)\\n\\n388.83\\n\\n-0.30%\\n\\nMkt Cap243.205B\\n\\nIndustryInformation Technology Services\\n\\n[WNS\\\\\\n\\\\\\nWNS (Holdings) Limited](https://finance.yahoo.com/quote/WNS/)\\n\\n58.04\\n\\n-2.58%\\n\\nMkt Cap2.521B\\n\\nIndustryInformation Technology Services\\n\\nCurrentQuarterly[Annual](https://finance.yahoo.com/about/plans/select-plan/historicalStatistics/?.done=%2Fquote%2FINFY%2F&ncid=100001118)\\n\\nAs of 2/12/2025\\n\\n- Market Cap\\n\\n88.90B\\n\\n- Enterprise Value\\n\\n86.17B\\n\\n- Trailing P/E\\n\\n27.53\\n\\n- Forward P/E\\n\\n25.25\\n\\n- PEG Ratio (5yr expected)\\n\\n2.44\\n\\n- Price/Sales (ttm)\\n\\n4.72\\n\\n- Price/Book (mrq)\\n\\n8.74\\n\\n- Enterprise Value/Revenue\\n\\n4.51\\n\\n- Enterprise Value/EBITDA\\n\\n16.66\\n\\n\\n#### Profitability and Income Statement\\n\\n- Profit Margin\\n\\n17.16%\\n\\n- Return on Assets (ttm)\\n\\n15.25%\\n\\n- Return on Equity (ttm)\\n\\n31.40%\\n\\n- Revenue (ttm)\\n\\n18.84B\\n\\n- Net Income Avi to Common (ttm)\\n\\n3.23B\\n\\n- Diluted EPS (ttm)\\n\\n0.79\\n\\n\\n#### Balance Sheet and Cash Flow\\n\\n- Total Cash (mrq)\\n\\n3.49B\\n\\n- Total Debt/Equity (mrq)\\n\\n9.70%\\n\\n- Levered Free Cash Flow (ttm)\\n\\n2.29B\\n\\n\\nWIT Wipro Limited\\n\\n**3.6300**\\n\\n-1.36%\\n\\nIBN ICICI Bank Limited\\n\\n**28.85**\\n\\n-0.59%\\n\\nCTSH Cognizant Technology Solutions Corporation\\n\\n**88.08**\\n\\n+0.24%\\n\\nHDB HDFC Bank Limited\\n\\n**60.28**\\n\\n-0.66%\\n\\nRDY Dr. Reddy's Laboratories Limited\\n\\n**13.80**\\n\\n-0.07%\\n\\nSAY Saratoga Investment Corp 8.125%\\n\\n**25.50**\\n\\n0.00%\\n\\nSAP SAP SE\\n\\n**290.97**\\n\\n+0.73%\\n\\nJNPR Juniper Networks, Inc.\\n\\n**36.35**\\n\\n+0.69%\\n\\nACN Accenture plc\\n\\n**388.83**\\n\\n-0.30%\\n\\nAKAM Akamai Technologies, Inc.\\n\\n**101.06**\\n\\n-0.32%\\n\\nCHKP Check Point Software Technologies Ltd.\\n\\n**216.86**\\n\\n-0.76%\\n\\nNTAP NetApp, Inc.\\n\\n**117.90**\\n\\n-1.39%\\n\\nVRSN VeriSign, Inc.\\n\\n**227.49**\\n\\n+0.05%\\n\\nINTU Intuit Inc.\\n\\n**576.54**\\n\\n-1.59%\\n\\nIFN The India Fund, Inc.\\n\\n**15.78**\\n\\n-0.50%\\n\\nFFIV F5, Inc.\\n\\n**310.60**\\n\\n+0.72%\\n\\nWaiting for permission\\n\\nAllow microphone access to enable voice search\\n\\nTry again.\\n\\nTry saying\\n- Figurines with computers and smartphones are seen in front of Infosys logo in this illustration taken, February 19, 2024. REUTERS/Dado Ruvic/Illustration/File Photo Purchase Licensing Rights, opens new tab Sept 11 (Reuters) - India's No. 2 IT services provider Infosys (INFY.NS), opens new tab approved a share buyback worth 180 billion rupees ($2.04 billion), its largest ever, the company said on Thursday. It has set a buyback price of 1,800 rupees per share, and said the repurchase would be conducted via the tender offer route. Sign up here. The latest buyback is also the fifth in the company's history. The last repurchase was carried out in 2022-2023. \\\"Indian IT companies are largely service-driven and investor friendly and that's why they are still looking at buybacks. They should look at M&amp;A and also build products aimed at AI and cloud like the big tech companies of the U.S.,\\\" says Gaurav Vasu, founder of market research firm UnearthInsight. U.S.-listed shares of Infosys were up 0.03% at $16.99 after the announcement. Its shares in Mumbai, India closed 1.5% lower at 1,509.7 rupees on Thursday. ($1 = 88.2740 Indian rupees) Reporting by Anuran Sadhu, Haripriya Suresh in Bengaluru; Additional reporting by Harshita Meenaktshi; Editing by Anil D'Silva and Shilpi Majumdar Our Standards: The Thomson Reuters Trust Principles., opens new tab\\n- \\n \\n \\nInfosys (NYSE:INFY) is one of the best growth stocks under $50 to buy now. In a report released on September 3, Harry Read from Redburn Atlantic initiated coverage on Infosys (NYSE:INFY) with a Sell rating and a price target of $12.00. In other news, Infosys (NYSE:INFY) announced a\\u2026\\n \\n \\nThis story appeared on finance.yahoo.com, 2025-09-11 16:49:18.\\n \\n\\n- 20 Aug 2025 | 06:38:54 PM IST Infosys share price live updates Stay up-to-date with the Infosys Stock Liveblog, your trusted source for real-time updates and thorough analysis of a prominent stock. Explore the latest details on Infosys, including: Last traded price 1496.2, Market capitalization: 621562.27, Volume: 10413061, Price-to-earnings ratio 22.8, Earnings per share 65.63. Get a comprehensive understanding of Infosys with our coverage of both fundamental and technical indicators. Stay informed about breaking news that can have a significant impact on Infosys's performance. Our expert opinions and recommendations empower you to make well-informed investment choices. Trust the Infosys Stock Liveblog to keep you informed and equipped in the dynamic market landscape. The data points are updated as on 06:38:53 PM IST, 20 Aug 2025 Show more Show less Infosys Share Price Live Updates: Infosys Stock Price History Monitor and analyze historical Infosys Stock Prices Infosys Share Price Live Updates: Infosys Stock Price History Monitor and analyze historical Infosys Stock Prices Infosys Share Price Live Updates: Infosys Bonus Updates Enhance your investment potential with Infosys Bonus Infosys Share Price Live Updates: Infosys Ends the Day at Rs 1496.2 Infosys closed at Rs 1496.2 today, reflecting a notable rise of 3.91%. Infosys Share Price Live Updates: Infosys shows resilience with today's price increase Infosys is currently priced at Rs 1495.3, reflecting a solid increase of 3.85% today, while its six-month performance reveals a downturn of 17.01%. Infosys Share Price Live Updates: Infosys sees a positive shift in market sentiment Infosys is currently valued at Rs 1496.6, marking a rise of 3.94% today, alongside a return of 2.46% over the previous three months. Infosys Share Price Live Updates: Infosys Market Performance Infosys is trading at Rs 1486.00, indicating a significant rise of 3.2% today. The stock boasts a strong 5-year return of 57.72%. Infosys Share Price Live Updates: Infosys Dividend Updates Explore the history of dividend payments, dividend yield and upcoming dividends: Infosys Dividend Infosys Share Price Live Updates: Infosys Stock Overview Infosys is currently trading at Rs 1484.40, reflecting a robust increase of 3.09% today. The 3-day simple moving average at Rs 1445.23 suggests a positive trend in its recent performance. Infosys Share Price Live Updates: Infosys Price Movement Analysis Infosys shares are priced at Rs 1487.50, reflecting a daily change of 3.3%. The current 7-day simple moving average (SMA7) is Rs 1450.46. Infosys Share Price Live Updates: Current Trading Status of Infosys Infosys is trading at Rs 1486.10, reflecting a significant increase of 3.21% today, with 1-day returns noted at 0.19%. Infosys Share Price Live Updates: Infosys Current Price Update Infosys is currently trading at Rs 1485.60, showing a significant increase of 3.17% today, despite a one-year return of -19.18%. Infosys Share Price Live Updates: Infosys News Stay up-to-date with the latest developments and Infosys News Infosys Share Price Live Updates: Infosys Stock Price Insights Infosys is currently priced at Rs 1484.00, with a daily increase of 3.06%. The 7-day exponential moving average is Rs 1454.84. Infosys Share Price Live Updates: Infosys Receives New Recommendation from JM Financial Infosys has garnered a new recommendation from JM Financial, showcasing a potential upside of 24.35%. The target price is set at Rs 1840.0, with the stock priced at Rs 1479.75 at the time of the recommendation. Currently, the stock remains at Rs 1479.75. Infosys Share Price Live Updates: Positive momentum for Infosys in today's trading session Infosys is priced at Rs 1480.1, showing a gain of 2.79% today, while its six-month beta stands at 0.3803. Infosys Share Price Live Updates: Infosys employees get higher performance bonus for June quarter The details of the range were not available, but it has gone up at least by 20% since the fourth quarter Infosys Share Price Live Updates: Infosys Stock Overview Infosys is currently trading at Rs 1481.30, reflecting a robust increase of 2.87% today. The 3-day exponential moving average at Rs 1456.33 suggests a positive trend. Infosys Share Price Live Updates: Positive Momentum for Infosys Infosys has achieved a positive price breakout and is trading above its third resistance level (R3), with the price at Rs 1474.4, while R3 stands at Rs 1474.1. Infosys Share Price Live Updates: Infosys Market Update At Rs 1472.60, Infosys has experienced a 2.27% increase today, but its 1-week returns are down by 4.15%. Infosys Share Price Live Updates: Infosys Stock Details Discover the latest market updates and real-time stock information on Infosys Stock Infosys Share Price Live Updates: Infosys Market Update Infosys shares are currently trading at Rs 1464.60, reflecting a 1.71% increase today. The 5-day exponential moving average is Rs 1453.85. Infosys Share Price Live Updates: Uniting Financial Services, Australia Subscribes To Infosys Finacle'S Digital Banking Saas Suite On AWS Cloud Infosys Share Price Live Updates: Positive Momentum for Infosys Infosys has achieved a favorable price breakout, currently trading above its second resistance level (R2) with a price of Rs 1457.5, just above R2 at Rs 1457.4. Infosys Share Price Live Updates: Infosys Volume Statistics Infosys reported a trading volume of 3,986,094 shares, with the average volume for the past week at 9,042,470 shares. Infosys Share Price Live Updates: Infosys struggles with negative monthly performance Infosys has seen a negative return of -5.56% in the past month, highlighting recent struggles. Infosys Share Price Live Updates: Infosys Reports Negative Weekly Returns The latest data shows that Infosys has recorded a -4.15% return over the past week, highlighting a significant drop in its market performance. Infosys Share Price Live Updates: Solid 3M returns for Infosys Infosys has delivered a solid return of 2.46% in the last three months, showcasing its stability amid market fluctuations. Infosys Share Price Live Updates: Infosys ends the day at Rs 1435.8 with a positive change Infosys closed at Rs 1435.8 yesterday, showing a 0.19% increase, alongside a trading volume of 7,254,561 shares.\\n- \\n \\n \\nThis story appeared on bloomberg.com, 2025-09-11 16:50:02.889000.\\n \\n\",\n",
      "  \"result\": {\n",
      "    \"company_name\": \"Infosys Limited\",\n",
      "    \"stock_code\": \"INFY\",\n",
      "    \"newsdesc\": \"Infosys announced a share buyback worth 180 billion rupees, its largest ever, with a buyback price set at 1,800 rupees per share.\",\n",
      "    \"sentiment\": \"Positive\",\n",
      "    \"people_names\": [\n",
      "      \"Gaurav Vasu\"\n",
      "    ],\n",
      "    \"places_names\": [\n",
      "      \"Bengaluru\",\n",
      "      \"India\"\n",
      "    ]\n",
      "  }\n",
      "}\n"
     ]
    }
   ],
   "source": [
    "out = analyze_company_sentiment(\"Infosys\")\n",
    "print(json.dumps(out, indent=2))"
   ]
  },
  {
   "cell_type": "code",
   "execution_count": null,
   "id": "46e3995d",
   "metadata": {},
   "outputs": [
    {
     "name": "stdout",
     "output_type": "stream",
     "text": [
      "[INFO] News provider: Exa\n"
     ]
    },
    {
     "name": "stderr",
     "output_type": "stream",
     "text": [
      "2025-09-25 17:03:59,119 [INFO] HTTP Request: POST https://eastus.api.cognitive.microsoft.com/openai/deployments/gpt4o/chat/completions?api-version=2024-08-01-preview \"HTTP/1.1 429 Too Many Requests\"\n",
      "2025-09-25 17:03:59,120 [INFO] Retrying request to /chat/completions in 29.000000 seconds\n",
      "2025-09-25 17:04:32,167 [INFO] HTTP Request: POST https://eastus.api.cognitive.microsoft.com/openai/deployments/gpt4o/chat/completions?api-version=2024-08-01-preview \"HTTP/1.1 200 OK\"\n"
     ]
    },
    {
     "name": "stdout",
     "output_type": "stream",
     "text": [
      "🏃 View run Nvidia at: http://20.75.92.162:5000/#/experiments/391555380109070687/runs/a99aee6c4a8a4eb59c117a481e945deb\n",
      "🧪 View experiment at: http://20.75.92.162:5000/#/experiments/391555380109070687\n",
      "{\n",
      "  \"company_name\": \"Nvidia\",\n",
      "  \"stock_code\": \"NVDA\",\n",
      "  \"news\": \"- \\n \\n \\nThe market remains all in on Nvidia (NVDA). Nvidia is the Opening Bid stock of the day, and it's not simply because it continues to be one of the hottest tickers on our platform. Nor is it because Nvidia has revealed key deals with both OpenAI (OPAI.PVT) and Alibaba (BABA) this week. The\\u2026\\n \\n \\nThis story appeared on finance.yahoo.com, 2025-09-24 15:59:17.\\n \\n\\n- This copy is for your personal, non-commercial use only. Distribution and use of this material are governed by our Subscriber Agreement and by copyright law. For non-personal use or to order multiple copies, please contact Dow Jones Reprints at 1-800-843-0008 or visit www.djreprints.com.\\n- [\\u25b2 S&P 500 **+---%** \\\\|\\u25b2 Stock Advisor **+---%** Join The Motley Fool](https://www.fool.com/mms/mark/e-foolcom-sa-top-nav-returns)\\n\\n[Accessibility](https://www.fool.com/www.fool.com) [Log In](https://www.fool.com/auth/authenticate/) [Help](https://support.fool.com/)\\n\\n[Accessibility Menu](https://www.fool.com/www.fool.com)\\n\\n[S&P 500\\\\\\n\\\\\\n6,637.97\\\\\\n\\\\\\n-0.3%\\\\\\n\\\\\\n-$18.95](https://www.fool.com/quote/snpindex/%5Egspc/) [DJI\\\\\\n\\\\\\n46,121.28\\\\\\n\\\\\\n-0.4%\\\\\\n\\\\\\n-$171.50](https://www.fool.com/quote/djindices/%5Edji/) [NASDAQ\\\\\\n\\\\\\n22,497.86\\\\\\n\\\\\\n-0.3%\\\\\\n\\\\\\n-$75.62](https://www.fool.com/quote/nasdaqindex/%5Eixic/) [Bitcoin\\\\\\n\\\\\\n112,819.00\\\\\\n\\\\\\n+0.5%\\\\\\n\\\\\\n+597.08](https://www.fool.com/quote/crypto/btc/) [AAPL\\\\\\n\\\\\\n$252.30\\\\\\n\\\\\\n-0.8%\\\\\\n\\\\\\n-$2.13](https://www.fool.com/quote/nasdaq/aapl/) [AMZN\\\\\\n\\\\\\n$220.10\\\\\\n\\\\\\n-0.3%\\\\\\n\\\\\\n-$0.61](https://www.fool.com/quote/nasdaq/amzn/) [GOOG\\\\\\n\\\\\\n$247.83\\\\\\n\\\\\\n-1.8%\\\\\\n\\\\\\n-$4.51](https://www.fool.com/quote/nasdaq/goog/) [META\\\\\\n\\\\\\n$760.79\\\\\\n\\\\\\n+0.7%\\\\\\n\\\\\\n+$5.39](https://www.fool.com/quote/nasdaq/meta/) [MSFT\\\\\\n\\\\\\n$510.41\\\\\\n\\\\\\n+0.2%\\\\\\n\\\\\\n+$1.18](https://www.fool.com/quote/nasdaq/msft/) [NVDA\\\\\\n\\\\\\n$176.97\\\\\\n\\\\\\n-0.8%\\\\\\n\\\\\\n-$1.46](https://www.fool.com/quote/nasdaq/nvda/) [TSLA\\\\\\n\\\\\\n$442.75\\\\\\n\\\\\\n+4.0%\\\\\\n\\\\\\n+$16.90](https://www.fool.com/quote/nasdaq/tsla/)\\n\\n[Daily Stock Gainers](https://www.fool.com/markets/top-stock-gainers/) [Daily Stock Losers](https://www.fool.com/markets/top-stock-losers/) [Most Active Stocks](https://www.fool.com/markets/most-active-stocks/)\\n\\n[Daily Stock Gainers](https://www.fool.com/markets/top-stock-gainers/) [Daily Stock Losers](https://www.fool.com/markets/top-stock-losers/) [Most Active Stocks](https://www.fool.com/markets/most-active-stocks/)\\n\\nFree Article\\n\\nYou're reading a free article with opinions that may differ\\nfrom The Motley Fool's Premium Investing Services. Become a Motley Fool member today to\\n**get instant access to our top analyst recommendations, in-depth research, investing resources,**\\nand more. [Learn More](https://www.fool.com/mms/mark/op-free-tbox-art)\\n\\nBy [Adria Cimino](https://www.fool.com/author/20211/)\\n\\u2013\\nSep 12, 2025 at 4:05AM\\n\\nKey Points\\n\\n- Nvidia has become the key player in the high-growth AI story.\\n\\n- The company should benefit from a potential $4 billion in AI infrastructure spending by the end of the decade.\\n\\n- [Investor Alert: Our 10 best stocks to buy right now \\u203a](https://www.fool.com/mms/mark/e-sa-nonbbn-kp?aid=10969&source=isaedikp0000035)\\n\\n\\n## [NASDAQ: NVDA](https://www.fool.com/quote/nasdaq/nvda/)\\n\\n### Nvidia\\n\\nMarket Cap\\n\\n$4.3T\\n\\nToday's Change\\n\\n(-0.82%)\\u00a0-$1.46\\n\\nCurrent\\u00a0Price\\n\\n$176.97\\n\\nPrice as of September 24, 2025, 3:59 p.m. ET\\n\\nNvidia's stock has what it takes to blast higher.\\n\\n**Nvidia**( [NVDA](https://www.fool.com/quote/nasdaq/nvda/) -0.82%) has already shown its wealth-building prowess. The world's top chip designer has delivered a 1,000% gain over the past three years thanks to its dominance in the artificial intelligence (AI) market. This leadership has helped Nvidia generate outsize earnings growth, with revenue and profit climbing in the triple digits in recent years.\\n\\nThat's because demand is surging for Nvidia's products and services, essential tools in the development and application of AI. In recent times, though, some investors have wondered whether this market leader's momentum will continue. After all, the company faces competition, and any potential economic hiccup could put the brakes on AI spending.\\n\\nBut, for reasons I'll explain, I'm optimistic about Nvidia today and over the long term. In fact, my prediction is buying Nvidia stock right now could set you up for life.\\n\\nImage source: Getty Images.\\n\\n## Nvidia's early days\\n\\nFirst, let's consider Nvidia's story so far. The company has been around more than 30 years, but in its early days, its future AI dominance wasn't even on the radar screen. Instead, Nvidia mainly served the video games market with its [graphics processing units](https://www.fool.com/terms/g/gpu/) (GPUs) and steadily grew revenue -- but levels were very far from today's multibillion-dollar quarters.\\n\\n[NVDA Revenue (Annual)](https://ycharts.com/companies/NVDA/revenues_annual) data by [YCharts](https://ycharts.com)\\n\\nFast forward several years to times when the potential of AI started to be heard more clearly: Nvidia decided to tailor its GPUs to match the needs of this high-potential technology, and as they say, the rest is history. The company got in early on the AI chip market, securing the first-to-market advantage, and from there built a solid reputation as an AI chip expert. Customers were impressed by the power of Nvidia's GPUs to train their [large language models](https://www.fool.com/terms/l/large-language-models/) (LLMs), and that prompted them to keep coming back, not only for training but now [for inferencing](https://www.fool.com/terms/a/ai-inference/) \\\\-\\\\- inferencing is seen as the next big growth area for GPUs.\\n\\nBut Nvidia didn't stop there and instead has built out a great selection of products and services that support customers' AI projects. So, these customers can rely on Nvidia for all of their needs rather than turning to others for certain tools or services. All of this has reinforced Nvidia's AI leadership.\\n\\n## A focus on annual updates\\n\\nImportantly, Nvidia now is taking a key step to reinforce this leadership: The company has committed to updating its chips on annual basis, a move that will make it difficult for competitors to catch up. And this constant innovation, offering more computing power and efficiency to customers, should keep these customers coming back -- the biggest tech companies are focused on winning in the AI space, meaning its crucial for them to access the best tools available. All of this supports the idea of ongoing demand for Nvidia's newest releases -- and this should translate into revenue growth over time.\\n\\nIn fact, Nvidia's forecast that AI infrastructure spending will reach as much as $4 trillion by the end of the decade suggests Nvidia may be looking at a trillion-dollar revenue opportunity. If we use the past as an example, with Nvidia winning about 25% of data center spending, the company could generate $1 trillion in revenue thanks to this AI buildout. And Nvidia's ability to generate strong profit on sales -- with [gross margin](https://www.fool.com/terms/g/gross-margin/) generally surpassing 70% -- should continue as the company's annual product releases become routine.\\n\\n## Nvidia's valuation\\n\\nMeanwhile, right now, Nvidia stock trades for only 38x [forward earnings estimates](https://www.fool.com/terms/f/forward-pe/), leaving it plenty of room to run. And that equals a buying opportunity for you.\\n\\nNow let's talk about how this stock could set you up for life. It's important to say that you shouldn't rely on any one stock to perform for you -- even a top-quality company. Putting all of your eggs in one basket in investing is too risky, so you always should invest in several stocks across industries and hold on for at least five years.\\n\\nIn that context of a well-diversified portfolio, though, my prediction is Nvidia _will help_ set you up for life. The stock, in the past, has roared higher as Nvidia's revenue climbed. And today, considering revenue may advance from the billions of dollars -- it ended last year at $130 billion -- to about $1 trillion a few years from now suggests the stock price may once again deliver enormous long-term gains. This makes Nvidia a great stock to buy right now and hold as it could send the value of your portfolio soaring.\\n\\n### About the Author\\n\\nAdria Cimino is a contributing Motley Fool stock market analyst covering healthcare, technology, and consumer goods sectors. Prior to The Motley Fool, Adria covered the European stock market and U.S. stocks pre-market trading for Bloomberg News, Bloomberg TV, and Bloomberg Radio for more than a decade. Earlier in her career, she wrote about biotech, medtech, and technology companies in Boston for Mass High Tech, an American City Business Journals publication. She holds a bachelor\\u2019s degree in mass communications from the University of South Florida.\\n\\n[TMFAdriaCimino](https://www.fool.com/author/20211/)\\n\\n[@adria\\\\_in\\\\_paris](https://x.com/@adria_in_paris)\\n\\n_[Adria Cimino](https://www.fool.com/author/20211/) has no position in any of the stocks mentioned. The Motley Fool has positions in and recommends Nvidia. The Motley Fool has a [disclosure policy](https://www.fool.com/legal/fool-disclosure-policy/)._\\n\\nStocks Mentioned\\n\\n[Nvidia\\\\\\n\\\\\\nNVDA\\\\\\n\\\\\\n$176.97(-0.82%)$-1.46](https://www.fool.com/quote/nasdaq/nvda/)\\n\\n\\\\*Average returns of all recommendations since inception. Cost basis and return based on previous market day close.\\n\\nRelated Articles\\n\\n[Nvidia Just Announced a Record $100 Billion Deal With OpenAI -- Here's What It Means for Investors](https://www.fool.com/investing/2025/09/24/nvidia-record-billion-deal-openai-invest/) [What Recent Artificial Intelligence (AI) Investments Mean for Nvidia, Iren, CoreWeave, and AI Stock Investors](https://www.fool.com/investing/2025/09/24/what-recent-ai-investments-mean-for-nvidia-iren-co/) [Meet the Only S&P 500 Stock to Have Outperformed Nvidia Over the Past 5 Years](https://www.fool.com/investing/2025/09/24/meet-the-only-sp-500-stock-to-have-outperformed-nv/) [Nvidia Made a Massive Artificial Intelligence (AI) Investment That Changes Everything](https://www.fool.com/investing/2025/09/24/nvidia-made-a-massive-ai-investment-that-changes-e/) [Is Nvidia Worried About Its Competitor AMD?](https://www.fool.com/investing/2025/09/24/is-nvidia-worried-about-its-competitor-amd/)\\n\\n## Premium Investing Services\\n\\nInvest better with The Motley Fool. Get stock recommendations, portfolio guidance, and more from The Motley Fool's premium services.\\n\\n[View Premium Services](https://www.fool.com/services/?ftm_cam=footer-services-sitewide-prospects)\\n\\nCurrent\\n- \\n \\n \\nThis story appeared on barrons.com, 2025-09-25 09:49:00.\\n \\n\\n- [\\u25b2 S&P 500 **+---%** \\\\|\\u25b2 Stock Advisor **+---%** Join The Motley Fool](https://www.fool.com/mms/mark/e-foolcom-sa-top-nav-returns)\\n\\n[Accessibility](https://www.fool.com/www.fool.com) [Log In](https://www.fool.com/auth/authenticate/) [Help](https://support.fool.com/)\\n\\n[Accessibility Menu](https://www.fool.com/www.fool.com)\\n\\n[S&P 500\\\\\\n\\\\\\n6,637.97\\\\\\n\\\\\\n-0.3%\\\\\\n\\\\\\n-$18.95](https://www.fool.com/quote/snpindex/%5Egspc/) [DJI\\\\\\n\\\\\\n46,121.28\\\\\\n\\\\\\n-0.4%\\\\\\n\\\\\\n-$171.50](https://www.fool.com/quote/djindices/%5Edji/) [NASDAQ\\\\\\n\\\\\\n22,497.86\\\\\\n\\\\\\n-0.3%\\\\\\n\\\\\\n-$75.62](https://www.fool.com/quote/nasdaqindex/%5Eixic/) [Bitcoin\\\\\\n\\\\\\n111,646.00\\\\\\n\\\\\\n-1.0%\\\\\\n\\\\\\n-1,121.17](https://www.fool.com/quote/crypto/btc/) [AAPL\\\\\\n\\\\\\n$252.30\\\\\\n\\\\\\n-0.8%\\\\\\n\\\\\\n-$2.13](https://www.fool.com/quote/nasdaq/aapl/) [AMZN\\\\\\n\\\\\\n$220.10\\\\\\n\\\\\\n-0.3%\\\\\\n\\\\\\n-$0.61](https://www.fool.com/quote/nasdaq/amzn/) [GOOG\\\\\\n\\\\\\n$247.83\\\\\\n\\\\\\n-1.8%\\\\\\n\\\\\\n-$4.51](https://www.fool.com/quote/nasdaq/goog/) [META\\\\\\n\\\\\\n$760.79\\\\\\n\\\\\\n+0.7%\\\\\\n\\\\\\n+$5.39](https://www.fool.com/quote/nasdaq/meta/) [MSFT\\\\\\n\\\\\\n$510.41\\\\\\n\\\\\\n+0.2%\\\\\\n\\\\\\n+$1.18](https://www.fool.com/quote/nasdaq/msft/) [NVDA\\\\\\n\\\\\\n$176.97\\\\\\n\\\\\\n-0.8%\\\\\\n\\\\\\n-$1.46](https://www.fool.com/quote/nasdaq/nvda/) [TSLA\\\\\\n\\\\\\n$442.75\\\\\\n\\\\\\n+4.0%\\\\\\n\\\\\\n+$16.90](https://www.fool.com/quote/nasdaq/tsla/)\\n\\n[Daily Stock Gainers](https://www.fool.com/markets/top-stock-gainers/) [Daily Stock Losers](https://www.fool.com/markets/top-stock-losers/) [Most Active Stocks](https://www.fool.com/markets/most-active-stocks/)\\n\\n[Daily Stock Gainers](https://www.fool.com/markets/top-stock-gainers/) [Daily Stock Losers](https://www.fool.com/markets/top-stock-losers/) [Most Active Stocks](https://www.fool.com/markets/most-active-stocks/)\\n\\nFree Article\\n\\nYou're reading a free article with opinions that may differ\\nfrom The Motley Fool's Premium Investing Services. Become a Motley Fool member today to\\n**get instant access to our top analyst recommendations, in-depth research, investing resources,**\\nand more. [Learn More](https://www.fool.com/mms/mark/op-free-tbox-art)\\n\\nBy [Stefon Walters](https://www.fool.com/author/20466/)\\n\\u2013\\nSep 17, 2025 at 6:15AM\\n\\nKey Points\\n\\n- Nvidia provides a lot of critical AI infrastructure that is used in data centers.\\n\\n- In the second quarter, its data center revenue jumped 56% year over year.\\n\\n- That segment alone represented an astounding 88% of total revenue.\\n\\n- [Investor Alert: Our 10 best stocks to buy right now \\u203a](https://www.fool.com/mms/mark/e-sa-nonbbn-kp?aid=10969&source=isaedikp0000035)\\n\\n\\n## [NASDAQ: NVDA](https://www.fool.com/quote/nasdaq/nvda/)\\n\\n### Nvidia\\n\\nMarket Cap\\n\\n$4.3T\\n\\nToday's Change\\n\\n(-0.82%)\\u00a0-$1.46\\n\\nCurrent\\u00a0Price\\n\\n$176.97\\n\\nPrice as of September 24, 2025, 3:59 p.m. ET\\n\\nNvidia is a critical piece of the AI pipeline.\\n\\nFew, if any, stocks have gotten as much attention over the past couple of years as **Nvidia**( [NVDA](https://www.fool.com/quote/nasdaq/nvda/) -0.82%). Since the start of 2023, Nvidia's stock is up over 1,120%, far outpacing the **S&P 500** index's 71% gain during that span (through Sept. 12).\\n\\nThe reason why Wall Street has been all over Nvidia over the past couple of years comes down to its dominance in [artificial intelligence](https://www.fool.com/investing/2025/09/10/got-3000-3-artificial-intelligence-stocks-to-buy/) (AI) infrastructure. Its role begins with [data centers](https://www.fool.com/terms/d/data-center/), which give companies the ability to train, deploy, and scale AI as we know it today. Without them, AI wouldn't have advanced as quickly as it has in recent years. And without Nvidia, these data centers would be far less efficient.\\n\\nImage source: Getty Images.\\n\\nNvidia's main contribution is its [graphics processing units](https://www.fool.com/terms/g/gpu/) (GPUs), which you can think of as the engines of data centers. When it comes to data center GPUs, Nvidia has a virtual monopoly, providing them for top companies like [OpenAI](https://www.fool.com/investing/how-to-invest/stocks/how-to-invest-in-openai-stock/), **Microsoft**, **Amazon**, **Alphabet**, and **Meta**.\\n\\nNvidia's data center business is more than GPUs, too. It also includes a full suite of hardware and software to run AI workloads. This reliance on Nvidia has been reflected in its financials. In the second quarter, the company's data center revenue increased 56% year over year to $41.1 billion (88% of total revenue), and in the past two years, its total revenue has grown by 158%.\\n\\nNvidia has a lot of long-term appeal, but if you're planning to invest today, be aware of its high valuation. There's a lot of growth already priced into Nvidia's stock, so if it fails to meet investors' lofty expectations, it could experience sharp pullbacks and high volatility (as we've seen on numerous occasions).\\n\\n### About the Author\\n\\nStefon Walters is a contributing Motley Fool stock market analyst covering publicly traded companies across technology, consumer goods, and financials, as well as retirement planning. Stefon is a published author and has more than a decade of experience teaching financial literacy. He holds a bachelor\\u2019s degree in economics from the University of North Carolina at Chapel Hill.\\n\\n[TMFStefonW](https://www.fool.com/author/20466/)\\n\\n_[Stefon Walters](https://www.fool.com/author/20466/) has positions in Microsoft. The Motley Fool has positions in and recommends Alphabet, Amazon, Meta Platforms, Microsoft, and Nvidia. The Motley Fool recommends the following options: long January 2026 $395 calls on Microsoft and short January 2026 $405 calls on Microsoft. The Motley Fool has a [disclosure policy](https://www.fool.com/legal/fool-disclosure-policy/)._\\n\\nStocks Mentioned\\n\\n[Nvidia\\\\\\n\\\\\\nNVDA\\\\\\n\\\\\\n$176.97(-0.82%)$-1.46](https://www.fool.com/quote/nasdaq/nvda/)\\n\\n\\\\*Average returns of all recommendations since inception. Cost basis and return based on previous market day close.\\n\\nRelated Articles\\n\\n[The Best Stocks to Invest $10,000 in Now](https://www.fool.com/investing/2025/09/25/the-best-stocks-to-invest-10000-in-now/) [5 Super Semiconductor Stocks to Buy and Hold for the Next 5 Years](https://www.fool.com/investing/2025/09/25/5-super-semiconductor-stocks-buy-hold-next-5-years/) [AI Spending Could Soar 500%: 2 Brilliant AI Stocks Billionaires Are Buying](https://www.fool.com/investing/2025/09/25/ai-spending-soar-500-2-ai-stocks-billionaires-buy/) [Nvidia Just Announced a Record $100 Billion Deal With OpenAI -- Here's What It Means for Investors](https://www.fool.com/investing/2025/09/24/nvidia-record-billion-deal-openai-invest/) [What Recent Artificial Intelligence (AI) Investments Mean for Nvidia, Iren, CoreWeave, and AI Stock Investors](https://www.fool.com/investing/2025/09/24/what-recent-ai-investments-mean-for-nvidia-iren-co/)\\n\\n## Premium Investing Services\\n\\nInvest better with The Motley Fool. Get stock recommendations, portfolio guidance, and more from The Motley Fool's premium services.\\n\\n[View Premium Services](https://www.fool.com/services/?ftm_cam=footer-services-sitewide-prospects)\\n\\nCurrent\",\n",
      "  \"result\": {\n",
      "    \"company_name\": \"Nvidia\",\n",
      "    \"stock_code\": \"NVDA\",\n",
      "    \"newsdesc\": \"Nvidia continues to dominate the AI market, revealing key deals with OpenAI and Alibaba, and is seen as a critical player in AI infrastructure with significant revenue growth potential.\",\n",
      "    \"sentiment\": \"Positive\",\n",
      "    \"people_names\": [],\n",
      "    \"places_names\": []\n",
      "  }\n",
      "}\n"
     ]
    }
   ],
   "source": [
    "out = analyze_company_sentiment(\"Nvidia\")\n",
    "print(json.dumps(out, indent=2))"
   ]
  }
 ],
 "metadata": {
  "kernelspec": {
   "display_name": "genai",
   "language": "python",
   "name": "python3"
  },
  "language_info": {
   "codemirror_mode": {
    "name": "ipython",
    "version": 3
   },
   "file_extension": ".py",
   "mimetype": "text/x-python",
   "name": "python",
   "nbconvert_exporter": "python",
   "pygments_lexer": "ipython3",
   "version": "3.12.3"
  }
 },
 "nbformat": 4,
 "nbformat_minor": 5
}
