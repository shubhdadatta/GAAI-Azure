{
 "cells": [
  {
   "cell_type": "markdown",
   "id": "1efb5833",
   "metadata": {},
   "source": [
    "# LangChain and LangGraph"
   ]
  },
  {
   "cell_type": "code",
   "execution_count": 1,
   "id": "28e23646",
   "metadata": {},
   "outputs": [],
   "source": [
    "!python -m pip install langchain langchain-core langchain-community langchain-experimental --quiet\n",
    "!python -m pip install langchain-openai --quiet"
   ]
  },
  {
   "cell_type": "code",
   "execution_count": 4,
   "id": "d631cf22",
   "metadata": {},
   "outputs": [],
   "source": [
    "model_name='gpt4o'"
   ]
  },
  {
   "cell_type": "markdown",
   "id": "b8353600",
   "metadata": {},
   "source": [
    "### Chatmodels, Prompt Templates and Parsers"
   ]
  },
  {
   "cell_type": "code",
   "execution_count": 3,
   "id": "2bbe9485",
   "metadata": {},
   "outputs": [
    {
     "name": "stdout",
     "output_type": "stream",
     "text": [
      "In the heart of India, where the gardens bloom,  \n",
      "Bangalore whispers secrets in the twilight's gloom.  \n",
      "A city of contrasts, where old meets the new,  \n",
      "With history entwined in every avenue.  \n",
      "\n",
      "Silicon dreams in the tech-savvy air,  \n",
      "With startups and visions, ambition laid bare.  \n",
      "Yet beneath the hustle, the spirit flows free,  \n",
      "In the laughter of children, in the shade of a tree.  \n",
      "\n",
      "The brew of the morning, a cup of good cheer,  \n",
      "Filter coffee warms hands as the day draws near.  \n",
      "Markets are bustling, with colors ablaze,  \n",
      "K R Market sings in a vibrant array.  \n",
      "\n",
      "Each street tells a story, each corner a tale,  \n",
      "Of rickshaws and roadways, where dreams never pale.  \n",
      "From Lalbagh's gardens to Cubbon's green park,  \n",
      "Nature embraces, igniting a spark.  \n",
      "\n",
      "The warmth of the people, their smiles like the sun,  \n",
      "Together they forge a rhythm, a run.  \n",
      "In pubs that echo with laughter and song,  \n",
      "Unity thrives, where all can belong.  \n",
      "\n",
      "As dusk paints the city in hues rich and deep,  \n",
      "With promises whispered, and dreams that don't sleep,  \n",
      "Bangalore, dear Bangalore, your heart beats so strong,  \n",
      "A tapestry woven where each thread belongs.  \n",
      "\n",
      "So here's to your spirit, resilient and bold,  \n",
      "To stories unending, and journeys untold.  \n",
      "In the pulse of your streets, where memories flow,  \n",
      "Bangalore, beloved, may your glory still grow.  \n"
     ]
    }
   ],
   "source": [
    "from langchain_openai import AzureChatOpenAI\n",
    "\n",
    "model = AzureChatOpenAI(model=model_name)\n",
    "\n",
    "# use it as an LLM -> pass a prompt\n",
    "prompt = \"Write a poem about the city Bangalore\"\n",
    "response = model.invoke(prompt)\n",
    "print(response.content)"
   ]
  },
  {
   "cell_type": "code",
   "execution_count": 4,
   "id": "074e60b2",
   "metadata": {},
   "outputs": [
    {
     "data": {
      "text/plain": [
       "AIMessage(content=\"I'm just a computer program, so I don't have feelings, but I'm here and ready to help you! How can I assist you today?\", additional_kwargs={'refusal': None}, response_metadata={'token_usage': {'completion_tokens': 29, 'prompt_tokens': 12, 'total_tokens': 41, 'completion_tokens_details': {'accepted_prediction_tokens': 0, 'audio_tokens': 0, 'reasoning_tokens': 0, 'rejected_prediction_tokens': 0}, 'prompt_tokens_details': {'audio_tokens': 0, 'cached_tokens': 0}}, 'model_name': 'gpt-4o-mini-2024-07-18', 'system_fingerprint': 'fp_efad92c60b', 'id': 'chatcmpl-CDkQIXtuecnC9q7Uyqpe8pM9TcGtY', 'service_tier': None, 'prompt_filter_results': [{'prompt_index': 0, 'content_filter_results': {'hate': {'filtered': False, 'severity': 'safe'}, 'jailbreak': {'filtered': False, 'detected': False}, 'self_harm': {'filtered': False, 'severity': 'safe'}, 'sexual': {'filtered': False, 'severity': 'safe'}, 'violence': {'filtered': False, 'severity': 'safe'}}}], 'finish_reason': 'stop', 'logprobs': None, 'content_filter_results': {'hate': {'filtered': False, 'severity': 'safe'}, 'self_harm': {'filtered': False, 'severity': 'safe'}, 'sexual': {'filtered': False, 'severity': 'safe'}, 'violence': {'filtered': False, 'severity': 'safe'}}}, id='run--962a8bdb-55fe-4b21-9cd4-75e069e4f82b-0', usage_metadata={'input_tokens': 12, 'output_tokens': 29, 'total_tokens': 41, 'input_token_details': {'audio': 0, 'cache_read': 0}, 'output_token_details': {'audio': 0, 'reasoning': 0}})"
      ]
     },
     "execution_count": 4,
     "metadata": {},
     "output_type": "execute_result"
    }
   ],
   "source": [
    "# use it as a chatmodel - pass a chatprompt\n",
    "\n",
    "from langchain_core.messages import HumanMessage\n",
    "\n",
    "message = [HumanMessage(content=\"Hi How are you?\")]\n",
    "model.invoke(message)\n"
   ]
  },
  {
   "cell_type": "code",
   "execution_count": 5,
   "id": "f643397b",
   "metadata": {},
   "outputs": [
    {
     "data": {
      "text/plain": [
       "ChatPromptTemplate(input_variables=['language', 'text'], input_types={}, partial_variables={}, messages=[SystemMessagePromptTemplate(prompt=PromptTemplate(input_variables=['language'], input_types={}, partial_variables={}, template='Translate the following into the language {language}'), additional_kwargs={}), HumanMessagePromptTemplate(prompt=PromptTemplate(input_variables=['text'], input_types={}, partial_variables={}, template='{text}'), additional_kwargs={})])"
      ]
     },
     "execution_count": 5,
     "metadata": {},
     "output_type": "execute_result"
    }
   ],
   "source": [
    "# chat prompt template\n",
    "from langchain_core.prompts import ChatPromptTemplate\n",
    "\n",
    "system_prompt = \"Translate the following into the language {language}\"\n",
    "prompt_temp = ChatPromptTemplate([(\"system\",system_prompt),(\"user\",\"{text}\")])\n",
    "prompt_temp"
   ]
  },
  {
   "cell_type": "code",
   "execution_count": 6,
   "id": "eaab1acf",
   "metadata": {},
   "outputs": [
    {
     "data": {
      "text/plain": [
       "['language', 'text']"
      ]
     },
     "execution_count": 6,
     "metadata": {},
     "output_type": "execute_result"
    }
   ],
   "source": [
    "prompt_temp.input_variables"
   ]
  },
  {
   "cell_type": "code",
   "execution_count": 7,
   "id": "c0c4fec2",
   "metadata": {},
   "outputs": [
    {
     "data": {
      "text/plain": [
       "ChatPromptValue(messages=[SystemMessage(content='Translate the following into the language French', additional_kwargs={}, response_metadata={}), HumanMessage(content='Hi How are you?', additional_kwargs={}, response_metadata={})])"
      ]
     },
     "execution_count": 7,
     "metadata": {},
     "output_type": "execute_result"
    }
   ],
   "source": [
    "myprompt = prompt_temp.invoke({\"language\":\"French\",\"text\":\"Hi How are you?\"})\n",
    "myprompt"
   ]
  },
  {
   "cell_type": "code",
   "execution_count": 8,
   "id": "767762f1",
   "metadata": {},
   "outputs": [
    {
     "data": {
      "text/plain": [
       "AIMessage(content='Salut, comment ça va ?', additional_kwargs={'refusal': None}, response_metadata={'token_usage': {'completion_tokens': 7, 'prompt_tokens': 23, 'total_tokens': 30, 'completion_tokens_details': {'accepted_prediction_tokens': 0, 'audio_tokens': 0, 'reasoning_tokens': 0, 'rejected_prediction_tokens': 0}, 'prompt_tokens_details': {'audio_tokens': 0, 'cached_tokens': 0}}, 'model_name': 'gpt-4o-mini-2024-07-18', 'system_fingerprint': 'fp_efad92c60b', 'id': 'chatcmpl-CDkTddUBqR26xx7qR2cOFtk9QfL1B', 'service_tier': None, 'prompt_filter_results': [{'prompt_index': 0, 'content_filter_results': {'hate': {'filtered': False, 'severity': 'safe'}, 'jailbreak': {'filtered': False, 'detected': False}, 'self_harm': {'filtered': False, 'severity': 'safe'}, 'sexual': {'filtered': False, 'severity': 'safe'}, 'violence': {'filtered': False, 'severity': 'safe'}}}], 'finish_reason': 'stop', 'logprobs': None, 'content_filter_results': {'hate': {'filtered': False, 'severity': 'safe'}, 'protected_material_code': {'filtered': False, 'detected': False}, 'protected_material_text': {'filtered': False, 'detected': False}, 'self_harm': {'filtered': False, 'severity': 'safe'}, 'sexual': {'filtered': False, 'severity': 'safe'}, 'violence': {'filtered': False, 'severity': 'safe'}}}, id='run--1d9b04e7-d7ac-49f6-93c6-a5898b39ccd8-0', usage_metadata={'input_tokens': 23, 'output_tokens': 7, 'total_tokens': 30, 'input_token_details': {'audio': 0, 'cache_read': 0}, 'output_token_details': {'audio': 0, 'reasoning': 0}})"
      ]
     },
     "execution_count": 8,
     "metadata": {},
     "output_type": "execute_result"
    }
   ],
   "source": [
    "op = model.invoke(myprompt)\n",
    "op"
   ]
  },
  {
   "cell_type": "code",
   "execution_count": 9,
   "id": "02f5b8cc",
   "metadata": {},
   "outputs": [
    {
     "data": {
      "text/plain": [
       "'Salut, comment ça va ?'"
      ]
     },
     "execution_count": 9,
     "metadata": {},
     "output_type": "execute_result"
    }
   ],
   "source": [
    "from langchain_core.output_parsers import StrOutputParser\n",
    "parser = StrOutputParser()\n",
    "parser.invoke(op)"
   ]
  },
  {
   "cell_type": "code",
   "execution_count": null,
   "id": "ba32228e",
   "metadata": {},
   "outputs": [],
   "source": []
  },
  {
   "cell_type": "code",
   "execution_count": null,
   "id": "a54273f9",
   "metadata": {},
   "outputs": [],
   "source": []
  },
  {
   "cell_type": "markdown",
   "id": "a161c965",
   "metadata": {},
   "source": [
    "## Automation using Chains: Automations / Automation Flows / Chains / Chain Workflows\n",
    "- static workflows involving LLMs inbetween the steps, \n",
    "- the flow of data, steps are deterministic, decided by the developer/SME"
   ]
  },
  {
   "cell_type": "markdown",
   "id": "cebb6470",
   "metadata": {},
   "source": [
    "**Example**\n",
    "\n",
    "Language Translation Chain: input -----> [Prompt Templates >> LLM >> Parser ]----> Output"
   ]
  },
  {
   "cell_type": "code",
   "execution_count": 10,
   "id": "3967713c",
   "metadata": {},
   "outputs": [],
   "source": [
    "# chat prompt template\n",
    "from langchain_core.prompts import ChatPromptTemplate\n",
    "system_prompt = \"Translate the following into the language {language}\"\n",
    "prompt_temp = ChatPromptTemplate([(\"system\",system_prompt),(\"user\",\"{text}\")])\n",
    "\n",
    "# initialize llm\n",
    "from langchain_openai import AzureChatOpenAI\n",
    "model = AzureChatOpenAI(model=model_name)\n",
    "\n",
    "# initialize parser\n",
    "from langchain_core.output_parsers import StrOutputParser\n",
    "parser = StrOutputParser()"
   ]
  },
  {
   "cell_type": "code",
   "execution_count": 11,
   "id": "a5462094",
   "metadata": {},
   "outputs": [
    {
     "data": {
      "text/plain": [
       "'మీ పేరు ఏమిటి?'"
      ]
     },
     "execution_count": 11,
     "metadata": {},
     "output_type": "execute_result"
    }
   ],
   "source": [
    "# implement a chain using langchain\n",
    "chain1 = prompt_temp | model | parser\n",
    "\n",
    "chain1.invoke({\"language\":\"telugu\",\"text\":\"WHAT IS YOUR NAME?\"})"
   ]
  },
  {
   "cell_type": "code",
   "execution_count": 13,
   "id": "ad4f9d6e",
   "metadata": {},
   "outputs": [],
   "source": [
    "def format_output(text):\n",
    "    return {\"Translation\":text}"
   ]
  },
  {
   "cell_type": "code",
   "execution_count": 14,
   "id": "2beabbf7",
   "metadata": {},
   "outputs": [
    {
     "data": {
      "text/plain": [
       "{'Translation': 'మీ పేరు ఏమిటి?'}"
      ]
     },
     "execution_count": 14,
     "metadata": {},
     "output_type": "execute_result"
    }
   ],
   "source": [
    "# implement a chain using langchain\n",
    "chain1 = prompt_temp | model | parser | format_output\n",
    "\n",
    "chain1.invoke({\"language\":\"telugu\",\"text\":\"WHAT IS YOUR NAME?\"})"
   ]
  },
  {
   "cell_type": "markdown",
   "id": "c70245b6",
   "metadata": {},
   "source": [
    "#### Code Chain"
   ]
  },
  {
   "cell_type": "code",
   "execution_count": 15,
   "id": "d0b5c7b3",
   "metadata": {},
   "outputs": [
    {
     "name": "stdout",
     "output_type": "stream",
     "text": [
      "```python\n",
      "def fibonacci(n):\n",
      "    series = [0, 1]\n",
      "    for i in range(2, n):\n",
      "        next_fib = series[i-1] + series[i-2]\n",
      "        series.append(next_fib)\n",
      "    return series[:n]\n",
      "\n",
      "n = int(input(\"Enter the number of terms: \"))\n",
      "print(fibonacci(n))\n",
      "```\n"
     ]
    }
   ],
   "source": [
    "# Code generation chain\n",
    "generate_prompt = ChatPromptTemplate([(\"system\",\"Write a simple code for the task, only provide code no other additional text\"),\n",
    "                                      (\"user\",\"{task}\")])\n",
    "\n",
    "generation_chain = generate_prompt | model | parser\n",
    "\n",
    "op = generation_chain.invoke(\"fibonacci series\")\n",
    "print(op)"
   ]
  },
  {
   "cell_type": "code",
   "execution_count": 16,
   "id": "6094b329",
   "metadata": {},
   "outputs": [
    {
     "name": "stdout",
     "output_type": "stream",
     "text": [
      "```python\n",
      "def fibonacci(n):\n",
      "    \"\"\"\n",
      "    Generate a Fibonacci series up to the n-th term.\n",
      "\n",
      "    Parameters:\n",
      "    n (int): The number of terms in the Fibonacci series to generate.\n",
      "\n",
      "    Returns:\n",
      "    list: A list containing the Fibonacci series up to the n-th term.\n",
      "    \"\"\"\n",
      "    # Initialize the series with the first two Fibonacci numbers\n",
      "    series = [0, 1]\n",
      "    \n",
      "    # Calculate subsequent Fibonacci numbers up to n terms\n",
      "    for i in range(2, n):\n",
      "        next_fib = series[i-1] + series[i-2]  # Compute the next Fibonacci number\n",
      "        series.append(next_fib)  # Append the next number to the series\n",
      "\n",
      "    # Return the series truncated to n terms\n",
      "    return series[:n]\n",
      "\n",
      "# Prompt the user to enter the desired number of terms\n",
      "n = int(input(\"Enter the number of terms: \"))\n",
      "\n",
      "# Print the generated Fibonacci series\n",
      "print(fibonacci(n))\n",
      "```\n"
     ]
    }
   ],
   "source": [
    "analyze_prompt = ChatPromptTemplate([(\"system\",\"Analyze the provided code, add docstrings and comments. only provide code no other additional text\"),\n",
    "                                      (\"user\",\"{code}\")])\n",
    "\n",
    "analyze_chain = analyze_prompt | model | parser\n",
    "print(analyze_chain.invoke({\"code\":op}))"
   ]
  },
  {
   "cell_type": "code",
   "execution_count": 17,
   "id": "23cfa731",
   "metadata": {},
   "outputs": [
    {
     "name": "stdout",
     "output_type": "stream",
     "text": [
      "```python\n",
      "def fibonacci(n):\n",
      "    \"\"\"\n",
      "    Generate a Fibonacci series of n numbers.\n",
      "    \n",
      "    The Fibonacci series is a sequence where each number is the sum of the two preceding ones,\n",
      "    usually starting with 0 and 1. This function returns a list containing the first n numbers\n",
      "    in the Fibonacci series.\n",
      "\n",
      "    Parameters:\n",
      "    n (int): The number of terms in the Fibonacci series to generate.\n",
      "\n",
      "    Returns:\n",
      "    list: A list containing the first n numbers in the Fibonacci series.\n",
      "    \"\"\"\n",
      "    a, b = 0, 1  # Initialize the first two Fibonacci numbers\n",
      "    series = []  # List to store the Fibonacci series\n",
      "    for _ in range(n):  # Loop n times to generate the series\n",
      "        series.append(a)  # Append the current Fibonacci number to the series\n",
      "        a, b = b, a + b  # Update a and b to the next two Fibonacci numbers\n",
      "    return series  # Return the complete series\n",
      "\n",
      "# Example usage\n",
      "n = 10  # Define the number of terms in the Fibonacci series\n",
      "print(fibonacci(n))  # Print the first n terms of the Fibonacci series\n",
      "```\n"
     ]
    }
   ],
   "source": [
    "def patch_inputs (code):\n",
    "    return {\"code\":code}\n",
    "\n",
    "final_chain = generation_chain | patch_inputs | analyze_chain\n",
    "op = final_chain.invoke({\"task\":\"fibonacci series\"})\n",
    "print(op)"
   ]
  },
  {
   "cell_type": "code",
   "execution_count": 18,
   "id": "83c0acff",
   "metadata": {},
   "outputs": [
    {
     "name": "stdout",
     "output_type": "stream",
     "text": [
      "```python\n",
      "def fibonacci(n):\n",
      "    \"\"\"\n",
      "    Generate a Fibonacci sequence of length n.\n",
      "\n",
      "    Args:\n",
      "        n (int): The number of terms in the Fibonacci sequence to generate.\n",
      "\n",
      "    Returns:\n",
      "        list: A list containing the Fibonacci sequence up to n terms.\n",
      "    \"\"\"\n",
      "    fib_sequence = []  # Initialize an empty list to store the Fibonacci sequence\n",
      "    a, b = 0, 1  # Starting values for the Fibonacci sequence\n",
      "\n",
      "    # Loop n times to generate the sequence\n",
      "    for _ in range(n):\n",
      "        fib_sequence.append(a)  # Append the current Fibonacci number to the sequence\n",
      "        a, b = b, a + b  # Update a and b to the next Fibonacci numbers\n",
      "\n",
      "    return fib_sequence  # Return the complete Fibonacci sequence\n",
      "\n",
      "# Example usage\n",
      "n = 10  # Specify the number of Fibonacci terms to generate\n",
      "print(fibonacci(n))  # Print the generated Fibonacci sequence\n",
      "```\n"
     ]
    }
   ],
   "source": [
    "final_chain = generate_prompt | model | parser | patch_inputs | analyze_prompt | model | parser\n",
    "op = final_chain.invoke({\"task\":\"fibonacci series\"})\n",
    "print(op)"
   ]
  },
  {
   "cell_type": "markdown",
   "id": "4c9c345a",
   "metadata": {},
   "source": [
    "### Tools with Langchain"
   ]
  },
  {
   "cell_type": "code",
   "execution_count": 19,
   "id": "30f32122",
   "metadata": {},
   "outputs": [
    {
     "data": {
      "text/plain": [
       "'Page: Artificial intelligence\\nSummary: Artificial intelligence (AI) is the capability of computational systems to perform tasks typically associated with human intelligence, such as learning, reasoning, problem-solving, perception, and decision-making. It is a field of research in computer science that develops and studies methods and software that enable machines to perceive their environment and use learning and intelligence to take actions that maximize their chances of achieving defined goals.\\nHigh-profile applications of AI include advanced web search engines (e.g., Google Search); recommendation systems (used by YouTube, Amazon, and Netflix); virtual assistants (e.g., Google Assistant, Siri, and Alexa); autonomous vehicles (e.g., Waymo); generative and creative tools (e.g., language models and AI art); and superhuman play and analysis in strategy games (e.g., chess and Go). However, many AI applications are not perceived as AI: \"A lot of cutting edge AI has filtered into general applications, often without being called AI because once something becomes useful enough and common enough it\\'s not labeled AI anymore.\"\\nVarious subfields of AI research are centered around particular goals and the use of particular tools. The traditional goals of AI research include learning, reasoning, knowledge representation, planning, natural language processing, perception, and support for robotics. To reach these goals, AI researchers have adapted and integrated a wide range of techniques, including search and mathematical optimization, formal logic, artificial neural networks, and methods based on statistics, operations research, and economics. AI also draws upon psychology, linguistics, philosophy, neuroscience, and other fields. Some companies, such as OpenAI, Google DeepMind and Meta, aim to create artificial general intelligence (AGI)—AI that can complete virtually any cognitive task at least as well as a human.\\nArtificial intelligence was founded as an academic discipline in 1956, and the field went through multiple cycles of optimism throughout its history, followed by periods of disappointment and loss of funding, known as AI winters. Funding and interest vastly increased after 2012 when graphics processing units started being used to accelerate neural networks and deep learning outperformed previous AI techniques. This growth accelerated further after 2017 with the transformer architecture. In the 2020s, an ongoing period of rapid progress in advanced generative AI became known as the AI boom. Generative AI\\'s ability to create and modify content has led to several unintended consequences and harms, which has raised ethical concerns about AI\\'s long-term effects and potential existential risks, prompting discussions about regulatory policies to ensure the safety and benefits of the technology.\\n\\nPage: Artificial general intelligence\\nSummary: Artificial general intelligence (AGI)—sometimes called human‑level intelligence AI—is a type of artificial intelligence that would match or surpass human capabilities across virtually all cognitive tasks.\\nSome researchers argue that state‑of‑the‑art large language models (LLMs) already exhibit signs of AGI‑level capability, while others maintain that genuine AGI has not yet been achieved. Beyond AGI, artificial superintelligence (ASI) would outperform the best human abilities across every domain by a wide margin.\\nUnlike artificial narrow intelligence (ANI), whose competence is confined to well‑defined tasks, an AGI system can generalise knowledge, transfer skills between domains, and solve novel problems without task‑specific reprogramming. The concept does not, in principle, require the system to be an autonomous agent; a static model—such as a highly capable large language model—or an embodied robot could both satisfy the definition so long as human‑level breadth and proficiency are achieved.\\nCreating AGI is a primary goal of AI research and of companies such as OpenAI, Google, and Meta. A 2020'"
      ]
     },
     "execution_count": 19,
     "metadata": {},
     "output_type": "execute_result"
    }
   ],
   "source": [
    "from langchain_community.tools import WikipediaQueryRun\n",
    "from langchain_community.utilities import WikipediaAPIWrapper\n",
    "\n",
    "wiki = WikipediaQueryRun(api_wrapper=WikipediaAPIWrapper(top_k_results=2))\n",
    "\n",
    "wiki.invoke(\"Artificial Intelligence\")"
   ]
  },
  {
   "cell_type": "code",
   "execution_count": 20,
   "id": "76db2715",
   "metadata": {},
   "outputs": [
    {
     "name": "stdout",
     "output_type": "stream",
     "text": [
      "wikipedia\n",
      "A wrapper around Wikipedia. Useful for when you need to answer general questions about people, places, companies, facts, historical events, or other subjects. Input should be a search query.\n",
      "{'query': {'description': 'query to look up on wikipedia', 'title': 'Query', 'type': 'string'}}\n"
     ]
    }
   ],
   "source": [
    "print(wiki.name)\n",
    "print(wiki.description)\n",
    "print(wiki.args)"
   ]
  },
  {
   "cell_type": "code",
   "execution_count": 21,
   "id": "a028dc8d",
   "metadata": {},
   "outputs": [
    {
     "data": {
      "text/plain": [
       "'Page: Clate\\nSummary: Clate (also known as Clett) is a hamlet and ward in southwestern Whalsay in the parish of Nesting in the Shetland Islands of Scotland.\\n\\nPage: Military budget of the United States\\nSummary: The military budget of the United States is the largest portion of the discretionary federal budget allocated to the Department of Defense (DoD), or more broadly, the portion of the budget that goes to any military-related expenditures. The military budget pays the salaries, training, and health care of uniformed and civilian personnel, maintains arms, equipment and facilities, funds operations, and develops and buys new items. The budget funds six branches of the US military: the Army, Navy, Marine Corps, Coast Guard, Air Force, and Space Force.'"
      ]
     },
     "execution_count": 21,
     "metadata": {},
     "output_type": "execute_result"
    }
   ],
   "source": [
    "search_prompt = ChatPromptTemplate.from_template(\"generate a query to be searched on wikipedia for a given user inputs {input} . keep it short\")\n",
    "\n",
    "chain = search_prompt | model | parser | wiki | parser\n",
    "\n",
    "chain.invoke({\"input\":\"I am interested in world war II\"})"
   ]
  },
  {
   "cell_type": "code",
   "execution_count": null,
   "id": "937c7f43",
   "metadata": {},
   "outputs": [],
   "source": []
  },
  {
   "cell_type": "markdown",
   "id": "44015faf",
   "metadata": {},
   "source": [
    "## Getting started with LangGraph"
   ]
  },
  {
   "cell_type": "markdown",
   "id": "a3bc109a",
   "metadata": {},
   "source": [
    "- compatiable with langchain tools: langchain, langsmith, langfuse, openai\n",
    "- represent codes/functions/code_blocks as nodes and represent interactions as connections in graph\n",
    "\n",
    "\n",
    "\n",
    "Key components\n",
    "\n",
    "- Node: individual step/action (a function which makes llm call)\n",
    "- Edges: connection between nodes, define the exection flow between nodes\n",
    "- Graph: collection of nodes and edges, a complete structures\n",
    "- State: a shared data structure followed by all nodes and connections ( a common schema)"
   ]
  },
  {
   "cell_type": "markdown",
   "id": "6e5465b7",
   "metadata": {},
   "source": []
  },
  {
   "cell_type": "code",
   "execution_count": 5,
   "id": "749cc6ca",
   "metadata": {},
   "outputs": [
    {
     "data": {
      "text/plain": [
       "True"
      ]
     },
     "execution_count": 5,
     "metadata": {},
     "output_type": "execute_result"
    }
   ],
   "source": [
    "from dotenv import load_dotenv\n",
    "load_dotenv()"
   ]
  },
  {
   "cell_type": "code",
   "execution_count": 6,
   "id": "09b29e1c",
   "metadata": {},
   "outputs": [],
   "source": [
    "# initiate a state\n",
    "\n",
    "from typing import TypedDict\n",
    "\n",
    "class myState(TypedDict):\n",
    "    query:str\n",
    "    response:str\n",
    "    "
   ]
  },
  {
   "cell_type": "code",
   "execution_count": 7,
   "id": "31a364fc",
   "metadata": {},
   "outputs": [],
   "source": [
    "# create a node\n",
    "\n",
    "from langchain_openai import AzureChatOpenAI\n",
    "from langchain.prompts import PromptTemplate\n",
    "\n",
    "llm = AzureChatOpenAI(model=model_name)\n",
    "\n",
    "# define a node: a node will alwaystake state (myState) as input and return state variables as output\n",
    "def assistant(state:myState)->myState:\n",
    "    prompt = PromptTemplate(input_variables=[\"query\"],\n",
    "                            template=\"Anwer the question in concise way {query}\")\n",
    "    \n",
    "    response = llm.invoke(prompt.format(query=state['query'])).content\n",
    "    return {\"response\":response}\n"
   ]
  },
  {
   "cell_type": "code",
   "execution_count": 8,
   "id": "42a62654",
   "metadata": {},
   "outputs": [
    {
     "data": {
      "image/png": "[encoded data removed]",
      "text/plain": [
       "<langgraph.graph.state.CompiledStateGraph object at 0x7561e346acf0>"
      ]
     },
     "execution_count": 8,
     "metadata": {},
     "output_type": "execute_result"
    }
   ],
   "source": [
    "# build graph\n",
    "from langgraph.graph import StateGraph,START,END\n",
    "\n",
    "builder = StateGraph(myState)\n",
    "builder.add_node(\"chat\",assistant)\n",
    "builder.add_edge(START,\"chat\")\n",
    "builder.add_edge(\"chat\",END)\n",
    "\n",
    "graph = builder.compile()\n",
    "graph"
   ]
  },
  {
   "cell_type": "code",
   "execution_count": 9,
   "id": "34a683f1",
   "metadata": {},
   "outputs": [
    {
     "name": "stdout",
     "output_type": "stream",
     "text": [
      "{'query': 'What is capital of Canada?', 'response': 'The capital of Canada is Ottawa.'}\n"
     ]
    }
   ],
   "source": [
    "result = graph.invoke({\"query\":\"What is capital of Canada?\"})\n",
    "print(result)"
   ]
  },
  {
   "cell_type": "code",
   "execution_count": 10,
   "id": "dfab6570",
   "metadata": {},
   "outputs": [
    {
     "name": "stdout",
     "output_type": "stream",
     "text": [
      "The capital of Canada is Ottawa.\n"
     ]
    }
   ],
   "source": [
    "print(result['response'])"
   ]
  },
  {
   "cell_type": "code",
   "execution_count": 11,
   "id": "5d474943",
   "metadata": {},
   "outputs": [],
   "source": [
    "class myState(TypedDict):\n",
    "    query:str\n",
    "    response:str\n",
    "    valid:bool"
   ]
  },
  {
   "cell_type": "code",
   "execution_count": 12,
   "id": "34f5b38e",
   "metadata": {},
   "outputs": [],
   "source": [
    "# adding an additional node: validting the input\n",
    "\n",
    "# adding a node: checker which checks the input and validates based on certain rules\n",
    "def checker(state:myState)->myState:\n",
    "    if len(state['query'].strip())<10:\n",
    "        return {\"valid\":False,\"response\":\"ENTER A VALID QUESTION\"}\n",
    "    else:\n",
    "        return {\"valid\":True}"
   ]
  },
  {
   "cell_type": "code",
   "execution_count": 13,
   "id": "9a9f4e21",
   "metadata": {},
   "outputs": [
    {
     "data": {
      "image/png": "[encoded data removed]",
      "text/plain": [
       "<langgraph.graph.state.CompiledStateGraph object at 0x7561e3381340>"
      ]
     },
     "execution_count": 13,
     "metadata": {},
     "output_type": "execute_result"
    }
   ],
   "source": [
    "builder = StateGraph(myState)\n",
    "\n",
    "builder.add_node(\"checker\",checker)\n",
    "builder.add_node(\"chat\",assistant)\n",
    "\n",
    "# add connection\n",
    "builder.add_edge(START,\"checker\")\n",
    "\n",
    "\n",
    "# add a conditional edge\n",
    "def route(state:myState):\n",
    "    if state['valid']:\n",
    "        return \"x\"\n",
    "    else:\n",
    "        return \"y\"\n",
    "    \n",
    "builder.add_conditional_edges(\"checker\",route,{\"x\":\"chat\",\"y\":END})\n",
    "builder.add_edge(\"chat\",END)\n",
    "\n",
    "\n",
    "graph = builder.compile()\n",
    "graph"
   ]
  },
  {
   "cell_type": "code",
   "execution_count": 14,
   "id": "64f1c054",
   "metadata": {},
   "outputs": [
    {
     "name": "stdout",
     "output_type": "stream",
     "text": [
      "{'query': 'what is capital of France?', 'response': 'The capital of France is Paris.', 'valid': True}\n"
     ]
    }
   ],
   "source": [
    "result = graph.invoke({\"query\":\"what is capital of France?\"})\n",
    "print(result)"
   ]
  },
  {
   "cell_type": "code",
   "execution_count": 15,
   "id": "f09a8c7a",
   "metadata": {},
   "outputs": [
    {
     "name": "stdout",
     "output_type": "stream",
     "text": [
      "{'query': 'what ?       ', 'response': 'ENTER A VALID QUESTION', 'valid': False}\n"
     ]
    }
   ],
   "source": [
    "result = graph.invoke({\"query\":\"what ?       \"})\n",
    "print(result)"
   ]
  },
  {
   "cell_type": "markdown",
   "id": "3c98b4da",
   "metadata": {},
   "source": [
    "## Code Chain\n",
    "\n",
    "- Generate code, analyze code"
   ]
  },
  {
   "cell_type": "code",
   "execution_count": 16,
   "id": "c8d592af",
   "metadata": {},
   "outputs": [
    {
     "data": {
      "image/png": "[encoded data removed]",
      "text/plain": [
       "<langgraph.graph.state.CompiledStateGraph object at 0x7561e3c4a150>"
      ]
     },
     "execution_count": 16,
     "metadata": {},
     "output_type": "execute_result"
    }
   ],
   "source": [
    "from typing import TypedDict\n",
    "from langchain_openai import AzureChatOpenAI\n",
    "from langchain_core.prompts import ChatPromptTemplate\n",
    "llm = AzureChatOpenAI(model=model_name)\n",
    "\n",
    "class simpleState(TypedDict):\n",
    "    code:str\n",
    "    task:str\n",
    "    modified_code:str\n",
    "\n",
    "\n",
    "def generate_code(state:simpleState)->simpleState:\n",
    "    generate_prompt = ChatPromptTemplate([(\"system\",\"Write a simple code for the task, only provide code no other additional text\"),\n",
    "                                      (\"user\",\"{task}\")])\n",
    "    code = llm.invoke(generate_prompt.invoke({\"task\":state[\"task\"]})).content\n",
    "    return {\"code\":code}\n",
    "\n",
    "\n",
    "def analyze_code(state:simpleState)->simpleState:\n",
    "    analyze_prompt = ChatPromptTemplate([(\"system\",\"Analyze the provided code, add docstrings and comments. only provide code no other additional text\"),\n",
    "                                      (\"user\",\"{code}\")])\n",
    "    modified_code = llm.invoke(analyze_prompt.invoke({\"code\":state[\"code\"]})).content\n",
    "    return {\"modified_code\":modified_code}\n",
    "\n",
    "\n",
    "builder = StateGraph(simpleState)\n",
    "builder.add_sequence([generate_code,analyze_code])\n",
    "builder.add_edge(START,\"generate_code\")\n",
    "\n",
    "graph = builder.compile()\n",
    "graph\n",
    "\n",
    "    "
   ]
  },
  {
   "cell_type": "code",
   "execution_count": 17,
   "id": "3d3eb743",
   "metadata": {},
   "outputs": [],
   "source": [
    "result = graph.invoke({\"task\":\"FIBONACCI SERIES\"})"
   ]
  },
  {
   "cell_type": "code",
   "execution_count": 18,
   "id": "764bf179",
   "metadata": {},
   "outputs": [
    {
     "name": "stdout",
     "output_type": "stream",
     "text": [
      "{'code': '```python\\ndef fibonacci(n):\\n    fib_sequence = []\\n    a, b = 0, 1\\n    for _ in range(n):\\n        fib_sequence.append(a)\\n        a, b = b, a + b\\n    return fib_sequence\\n\\n# Example usage\\nn = 10  # Number of Fibonacci numbers to generate\\nprint(fibonacci(n))\\n```', 'task': 'FIBONACCI SERIES', 'modified_code': '```python\\ndef fibonacci(n):\\n    \"\"\"\\n    Generate a Fibonacci sequence up to the n-th number.\\n\\n    Parameters:\\n    n (int): The number of Fibonacci numbers to generate.\\n\\n    Returns:\\n    list: A list containing the Fibonacci sequence.\\n    \"\"\"\\n    fib_sequence = []  # Initialize an empty list to store the Fibonacci numbers\\n    a, b = 0, 1  # Starting values for the Fibonacci sequence\\n    \\n    # Iterate n times to generate n Fibonacci numbers\\n    for _ in range(n):\\n        fib_sequence.append(a)  # Append the current Fibonacci number (a) to the list\\n        a, b = b, a + b  # Update a and b to the next two Fibonacci numbers\\n\\n    return fib_sequence  # Return the generated list of Fibonacci numbers\\n\\n# Example usage\\nn = 10  # Number of Fibonacci numbers to generate\\nprint(fibonacci(n))  # Output the list of Fibonacci numbers\\n```'}\n"
     ]
    }
   ],
   "source": [
    "print(result)"
   ]
  },
  {
   "cell_type": "code",
   "execution_count": 19,
   "id": "a593e5af",
   "metadata": {},
   "outputs": [
    {
     "name": "stdout",
     "output_type": "stream",
     "text": [
      "```python\n",
      "def fibonacci(n):\n",
      "    fib_sequence = []\n",
      "    a, b = 0, 1\n",
      "    for _ in range(n):\n",
      "        fib_sequence.append(a)\n",
      "        a, b = b, a + b\n",
      "    return fib_sequence\n",
      "\n",
      "# Example usage\n",
      "n = 10  # Number of Fibonacci numbers to generate\n",
      "print(fibonacci(n))\n",
      "```\n"
     ]
    }
   ],
   "source": [
    "print(result['code'])"
   ]
  },
  {
   "cell_type": "code",
   "execution_count": 20,
   "id": "1431bd0e",
   "metadata": {},
   "outputs": [
    {
     "name": "stdout",
     "output_type": "stream",
     "text": [
      "```python\n",
      "def fibonacci(n):\n",
      "    \"\"\"\n",
      "    Generate a Fibonacci sequence up to the n-th number.\n",
      "\n",
      "    Parameters:\n",
      "    n (int): The number of Fibonacci numbers to generate.\n",
      "\n",
      "    Returns:\n",
      "    list: A list containing the Fibonacci sequence.\n",
      "    \"\"\"\n",
      "    fib_sequence = []  # Initialize an empty list to store the Fibonacci numbers\n",
      "    a, b = 0, 1  # Starting values for the Fibonacci sequence\n",
      "    \n",
      "    # Iterate n times to generate n Fibonacci numbers\n",
      "    for _ in range(n):\n",
      "        fib_sequence.append(a)  # Append the current Fibonacci number (a) to the list\n",
      "        a, b = b, a + b  # Update a and b to the next two Fibonacci numbers\n",
      "\n",
      "    return fib_sequence  # Return the generated list of Fibonacci numbers\n",
      "\n",
      "# Example usage\n",
      "n = 10  # Number of Fibonacci numbers to generate\n",
      "print(fibonacci(n))  # Output the list of Fibonacci numbers\n",
      "```\n"
     ]
    }
   ],
   "source": [
    "print(result['modified_code'])"
   ]
  },
  {
   "cell_type": "code",
   "execution_count": null,
   "id": "3b11195b",
   "metadata": {},
   "outputs": [],
   "source": []
  }
 ],
 "metadata": {
  "kernelspec": {
   "display_name": "genai",
   "language": "python",
   "name": "python3"
  },
  "language_info": {
   "codemirror_mode": {
    "name": "ipython",
    "version": 3
   },
   "file_extension": ".py",
   "mimetype": "text/x-python",
   "name": "python",
   "nbconvert_exporter": "python",
   "pygments_lexer": "ipython3",
   "version": "3.12.3"
  }
 },
 "nbformat": 4,
 "nbformat_minor": 5
}
