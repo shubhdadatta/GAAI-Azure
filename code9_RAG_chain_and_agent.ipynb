{
  "cells": [
    {
      "cell_type": "markdown",
      "metadata": {
        "id": "SpVgBlJNayoI"
      },
      "source": [
        "# RAG Implementation with AzureOpenAI and LangChain"
      ]
    },
    {
      "cell_type": "code",
      "execution_count": 49,
      "metadata": {
        "colab": {
          "base_uri": "https://localhost:8080/"
        },
        "id": "28d272cd-4e31-40aa-bbb4-0be0a1f49a14",
        "outputId": "9732f606-6c04-4ad7-e0e6-b4d644fa5aa4"
      },
      "outputs": [],
      "source": [
        "!python -m pip install langchain-community langchainhub langchain-chroma langchain langchain-experimental --quiet"
      ]
    },
    {
      "cell_type": "code",
      "execution_count": 50,
      "metadata": {
        "colab": {
          "base_uri": "https://localhost:8080/"
        },
        "id": "bLonIlavDBci",
        "outputId": "723d17aa-3376-4997-9988-a995acd2b072"
      },
      "outputs": [],
      "source": [
        "!python -m pip install pypdf faiss-cpu --quiet"
      ]
    },
    {
      "cell_type": "code",
      "execution_count": 51,
      "metadata": {
        "id": "Ja6U3t6abVpU"
      },
      "outputs": [],
      "source": [
        "import os\n",
        "\n",
        "embedding_model_name = \"text-embedding-3-small\"\n",
        "model_name = \"gpt4o\""
      ]
    },
    {
      "cell_type": "code",
      "execution_count": 52,
      "metadata": {
        "id": "MGhs4RN7vgXG"
      },
      "outputs": [],
      "source": [
        "doc_paths = [\"https://www.morningstar.com/content/dam/marketing/shared/research/methodology/771945_Morningstar_Rating_for_Funds_Methodology.pdf\",\n",
        "             \"https://www.morningstar.in/docs/methodology/CategoryDefinitionsIndiaV3.pdf\",\n",
        "             \"https://s21.q4cdn.com/198919461/files/doc_downloads/press_kits/2016/Morningstar-Sustainable-Investing-Handbook.pdf\"]"
      ]
    },
    {
      "cell_type": "code",
      "execution_count": 53,
      "metadata": {
        "id": "nhl29sxXD085"
      },
      "outputs": [],
      "source": [
        "from langchain_community.document_loaders import PyPDFLoader\n",
        "\n",
        "#loaders = [PyPDFLoader(pdf, extract_images=False,mode='single') for pdf in doc_paths]\n",
        "loaders = [PyPDFLoader(pdf, extract_images=False) for pdf in doc_paths]\n",
        "docs = []\n",
        "\n",
        "for loader in loaders:\n",
        "    doc = loader.load()\n",
        "    docs.extend(doc)"
      ]
    },
    {
      "cell_type": "code",
      "execution_count": 54,
      "metadata": {
        "colab": {
          "base_uri": "https://localhost:8080/"
        },
        "id": "plYaZJcrwZrd",
        "outputId": "494890bf-219a-47ff-fdb8-6c3806a33f5d"
      },
      "outputs": [
        {
          "data": {
            "text/plain": [
              "46"
            ]
          },
          "execution_count": 54,
          "metadata": {},
          "output_type": "execute_result"
        }
      ],
      "source": [
        "len(docs)"
      ]
    },
    {
      "cell_type": "code",
      "execution_count": 55,
      "metadata": {},
      "outputs": [
        {
          "data": {
            "text/plain": [
              "Document(metadata={'producer': 'Adobe PDF Library 15.0', 'creator': 'Adobe InDesign 15.0 (Macintosh)', 'creationdate': '2021-08-26T06:25:29-04:00', 'moddate': '2021-08-26T06:25:33-04:00', 'trapped': '/False', 'source': 'https://www.morningstar.com/content/dam/marketing/shared/research/methodology/771945_Morningstar_Rating_for_Funds_Methodology.pdf', 'total_pages': 21, 'page': 0, 'page_label': '1'}, page_content='The Morningstar Rating\\nTM\\n for Funds\\nMorningstar Methodology\\nAugust 2021\\nContents\\nIntroduction \\nMorningstar Categories \\nTheory \\nCalculations \\nThe Morningstar Rating: \\nThree-, Five-, and 10-Year \\nMorningstar Return and \\nMorningstar Risk Rating\\nThe Overall Morningstar Rating\\nRating Suspensions\\nConclusion\\nAppendix 1: Risk-Free Rates Applied\\nAppendix 2: Methodology Changes\\nAppendix 3: Star Ratings for Separately\\nManaged Accounts and Models\\nImportant Disclosure\\nMerged with the existing star rating\\nThe conduct of Morningstar’s analysts is governed \\nby Code of Ethics/Code of Conduct Policy, Personal \\nSecurity Trading Policy (or an equivalent of), \\nand Investment Research Policy. For information \\nregarding conflicts of interest, please visit: http://\\nglobal.morningstar.com/equitydisclosures\\n1\\n2\\n4\\n8\\n12\\n13\\n15\\n16\\n17\\n18\\n19\\n20\\nIntroduction\\nThis document describes the rationale for, and the formulas and procedures used in, calculating the \\nMorningstar Rating™ for funds (commonly called the “star rating”). This methodology applies to \\nfunds receiving a star rating from Morningstar, except in Japan where these are the Ibbotson Stars. \\nThe Morningstar Rating has the following key characteristics:\\nThe peer group for each fund’s rating is its Morningstar Category™.\\nRatings are based on funds’ risk-adjusted returns.\\nMorningstar Category\\nThe original Morningstar Rating was introduced in 1985 and was often used to help investors and \\nadvisors choose one or a few funds from among the many available within broadly defined asset \\nclasses. Over time, though, increasing emphasis had been placed on the importance of funds as \\nportfolio components rather than “stand-alone” investments. In this context, it was important that \\nfunds within a particular rating group be valid substitutes for one another in the construction of a \\ndiversified portfolio. For this reason, Morningstar now assigns ratings based on comparisons of all \\nfunds within a specific Morningstar Category, rather than all funds in a broad asset class.\\nRisk-Adjusted Return\\nThe star rating is based on risk-adjusted performance. However, different aspects of portfolio theory \\nsuggest various interpretations of the phrase “risk-adjusted.” As the term is most commonly used, to \\n“risk adjust” the returns of two funds means to equalize their risk levels before comparing them. The \\nSharpe ratio is consistent with this interpretation of “risk-adjusted.”\\nBut the Sharpe ratio does not always produce intuitive results. If two funds have equal positive \\naverage excess returns, the one that has experienced lower return volatility receives a higher Sharpe \\nratio score. However, if the average excess returns are equal and negative, the fund with higher \\nvolatility receives the higher score because it experienced fewer losses per unit of risk. While this \\nresult is consistent with portfolio theory, many retail investors find it counterintuitive. Unless advised \\nappropriately, they may be reluctant to accept a fund rating based on the Sharpe ratio, or similar \\nmeasures, in periods when the majority of the funds have negative excess returns.\\nStandard deviation is another common measure of risk, but it is not always a good measure of \\nfund volatility or consistent with investor preferences. First, any risk-adjusted return measure \\nthat is based on standard deviation assumes that the riskiness of a fund’s excess returns is well \\n3\\n3')"
            ]
          },
          "execution_count": 55,
          "metadata": {},
          "output_type": "execute_result"
        }
      ],
      "source": [
        "docs[0]"
      ]
    },
    {
      "cell_type": "code",
      "execution_count": 56,
      "metadata": {
        "colab": {
          "base_uri": "https://localhost:8080/"
        },
        "id": "HVLYgpziwdKD",
        "outputId": "c439fa27-33a9-4a3a-b22e-8b93e161c2a3"
      },
      "outputs": [
        {
          "data": {
            "text/plain": [
              "45"
            ]
          },
          "execution_count": 56,
          "metadata": {},
          "output_type": "execute_result"
        }
      ],
      "source": [
        "# drop pages which have less than 100 characters (e.g. header pages, empty separater pages)\n",
        "docs = [doc for doc in docs if len(doc.page_content.strip())>100]\n",
        "len(docs)"
      ]
    },
    {
      "cell_type": "code",
      "execution_count": 33,
      "metadata": {
        "colab": {
          "base_uri": "https://localhost:8080/"
        },
        "id": "msEaKLKqwiOE",
        "outputId": "030bb343-243e-4718-8db3-d4a466eba058"
      },
      "outputs": [
        {
          "data": {
            "text/plain": [
              "2707.9555555555557"
            ]
          },
          "execution_count": 33,
          "metadata": {},
          "output_type": "execute_result"
        }
      ],
      "source": [
        "# FOr all remaining document, checking the average characters count\n",
        "sum(len(doc.page_content) for doc in docs)/len(docs)"
      ]
    },
    {
      "cell_type": "code",
      "execution_count": 58,
      "metadata": {},
      "outputs": [
        {
          "data": {
            "text/plain": [
              "4060.5"
            ]
          },
          "execution_count": 58,
          "metadata": {},
          "output_type": "execute_result"
        }
      ],
      "source": [
        "2707*1.5"
      ]
    },
    {
      "cell_type": "code",
      "execution_count": 59,
      "metadata": {
        "colab": {
          "base_uri": "https://localhost:8080/"
        },
        "id": "qM6hV4DjwkIe",
        "outputId": "95a1e500-863d-4509-cce9-e79d5f0638e1"
      },
      "outputs": [
        {
          "data": {
            "text/plain": [
              "53"
            ]
          },
          "execution_count": 59,
          "metadata": {},
          "output_type": "execute_result"
        }
      ],
      "source": [
        "# split the documents(each pdf page as one document) , into multiple so that at max there are 3500 characters in one document, with overlap of 500 characters while splitting\n",
        "from langchain.text_splitter import RecursiveCharacterTextSplitter\n",
        "text_splitter = RecursiveCharacterTextSplitter(chunk_size=3500, chunk_overlap=500)\n",
        "splits = text_splitter.split_documents(docs)\n",
        "len(splits)"
      ]
    },
    {
      "cell_type": "code",
      "execution_count": 60,
      "metadata": {
        "colab": {
          "base_uri": "https://localhost:8080/"
        },
        "id": "YpYTraoSwmUj",
        "outputId": "34f34a36-63ad-4808-decc-12df8830c92b"
      },
      "outputs": [
        {
          "name": "stdout",
          "output_type": "stream",
          "text": [
            "3\n",
            "3\n",
            "3\n",
            "©2021 Morningstar, Inc. All rights reserved. The information in this document is the property of Morningstar, Inc. Reproduction or transcription by any means, in whole or in part, without the prior written \n",
            "consent of Morningstar, Inc., is prohibited.\n",
            " \n",
            "The Morningstar RatingTM for Funds    August 2021Page 2 of 21\n",
            "captured by standard deviation, as would be the case if excess return were normally or lognormally \n",
            "distributed, which is not always the case. Also, standard deviation measures variation both above \n",
            "and below the mean equally. But investors are generally risk-averse and dislike downside variation \n",
            "more than upside variation. Morningstar gives more weight to downside variation when calculating \n",
            "Morningstar Risk-Adjusted Return and does not make any assumptions about the distribution of \n",
            "excess returns.\n",
            "The other commonly accepted meaning of “risk-adjusted” is based on assumed investor preferences. \n",
            "Under this approach, higher return is “good” and higher risk is “bad” under all circumstances, \n",
            "without regard to how these two outcomes are combined. Hence, when grading funds, return \n",
            "should be rewarded and risk penalized in all cases. The Morningstar Risk-Adjusted Return measure \n",
            "described in this document has this property.\n",
            "This document discusses the Morningstar Category as the basis for the rating, and it describes the \n",
            "methodology for calculating risk-adjusted return and the Morningstar Rating. Morningstar calculates \n",
            "ratings at the end of each month.\n",
            "Morningstar Categories\n",
            "Category Peer Groups\n",
            "Morningstar uses the Morningstar Category as the primary peer group for a number of calculations, \n",
            "including percentile ranks, fund-versus-category-average comparisons, and the Morningstar Rating. \n",
            "The Morningstar Rating compares funds’ risk-adjusted historical returns. Its usefulness depends, in \n",
            "part, on which funds are compared with others. \n",
            "It can be assumed that the returns of major asset classes (domestic equities, foreign equities, \n",
            "domestic bonds, and so on) will, over lengthy periods of time, be commensurate with their risk. \n",
            "However, asset class relative returns may not reflect relative risk over ordinary investor time \n",
            "horizons. For instance, in a declining interest-rate environment, investment-grade bond returns can \n",
            "exceed equity returns despite the higher long-term risk of equities; such a situation might continue \n",
            "for months or even years. Under these circumstances many bond funds outperform equity funds for \n",
            "reasons unrelated to the skills of the fund managers.\n",
            "A general principle that applies to the calculation of fund star ratings follows from this fact; that \n",
            "is, the relative star ratings of two funds should be affected more by manager skill than by market \n",
            "circumstances or events that lie beyond the fund managers’ control. \n",
            "Another general principle is that peer groups should reflect the investment opportunities for \n",
            "investors. So, categories are defined and funds are rated within each of the major markets around \n",
            "the world. Morningstar supports different category schemes for different markets based on the \n",
            "investment needs and perspectives of local investors. For example, Morningstar rates high-yield\n"
          ]
        }
      ],
      "source": [
        "print(splits[1].page_content)"
      ]
    },
    {
      "cell_type": "code",
      "execution_count": null,
      "metadata": {
        "id": "l2B32z8TcWoU"
      },
      "outputs": [],
      "source": [
        "from langchain_openai import AzureOpenAIEmbeddings\n",
        "embeddings = AzureOpenAIEmbeddings(model=embedding_model_name,\n",
        "                                   azure_endpoint=os.environ[\"AZURE_OPENAI_ENDPOINT\"])"
      ]
    },
    {
      "cell_type": "code",
      "execution_count": 62,
      "metadata": {
        "id": "gbSAbl22wopB"
      },
      "outputs": [],
      "source": [
        "# initializng the vector store using CHromaDB\n",
        "#from langchain_community.vectorstores import FAISS\n",
        "#from langchain.embeddings import HuggingFaceBgeEmbeddings\n",
        "#embedding_model_name = \"BAAI/bge-large-en-v1.5\"\n",
        "#embeddings = HuggingFaceBgeEmbeddings(model_name=embedding_model_name,)"
      ]
    },
    {
      "cell_type": "code",
      "execution_count": 64,
      "metadata": {},
      "outputs": [],
      "source": [
        "import os\n",
        "vector_db_path = \"VectorDB_Chroma\"\n",
        "os.makedirs(vector_db_path,exist_ok=True)"
      ]
    },
    {
      "cell_type": "code",
      "execution_count": 66,
      "metadata": {
        "id": "VLwnR76SMPsH"
      },
      "outputs": [],
      "source": [
        "from langchain_chroma import Chroma\n",
        "vectorstore = Chroma.from_documents(documents=splits, embedding=embeddings,\n",
        "                                    persist_directory=vector_db_path,collection_name=\"morningstar2\",\n",
        "                                    collection_metadata={\"use_type\":\"TRAINING AND EXPERIMENTATION\"})\n"
      ]
    },
    {
      "cell_type": "code",
      "execution_count": 67,
      "metadata": {},
      "outputs": [
        {
          "name": "stdout",
          "output_type": "stream",
          "text": [
            "Number of docs dumped into vector DB\n",
            "53\n"
          ]
        }
      ],
      "source": [
        "print(\"Number of docs dumped into vector DB\")\n",
        "print(len(vectorstore.get()['ids']))"
      ]
    },
    {
      "cell_type": "code",
      "execution_count": 89,
      "metadata": {},
      "outputs": [],
      "source": [
        "# using vector db object to initialize a retriever object - to perform vector search/retrieval\n",
        "retriever = vectorstore.as_retriever(search_type=\"similarity\", search_kwargs={\"k\": 2})"
      ]
    },
    {
      "cell_type": "code",
      "execution_count": 90,
      "metadata": {
        "colab": {
          "base_uri": "https://localhost:8080/",
          "height": 159
        },
        "id": "mfJHg61Uw6BP",
        "outputId": "3ce3f2b9-d711-4f4c-9054-0000508f9b9f"
      },
      "outputs": [
        {
          "data": {
            "text/plain": [
              "2"
            ]
          },
          "execution_count": 90,
          "metadata": {},
          "output_type": "execute_result"
        }
      ],
      "source": [
        "retrieved_docs = retriever.invoke(\"What is Monrning Star Suistainable Rating?\")\n",
        "len(retrieved_docs)"
      ]
    },
    {
      "cell_type": "code",
      "execution_count": 74,
      "metadata": {},
      "outputs": [
        {
          "name": "stdout",
          "output_type": "stream",
          "text": [
            "page_content='The Morningstar Sustainable Investing Handbook\n",
            "7\n",
            "Is interest in sustainable investing really growing? \n",
            "Investors are placing increasing importance on sustainability issues. In a 2015 survey, the Morgan \n",
            "Stanley Institute of Sustainable Investing found that 71% of individual investors are interested  \n",
            "in sustainable investing. During 2015, the number of financial institutions that signed the United \n",
            "Nations-backed Principles for Responsible Investment (PRI) Initiative increased by 29%. As of \n",
            "January 2016, nearly 1,500 firms managing in excess of $59 trillion have joined this global network \n",
            "of investors working to promote responsible investing.\n",
            "Why are investors increasingly interested in integrating ESG factors into \n",
            "their investment decisions?\n",
            "Some investors want to know they are investing in companies with strong sustainable practices \n",
            "and ethical policies. It’s a way of aligning their investments with their values. Others see ESG  \n",
            "as a set of factors often overlooked in traditional analysis that should be incorporated for a more \n",
            "complete assessment of an investment. \n",
            "How does sustainable investing fit with Morningstar’s mission?\n",
            "As part of our mission to create great products that help investors reach their financial goals, \n",
            "Morningstar has a long tradition of innovative research centered on good stewardship, lower costs, \n",
            "and more transparency for investors. Providing Sustainability Ratings and Scores based on ESG \n",
            "factors is a natural extension of our work. \n",
            "What is the Morningstar Sustainability Rating? \n",
            "Morningstar is creating Sustainability Ratings for funds globally. The Morningstar Sustainability \n",
            "Rating will help investors assess how well the companies held in a fund are managing the ESG \n",
            "issues most relevant to their industries, and to compare funds with one another, across categories, \n",
            "and to benchmarks using ESG factors. \n",
            "Why is Morningstar launching Sustainability Ratings? \n",
            "There is a growing level of investor interest in sustainable investing worldwide, but a lack of \n",
            "information and tools that investors can use to help evaluate investments on a sustainability basis, \n",
            "particularly at the portfolio level. We are giving investors a new way to determine how well  \n",
            "the companies in a fund are managing ESG factors so more investors can put their money to work \n",
            "in ways that are meaningful to them.\n",
            "How does Morningstar calculate Sustainability Ratings? \n",
            "Morningstar first calculates a fund’s Portfolio Sustainability Score, which measures how well the \n",
            "companies it holds are managing their ESG risks and opportunities. We are basing the scores on \n",
            "research from Sustainalytics, a leading provider of company-level ESG research and ratings. \n",
            "Sustainalytics delivers company ESG scores along with assessments of companies’ involvement in \n",
            "ESG-related controversies. Morningstar’s Portfolio Sustainability Score is an asset-weighted' metadata={'page': 7, 'creator': 'Adobe InDesign CS6 (Macintosh)', 'page_label': '7', 'producer': 'Adobe PDF Library 10.0.1', 'moddate': '2016-02-22T16:28:28-06:00', 'trapped': '/False', 'total_pages': 13, 'source': 'https://s21.q4cdn.com/198919461/files/doc_downloads/press_kits/2016/Morningstar-Sustainable-Investing-Handbook.pdf', 'creationdate': '2016-02-22T16:28:27-06:00'}\n"
          ]
        }
      ],
      "source": [
        "print(retrieved_docs[0])\n"
      ]
    },
    {
      "cell_type": "code",
      "execution_count": 75,
      "metadata": {},
      "outputs": [
        {
          "name": "stdout",
          "output_type": "stream",
          "text": [
            "(Document(id='2971241b-b336-4b94-90be-f988a53abc5e', metadata={'page_label': '1', 'total_pages': 12, 'producer': 'GPL Ghostscript 9.06', 'title': 'Microsoft Word - India Category_Definitions April 2021', 'author': 'KBelapu', 'creationdate': '2021-02-26T12:11:18+05:30', 'source': 'https://www.morningstar.in/docs/methodology/CategoryDefinitionsIndiaV3.pdf', 'creator': 'PScript5.dll Version 5.2.2', 'page': 0, 'moddate': '2021-02-26T12:11:18+05:30'}, page_content='? \\n \\n \\n \\n \\n \\n \\n \\n \\n \\n \\n \\nCategor y Definitions  \\nIndia \\nEquity  \\n \\nLarge-Cap \\nLarge-Cap funds primarily consist of stocks which are the Top 100 stocks by full market capitalization  of \\nthe equity market. These funds invest at least 80% of total assets in Indian equities and the balance can \\nbe invested in other asset classes such as fixed income and overseas equities, among others. Funds in \\nthis category would invest at least 80% of their total assets in large-cap stocks. \\nMorningstar Category Index: S&P BSE 100 TR \\n \\nMid-Cap \\nMid-Cap funds primarily consist of stocks ranked 101st to 250th by full market capitalization of the \\nequity market. These funds invest at least 65% of total assets in Indian equities, and the balance can be \\ninvested in other asset classes such as fixed income and overseas equities, among others. Funds in this \\ncategory would invest at least 65% of their total assets in mid-cap stocks. \\nMorningstar Category Index: S&P BSE Mid Cap TR \\n \\nSmall-Cap \\nSmall-Cap funds primarily consist of stocks ranked 251st onwards by full market capitalization of the \\nequity market. These funds invest at least 65% of total assets in Indian equities, and the balance can be \\ninvested in other asset classes such as fixed income and overseas equities, among others. Funds in this \\ncategory would invest at least 65% of their total assets in small-cap stocks. \\nMorningstar Category Index: S&P BSE Small Cap TR \\n \\nFlexi Cap \\nFlexi Cap funds invest at least 65% of their total assets in Indian equities, and the balance can be \\ninvested in other asset classes such as fixed income and overseas equities, among others. These funds \\nwill invest into a mix of Large, Mid and small-cap stocks. \\nMorningstar Category Index: S&P BSE 500 TR \\n \\n \\n \\nMorningstar Research  \\nApril 2021'), 0.895184338092804)\n"
          ]
        }
      ],
      "source": [
        "ret_docs = vectorstore.similarity_search_with_score(\"What is Large Cap equity fund\",k=2)\n",
        "print(ret_docs[0])"
      ]
    },
    {
      "cell_type": "code",
      "execution_count": 76,
      "metadata": {
        "colab": {
          "base_uri": "https://localhost:8080/"
        },
        "id": "DNIGp-p9w6BV",
        "outputId": "3910a673-677b-4cea-8fcd-95e453bab413"
      },
      "outputs": [
        {
          "name": "stdout",
          "output_type": "stream",
          "text": [
            "The Morningstar Sustainable Investing Handbook\n",
            "7\n",
            "Is interest in sustainable investing really growing? \n",
            "Investors are placing increasing importance on sustainability issues. In a 2015 survey, the Morgan \n",
            "Stanley Institute of Sustainable Investing found that 71% of individual investors are interested  \n",
            "in sustainable investing. During 2015, the number of financial institutions that signed the United \n",
            "Nations-backed Principles for Responsible Investment (PRI) Initiative increased by 29%. As of \n",
            "January 2016, nearly 1,500 firms managing in excess of $59 trillion have joined this global network \n",
            "of investors working to promote responsible investing.\n",
            "Why are investors increasingly interested in integrating ESG factors into \n",
            "their investment decisions?\n",
            "Some investors want to know they are investing in companies with strong sustainable practices \n",
            "and ethical policies. It’s a way of aligning their investments with their values. Others see ESG  \n",
            "as a set of factors often overlooked in traditional analysis that should be incorporated for a more \n",
            "complete assessment of an investment. \n",
            "How does sustainable investing fit with Morningstar’s mission?\n",
            "As part of our mission to create great products that help investors reach their financial goals, \n",
            "Morningstar has a long tradition of innovative research centered on good stewardship, lower costs, \n",
            "and more transparency for investors. Providing Sustainability Ratings and Scores based on ESG \n",
            "factors is a natural extension of our work. \n",
            "What is the Morningstar Sustainability Rating? \n",
            "Morningstar is creating Sustainability Ratings for funds globally. The Morningstar Sustainability \n",
            "Rating will help investors assess how well the companies held in a fund are managing the ESG \n",
            "issues most relevant to their industries, and to compare funds with one another, across categories, \n",
            "and to benchmarks using ESG factors. \n",
            "Why is Morningstar launching Sustainability Ratings? \n",
            "There is a growing level of investor interest in sustainable investing worldwide, but a lack of \n",
            "information and tools that investors can use to help evaluate investments on a sustainability basis, \n",
            "particularly at the portfolio level. We are giving investors a new way to determine how well  \n",
            "the companies in a fund are managing ESG factors so more investors can put their money to work \n",
            "in ways that are meaningful to them.\n",
            "How does Morningstar calculate Sustainability Ratings? \n",
            "Morningstar first calculates a fund’s Portfolio Sustainability Score, which measures how well the \n",
            "companies it holds are managing their ESG risks and opportunities. We are basing the scores on \n",
            "research from Sustainalytics, a leading provider of company-level ESG research and ratings. \n",
            "Sustainalytics delivers company ESG scores along with assessments of companies’ involvement in \n",
            "ESG-related controversies. Morningstar’s Portfolio Sustainability Score is an asset-weighted\n"
          ]
        }
      ],
      "source": [
        "print(retrieved_docs[0].page_content)"
      ]
    },
    {
      "cell_type": "code",
      "execution_count": 77,
      "metadata": {
        "colab": {
          "base_uri": "https://localhost:8080/"
        },
        "id": "6tMaR7AVw6BV",
        "outputId": "c12e2a21-2685-4760-83c1-302cc27b4642"
      },
      "outputs": [
        {
          "name": "stdout",
          "output_type": "stream",
          "text": [
            "The Morningstar Sustainable Investing Handbook\n",
            "4\n",
            "The Morningstar Sustainability Rating™ for Funds\n",
            " \n",
            "A new lens for sustainability analysis \n",
            "Given the widespread, growing interest in sustainable investing around the world, investors  \n",
            "need better tools to help them determine whether the investments they own or are considering for \n",
            "their portfolio reflect best sustainability practices. That’s why we’ve created the Morningstar \n",
            "Sustainability Rating™ for funds and sustainability scores based on ESG factors.\n",
            "To date, ESG research has taken place largely at the company level and has been made available  \n",
            "to asset managers and large institutional investors to help them incorporate ESG issues into  \n",
            "their investment process. Investors wanting to evaluate funds using these same sustainability \n",
            "factors, however, have had no easy way to do so. They can seek out funds with an intentional \n",
            "sustainability mandate, but ultimately must rely on the claims made by asset managers regarding \n",
            "their approach to sustainability. Morningstar’s Sustainability Scores and Ratings will provide  \n",
            "investors with a new set of tools to view and analyze investment portfolios through an ESG lens.\n",
            "Morningstar’s Portfolio Sustainability Score and Sustainability Rating:   \n",
            "A two-step process \n",
            "Morningstar first calculates a fund’s Portfolio Sustainability Score, which measures how well  \n",
            "the companies it holds are managing their ESG risks and opportunities. We are basing  \n",
            "the scores on research from Sustainalytics, a leading provider of company-level ESG research  \n",
            "and ratings. Sustainalytics delivers company ESG scores along with assessments of companies’ \n",
            "involvement in ESG-related controversies. Morningstar’s Portfolio Sustainability Score is an \n",
            "asset-weighted average of the company ESG scores with deductions made for holdings involved  \n",
            "in controversial incidents, or the Portfolio Controversy Score.\n",
            "In the next step, we assign a Morningstar Sustainability Rating, which is the Portfolio \n",
            "Sustainability Score relative to Morningstar Category peers. We assign the ratings along a bell \n",
            "curve distribution to five groups—Low, Below Average, Average, Above Average, and High— \n",
            "and depict them with corresponding globe icons (Low=1 globe; High=5 globes).\n",
            "The scores and ratings are not based on any absolute exclusions of products or industries.  \n",
            "We are basing them on Sustainalytics’ underlying research on how well companies manage their \n",
            "overall ESG issues relative to their industry peers. For a portfolio to receive a score, at least  \n",
            "50% of its assets must be in one of the more than 4,500 companies covered by Sustainalytics \n",
            "globally. Because Sustainalytics’ ESG analytics apply at the company level, Morningstar can score \n",
            "equities and corporate debt found in portfolios. To receive a Morningstar Sustainability Rating,  \n",
            "at least 10 funds in a Morningstar Category must also receive a Portfolio Sustainability Score.\n"
          ]
        }
      ],
      "source": [
        "print(retrieved_docs[1].page_content)"
      ]
    },
    {
      "cell_type": "markdown",
      "metadata": {
        "id": "z2PHFzF5MPsJ"
      },
      "source": [
        "### Implementing RAG Chain"
      ]
    },
    {
      "cell_type": "code",
      "execution_count": 94,
      "metadata": {
        "id": "0XQpy76qMPsK"
      },
      "outputs": [
        {
          "data": {
            "text/plain": [
              "PromptTemplate(input_variables=['context', 'question'], input_types={}, partial_variables={}, template='\\nAnswer this question using the provided context only. If the context does not have the content to answer the question, \\nsay context is irrelevant.\\nDo not make up the answer, do not provide answer from outside the context.\\n{question}\\n\\nContext:\\n{context}\\n')"
            ]
          },
          "execution_count": 94,
          "metadata": {},
          "output_type": "execute_result"
        }
      ],
      "source": [
        "from langchain_core.prompts import PromptTemplate\n",
        "from langchain_core.runnables import RunnablePassthrough\n",
        "\n",
        "message = \"\"\"\n",
        "Answer this question using the provided context only. If the context does not have the content to answer the question, \n",
        "say context is irrelevant.\n",
        "Do not make up the answer, do not provide answer from outside the context.\n",
        "{question}\n",
        "\n",
        "Context:\n",
        "{context}\n",
        "\"\"\"\n",
        "\n",
        "prompt = PromptTemplate.from_template(message)\n",
        "prompt"
      ]
    },
    {
      "cell_type": "code",
      "execution_count": 95,
      "metadata": {},
      "outputs": [
        {
          "data": {
            "text/plain": [
              "'tell me about mid cap market'"
            ]
          },
          "execution_count": 95,
          "metadata": {},
          "output_type": "execute_result"
        }
      ],
      "source": [
        "obj1 = RunnablePassthrough()\n",
        "obj1.invoke(\"tell me about mid cap market\")"
      ]
    },
    {
      "cell_type": "code",
      "execution_count": 96,
      "metadata": {},
      "outputs": [
        {
          "data": {
            "text/plain": [
              "[Document(id='2971241b-b336-4b94-90be-f988a53abc5e', metadata={'author': 'KBelapu', 'creator': 'PScript5.dll Version 5.2.2', 'total_pages': 12, 'creationdate': '2021-02-26T12:11:18+05:30', 'title': 'Microsoft Word - India Category_Definitions April 2021', 'source': 'https://www.morningstar.in/docs/methodology/CategoryDefinitionsIndiaV3.pdf', 'page_label': '1', 'producer': 'GPL Ghostscript 9.06', 'moddate': '2021-02-26T12:11:18+05:30', 'page': 0}, page_content='? \\n \\n \\n \\n \\n \\n \\n \\n \\n \\n \\n \\nCategor y Definitions  \\nIndia \\nEquity  \\n \\nLarge-Cap \\nLarge-Cap funds primarily consist of stocks which are the Top 100 stocks by full market capitalization  of \\nthe equity market. These funds invest at least 80% of total assets in Indian equities and the balance can \\nbe invested in other asset classes such as fixed income and overseas equities, among others. Funds in \\nthis category would invest at least 80% of their total assets in large-cap stocks. \\nMorningstar Category Index: S&P BSE 100 TR \\n \\nMid-Cap \\nMid-Cap funds primarily consist of stocks ranked 101st to 250th by full market capitalization of the \\nequity market. These funds invest at least 65% of total assets in Indian equities, and the balance can be \\ninvested in other asset classes such as fixed income and overseas equities, among others. Funds in this \\ncategory would invest at least 65% of their total assets in mid-cap stocks. \\nMorningstar Category Index: S&P BSE Mid Cap TR \\n \\nSmall-Cap \\nSmall-Cap funds primarily consist of stocks ranked 251st onwards by full market capitalization of the \\nequity market. These funds invest at least 65% of total assets in Indian equities, and the balance can be \\ninvested in other asset classes such as fixed income and overseas equities, among others. Funds in this \\ncategory would invest at least 65% of their total assets in small-cap stocks. \\nMorningstar Category Index: S&P BSE Small Cap TR \\n \\nFlexi Cap \\nFlexi Cap funds invest at least 65% of their total assets in Indian equities, and the balance can be \\ninvested in other asset classes such as fixed income and overseas equities, among others. These funds \\nwill invest into a mix of Large, Mid and small-cap stocks. \\nMorningstar Category Index: S&P BSE 500 TR \\n \\n \\n \\nMorningstar Research  \\nApril 2021'),\n",
              " Document(id='e4ced7bd-492f-480f-9272-cb4838be66db', metadata={'author': 'KBelapu', 'creationdate': '2021-02-26T12:11:18+05:30', 'producer': 'GPL Ghostscript 9.06', 'page_label': '2', 'total_pages': 12, 'title': 'Microsoft Word - India Category_Definitions April 2021', 'page': 1, 'source': 'https://www.morningstar.in/docs/methodology/CategoryDefinitionsIndiaV3.pdf', 'creator': 'PScript5.dll Version 5.2.2', 'moddate': '2021-02-26T12:11:18+05:30'}, page_content='©2019 Morningstar, Inc. All rights reserved. The information in this document is the property of Morningstar, Inc. Reproduction or transcription by any means, in whole or part, without  \\nthe prior written consent of Morningstar, Inc., is prohibited. \\nCategory Definitions , India  | 26 February 2021  Page 2 of 12  \\nMulti- Cap \\nMulti-Cap funds invest at least 75% of their total assets in Indian equities, and the balance can be \\ninvested in other asset classes such as fixed income and overseas equities, among others. These funds \\nwill invest a minimum of 25% each in Large Cap, Mid Cap and Small Cap stocks. \\nMorningstar Category Index: S&P BSE 500 TR \\n \\n \\nLarge & Mid- Cap \\nLarge & Mid-Cap funds primarily consist of stocks which are the Top 250 stocks by full market \\ncapitalization of the equity market. These funds invest at least 70% of total assets in Indian equities and \\nthe balance can be invested in other asset classes such as fixed income and overseas equities, among \\nothers. Funds in this category would invest at least 35% of their total assets in large-cap stocks and  35% \\nof their total assets in mid-cap stocks. \\nMorningstar Category Index: S&P BSE 200 TR \\n \\n \\nGlobal – Other \\nGlobal – Other funds include those funds that invest at least 65% of total assets in instruments issued by \\noverseas i.e. non-Indian companies. In addition, funds that invest at least 65% of total assets in \\nexchange traded funds, fund of funds domiciled outside India are also included in this category. \\n[Funds in this category do not receive a Morningstar Rating™ due to the diverse nature of the \\nconstituents.] \\n \\nELSS (Equity Linked Saving Schemes) \\nThese funds are notified as ELSS by SEBI under Section 10 (23D). Investments of up to Rs 150,000 in a \\nfinancial year in these funds are exempt from Income Tax under Section 80C of the Income Tax Act, \\n1961. Investments in ELSS are subject to a lock-in of three years from the date of investment. \\nMorningstar Category Index: S&P BSE 200 TR \\n \\nValue Funds   \\nValue funds invest at least 65% of their total assets in Indian equities, and the balance can be invested in \\nother asset classes such as fixed income and overseas equities, among others. These funds will \\npredominantly invest in value stocks. \\nMorningstar Category Index: S&P BSE 500 TR \\n \\nContra Funds  \\nContra funds invest at least 65% of their total assets in Indian equities, and the balance can be invested \\nin other asset classes such as fixed income and overseas equities, among others. These funds will \\npredominantly invest using a contrarian investment theme. \\nMorningstar Category Index: S&P BSE 500 TR')]"
            ]
          },
          "execution_count": 96,
          "metadata": {},
          "output_type": "execute_result"
        }
      ],
      "source": [
        "retriever.invoke(\"tell me about mid cap market\")"
      ]
    },
    {
      "cell_type": "code",
      "execution_count": 97,
      "metadata": {
        "id": "VPQbxI8pMPsK"
      },
      "outputs": [],
      "source": [
        "from langchain_openai import AzureChatOpenAI\n",
        "llm = AzureChatOpenAI(model=model_name)\n",
        "\n",
        "rag_chain = {\"context\": retriever, \"question\": RunnablePassthrough()} | prompt | llm\n"
      ]
    },
    {
      "cell_type": "code",
      "execution_count": 98,
      "metadata": {
        "id": "xsd3WlbdMPsK",
        "outputId": "06221bc1-e88e-4261-b2d1-a9db13892566"
      },
      "outputs": [
        {
          "name": "stdout",
          "output_type": "stream",
          "text": [
            "Mid-Cap funds primarily consist of stocks ranked 101st to 250th by full market capitalization of the equity market. These funds invest at least 65% of total assets in Indian equities, and the balance can be invested in other asset classes such as fixed income and overseas equities, among others. Funds in this category are required to invest at least 65% of their total assets in mid-cap stocks. The Morningstar Category Index for Mid-Cap funds is the S&P BSE Mid Cap TR.\n"
          ]
        }
      ],
      "source": [
        "response = rag_chain.invoke(\"tell me about mid cap market\")\n",
        "\n",
        "print(response.content)"
      ]
    },
    {
      "cell_type": "markdown",
      "metadata": {},
      "source": [
        "## RAG Chain with Langgraph - with Routing"
      ]
    },
    {
      "cell_type": "code",
      "execution_count": 99,
      "metadata": {
        "id": "UoumLqEn7QNf"
      },
      "outputs": [],
      "source": [
        "from typing_extensions import List, TypedDict\n",
        "from langchain_core.documents import Document\n",
        "\n",
        "class mystate(TypedDict):\n",
        "    question:str\n",
        "    context: List[Document]\n",
        "    answer: str"
      ]
    },
    {
      "cell_type": "code",
      "execution_count": 103,
      "metadata": {
        "id": "X5rhhNSE7Q50"
      },
      "outputs": [],
      "source": [
        "# retriever node\n",
        "def retrieve(state:mystate)->mystate:\n",
        "    retrieved_docs =  retriever.invoke(state['question'])\n",
        "    return {\"context\":retrieved_docs}\n",
        "\n",
        "\n",
        "# generation node\n",
        "def generate(state:mystate)->mystate:\n",
        "    doc_content = \"\\n\\n\".join(doc.page_content for doc in state['context'])\n",
        "    messages = prompt.invoke({\"question\":state['question'],\"context\":doc_content})\n",
        "    response = llm.invoke(messages)\n",
        "    return {\"answer\":response.content}\n"
      ]
    },
    {
      "cell_type": "code",
      "execution_count": 104,
      "metadata": {},
      "outputs": [
        {
          "data": {
            "image/png": "[encoded data removed]",
            "text/plain": [
              "<langgraph.graph.state.CompiledStateGraph object at 0x70f41777efc0>"
            ]
          },
          "execution_count": 104,
          "metadata": {},
          "output_type": "execute_result"
        }
      ],
      "source": [
        "from langgraph.graph import START, StateGraph\n",
        "\n",
        "builder = StateGraph(mystate)\n",
        "builder.add_sequence([retrieve,generate])\n",
        "builder.add_edge(START,\"retrieve\")\n",
        "graph = builder.compile()\n",
        "graph"
      ]
    },
    {
      "cell_type": "code",
      "execution_count": 105,
      "metadata": {},
      "outputs": [
        {
          "data": {
            "text/plain": [
              "{'question': 'what is large cap equity fund?',\n",
              " 'context': [Document(id='2971241b-b336-4b94-90be-f988a53abc5e', metadata={'page_label': '1', 'moddate': '2021-02-26T12:11:18+05:30', 'author': 'KBelapu', 'producer': 'GPL Ghostscript 9.06', 'creationdate': '2021-02-26T12:11:18+05:30', 'total_pages': 12, 'title': 'Microsoft Word - India Category_Definitions April 2021', 'creator': 'PScript5.dll Version 5.2.2', 'page': 0, 'source': 'https://www.morningstar.in/docs/methodology/CategoryDefinitionsIndiaV3.pdf'}, page_content='? \\n \\n \\n \\n \\n \\n \\n \\n \\n \\n \\n \\nCategor y Definitions  \\nIndia \\nEquity  \\n \\nLarge-Cap \\nLarge-Cap funds primarily consist of stocks which are the Top 100 stocks by full market capitalization  of \\nthe equity market. These funds invest at least 80% of total assets in Indian equities and the balance can \\nbe invested in other asset classes such as fixed income and overseas equities, among others. Funds in \\nthis category would invest at least 80% of their total assets in large-cap stocks. \\nMorningstar Category Index: S&P BSE 100 TR \\n \\nMid-Cap \\nMid-Cap funds primarily consist of stocks ranked 101st to 250th by full market capitalization of the \\nequity market. These funds invest at least 65% of total assets in Indian equities, and the balance can be \\ninvested in other asset classes such as fixed income and overseas equities, among others. Funds in this \\ncategory would invest at least 65% of their total assets in mid-cap stocks. \\nMorningstar Category Index: S&P BSE Mid Cap TR \\n \\nSmall-Cap \\nSmall-Cap funds primarily consist of stocks ranked 251st onwards by full market capitalization of the \\nequity market. These funds invest at least 65% of total assets in Indian equities, and the balance can be \\ninvested in other asset classes such as fixed income and overseas equities, among others. Funds in this \\ncategory would invest at least 65% of their total assets in small-cap stocks. \\nMorningstar Category Index: S&P BSE Small Cap TR \\n \\nFlexi Cap \\nFlexi Cap funds invest at least 65% of their total assets in Indian equities, and the balance can be \\ninvested in other asset classes such as fixed income and overseas equities, among others. These funds \\nwill invest into a mix of Large, Mid and small-cap stocks. \\nMorningstar Category Index: S&P BSE 500 TR \\n \\n \\n \\nMorningstar Research  \\nApril 2021'),\n",
              "  Document(id='e4ced7bd-492f-480f-9272-cb4838be66db', metadata={'page_label': '2', 'author': 'KBelapu', 'producer': 'GPL Ghostscript 9.06', 'total_pages': 12, 'source': 'https://www.morningstar.in/docs/methodology/CategoryDefinitionsIndiaV3.pdf', 'title': 'Microsoft Word - India Category_Definitions April 2021', 'creationdate': '2021-02-26T12:11:18+05:30', 'moddate': '2021-02-26T12:11:18+05:30', 'page': 1, 'creator': 'PScript5.dll Version 5.2.2'}, page_content='©2019 Morningstar, Inc. All rights reserved. The information in this document is the property of Morningstar, Inc. Reproduction or transcription by any means, in whole or part, without  \\nthe prior written consent of Morningstar, Inc., is prohibited. \\nCategory Definitions , India  | 26 February 2021  Page 2 of 12  \\nMulti- Cap \\nMulti-Cap funds invest at least 75% of their total assets in Indian equities, and the balance can be \\ninvested in other asset classes such as fixed income and overseas equities, among others. These funds \\nwill invest a minimum of 25% each in Large Cap, Mid Cap and Small Cap stocks. \\nMorningstar Category Index: S&P BSE 500 TR \\n \\n \\nLarge & Mid- Cap \\nLarge & Mid-Cap funds primarily consist of stocks which are the Top 250 stocks by full market \\ncapitalization of the equity market. These funds invest at least 70% of total assets in Indian equities and \\nthe balance can be invested in other asset classes such as fixed income and overseas equities, among \\nothers. Funds in this category would invest at least 35% of their total assets in large-cap stocks and  35% \\nof their total assets in mid-cap stocks. \\nMorningstar Category Index: S&P BSE 200 TR \\n \\n \\nGlobal – Other \\nGlobal – Other funds include those funds that invest at least 65% of total assets in instruments issued by \\noverseas i.e. non-Indian companies. In addition, funds that invest at least 65% of total assets in \\nexchange traded funds, fund of funds domiciled outside India are also included in this category. \\n[Funds in this category do not receive a Morningstar Rating™ due to the diverse nature of the \\nconstituents.] \\n \\nELSS (Equity Linked Saving Schemes) \\nThese funds are notified as ELSS by SEBI under Section 10 (23D). Investments of up to Rs 150,000 in a \\nfinancial year in these funds are exempt from Income Tax under Section 80C of the Income Tax Act, \\n1961. Investments in ELSS are subject to a lock-in of three years from the date of investment. \\nMorningstar Category Index: S&P BSE 200 TR \\n \\nValue Funds   \\nValue funds invest at least 65% of their total assets in Indian equities, and the balance can be invested in \\nother asset classes such as fixed income and overseas equities, among others. These funds will \\npredominantly invest in value stocks. \\nMorningstar Category Index: S&P BSE 500 TR \\n \\nContra Funds  \\nContra funds invest at least 65% of their total assets in Indian equities, and the balance can be invested \\nin other asset classes such as fixed income and overseas equities, among others. These funds will \\npredominantly invest using a contrarian investment theme. \\nMorningstar Category Index: S&P BSE 500 TR')],\n",
              " 'answer': 'A large cap equity fund primarily consists of stocks which are the top 100 stocks by full market capitalization of the equity market. These funds invest at least 80% of their total assets in Indian equities, with the balance potentially allocated to other asset classes such as fixed income and overseas equities.'}"
            ]
          },
          "execution_count": 105,
          "metadata": {},
          "output_type": "execute_result"
        }
      ],
      "source": [
        "response = graph.invoke({\"question\":\"what is large cap equity fund?\"})\n",
        "response"
      ]
    },
    {
      "cell_type": "code",
      "execution_count": null,
      "metadata": {},
      "outputs": [],
      "source": []
    }
  ],
  "metadata": {
    "colab": {
      "include_colab_link": true,
      "provenance": []
    },
    "kernelspec": {
      "display_name": "genai",
      "language": "python",
      "name": "python3"
    },
    "language_info": {
      "codemirror_mode": {
        "name": "ipython",
        "version": 3
      },
      "file_extension": ".py",
      "mimetype": "text/x-python",
      "name": "python",
      "nbconvert_exporter": "python",
      "pygments_lexer": "ipython3",
      "version": "3.12.3"
    }
  },
  "nbformat": 4,
  "nbformat_minor": 0
}
