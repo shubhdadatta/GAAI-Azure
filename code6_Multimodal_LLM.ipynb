{
  "cells": [
    {
      "cell_type": "markdown",
      "metadata": {
        "id": "l2QLBDf4-O6E"
      },
      "source": [
        "# Multimodal Prompting with GPT-4 Vision"
      ]
    },
    {
      "cell_type": "code",
      "execution_count": 2,
      "metadata": {
        "id": "DQhMOsGo84h6"
      },
      "outputs": [],
      "source": [
        "import os\n",
        "import requests\n",
        "import base64"
      ]
    },
    {
      "cell_type": "code",
      "execution_count": 9,
      "metadata": {
        "id": "CAngBvw_85aK"
      },
      "outputs": [],
      "source": [
        "\n",
        "model_name=\"gpt4o\"\n",
        "azure_endpoint = os.environ['AZURE_OPENAI_ENDPOINT']\n",
        "api_version=os.environ['AZURE_OPENAI_API_VERSION']"
      ]
    },
    {
      "cell_type": "code",
      "execution_count": 4,
      "metadata": {},
      "outputs": [],
      "source": [
        "!wget -q https://raw.githubusercontent.com/anshupandey/ms-generativeai-apr2025/refs/heads/main/generative-ai_image_covid_chart.png -O generative-ai_image_covid_chart.png"
      ]
    },
    {
      "cell_type": "code",
      "execution_count": 10,
      "metadata": {
        "id": "_mmt3BME9JsB"
      },
      "outputs": [],
      "source": [
        "\n",
        "# Configuration\n",
        "GPT4V_KEY = os.environ['AZURE_OPENAI_API_KEY']\n",
        "IMAGE_PATH = \"generative-ai_image_covid_chart.png\"\n",
        "GPT4V_ENDPOINT = f\"{azure_endpoint}openai/deployments/{model_name}/chat/completions?api-version={api_version}\"\n",
        "encoded_image = base64.b64encode(open(IMAGE_PATH, 'rb').read()).decode('ascii')\n",
        "headers = {\n",
        "    \"Content-Type\": \"application/json\",\n",
        "    \"api-key\": GPT4V_KEY,\n",
        "}\n"
      ]
    },
    {
      "cell_type": "code",
      "execution_count": 12,
      "metadata": {
        "colab": {
          "base_uri": "https://localhost:8080/"
        },
        "id": "KvzhDZMX8kUS",
        "outputId": "0993814e-dce8-49f2-e943-fc44f5b247b8"
      },
      "outputs": [
        {
          "ename": "SystemExit",
          "evalue": "Failed to make the request. Error: 429 Client Error: Too Many Requests for url: https://eastus.api.cognitive.microsoft.com/openai/deployments/gpt4o/chat/completions?api-version=2024-08-01-preview",
          "output_type": "error",
          "traceback": [
            "An exception has occurred, use %tb to see the full traceback.\n",
            "\u001b[31mSystemExit\u001b[39m\u001b[31m:\u001b[39m Failed to make the request. Error: 429 Client Error: Too Many Requests for url: https://eastus.api.cognitive.microsoft.com/openai/deployments/gpt4o/chat/completions?api-version=2024-08-01-preview\n"
          ]
        }
      ],
      "source": [
        "\n",
        "\n",
        "# Payload for the request\n",
        "payload = {\n",
        "  \"messages\": [ {\"role\": \"system\", \"content\": [{ \"type\": \"text\",\n",
        "          \"text\": \"You are an AI assistant that helps people find information.\"}]},\n",
        "    {\"role\": \"user\",\"content\": [{\"type\": \"image_url\",\n",
        "                                 \"image_url\": {\"url\": f\"data:image/jpeg;base64,{encoded_image}\"}},\n",
        "        {\"type\": \"text\",\"text\": \"explain this image\"}]},\n",
        "  ],\n",
        "  \"temperature\": 0.7,\n",
        "  \"top_p\": 0.95,\n",
        "  \"max_tokens\": 800\n",
        "}\n",
        "\n",
        "# Send request\n",
        "try:\n",
        "    response = requests.post(GPT4V_ENDPOINT, headers=headers, json=payload)\n",
        "    response.raise_for_status()  # Will raise an HTTPError if the HTTP request returned an unsuccessful status code\n",
        "except requests.RequestException as e:\n",
        "    raise SystemExit(f\"Failed to make the request. Error: {e}\")\n",
        "\n",
        "# Handle the response as needed (e.g., print or process)\n",
        "print(response.json()['choices'][0]['message']['content'])"
      ]
    },
    {
      "cell_type": "code",
      "execution_count": 13,
      "metadata": {
        "id": "7g12NsHB-Bd_"
      },
      "outputs": [
        {
          "ename": "SystemExit",
          "evalue": "Failed to make the request. Error: 429 Client Error: Too Many Requests for url: https://eastus.api.cognitive.microsoft.com/openai/deployments/gpt4o/chat/completions?api-version=2024-08-01-preview",
          "output_type": "error",
          "traceback": [
            "An exception has occurred, use %tb to see the full traceback.\n",
            "\u001b[31mSystemExit\u001b[39m\u001b[31m:\u001b[39m Failed to make the request. Error: 429 Client Error: Too Many Requests for url: https://eastus.api.cognitive.microsoft.com/openai/deployments/gpt4o/chat/completions?api-version=2024-08-01-preview\n"
          ]
        }
      ],
      "source": [
        "\n",
        "\n",
        "# Payload for the request\n",
        "payload = {\n",
        "  \"messages\": [ {\"role\": \"system\", \"content\": [{ \"type\": \"text\",\n",
        "          \"text\": \"You are an AI assistant that helps people find information.\"}]},\n",
        "    {\"role\": \"user\",\"content\": [{\"type\": \"image_url\",\n",
        "                                 \"image_url\": {\"url\": f\"data:image/jpeg;base64,{encoded_image}\"}},\n",
        "        {\"type\": \"text\",\"text\": \"extract the statistics from the image and provide as markdown table\"}]},\n",
        "  ],\n",
        "  \"temperature\": 0.7,\n",
        "  \"top_p\": 0.95,\n",
        "  \"max_tokens\": 800\n",
        "}\n",
        "\n",
        "# Send request\n",
        "try:\n",
        "    response = requests.post(GPT4V_ENDPOINT, headers=headers, json=payload)\n",
        "    response.raise_for_status()  # Will raise an HTTPError if the HTTP request returned an unsuccessful status code\n",
        "except requests.RequestException as e:\n",
        "    raise SystemExit(f\"Failed to make the request. Error: {e}\")\n",
        "\n",
        "# Handle the response as needed (e.g., print or process)\n",
        "print(response.json()['choices'][0]['message']['content'])"
      ]
    },
    {
      "cell_type": "code",
      "execution_count": 14,
      "metadata": {},
      "outputs": [],
      "source": [
        "from openai import AzureOpenAI\n",
        "client = AzureOpenAI()"
      ]
    },
    {
      "cell_type": "code",
      "execution_count": 15,
      "metadata": {},
      "outputs": [],
      "source": [
        "def encoded_image(imag_path):\n",
        "    with open(imag_path,'rb') as imgfile:\n",
        "        return base64.b64encode(imgfile.read()).decode(\"utf-8\")\n",
        "    \n",
        "img = \"generative-ai_image_covid_chart.png\"\n",
        "b64img = encoded_image(img)"
      ]
    },
    {
      "cell_type": "code",
      "execution_count": 17,
      "metadata": {},
      "outputs": [],
      "source": [
        "response = client.chat.completions.create(model='gpt4o',\n",
        "                                          messages=[ {\"role\": \"system\", \"content\": [{ \"type\": \"text\",\n",
        "          \"text\": \"You are an AI assistant that helps people find information.\"}]},\n",
        "    {\"role\": \"user\",\"content\": [{\"type\": \"image_url\",\n",
        "                                 \"image_url\": {\"url\": f\"data:image/jpeg;base64,{b64img}\"}},\n",
        "        {\"type\": \"text\",\"text\": \"explain the image\"}]},\n",
        "  ],)\n"
      ]
    },
    {
      "cell_type": "code",
      "execution_count": 18,
      "metadata": {},
      "outputs": [
        {
          "name": "stdout",
          "output_type": "stream",
          "text": [
            "The image is a bar chart that represents the share of people vaccinated against COVID-19 in various countries as of September 2, 2021. It differentiates between two categories: the percentage of the population that is fully vaccinated (displayed in dark green) and the percentage that is only partly vaccinated (shown in lighter green).\n",
            "\n",
            "Here are the key points from the chart:\n",
            "\n",
            "1. **Countries Listed**: The chart includes China, Italy, Germany, the United States, Mexico, Taiwan, India, Thailand, Indonesia, and Vietnam.\n",
            "\n",
            "2. **Fully Vaccinated Share**: As of the date, China has the highest percentage of fully vaccinated individuals at 74%, followed by Italy (71%) and Germany (60%).\n",
            "\n",
            "3. **Partly Vaccinated Share**: In general, the countries show a range of people who are only partly vaccinated. For example, the United States has 61% fully vaccinated and 9.3% partly vaccinated. \n",
            "\n",
            "4. **Lower Vaccination Rates**: Countries like Vietnam and Indonesia show significantly lower vaccination rates, with Vietnam having only 2.8% fully vaccinated.\n",
            "\n",
            "5. **Comparison of Nations**: The chart allows for easy comparison between countries regarding their vaccination progress, highlighting differences in public health responses and vaccine accessibility.\n",
            "\n",
            "Overall, this visual conveys the varied levels of vaccination achieved across different nations at a specific point in time during the COVID-19 pandemic. It signifies the ongoing public health efforts and challenges in global vaccination campaigns.\n"
          ]
        }
      ],
      "source": [
        "print(response.choices[0].message.content)"
      ]
    },
    {
      "cell_type": "code",
      "execution_count": 19,
      "metadata": {},
      "outputs": [],
      "source": [
        "response = client.chat.completions.create(model='gpt4o',\n",
        "                                          messages=[ {\"role\": \"system\", \"content\": [{ \"type\": \"text\",\n",
        "          \"text\": \"You are an AI assistant that helps people find information.\"}]},\n",
        "    {\"role\": \"user\",\"content\": [{\"type\": \"image_url\",\n",
        "                                 \"image_url\": {\"url\": f\"data:image/jpeg;base64,{b64img}\"}},\n",
        "        {\"type\": \"text\",\"text\": \"extract the statistics from the image and provide as markdown table\"}]},\n",
        "  ],)\n"
      ]
    },
    {
      "cell_type": "code",
      "execution_count": 20,
      "metadata": {},
      "outputs": [
        {
          "name": "stdout",
          "output_type": "stream",
          "text": [
            "Here is the data extracted from the image in a markdown table format:\n",
            "\n",
            "```markdown\n",
            "| Country        | Fully Vaccinated (%) | Partly Vaccinated (%) |\n",
            "|----------------|---------------------|----------------------|\n",
            "| China          | 74                  | 13                   |\n",
            "| Italy          | 71                  | 9.7                  |\n",
            "| Germany        | 60                  | 4.5                  |\n",
            "| United States  | 52                  | 9.3                  |\n",
            "| Mexico         | 18                  | 45                   |\n",
            "| Taiwan         | 38                  | 42                   |\n",
            "| India          | 26                  | 37                   |\n",
            "| Thailand       | 22                  | 33                   |\n",
            "| Indonesia      | 10                  | 24                   |\n",
            "| Vietnam        | 15                  | 18                   |\n",
            "```\n",
            "\n"
          ]
        }
      ],
      "source": [
        "print(response.choices[0].message.content)"
      ]
    },
    {
      "cell_type": "code",
      "execution_count": 22,
      "metadata": {},
      "outputs": [
        {
          "name": "stdout",
          "output_type": "stream",
          "text": [
            "Requirement already satisfied: pillow in ./genai/lib/python3.12/site-packages (11.3.0)\n"
          ]
        }
      ],
      "source": [
        "!python -m pip install pillow"
      ]
    },
    {
      "cell_type": "code",
      "execution_count": null,
      "metadata": {},
      "outputs": [],
      "source": [
        "from PIL import Image\n",
        "import requests\n",
        "from io import BytesIO\n",
        "\n",
        "# URL of the image\n",
        "image_url = \"https://images.pexels.com/photos/1119078/pexels-photo-1119078.jpeg\"\n",
        "\n",
        "# Fetch the image\n",
        "response = requests.get(image_url)\n",
        "img = Image.open(BytesIO(response.content))\n",
        "\n",
        "# Display the image\n",
        "img\n"
      ]
    },
    {
      "cell_type": "markdown",
      "metadata": {
        "id": "rtw9yI_Z-MQ7"
      },
      "source": [
        "## Thank You"
      ]
    }
  ],
  "metadata": {
    "colab": {
      "authorship_tag": "ABX9TyPWqFd6B14Wve9ZoJe6JP1l",
      "provenance": []
    },
    "kernelspec": {
      "display_name": "genai",
      "language": "python",
      "name": "python3"
    },
    "language_info": {
      "codemirror_mode": {
        "name": "ipython",
        "version": 3
      },
      "file_extension": ".py",
      "mimetype": "text/x-python",
      "name": "python",
      "nbconvert_exporter": "python",
      "pygments_lexer": "ipython3",
      "version": "3.12.3"
    }
  },
  "nbformat": 4,
  "nbformat_minor": 0
}
